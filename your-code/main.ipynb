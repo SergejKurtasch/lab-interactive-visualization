{
 "cells": [
  {
   "cell_type": "markdown",
   "metadata": {},
   "source": [
    "# Interactive Visualization Lab\n",
    "\n",
    "Complete the following set of exercises to solidify your knowledge of interactive visualization using Plotly, Cufflinks, and IPyWidgets."
   ]
  },
  {
   "cell_type": "code",
   "execution_count": 1,
   "metadata": {},
   "outputs": [
    {
     "name": "stderr",
     "output_type": "stream",
     "text": [
      "/Users/sergej/Library/Python/3.9/lib/python/site-packages/urllib3/__init__.py:35: NotOpenSSLWarning: urllib3 v2 only supports OpenSSL 1.1.1+, currently the 'ssl' module is compiled with 'LibreSSL 2.8.3'. See: https://github.com/urllib3/urllib3/issues/3020\n",
      "  warnings.warn(\n"
     ]
    },
    {
     "data": {
      "text/html": [
       "        <script type=\"text/javascript\">\n",
       "        window.PlotlyConfig = {MathJaxConfig: 'local'};\n",
       "        if (window.MathJax && window.MathJax.Hub && window.MathJax.Hub.Config) {window.MathJax.Hub.Config({SVG: {font: \"STIX-Web\"}});}\n",
       "        </script>\n",
       "        <script type=\"module\">import \"https://cdn.plot.ly/plotly-3.0.1.min\"</script>\n",
       "        "
      ]
     },
     "metadata": {},
     "output_type": "display_data"
    }
   ],
   "source": [
    "import pandas as pd\n",
    "import chart_studio.plotly as py\n",
    "import cufflinks as cf\n",
    "from ipywidgets import interact\n",
    "import ipywidgets as widgets\n",
    "import plotly.express as px\n",
    "import dash\n",
    "from dash import dcc, html, Input, Output\n",
    "\n",
    "import plotly.graph_objects as go\n",
    "\n",
    "from IPython.display import display\n",
    "\n",
    "\n",
    "cf.go_offline()"
   ]
  },
  {
   "cell_type": "code",
   "execution_count": 2,
   "metadata": {},
   "outputs": [],
   "source": [
    "data = pd.read_excel('../data/Online Retail.xlsx')"
   ]
  },
  {
   "cell_type": "code",
   "execution_count": 3,
   "metadata": {},
   "outputs": [],
   "source": [
    "data.drop_duplicates(inplace=True)"
   ]
  },
  {
   "cell_type": "code",
   "execution_count": 4,
   "metadata": {},
   "outputs": [
    {
     "data": {
      "text/html": [
       "<div>\n",
       "<style scoped>\n",
       "    .dataframe tbody tr th:only-of-type {\n",
       "        vertical-align: middle;\n",
       "    }\n",
       "\n",
       "    .dataframe tbody tr th {\n",
       "        vertical-align: top;\n",
       "    }\n",
       "\n",
       "    .dataframe thead th {\n",
       "        text-align: right;\n",
       "    }\n",
       "</style>\n",
       "<table border=\"1\" class=\"dataframe\">\n",
       "  <thead>\n",
       "    <tr style=\"text-align: right;\">\n",
       "      <th></th>\n",
       "      <th>InvoiceNo</th>\n",
       "      <th>InvoiceDate</th>\n",
       "      <th>StockCode</th>\n",
       "      <th>Description</th>\n",
       "      <th>Quantity</th>\n",
       "      <th>UnitPrice</th>\n",
       "      <th>Revenue</th>\n",
       "      <th>CustomerID</th>\n",
       "      <th>Country</th>\n",
       "    </tr>\n",
       "  </thead>\n",
       "  <tbody>\n",
       "    <tr>\n",
       "      <th>0</th>\n",
       "      <td>536365</td>\n",
       "      <td>2010-12-01 08:26:00</td>\n",
       "      <td>85123A</td>\n",
       "      <td>CREAM HANGING HEART T-LIGHT HOLDER</td>\n",
       "      <td>6</td>\n",
       "      <td>2.55</td>\n",
       "      <td>15.3</td>\n",
       "      <td>17850</td>\n",
       "      <td>United Kingdom</td>\n",
       "    </tr>\n",
       "    <tr>\n",
       "      <th>1</th>\n",
       "      <td>536373</td>\n",
       "      <td>2010-12-01 09:02:00</td>\n",
       "      <td>85123A</td>\n",
       "      <td>CREAM HANGING HEART T-LIGHT HOLDER</td>\n",
       "      <td>6</td>\n",
       "      <td>2.55</td>\n",
       "      <td>15.3</td>\n",
       "      <td>17850</td>\n",
       "      <td>United Kingdom</td>\n",
       "    </tr>\n",
       "    <tr>\n",
       "      <th>2</th>\n",
       "      <td>536375</td>\n",
       "      <td>2010-12-01 09:32:00</td>\n",
       "      <td>85123A</td>\n",
       "      <td>CREAM HANGING HEART T-LIGHT HOLDER</td>\n",
       "      <td>6</td>\n",
       "      <td>2.55</td>\n",
       "      <td>15.3</td>\n",
       "      <td>17850</td>\n",
       "      <td>United Kingdom</td>\n",
       "    </tr>\n",
       "    <tr>\n",
       "      <th>3</th>\n",
       "      <td>536390</td>\n",
       "      <td>2010-12-01 10:19:00</td>\n",
       "      <td>85123A</td>\n",
       "      <td>CREAM HANGING HEART T-LIGHT HOLDER</td>\n",
       "      <td>64</td>\n",
       "      <td>2.55</td>\n",
       "      <td>163.2</td>\n",
       "      <td>17511</td>\n",
       "      <td>United Kingdom</td>\n",
       "    </tr>\n",
       "    <tr>\n",
       "      <th>4</th>\n",
       "      <td>536394</td>\n",
       "      <td>2010-12-01 10:39:00</td>\n",
       "      <td>85123A</td>\n",
       "      <td>CREAM HANGING HEART T-LIGHT HOLDER</td>\n",
       "      <td>32</td>\n",
       "      <td>2.55</td>\n",
       "      <td>81.6</td>\n",
       "      <td>13408</td>\n",
       "      <td>United Kingdom</td>\n",
       "    </tr>\n",
       "  </tbody>\n",
       "</table>\n",
       "</div>"
      ],
      "text/plain": [
       "   InvoiceNo         InvoiceDate StockCode  \\\n",
       "0     536365 2010-12-01 08:26:00    85123A   \n",
       "1     536373 2010-12-01 09:02:00    85123A   \n",
       "2     536375 2010-12-01 09:32:00    85123A   \n",
       "3     536390 2010-12-01 10:19:00    85123A   \n",
       "4     536394 2010-12-01 10:39:00    85123A   \n",
       "\n",
       "                          Description  Quantity  UnitPrice  Revenue  \\\n",
       "0  CREAM HANGING HEART T-LIGHT HOLDER         6       2.55     15.3   \n",
       "1  CREAM HANGING HEART T-LIGHT HOLDER         6       2.55     15.3   \n",
       "2  CREAM HANGING HEART T-LIGHT HOLDER         6       2.55     15.3   \n",
       "3  CREAM HANGING HEART T-LIGHT HOLDER        64       2.55    163.2   \n",
       "4  CREAM HANGING HEART T-LIGHT HOLDER        32       2.55     81.6   \n",
       "\n",
       "   CustomerID         Country  \n",
       "0       17850  United Kingdom  \n",
       "1       17850  United Kingdom  \n",
       "2       17850  United Kingdom  \n",
       "3       17511  United Kingdom  \n",
       "4       13408  United Kingdom  "
      ]
     },
     "execution_count": 4,
     "metadata": {},
     "output_type": "execute_result"
    }
   ],
   "source": [
    "data['InvoiceDate'] = pd.to_datetime(data['InvoiceDate'])\n",
    "\n",
    "data.head()"
   ]
  },
  {
   "cell_type": "markdown",
   "metadata": {},
   "source": [
    "## 1. Create an interactive bar chart showing total quantity and revenue by country (excluding United Kingdom) for the month of April 2011."
   ]
  },
  {
   "cell_type": "code",
   "execution_count": 5,
   "metadata": {},
   "outputs": [
    {
     "data": {
      "text/html": [
       "<div>\n",
       "<style scoped>\n",
       "    .dataframe tbody tr th:only-of-type {\n",
       "        vertical-align: middle;\n",
       "    }\n",
       "\n",
       "    .dataframe tbody tr th {\n",
       "        vertical-align: top;\n",
       "    }\n",
       "\n",
       "    .dataframe thead th {\n",
       "        text-align: right;\n",
       "    }\n",
       "</style>\n",
       "<table border=\"1\" class=\"dataframe\">\n",
       "  <thead>\n",
       "    <tr style=\"text-align: right;\">\n",
       "      <th></th>\n",
       "      <th>Country</th>\n",
       "      <th>Quantity</th>\n",
       "      <th>Revenue</th>\n",
       "    </tr>\n",
       "  </thead>\n",
       "  <tbody>\n",
       "    <tr>\n",
       "      <th>0</th>\n",
       "      <td>Australia</td>\n",
       "      <td>224</td>\n",
       "      <td>421.60</td>\n",
       "    </tr>\n",
       "    <tr>\n",
       "      <th>1</th>\n",
       "      <td>Austria</td>\n",
       "      <td>308</td>\n",
       "      <td>584.78</td>\n",
       "    </tr>\n",
       "    <tr>\n",
       "      <th>2</th>\n",
       "      <td>Belgium</td>\n",
       "      <td>1170</td>\n",
       "      <td>1788.48</td>\n",
       "    </tr>\n",
       "    <tr>\n",
       "      <th>3</th>\n",
       "      <td>Brazil</td>\n",
       "      <td>356</td>\n",
       "      <td>1143.60</td>\n",
       "    </tr>\n",
       "    <tr>\n",
       "      <th>4</th>\n",
       "      <td>Channel Islands</td>\n",
       "      <td>96</td>\n",
       "      <td>243.00</td>\n",
       "    </tr>\n",
       "  </tbody>\n",
       "</table>\n",
       "</div>"
      ],
      "text/plain": [
       "           Country  Quantity  Revenue\n",
       "0        Australia       224   421.60\n",
       "1          Austria       308   584.78\n",
       "2          Belgium      1170  1788.48\n",
       "3           Brazil       356  1143.60\n",
       "4  Channel Islands        96   243.00"
      ]
     },
     "execution_count": 5,
     "metadata": {},
     "output_type": "execute_result"
    }
   ],
   "source": [
    "data_april_2011 = data[\n",
    "    (data['InvoiceDate'].dt.year == 2011) & \n",
    "    (data['InvoiceDate'].dt.month == 4) & \n",
    "    (data['Country'] != 'United Kingdom')\n",
    "]\n",
    "\n",
    "agg_data_april_2011 = data_april_2011.groupby('Country').agg({'Quantity': 'sum', 'Revenue': 'sum'}).reset_index()\n",
    "agg_data_april_2011.head()"
   ]
  },
  {
   "cell_type": "code",
   "execution_count": 6,
   "metadata": {},
   "outputs": [
    {
     "data": {
      "application/vnd.plotly.v1+json": {
       "config": {
        "plotlyServerURL": "https://plot.ly"
       },
       "data": [
        {
         "alignmentgroup": "True",
         "hovertemplate": "variable=Revenue<br>Country=%{x}<br>value=%{y}<extra></extra>",
         "legendgroup": "Revenue",
         "marker": {
          "color": "#636efa",
          "pattern": {
           "shape": ""
          }
         },
         "name": "Revenue",
         "offsetgroup": "Revenue",
         "orientation": "v",
         "showlegend": true,
         "textposition": "auto",
         "type": "bar",
         "x": [
          "Australia",
          "Austria",
          "Belgium",
          "Brazil",
          "Channel Islands",
          "EIRE",
          "Finland",
          "France",
          "Germany",
          "Greece",
          "Iceland",
          "Italy",
          "Japan",
          "Netherlands",
          "Poland",
          "Portugal",
          "Singapore",
          "Spain",
          "Sweden",
          "Switzerland",
          "USA"
         ],
         "xaxis": "x",
         "y": {
          "bdata": "mpmZmZlZekAK16NwPUaCQFK4HoXr8ZtAZmZmZmbekUAAAAAAAGBuQAAAAACAZrxASOF6FK5jlUCF61G4nnauQOxRuB5lecVApHA9Ctfbf0AAAAAAAOKDQHE9CtejDodAAAAAAICUuUCF61G4Ho2mQB6F61G4DoZAAAAAAABfmkAUrkfheo2gQJqZmZmZtplAzczMzMxIhED2KFyPwnObQDMzMzMz/3dA",
          "dtype": "f8"
         },
         "yaxis": "y"
        },
        {
         "alignmentgroup": "True",
         "hovertemplate": "variable=Quantity<br>Country=%{x}<br>value=%{y}<extra></extra>",
         "legendgroup": "Quantity",
         "marker": {
          "color": "#EF553B",
          "pattern": {
           "shape": ""
          }
         },
         "name": "Quantity",
         "offsetgroup": "Quantity",
         "orientation": "v",
         "showlegend": true,
         "textposition": "auto",
         "type": "bar",
         "x": [
          "Australia",
          "Austria",
          "Belgium",
          "Brazil",
          "Channel Islands",
          "EIRE",
          "Finland",
          "France",
          "Germany",
          "Greece",
          "Iceland",
          "Italy",
          "Japan",
          "Netherlands",
          "Poland",
          "Portugal",
          "Singapore",
          "Spain",
          "Sweden",
          "Switzerland",
          "USA"
         ],
         "xaxis": "x",
         "y": {
          "bdata": "AAAAAAAAbEAAAAAAAEBzQAAAAAAASJJAAAAAAABAdkAAAAAAAABYQAAAAAAAIbBAAAAAAABQiUAAAAAAALKhQAAAAAAARrZAAAAAAABAcEAAAAAAADB+QAAAAAAAaIRAAAAAAAB6v0AAAAAAAIibQAAAAAAAAHtAAAAAAAC4jUAAAAAAAKCVQAAAAAAAoI1AAAAAAAAgc0AAAAAAAHCLQAAAAAAAIGFA",
          "dtype": "f8"
         },
         "yaxis": "y"
        }
       ],
       "layout": {
        "barmode": "group",
        "legend": {
         "title": {
          "text": "variable"
         },
         "tracegroupgap": 0
        },
        "template": {
         "data": {
          "bar": [
           {
            "error_x": {
             "color": "#2a3f5f"
            },
            "error_y": {
             "color": "#2a3f5f"
            },
            "marker": {
             "line": {
              "color": "#E5ECF6",
              "width": 0.5
             },
             "pattern": {
              "fillmode": "overlay",
              "size": 10,
              "solidity": 0.2
             }
            },
            "type": "bar"
           }
          ],
          "barpolar": [
           {
            "marker": {
             "line": {
              "color": "#E5ECF6",
              "width": 0.5
             },
             "pattern": {
              "fillmode": "overlay",
              "size": 10,
              "solidity": 0.2
             }
            },
            "type": "barpolar"
           }
          ],
          "carpet": [
           {
            "aaxis": {
             "endlinecolor": "#2a3f5f",
             "gridcolor": "white",
             "linecolor": "white",
             "minorgridcolor": "white",
             "startlinecolor": "#2a3f5f"
            },
            "baxis": {
             "endlinecolor": "#2a3f5f",
             "gridcolor": "white",
             "linecolor": "white",
             "minorgridcolor": "white",
             "startlinecolor": "#2a3f5f"
            },
            "type": "carpet"
           }
          ],
          "choropleth": [
           {
            "colorbar": {
             "outlinewidth": 0,
             "ticks": ""
            },
            "type": "choropleth"
           }
          ],
          "contour": [
           {
            "colorbar": {
             "outlinewidth": 0,
             "ticks": ""
            },
            "colorscale": [
             [
              0,
              "#0d0887"
             ],
             [
              0.1111111111111111,
              "#46039f"
             ],
             [
              0.2222222222222222,
              "#7201a8"
             ],
             [
              0.3333333333333333,
              "#9c179e"
             ],
             [
              0.4444444444444444,
              "#bd3786"
             ],
             [
              0.5555555555555556,
              "#d8576b"
             ],
             [
              0.6666666666666666,
              "#ed7953"
             ],
             [
              0.7777777777777778,
              "#fb9f3a"
             ],
             [
              0.8888888888888888,
              "#fdca26"
             ],
             [
              1,
              "#f0f921"
             ]
            ],
            "type": "contour"
           }
          ],
          "contourcarpet": [
           {
            "colorbar": {
             "outlinewidth": 0,
             "ticks": ""
            },
            "type": "contourcarpet"
           }
          ],
          "heatmap": [
           {
            "colorbar": {
             "outlinewidth": 0,
             "ticks": ""
            },
            "colorscale": [
             [
              0,
              "#0d0887"
             ],
             [
              0.1111111111111111,
              "#46039f"
             ],
             [
              0.2222222222222222,
              "#7201a8"
             ],
             [
              0.3333333333333333,
              "#9c179e"
             ],
             [
              0.4444444444444444,
              "#bd3786"
             ],
             [
              0.5555555555555556,
              "#d8576b"
             ],
             [
              0.6666666666666666,
              "#ed7953"
             ],
             [
              0.7777777777777778,
              "#fb9f3a"
             ],
             [
              0.8888888888888888,
              "#fdca26"
             ],
             [
              1,
              "#f0f921"
             ]
            ],
            "type": "heatmap"
           }
          ],
          "histogram": [
           {
            "marker": {
             "pattern": {
              "fillmode": "overlay",
              "size": 10,
              "solidity": 0.2
             }
            },
            "type": "histogram"
           }
          ],
          "histogram2d": [
           {
            "colorbar": {
             "outlinewidth": 0,
             "ticks": ""
            },
            "colorscale": [
             [
              0,
              "#0d0887"
             ],
             [
              0.1111111111111111,
              "#46039f"
             ],
             [
              0.2222222222222222,
              "#7201a8"
             ],
             [
              0.3333333333333333,
              "#9c179e"
             ],
             [
              0.4444444444444444,
              "#bd3786"
             ],
             [
              0.5555555555555556,
              "#d8576b"
             ],
             [
              0.6666666666666666,
              "#ed7953"
             ],
             [
              0.7777777777777778,
              "#fb9f3a"
             ],
             [
              0.8888888888888888,
              "#fdca26"
             ],
             [
              1,
              "#f0f921"
             ]
            ],
            "type": "histogram2d"
           }
          ],
          "histogram2dcontour": [
           {
            "colorbar": {
             "outlinewidth": 0,
             "ticks": ""
            },
            "colorscale": [
             [
              0,
              "#0d0887"
             ],
             [
              0.1111111111111111,
              "#46039f"
             ],
             [
              0.2222222222222222,
              "#7201a8"
             ],
             [
              0.3333333333333333,
              "#9c179e"
             ],
             [
              0.4444444444444444,
              "#bd3786"
             ],
             [
              0.5555555555555556,
              "#d8576b"
             ],
             [
              0.6666666666666666,
              "#ed7953"
             ],
             [
              0.7777777777777778,
              "#fb9f3a"
             ],
             [
              0.8888888888888888,
              "#fdca26"
             ],
             [
              1,
              "#f0f921"
             ]
            ],
            "type": "histogram2dcontour"
           }
          ],
          "mesh3d": [
           {
            "colorbar": {
             "outlinewidth": 0,
             "ticks": ""
            },
            "type": "mesh3d"
           }
          ],
          "parcoords": [
           {
            "line": {
             "colorbar": {
              "outlinewidth": 0,
              "ticks": ""
             }
            },
            "type": "parcoords"
           }
          ],
          "pie": [
           {
            "automargin": true,
            "type": "pie"
           }
          ],
          "scatter": [
           {
            "fillpattern": {
             "fillmode": "overlay",
             "size": 10,
             "solidity": 0.2
            },
            "type": "scatter"
           }
          ],
          "scatter3d": [
           {
            "line": {
             "colorbar": {
              "outlinewidth": 0,
              "ticks": ""
             }
            },
            "marker": {
             "colorbar": {
              "outlinewidth": 0,
              "ticks": ""
             }
            },
            "type": "scatter3d"
           }
          ],
          "scattercarpet": [
           {
            "marker": {
             "colorbar": {
              "outlinewidth": 0,
              "ticks": ""
             }
            },
            "type": "scattercarpet"
           }
          ],
          "scattergeo": [
           {
            "marker": {
             "colorbar": {
              "outlinewidth": 0,
              "ticks": ""
             }
            },
            "type": "scattergeo"
           }
          ],
          "scattergl": [
           {
            "marker": {
             "colorbar": {
              "outlinewidth": 0,
              "ticks": ""
             }
            },
            "type": "scattergl"
           }
          ],
          "scattermap": [
           {
            "marker": {
             "colorbar": {
              "outlinewidth": 0,
              "ticks": ""
             }
            },
            "type": "scattermap"
           }
          ],
          "scattermapbox": [
           {
            "marker": {
             "colorbar": {
              "outlinewidth": 0,
              "ticks": ""
             }
            },
            "type": "scattermapbox"
           }
          ],
          "scatterpolar": [
           {
            "marker": {
             "colorbar": {
              "outlinewidth": 0,
              "ticks": ""
             }
            },
            "type": "scatterpolar"
           }
          ],
          "scatterpolargl": [
           {
            "marker": {
             "colorbar": {
              "outlinewidth": 0,
              "ticks": ""
             }
            },
            "type": "scatterpolargl"
           }
          ],
          "scatterternary": [
           {
            "marker": {
             "colorbar": {
              "outlinewidth": 0,
              "ticks": ""
             }
            },
            "type": "scatterternary"
           }
          ],
          "surface": [
           {
            "colorbar": {
             "outlinewidth": 0,
             "ticks": ""
            },
            "colorscale": [
             [
              0,
              "#0d0887"
             ],
             [
              0.1111111111111111,
              "#46039f"
             ],
             [
              0.2222222222222222,
              "#7201a8"
             ],
             [
              0.3333333333333333,
              "#9c179e"
             ],
             [
              0.4444444444444444,
              "#bd3786"
             ],
             [
              0.5555555555555556,
              "#d8576b"
             ],
             [
              0.6666666666666666,
              "#ed7953"
             ],
             [
              0.7777777777777778,
              "#fb9f3a"
             ],
             [
              0.8888888888888888,
              "#fdca26"
             ],
             [
              1,
              "#f0f921"
             ]
            ],
            "type": "surface"
           }
          ],
          "table": [
           {
            "cells": {
             "fill": {
              "color": "#EBF0F8"
             },
             "line": {
              "color": "white"
             }
            },
            "header": {
             "fill": {
              "color": "#C8D4E3"
             },
             "line": {
              "color": "white"
             }
            },
            "type": "table"
           }
          ]
         },
         "layout": {
          "annotationdefaults": {
           "arrowcolor": "#2a3f5f",
           "arrowhead": 0,
           "arrowwidth": 1
          },
          "autotypenumbers": "strict",
          "coloraxis": {
           "colorbar": {
            "outlinewidth": 0,
            "ticks": ""
           }
          },
          "colorscale": {
           "diverging": [
            [
             0,
             "#8e0152"
            ],
            [
             0.1,
             "#c51b7d"
            ],
            [
             0.2,
             "#de77ae"
            ],
            [
             0.3,
             "#f1b6da"
            ],
            [
             0.4,
             "#fde0ef"
            ],
            [
             0.5,
             "#f7f7f7"
            ],
            [
             0.6,
             "#e6f5d0"
            ],
            [
             0.7,
             "#b8e186"
            ],
            [
             0.8,
             "#7fbc41"
            ],
            [
             0.9,
             "#4d9221"
            ],
            [
             1,
             "#276419"
            ]
           ],
           "sequential": [
            [
             0,
             "#0d0887"
            ],
            [
             0.1111111111111111,
             "#46039f"
            ],
            [
             0.2222222222222222,
             "#7201a8"
            ],
            [
             0.3333333333333333,
             "#9c179e"
            ],
            [
             0.4444444444444444,
             "#bd3786"
            ],
            [
             0.5555555555555556,
             "#d8576b"
            ],
            [
             0.6666666666666666,
             "#ed7953"
            ],
            [
             0.7777777777777778,
             "#fb9f3a"
            ],
            [
             0.8888888888888888,
             "#fdca26"
            ],
            [
             1,
             "#f0f921"
            ]
           ],
           "sequentialminus": [
            [
             0,
             "#0d0887"
            ],
            [
             0.1111111111111111,
             "#46039f"
            ],
            [
             0.2222222222222222,
             "#7201a8"
            ],
            [
             0.3333333333333333,
             "#9c179e"
            ],
            [
             0.4444444444444444,
             "#bd3786"
            ],
            [
             0.5555555555555556,
             "#d8576b"
            ],
            [
             0.6666666666666666,
             "#ed7953"
            ],
            [
             0.7777777777777778,
             "#fb9f3a"
            ],
            [
             0.8888888888888888,
             "#fdca26"
            ],
            [
             1,
             "#f0f921"
            ]
           ]
          },
          "colorway": [
           "#636efa",
           "#EF553B",
           "#00cc96",
           "#ab63fa",
           "#FFA15A",
           "#19d3f3",
           "#FF6692",
           "#B6E880",
           "#FF97FF",
           "#FECB52"
          ],
          "font": {
           "color": "#2a3f5f"
          },
          "geo": {
           "bgcolor": "white",
           "lakecolor": "white",
           "landcolor": "#E5ECF6",
           "showlakes": true,
           "showland": true,
           "subunitcolor": "white"
          },
          "hoverlabel": {
           "align": "left"
          },
          "hovermode": "closest",
          "mapbox": {
           "style": "light"
          },
          "paper_bgcolor": "white",
          "plot_bgcolor": "#E5ECF6",
          "polar": {
           "angularaxis": {
            "gridcolor": "white",
            "linecolor": "white",
            "ticks": ""
           },
           "bgcolor": "#E5ECF6",
           "radialaxis": {
            "gridcolor": "white",
            "linecolor": "white",
            "ticks": ""
           }
          },
          "scene": {
           "xaxis": {
            "backgroundcolor": "#E5ECF6",
            "gridcolor": "white",
            "gridwidth": 2,
            "linecolor": "white",
            "showbackground": true,
            "ticks": "",
            "zerolinecolor": "white"
           },
           "yaxis": {
            "backgroundcolor": "#E5ECF6",
            "gridcolor": "white",
            "gridwidth": 2,
            "linecolor": "white",
            "showbackground": true,
            "ticks": "",
            "zerolinecolor": "white"
           },
           "zaxis": {
            "backgroundcolor": "#E5ECF6",
            "gridcolor": "white",
            "gridwidth": 2,
            "linecolor": "white",
            "showbackground": true,
            "ticks": "",
            "zerolinecolor": "white"
           }
          },
          "shapedefaults": {
           "line": {
            "color": "#2a3f5f"
           }
          },
          "ternary": {
           "aaxis": {
            "gridcolor": "white",
            "linecolor": "white",
            "ticks": ""
           },
           "baxis": {
            "gridcolor": "white",
            "linecolor": "white",
            "ticks": ""
           },
           "bgcolor": "#E5ECF6",
           "caxis": {
            "gridcolor": "white",
            "linecolor": "white",
            "ticks": ""
           }
          },
          "title": {
           "x": 0.05
          },
          "xaxis": {
           "automargin": true,
           "gridcolor": "white",
           "linecolor": "white",
           "ticks": "",
           "title": {
            "standoff": 15
           },
           "zerolinecolor": "white",
           "zerolinewidth": 2
          },
          "yaxis": {
           "automargin": true,
           "gridcolor": "white",
           "linecolor": "white",
           "ticks": "",
           "title": {
            "standoff": 15
           },
           "zerolinecolor": "white",
           "zerolinewidth": 2
          }
         }
        },
        "title": {
         "text": "Total Quantity and Revenue by Country (April 2011, Excluding UK)"
        },
        "xaxis": {
         "anchor": "y",
         "domain": [
          0,
          1
         ],
         "title": {
          "text": "Country"
         }
        },
        "yaxis": {
         "anchor": "x",
         "domain": [
          0,
          1
         ],
         "title": {
          "text": "value"
         }
        }
       }
      },
      "text/html": [
       "<div>            <script src=\"https://cdnjs.cloudflare.com/ajax/libs/mathjax/2.7.5/MathJax.js?config=TeX-AMS-MML_SVG\"></script><script type=\"text/javascript\">if (window.MathJax && window.MathJax.Hub && window.MathJax.Hub.Config) {window.MathJax.Hub.Config({SVG: {font: \"STIX-Web\"}});}</script>                <script type=\"text/javascript\">window.PlotlyConfig = {MathJaxConfig: 'local'};</script>\n",
       "        <script charset=\"utf-8\" src=\"https://cdn.plot.ly/plotly-3.0.1.min.js\"></script>                <div id=\"3b42912f-1f6d-4f45-9faa-39e3dea1bc58\" class=\"plotly-graph-div\" style=\"height:525px; width:100%;\"></div>            <script type=\"text/javascript\">                window.PLOTLYENV=window.PLOTLYENV || {};                                if (document.getElementById(\"3b42912f-1f6d-4f45-9faa-39e3dea1bc58\")) {                    Plotly.newPlot(                        \"3b42912f-1f6d-4f45-9faa-39e3dea1bc58\",                        [{\"alignmentgroup\":\"True\",\"hovertemplate\":\"variable=Revenue\\u003cbr\\u003eCountry=%{x}\\u003cbr\\u003evalue=%{y}\\u003cextra\\u003e\\u003c\\u002fextra\\u003e\",\"legendgroup\":\"Revenue\",\"marker\":{\"color\":\"#636efa\",\"pattern\":{\"shape\":\"\"}},\"name\":\"Revenue\",\"offsetgroup\":\"Revenue\",\"orientation\":\"v\",\"showlegend\":true,\"textposition\":\"auto\",\"x\":[\"Australia\",\"Austria\",\"Belgium\",\"Brazil\",\"Channel Islands\",\"EIRE\",\"Finland\",\"France\",\"Germany\",\"Greece\",\"Iceland\",\"Italy\",\"Japan\",\"Netherlands\",\"Poland\",\"Portugal\",\"Singapore\",\"Spain\",\"Sweden\",\"Switzerland\",\"USA\"],\"xaxis\":\"x\",\"y\":{\"dtype\":\"f8\",\"bdata\":\"mpmZmZlZekAK16NwPUaCQFK4HoXr8ZtAZmZmZmbekUAAAAAAAGBuQAAAAACAZrxASOF6FK5jlUCF61G4nnauQOxRuB5lecVApHA9Ctfbf0AAAAAAAOKDQHE9CtejDodAAAAAAICUuUCF61G4Ho2mQB6F61G4DoZAAAAAAABfmkAUrkfheo2gQJqZmZmZtplAzczMzMxIhED2KFyPwnObQDMzMzMz\\u002f3dA\"},\"yaxis\":\"y\",\"type\":\"bar\"},{\"alignmentgroup\":\"True\",\"hovertemplate\":\"variable=Quantity\\u003cbr\\u003eCountry=%{x}\\u003cbr\\u003evalue=%{y}\\u003cextra\\u003e\\u003c\\u002fextra\\u003e\",\"legendgroup\":\"Quantity\",\"marker\":{\"color\":\"#EF553B\",\"pattern\":{\"shape\":\"\"}},\"name\":\"Quantity\",\"offsetgroup\":\"Quantity\",\"orientation\":\"v\",\"showlegend\":true,\"textposition\":\"auto\",\"x\":[\"Australia\",\"Austria\",\"Belgium\",\"Brazil\",\"Channel Islands\",\"EIRE\",\"Finland\",\"France\",\"Germany\",\"Greece\",\"Iceland\",\"Italy\",\"Japan\",\"Netherlands\",\"Poland\",\"Portugal\",\"Singapore\",\"Spain\",\"Sweden\",\"Switzerland\",\"USA\"],\"xaxis\":\"x\",\"y\":{\"dtype\":\"f8\",\"bdata\":\"AAAAAAAAbEAAAAAAAEBzQAAAAAAASJJAAAAAAABAdkAAAAAAAABYQAAAAAAAIbBAAAAAAABQiUAAAAAAALKhQAAAAAAARrZAAAAAAABAcEAAAAAAADB+QAAAAAAAaIRAAAAAAAB6v0AAAAAAAIibQAAAAAAAAHtAAAAAAAC4jUAAAAAAAKCVQAAAAAAAoI1AAAAAAAAgc0AAAAAAAHCLQAAAAAAAIGFA\"},\"yaxis\":\"y\",\"type\":\"bar\"}],                        {\"template\":{\"data\":{\"histogram2dcontour\":[{\"type\":\"histogram2dcontour\",\"colorbar\":{\"outlinewidth\":0,\"ticks\":\"\"},\"colorscale\":[[0.0,\"#0d0887\"],[0.1111111111111111,\"#46039f\"],[0.2222222222222222,\"#7201a8\"],[0.3333333333333333,\"#9c179e\"],[0.4444444444444444,\"#bd3786\"],[0.5555555555555556,\"#d8576b\"],[0.6666666666666666,\"#ed7953\"],[0.7777777777777778,\"#fb9f3a\"],[0.8888888888888888,\"#fdca26\"],[1.0,\"#f0f921\"]]}],\"choropleth\":[{\"type\":\"choropleth\",\"colorbar\":{\"outlinewidth\":0,\"ticks\":\"\"}}],\"histogram2d\":[{\"type\":\"histogram2d\",\"colorbar\":{\"outlinewidth\":0,\"ticks\":\"\"},\"colorscale\":[[0.0,\"#0d0887\"],[0.1111111111111111,\"#46039f\"],[0.2222222222222222,\"#7201a8\"],[0.3333333333333333,\"#9c179e\"],[0.4444444444444444,\"#bd3786\"],[0.5555555555555556,\"#d8576b\"],[0.6666666666666666,\"#ed7953\"],[0.7777777777777778,\"#fb9f3a\"],[0.8888888888888888,\"#fdca26\"],[1.0,\"#f0f921\"]]}],\"heatmap\":[{\"type\":\"heatmap\",\"colorbar\":{\"outlinewidth\":0,\"ticks\":\"\"},\"colorscale\":[[0.0,\"#0d0887\"],[0.1111111111111111,\"#46039f\"],[0.2222222222222222,\"#7201a8\"],[0.3333333333333333,\"#9c179e\"],[0.4444444444444444,\"#bd3786\"],[0.5555555555555556,\"#d8576b\"],[0.6666666666666666,\"#ed7953\"],[0.7777777777777778,\"#fb9f3a\"],[0.8888888888888888,\"#fdca26\"],[1.0,\"#f0f921\"]]}],\"contourcarpet\":[{\"type\":\"contourcarpet\",\"colorbar\":{\"outlinewidth\":0,\"ticks\":\"\"}}],\"contour\":[{\"type\":\"contour\",\"colorbar\":{\"outlinewidth\":0,\"ticks\":\"\"},\"colorscale\":[[0.0,\"#0d0887\"],[0.1111111111111111,\"#46039f\"],[0.2222222222222222,\"#7201a8\"],[0.3333333333333333,\"#9c179e\"],[0.4444444444444444,\"#bd3786\"],[0.5555555555555556,\"#d8576b\"],[0.6666666666666666,\"#ed7953\"],[0.7777777777777778,\"#fb9f3a\"],[0.8888888888888888,\"#fdca26\"],[1.0,\"#f0f921\"]]}],\"surface\":[{\"type\":\"surface\",\"colorbar\":{\"outlinewidth\":0,\"ticks\":\"\"},\"colorscale\":[[0.0,\"#0d0887\"],[0.1111111111111111,\"#46039f\"],[0.2222222222222222,\"#7201a8\"],[0.3333333333333333,\"#9c179e\"],[0.4444444444444444,\"#bd3786\"],[0.5555555555555556,\"#d8576b\"],[0.6666666666666666,\"#ed7953\"],[0.7777777777777778,\"#fb9f3a\"],[0.8888888888888888,\"#fdca26\"],[1.0,\"#f0f921\"]]}],\"mesh3d\":[{\"type\":\"mesh3d\",\"colorbar\":{\"outlinewidth\":0,\"ticks\":\"\"}}],\"scatter\":[{\"fillpattern\":{\"fillmode\":\"overlay\",\"size\":10,\"solidity\":0.2},\"type\":\"scatter\"}],\"parcoords\":[{\"type\":\"parcoords\",\"line\":{\"colorbar\":{\"outlinewidth\":0,\"ticks\":\"\"}}}],\"scatterpolargl\":[{\"type\":\"scatterpolargl\",\"marker\":{\"colorbar\":{\"outlinewidth\":0,\"ticks\":\"\"}}}],\"bar\":[{\"error_x\":{\"color\":\"#2a3f5f\"},\"error_y\":{\"color\":\"#2a3f5f\"},\"marker\":{\"line\":{\"color\":\"#E5ECF6\",\"width\":0.5},\"pattern\":{\"fillmode\":\"overlay\",\"size\":10,\"solidity\":0.2}},\"type\":\"bar\"}],\"scattergeo\":[{\"type\":\"scattergeo\",\"marker\":{\"colorbar\":{\"outlinewidth\":0,\"ticks\":\"\"}}}],\"scatterpolar\":[{\"type\":\"scatterpolar\",\"marker\":{\"colorbar\":{\"outlinewidth\":0,\"ticks\":\"\"}}}],\"histogram\":[{\"marker\":{\"pattern\":{\"fillmode\":\"overlay\",\"size\":10,\"solidity\":0.2}},\"type\":\"histogram\"}],\"scattergl\":[{\"type\":\"scattergl\",\"marker\":{\"colorbar\":{\"outlinewidth\":0,\"ticks\":\"\"}}}],\"scatter3d\":[{\"type\":\"scatter3d\",\"line\":{\"colorbar\":{\"outlinewidth\":0,\"ticks\":\"\"}},\"marker\":{\"colorbar\":{\"outlinewidth\":0,\"ticks\":\"\"}}}],\"scattermap\":[{\"type\":\"scattermap\",\"marker\":{\"colorbar\":{\"outlinewidth\":0,\"ticks\":\"\"}}}],\"scattermapbox\":[{\"type\":\"scattermapbox\",\"marker\":{\"colorbar\":{\"outlinewidth\":0,\"ticks\":\"\"}}}],\"scatterternary\":[{\"type\":\"scatterternary\",\"marker\":{\"colorbar\":{\"outlinewidth\":0,\"ticks\":\"\"}}}],\"scattercarpet\":[{\"type\":\"scattercarpet\",\"marker\":{\"colorbar\":{\"outlinewidth\":0,\"ticks\":\"\"}}}],\"carpet\":[{\"aaxis\":{\"endlinecolor\":\"#2a3f5f\",\"gridcolor\":\"white\",\"linecolor\":\"white\",\"minorgridcolor\":\"white\",\"startlinecolor\":\"#2a3f5f\"},\"baxis\":{\"endlinecolor\":\"#2a3f5f\",\"gridcolor\":\"white\",\"linecolor\":\"white\",\"minorgridcolor\":\"white\",\"startlinecolor\":\"#2a3f5f\"},\"type\":\"carpet\"}],\"table\":[{\"cells\":{\"fill\":{\"color\":\"#EBF0F8\"},\"line\":{\"color\":\"white\"}},\"header\":{\"fill\":{\"color\":\"#C8D4E3\"},\"line\":{\"color\":\"white\"}},\"type\":\"table\"}],\"barpolar\":[{\"marker\":{\"line\":{\"color\":\"#E5ECF6\",\"width\":0.5},\"pattern\":{\"fillmode\":\"overlay\",\"size\":10,\"solidity\":0.2}},\"type\":\"barpolar\"}],\"pie\":[{\"automargin\":true,\"type\":\"pie\"}]},\"layout\":{\"autotypenumbers\":\"strict\",\"colorway\":[\"#636efa\",\"#EF553B\",\"#00cc96\",\"#ab63fa\",\"#FFA15A\",\"#19d3f3\",\"#FF6692\",\"#B6E880\",\"#FF97FF\",\"#FECB52\"],\"font\":{\"color\":\"#2a3f5f\"},\"hovermode\":\"closest\",\"hoverlabel\":{\"align\":\"left\"},\"paper_bgcolor\":\"white\",\"plot_bgcolor\":\"#E5ECF6\",\"polar\":{\"bgcolor\":\"#E5ECF6\",\"angularaxis\":{\"gridcolor\":\"white\",\"linecolor\":\"white\",\"ticks\":\"\"},\"radialaxis\":{\"gridcolor\":\"white\",\"linecolor\":\"white\",\"ticks\":\"\"}},\"ternary\":{\"bgcolor\":\"#E5ECF6\",\"aaxis\":{\"gridcolor\":\"white\",\"linecolor\":\"white\",\"ticks\":\"\"},\"baxis\":{\"gridcolor\":\"white\",\"linecolor\":\"white\",\"ticks\":\"\"},\"caxis\":{\"gridcolor\":\"white\",\"linecolor\":\"white\",\"ticks\":\"\"}},\"coloraxis\":{\"colorbar\":{\"outlinewidth\":0,\"ticks\":\"\"}},\"colorscale\":{\"sequential\":[[0.0,\"#0d0887\"],[0.1111111111111111,\"#46039f\"],[0.2222222222222222,\"#7201a8\"],[0.3333333333333333,\"#9c179e\"],[0.4444444444444444,\"#bd3786\"],[0.5555555555555556,\"#d8576b\"],[0.6666666666666666,\"#ed7953\"],[0.7777777777777778,\"#fb9f3a\"],[0.8888888888888888,\"#fdca26\"],[1.0,\"#f0f921\"]],\"sequentialminus\":[[0.0,\"#0d0887\"],[0.1111111111111111,\"#46039f\"],[0.2222222222222222,\"#7201a8\"],[0.3333333333333333,\"#9c179e\"],[0.4444444444444444,\"#bd3786\"],[0.5555555555555556,\"#d8576b\"],[0.6666666666666666,\"#ed7953\"],[0.7777777777777778,\"#fb9f3a\"],[0.8888888888888888,\"#fdca26\"],[1.0,\"#f0f921\"]],\"diverging\":[[0,\"#8e0152\"],[0.1,\"#c51b7d\"],[0.2,\"#de77ae\"],[0.3,\"#f1b6da\"],[0.4,\"#fde0ef\"],[0.5,\"#f7f7f7\"],[0.6,\"#e6f5d0\"],[0.7,\"#b8e186\"],[0.8,\"#7fbc41\"],[0.9,\"#4d9221\"],[1,\"#276419\"]]},\"xaxis\":{\"gridcolor\":\"white\",\"linecolor\":\"white\",\"ticks\":\"\",\"title\":{\"standoff\":15},\"zerolinecolor\":\"white\",\"automargin\":true,\"zerolinewidth\":2},\"yaxis\":{\"gridcolor\":\"white\",\"linecolor\":\"white\",\"ticks\":\"\",\"title\":{\"standoff\":15},\"zerolinecolor\":\"white\",\"automargin\":true,\"zerolinewidth\":2},\"scene\":{\"xaxis\":{\"backgroundcolor\":\"#E5ECF6\",\"gridcolor\":\"white\",\"linecolor\":\"white\",\"showbackground\":true,\"ticks\":\"\",\"zerolinecolor\":\"white\",\"gridwidth\":2},\"yaxis\":{\"backgroundcolor\":\"#E5ECF6\",\"gridcolor\":\"white\",\"linecolor\":\"white\",\"showbackground\":true,\"ticks\":\"\",\"zerolinecolor\":\"white\",\"gridwidth\":2},\"zaxis\":{\"backgroundcolor\":\"#E5ECF6\",\"gridcolor\":\"white\",\"linecolor\":\"white\",\"showbackground\":true,\"ticks\":\"\",\"zerolinecolor\":\"white\",\"gridwidth\":2}},\"shapedefaults\":{\"line\":{\"color\":\"#2a3f5f\"}},\"annotationdefaults\":{\"arrowcolor\":\"#2a3f5f\",\"arrowhead\":0,\"arrowwidth\":1},\"geo\":{\"bgcolor\":\"white\",\"landcolor\":\"#E5ECF6\",\"subunitcolor\":\"white\",\"showland\":true,\"showlakes\":true,\"lakecolor\":\"white\"},\"title\":{\"x\":0.05},\"mapbox\":{\"style\":\"light\"}}},\"xaxis\":{\"anchor\":\"y\",\"domain\":[0.0,1.0],\"title\":{\"text\":\"Country\"}},\"yaxis\":{\"anchor\":\"x\",\"domain\":[0.0,1.0],\"title\":{\"text\":\"value\"}},\"legend\":{\"title\":{\"text\":\"variable\"},\"tracegroupgap\":0},\"title\":{\"text\":\"Total Quantity and Revenue by Country (April 2011, Excluding UK)\"},\"barmode\":\"group\"},                        {\"responsive\": true}                    ).then(function(){\n",
       "                            \n",
       "var gd = document.getElementById('3b42912f-1f6d-4f45-9faa-39e3dea1bc58');\n",
       "var x = new MutationObserver(function (mutations, observer) {{\n",
       "        var display = window.getComputedStyle(gd).display;\n",
       "        if (!display || display === 'none') {{\n",
       "            console.log([gd, 'removed!']);\n",
       "            Plotly.purge(gd);\n",
       "            observer.disconnect();\n",
       "        }}\n",
       "}});\n",
       "\n",
       "// Listen for the removal of the full notebook cells\n",
       "var notebookContainer = gd.closest('#notebook-container');\n",
       "if (notebookContainer) {{\n",
       "    x.observe(notebookContainer, {childList: true});\n",
       "}}\n",
       "\n",
       "// Listen for the clearing of the current output cell\n",
       "var outputEl = gd.closest('.output');\n",
       "if (outputEl) {{\n",
       "    x.observe(outputEl, {childList: true});\n",
       "}}\n",
       "\n",
       "                        })                };            </script>        </div>"
      ]
     },
     "metadata": {},
     "output_type": "display_data"
    }
   ],
   "source": [
    "def plot_bar_chart():\n",
    "    fig = px.bar(agg_data_april_2011, \n",
    "                 x=\"Country\", \n",
    "                 y=[\"Revenue\", \"Quantity\"], \n",
    "                 barmode=\"group\", \n",
    "                 title=\"Total Quantity and Revenue by Country (April 2011, Excluding UK)\")\n",
    "    fig.show()\n",
    "plot_bar_chart()"
   ]
  },
  {
   "cell_type": "markdown",
   "metadata": {},
   "source": [
    "## 2. Create an interactive line chart showing quantity and revenue sold to France between January 1st and May 31st 2011."
   ]
  },
  {
   "cell_type": "code",
   "execution_count": 7,
   "metadata": {},
   "outputs": [
    {
     "data": {
      "text/html": [
       "<div>\n",
       "<style scoped>\n",
       "    .dataframe tbody tr th:only-of-type {\n",
       "        vertical-align: middle;\n",
       "    }\n",
       "\n",
       "    .dataframe tbody tr th {\n",
       "        vertical-align: top;\n",
       "    }\n",
       "\n",
       "    .dataframe thead th {\n",
       "        text-align: right;\n",
       "    }\n",
       "</style>\n",
       "<table border=\"1\" class=\"dataframe\">\n",
       "  <thead>\n",
       "    <tr style=\"text-align: right;\">\n",
       "      <th></th>\n",
       "      <th>InvoiceDate</th>\n",
       "      <th>Quantity</th>\n",
       "      <th>Revenue</th>\n",
       "    </tr>\n",
       "  </thead>\n",
       "  <tbody>\n",
       "    <tr>\n",
       "      <th>25</th>\n",
       "      <td>2011-02-21</td>\n",
       "      <td>333</td>\n",
       "      <td>728.82</td>\n",
       "    </tr>\n",
       "    <tr>\n",
       "      <th>63</th>\n",
       "      <td>2011-05-16</td>\n",
       "      <td>278</td>\n",
       "      <td>672.62</td>\n",
       "    </tr>\n",
       "    <tr>\n",
       "      <th>9</th>\n",
       "      <td>2011-01-19</td>\n",
       "      <td>383</td>\n",
       "      <td>698.75</td>\n",
       "    </tr>\n",
       "    <tr>\n",
       "      <th>18</th>\n",
       "      <td>2011-02-08</td>\n",
       "      <td>214</td>\n",
       "      <td>165.86</td>\n",
       "    </tr>\n",
       "    <tr>\n",
       "      <th>5</th>\n",
       "      <td>2011-01-11</td>\n",
       "      <td>978</td>\n",
       "      <td>1332.64</td>\n",
       "    </tr>\n",
       "    <tr>\n",
       "      <th>10</th>\n",
       "      <td>2011-01-20</td>\n",
       "      <td>702</td>\n",
       "      <td>1408.68</td>\n",
       "    </tr>\n",
       "    <tr>\n",
       "      <th>46</th>\n",
       "      <td>2011-04-04</td>\n",
       "      <td>293</td>\n",
       "      <td>513.55</td>\n",
       "    </tr>\n",
       "    <tr>\n",
       "      <th>20</th>\n",
       "      <td>2011-02-10</td>\n",
       "      <td>452</td>\n",
       "      <td>285.56</td>\n",
       "    </tr>\n",
       "    <tr>\n",
       "      <th>21</th>\n",
       "      <td>2011-02-15</td>\n",
       "      <td>96</td>\n",
       "      <td>219.60</td>\n",
       "    </tr>\n",
       "    <tr>\n",
       "      <th>52</th>\n",
       "      <td>2011-04-26</td>\n",
       "      <td>84</td>\n",
       "      <td>160.54</td>\n",
       "    </tr>\n",
       "  </tbody>\n",
       "</table>\n",
       "</div>"
      ],
      "text/plain": [
       "   InvoiceDate  Quantity  Revenue\n",
       "25  2011-02-21       333   728.82\n",
       "63  2011-05-16       278   672.62\n",
       "9   2011-01-19       383   698.75\n",
       "18  2011-02-08       214   165.86\n",
       "5   2011-01-11       978  1332.64\n",
       "10  2011-01-20       702  1408.68\n",
       "46  2011-04-04       293   513.55\n",
       "20  2011-02-10       452   285.56\n",
       "21  2011-02-15        96   219.60\n",
       "52  2011-04-26        84   160.54"
      ]
     },
     "execution_count": 7,
     "metadata": {},
     "output_type": "execute_result"
    }
   ],
   "source": [
    "data_france_2011 = data[\n",
    "    (data['InvoiceDate'] >= '2011-01-01') & \n",
    "    (data['InvoiceDate'] <= '2011-05-31') & \n",
    "    (data['Country'] == 'France')\n",
    "]\n",
    "\n",
    "agg_data_france_2011 = data_france_2011.groupby(data_france_2011['InvoiceDate'].dt.normalize()).agg({'Quantity': 'sum', 'Revenue': 'sum'}).reset_index()\n",
    "agg_data_france_2011.sample(10)"
   ]
  },
  {
   "cell_type": "code",
   "execution_count": 8,
   "metadata": {},
   "outputs": [
    {
     "data": {
      "application/vnd.plotly.v1+json": {
       "config": {
        "plotlyServerURL": "https://plot.ly"
       },
       "data": [
        {
         "hovertemplate": "variable=Quantity<br>Date=%{x}<br>Sales=%{y}<extra></extra>",
         "legendgroup": "Quantity",
         "line": {
          "color": "#636efa",
          "dash": "solid"
         },
         "marker": {
          "symbol": "circle"
         },
         "mode": "lines",
         "name": "Quantity",
         "orientation": "v",
         "showlegend": true,
         "type": "scatter",
         "x": [
          "2011-01-05T00:00:00.000000000",
          "2011-01-06T00:00:00.000000000",
          "2011-01-07T00:00:00.000000000",
          "2011-01-09T00:00:00.000000000",
          "2011-01-10T00:00:00.000000000",
          "2011-01-11T00:00:00.000000000",
          "2011-01-12T00:00:00.000000000",
          "2011-01-14T00:00:00.000000000",
          "2011-01-17T00:00:00.000000000",
          "2011-01-19T00:00:00.000000000",
          "2011-01-20T00:00:00.000000000",
          "2011-01-23T00:00:00.000000000",
          "2011-01-24T00:00:00.000000000",
          "2011-01-28T00:00:00.000000000",
          "2011-01-31T00:00:00.000000000",
          "2011-02-01T00:00:00.000000000",
          "2011-02-02T00:00:00.000000000",
          "2011-02-04T00:00:00.000000000",
          "2011-02-08T00:00:00.000000000",
          "2011-02-09T00:00:00.000000000",
          "2011-02-10T00:00:00.000000000",
          "2011-02-15T00:00:00.000000000",
          "2011-02-16T00:00:00.000000000",
          "2011-02-17T00:00:00.000000000",
          "2011-02-18T00:00:00.000000000",
          "2011-02-21T00:00:00.000000000",
          "2011-02-23T00:00:00.000000000",
          "2011-02-27T00:00:00.000000000",
          "2011-02-28T00:00:00.000000000",
          "2011-03-01T00:00:00.000000000",
          "2011-03-03T00:00:00.000000000",
          "2011-03-04T00:00:00.000000000",
          "2011-03-11T00:00:00.000000000",
          "2011-03-13T00:00:00.000000000",
          "2011-03-14T00:00:00.000000000",
          "2011-03-15T00:00:00.000000000",
          "2011-03-16T00:00:00.000000000",
          "2011-03-20T00:00:00.000000000",
          "2011-03-21T00:00:00.000000000",
          "2011-03-22T00:00:00.000000000",
          "2011-03-23T00:00:00.000000000",
          "2011-03-25T00:00:00.000000000",
          "2011-03-27T00:00:00.000000000",
          "2011-03-28T00:00:00.000000000",
          "2011-03-31T00:00:00.000000000",
          "2011-04-01T00:00:00.000000000",
          "2011-04-04T00:00:00.000000000",
          "2011-04-07T00:00:00.000000000",
          "2011-04-14T00:00:00.000000000",
          "2011-04-17T00:00:00.000000000",
          "2011-04-20T00:00:00.000000000",
          "2011-04-21T00:00:00.000000000",
          "2011-04-26T00:00:00.000000000",
          "2011-04-28T00:00:00.000000000",
          "2011-05-03T00:00:00.000000000",
          "2011-05-05T00:00:00.000000000",
          "2011-05-08T00:00:00.000000000",
          "2011-05-09T00:00:00.000000000",
          "2011-05-10T00:00:00.000000000",
          "2011-05-11T00:00:00.000000000",
          "2011-05-12T00:00:00.000000000",
          "2011-05-13T00:00:00.000000000",
          "2011-05-15T00:00:00.000000000",
          "2011-05-16T00:00:00.000000000",
          "2011-05-17T00:00:00.000000000",
          "2011-05-18T00:00:00.000000000",
          "2011-05-19T00:00:00.000000000",
          "2011-05-20T00:00:00.000000000",
          "2011-05-22T00:00:00.000000000",
          "2011-05-23T00:00:00.000000000",
          "2011-05-24T00:00:00.000000000",
          "2011-05-25T00:00:00.000000000",
          "2011-05-26T00:00:00.000000000",
          "2011-05-27T00:00:00.000000000"
         ],
         "xaxis": "x",
         "y": {
          "bdata": "AAAAAADAhkAAAAAAAGB7QAAAAAAAeIJAAAAAAACAU0AAAAAAAKCDQAAAAAAAkI5AAAAAAAAAhUAAAAAAAJSQQAAAAAAAcHBAAAAAAADwd0AAAAAAAPCFQAAAAAAAAF5AAAAAAAAAVUAAAAAAALiBQAAAAAAAbJxAAAAAAACgaEAAAAAAANB2QAAAAAAAGINAAAAAAADAakAAAAAAAKByQAAAAAAAQHxAAAAAAAAAWEAAAAAAACCIQAAAAAAAgFxAAAAAAADYh0AAAAAAANB0QAAAAAAAgHZAAAAAAACAUUAAAAAAAEiEQAAAAAAA8IFAAAAAAAAgdUAAAAAAAMBeQAAAAAAAMHRAAAAAAADgZkAAAAAAAABnQAAAAAAAoHNAAAAAAADgY0AAAAAAAGB6QAAAAAAAAFZAAAAAAADAaEAAAAAAABSTQAAAAAAAUHBAAAAAAACATUAAAAAAAFCKQAAAAAAAKqpAAAAAAACAdEAAAAAAAFByQAAAAAAAgG1AAAAAAADAcUAAAAAAAAB5QAAAAAAAgGhAAAAAAACgckAAAAAAAABVQAAAAAAAQGJAAAAAAAAwkEAAAAAAAIBYQAAAAAAAKIhAAAAAAADgfkAAAAAAAKB8QAAAAAAA1JhAAAAAAABAWkAAAAAAAGB/QAAAAAAAgGFAAAAAAABgcUAAAAAAAMB9QAAAAAAAcHRAAAAAAACAgUAAAAAAAAB9QAAAAAAAMHJAAAAAAAAAc0AAAAAAAABqQAAAAAAA8IZAAAAAAADgf0AAAAAAAGBjQA==",
          "dtype": "f8"
         },
         "yaxis": "y"
        },
        {
         "hovertemplate": "variable=Revenue<br>Date=%{x}<br>Sales=%{y}<extra></extra>",
         "legendgroup": "Revenue",
         "line": {
          "color": "#EF553B",
          "dash": "solid"
         },
         "marker": {
          "symbol": "circle"
         },
         "mode": "lines",
         "name": "Revenue",
         "orientation": "v",
         "showlegend": true,
         "type": "scatter",
         "x": [
          "2011-01-05T00:00:00.000000000",
          "2011-01-06T00:00:00.000000000",
          "2011-01-07T00:00:00.000000000",
          "2011-01-09T00:00:00.000000000",
          "2011-01-10T00:00:00.000000000",
          "2011-01-11T00:00:00.000000000",
          "2011-01-12T00:00:00.000000000",
          "2011-01-14T00:00:00.000000000",
          "2011-01-17T00:00:00.000000000",
          "2011-01-19T00:00:00.000000000",
          "2011-01-20T00:00:00.000000000",
          "2011-01-23T00:00:00.000000000",
          "2011-01-24T00:00:00.000000000",
          "2011-01-28T00:00:00.000000000",
          "2011-01-31T00:00:00.000000000",
          "2011-02-01T00:00:00.000000000",
          "2011-02-02T00:00:00.000000000",
          "2011-02-04T00:00:00.000000000",
          "2011-02-08T00:00:00.000000000",
          "2011-02-09T00:00:00.000000000",
          "2011-02-10T00:00:00.000000000",
          "2011-02-15T00:00:00.000000000",
          "2011-02-16T00:00:00.000000000",
          "2011-02-17T00:00:00.000000000",
          "2011-02-18T00:00:00.000000000",
          "2011-02-21T00:00:00.000000000",
          "2011-02-23T00:00:00.000000000",
          "2011-02-27T00:00:00.000000000",
          "2011-02-28T00:00:00.000000000",
          "2011-03-01T00:00:00.000000000",
          "2011-03-03T00:00:00.000000000",
          "2011-03-04T00:00:00.000000000",
          "2011-03-11T00:00:00.000000000",
          "2011-03-13T00:00:00.000000000",
          "2011-03-14T00:00:00.000000000",
          "2011-03-15T00:00:00.000000000",
          "2011-03-16T00:00:00.000000000",
          "2011-03-20T00:00:00.000000000",
          "2011-03-21T00:00:00.000000000",
          "2011-03-22T00:00:00.000000000",
          "2011-03-23T00:00:00.000000000",
          "2011-03-25T00:00:00.000000000",
          "2011-03-27T00:00:00.000000000",
          "2011-03-28T00:00:00.000000000",
          "2011-03-31T00:00:00.000000000",
          "2011-04-01T00:00:00.000000000",
          "2011-04-04T00:00:00.000000000",
          "2011-04-07T00:00:00.000000000",
          "2011-04-14T00:00:00.000000000",
          "2011-04-17T00:00:00.000000000",
          "2011-04-20T00:00:00.000000000",
          "2011-04-21T00:00:00.000000000",
          "2011-04-26T00:00:00.000000000",
          "2011-04-28T00:00:00.000000000",
          "2011-05-03T00:00:00.000000000",
          "2011-05-05T00:00:00.000000000",
          "2011-05-08T00:00:00.000000000",
          "2011-05-09T00:00:00.000000000",
          "2011-05-10T00:00:00.000000000",
          "2011-05-11T00:00:00.000000000",
          "2011-05-12T00:00:00.000000000",
          "2011-05-13T00:00:00.000000000",
          "2011-05-15T00:00:00.000000000",
          "2011-05-16T00:00:00.000000000",
          "2011-05-17T00:00:00.000000000",
          "2011-05-18T00:00:00.000000000",
          "2011-05-19T00:00:00.000000000",
          "2011-05-20T00:00:00.000000000",
          "2011-05-22T00:00:00.000000000",
          "2011-05-23T00:00:00.000000000",
          "2011-05-24T00:00:00.000000000",
          "2011-05-25T00:00:00.000000000",
          "2011-05-26T00:00:00.000000000",
          "2011-05-27T00:00:00.000000000"
         ],
         "xaxis": "x",
         "y": {
          "bdata": "H4XrUbjEk0Bcj8L1KCiGQB6F61G4eI5AAAAAAACAXEAK16NwPWCRQML1KFyP0pRA61G4HoVOk0AfhetRuOGYQIXrUbgeEYRAAAAAAADWhUAfhetRuAKWQAAAAAAAaHlAZmZmZmbGZ0BxPQrXo86NQD0K16Pwo6tAmZmZmZmNfECF61G4HluCQFK4HoXropFA61G4HoW7ZEC4HoXrURB5QClcj8L12HFAMzMzMzNza0DhehSuR+2JQAAAAAAAwGpAzMzMzMyki0DC9Shcj8aGQFyPwvUoPHlAZmZmZmYmV0DXo3A9CiaUQNejcD0KOZBAw/UoXI9Sf0AAAAAAAJRxQMzMzMzMJoVAcD0K16M0c0BnZmZmZpZ6QHA9Ctej+H9AmZmZmZmZbkC4HoXrUaByQHE9CtejKGlASOF6FK5ffUCF61G4Hi2aQMP1KFyP/nJAmpmZmZkBYEAzMzMzMxGQQKRwPQqX2bVAAAAAAABseEBmZmZmZgyAQDMzMzMzg3NAmpmZmZk5g0D2KFyPwpGCQDQzMzMzU31AZmZmZmZkhEDiehSuRxFkQDQzMzMz42dAkML1KFwlmkAAAAAAAABpQD4K16Nww45AZmZmZmZOf0CZmZmZmVF8QFyPwvWohKdAFa5H4XpocUCuR+F6FJSNQM3MzMzMrGBAKFyPwvUEhUApXI/C9RyHQArXo3A9PIdArkfhehR0i0AzMzMzM+ONQEjhehSuhYhAj8L1KFwfeEA9CtejcFV2QOF6FK5Hw5FAAAAAAAB0gUA9CtejcPF2QA==",
          "dtype": "f8"
         },
         "yaxis": "y"
        }
       ],
       "layout": {
        "legend": {
         "title": {
          "text": "variable"
         },
         "tracegroupgap": 0
        },
        "template": {
         "data": {
          "bar": [
           {
            "error_x": {
             "color": "#2a3f5f"
            },
            "error_y": {
             "color": "#2a3f5f"
            },
            "marker": {
             "line": {
              "color": "#E5ECF6",
              "width": 0.5
             },
             "pattern": {
              "fillmode": "overlay",
              "size": 10,
              "solidity": 0.2
             }
            },
            "type": "bar"
           }
          ],
          "barpolar": [
           {
            "marker": {
             "line": {
              "color": "#E5ECF6",
              "width": 0.5
             },
             "pattern": {
              "fillmode": "overlay",
              "size": 10,
              "solidity": 0.2
             }
            },
            "type": "barpolar"
           }
          ],
          "carpet": [
           {
            "aaxis": {
             "endlinecolor": "#2a3f5f",
             "gridcolor": "white",
             "linecolor": "white",
             "minorgridcolor": "white",
             "startlinecolor": "#2a3f5f"
            },
            "baxis": {
             "endlinecolor": "#2a3f5f",
             "gridcolor": "white",
             "linecolor": "white",
             "minorgridcolor": "white",
             "startlinecolor": "#2a3f5f"
            },
            "type": "carpet"
           }
          ],
          "choropleth": [
           {
            "colorbar": {
             "outlinewidth": 0,
             "ticks": ""
            },
            "type": "choropleth"
           }
          ],
          "contour": [
           {
            "colorbar": {
             "outlinewidth": 0,
             "ticks": ""
            },
            "colorscale": [
             [
              0,
              "#0d0887"
             ],
             [
              0.1111111111111111,
              "#46039f"
             ],
             [
              0.2222222222222222,
              "#7201a8"
             ],
             [
              0.3333333333333333,
              "#9c179e"
             ],
             [
              0.4444444444444444,
              "#bd3786"
             ],
             [
              0.5555555555555556,
              "#d8576b"
             ],
             [
              0.6666666666666666,
              "#ed7953"
             ],
             [
              0.7777777777777778,
              "#fb9f3a"
             ],
             [
              0.8888888888888888,
              "#fdca26"
             ],
             [
              1,
              "#f0f921"
             ]
            ],
            "type": "contour"
           }
          ],
          "contourcarpet": [
           {
            "colorbar": {
             "outlinewidth": 0,
             "ticks": ""
            },
            "type": "contourcarpet"
           }
          ],
          "heatmap": [
           {
            "colorbar": {
             "outlinewidth": 0,
             "ticks": ""
            },
            "colorscale": [
             [
              0,
              "#0d0887"
             ],
             [
              0.1111111111111111,
              "#46039f"
             ],
             [
              0.2222222222222222,
              "#7201a8"
             ],
             [
              0.3333333333333333,
              "#9c179e"
             ],
             [
              0.4444444444444444,
              "#bd3786"
             ],
             [
              0.5555555555555556,
              "#d8576b"
             ],
             [
              0.6666666666666666,
              "#ed7953"
             ],
             [
              0.7777777777777778,
              "#fb9f3a"
             ],
             [
              0.8888888888888888,
              "#fdca26"
             ],
             [
              1,
              "#f0f921"
             ]
            ],
            "type": "heatmap"
           }
          ],
          "histogram": [
           {
            "marker": {
             "pattern": {
              "fillmode": "overlay",
              "size": 10,
              "solidity": 0.2
             }
            },
            "type": "histogram"
           }
          ],
          "histogram2d": [
           {
            "colorbar": {
             "outlinewidth": 0,
             "ticks": ""
            },
            "colorscale": [
             [
              0,
              "#0d0887"
             ],
             [
              0.1111111111111111,
              "#46039f"
             ],
             [
              0.2222222222222222,
              "#7201a8"
             ],
             [
              0.3333333333333333,
              "#9c179e"
             ],
             [
              0.4444444444444444,
              "#bd3786"
             ],
             [
              0.5555555555555556,
              "#d8576b"
             ],
             [
              0.6666666666666666,
              "#ed7953"
             ],
             [
              0.7777777777777778,
              "#fb9f3a"
             ],
             [
              0.8888888888888888,
              "#fdca26"
             ],
             [
              1,
              "#f0f921"
             ]
            ],
            "type": "histogram2d"
           }
          ],
          "histogram2dcontour": [
           {
            "colorbar": {
             "outlinewidth": 0,
             "ticks": ""
            },
            "colorscale": [
             [
              0,
              "#0d0887"
             ],
             [
              0.1111111111111111,
              "#46039f"
             ],
             [
              0.2222222222222222,
              "#7201a8"
             ],
             [
              0.3333333333333333,
              "#9c179e"
             ],
             [
              0.4444444444444444,
              "#bd3786"
             ],
             [
              0.5555555555555556,
              "#d8576b"
             ],
             [
              0.6666666666666666,
              "#ed7953"
             ],
             [
              0.7777777777777778,
              "#fb9f3a"
             ],
             [
              0.8888888888888888,
              "#fdca26"
             ],
             [
              1,
              "#f0f921"
             ]
            ],
            "type": "histogram2dcontour"
           }
          ],
          "mesh3d": [
           {
            "colorbar": {
             "outlinewidth": 0,
             "ticks": ""
            },
            "type": "mesh3d"
           }
          ],
          "parcoords": [
           {
            "line": {
             "colorbar": {
              "outlinewidth": 0,
              "ticks": ""
             }
            },
            "type": "parcoords"
           }
          ],
          "pie": [
           {
            "automargin": true,
            "type": "pie"
           }
          ],
          "scatter": [
           {
            "fillpattern": {
             "fillmode": "overlay",
             "size": 10,
             "solidity": 0.2
            },
            "type": "scatter"
           }
          ],
          "scatter3d": [
           {
            "line": {
             "colorbar": {
              "outlinewidth": 0,
              "ticks": ""
             }
            },
            "marker": {
             "colorbar": {
              "outlinewidth": 0,
              "ticks": ""
             }
            },
            "type": "scatter3d"
           }
          ],
          "scattercarpet": [
           {
            "marker": {
             "colorbar": {
              "outlinewidth": 0,
              "ticks": ""
             }
            },
            "type": "scattercarpet"
           }
          ],
          "scattergeo": [
           {
            "marker": {
             "colorbar": {
              "outlinewidth": 0,
              "ticks": ""
             }
            },
            "type": "scattergeo"
           }
          ],
          "scattergl": [
           {
            "marker": {
             "colorbar": {
              "outlinewidth": 0,
              "ticks": ""
             }
            },
            "type": "scattergl"
           }
          ],
          "scattermap": [
           {
            "marker": {
             "colorbar": {
              "outlinewidth": 0,
              "ticks": ""
             }
            },
            "type": "scattermap"
           }
          ],
          "scattermapbox": [
           {
            "marker": {
             "colorbar": {
              "outlinewidth": 0,
              "ticks": ""
             }
            },
            "type": "scattermapbox"
           }
          ],
          "scatterpolar": [
           {
            "marker": {
             "colorbar": {
              "outlinewidth": 0,
              "ticks": ""
             }
            },
            "type": "scatterpolar"
           }
          ],
          "scatterpolargl": [
           {
            "marker": {
             "colorbar": {
              "outlinewidth": 0,
              "ticks": ""
             }
            },
            "type": "scatterpolargl"
           }
          ],
          "scatterternary": [
           {
            "marker": {
             "colorbar": {
              "outlinewidth": 0,
              "ticks": ""
             }
            },
            "type": "scatterternary"
           }
          ],
          "surface": [
           {
            "colorbar": {
             "outlinewidth": 0,
             "ticks": ""
            },
            "colorscale": [
             [
              0,
              "#0d0887"
             ],
             [
              0.1111111111111111,
              "#46039f"
             ],
             [
              0.2222222222222222,
              "#7201a8"
             ],
             [
              0.3333333333333333,
              "#9c179e"
             ],
             [
              0.4444444444444444,
              "#bd3786"
             ],
             [
              0.5555555555555556,
              "#d8576b"
             ],
             [
              0.6666666666666666,
              "#ed7953"
             ],
             [
              0.7777777777777778,
              "#fb9f3a"
             ],
             [
              0.8888888888888888,
              "#fdca26"
             ],
             [
              1,
              "#f0f921"
             ]
            ],
            "type": "surface"
           }
          ],
          "table": [
           {
            "cells": {
             "fill": {
              "color": "#EBF0F8"
             },
             "line": {
              "color": "white"
             }
            },
            "header": {
             "fill": {
              "color": "#C8D4E3"
             },
             "line": {
              "color": "white"
             }
            },
            "type": "table"
           }
          ]
         },
         "layout": {
          "annotationdefaults": {
           "arrowcolor": "#2a3f5f",
           "arrowhead": 0,
           "arrowwidth": 1
          },
          "autotypenumbers": "strict",
          "coloraxis": {
           "colorbar": {
            "outlinewidth": 0,
            "ticks": ""
           }
          },
          "colorscale": {
           "diverging": [
            [
             0,
             "#8e0152"
            ],
            [
             0.1,
             "#c51b7d"
            ],
            [
             0.2,
             "#de77ae"
            ],
            [
             0.3,
             "#f1b6da"
            ],
            [
             0.4,
             "#fde0ef"
            ],
            [
             0.5,
             "#f7f7f7"
            ],
            [
             0.6,
             "#e6f5d0"
            ],
            [
             0.7,
             "#b8e186"
            ],
            [
             0.8,
             "#7fbc41"
            ],
            [
             0.9,
             "#4d9221"
            ],
            [
             1,
             "#276419"
            ]
           ],
           "sequential": [
            [
             0,
             "#0d0887"
            ],
            [
             0.1111111111111111,
             "#46039f"
            ],
            [
             0.2222222222222222,
             "#7201a8"
            ],
            [
             0.3333333333333333,
             "#9c179e"
            ],
            [
             0.4444444444444444,
             "#bd3786"
            ],
            [
             0.5555555555555556,
             "#d8576b"
            ],
            [
             0.6666666666666666,
             "#ed7953"
            ],
            [
             0.7777777777777778,
             "#fb9f3a"
            ],
            [
             0.8888888888888888,
             "#fdca26"
            ],
            [
             1,
             "#f0f921"
            ]
           ],
           "sequentialminus": [
            [
             0,
             "#0d0887"
            ],
            [
             0.1111111111111111,
             "#46039f"
            ],
            [
             0.2222222222222222,
             "#7201a8"
            ],
            [
             0.3333333333333333,
             "#9c179e"
            ],
            [
             0.4444444444444444,
             "#bd3786"
            ],
            [
             0.5555555555555556,
             "#d8576b"
            ],
            [
             0.6666666666666666,
             "#ed7953"
            ],
            [
             0.7777777777777778,
             "#fb9f3a"
            ],
            [
             0.8888888888888888,
             "#fdca26"
            ],
            [
             1,
             "#f0f921"
            ]
           ]
          },
          "colorway": [
           "#636efa",
           "#EF553B",
           "#00cc96",
           "#ab63fa",
           "#FFA15A",
           "#19d3f3",
           "#FF6692",
           "#B6E880",
           "#FF97FF",
           "#FECB52"
          ],
          "font": {
           "color": "#2a3f5f"
          },
          "geo": {
           "bgcolor": "white",
           "lakecolor": "white",
           "landcolor": "#E5ECF6",
           "showlakes": true,
           "showland": true,
           "subunitcolor": "white"
          },
          "hoverlabel": {
           "align": "left"
          },
          "hovermode": "closest",
          "mapbox": {
           "style": "light"
          },
          "paper_bgcolor": "white",
          "plot_bgcolor": "#E5ECF6",
          "polar": {
           "angularaxis": {
            "gridcolor": "white",
            "linecolor": "white",
            "ticks": ""
           },
           "bgcolor": "#E5ECF6",
           "radialaxis": {
            "gridcolor": "white",
            "linecolor": "white",
            "ticks": ""
           }
          },
          "scene": {
           "xaxis": {
            "backgroundcolor": "#E5ECF6",
            "gridcolor": "white",
            "gridwidth": 2,
            "linecolor": "white",
            "showbackground": true,
            "ticks": "",
            "zerolinecolor": "white"
           },
           "yaxis": {
            "backgroundcolor": "#E5ECF6",
            "gridcolor": "white",
            "gridwidth": 2,
            "linecolor": "white",
            "showbackground": true,
            "ticks": "",
            "zerolinecolor": "white"
           },
           "zaxis": {
            "backgroundcolor": "#E5ECF6",
            "gridcolor": "white",
            "gridwidth": 2,
            "linecolor": "white",
            "showbackground": true,
            "ticks": "",
            "zerolinecolor": "white"
           }
          },
          "shapedefaults": {
           "line": {
            "color": "#2a3f5f"
           }
          },
          "ternary": {
           "aaxis": {
            "gridcolor": "white",
            "linecolor": "white",
            "ticks": ""
           },
           "baxis": {
            "gridcolor": "white",
            "linecolor": "white",
            "ticks": ""
           },
           "bgcolor": "#E5ECF6",
           "caxis": {
            "gridcolor": "white",
            "linecolor": "white",
            "ticks": ""
           }
          },
          "title": {
           "x": 0.05
          },
          "xaxis": {
           "automargin": true,
           "gridcolor": "white",
           "linecolor": "white",
           "ticks": "",
           "title": {
            "standoff": 15
           },
           "zerolinecolor": "white",
           "zerolinewidth": 2
          },
          "yaxis": {
           "automargin": true,
           "gridcolor": "white",
           "linecolor": "white",
           "ticks": "",
           "title": {
            "standoff": 15
           },
           "zerolinecolor": "white",
           "zerolinewidth": 2
          }
         }
        },
        "title": {
         "text": "France Sales: Quantity and Revenue from January 1 to May 31, 2011"
        },
        "xaxis": {
         "anchor": "y",
         "domain": [
          0,
          1
         ],
         "title": {
          "text": "Date"
         }
        },
        "yaxis": {
         "anchor": "x",
         "domain": [
          0,
          1
         ],
         "title": {
          "text": "Sales"
         }
        }
       }
      },
      "text/html": [
       "<div>            <script src=\"https://cdnjs.cloudflare.com/ajax/libs/mathjax/2.7.5/MathJax.js?config=TeX-AMS-MML_SVG\"></script><script type=\"text/javascript\">if (window.MathJax && window.MathJax.Hub && window.MathJax.Hub.Config) {window.MathJax.Hub.Config({SVG: {font: \"STIX-Web\"}});}</script>                <script type=\"text/javascript\">window.PlotlyConfig = {MathJaxConfig: 'local'};</script>\n",
       "        <script charset=\"utf-8\" src=\"https://cdn.plot.ly/plotly-3.0.1.min.js\"></script>                <div id=\"afaddda5-080c-4df3-89e8-44f233aee541\" class=\"plotly-graph-div\" style=\"height:525px; width:100%;\"></div>            <script type=\"text/javascript\">                window.PLOTLYENV=window.PLOTLYENV || {};                                if (document.getElementById(\"afaddda5-080c-4df3-89e8-44f233aee541\")) {                    Plotly.newPlot(                        \"afaddda5-080c-4df3-89e8-44f233aee541\",                        [{\"hovertemplate\":\"variable=Quantity\\u003cbr\\u003eDate=%{x}\\u003cbr\\u003eSales=%{y}\\u003cextra\\u003e\\u003c\\u002fextra\\u003e\",\"legendgroup\":\"Quantity\",\"line\":{\"color\":\"#636efa\",\"dash\":\"solid\"},\"marker\":{\"symbol\":\"circle\"},\"mode\":\"lines\",\"name\":\"Quantity\",\"orientation\":\"v\",\"showlegend\":true,\"x\":[\"2011-01-05T00:00:00.000000000\",\"2011-01-06T00:00:00.000000000\",\"2011-01-07T00:00:00.000000000\",\"2011-01-09T00:00:00.000000000\",\"2011-01-10T00:00:00.000000000\",\"2011-01-11T00:00:00.000000000\",\"2011-01-12T00:00:00.000000000\",\"2011-01-14T00:00:00.000000000\",\"2011-01-17T00:00:00.000000000\",\"2011-01-19T00:00:00.000000000\",\"2011-01-20T00:00:00.000000000\",\"2011-01-23T00:00:00.000000000\",\"2011-01-24T00:00:00.000000000\",\"2011-01-28T00:00:00.000000000\",\"2011-01-31T00:00:00.000000000\",\"2011-02-01T00:00:00.000000000\",\"2011-02-02T00:00:00.000000000\",\"2011-02-04T00:00:00.000000000\",\"2011-02-08T00:00:00.000000000\",\"2011-02-09T00:00:00.000000000\",\"2011-02-10T00:00:00.000000000\",\"2011-02-15T00:00:00.000000000\",\"2011-02-16T00:00:00.000000000\",\"2011-02-17T00:00:00.000000000\",\"2011-02-18T00:00:00.000000000\",\"2011-02-21T00:00:00.000000000\",\"2011-02-23T00:00:00.000000000\",\"2011-02-27T00:00:00.000000000\",\"2011-02-28T00:00:00.000000000\",\"2011-03-01T00:00:00.000000000\",\"2011-03-03T00:00:00.000000000\",\"2011-03-04T00:00:00.000000000\",\"2011-03-11T00:00:00.000000000\",\"2011-03-13T00:00:00.000000000\",\"2011-03-14T00:00:00.000000000\",\"2011-03-15T00:00:00.000000000\",\"2011-03-16T00:00:00.000000000\",\"2011-03-20T00:00:00.000000000\",\"2011-03-21T00:00:00.000000000\",\"2011-03-22T00:00:00.000000000\",\"2011-03-23T00:00:00.000000000\",\"2011-03-25T00:00:00.000000000\",\"2011-03-27T00:00:00.000000000\",\"2011-03-28T00:00:00.000000000\",\"2011-03-31T00:00:00.000000000\",\"2011-04-01T00:00:00.000000000\",\"2011-04-04T00:00:00.000000000\",\"2011-04-07T00:00:00.000000000\",\"2011-04-14T00:00:00.000000000\",\"2011-04-17T00:00:00.000000000\",\"2011-04-20T00:00:00.000000000\",\"2011-04-21T00:00:00.000000000\",\"2011-04-26T00:00:00.000000000\",\"2011-04-28T00:00:00.000000000\",\"2011-05-03T00:00:00.000000000\",\"2011-05-05T00:00:00.000000000\",\"2011-05-08T00:00:00.000000000\",\"2011-05-09T00:00:00.000000000\",\"2011-05-10T00:00:00.000000000\",\"2011-05-11T00:00:00.000000000\",\"2011-05-12T00:00:00.000000000\",\"2011-05-13T00:00:00.000000000\",\"2011-05-15T00:00:00.000000000\",\"2011-05-16T00:00:00.000000000\",\"2011-05-17T00:00:00.000000000\",\"2011-05-18T00:00:00.000000000\",\"2011-05-19T00:00:00.000000000\",\"2011-05-20T00:00:00.000000000\",\"2011-05-22T00:00:00.000000000\",\"2011-05-23T00:00:00.000000000\",\"2011-05-24T00:00:00.000000000\",\"2011-05-25T00:00:00.000000000\",\"2011-05-26T00:00:00.000000000\",\"2011-05-27T00:00:00.000000000\"],\"xaxis\":\"x\",\"y\":{\"dtype\":\"f8\",\"bdata\":\"AAAAAADAhkAAAAAAAGB7QAAAAAAAeIJAAAAAAACAU0AAAAAAAKCDQAAAAAAAkI5AAAAAAAAAhUAAAAAAAJSQQAAAAAAAcHBAAAAAAADwd0AAAAAAAPCFQAAAAAAAAF5AAAAAAAAAVUAAAAAAALiBQAAAAAAAbJxAAAAAAACgaEAAAAAAANB2QAAAAAAAGINAAAAAAADAakAAAAAAAKByQAAAAAAAQHxAAAAAAAAAWEAAAAAAACCIQAAAAAAAgFxAAAAAAADYh0AAAAAAANB0QAAAAAAAgHZAAAAAAACAUUAAAAAAAEiEQAAAAAAA8IFAAAAAAAAgdUAAAAAAAMBeQAAAAAAAMHRAAAAAAADgZkAAAAAAAABnQAAAAAAAoHNAAAAAAADgY0AAAAAAAGB6QAAAAAAAAFZAAAAAAADAaEAAAAAAABSTQAAAAAAAUHBAAAAAAACATUAAAAAAAFCKQAAAAAAAKqpAAAAAAACAdEAAAAAAAFByQAAAAAAAgG1AAAAAAADAcUAAAAAAAAB5QAAAAAAAgGhAAAAAAACgckAAAAAAAABVQAAAAAAAQGJAAAAAAAAwkEAAAAAAAIBYQAAAAAAAKIhAAAAAAADgfkAAAAAAAKB8QAAAAAAA1JhAAAAAAABAWkAAAAAAAGB\\u002fQAAAAAAAgGFAAAAAAABgcUAAAAAAAMB9QAAAAAAAcHRAAAAAAACAgUAAAAAAAAB9QAAAAAAAMHJAAAAAAAAAc0AAAAAAAABqQAAAAAAA8IZAAAAAAADgf0AAAAAAAGBjQA==\"},\"yaxis\":\"y\",\"type\":\"scatter\"},{\"hovertemplate\":\"variable=Revenue\\u003cbr\\u003eDate=%{x}\\u003cbr\\u003eSales=%{y}\\u003cextra\\u003e\\u003c\\u002fextra\\u003e\",\"legendgroup\":\"Revenue\",\"line\":{\"color\":\"#EF553B\",\"dash\":\"solid\"},\"marker\":{\"symbol\":\"circle\"},\"mode\":\"lines\",\"name\":\"Revenue\",\"orientation\":\"v\",\"showlegend\":true,\"x\":[\"2011-01-05T00:00:00.000000000\",\"2011-01-06T00:00:00.000000000\",\"2011-01-07T00:00:00.000000000\",\"2011-01-09T00:00:00.000000000\",\"2011-01-10T00:00:00.000000000\",\"2011-01-11T00:00:00.000000000\",\"2011-01-12T00:00:00.000000000\",\"2011-01-14T00:00:00.000000000\",\"2011-01-17T00:00:00.000000000\",\"2011-01-19T00:00:00.000000000\",\"2011-01-20T00:00:00.000000000\",\"2011-01-23T00:00:00.000000000\",\"2011-01-24T00:00:00.000000000\",\"2011-01-28T00:00:00.000000000\",\"2011-01-31T00:00:00.000000000\",\"2011-02-01T00:00:00.000000000\",\"2011-02-02T00:00:00.000000000\",\"2011-02-04T00:00:00.000000000\",\"2011-02-08T00:00:00.000000000\",\"2011-02-09T00:00:00.000000000\",\"2011-02-10T00:00:00.000000000\",\"2011-02-15T00:00:00.000000000\",\"2011-02-16T00:00:00.000000000\",\"2011-02-17T00:00:00.000000000\",\"2011-02-18T00:00:00.000000000\",\"2011-02-21T00:00:00.000000000\",\"2011-02-23T00:00:00.000000000\",\"2011-02-27T00:00:00.000000000\",\"2011-02-28T00:00:00.000000000\",\"2011-03-01T00:00:00.000000000\",\"2011-03-03T00:00:00.000000000\",\"2011-03-04T00:00:00.000000000\",\"2011-03-11T00:00:00.000000000\",\"2011-03-13T00:00:00.000000000\",\"2011-03-14T00:00:00.000000000\",\"2011-03-15T00:00:00.000000000\",\"2011-03-16T00:00:00.000000000\",\"2011-03-20T00:00:00.000000000\",\"2011-03-21T00:00:00.000000000\",\"2011-03-22T00:00:00.000000000\",\"2011-03-23T00:00:00.000000000\",\"2011-03-25T00:00:00.000000000\",\"2011-03-27T00:00:00.000000000\",\"2011-03-28T00:00:00.000000000\",\"2011-03-31T00:00:00.000000000\",\"2011-04-01T00:00:00.000000000\",\"2011-04-04T00:00:00.000000000\",\"2011-04-07T00:00:00.000000000\",\"2011-04-14T00:00:00.000000000\",\"2011-04-17T00:00:00.000000000\",\"2011-04-20T00:00:00.000000000\",\"2011-04-21T00:00:00.000000000\",\"2011-04-26T00:00:00.000000000\",\"2011-04-28T00:00:00.000000000\",\"2011-05-03T00:00:00.000000000\",\"2011-05-05T00:00:00.000000000\",\"2011-05-08T00:00:00.000000000\",\"2011-05-09T00:00:00.000000000\",\"2011-05-10T00:00:00.000000000\",\"2011-05-11T00:00:00.000000000\",\"2011-05-12T00:00:00.000000000\",\"2011-05-13T00:00:00.000000000\",\"2011-05-15T00:00:00.000000000\",\"2011-05-16T00:00:00.000000000\",\"2011-05-17T00:00:00.000000000\",\"2011-05-18T00:00:00.000000000\",\"2011-05-19T00:00:00.000000000\",\"2011-05-20T00:00:00.000000000\",\"2011-05-22T00:00:00.000000000\",\"2011-05-23T00:00:00.000000000\",\"2011-05-24T00:00:00.000000000\",\"2011-05-25T00:00:00.000000000\",\"2011-05-26T00:00:00.000000000\",\"2011-05-27T00:00:00.000000000\"],\"xaxis\":\"x\",\"y\":{\"dtype\":\"f8\",\"bdata\":\"H4XrUbjEk0Bcj8L1KCiGQB6F61G4eI5AAAAAAACAXEAK16NwPWCRQML1KFyP0pRA61G4HoVOk0AfhetRuOGYQIXrUbgeEYRAAAAAAADWhUAfhetRuAKWQAAAAAAAaHlAZmZmZmbGZ0BxPQrXo86NQD0K16Pwo6tAmZmZmZmNfECF61G4HluCQFK4HoXropFA61G4HoW7ZEC4HoXrURB5QClcj8L12HFAMzMzMzNza0DhehSuR+2JQAAAAAAAwGpAzMzMzMyki0DC9Shcj8aGQFyPwvUoPHlAZmZmZmYmV0DXo3A9CiaUQNejcD0KOZBAw\\u002fUoXI9Sf0AAAAAAAJRxQMzMzMzMJoVAcD0K16M0c0BnZmZmZpZ6QHA9Ctej+H9AmZmZmZmZbkC4HoXrUaByQHE9CtejKGlASOF6FK5ffUCF61G4Hi2aQMP1KFyP\\u002fnJAmpmZmZkBYEAzMzMzMxGQQKRwPQqX2bVAAAAAAABseEBmZmZmZgyAQDMzMzMzg3NAmpmZmZk5g0D2KFyPwpGCQDQzMzMzU31AZmZmZmZkhEDiehSuRxFkQDQzMzMz42dAkML1KFwlmkAAAAAAAABpQD4K16Nww45AZmZmZmZOf0CZmZmZmVF8QFyPwvWohKdAFa5H4XpocUCuR+F6FJSNQM3MzMzMrGBAKFyPwvUEhUApXI\\u002fC9RyHQArXo3A9PIdArkfhehR0i0AzMzMzM+ONQEjhehSuhYhAj8L1KFwfeEA9CtejcFV2QOF6FK5Hw5FAAAAAAAB0gUA9CtejcPF2QA==\"},\"yaxis\":\"y\",\"type\":\"scatter\"}],                        {\"template\":{\"data\":{\"histogram2dcontour\":[{\"type\":\"histogram2dcontour\",\"colorbar\":{\"outlinewidth\":0,\"ticks\":\"\"},\"colorscale\":[[0.0,\"#0d0887\"],[0.1111111111111111,\"#46039f\"],[0.2222222222222222,\"#7201a8\"],[0.3333333333333333,\"#9c179e\"],[0.4444444444444444,\"#bd3786\"],[0.5555555555555556,\"#d8576b\"],[0.6666666666666666,\"#ed7953\"],[0.7777777777777778,\"#fb9f3a\"],[0.8888888888888888,\"#fdca26\"],[1.0,\"#f0f921\"]]}],\"choropleth\":[{\"type\":\"choropleth\",\"colorbar\":{\"outlinewidth\":0,\"ticks\":\"\"}}],\"histogram2d\":[{\"type\":\"histogram2d\",\"colorbar\":{\"outlinewidth\":0,\"ticks\":\"\"},\"colorscale\":[[0.0,\"#0d0887\"],[0.1111111111111111,\"#46039f\"],[0.2222222222222222,\"#7201a8\"],[0.3333333333333333,\"#9c179e\"],[0.4444444444444444,\"#bd3786\"],[0.5555555555555556,\"#d8576b\"],[0.6666666666666666,\"#ed7953\"],[0.7777777777777778,\"#fb9f3a\"],[0.8888888888888888,\"#fdca26\"],[1.0,\"#f0f921\"]]}],\"heatmap\":[{\"type\":\"heatmap\",\"colorbar\":{\"outlinewidth\":0,\"ticks\":\"\"},\"colorscale\":[[0.0,\"#0d0887\"],[0.1111111111111111,\"#46039f\"],[0.2222222222222222,\"#7201a8\"],[0.3333333333333333,\"#9c179e\"],[0.4444444444444444,\"#bd3786\"],[0.5555555555555556,\"#d8576b\"],[0.6666666666666666,\"#ed7953\"],[0.7777777777777778,\"#fb9f3a\"],[0.8888888888888888,\"#fdca26\"],[1.0,\"#f0f921\"]]}],\"contourcarpet\":[{\"type\":\"contourcarpet\",\"colorbar\":{\"outlinewidth\":0,\"ticks\":\"\"}}],\"contour\":[{\"type\":\"contour\",\"colorbar\":{\"outlinewidth\":0,\"ticks\":\"\"},\"colorscale\":[[0.0,\"#0d0887\"],[0.1111111111111111,\"#46039f\"],[0.2222222222222222,\"#7201a8\"],[0.3333333333333333,\"#9c179e\"],[0.4444444444444444,\"#bd3786\"],[0.5555555555555556,\"#d8576b\"],[0.6666666666666666,\"#ed7953\"],[0.7777777777777778,\"#fb9f3a\"],[0.8888888888888888,\"#fdca26\"],[1.0,\"#f0f921\"]]}],\"surface\":[{\"type\":\"surface\",\"colorbar\":{\"outlinewidth\":0,\"ticks\":\"\"},\"colorscale\":[[0.0,\"#0d0887\"],[0.1111111111111111,\"#46039f\"],[0.2222222222222222,\"#7201a8\"],[0.3333333333333333,\"#9c179e\"],[0.4444444444444444,\"#bd3786\"],[0.5555555555555556,\"#d8576b\"],[0.6666666666666666,\"#ed7953\"],[0.7777777777777778,\"#fb9f3a\"],[0.8888888888888888,\"#fdca26\"],[1.0,\"#f0f921\"]]}],\"mesh3d\":[{\"type\":\"mesh3d\",\"colorbar\":{\"outlinewidth\":0,\"ticks\":\"\"}}],\"scatter\":[{\"fillpattern\":{\"fillmode\":\"overlay\",\"size\":10,\"solidity\":0.2},\"type\":\"scatter\"}],\"parcoords\":[{\"type\":\"parcoords\",\"line\":{\"colorbar\":{\"outlinewidth\":0,\"ticks\":\"\"}}}],\"scatterpolargl\":[{\"type\":\"scatterpolargl\",\"marker\":{\"colorbar\":{\"outlinewidth\":0,\"ticks\":\"\"}}}],\"bar\":[{\"error_x\":{\"color\":\"#2a3f5f\"},\"error_y\":{\"color\":\"#2a3f5f\"},\"marker\":{\"line\":{\"color\":\"#E5ECF6\",\"width\":0.5},\"pattern\":{\"fillmode\":\"overlay\",\"size\":10,\"solidity\":0.2}},\"type\":\"bar\"}],\"scattergeo\":[{\"type\":\"scattergeo\",\"marker\":{\"colorbar\":{\"outlinewidth\":0,\"ticks\":\"\"}}}],\"scatterpolar\":[{\"type\":\"scatterpolar\",\"marker\":{\"colorbar\":{\"outlinewidth\":0,\"ticks\":\"\"}}}],\"histogram\":[{\"marker\":{\"pattern\":{\"fillmode\":\"overlay\",\"size\":10,\"solidity\":0.2}},\"type\":\"histogram\"}],\"scattergl\":[{\"type\":\"scattergl\",\"marker\":{\"colorbar\":{\"outlinewidth\":0,\"ticks\":\"\"}}}],\"scatter3d\":[{\"type\":\"scatter3d\",\"line\":{\"colorbar\":{\"outlinewidth\":0,\"ticks\":\"\"}},\"marker\":{\"colorbar\":{\"outlinewidth\":0,\"ticks\":\"\"}}}],\"scattermap\":[{\"type\":\"scattermap\",\"marker\":{\"colorbar\":{\"outlinewidth\":0,\"ticks\":\"\"}}}],\"scattermapbox\":[{\"type\":\"scattermapbox\",\"marker\":{\"colorbar\":{\"outlinewidth\":0,\"ticks\":\"\"}}}],\"scatterternary\":[{\"type\":\"scatterternary\",\"marker\":{\"colorbar\":{\"outlinewidth\":0,\"ticks\":\"\"}}}],\"scattercarpet\":[{\"type\":\"scattercarpet\",\"marker\":{\"colorbar\":{\"outlinewidth\":0,\"ticks\":\"\"}}}],\"carpet\":[{\"aaxis\":{\"endlinecolor\":\"#2a3f5f\",\"gridcolor\":\"white\",\"linecolor\":\"white\",\"minorgridcolor\":\"white\",\"startlinecolor\":\"#2a3f5f\"},\"baxis\":{\"endlinecolor\":\"#2a3f5f\",\"gridcolor\":\"white\",\"linecolor\":\"white\",\"minorgridcolor\":\"white\",\"startlinecolor\":\"#2a3f5f\"},\"type\":\"carpet\"}],\"table\":[{\"cells\":{\"fill\":{\"color\":\"#EBF0F8\"},\"line\":{\"color\":\"white\"}},\"header\":{\"fill\":{\"color\":\"#C8D4E3\"},\"line\":{\"color\":\"white\"}},\"type\":\"table\"}],\"barpolar\":[{\"marker\":{\"line\":{\"color\":\"#E5ECF6\",\"width\":0.5},\"pattern\":{\"fillmode\":\"overlay\",\"size\":10,\"solidity\":0.2}},\"type\":\"barpolar\"}],\"pie\":[{\"automargin\":true,\"type\":\"pie\"}]},\"layout\":{\"autotypenumbers\":\"strict\",\"colorway\":[\"#636efa\",\"#EF553B\",\"#00cc96\",\"#ab63fa\",\"#FFA15A\",\"#19d3f3\",\"#FF6692\",\"#B6E880\",\"#FF97FF\",\"#FECB52\"],\"font\":{\"color\":\"#2a3f5f\"},\"hovermode\":\"closest\",\"hoverlabel\":{\"align\":\"left\"},\"paper_bgcolor\":\"white\",\"plot_bgcolor\":\"#E5ECF6\",\"polar\":{\"bgcolor\":\"#E5ECF6\",\"angularaxis\":{\"gridcolor\":\"white\",\"linecolor\":\"white\",\"ticks\":\"\"},\"radialaxis\":{\"gridcolor\":\"white\",\"linecolor\":\"white\",\"ticks\":\"\"}},\"ternary\":{\"bgcolor\":\"#E5ECF6\",\"aaxis\":{\"gridcolor\":\"white\",\"linecolor\":\"white\",\"ticks\":\"\"},\"baxis\":{\"gridcolor\":\"white\",\"linecolor\":\"white\",\"ticks\":\"\"},\"caxis\":{\"gridcolor\":\"white\",\"linecolor\":\"white\",\"ticks\":\"\"}},\"coloraxis\":{\"colorbar\":{\"outlinewidth\":0,\"ticks\":\"\"}},\"colorscale\":{\"sequential\":[[0.0,\"#0d0887\"],[0.1111111111111111,\"#46039f\"],[0.2222222222222222,\"#7201a8\"],[0.3333333333333333,\"#9c179e\"],[0.4444444444444444,\"#bd3786\"],[0.5555555555555556,\"#d8576b\"],[0.6666666666666666,\"#ed7953\"],[0.7777777777777778,\"#fb9f3a\"],[0.8888888888888888,\"#fdca26\"],[1.0,\"#f0f921\"]],\"sequentialminus\":[[0.0,\"#0d0887\"],[0.1111111111111111,\"#46039f\"],[0.2222222222222222,\"#7201a8\"],[0.3333333333333333,\"#9c179e\"],[0.4444444444444444,\"#bd3786\"],[0.5555555555555556,\"#d8576b\"],[0.6666666666666666,\"#ed7953\"],[0.7777777777777778,\"#fb9f3a\"],[0.8888888888888888,\"#fdca26\"],[1.0,\"#f0f921\"]],\"diverging\":[[0,\"#8e0152\"],[0.1,\"#c51b7d\"],[0.2,\"#de77ae\"],[0.3,\"#f1b6da\"],[0.4,\"#fde0ef\"],[0.5,\"#f7f7f7\"],[0.6,\"#e6f5d0\"],[0.7,\"#b8e186\"],[0.8,\"#7fbc41\"],[0.9,\"#4d9221\"],[1,\"#276419\"]]},\"xaxis\":{\"gridcolor\":\"white\",\"linecolor\":\"white\",\"ticks\":\"\",\"title\":{\"standoff\":15},\"zerolinecolor\":\"white\",\"automargin\":true,\"zerolinewidth\":2},\"yaxis\":{\"gridcolor\":\"white\",\"linecolor\":\"white\",\"ticks\":\"\",\"title\":{\"standoff\":15},\"zerolinecolor\":\"white\",\"automargin\":true,\"zerolinewidth\":2},\"scene\":{\"xaxis\":{\"backgroundcolor\":\"#E5ECF6\",\"gridcolor\":\"white\",\"linecolor\":\"white\",\"showbackground\":true,\"ticks\":\"\",\"zerolinecolor\":\"white\",\"gridwidth\":2},\"yaxis\":{\"backgroundcolor\":\"#E5ECF6\",\"gridcolor\":\"white\",\"linecolor\":\"white\",\"showbackground\":true,\"ticks\":\"\",\"zerolinecolor\":\"white\",\"gridwidth\":2},\"zaxis\":{\"backgroundcolor\":\"#E5ECF6\",\"gridcolor\":\"white\",\"linecolor\":\"white\",\"showbackground\":true,\"ticks\":\"\",\"zerolinecolor\":\"white\",\"gridwidth\":2}},\"shapedefaults\":{\"line\":{\"color\":\"#2a3f5f\"}},\"annotationdefaults\":{\"arrowcolor\":\"#2a3f5f\",\"arrowhead\":0,\"arrowwidth\":1},\"geo\":{\"bgcolor\":\"white\",\"landcolor\":\"#E5ECF6\",\"subunitcolor\":\"white\",\"showland\":true,\"showlakes\":true,\"lakecolor\":\"white\"},\"title\":{\"x\":0.05},\"mapbox\":{\"style\":\"light\"}}},\"xaxis\":{\"anchor\":\"y\",\"domain\":[0.0,1.0],\"title\":{\"text\":\"Date\"}},\"yaxis\":{\"anchor\":\"x\",\"domain\":[0.0,1.0],\"title\":{\"text\":\"Sales\"}},\"legend\":{\"title\":{\"text\":\"variable\"},\"tracegroupgap\":0},\"title\":{\"text\":\"France Sales: Quantity and Revenue from January 1 to May 31, 2011\"}},                        {\"responsive\": true}                    ).then(function(){\n",
       "                            \n",
       "var gd = document.getElementById('afaddda5-080c-4df3-89e8-44f233aee541');\n",
       "var x = new MutationObserver(function (mutations, observer) {{\n",
       "        var display = window.getComputedStyle(gd).display;\n",
       "        if (!display || display === 'none') {{\n",
       "            console.log([gd, 'removed!']);\n",
       "            Plotly.purge(gd);\n",
       "            observer.disconnect();\n",
       "        }}\n",
       "}});\n",
       "\n",
       "// Listen for the removal of the full notebook cells\n",
       "var notebookContainer = gd.closest('#notebook-container');\n",
       "if (notebookContainer) {{\n",
       "    x.observe(notebookContainer, {childList: true});\n",
       "}}\n",
       "\n",
       "// Listen for the clearing of the current output cell\n",
       "var outputEl = gd.closest('.output');\n",
       "if (outputEl) {{\n",
       "    x.observe(outputEl, {childList: true});\n",
       "}}\n",
       "\n",
       "                        })                };            </script>        </div>"
      ]
     },
     "metadata": {},
     "output_type": "display_data"
    }
   ],
   "source": [
    "fig = px.line(\n",
    "    agg_data_france_2011,\n",
    "    x='InvoiceDate',\n",
    "    y=['Quantity', 'Revenue'],\n",
    "    title='France Sales: Quantity and Revenue from January 1 to May 31, 2011',\n",
    "    labels={'InvoiceDate': 'Date', 'value': 'Sales'}\n",
    ")\n",
    "\n",
    "fig.show()"
   ]
  },
  {
   "cell_type": "markdown",
   "metadata": {},
   "source": [
    "## 3. Create an interactive scatter plot showing the relationship between average quantity (x-axis) and average unit price (y-axis) for the product PARTY BUNTING with the plot points color-coded by country (categories)."
   ]
  },
  {
   "cell_type": "code",
   "execution_count": 9,
   "metadata": {},
   "outputs": [
    {
     "data": {
      "application/vnd.plotly.v1+json": {
       "config": {
        "plotlyServerURL": "https://plot.ly"
       },
       "data": [
        {
         "hovertemplate": "<b>%{hovertext}</b><br><br>Country=Australia<br>avg_quantity=%{marker.size}<br>avg_unit_price=%{y}<extra></extra>",
         "hovertext": [
          "Australia"
         ],
         "legendgroup": "Australia",
         "marker": {
          "color": "#636efa",
          "line": {
           "color": "DarkSlateGrey",
           "width": 1
          },
          "opacity": 0.8,
          "size": {
           "bdata": "AAAAAACQQEA=",
           "dtype": "f8"
          },
          "sizemode": "area",
          "sizeref": 0.14166666666666666,
          "symbol": "circle"
         },
         "mode": "markers",
         "name": "Australia",
         "orientation": "v",
         "showlegend": true,
         "type": "scatter",
         "x": {
          "bdata": "AAAAAACQQEA=",
          "dtype": "f8"
         },
         "xaxis": "x",
         "y": {
          "bdata": "mpmZmZnZEkA=",
          "dtype": "f8"
         },
         "yaxis": "y"
        },
        {
         "hovertemplate": "<b>%{hovertext}</b><br><br>Country=Austria<br>avg_quantity=%{marker.size}<br>avg_unit_price=%{y}<extra></extra>",
         "hovertext": [
          "Austria"
         ],
         "legendgroup": "Austria",
         "marker": {
          "color": "#EF553B",
          "line": {
           "color": "DarkSlateGrey",
           "width": 1
          },
          "opacity": 0.8,
          "size": {
           "bdata": "AAAAAAAAIEA=",
           "dtype": "f8"
          },
          "sizemode": "area",
          "sizeref": 0.14166666666666666,
          "symbol": "circle"
         },
         "mode": "markers",
         "name": "Austria",
         "orientation": "v",
         "showlegend": true,
         "type": "scatter",
         "x": {
          "bdata": "AAAAAAAAIEA=",
          "dtype": "f8"
         },
         "xaxis": "x",
         "y": {
          "bdata": "zczMzMzME0A=",
          "dtype": "f8"
         },
         "yaxis": "y"
        },
        {
         "hovertemplate": "<b>%{hovertext}</b><br><br>Country=Belgium<br>avg_quantity=%{marker.size}<br>avg_unit_price=%{y}<extra></extra>",
         "hovertext": [
          "Belgium"
         ],
         "legendgroup": "Belgium",
         "marker": {
          "color": "#00cc96",
          "line": {
           "color": "DarkSlateGrey",
           "width": 1
          },
          "opacity": 0.8,
          "size": {
           "bdata": "AAAAAAAAEEA=",
           "dtype": "f8"
          },
          "sizemode": "area",
          "sizeref": 0.14166666666666666,
          "symbol": "circle"
         },
         "mode": "markers",
         "name": "Belgium",
         "orientation": "v",
         "showlegend": true,
         "type": "scatter",
         "x": {
          "bdata": "AAAAAAAAEEA=",
          "dtype": "f8"
         },
         "xaxis": "x",
         "y": {
          "bdata": "zczMzMzME0A=",
          "dtype": "f8"
         },
         "yaxis": "y"
        },
        {
         "hovertemplate": "<b>%{hovertext}</b><br><br>Country=Channel Islands<br>avg_quantity=%{marker.size}<br>avg_unit_price=%{y}<extra></extra>",
         "hovertext": [
          "Channel Islands"
         ],
         "legendgroup": "Channel Islands",
         "marker": {
          "color": "#ab63fa",
          "line": {
           "color": "DarkSlateGrey",
           "width": 1
          },
          "opacity": 0.8,
          "size": {
           "bdata": "q6qqqqqqKkA=",
           "dtype": "f8"
          },
          "sizemode": "area",
          "sizeref": 0.14166666666666666,
          "symbol": "circle"
         },
         "mode": "markers",
         "name": "Channel Islands",
         "orientation": "v",
         "showlegend": true,
         "type": "scatter",
         "x": {
          "bdata": "q6qqqqqqKkA=",
          "dtype": "f8"
         },
         "xaxis": "x",
         "y": {
          "bdata": "zczMzMzME0A=",
          "dtype": "f8"
         },
         "yaxis": "y"
        },
        {
         "hovertemplate": "<b>%{hovertext}</b><br><br>Country=Cyprus<br>avg_quantity=%{marker.size}<br>avg_unit_price=%{y}<extra></extra>",
         "hovertext": [
          "Cyprus"
         ],
         "legendgroup": "Cyprus",
         "marker": {
          "color": "#FFA15A",
          "line": {
           "color": "DarkSlateGrey",
           "width": 1
          },
          "opacity": 0.8,
          "size": {
           "bdata": "q6qqqqqqAkA=",
           "dtype": "f8"
          },
          "sizemode": "area",
          "sizeref": 0.14166666666666666,
          "symbol": "circle"
         },
         "mode": "markers",
         "name": "Cyprus",
         "orientation": "v",
         "showlegend": true,
         "type": "scatter",
         "x": {
          "bdata": "q6qqqqqqAkA=",
          "dtype": "f8"
         },
         "xaxis": "x",
         "y": {
          "bdata": "AAAAAAAAE0A=",
          "dtype": "f8"
         },
         "yaxis": "y"
        },
        {
         "hovertemplate": "<b>%{hovertext}</b><br><br>Country=Denmark<br>avg_quantity=%{marker.size}<br>avg_unit_price=%{y}<extra></extra>",
         "hovertext": [
          "Denmark"
         ],
         "legendgroup": "Denmark",
         "marker": {
          "color": "#19d3f3",
          "line": {
           "color": "DarkSlateGrey",
           "width": 1
          },
          "opacity": 0.8,
          "size": {
           "bdata": "AAAAAAAAKEA=",
           "dtype": "f8"
          },
          "sizemode": "area",
          "sizeref": 0.14166666666666666,
          "symbol": "circle"
         },
         "mode": "markers",
         "name": "Denmark",
         "orientation": "v",
         "showlegend": true,
         "type": "scatter",
         "x": {
          "bdata": "AAAAAAAAKEA=",
          "dtype": "f8"
         },
         "xaxis": "x",
         "y": {
          "bdata": "zczMzMzME0A=",
          "dtype": "f8"
         },
         "yaxis": "y"
        },
        {
         "hovertemplate": "<b>%{hovertext}</b><br><br>Country=EIRE<br>avg_quantity=%{marker.size}<br>avg_unit_price=%{y}<extra></extra>",
         "hovertext": [
          "EIRE"
         ],
         "legendgroup": "EIRE",
         "marker": {
          "color": "#FF6692",
          "line": {
           "color": "DarkSlateGrey",
           "width": 1
          },
          "opacity": 0.8,
          "size": {
           "bdata": "XkN5DeU1NUA=",
           "dtype": "f8"
          },
          "sizemode": "area",
          "sizeref": 0.14166666666666666,
          "symbol": "circle"
         },
         "mode": "markers",
         "name": "EIRE",
         "orientation": "v",
         "showlegend": true,
         "type": "scatter",
         "x": {
          "bdata": "XkN5DeU1NUA=",
          "dtype": "f8"
         },
         "xaxis": "x",
         "y": {
          "bdata": "VL/nljj1EkA=",
          "dtype": "f8"
         },
         "yaxis": "y"
        },
        {
         "hovertemplate": "<b>%{hovertext}</b><br><br>Country=Finland<br>avg_quantity=%{marker.size}<br>avg_unit_price=%{y}<extra></extra>",
         "hovertext": [
          "Finland"
         ],
         "legendgroup": "Finland",
         "marker": {
          "color": "#B6E880",
          "line": {
           "color": "DarkSlateGrey",
           "width": 1
          },
          "opacity": 0.8,
          "size": {
           "bdata": "AAAAAAAAGEA=",
           "dtype": "f8"
          },
          "sizemode": "area",
          "sizeref": 0.14166666666666666,
          "symbol": "circle"
         },
         "mode": "markers",
         "name": "Finland",
         "orientation": "v",
         "showlegend": true,
         "type": "scatter",
         "x": {
          "bdata": "AAAAAAAAGEA=",
          "dtype": "f8"
         },
         "xaxis": "x",
         "y": {
          "bdata": "zczMzMzME0A=",
          "dtype": "f8"
         },
         "yaxis": "y"
        },
        {
         "hovertemplate": "<b>%{hovertext}</b><br><br>Country=France<br>avg_quantity=%{marker.size}<br>avg_unit_price=%{y}<extra></extra>",
         "hovertext": [
          "France"
         ],
         "legendgroup": "France",
         "marker": {
          "color": "#FF97FF",
          "line": {
           "color": "DarkSlateGrey",
           "width": 1
          },
          "opacity": 0.8,
          "size": {
           "bdata": "6aKLLrroFkA=",
           "dtype": "f8"
          },
          "sizemode": "area",
          "sizeref": 0.14166666666666666,
          "symbol": "circle"
         },
         "mode": "markers",
         "name": "France",
         "orientation": "v",
         "showlegend": true,
         "type": "scatter",
         "x": {
          "bdata": "6aKLLrroFkA=",
          "dtype": "f8"
         },
         "xaxis": "x",
         "y": {
          "bdata": "sfYNa9+wE0A=",
          "dtype": "f8"
         },
         "yaxis": "y"
        },
        {
         "hovertemplate": "<b>%{hovertext}</b><br><br>Country=Germany<br>avg_quantity=%{marker.size}<br>avg_unit_price=%{y}<extra></extra>",
         "hovertext": [
          "Germany"
         ],
         "legendgroup": "Germany",
         "marker": {
          "color": "#FECB52",
          "line": {
           "color": "DarkSlateGrey",
           "width": 1
          },
          "opacity": 0.8,
          "size": {
           "bdata": "MzMzMzMzG0A=",
           "dtype": "f8"
          },
          "sizemode": "area",
          "sizeref": 0.14166666666666666,
          "symbol": "circle"
         },
         "mode": "markers",
         "name": "Germany",
         "orientation": "v",
         "showlegend": true,
         "type": "scatter",
         "x": {
          "bdata": "MzMzMzMzG0A=",
          "dtype": "f8"
         },
         "xaxis": "x",
         "y": {
          "bdata": "kML1KFyPE0A=",
          "dtype": "f8"
         },
         "yaxis": "y"
        },
        {
         "hovertemplate": "<b>%{hovertext}</b><br><br>Country=Israel<br>avg_quantity=%{marker.size}<br>avg_unit_price=%{y}<extra></extra>",
         "hovertext": [
          "Israel"
         ],
         "legendgroup": "Israel",
         "marker": {
          "color": "#636efa",
          "line": {
           "color": "DarkSlateGrey",
           "width": 1
          },
          "opacity": 0.8,
          "size": {
           "bdata": "AAAAAAAA8D8=",
           "dtype": "f8"
          },
          "sizemode": "area",
          "sizeref": 0.14166666666666666,
          "symbol": "circle"
         },
         "mode": "markers",
         "name": "Israel",
         "orientation": "v",
         "showlegend": true,
         "type": "scatter",
         "x": {
          "bdata": "AAAAAAAA8D8=",
          "dtype": "f8"
         },
         "xaxis": "x",
         "y": {
          "bdata": "zczMzMzME0A=",
          "dtype": "f8"
         },
         "yaxis": "y"
        },
        {
         "hovertemplate": "<b>%{hovertext}</b><br><br>Country=Japan<br>avg_quantity=%{marker.size}<br>avg_unit_price=%{y}<extra></extra>",
         "hovertext": [
          "Japan"
         ],
         "legendgroup": "Japan",
         "marker": {
          "color": "#EF553B",
          "line": {
           "color": "DarkSlateGrey",
           "width": 1
          },
          "opacity": 0.8,
          "size": {
           "bdata": "VVVVVVVVTEA=",
           "dtype": "f8"
          },
          "sizemode": "area",
          "sizeref": 0.14166666666666666,
          "symbol": "circle"
         },
         "mode": "markers",
         "name": "Japan",
         "orientation": "v",
         "showlegend": true,
         "type": "scatter",
         "x": {
          "bdata": "VVVVVVVVTEA=",
          "dtype": "f8"
         },
         "xaxis": "x",
         "y": {
          "bdata": "vLu7u7u7EEA=",
          "dtype": "f8"
         },
         "yaxis": "y"
        },
        {
         "hovertemplate": "<b>%{hovertext}</b><br><br>Country=Lebanon<br>avg_quantity=%{marker.size}<br>avg_unit_price=%{y}<extra></extra>",
         "hovertext": [
          "Lebanon"
         ],
         "legendgroup": "Lebanon",
         "marker": {
          "color": "#00cc96",
          "line": {
           "color": "DarkSlateGrey",
           "width": 1
          },
          "opacity": 0.8,
          "size": {
           "bdata": "AAAAAAAALkA=",
           "dtype": "f8"
          },
          "sizemode": "area",
          "sizeref": 0.14166666666666666,
          "symbol": "circle"
         },
         "mode": "markers",
         "name": "Lebanon",
         "orientation": "v",
         "showlegend": true,
         "type": "scatter",
         "x": {
          "bdata": "AAAAAAAALkA=",
          "dtype": "f8"
         },
         "xaxis": "x",
         "y": {
          "bdata": "mpmZmZmZEkA=",
          "dtype": "f8"
         },
         "yaxis": "y"
        },
        {
         "hovertemplate": "<b>%{hovertext}</b><br><br>Country=Netherlands<br>avg_quantity=%{marker.size}<br>avg_unit_price=%{y}<extra></extra>",
         "hovertext": [
          "Netherlands"
         ],
         "legendgroup": "Netherlands",
         "marker": {
          "color": "#ab63fa",
          "line": {
           "color": "DarkSlateGrey",
           "width": 1
          },
          "opacity": 0.8,
          "size": {
           "bdata": "AAAAAAAASUA=",
           "dtype": "f8"
          },
          "sizemode": "area",
          "sizeref": 0.14166666666666666,
          "symbol": "circle"
         },
         "mode": "markers",
         "name": "Netherlands",
         "orientation": "v",
         "showlegend": true,
         "type": "scatter",
         "x": {
          "bdata": "AAAAAAAASUA=",
          "dtype": "f8"
         },
         "xaxis": "x",
         "y": {
          "bdata": "mpmZmZmZEEA=",
          "dtype": "f8"
         },
         "yaxis": "y"
        },
        {
         "hovertemplate": "<b>%{hovertext}</b><br><br>Country=Norway<br>avg_quantity=%{marker.size}<br>avg_unit_price=%{y}<extra></extra>",
         "hovertext": [
          "Norway"
         ],
         "legendgroup": "Norway",
         "marker": {
          "color": "#FFA15A",
          "line": {
           "color": "DarkSlateGrey",
           "width": 1
          },
          "opacity": 0.8,
          "size": {
           "bdata": "AAAAAAAAGEA=",
           "dtype": "f8"
          },
          "sizemode": "area",
          "sizeref": 0.14166666666666666,
          "symbol": "circle"
         },
         "mode": "markers",
         "name": "Norway",
         "orientation": "v",
         "showlegend": true,
         "type": "scatter",
         "x": {
          "bdata": "AAAAAAAAGEA=",
          "dtype": "f8"
         },
         "xaxis": "x",
         "y": {
          "bdata": "zczMzMzME0A=",
          "dtype": "f8"
         },
         "yaxis": "y"
        },
        {
         "hovertemplate": "<b>%{hovertext}</b><br><br>Country=Singapore<br>avg_quantity=%{marker.size}<br>avg_unit_price=%{y}<extra></extra>",
         "hovertext": [
          "Singapore"
         ],
         "legendgroup": "Singapore",
         "marker": {
          "color": "#19d3f3",
          "line": {
           "color": "DarkSlateGrey",
           "width": 1
          },
          "opacity": 0.8,
          "size": {
           "bdata": "AAAAAAAAIEA=",
           "dtype": "f8"
          },
          "sizemode": "area",
          "sizeref": 0.14166666666666666,
          "symbol": "circle"
         },
         "mode": "markers",
         "name": "Singapore",
         "orientation": "v",
         "showlegend": true,
         "type": "scatter",
         "x": {
          "bdata": "AAAAAAAAIEA=",
          "dtype": "f8"
         },
         "xaxis": "x",
         "y": {
          "bdata": "zczMzMzME0A=",
          "dtype": "f8"
         },
         "yaxis": "y"
        },
        {
         "hovertemplate": "<b>%{hovertext}</b><br><br>Country=South Africa<br>avg_quantity=%{marker.size}<br>avg_unit_price=%{y}<extra></extra>",
         "hovertext": [
          "South Africa"
         ],
         "legendgroup": "South Africa",
         "marker": {
          "color": "#FF6692",
          "line": {
           "color": "DarkSlateGrey",
           "width": 1
          },
          "opacity": 0.8,
          "size": {
           "bdata": "AAAAAAAAEEA=",
           "dtype": "f8"
          },
          "sizemode": "area",
          "sizeref": 0.14166666666666666,
          "symbol": "circle"
         },
         "mode": "markers",
         "name": "South Africa",
         "orientation": "v",
         "showlegend": true,
         "type": "scatter",
         "x": {
          "bdata": "AAAAAAAAEEA=",
          "dtype": "f8"
         },
         "xaxis": "x",
         "y": {
          "bdata": "zczMzMzME0A=",
          "dtype": "f8"
         },
         "yaxis": "y"
        },
        {
         "hovertemplate": "<b>%{hovertext}</b><br><br>Country=Spain<br>avg_quantity=%{marker.size}<br>avg_unit_price=%{y}<extra></extra>",
         "hovertext": [
          "Spain"
         ],
         "legendgroup": "Spain",
         "marker": {
          "color": "#B6E880",
          "line": {
           "color": "DarkSlateGrey",
           "width": 1
          },
          "opacity": 0.8,
          "size": {
           "bdata": "AAAAAAAAE0A=",
           "dtype": "f8"
          },
          "sizemode": "area",
          "sizeref": 0.14166666666666666,
          "symbol": "circle"
         },
         "mode": "markers",
         "name": "Spain",
         "orientation": "v",
         "showlegend": true,
         "type": "scatter",
         "x": {
          "bdata": "AAAAAAAAE0A=",
          "dtype": "f8"
         },
         "xaxis": "x",
         "y": {
          "bdata": "mpmZmZlZE0A=",
          "dtype": "f8"
         },
         "yaxis": "y"
        },
        {
         "hovertemplate": "<b>%{hovertext}</b><br><br>Country=Switzerland<br>avg_quantity=%{marker.size}<br>avg_unit_price=%{y}<extra></extra>",
         "hovertext": [
          "Switzerland"
         ],
         "legendgroup": "Switzerland",
         "marker": {
          "color": "#FF97FF",
          "line": {
           "color": "DarkSlateGrey",
           "width": 1
          },
          "opacity": 0.8,
          "size": {
           "bdata": "MzMzMzMzMUA=",
           "dtype": "f8"
          },
          "sizemode": "area",
          "sizeref": 0.14166666666666666,
          "symbol": "circle"
         },
         "mode": "markers",
         "name": "Switzerland",
         "orientation": "v",
         "showlegend": true,
         "type": "scatter",
         "x": {
          "bdata": "MzMzMzMzMUA=",
          "dtype": "f8"
         },
         "xaxis": "x",
         "y": {
          "bdata": "KlyPwvUoE0A=",
          "dtype": "f8"
         },
         "yaxis": "y"
        },
        {
         "hovertemplate": "<b>%{hovertext}</b><br><br>Country=United Kingdom<br>avg_quantity=%{marker.size}<br>avg_unit_price=%{y}<extra></extra>",
         "hovertext": [
          "United Kingdom"
         ],
         "legendgroup": "United Kingdom",
         "marker": {
          "color": "#FECB52",
          "line": {
           "color": "DarkSlateGrey",
           "width": 1
          },
          "opacity": 0.8,
          "size": {
           "bdata": "IPiBH/iBJUA=",
           "dtype": "f8"
          },
          "sizemode": "area",
          "sizeref": 0.14166666666666666,
          "symbol": "circle"
         },
         "mode": "markers",
         "name": "United Kingdom",
         "orientation": "v",
         "showlegend": true,
         "type": "scatter",
         "x": {
          "bdata": "IPiBH/iBJUA=",
          "dtype": "f8"
         },
         "xaxis": "x",
         "y": {
          "bdata": "Y5b3ZuyFE0A=",
          "dtype": "f8"
         },
         "yaxis": "y"
        }
       ],
       "layout": {
        "legend": {
         "itemsizing": "constant",
         "title": {
          "text": "Country"
         },
         "tracegroupgap": 0
        },
        "template": {
         "data": {
          "bar": [
           {
            "error_x": {
             "color": "#2a3f5f"
            },
            "error_y": {
             "color": "#2a3f5f"
            },
            "marker": {
             "line": {
              "color": "#E5ECF6",
              "width": 0.5
             },
             "pattern": {
              "fillmode": "overlay",
              "size": 10,
              "solidity": 0.2
             }
            },
            "type": "bar"
           }
          ],
          "barpolar": [
           {
            "marker": {
             "line": {
              "color": "#E5ECF6",
              "width": 0.5
             },
             "pattern": {
              "fillmode": "overlay",
              "size": 10,
              "solidity": 0.2
             }
            },
            "type": "barpolar"
           }
          ],
          "carpet": [
           {
            "aaxis": {
             "endlinecolor": "#2a3f5f",
             "gridcolor": "white",
             "linecolor": "white",
             "minorgridcolor": "white",
             "startlinecolor": "#2a3f5f"
            },
            "baxis": {
             "endlinecolor": "#2a3f5f",
             "gridcolor": "white",
             "linecolor": "white",
             "minorgridcolor": "white",
             "startlinecolor": "#2a3f5f"
            },
            "type": "carpet"
           }
          ],
          "choropleth": [
           {
            "colorbar": {
             "outlinewidth": 0,
             "ticks": ""
            },
            "type": "choropleth"
           }
          ],
          "contour": [
           {
            "colorbar": {
             "outlinewidth": 0,
             "ticks": ""
            },
            "colorscale": [
             [
              0,
              "#0d0887"
             ],
             [
              0.1111111111111111,
              "#46039f"
             ],
             [
              0.2222222222222222,
              "#7201a8"
             ],
             [
              0.3333333333333333,
              "#9c179e"
             ],
             [
              0.4444444444444444,
              "#bd3786"
             ],
             [
              0.5555555555555556,
              "#d8576b"
             ],
             [
              0.6666666666666666,
              "#ed7953"
             ],
             [
              0.7777777777777778,
              "#fb9f3a"
             ],
             [
              0.8888888888888888,
              "#fdca26"
             ],
             [
              1,
              "#f0f921"
             ]
            ],
            "type": "contour"
           }
          ],
          "contourcarpet": [
           {
            "colorbar": {
             "outlinewidth": 0,
             "ticks": ""
            },
            "type": "contourcarpet"
           }
          ],
          "heatmap": [
           {
            "colorbar": {
             "outlinewidth": 0,
             "ticks": ""
            },
            "colorscale": [
             [
              0,
              "#0d0887"
             ],
             [
              0.1111111111111111,
              "#46039f"
             ],
             [
              0.2222222222222222,
              "#7201a8"
             ],
             [
              0.3333333333333333,
              "#9c179e"
             ],
             [
              0.4444444444444444,
              "#bd3786"
             ],
             [
              0.5555555555555556,
              "#d8576b"
             ],
             [
              0.6666666666666666,
              "#ed7953"
             ],
             [
              0.7777777777777778,
              "#fb9f3a"
             ],
             [
              0.8888888888888888,
              "#fdca26"
             ],
             [
              1,
              "#f0f921"
             ]
            ],
            "type": "heatmap"
           }
          ],
          "histogram": [
           {
            "marker": {
             "pattern": {
              "fillmode": "overlay",
              "size": 10,
              "solidity": 0.2
             }
            },
            "type": "histogram"
           }
          ],
          "histogram2d": [
           {
            "colorbar": {
             "outlinewidth": 0,
             "ticks": ""
            },
            "colorscale": [
             [
              0,
              "#0d0887"
             ],
             [
              0.1111111111111111,
              "#46039f"
             ],
             [
              0.2222222222222222,
              "#7201a8"
             ],
             [
              0.3333333333333333,
              "#9c179e"
             ],
             [
              0.4444444444444444,
              "#bd3786"
             ],
             [
              0.5555555555555556,
              "#d8576b"
             ],
             [
              0.6666666666666666,
              "#ed7953"
             ],
             [
              0.7777777777777778,
              "#fb9f3a"
             ],
             [
              0.8888888888888888,
              "#fdca26"
             ],
             [
              1,
              "#f0f921"
             ]
            ],
            "type": "histogram2d"
           }
          ],
          "histogram2dcontour": [
           {
            "colorbar": {
             "outlinewidth": 0,
             "ticks": ""
            },
            "colorscale": [
             [
              0,
              "#0d0887"
             ],
             [
              0.1111111111111111,
              "#46039f"
             ],
             [
              0.2222222222222222,
              "#7201a8"
             ],
             [
              0.3333333333333333,
              "#9c179e"
             ],
             [
              0.4444444444444444,
              "#bd3786"
             ],
             [
              0.5555555555555556,
              "#d8576b"
             ],
             [
              0.6666666666666666,
              "#ed7953"
             ],
             [
              0.7777777777777778,
              "#fb9f3a"
             ],
             [
              0.8888888888888888,
              "#fdca26"
             ],
             [
              1,
              "#f0f921"
             ]
            ],
            "type": "histogram2dcontour"
           }
          ],
          "mesh3d": [
           {
            "colorbar": {
             "outlinewidth": 0,
             "ticks": ""
            },
            "type": "mesh3d"
           }
          ],
          "parcoords": [
           {
            "line": {
             "colorbar": {
              "outlinewidth": 0,
              "ticks": ""
             }
            },
            "type": "parcoords"
           }
          ],
          "pie": [
           {
            "automargin": true,
            "type": "pie"
           }
          ],
          "scatter": [
           {
            "fillpattern": {
             "fillmode": "overlay",
             "size": 10,
             "solidity": 0.2
            },
            "type": "scatter"
           }
          ],
          "scatter3d": [
           {
            "line": {
             "colorbar": {
              "outlinewidth": 0,
              "ticks": ""
             }
            },
            "marker": {
             "colorbar": {
              "outlinewidth": 0,
              "ticks": ""
             }
            },
            "type": "scatter3d"
           }
          ],
          "scattercarpet": [
           {
            "marker": {
             "colorbar": {
              "outlinewidth": 0,
              "ticks": ""
             }
            },
            "type": "scattercarpet"
           }
          ],
          "scattergeo": [
           {
            "marker": {
             "colorbar": {
              "outlinewidth": 0,
              "ticks": ""
             }
            },
            "type": "scattergeo"
           }
          ],
          "scattergl": [
           {
            "marker": {
             "colorbar": {
              "outlinewidth": 0,
              "ticks": ""
             }
            },
            "type": "scattergl"
           }
          ],
          "scattermap": [
           {
            "marker": {
             "colorbar": {
              "outlinewidth": 0,
              "ticks": ""
             }
            },
            "type": "scattermap"
           }
          ],
          "scattermapbox": [
           {
            "marker": {
             "colorbar": {
              "outlinewidth": 0,
              "ticks": ""
             }
            },
            "type": "scattermapbox"
           }
          ],
          "scatterpolar": [
           {
            "marker": {
             "colorbar": {
              "outlinewidth": 0,
              "ticks": ""
             }
            },
            "type": "scatterpolar"
           }
          ],
          "scatterpolargl": [
           {
            "marker": {
             "colorbar": {
              "outlinewidth": 0,
              "ticks": ""
             }
            },
            "type": "scatterpolargl"
           }
          ],
          "scatterternary": [
           {
            "marker": {
             "colorbar": {
              "outlinewidth": 0,
              "ticks": ""
             }
            },
            "type": "scatterternary"
           }
          ],
          "surface": [
           {
            "colorbar": {
             "outlinewidth": 0,
             "ticks": ""
            },
            "colorscale": [
             [
              0,
              "#0d0887"
             ],
             [
              0.1111111111111111,
              "#46039f"
             ],
             [
              0.2222222222222222,
              "#7201a8"
             ],
             [
              0.3333333333333333,
              "#9c179e"
             ],
             [
              0.4444444444444444,
              "#bd3786"
             ],
             [
              0.5555555555555556,
              "#d8576b"
             ],
             [
              0.6666666666666666,
              "#ed7953"
             ],
             [
              0.7777777777777778,
              "#fb9f3a"
             ],
             [
              0.8888888888888888,
              "#fdca26"
             ],
             [
              1,
              "#f0f921"
             ]
            ],
            "type": "surface"
           }
          ],
          "table": [
           {
            "cells": {
             "fill": {
              "color": "#EBF0F8"
             },
             "line": {
              "color": "white"
             }
            },
            "header": {
             "fill": {
              "color": "#C8D4E3"
             },
             "line": {
              "color": "white"
             }
            },
            "type": "table"
           }
          ]
         },
         "layout": {
          "annotationdefaults": {
           "arrowcolor": "#2a3f5f",
           "arrowhead": 0,
           "arrowwidth": 1
          },
          "autotypenumbers": "strict",
          "coloraxis": {
           "colorbar": {
            "outlinewidth": 0,
            "ticks": ""
           }
          },
          "colorscale": {
           "diverging": [
            [
             0,
             "#8e0152"
            ],
            [
             0.1,
             "#c51b7d"
            ],
            [
             0.2,
             "#de77ae"
            ],
            [
             0.3,
             "#f1b6da"
            ],
            [
             0.4,
             "#fde0ef"
            ],
            [
             0.5,
             "#f7f7f7"
            ],
            [
             0.6,
             "#e6f5d0"
            ],
            [
             0.7,
             "#b8e186"
            ],
            [
             0.8,
             "#7fbc41"
            ],
            [
             0.9,
             "#4d9221"
            ],
            [
             1,
             "#276419"
            ]
           ],
           "sequential": [
            [
             0,
             "#0d0887"
            ],
            [
             0.1111111111111111,
             "#46039f"
            ],
            [
             0.2222222222222222,
             "#7201a8"
            ],
            [
             0.3333333333333333,
             "#9c179e"
            ],
            [
             0.4444444444444444,
             "#bd3786"
            ],
            [
             0.5555555555555556,
             "#d8576b"
            ],
            [
             0.6666666666666666,
             "#ed7953"
            ],
            [
             0.7777777777777778,
             "#fb9f3a"
            ],
            [
             0.8888888888888888,
             "#fdca26"
            ],
            [
             1,
             "#f0f921"
            ]
           ],
           "sequentialminus": [
            [
             0,
             "#0d0887"
            ],
            [
             0.1111111111111111,
             "#46039f"
            ],
            [
             0.2222222222222222,
             "#7201a8"
            ],
            [
             0.3333333333333333,
             "#9c179e"
            ],
            [
             0.4444444444444444,
             "#bd3786"
            ],
            [
             0.5555555555555556,
             "#d8576b"
            ],
            [
             0.6666666666666666,
             "#ed7953"
            ],
            [
             0.7777777777777778,
             "#fb9f3a"
            ],
            [
             0.8888888888888888,
             "#fdca26"
            ],
            [
             1,
             "#f0f921"
            ]
           ]
          },
          "colorway": [
           "#636efa",
           "#EF553B",
           "#00cc96",
           "#ab63fa",
           "#FFA15A",
           "#19d3f3",
           "#FF6692",
           "#B6E880",
           "#FF97FF",
           "#FECB52"
          ],
          "font": {
           "color": "#2a3f5f"
          },
          "geo": {
           "bgcolor": "white",
           "lakecolor": "white",
           "landcolor": "#E5ECF6",
           "showlakes": true,
           "showland": true,
           "subunitcolor": "white"
          },
          "hoverlabel": {
           "align": "left"
          },
          "hovermode": "closest",
          "mapbox": {
           "style": "light"
          },
          "paper_bgcolor": "white",
          "plot_bgcolor": "#E5ECF6",
          "polar": {
           "angularaxis": {
            "gridcolor": "white",
            "linecolor": "white",
            "ticks": ""
           },
           "bgcolor": "#E5ECF6",
           "radialaxis": {
            "gridcolor": "white",
            "linecolor": "white",
            "ticks": ""
           }
          },
          "scene": {
           "xaxis": {
            "backgroundcolor": "#E5ECF6",
            "gridcolor": "white",
            "gridwidth": 2,
            "linecolor": "white",
            "showbackground": true,
            "ticks": "",
            "zerolinecolor": "white"
           },
           "yaxis": {
            "backgroundcolor": "#E5ECF6",
            "gridcolor": "white",
            "gridwidth": 2,
            "linecolor": "white",
            "showbackground": true,
            "ticks": "",
            "zerolinecolor": "white"
           },
           "zaxis": {
            "backgroundcolor": "#E5ECF6",
            "gridcolor": "white",
            "gridwidth": 2,
            "linecolor": "white",
            "showbackground": true,
            "ticks": "",
            "zerolinecolor": "white"
           }
          },
          "shapedefaults": {
           "line": {
            "color": "#2a3f5f"
           }
          },
          "ternary": {
           "aaxis": {
            "gridcolor": "white",
            "linecolor": "white",
            "ticks": ""
           },
           "baxis": {
            "gridcolor": "white",
            "linecolor": "white",
            "ticks": ""
           },
           "bgcolor": "#E5ECF6",
           "caxis": {
            "gridcolor": "white",
            "linecolor": "white",
            "ticks": ""
           }
          },
          "title": {
           "x": 0.05
          },
          "xaxis": {
           "automargin": true,
           "gridcolor": "white",
           "linecolor": "white",
           "ticks": "",
           "title": {
            "standoff": 15
           },
           "zerolinecolor": "white",
           "zerolinewidth": 2
          },
          "yaxis": {
           "automargin": true,
           "gridcolor": "white",
           "linecolor": "white",
           "ticks": "",
           "title": {
            "standoff": 15
           },
           "zerolinecolor": "white",
           "zerolinewidth": 2
          }
         }
        },
        "title": {
         "text": "Relationship Between Average Quantity and Average Unit Price for 'PARTY BUNTING'"
        },
        "xaxis": {
         "anchor": "y",
         "domain": [
          0,
          1
         ],
         "title": {
          "text": "avg_quantity"
         }
        },
        "yaxis": {
         "anchor": "x",
         "domain": [
          0,
          1
         ],
         "title": {
          "text": "avg_unit_price"
         }
        }
       }
      },
      "text/html": [
       "<div>            <script src=\"https://cdnjs.cloudflare.com/ajax/libs/mathjax/2.7.5/MathJax.js?config=TeX-AMS-MML_SVG\"></script><script type=\"text/javascript\">if (window.MathJax && window.MathJax.Hub && window.MathJax.Hub.Config) {window.MathJax.Hub.Config({SVG: {font: \"STIX-Web\"}});}</script>                <script type=\"text/javascript\">window.PlotlyConfig = {MathJaxConfig: 'local'};</script>\n",
       "        <script charset=\"utf-8\" src=\"https://cdn.plot.ly/plotly-3.0.1.min.js\"></script>                <div id=\"87d92c64-9396-422c-8f6a-5c600a89ace1\" class=\"plotly-graph-div\" style=\"height:525px; width:100%;\"></div>            <script type=\"text/javascript\">                window.PLOTLYENV=window.PLOTLYENV || {};                                if (document.getElementById(\"87d92c64-9396-422c-8f6a-5c600a89ace1\")) {                    Plotly.newPlot(                        \"87d92c64-9396-422c-8f6a-5c600a89ace1\",                        [{\"hovertemplate\":\"\\u003cb\\u003e%{hovertext}\\u003c\\u002fb\\u003e\\u003cbr\\u003e\\u003cbr\\u003eCountry=Australia\\u003cbr\\u003eavg_quantity=%{marker.size}\\u003cbr\\u003eavg_unit_price=%{y}\\u003cextra\\u003e\\u003c\\u002fextra\\u003e\",\"hovertext\":[\"Australia\"],\"legendgroup\":\"Australia\",\"marker\":{\"color\":\"#636efa\",\"size\":{\"dtype\":\"f8\",\"bdata\":\"AAAAAACQQEA=\"},\"sizemode\":\"area\",\"sizeref\":0.14166666666666666,\"symbol\":\"circle\",\"line\":{\"color\":\"DarkSlateGrey\",\"width\":1},\"opacity\":0.8},\"mode\":\"markers\",\"name\":\"Australia\",\"orientation\":\"v\",\"showlegend\":true,\"x\":{\"dtype\":\"f8\",\"bdata\":\"AAAAAACQQEA=\"},\"xaxis\":\"x\",\"y\":{\"dtype\":\"f8\",\"bdata\":\"mpmZmZnZEkA=\"},\"yaxis\":\"y\",\"type\":\"scatter\"},{\"hovertemplate\":\"\\u003cb\\u003e%{hovertext}\\u003c\\u002fb\\u003e\\u003cbr\\u003e\\u003cbr\\u003eCountry=Austria\\u003cbr\\u003eavg_quantity=%{marker.size}\\u003cbr\\u003eavg_unit_price=%{y}\\u003cextra\\u003e\\u003c\\u002fextra\\u003e\",\"hovertext\":[\"Austria\"],\"legendgroup\":\"Austria\",\"marker\":{\"color\":\"#EF553B\",\"size\":{\"dtype\":\"f8\",\"bdata\":\"AAAAAAAAIEA=\"},\"sizemode\":\"area\",\"sizeref\":0.14166666666666666,\"symbol\":\"circle\",\"line\":{\"color\":\"DarkSlateGrey\",\"width\":1},\"opacity\":0.8},\"mode\":\"markers\",\"name\":\"Austria\",\"orientation\":\"v\",\"showlegend\":true,\"x\":{\"dtype\":\"f8\",\"bdata\":\"AAAAAAAAIEA=\"},\"xaxis\":\"x\",\"y\":{\"dtype\":\"f8\",\"bdata\":\"zczMzMzME0A=\"},\"yaxis\":\"y\",\"type\":\"scatter\"},{\"hovertemplate\":\"\\u003cb\\u003e%{hovertext}\\u003c\\u002fb\\u003e\\u003cbr\\u003e\\u003cbr\\u003eCountry=Belgium\\u003cbr\\u003eavg_quantity=%{marker.size}\\u003cbr\\u003eavg_unit_price=%{y}\\u003cextra\\u003e\\u003c\\u002fextra\\u003e\",\"hovertext\":[\"Belgium\"],\"legendgroup\":\"Belgium\",\"marker\":{\"color\":\"#00cc96\",\"size\":{\"dtype\":\"f8\",\"bdata\":\"AAAAAAAAEEA=\"},\"sizemode\":\"area\",\"sizeref\":0.14166666666666666,\"symbol\":\"circle\",\"line\":{\"color\":\"DarkSlateGrey\",\"width\":1},\"opacity\":0.8},\"mode\":\"markers\",\"name\":\"Belgium\",\"orientation\":\"v\",\"showlegend\":true,\"x\":{\"dtype\":\"f8\",\"bdata\":\"AAAAAAAAEEA=\"},\"xaxis\":\"x\",\"y\":{\"dtype\":\"f8\",\"bdata\":\"zczMzMzME0A=\"},\"yaxis\":\"y\",\"type\":\"scatter\"},{\"hovertemplate\":\"\\u003cb\\u003e%{hovertext}\\u003c\\u002fb\\u003e\\u003cbr\\u003e\\u003cbr\\u003eCountry=Channel Islands\\u003cbr\\u003eavg_quantity=%{marker.size}\\u003cbr\\u003eavg_unit_price=%{y}\\u003cextra\\u003e\\u003c\\u002fextra\\u003e\",\"hovertext\":[\"Channel Islands\"],\"legendgroup\":\"Channel Islands\",\"marker\":{\"color\":\"#ab63fa\",\"size\":{\"dtype\":\"f8\",\"bdata\":\"q6qqqqqqKkA=\"},\"sizemode\":\"area\",\"sizeref\":0.14166666666666666,\"symbol\":\"circle\",\"line\":{\"color\":\"DarkSlateGrey\",\"width\":1},\"opacity\":0.8},\"mode\":\"markers\",\"name\":\"Channel Islands\",\"orientation\":\"v\",\"showlegend\":true,\"x\":{\"dtype\":\"f8\",\"bdata\":\"q6qqqqqqKkA=\"},\"xaxis\":\"x\",\"y\":{\"dtype\":\"f8\",\"bdata\":\"zczMzMzME0A=\"},\"yaxis\":\"y\",\"type\":\"scatter\"},{\"hovertemplate\":\"\\u003cb\\u003e%{hovertext}\\u003c\\u002fb\\u003e\\u003cbr\\u003e\\u003cbr\\u003eCountry=Cyprus\\u003cbr\\u003eavg_quantity=%{marker.size}\\u003cbr\\u003eavg_unit_price=%{y}\\u003cextra\\u003e\\u003c\\u002fextra\\u003e\",\"hovertext\":[\"Cyprus\"],\"legendgroup\":\"Cyprus\",\"marker\":{\"color\":\"#FFA15A\",\"size\":{\"dtype\":\"f8\",\"bdata\":\"q6qqqqqqAkA=\"},\"sizemode\":\"area\",\"sizeref\":0.14166666666666666,\"symbol\":\"circle\",\"line\":{\"color\":\"DarkSlateGrey\",\"width\":1},\"opacity\":0.8},\"mode\":\"markers\",\"name\":\"Cyprus\",\"orientation\":\"v\",\"showlegend\":true,\"x\":{\"dtype\":\"f8\",\"bdata\":\"q6qqqqqqAkA=\"},\"xaxis\":\"x\",\"y\":{\"dtype\":\"f8\",\"bdata\":\"AAAAAAAAE0A=\"},\"yaxis\":\"y\",\"type\":\"scatter\"},{\"hovertemplate\":\"\\u003cb\\u003e%{hovertext}\\u003c\\u002fb\\u003e\\u003cbr\\u003e\\u003cbr\\u003eCountry=Denmark\\u003cbr\\u003eavg_quantity=%{marker.size}\\u003cbr\\u003eavg_unit_price=%{y}\\u003cextra\\u003e\\u003c\\u002fextra\\u003e\",\"hovertext\":[\"Denmark\"],\"legendgroup\":\"Denmark\",\"marker\":{\"color\":\"#19d3f3\",\"size\":{\"dtype\":\"f8\",\"bdata\":\"AAAAAAAAKEA=\"},\"sizemode\":\"area\",\"sizeref\":0.14166666666666666,\"symbol\":\"circle\",\"line\":{\"color\":\"DarkSlateGrey\",\"width\":1},\"opacity\":0.8},\"mode\":\"markers\",\"name\":\"Denmark\",\"orientation\":\"v\",\"showlegend\":true,\"x\":{\"dtype\":\"f8\",\"bdata\":\"AAAAAAAAKEA=\"},\"xaxis\":\"x\",\"y\":{\"dtype\":\"f8\",\"bdata\":\"zczMzMzME0A=\"},\"yaxis\":\"y\",\"type\":\"scatter\"},{\"hovertemplate\":\"\\u003cb\\u003e%{hovertext}\\u003c\\u002fb\\u003e\\u003cbr\\u003e\\u003cbr\\u003eCountry=EIRE\\u003cbr\\u003eavg_quantity=%{marker.size}\\u003cbr\\u003eavg_unit_price=%{y}\\u003cextra\\u003e\\u003c\\u002fextra\\u003e\",\"hovertext\":[\"EIRE\"],\"legendgroup\":\"EIRE\",\"marker\":{\"color\":\"#FF6692\",\"size\":{\"dtype\":\"f8\",\"bdata\":\"XkN5DeU1NUA=\"},\"sizemode\":\"area\",\"sizeref\":0.14166666666666666,\"symbol\":\"circle\",\"line\":{\"color\":\"DarkSlateGrey\",\"width\":1},\"opacity\":0.8},\"mode\":\"markers\",\"name\":\"EIRE\",\"orientation\":\"v\",\"showlegend\":true,\"x\":{\"dtype\":\"f8\",\"bdata\":\"XkN5DeU1NUA=\"},\"xaxis\":\"x\",\"y\":{\"dtype\":\"f8\",\"bdata\":\"VL\\u002fnljj1EkA=\"},\"yaxis\":\"y\",\"type\":\"scatter\"},{\"hovertemplate\":\"\\u003cb\\u003e%{hovertext}\\u003c\\u002fb\\u003e\\u003cbr\\u003e\\u003cbr\\u003eCountry=Finland\\u003cbr\\u003eavg_quantity=%{marker.size}\\u003cbr\\u003eavg_unit_price=%{y}\\u003cextra\\u003e\\u003c\\u002fextra\\u003e\",\"hovertext\":[\"Finland\"],\"legendgroup\":\"Finland\",\"marker\":{\"color\":\"#B6E880\",\"size\":{\"dtype\":\"f8\",\"bdata\":\"AAAAAAAAGEA=\"},\"sizemode\":\"area\",\"sizeref\":0.14166666666666666,\"symbol\":\"circle\",\"line\":{\"color\":\"DarkSlateGrey\",\"width\":1},\"opacity\":0.8},\"mode\":\"markers\",\"name\":\"Finland\",\"orientation\":\"v\",\"showlegend\":true,\"x\":{\"dtype\":\"f8\",\"bdata\":\"AAAAAAAAGEA=\"},\"xaxis\":\"x\",\"y\":{\"dtype\":\"f8\",\"bdata\":\"zczMzMzME0A=\"},\"yaxis\":\"y\",\"type\":\"scatter\"},{\"hovertemplate\":\"\\u003cb\\u003e%{hovertext}\\u003c\\u002fb\\u003e\\u003cbr\\u003e\\u003cbr\\u003eCountry=France\\u003cbr\\u003eavg_quantity=%{marker.size}\\u003cbr\\u003eavg_unit_price=%{y}\\u003cextra\\u003e\\u003c\\u002fextra\\u003e\",\"hovertext\":[\"France\"],\"legendgroup\":\"France\",\"marker\":{\"color\":\"#FF97FF\",\"size\":{\"dtype\":\"f8\",\"bdata\":\"6aKLLrroFkA=\"},\"sizemode\":\"area\",\"sizeref\":0.14166666666666666,\"symbol\":\"circle\",\"line\":{\"color\":\"DarkSlateGrey\",\"width\":1},\"opacity\":0.8},\"mode\":\"markers\",\"name\":\"France\",\"orientation\":\"v\",\"showlegend\":true,\"x\":{\"dtype\":\"f8\",\"bdata\":\"6aKLLrroFkA=\"},\"xaxis\":\"x\",\"y\":{\"dtype\":\"f8\",\"bdata\":\"sfYNa9+wE0A=\"},\"yaxis\":\"y\",\"type\":\"scatter\"},{\"hovertemplate\":\"\\u003cb\\u003e%{hovertext}\\u003c\\u002fb\\u003e\\u003cbr\\u003e\\u003cbr\\u003eCountry=Germany\\u003cbr\\u003eavg_quantity=%{marker.size}\\u003cbr\\u003eavg_unit_price=%{y}\\u003cextra\\u003e\\u003c\\u002fextra\\u003e\",\"hovertext\":[\"Germany\"],\"legendgroup\":\"Germany\",\"marker\":{\"color\":\"#FECB52\",\"size\":{\"dtype\":\"f8\",\"bdata\":\"MzMzMzMzG0A=\"},\"sizemode\":\"area\",\"sizeref\":0.14166666666666666,\"symbol\":\"circle\",\"line\":{\"color\":\"DarkSlateGrey\",\"width\":1},\"opacity\":0.8},\"mode\":\"markers\",\"name\":\"Germany\",\"orientation\":\"v\",\"showlegend\":true,\"x\":{\"dtype\":\"f8\",\"bdata\":\"MzMzMzMzG0A=\"},\"xaxis\":\"x\",\"y\":{\"dtype\":\"f8\",\"bdata\":\"kML1KFyPE0A=\"},\"yaxis\":\"y\",\"type\":\"scatter\"},{\"hovertemplate\":\"\\u003cb\\u003e%{hovertext}\\u003c\\u002fb\\u003e\\u003cbr\\u003e\\u003cbr\\u003eCountry=Israel\\u003cbr\\u003eavg_quantity=%{marker.size}\\u003cbr\\u003eavg_unit_price=%{y}\\u003cextra\\u003e\\u003c\\u002fextra\\u003e\",\"hovertext\":[\"Israel\"],\"legendgroup\":\"Israel\",\"marker\":{\"color\":\"#636efa\",\"size\":{\"dtype\":\"f8\",\"bdata\":\"AAAAAAAA8D8=\"},\"sizemode\":\"area\",\"sizeref\":0.14166666666666666,\"symbol\":\"circle\",\"line\":{\"color\":\"DarkSlateGrey\",\"width\":1},\"opacity\":0.8},\"mode\":\"markers\",\"name\":\"Israel\",\"orientation\":\"v\",\"showlegend\":true,\"x\":{\"dtype\":\"f8\",\"bdata\":\"AAAAAAAA8D8=\"},\"xaxis\":\"x\",\"y\":{\"dtype\":\"f8\",\"bdata\":\"zczMzMzME0A=\"},\"yaxis\":\"y\",\"type\":\"scatter\"},{\"hovertemplate\":\"\\u003cb\\u003e%{hovertext}\\u003c\\u002fb\\u003e\\u003cbr\\u003e\\u003cbr\\u003eCountry=Japan\\u003cbr\\u003eavg_quantity=%{marker.size}\\u003cbr\\u003eavg_unit_price=%{y}\\u003cextra\\u003e\\u003c\\u002fextra\\u003e\",\"hovertext\":[\"Japan\"],\"legendgroup\":\"Japan\",\"marker\":{\"color\":\"#EF553B\",\"size\":{\"dtype\":\"f8\",\"bdata\":\"VVVVVVVVTEA=\"},\"sizemode\":\"area\",\"sizeref\":0.14166666666666666,\"symbol\":\"circle\",\"line\":{\"color\":\"DarkSlateGrey\",\"width\":1},\"opacity\":0.8},\"mode\":\"markers\",\"name\":\"Japan\",\"orientation\":\"v\",\"showlegend\":true,\"x\":{\"dtype\":\"f8\",\"bdata\":\"VVVVVVVVTEA=\"},\"xaxis\":\"x\",\"y\":{\"dtype\":\"f8\",\"bdata\":\"vLu7u7u7EEA=\"},\"yaxis\":\"y\",\"type\":\"scatter\"},{\"hovertemplate\":\"\\u003cb\\u003e%{hovertext}\\u003c\\u002fb\\u003e\\u003cbr\\u003e\\u003cbr\\u003eCountry=Lebanon\\u003cbr\\u003eavg_quantity=%{marker.size}\\u003cbr\\u003eavg_unit_price=%{y}\\u003cextra\\u003e\\u003c\\u002fextra\\u003e\",\"hovertext\":[\"Lebanon\"],\"legendgroup\":\"Lebanon\",\"marker\":{\"color\":\"#00cc96\",\"size\":{\"dtype\":\"f8\",\"bdata\":\"AAAAAAAALkA=\"},\"sizemode\":\"area\",\"sizeref\":0.14166666666666666,\"symbol\":\"circle\",\"line\":{\"color\":\"DarkSlateGrey\",\"width\":1},\"opacity\":0.8},\"mode\":\"markers\",\"name\":\"Lebanon\",\"orientation\":\"v\",\"showlegend\":true,\"x\":{\"dtype\":\"f8\",\"bdata\":\"AAAAAAAALkA=\"},\"xaxis\":\"x\",\"y\":{\"dtype\":\"f8\",\"bdata\":\"mpmZmZmZEkA=\"},\"yaxis\":\"y\",\"type\":\"scatter\"},{\"hovertemplate\":\"\\u003cb\\u003e%{hovertext}\\u003c\\u002fb\\u003e\\u003cbr\\u003e\\u003cbr\\u003eCountry=Netherlands\\u003cbr\\u003eavg_quantity=%{marker.size}\\u003cbr\\u003eavg_unit_price=%{y}\\u003cextra\\u003e\\u003c\\u002fextra\\u003e\",\"hovertext\":[\"Netherlands\"],\"legendgroup\":\"Netherlands\",\"marker\":{\"color\":\"#ab63fa\",\"size\":{\"dtype\":\"f8\",\"bdata\":\"AAAAAAAASUA=\"},\"sizemode\":\"area\",\"sizeref\":0.14166666666666666,\"symbol\":\"circle\",\"line\":{\"color\":\"DarkSlateGrey\",\"width\":1},\"opacity\":0.8},\"mode\":\"markers\",\"name\":\"Netherlands\",\"orientation\":\"v\",\"showlegend\":true,\"x\":{\"dtype\":\"f8\",\"bdata\":\"AAAAAAAASUA=\"},\"xaxis\":\"x\",\"y\":{\"dtype\":\"f8\",\"bdata\":\"mpmZmZmZEEA=\"},\"yaxis\":\"y\",\"type\":\"scatter\"},{\"hovertemplate\":\"\\u003cb\\u003e%{hovertext}\\u003c\\u002fb\\u003e\\u003cbr\\u003e\\u003cbr\\u003eCountry=Norway\\u003cbr\\u003eavg_quantity=%{marker.size}\\u003cbr\\u003eavg_unit_price=%{y}\\u003cextra\\u003e\\u003c\\u002fextra\\u003e\",\"hovertext\":[\"Norway\"],\"legendgroup\":\"Norway\",\"marker\":{\"color\":\"#FFA15A\",\"size\":{\"dtype\":\"f8\",\"bdata\":\"AAAAAAAAGEA=\"},\"sizemode\":\"area\",\"sizeref\":0.14166666666666666,\"symbol\":\"circle\",\"line\":{\"color\":\"DarkSlateGrey\",\"width\":1},\"opacity\":0.8},\"mode\":\"markers\",\"name\":\"Norway\",\"orientation\":\"v\",\"showlegend\":true,\"x\":{\"dtype\":\"f8\",\"bdata\":\"AAAAAAAAGEA=\"},\"xaxis\":\"x\",\"y\":{\"dtype\":\"f8\",\"bdata\":\"zczMzMzME0A=\"},\"yaxis\":\"y\",\"type\":\"scatter\"},{\"hovertemplate\":\"\\u003cb\\u003e%{hovertext}\\u003c\\u002fb\\u003e\\u003cbr\\u003e\\u003cbr\\u003eCountry=Singapore\\u003cbr\\u003eavg_quantity=%{marker.size}\\u003cbr\\u003eavg_unit_price=%{y}\\u003cextra\\u003e\\u003c\\u002fextra\\u003e\",\"hovertext\":[\"Singapore\"],\"legendgroup\":\"Singapore\",\"marker\":{\"color\":\"#19d3f3\",\"size\":{\"dtype\":\"f8\",\"bdata\":\"AAAAAAAAIEA=\"},\"sizemode\":\"area\",\"sizeref\":0.14166666666666666,\"symbol\":\"circle\",\"line\":{\"color\":\"DarkSlateGrey\",\"width\":1},\"opacity\":0.8},\"mode\":\"markers\",\"name\":\"Singapore\",\"orientation\":\"v\",\"showlegend\":true,\"x\":{\"dtype\":\"f8\",\"bdata\":\"AAAAAAAAIEA=\"},\"xaxis\":\"x\",\"y\":{\"dtype\":\"f8\",\"bdata\":\"zczMzMzME0A=\"},\"yaxis\":\"y\",\"type\":\"scatter\"},{\"hovertemplate\":\"\\u003cb\\u003e%{hovertext}\\u003c\\u002fb\\u003e\\u003cbr\\u003e\\u003cbr\\u003eCountry=South Africa\\u003cbr\\u003eavg_quantity=%{marker.size}\\u003cbr\\u003eavg_unit_price=%{y}\\u003cextra\\u003e\\u003c\\u002fextra\\u003e\",\"hovertext\":[\"South Africa\"],\"legendgroup\":\"South Africa\",\"marker\":{\"color\":\"#FF6692\",\"size\":{\"dtype\":\"f8\",\"bdata\":\"AAAAAAAAEEA=\"},\"sizemode\":\"area\",\"sizeref\":0.14166666666666666,\"symbol\":\"circle\",\"line\":{\"color\":\"DarkSlateGrey\",\"width\":1},\"opacity\":0.8},\"mode\":\"markers\",\"name\":\"South Africa\",\"orientation\":\"v\",\"showlegend\":true,\"x\":{\"dtype\":\"f8\",\"bdata\":\"AAAAAAAAEEA=\"},\"xaxis\":\"x\",\"y\":{\"dtype\":\"f8\",\"bdata\":\"zczMzMzME0A=\"},\"yaxis\":\"y\",\"type\":\"scatter\"},{\"hovertemplate\":\"\\u003cb\\u003e%{hovertext}\\u003c\\u002fb\\u003e\\u003cbr\\u003e\\u003cbr\\u003eCountry=Spain\\u003cbr\\u003eavg_quantity=%{marker.size}\\u003cbr\\u003eavg_unit_price=%{y}\\u003cextra\\u003e\\u003c\\u002fextra\\u003e\",\"hovertext\":[\"Spain\"],\"legendgroup\":\"Spain\",\"marker\":{\"color\":\"#B6E880\",\"size\":{\"dtype\":\"f8\",\"bdata\":\"AAAAAAAAE0A=\"},\"sizemode\":\"area\",\"sizeref\":0.14166666666666666,\"symbol\":\"circle\",\"line\":{\"color\":\"DarkSlateGrey\",\"width\":1},\"opacity\":0.8},\"mode\":\"markers\",\"name\":\"Spain\",\"orientation\":\"v\",\"showlegend\":true,\"x\":{\"dtype\":\"f8\",\"bdata\":\"AAAAAAAAE0A=\"},\"xaxis\":\"x\",\"y\":{\"dtype\":\"f8\",\"bdata\":\"mpmZmZlZE0A=\"},\"yaxis\":\"y\",\"type\":\"scatter\"},{\"hovertemplate\":\"\\u003cb\\u003e%{hovertext}\\u003c\\u002fb\\u003e\\u003cbr\\u003e\\u003cbr\\u003eCountry=Switzerland\\u003cbr\\u003eavg_quantity=%{marker.size}\\u003cbr\\u003eavg_unit_price=%{y}\\u003cextra\\u003e\\u003c\\u002fextra\\u003e\",\"hovertext\":[\"Switzerland\"],\"legendgroup\":\"Switzerland\",\"marker\":{\"color\":\"#FF97FF\",\"size\":{\"dtype\":\"f8\",\"bdata\":\"MzMzMzMzMUA=\"},\"sizemode\":\"area\",\"sizeref\":0.14166666666666666,\"symbol\":\"circle\",\"line\":{\"color\":\"DarkSlateGrey\",\"width\":1},\"opacity\":0.8},\"mode\":\"markers\",\"name\":\"Switzerland\",\"orientation\":\"v\",\"showlegend\":true,\"x\":{\"dtype\":\"f8\",\"bdata\":\"MzMzMzMzMUA=\"},\"xaxis\":\"x\",\"y\":{\"dtype\":\"f8\",\"bdata\":\"KlyPwvUoE0A=\"},\"yaxis\":\"y\",\"type\":\"scatter\"},{\"hovertemplate\":\"\\u003cb\\u003e%{hovertext}\\u003c\\u002fb\\u003e\\u003cbr\\u003e\\u003cbr\\u003eCountry=United Kingdom\\u003cbr\\u003eavg_quantity=%{marker.size}\\u003cbr\\u003eavg_unit_price=%{y}\\u003cextra\\u003e\\u003c\\u002fextra\\u003e\",\"hovertext\":[\"United Kingdom\"],\"legendgroup\":\"United Kingdom\",\"marker\":{\"color\":\"#FECB52\",\"size\":{\"dtype\":\"f8\",\"bdata\":\"IPiBH\\u002fiBJUA=\"},\"sizemode\":\"area\",\"sizeref\":0.14166666666666666,\"symbol\":\"circle\",\"line\":{\"color\":\"DarkSlateGrey\",\"width\":1},\"opacity\":0.8},\"mode\":\"markers\",\"name\":\"United Kingdom\",\"orientation\":\"v\",\"showlegend\":true,\"x\":{\"dtype\":\"f8\",\"bdata\":\"IPiBH\\u002fiBJUA=\"},\"xaxis\":\"x\",\"y\":{\"dtype\":\"f8\",\"bdata\":\"Y5b3ZuyFE0A=\"},\"yaxis\":\"y\",\"type\":\"scatter\"}],                        {\"template\":{\"data\":{\"histogram2dcontour\":[{\"type\":\"histogram2dcontour\",\"colorbar\":{\"outlinewidth\":0,\"ticks\":\"\"},\"colorscale\":[[0.0,\"#0d0887\"],[0.1111111111111111,\"#46039f\"],[0.2222222222222222,\"#7201a8\"],[0.3333333333333333,\"#9c179e\"],[0.4444444444444444,\"#bd3786\"],[0.5555555555555556,\"#d8576b\"],[0.6666666666666666,\"#ed7953\"],[0.7777777777777778,\"#fb9f3a\"],[0.8888888888888888,\"#fdca26\"],[1.0,\"#f0f921\"]]}],\"choropleth\":[{\"type\":\"choropleth\",\"colorbar\":{\"outlinewidth\":0,\"ticks\":\"\"}}],\"histogram2d\":[{\"type\":\"histogram2d\",\"colorbar\":{\"outlinewidth\":0,\"ticks\":\"\"},\"colorscale\":[[0.0,\"#0d0887\"],[0.1111111111111111,\"#46039f\"],[0.2222222222222222,\"#7201a8\"],[0.3333333333333333,\"#9c179e\"],[0.4444444444444444,\"#bd3786\"],[0.5555555555555556,\"#d8576b\"],[0.6666666666666666,\"#ed7953\"],[0.7777777777777778,\"#fb9f3a\"],[0.8888888888888888,\"#fdca26\"],[1.0,\"#f0f921\"]]}],\"heatmap\":[{\"type\":\"heatmap\",\"colorbar\":{\"outlinewidth\":0,\"ticks\":\"\"},\"colorscale\":[[0.0,\"#0d0887\"],[0.1111111111111111,\"#46039f\"],[0.2222222222222222,\"#7201a8\"],[0.3333333333333333,\"#9c179e\"],[0.4444444444444444,\"#bd3786\"],[0.5555555555555556,\"#d8576b\"],[0.6666666666666666,\"#ed7953\"],[0.7777777777777778,\"#fb9f3a\"],[0.8888888888888888,\"#fdca26\"],[1.0,\"#f0f921\"]]}],\"contourcarpet\":[{\"type\":\"contourcarpet\",\"colorbar\":{\"outlinewidth\":0,\"ticks\":\"\"}}],\"contour\":[{\"type\":\"contour\",\"colorbar\":{\"outlinewidth\":0,\"ticks\":\"\"},\"colorscale\":[[0.0,\"#0d0887\"],[0.1111111111111111,\"#46039f\"],[0.2222222222222222,\"#7201a8\"],[0.3333333333333333,\"#9c179e\"],[0.4444444444444444,\"#bd3786\"],[0.5555555555555556,\"#d8576b\"],[0.6666666666666666,\"#ed7953\"],[0.7777777777777778,\"#fb9f3a\"],[0.8888888888888888,\"#fdca26\"],[1.0,\"#f0f921\"]]}],\"surface\":[{\"type\":\"surface\",\"colorbar\":{\"outlinewidth\":0,\"ticks\":\"\"},\"colorscale\":[[0.0,\"#0d0887\"],[0.1111111111111111,\"#46039f\"],[0.2222222222222222,\"#7201a8\"],[0.3333333333333333,\"#9c179e\"],[0.4444444444444444,\"#bd3786\"],[0.5555555555555556,\"#d8576b\"],[0.6666666666666666,\"#ed7953\"],[0.7777777777777778,\"#fb9f3a\"],[0.8888888888888888,\"#fdca26\"],[1.0,\"#f0f921\"]]}],\"mesh3d\":[{\"type\":\"mesh3d\",\"colorbar\":{\"outlinewidth\":0,\"ticks\":\"\"}}],\"scatter\":[{\"fillpattern\":{\"fillmode\":\"overlay\",\"size\":10,\"solidity\":0.2},\"type\":\"scatter\"}],\"parcoords\":[{\"type\":\"parcoords\",\"line\":{\"colorbar\":{\"outlinewidth\":0,\"ticks\":\"\"}}}],\"scatterpolargl\":[{\"type\":\"scatterpolargl\",\"marker\":{\"colorbar\":{\"outlinewidth\":0,\"ticks\":\"\"}}}],\"bar\":[{\"error_x\":{\"color\":\"#2a3f5f\"},\"error_y\":{\"color\":\"#2a3f5f\"},\"marker\":{\"line\":{\"color\":\"#E5ECF6\",\"width\":0.5},\"pattern\":{\"fillmode\":\"overlay\",\"size\":10,\"solidity\":0.2}},\"type\":\"bar\"}],\"scattergeo\":[{\"type\":\"scattergeo\",\"marker\":{\"colorbar\":{\"outlinewidth\":0,\"ticks\":\"\"}}}],\"scatterpolar\":[{\"type\":\"scatterpolar\",\"marker\":{\"colorbar\":{\"outlinewidth\":0,\"ticks\":\"\"}}}],\"histogram\":[{\"marker\":{\"pattern\":{\"fillmode\":\"overlay\",\"size\":10,\"solidity\":0.2}},\"type\":\"histogram\"}],\"scattergl\":[{\"type\":\"scattergl\",\"marker\":{\"colorbar\":{\"outlinewidth\":0,\"ticks\":\"\"}}}],\"scatter3d\":[{\"type\":\"scatter3d\",\"line\":{\"colorbar\":{\"outlinewidth\":0,\"ticks\":\"\"}},\"marker\":{\"colorbar\":{\"outlinewidth\":0,\"ticks\":\"\"}}}],\"scattermap\":[{\"type\":\"scattermap\",\"marker\":{\"colorbar\":{\"outlinewidth\":0,\"ticks\":\"\"}}}],\"scattermapbox\":[{\"type\":\"scattermapbox\",\"marker\":{\"colorbar\":{\"outlinewidth\":0,\"ticks\":\"\"}}}],\"scatterternary\":[{\"type\":\"scatterternary\",\"marker\":{\"colorbar\":{\"outlinewidth\":0,\"ticks\":\"\"}}}],\"scattercarpet\":[{\"type\":\"scattercarpet\",\"marker\":{\"colorbar\":{\"outlinewidth\":0,\"ticks\":\"\"}}}],\"carpet\":[{\"aaxis\":{\"endlinecolor\":\"#2a3f5f\",\"gridcolor\":\"white\",\"linecolor\":\"white\",\"minorgridcolor\":\"white\",\"startlinecolor\":\"#2a3f5f\"},\"baxis\":{\"endlinecolor\":\"#2a3f5f\",\"gridcolor\":\"white\",\"linecolor\":\"white\",\"minorgridcolor\":\"white\",\"startlinecolor\":\"#2a3f5f\"},\"type\":\"carpet\"}],\"table\":[{\"cells\":{\"fill\":{\"color\":\"#EBF0F8\"},\"line\":{\"color\":\"white\"}},\"header\":{\"fill\":{\"color\":\"#C8D4E3\"},\"line\":{\"color\":\"white\"}},\"type\":\"table\"}],\"barpolar\":[{\"marker\":{\"line\":{\"color\":\"#E5ECF6\",\"width\":0.5},\"pattern\":{\"fillmode\":\"overlay\",\"size\":10,\"solidity\":0.2}},\"type\":\"barpolar\"}],\"pie\":[{\"automargin\":true,\"type\":\"pie\"}]},\"layout\":{\"autotypenumbers\":\"strict\",\"colorway\":[\"#636efa\",\"#EF553B\",\"#00cc96\",\"#ab63fa\",\"#FFA15A\",\"#19d3f3\",\"#FF6692\",\"#B6E880\",\"#FF97FF\",\"#FECB52\"],\"font\":{\"color\":\"#2a3f5f\"},\"hovermode\":\"closest\",\"hoverlabel\":{\"align\":\"left\"},\"paper_bgcolor\":\"white\",\"plot_bgcolor\":\"#E5ECF6\",\"polar\":{\"bgcolor\":\"#E5ECF6\",\"angularaxis\":{\"gridcolor\":\"white\",\"linecolor\":\"white\",\"ticks\":\"\"},\"radialaxis\":{\"gridcolor\":\"white\",\"linecolor\":\"white\",\"ticks\":\"\"}},\"ternary\":{\"bgcolor\":\"#E5ECF6\",\"aaxis\":{\"gridcolor\":\"white\",\"linecolor\":\"white\",\"ticks\":\"\"},\"baxis\":{\"gridcolor\":\"white\",\"linecolor\":\"white\",\"ticks\":\"\"},\"caxis\":{\"gridcolor\":\"white\",\"linecolor\":\"white\",\"ticks\":\"\"}},\"coloraxis\":{\"colorbar\":{\"outlinewidth\":0,\"ticks\":\"\"}},\"colorscale\":{\"sequential\":[[0.0,\"#0d0887\"],[0.1111111111111111,\"#46039f\"],[0.2222222222222222,\"#7201a8\"],[0.3333333333333333,\"#9c179e\"],[0.4444444444444444,\"#bd3786\"],[0.5555555555555556,\"#d8576b\"],[0.6666666666666666,\"#ed7953\"],[0.7777777777777778,\"#fb9f3a\"],[0.8888888888888888,\"#fdca26\"],[1.0,\"#f0f921\"]],\"sequentialminus\":[[0.0,\"#0d0887\"],[0.1111111111111111,\"#46039f\"],[0.2222222222222222,\"#7201a8\"],[0.3333333333333333,\"#9c179e\"],[0.4444444444444444,\"#bd3786\"],[0.5555555555555556,\"#d8576b\"],[0.6666666666666666,\"#ed7953\"],[0.7777777777777778,\"#fb9f3a\"],[0.8888888888888888,\"#fdca26\"],[1.0,\"#f0f921\"]],\"diverging\":[[0,\"#8e0152\"],[0.1,\"#c51b7d\"],[0.2,\"#de77ae\"],[0.3,\"#f1b6da\"],[0.4,\"#fde0ef\"],[0.5,\"#f7f7f7\"],[0.6,\"#e6f5d0\"],[0.7,\"#b8e186\"],[0.8,\"#7fbc41\"],[0.9,\"#4d9221\"],[1,\"#276419\"]]},\"xaxis\":{\"gridcolor\":\"white\",\"linecolor\":\"white\",\"ticks\":\"\",\"title\":{\"standoff\":15},\"zerolinecolor\":\"white\",\"automargin\":true,\"zerolinewidth\":2},\"yaxis\":{\"gridcolor\":\"white\",\"linecolor\":\"white\",\"ticks\":\"\",\"title\":{\"standoff\":15},\"zerolinecolor\":\"white\",\"automargin\":true,\"zerolinewidth\":2},\"scene\":{\"xaxis\":{\"backgroundcolor\":\"#E5ECF6\",\"gridcolor\":\"white\",\"linecolor\":\"white\",\"showbackground\":true,\"ticks\":\"\",\"zerolinecolor\":\"white\",\"gridwidth\":2},\"yaxis\":{\"backgroundcolor\":\"#E5ECF6\",\"gridcolor\":\"white\",\"linecolor\":\"white\",\"showbackground\":true,\"ticks\":\"\",\"zerolinecolor\":\"white\",\"gridwidth\":2},\"zaxis\":{\"backgroundcolor\":\"#E5ECF6\",\"gridcolor\":\"white\",\"linecolor\":\"white\",\"showbackground\":true,\"ticks\":\"\",\"zerolinecolor\":\"white\",\"gridwidth\":2}},\"shapedefaults\":{\"line\":{\"color\":\"#2a3f5f\"}},\"annotationdefaults\":{\"arrowcolor\":\"#2a3f5f\",\"arrowhead\":0,\"arrowwidth\":1},\"geo\":{\"bgcolor\":\"white\",\"landcolor\":\"#E5ECF6\",\"subunitcolor\":\"white\",\"showland\":true,\"showlakes\":true,\"lakecolor\":\"white\"},\"title\":{\"x\":0.05},\"mapbox\":{\"style\":\"light\"}}},\"xaxis\":{\"anchor\":\"y\",\"domain\":[0.0,1.0],\"title\":{\"text\":\"avg_quantity\"}},\"yaxis\":{\"anchor\":\"x\",\"domain\":[0.0,1.0],\"title\":{\"text\":\"avg_unit_price\"}},\"legend\":{\"title\":{\"text\":\"Country\"},\"tracegroupgap\":0,\"itemsizing\":\"constant\"},\"title\":{\"text\":\"Relationship Between Average Quantity and Average Unit Price for 'PARTY BUNTING'\"}},                        {\"responsive\": true}                    ).then(function(){\n",
       "                            \n",
       "var gd = document.getElementById('87d92c64-9396-422c-8f6a-5c600a89ace1');\n",
       "var x = new MutationObserver(function (mutations, observer) {{\n",
       "        var display = window.getComputedStyle(gd).display;\n",
       "        if (!display || display === 'none') {{\n",
       "            console.log([gd, 'removed!']);\n",
       "            Plotly.purge(gd);\n",
       "            observer.disconnect();\n",
       "        }}\n",
       "}});\n",
       "\n",
       "// Listen for the removal of the full notebook cells\n",
       "var notebookContainer = gd.closest('#notebook-container');\n",
       "if (notebookContainer) {{\n",
       "    x.observe(notebookContainer, {childList: true});\n",
       "}}\n",
       "\n",
       "// Listen for the clearing of the current output cell\n",
       "var outputEl = gd.closest('.output');\n",
       "if (outputEl) {{\n",
       "    x.observe(outputEl, {childList: true});\n",
       "}}\n",
       "\n",
       "                        })                };            </script>        </div>"
      ]
     },
     "metadata": {},
     "output_type": "display_data"
    }
   ],
   "source": [
    "data_party = data[data[\"Description\"] == \"PARTY BUNTING\"]\n",
    "\n",
    "agg_data_party = data_party.groupby(\"Country\").agg(\n",
    "    avg_quantity=(\"Quantity\", \"mean\"),\n",
    "    avg_unit_price=(\"UnitPrice\", \"mean\")\n",
    ").reset_index()\n",
    "\n",
    "fig = px.scatter(\n",
    "    agg_data_party,\n",
    "    x=\"avg_quantity\", \n",
    "    y=\"avg_unit_price\", \n",
    "    color=\"Country\",              \n",
    "    size=\"avg_quantity\",        \n",
    "    hover_name=\"Country\",        \n",
    "    title=\"Relationship Between Average Quantity and Average Unit Price for 'PARTY BUNTING'\"\n",
    ")\n",
    "\n",
    "fig.update_traces(marker=dict(opacity=0.8, line=dict(width=1, color='DarkSlateGrey')))\n",
    "fig.show()"
   ]
  },
  {
   "cell_type": "markdown",
   "metadata": {},
   "source": [
    "## 4. Create a set of interactive histograms showing the distributions of quantity per invoice for the following countries: EIRE, Germany, France, and Netherlands."
   ]
  },
  {
   "cell_type": "code",
   "execution_count": 10,
   "metadata": {},
   "outputs": [
    {
     "data": {
      "application/vnd.plotly.v1+json": {
       "config": {
        "plotlyServerURL": "https://plot.ly"
       },
       "data": [
        {
         "bingroup": "x",
         "hovertemplate": "Country=EIRE<br>Quantity per Invoice=%{x}<br>count=%{y}<extra></extra>",
         "legendgroup": "",
         "marker": {
          "color": "#636efa",
          "pattern": {
           "shape": ""
          }
         },
         "name": "",
         "nbinsx": 50,
         "orientation": "v",
         "showlegend": false,
         "type": "histogram",
         "x": {
          "bdata": "5gAMAAYADAY7A4YA2wEDAB8BewFmAXUBmgBYAWsAVAA2GB4BNAUuALICmgDPAQ4BSgCrA8oBjAdWADwAnAKdAgcBUQIHAQoLbADaAM4A8gHmAP8BSAFPAaABCQFIAHEAFQLoAiwAyQKKBEwAjwIPAXYA3QFwAJYA6QCiACkB6wC0AJ4GvgGKAA4CHwLHAu4BfAJwABwB4QCRATABBAAEAJQBvwAqCOwB9AAFAasBUgqAAQwBYwFTADAANAEYAboAAQA7AjAAOgFPACYIEQCKAVEAEgC5AhQAsAKxALIEXhbwAfoCAAENAeQAkgD7AFoCNwBqAd4IGgGCBX4U3gjjAlsChwE6AWgDKgLrAUMCQwIMACYAhAKTADwCFAHwBpgBoAD4BEYTyAF5BIwAoQFLAa4DuQDeAuEAVACmAGcCVgFdAIQAngIFAM0C2gTfAAABygAlAkYATQE6ABAAoAqBARIA5ADAAWgBhgIMAFUAoAGoBi4ASwD+AQIAkgFgAZwCyAFCAFcC3wA8AiQAGwFWAccCbhHqAZ4B5wHcALgAhwFwAg4BRAEdAEwBTgBEAvABmABIAwIBsASxA80AFQLGADQA4gDCAFQLkwD4AH8BKAG4AQwAZgJmA+4AdwE7AI4AWwDhAF0CVAFjAGIBhACDAAABFgK4ACIAMQNhAjwCJgM=",
          "dtype": "i2"
         },
         "xaxis": "x3",
         "yaxis": "y3"
        },
        {
         "bingroup": "x",
         "hovertemplate": "Country=France<br>Quantity per Invoice=%{x}<br>count=%{y}<extra></extra>",
         "legendgroup": "",
         "marker": {
          "color": "#636efa",
          "pattern": {
           "shape": ""
          }
         },
         "name": "",
         "nbinsx": 50,
         "orientation": "v",
         "showlegend": false,
         "type": "histogram",
         "x": {
          "bdata": "vgFqAIIAWgJFAqQAeABqAAgAKAJTAZoBhgADAEwBQACAAFcCGABYAGcBcQEFAbEA6AFnAE4AdAKoAEACeAByACsAgwDyAR8CTgC4AQcBfwG+AngAVAA7AJYBZgBRBsoAxQCfAM4AYwLWACoBxAFgAAQDcgDsAg8AAAFNAAgBYABGANUANgFIADYA9QBJAToBGAB7AEMBtwC4ADoBYQA+AKYBUwAFAMYAiADJAvIAggAFATsASgOyA4QA3whYAPAAJQHsABwBdwEZAMQAFwATAVQAkgBwAV4BBgB4AMAAYgAFA6IATAHKAVcD3gJpAMoAIQALAYwA3AA6ANwBZwCYAEgAsgF+ANAB5QA+ADAB0AC0ALQAdgFWAKgBmwDIAKAEWwFmAXMA2ADYANABvAFAAcwBoADKAiUCbgDoAGQBqgCLAM4ACwECAj4AMgDQAF4BDgGAAZoBdgBsABwBTgAAAUEBUAJCAYcAxgDsADAATAAGAZwAdACaAi4AUgBGAyAA6gCTAPQBNACyAhcBQAGiAMUAsgADAFsCkAHnAOQAywEhAOoANgCSAWkAiwAQA6oAzACRALACNAN4AMYADgFiADYA+gGOALgACQGGAs8ChALRAGgAJAHPAioASAC0ASQEpAAGAOQA8QCxAL0AMgESAaABQAA/AOQB/wCsABoB2wGpAG8AQAAJAU8BogDJAB4BxgKtALcAlgBQACIAdQOgALwAAgAdALgAVgE8AJ4A8QqiAEgAYgDaAGQAegDoADYCpQAMAogAKQEwAEwAUhQkAAUA0ABGAVoAWAECAaUBIAE3AnUBXAAwAR4AlgHLAVUBlwCjAGgAZADOANIASgHKANwAUAH4AsgAYABFAFcBQAHeACQAtwEYAJYCbAD+AtIA/gEqAZoAXADdAE0ADAG2AKsA1AAHAIQANQO3ATYBRAB+AIIBggFSASwBCwGTAOwAJgNhAKgAQAFUALYCDgDSAEoA/ADTAcsALAEYAPoANQH3ABIAaQA=",
          "dtype": "i2"
         },
         "xaxis": "x4",
         "yaxis": "y4"
        },
        {
         "bingroup": "x",
         "hovertemplate": "Country=Germany<br>Quantity per Invoice=%{x}<br>count=%{y}<extra></extra>",
         "legendgroup": "",
         "marker": {
          "color": "#636efa",
          "pattern": {
           "shape": ""
          }
         },
         "name": "",
         "nbinsx": 50,
         "orientation": "v",
         "showlegend": false,
         "type": "histogram",
         "x": {
          "bdata": "nACTAEwAHgA7AEwACgDGAycBWACWAIQAVADhAFIAJwQCACoAsQEGAIUAUQBCAd0AhAFNAeQAPgBiA1wAmgHvBmsB8gCFAVYAXwBfAKQACgBGAJQBqwBwACQA9QAtAIYDWwIiAd0A4gHOAOoAfQAuABYBtAB+ANQBOwAkAGYArgC2AJ8AMgCxAH8CLgCZAS4BTABsAAoBAwLGAEcCegCAAVUBwABaAL4ATABLAKgAvQBlAjAAbgGEAagAIAEMAN4AIgJXABgA5AHiAX4A4AH6AaUBDAGcAKwAMAAsAGwAWwEoAOwA9QJUANoA9AAoAGIA2AJOAOIAGwBpApEB0gHmAJEARADMAVQAfwJuAAoAjgDuADAAEADgAHkBpACRAMoAUwCDAmgAtwK6ECABIAAOAp8BWgDEANQBLgAiAEICfgGhAAwAHgDyAHcAvwBPACcAIgC4AFEB/gAgABACjQKdARYA7QAgASIBTgAkAFgAVgFjAJwBEAPJAQwAQgUOAY8ARwAPAKYALgBCAjwAXwMkAZQAjgCMAZ8AfAD8AMAAWwAIAywBcwAmAWkAGQA4AMAASwEsAzIBmAAEAikBpgHVAZgBTAHeAK4AhQIGAYgARQG7ACgCIACEAKABPAAPASIAzAEUADwBMABjANYAuQCAAVwBQgFnARMBRgCwAB0AdwEGAIgBbQAgAb4ARACDAH8E5gE4AZIBJgBRAQoBLAJEAQoAPAEUABQCfAAIAP4CwQBQANQABgHiALUARAANAM8ErgDmAGgArgFQAYAAPwCKAKgBDgLIASQBBAHQAKMAQQGjAK8AiwEOA8IDwgAyAFEDQgCvAPQAXgMMAFoBrAAMBWQAegBwADcB/ABCAV0AGgBIAUMAbgOwADwB3gAUAtwBDgYnAVIAVwEiAUACAQCVA4AAagAwACgCyQBEACQBgAAEABIAiABsAEoAyQGgAJoAcABAAD8AdAEnAAgCAAFpAIsAiABUAAwAkgAwAIMAngBBAToBWwKlAEYANwAKAvoAWgADAe8BbAAFAHkAQALdACoAmAD/AdkBfwBgAFIBOABQAAkANAA9AQMAVQHbACYASADKAcgAAAFGAoIAZgE7AEIBLQAkAX4BMAAyAeQAMACUAGwAVQCcAAgAHgGyACEABgCSAKMAeQOGABYA2wO6AF8AVgD5AQ==",
          "dtype": "i2"
         },
         "xaxis": "x",
         "yaxis": "y"
        },
        {
         "bingroup": "x",
         "hovertemplate": "Country=Netherlands<br>Quantity per Invoice=%{x}<br>count=%{y}<extra></extra>",
         "legendgroup": "",
         "marker": {
          "color": "#636efa",
          "pattern": {
           "shape": ""
          }
         },
         "name": "",
         "nbinsx": 50,
         "orientation": "v",
         "showlegend": false,
         "type": "histogram",
         "x": {
          "bdata": "YAAtAAwaEiC4FyABYhZ0AG8AXATuH8IPfAsTAZcAqQDSAmcALgRsK7gEfAK8AqoByABIAJwD6i9IAJgBfgDAAzgSQACkAA4ELAdIATgBVABuEj0AXgEmI6gBNAYJAH8edwGKOeADIAEUEuAB9AMBAJAAVxMUG4UOIQIDAEwBDwDTAA0BUDTMC8AG9AaUAh0A/QtgCSwBlgnYAD4AOBoQBCAAkgAgAJgAdAGIAIAWyAAEBTIAxhzEAYwA",
          "dtype": "i2"
         },
         "xaxis": "x2",
         "yaxis": "y2"
        }
       ],
       "layout": {
        "annotations": [
         {
          "font": {},
          "showarrow": false,
          "text": "Country=Germany",
          "x": 0.245,
          "xanchor": "center",
          "xref": "paper",
          "y": 0.46499999999999997,
          "yanchor": "bottom",
          "yref": "paper"
         },
         {
          "font": {},
          "showarrow": false,
          "text": "Country=Netherlands",
          "x": 0.755,
          "xanchor": "center",
          "xref": "paper",
          "y": 0.46499999999999997,
          "yanchor": "bottom",
          "yref": "paper"
         },
         {
          "font": {},
          "showarrow": false,
          "text": "Country=EIRE",
          "x": 0.245,
          "xanchor": "center",
          "xref": "paper",
          "y": 0.9999999999999999,
          "yanchor": "bottom",
          "yref": "paper"
         },
         {
          "font": {},
          "showarrow": false,
          "text": "Country=France",
          "x": 0.755,
          "xanchor": "center",
          "xref": "paper",
          "y": 0.9999999999999999,
          "yanchor": "bottom",
          "yref": "paper"
         }
        ],
        "barmode": "relative",
        "height": 600,
        "legend": {
         "tracegroupgap": 0
        },
        "template": {
         "data": {
          "bar": [
           {
            "error_x": {
             "color": "#2a3f5f"
            },
            "error_y": {
             "color": "#2a3f5f"
            },
            "marker": {
             "line": {
              "color": "#E5ECF6",
              "width": 0.5
             },
             "pattern": {
              "fillmode": "overlay",
              "size": 10,
              "solidity": 0.2
             }
            },
            "type": "bar"
           }
          ],
          "barpolar": [
           {
            "marker": {
             "line": {
              "color": "#E5ECF6",
              "width": 0.5
             },
             "pattern": {
              "fillmode": "overlay",
              "size": 10,
              "solidity": 0.2
             }
            },
            "type": "barpolar"
           }
          ],
          "carpet": [
           {
            "aaxis": {
             "endlinecolor": "#2a3f5f",
             "gridcolor": "white",
             "linecolor": "white",
             "minorgridcolor": "white",
             "startlinecolor": "#2a3f5f"
            },
            "baxis": {
             "endlinecolor": "#2a3f5f",
             "gridcolor": "white",
             "linecolor": "white",
             "minorgridcolor": "white",
             "startlinecolor": "#2a3f5f"
            },
            "type": "carpet"
           }
          ],
          "choropleth": [
           {
            "colorbar": {
             "outlinewidth": 0,
             "ticks": ""
            },
            "type": "choropleth"
           }
          ],
          "contour": [
           {
            "colorbar": {
             "outlinewidth": 0,
             "ticks": ""
            },
            "colorscale": [
             [
              0,
              "#0d0887"
             ],
             [
              0.1111111111111111,
              "#46039f"
             ],
             [
              0.2222222222222222,
              "#7201a8"
             ],
             [
              0.3333333333333333,
              "#9c179e"
             ],
             [
              0.4444444444444444,
              "#bd3786"
             ],
             [
              0.5555555555555556,
              "#d8576b"
             ],
             [
              0.6666666666666666,
              "#ed7953"
             ],
             [
              0.7777777777777778,
              "#fb9f3a"
             ],
             [
              0.8888888888888888,
              "#fdca26"
             ],
             [
              1,
              "#f0f921"
             ]
            ],
            "type": "contour"
           }
          ],
          "contourcarpet": [
           {
            "colorbar": {
             "outlinewidth": 0,
             "ticks": ""
            },
            "type": "contourcarpet"
           }
          ],
          "heatmap": [
           {
            "colorbar": {
             "outlinewidth": 0,
             "ticks": ""
            },
            "colorscale": [
             [
              0,
              "#0d0887"
             ],
             [
              0.1111111111111111,
              "#46039f"
             ],
             [
              0.2222222222222222,
              "#7201a8"
             ],
             [
              0.3333333333333333,
              "#9c179e"
             ],
             [
              0.4444444444444444,
              "#bd3786"
             ],
             [
              0.5555555555555556,
              "#d8576b"
             ],
             [
              0.6666666666666666,
              "#ed7953"
             ],
             [
              0.7777777777777778,
              "#fb9f3a"
             ],
             [
              0.8888888888888888,
              "#fdca26"
             ],
             [
              1,
              "#f0f921"
             ]
            ],
            "type": "heatmap"
           }
          ],
          "histogram": [
           {
            "marker": {
             "pattern": {
              "fillmode": "overlay",
              "size": 10,
              "solidity": 0.2
             }
            },
            "type": "histogram"
           }
          ],
          "histogram2d": [
           {
            "colorbar": {
             "outlinewidth": 0,
             "ticks": ""
            },
            "colorscale": [
             [
              0,
              "#0d0887"
             ],
             [
              0.1111111111111111,
              "#46039f"
             ],
             [
              0.2222222222222222,
              "#7201a8"
             ],
             [
              0.3333333333333333,
              "#9c179e"
             ],
             [
              0.4444444444444444,
              "#bd3786"
             ],
             [
              0.5555555555555556,
              "#d8576b"
             ],
             [
              0.6666666666666666,
              "#ed7953"
             ],
             [
              0.7777777777777778,
              "#fb9f3a"
             ],
             [
              0.8888888888888888,
              "#fdca26"
             ],
             [
              1,
              "#f0f921"
             ]
            ],
            "type": "histogram2d"
           }
          ],
          "histogram2dcontour": [
           {
            "colorbar": {
             "outlinewidth": 0,
             "ticks": ""
            },
            "colorscale": [
             [
              0,
              "#0d0887"
             ],
             [
              0.1111111111111111,
              "#46039f"
             ],
             [
              0.2222222222222222,
              "#7201a8"
             ],
             [
              0.3333333333333333,
              "#9c179e"
             ],
             [
              0.4444444444444444,
              "#bd3786"
             ],
             [
              0.5555555555555556,
              "#d8576b"
             ],
             [
              0.6666666666666666,
              "#ed7953"
             ],
             [
              0.7777777777777778,
              "#fb9f3a"
             ],
             [
              0.8888888888888888,
              "#fdca26"
             ],
             [
              1,
              "#f0f921"
             ]
            ],
            "type": "histogram2dcontour"
           }
          ],
          "mesh3d": [
           {
            "colorbar": {
             "outlinewidth": 0,
             "ticks": ""
            },
            "type": "mesh3d"
           }
          ],
          "parcoords": [
           {
            "line": {
             "colorbar": {
              "outlinewidth": 0,
              "ticks": ""
             }
            },
            "type": "parcoords"
           }
          ],
          "pie": [
           {
            "automargin": true,
            "type": "pie"
           }
          ],
          "scatter": [
           {
            "fillpattern": {
             "fillmode": "overlay",
             "size": 10,
             "solidity": 0.2
            },
            "type": "scatter"
           }
          ],
          "scatter3d": [
           {
            "line": {
             "colorbar": {
              "outlinewidth": 0,
              "ticks": ""
             }
            },
            "marker": {
             "colorbar": {
              "outlinewidth": 0,
              "ticks": ""
             }
            },
            "type": "scatter3d"
           }
          ],
          "scattercarpet": [
           {
            "marker": {
             "colorbar": {
              "outlinewidth": 0,
              "ticks": ""
             }
            },
            "type": "scattercarpet"
           }
          ],
          "scattergeo": [
           {
            "marker": {
             "colorbar": {
              "outlinewidth": 0,
              "ticks": ""
             }
            },
            "type": "scattergeo"
           }
          ],
          "scattergl": [
           {
            "marker": {
             "colorbar": {
              "outlinewidth": 0,
              "ticks": ""
             }
            },
            "type": "scattergl"
           }
          ],
          "scattermap": [
           {
            "marker": {
             "colorbar": {
              "outlinewidth": 0,
              "ticks": ""
             }
            },
            "type": "scattermap"
           }
          ],
          "scattermapbox": [
           {
            "marker": {
             "colorbar": {
              "outlinewidth": 0,
              "ticks": ""
             }
            },
            "type": "scattermapbox"
           }
          ],
          "scatterpolar": [
           {
            "marker": {
             "colorbar": {
              "outlinewidth": 0,
              "ticks": ""
             }
            },
            "type": "scatterpolar"
           }
          ],
          "scatterpolargl": [
           {
            "marker": {
             "colorbar": {
              "outlinewidth": 0,
              "ticks": ""
             }
            },
            "type": "scatterpolargl"
           }
          ],
          "scatterternary": [
           {
            "marker": {
             "colorbar": {
              "outlinewidth": 0,
              "ticks": ""
             }
            },
            "type": "scatterternary"
           }
          ],
          "surface": [
           {
            "colorbar": {
             "outlinewidth": 0,
             "ticks": ""
            },
            "colorscale": [
             [
              0,
              "#0d0887"
             ],
             [
              0.1111111111111111,
              "#46039f"
             ],
             [
              0.2222222222222222,
              "#7201a8"
             ],
             [
              0.3333333333333333,
              "#9c179e"
             ],
             [
              0.4444444444444444,
              "#bd3786"
             ],
             [
              0.5555555555555556,
              "#d8576b"
             ],
             [
              0.6666666666666666,
              "#ed7953"
             ],
             [
              0.7777777777777778,
              "#fb9f3a"
             ],
             [
              0.8888888888888888,
              "#fdca26"
             ],
             [
              1,
              "#f0f921"
             ]
            ],
            "type": "surface"
           }
          ],
          "table": [
           {
            "cells": {
             "fill": {
              "color": "#EBF0F8"
             },
             "line": {
              "color": "white"
             }
            },
            "header": {
             "fill": {
              "color": "#C8D4E3"
             },
             "line": {
              "color": "white"
             }
            },
            "type": "table"
           }
          ]
         },
         "layout": {
          "annotationdefaults": {
           "arrowcolor": "#2a3f5f",
           "arrowhead": 0,
           "arrowwidth": 1
          },
          "autotypenumbers": "strict",
          "coloraxis": {
           "colorbar": {
            "outlinewidth": 0,
            "ticks": ""
           }
          },
          "colorscale": {
           "diverging": [
            [
             0,
             "#8e0152"
            ],
            [
             0.1,
             "#c51b7d"
            ],
            [
             0.2,
             "#de77ae"
            ],
            [
             0.3,
             "#f1b6da"
            ],
            [
             0.4,
             "#fde0ef"
            ],
            [
             0.5,
             "#f7f7f7"
            ],
            [
             0.6,
             "#e6f5d0"
            ],
            [
             0.7,
             "#b8e186"
            ],
            [
             0.8,
             "#7fbc41"
            ],
            [
             0.9,
             "#4d9221"
            ],
            [
             1,
             "#276419"
            ]
           ],
           "sequential": [
            [
             0,
             "#0d0887"
            ],
            [
             0.1111111111111111,
             "#46039f"
            ],
            [
             0.2222222222222222,
             "#7201a8"
            ],
            [
             0.3333333333333333,
             "#9c179e"
            ],
            [
             0.4444444444444444,
             "#bd3786"
            ],
            [
             0.5555555555555556,
             "#d8576b"
            ],
            [
             0.6666666666666666,
             "#ed7953"
            ],
            [
             0.7777777777777778,
             "#fb9f3a"
            ],
            [
             0.8888888888888888,
             "#fdca26"
            ],
            [
             1,
             "#f0f921"
            ]
           ],
           "sequentialminus": [
            [
             0,
             "#0d0887"
            ],
            [
             0.1111111111111111,
             "#46039f"
            ],
            [
             0.2222222222222222,
             "#7201a8"
            ],
            [
             0.3333333333333333,
             "#9c179e"
            ],
            [
             0.4444444444444444,
             "#bd3786"
            ],
            [
             0.5555555555555556,
             "#d8576b"
            ],
            [
             0.6666666666666666,
             "#ed7953"
            ],
            [
             0.7777777777777778,
             "#fb9f3a"
            ],
            [
             0.8888888888888888,
             "#fdca26"
            ],
            [
             1,
             "#f0f921"
            ]
           ]
          },
          "colorway": [
           "#636efa",
           "#EF553B",
           "#00cc96",
           "#ab63fa",
           "#FFA15A",
           "#19d3f3",
           "#FF6692",
           "#B6E880",
           "#FF97FF",
           "#FECB52"
          ],
          "font": {
           "color": "#2a3f5f"
          },
          "geo": {
           "bgcolor": "white",
           "lakecolor": "white",
           "landcolor": "#E5ECF6",
           "showlakes": true,
           "showland": true,
           "subunitcolor": "white"
          },
          "hoverlabel": {
           "align": "left"
          },
          "hovermode": "closest",
          "mapbox": {
           "style": "light"
          },
          "paper_bgcolor": "white",
          "plot_bgcolor": "#E5ECF6",
          "polar": {
           "angularaxis": {
            "gridcolor": "white",
            "linecolor": "white",
            "ticks": ""
           },
           "bgcolor": "#E5ECF6",
           "radialaxis": {
            "gridcolor": "white",
            "linecolor": "white",
            "ticks": ""
           }
          },
          "scene": {
           "xaxis": {
            "backgroundcolor": "#E5ECF6",
            "gridcolor": "white",
            "gridwidth": 2,
            "linecolor": "white",
            "showbackground": true,
            "ticks": "",
            "zerolinecolor": "white"
           },
           "yaxis": {
            "backgroundcolor": "#E5ECF6",
            "gridcolor": "white",
            "gridwidth": 2,
            "linecolor": "white",
            "showbackground": true,
            "ticks": "",
            "zerolinecolor": "white"
           },
           "zaxis": {
            "backgroundcolor": "#E5ECF6",
            "gridcolor": "white",
            "gridwidth": 2,
            "linecolor": "white",
            "showbackground": true,
            "ticks": "",
            "zerolinecolor": "white"
           }
          },
          "shapedefaults": {
           "line": {
            "color": "#2a3f5f"
           }
          },
          "ternary": {
           "aaxis": {
            "gridcolor": "white",
            "linecolor": "white",
            "ticks": ""
           },
           "baxis": {
            "gridcolor": "white",
            "linecolor": "white",
            "ticks": ""
           },
           "bgcolor": "#E5ECF6",
           "caxis": {
            "gridcolor": "white",
            "linecolor": "white",
            "ticks": ""
           }
          },
          "title": {
           "x": 0.05
          },
          "xaxis": {
           "automargin": true,
           "gridcolor": "white",
           "linecolor": "white",
           "ticks": "",
           "title": {
            "standoff": 15
           },
           "zerolinecolor": "white",
           "zerolinewidth": 2
          },
          "yaxis": {
           "automargin": true,
           "gridcolor": "white",
           "linecolor": "white",
           "ticks": "",
           "title": {
            "standoff": 15
           },
           "zerolinecolor": "white",
           "zerolinewidth": 2
          }
         }
        },
        "title": {
         "text": "Distribution of Total Quantity per Invoice for EIRE, Germany, France, and Netherlands"
        },
        "xaxis": {
         "anchor": "y",
         "domain": [
          0,
          0.49
         ],
         "title": {
          "text": "Quantity per Invoice"
         }
        },
        "xaxis2": {
         "anchor": "y2",
         "domain": [
          0.51,
          1
         ],
         "matches": "x",
         "title": {
          "text": "Quantity per Invoice"
         }
        },
        "xaxis3": {
         "anchor": "y3",
         "domain": [
          0,
          0.49
         ],
         "matches": "x",
         "showticklabels": false
        },
        "xaxis4": {
         "anchor": "y4",
         "domain": [
          0.51,
          1
         ],
         "matches": "x",
         "showticklabels": false
        },
        "yaxis": {
         "anchor": "x",
         "domain": [
          0,
          0.46499999999999997
         ],
         "title": {
          "text": "count"
         }
        },
        "yaxis2": {
         "anchor": "x2",
         "domain": [
          0,
          0.46499999999999997
         ],
         "matches": "y",
         "showticklabels": false
        },
        "yaxis3": {
         "anchor": "x3",
         "domain": [
          0.5349999999999999,
          0.9999999999999999
         ],
         "matches": "y",
         "title": {
          "text": "count"
         }
        },
        "yaxis4": {
         "anchor": "x4",
         "domain": [
          0.5349999999999999,
          0.9999999999999999
         ],
         "matches": "y",
         "showticklabels": false
        }
       }
      },
      "text/html": [
       "<div>            <script src=\"https://cdnjs.cloudflare.com/ajax/libs/mathjax/2.7.5/MathJax.js?config=TeX-AMS-MML_SVG\"></script><script type=\"text/javascript\">if (window.MathJax && window.MathJax.Hub && window.MathJax.Hub.Config) {window.MathJax.Hub.Config({SVG: {font: \"STIX-Web\"}});}</script>                <script type=\"text/javascript\">window.PlotlyConfig = {MathJaxConfig: 'local'};</script>\n",
       "        <script charset=\"utf-8\" src=\"https://cdn.plot.ly/plotly-3.0.1.min.js\"></script>                <div id=\"9625e173-d6b0-47cd-882c-6cdcedeb7c8f\" class=\"plotly-graph-div\" style=\"height:600px; width:100%;\"></div>            <script type=\"text/javascript\">                window.PLOTLYENV=window.PLOTLYENV || {};                                if (document.getElementById(\"9625e173-d6b0-47cd-882c-6cdcedeb7c8f\")) {                    Plotly.newPlot(                        \"9625e173-d6b0-47cd-882c-6cdcedeb7c8f\",                        [{\"bingroup\":\"x\",\"hovertemplate\":\"Country=EIRE\\u003cbr\\u003eQuantity per Invoice=%{x}\\u003cbr\\u003ecount=%{y}\\u003cextra\\u003e\\u003c\\u002fextra\\u003e\",\"legendgroup\":\"\",\"marker\":{\"color\":\"#636efa\",\"pattern\":{\"shape\":\"\"}},\"name\":\"\",\"nbinsx\":50,\"orientation\":\"v\",\"showlegend\":false,\"x\":{\"dtype\":\"i2\",\"bdata\":\"5gAMAAYADAY7A4YA2wEDAB8BewFmAXUBmgBYAWsAVAA2GB4BNAUuALICmgDPAQ4BSgCrA8oBjAdWADwAnAKdAgcBUQIHAQoLbADaAM4A8gHmAP8BSAFPAaABCQFIAHEAFQLoAiwAyQKKBEwAjwIPAXYA3QFwAJYA6QCiACkB6wC0AJ4GvgGKAA4CHwLHAu4BfAJwABwB4QCRATABBAAEAJQBvwAqCOwB9AAFAasBUgqAAQwBYwFTADAANAEYAboAAQA7AjAAOgFPACYIEQCKAVEAEgC5AhQAsAKxALIEXhbwAfoCAAENAeQAkgD7AFoCNwBqAd4IGgGCBX4U3gjjAlsChwE6AWgDKgLrAUMCQwIMACYAhAKTADwCFAHwBpgBoAD4BEYTyAF5BIwAoQFLAa4DuQDeAuEAVACmAGcCVgFdAIQAngIFAM0C2gTfAAABygAlAkYATQE6ABAAoAqBARIA5ADAAWgBhgIMAFUAoAGoBi4ASwD+AQIAkgFgAZwCyAFCAFcC3wA8AiQAGwFWAccCbhHqAZ4B5wHcALgAhwFwAg4BRAEdAEwBTgBEAvABmABIAwIBsASxA80AFQLGADQA4gDCAFQLkwD4AH8BKAG4AQwAZgJmA+4AdwE7AI4AWwDhAF0CVAFjAGIBhACDAAABFgK4ACIAMQNhAjwCJgM=\"},\"xaxis\":\"x3\",\"yaxis\":\"y3\",\"type\":\"histogram\"},{\"bingroup\":\"x\",\"hovertemplate\":\"Country=France\\u003cbr\\u003eQuantity per Invoice=%{x}\\u003cbr\\u003ecount=%{y}\\u003cextra\\u003e\\u003c\\u002fextra\\u003e\",\"legendgroup\":\"\",\"marker\":{\"color\":\"#636efa\",\"pattern\":{\"shape\":\"\"}},\"name\":\"\",\"nbinsx\":50,\"orientation\":\"v\",\"showlegend\":false,\"x\":{\"dtype\":\"i2\",\"bdata\":\"vgFqAIIAWgJFAqQAeABqAAgAKAJTAZoBhgADAEwBQACAAFcCGABYAGcBcQEFAbEA6AFnAE4AdAKoAEACeAByACsAgwDyAR8CTgC4AQcBfwG+AngAVAA7AJYBZgBRBsoAxQCfAM4AYwLWACoBxAFgAAQDcgDsAg8AAAFNAAgBYABGANUANgFIADYA9QBJAToBGAB7AEMBtwC4ADoBYQA+AKYBUwAFAMYAiADJAvIAggAFATsASgOyA4QA3whYAPAAJQHsABwBdwEZAMQAFwATAVQAkgBwAV4BBgB4AMAAYgAFA6IATAHKAVcD3gJpAMoAIQALAYwA3AA6ANwBZwCYAEgAsgF+ANAB5QA+ADAB0AC0ALQAdgFWAKgBmwDIAKAEWwFmAXMA2ADYANABvAFAAcwBoADKAiUCbgDoAGQBqgCLAM4ACwECAj4AMgDQAF4BDgGAAZoBdgBsABwBTgAAAUEBUAJCAYcAxgDsADAATAAGAZwAdACaAi4AUgBGAyAA6gCTAPQBNACyAhcBQAGiAMUAsgADAFsCkAHnAOQAywEhAOoANgCSAWkAiwAQA6oAzACRALACNAN4AMYADgFiADYA+gGOALgACQGGAs8ChALRAGgAJAHPAioASAC0ASQEpAAGAOQA8QCxAL0AMgESAaABQAA\\u002fAOQB\\u002fwCsABoB2wGpAG8AQAAJAU8BogDJAB4BxgKtALcAlgBQACIAdQOgALwAAgAdALgAVgE8AJ4A8QqiAEgAYgDaAGQAegDoADYCpQAMAogAKQEwAEwAUhQkAAUA0ABGAVoAWAECAaUBIAE3AnUBXAAwAR4AlgHLAVUBlwCjAGgAZADOANIASgHKANwAUAH4AsgAYABFAFcBQAHeACQAtwEYAJYCbAD+AtIA\\u002fgEqAZoAXADdAE0ADAG2AKsA1AAHAIQANQO3ATYBRAB+AIIBggFSASwBCwGTAOwAJgNhAKgAQAFUALYCDgDSAEoA\\u002fADTAcsALAEYAPoANQH3ABIAaQA=\"},\"xaxis\":\"x4\",\"yaxis\":\"y4\",\"type\":\"histogram\"},{\"bingroup\":\"x\",\"hovertemplate\":\"Country=Germany\\u003cbr\\u003eQuantity per Invoice=%{x}\\u003cbr\\u003ecount=%{y}\\u003cextra\\u003e\\u003c\\u002fextra\\u003e\",\"legendgroup\":\"\",\"marker\":{\"color\":\"#636efa\",\"pattern\":{\"shape\":\"\"}},\"name\":\"\",\"nbinsx\":50,\"orientation\":\"v\",\"showlegend\":false,\"x\":{\"dtype\":\"i2\",\"bdata\":\"nACTAEwAHgA7AEwACgDGAycBWACWAIQAVADhAFIAJwQCACoAsQEGAIUAUQBCAd0AhAFNAeQAPgBiA1wAmgHvBmsB8gCFAVYAXwBfAKQACgBGAJQBqwBwACQA9QAtAIYDWwIiAd0A4gHOAOoAfQAuABYBtAB+ANQBOwAkAGYArgC2AJ8AMgCxAH8CLgCZAS4BTABsAAoBAwLGAEcCegCAAVUBwABaAL4ATABLAKgAvQBlAjAAbgGEAagAIAEMAN4AIgJXABgA5AHiAX4A4AH6AaUBDAGcAKwAMAAsAGwAWwEoAOwA9QJUANoA9AAoAGIA2AJOAOIAGwBpApEB0gHmAJEARADMAVQAfwJuAAoAjgDuADAAEADgAHkBpACRAMoAUwCDAmgAtwK6ECABIAAOAp8BWgDEANQBLgAiAEICfgGhAAwAHgDyAHcAvwBPACcAIgC4AFEB\\u002fgAgABACjQKdARYA7QAgASIBTgAkAFgAVgFjAJwBEAPJAQwAQgUOAY8ARwAPAKYALgBCAjwAXwMkAZQAjgCMAZ8AfAD8AMAAWwAIAywBcwAmAWkAGQA4AMAASwEsAzIBmAAEAikBpgHVAZgBTAHeAK4AhQIGAYgARQG7ACgCIACEAKABPAAPASIAzAEUADwBMABjANYAuQCAAVwBQgFnARMBRgCwAB0AdwEGAIgBbQAgAb4ARACDAH8E5gE4AZIBJgBRAQoBLAJEAQoAPAEUABQCfAAIAP4CwQBQANQABgHiALUARAANAM8ErgDmAGgArgFQAYAAPwCKAKgBDgLIASQBBAHQAKMAQQGjAK8AiwEOA8IDwgAyAFEDQgCvAPQAXgMMAFoBrAAMBWQAegBwADcB\\u002fABCAV0AGgBIAUMAbgOwADwB3gAUAtwBDgYnAVIAVwEiAUACAQCVA4AAagAwACgCyQBEACQBgAAEABIAiABsAEoAyQGgAJoAcABAAD8AdAEnAAgCAAFpAIsAiABUAAwAkgAwAIMAngBBAToBWwKlAEYANwAKAvoAWgADAe8BbAAFAHkAQALdACoAmAD\\u002fAdkBfwBgAFIBOABQAAkANAA9AQMAVQHbACYASADKAcgAAAFGAoIAZgE7AEIBLQAkAX4BMAAyAeQAMACUAGwAVQCcAAgAHgGyACEABgCSAKMAeQOGABYA2wO6AF8AVgD5AQ==\"},\"xaxis\":\"x\",\"yaxis\":\"y\",\"type\":\"histogram\"},{\"bingroup\":\"x\",\"hovertemplate\":\"Country=Netherlands\\u003cbr\\u003eQuantity per Invoice=%{x}\\u003cbr\\u003ecount=%{y}\\u003cextra\\u003e\\u003c\\u002fextra\\u003e\",\"legendgroup\":\"\",\"marker\":{\"color\":\"#636efa\",\"pattern\":{\"shape\":\"\"}},\"name\":\"\",\"nbinsx\":50,\"orientation\":\"v\",\"showlegend\":false,\"x\":{\"dtype\":\"i2\",\"bdata\":\"YAAtAAwaEiC4FyABYhZ0AG8AXATuH8IPfAsTAZcAqQDSAmcALgRsK7gEfAK8AqoByABIAJwD6i9IAJgBfgDAAzgSQACkAA4ELAdIATgBVABuEj0AXgEmI6gBNAYJAH8edwGKOeADIAEUEuAB9AMBAJAAVxMUG4UOIQIDAEwBDwDTAA0BUDTMC8AG9AaUAh0A\\u002fQtgCSwBlgnYAD4AOBoQBCAAkgAgAJgAdAGIAIAWyAAEBTIAxhzEAYwA\"},\"xaxis\":\"x2\",\"yaxis\":\"y2\",\"type\":\"histogram\"}],                        {\"template\":{\"data\":{\"histogram2dcontour\":[{\"type\":\"histogram2dcontour\",\"colorbar\":{\"outlinewidth\":0,\"ticks\":\"\"},\"colorscale\":[[0.0,\"#0d0887\"],[0.1111111111111111,\"#46039f\"],[0.2222222222222222,\"#7201a8\"],[0.3333333333333333,\"#9c179e\"],[0.4444444444444444,\"#bd3786\"],[0.5555555555555556,\"#d8576b\"],[0.6666666666666666,\"#ed7953\"],[0.7777777777777778,\"#fb9f3a\"],[0.8888888888888888,\"#fdca26\"],[1.0,\"#f0f921\"]]}],\"choropleth\":[{\"type\":\"choropleth\",\"colorbar\":{\"outlinewidth\":0,\"ticks\":\"\"}}],\"histogram2d\":[{\"type\":\"histogram2d\",\"colorbar\":{\"outlinewidth\":0,\"ticks\":\"\"},\"colorscale\":[[0.0,\"#0d0887\"],[0.1111111111111111,\"#46039f\"],[0.2222222222222222,\"#7201a8\"],[0.3333333333333333,\"#9c179e\"],[0.4444444444444444,\"#bd3786\"],[0.5555555555555556,\"#d8576b\"],[0.6666666666666666,\"#ed7953\"],[0.7777777777777778,\"#fb9f3a\"],[0.8888888888888888,\"#fdca26\"],[1.0,\"#f0f921\"]]}],\"heatmap\":[{\"type\":\"heatmap\",\"colorbar\":{\"outlinewidth\":0,\"ticks\":\"\"},\"colorscale\":[[0.0,\"#0d0887\"],[0.1111111111111111,\"#46039f\"],[0.2222222222222222,\"#7201a8\"],[0.3333333333333333,\"#9c179e\"],[0.4444444444444444,\"#bd3786\"],[0.5555555555555556,\"#d8576b\"],[0.6666666666666666,\"#ed7953\"],[0.7777777777777778,\"#fb9f3a\"],[0.8888888888888888,\"#fdca26\"],[1.0,\"#f0f921\"]]}],\"contourcarpet\":[{\"type\":\"contourcarpet\",\"colorbar\":{\"outlinewidth\":0,\"ticks\":\"\"}}],\"contour\":[{\"type\":\"contour\",\"colorbar\":{\"outlinewidth\":0,\"ticks\":\"\"},\"colorscale\":[[0.0,\"#0d0887\"],[0.1111111111111111,\"#46039f\"],[0.2222222222222222,\"#7201a8\"],[0.3333333333333333,\"#9c179e\"],[0.4444444444444444,\"#bd3786\"],[0.5555555555555556,\"#d8576b\"],[0.6666666666666666,\"#ed7953\"],[0.7777777777777778,\"#fb9f3a\"],[0.8888888888888888,\"#fdca26\"],[1.0,\"#f0f921\"]]}],\"surface\":[{\"type\":\"surface\",\"colorbar\":{\"outlinewidth\":0,\"ticks\":\"\"},\"colorscale\":[[0.0,\"#0d0887\"],[0.1111111111111111,\"#46039f\"],[0.2222222222222222,\"#7201a8\"],[0.3333333333333333,\"#9c179e\"],[0.4444444444444444,\"#bd3786\"],[0.5555555555555556,\"#d8576b\"],[0.6666666666666666,\"#ed7953\"],[0.7777777777777778,\"#fb9f3a\"],[0.8888888888888888,\"#fdca26\"],[1.0,\"#f0f921\"]]}],\"mesh3d\":[{\"type\":\"mesh3d\",\"colorbar\":{\"outlinewidth\":0,\"ticks\":\"\"}}],\"scatter\":[{\"fillpattern\":{\"fillmode\":\"overlay\",\"size\":10,\"solidity\":0.2},\"type\":\"scatter\"}],\"parcoords\":[{\"type\":\"parcoords\",\"line\":{\"colorbar\":{\"outlinewidth\":0,\"ticks\":\"\"}}}],\"scatterpolargl\":[{\"type\":\"scatterpolargl\",\"marker\":{\"colorbar\":{\"outlinewidth\":0,\"ticks\":\"\"}}}],\"bar\":[{\"error_x\":{\"color\":\"#2a3f5f\"},\"error_y\":{\"color\":\"#2a3f5f\"},\"marker\":{\"line\":{\"color\":\"#E5ECF6\",\"width\":0.5},\"pattern\":{\"fillmode\":\"overlay\",\"size\":10,\"solidity\":0.2}},\"type\":\"bar\"}],\"scattergeo\":[{\"type\":\"scattergeo\",\"marker\":{\"colorbar\":{\"outlinewidth\":0,\"ticks\":\"\"}}}],\"scatterpolar\":[{\"type\":\"scatterpolar\",\"marker\":{\"colorbar\":{\"outlinewidth\":0,\"ticks\":\"\"}}}],\"histogram\":[{\"marker\":{\"pattern\":{\"fillmode\":\"overlay\",\"size\":10,\"solidity\":0.2}},\"type\":\"histogram\"}],\"scattergl\":[{\"type\":\"scattergl\",\"marker\":{\"colorbar\":{\"outlinewidth\":0,\"ticks\":\"\"}}}],\"scatter3d\":[{\"type\":\"scatter3d\",\"line\":{\"colorbar\":{\"outlinewidth\":0,\"ticks\":\"\"}},\"marker\":{\"colorbar\":{\"outlinewidth\":0,\"ticks\":\"\"}}}],\"scattermap\":[{\"type\":\"scattermap\",\"marker\":{\"colorbar\":{\"outlinewidth\":0,\"ticks\":\"\"}}}],\"scattermapbox\":[{\"type\":\"scattermapbox\",\"marker\":{\"colorbar\":{\"outlinewidth\":0,\"ticks\":\"\"}}}],\"scatterternary\":[{\"type\":\"scatterternary\",\"marker\":{\"colorbar\":{\"outlinewidth\":0,\"ticks\":\"\"}}}],\"scattercarpet\":[{\"type\":\"scattercarpet\",\"marker\":{\"colorbar\":{\"outlinewidth\":0,\"ticks\":\"\"}}}],\"carpet\":[{\"aaxis\":{\"endlinecolor\":\"#2a3f5f\",\"gridcolor\":\"white\",\"linecolor\":\"white\",\"minorgridcolor\":\"white\",\"startlinecolor\":\"#2a3f5f\"},\"baxis\":{\"endlinecolor\":\"#2a3f5f\",\"gridcolor\":\"white\",\"linecolor\":\"white\",\"minorgridcolor\":\"white\",\"startlinecolor\":\"#2a3f5f\"},\"type\":\"carpet\"}],\"table\":[{\"cells\":{\"fill\":{\"color\":\"#EBF0F8\"},\"line\":{\"color\":\"white\"}},\"header\":{\"fill\":{\"color\":\"#C8D4E3\"},\"line\":{\"color\":\"white\"}},\"type\":\"table\"}],\"barpolar\":[{\"marker\":{\"line\":{\"color\":\"#E5ECF6\",\"width\":0.5},\"pattern\":{\"fillmode\":\"overlay\",\"size\":10,\"solidity\":0.2}},\"type\":\"barpolar\"}],\"pie\":[{\"automargin\":true,\"type\":\"pie\"}]},\"layout\":{\"autotypenumbers\":\"strict\",\"colorway\":[\"#636efa\",\"#EF553B\",\"#00cc96\",\"#ab63fa\",\"#FFA15A\",\"#19d3f3\",\"#FF6692\",\"#B6E880\",\"#FF97FF\",\"#FECB52\"],\"font\":{\"color\":\"#2a3f5f\"},\"hovermode\":\"closest\",\"hoverlabel\":{\"align\":\"left\"},\"paper_bgcolor\":\"white\",\"plot_bgcolor\":\"#E5ECF6\",\"polar\":{\"bgcolor\":\"#E5ECF6\",\"angularaxis\":{\"gridcolor\":\"white\",\"linecolor\":\"white\",\"ticks\":\"\"},\"radialaxis\":{\"gridcolor\":\"white\",\"linecolor\":\"white\",\"ticks\":\"\"}},\"ternary\":{\"bgcolor\":\"#E5ECF6\",\"aaxis\":{\"gridcolor\":\"white\",\"linecolor\":\"white\",\"ticks\":\"\"},\"baxis\":{\"gridcolor\":\"white\",\"linecolor\":\"white\",\"ticks\":\"\"},\"caxis\":{\"gridcolor\":\"white\",\"linecolor\":\"white\",\"ticks\":\"\"}},\"coloraxis\":{\"colorbar\":{\"outlinewidth\":0,\"ticks\":\"\"}},\"colorscale\":{\"sequential\":[[0.0,\"#0d0887\"],[0.1111111111111111,\"#46039f\"],[0.2222222222222222,\"#7201a8\"],[0.3333333333333333,\"#9c179e\"],[0.4444444444444444,\"#bd3786\"],[0.5555555555555556,\"#d8576b\"],[0.6666666666666666,\"#ed7953\"],[0.7777777777777778,\"#fb9f3a\"],[0.8888888888888888,\"#fdca26\"],[1.0,\"#f0f921\"]],\"sequentialminus\":[[0.0,\"#0d0887\"],[0.1111111111111111,\"#46039f\"],[0.2222222222222222,\"#7201a8\"],[0.3333333333333333,\"#9c179e\"],[0.4444444444444444,\"#bd3786\"],[0.5555555555555556,\"#d8576b\"],[0.6666666666666666,\"#ed7953\"],[0.7777777777777778,\"#fb9f3a\"],[0.8888888888888888,\"#fdca26\"],[1.0,\"#f0f921\"]],\"diverging\":[[0,\"#8e0152\"],[0.1,\"#c51b7d\"],[0.2,\"#de77ae\"],[0.3,\"#f1b6da\"],[0.4,\"#fde0ef\"],[0.5,\"#f7f7f7\"],[0.6,\"#e6f5d0\"],[0.7,\"#b8e186\"],[0.8,\"#7fbc41\"],[0.9,\"#4d9221\"],[1,\"#276419\"]]},\"xaxis\":{\"gridcolor\":\"white\",\"linecolor\":\"white\",\"ticks\":\"\",\"title\":{\"standoff\":15},\"zerolinecolor\":\"white\",\"automargin\":true,\"zerolinewidth\":2},\"yaxis\":{\"gridcolor\":\"white\",\"linecolor\":\"white\",\"ticks\":\"\",\"title\":{\"standoff\":15},\"zerolinecolor\":\"white\",\"automargin\":true,\"zerolinewidth\":2},\"scene\":{\"xaxis\":{\"backgroundcolor\":\"#E5ECF6\",\"gridcolor\":\"white\",\"linecolor\":\"white\",\"showbackground\":true,\"ticks\":\"\",\"zerolinecolor\":\"white\",\"gridwidth\":2},\"yaxis\":{\"backgroundcolor\":\"#E5ECF6\",\"gridcolor\":\"white\",\"linecolor\":\"white\",\"showbackground\":true,\"ticks\":\"\",\"zerolinecolor\":\"white\",\"gridwidth\":2},\"zaxis\":{\"backgroundcolor\":\"#E5ECF6\",\"gridcolor\":\"white\",\"linecolor\":\"white\",\"showbackground\":true,\"ticks\":\"\",\"zerolinecolor\":\"white\",\"gridwidth\":2}},\"shapedefaults\":{\"line\":{\"color\":\"#2a3f5f\"}},\"annotationdefaults\":{\"arrowcolor\":\"#2a3f5f\",\"arrowhead\":0,\"arrowwidth\":1},\"geo\":{\"bgcolor\":\"white\",\"landcolor\":\"#E5ECF6\",\"subunitcolor\":\"white\",\"showland\":true,\"showlakes\":true,\"lakecolor\":\"white\"},\"title\":{\"x\":0.05},\"mapbox\":{\"style\":\"light\"}}},\"xaxis\":{\"anchor\":\"y\",\"domain\":[0.0,0.49],\"title\":{\"text\":\"Quantity per Invoice\"}},\"yaxis\":{\"anchor\":\"x\",\"domain\":[0.0,0.46499999999999997],\"title\":{\"text\":\"count\"}},\"xaxis2\":{\"anchor\":\"y2\",\"domain\":[0.51,1.0],\"matches\":\"x\",\"title\":{\"text\":\"Quantity per Invoice\"}},\"yaxis2\":{\"anchor\":\"x2\",\"domain\":[0.0,0.46499999999999997],\"matches\":\"y\",\"showticklabels\":false},\"xaxis3\":{\"anchor\":\"y3\",\"domain\":[0.0,0.49],\"matches\":\"x\",\"showticklabels\":false},\"yaxis3\":{\"anchor\":\"x3\",\"domain\":[0.5349999999999999,0.9999999999999999],\"matches\":\"y\",\"title\":{\"text\":\"count\"}},\"xaxis4\":{\"anchor\":\"y4\",\"domain\":[0.51,1.0],\"matches\":\"x\",\"showticklabels\":false},\"yaxis4\":{\"anchor\":\"x4\",\"domain\":[0.5349999999999999,0.9999999999999999],\"matches\":\"y\",\"showticklabels\":false},\"annotations\":[{\"font\":{},\"showarrow\":false,\"text\":\"Country=Germany\",\"x\":0.245,\"xanchor\":\"center\",\"xref\":\"paper\",\"y\":0.46499999999999997,\"yanchor\":\"bottom\",\"yref\":\"paper\"},{\"font\":{},\"showarrow\":false,\"text\":\"Country=Netherlands\",\"x\":0.755,\"xanchor\":\"center\",\"xref\":\"paper\",\"y\":0.46499999999999997,\"yanchor\":\"bottom\",\"yref\":\"paper\"},{\"font\":{},\"showarrow\":false,\"text\":\"Country=EIRE\",\"x\":0.245,\"xanchor\":\"center\",\"xref\":\"paper\",\"y\":0.9999999999999999,\"yanchor\":\"bottom\",\"yref\":\"paper\"},{\"font\":{},\"showarrow\":false,\"text\":\"Country=France\",\"x\":0.755,\"xanchor\":\"center\",\"xref\":\"paper\",\"y\":0.9999999999999999,\"yanchor\":\"bottom\",\"yref\":\"paper\"}],\"legend\":{\"tracegroupgap\":0},\"title\":{\"text\":\"Distribution of Total Quantity per Invoice for EIRE, Germany, France, and Netherlands\"},\"barmode\":\"relative\",\"height\":600},                        {\"responsive\": true}                    ).then(function(){\n",
       "                            \n",
       "var gd = document.getElementById('9625e173-d6b0-47cd-882c-6cdcedeb7c8f');\n",
       "var x = new MutationObserver(function (mutations, observer) {{\n",
       "        var display = window.getComputedStyle(gd).display;\n",
       "        if (!display || display === 'none') {{\n",
       "            console.log([gd, 'removed!']);\n",
       "            Plotly.purge(gd);\n",
       "            observer.disconnect();\n",
       "        }}\n",
       "}});\n",
       "\n",
       "// Listen for the removal of the full notebook cells\n",
       "var notebookContainer = gd.closest('#notebook-container');\n",
       "if (notebookContainer) {{\n",
       "    x.observe(notebookContainer, {childList: true});\n",
       "}}\n",
       "\n",
       "// Listen for the clearing of the current output cell\n",
       "var outputEl = gd.closest('.output');\n",
       "if (outputEl) {{\n",
       "    x.observe(outputEl, {childList: true});\n",
       "}}\n",
       "\n",
       "                        })                };            </script>        </div>"
      ]
     },
     "metadata": {},
     "output_type": "display_data"
    }
   ],
   "source": [
    "selected_countries = ['EIRE', 'Germany', 'France', 'Netherlands']\n",
    "data_selected = data[data['Country'].isin(selected_countries)]\n",
    "\n",
    "agg_invoices = data_selected.groupby(['Country', 'InvoiceNo'])['Quantity'].sum().reset_index()\n",
    "agg_invoices.rename(columns={'Quantity': 'TotalQuantity'}, inplace=True)\n",
    "\n",
    "fig = px.histogram(\n",
    "    agg_invoices,\n",
    "    x='TotalQuantity',\n",
    "    facet_col='Country',\n",
    "    facet_col_wrap=2,  \n",
    "    title='Distribution of Total Quantity per Invoice for EIRE, Germany, France, and Netherlands',\n",
    "    labels={'TotalQuantity': 'Quantity per Invoice'},\n",
    "    nbins=50 \n",
    ")\n",
    "\n",
    "fig.update_layout(height=600)  \n",
    "fig.show()\n"
   ]
  },
  {
   "cell_type": "markdown",
   "metadata": {},
   "source": [
    "## 5. Create an interactive side-by-side bar chart showing the revenue by country listed below (bars) for each of the products listed below."
   ]
  },
  {
   "cell_type": "code",
   "execution_count": 11,
   "metadata": {},
   "outputs": [],
   "source": [
    "product_list = ['JUMBO BAG RED RETROSPOT', \n",
    "                'CREAM HANGING HEART T-LIGHT HOLDER',\n",
    "                'REGENCY CAKESTAND 3 TIER']\n",
    "\n",
    "country_list = ['EIRE', 'Germany', 'France', 'Netherlands']"
   ]
  },
  {
   "cell_type": "code",
   "execution_count": 12,
   "metadata": {},
   "outputs": [
    {
     "data": {
      "application/vnd.plotly.v1+json": {
       "config": {
        "plotlyServerURL": "https://plot.ly"
       },
       "data": [
        {
         "alignmentgroup": "True",
         "hovertemplate": "Country=EIRE<br>Description=%{x}<br>Revenue=%{y}<extra></extra>",
         "legendgroup": "EIRE",
         "marker": {
          "color": "#636efa",
          "pattern": {
           "shape": ""
          }
         },
         "name": "EIRE",
         "offsetgroup": "EIRE",
         "orientation": "v",
         "showlegend": true,
         "textposition": "auto",
         "type": "bar",
         "x": [
          "CREAM HANGING HEART T-LIGHT HOLDER",
          "JUMBO BAG RED RETROSPOT",
          "REGENCY CAKESTAND 3 TIER"
         ],
         "xaxis": "x",
         "y": {
          "bdata": "mpmZmZlppUDsUbgehWtxQM3MzMyMqbxA",
          "dtype": "f8"
         },
         "yaxis": "y"
        },
        {
         "alignmentgroup": "True",
         "hovertemplate": "Country=France<br>Description=%{x}<br>Revenue=%{y}<extra></extra>",
         "legendgroup": "France",
         "marker": {
          "color": "#EF553B",
          "pattern": {
           "shape": ""
          }
         },
         "name": "France",
         "offsetgroup": "France",
         "orientation": "v",
         "showlegend": true,
         "textposition": "auto",
         "type": "bar",
         "x": [
          "CREAM HANGING HEART T-LIGHT HOLDER",
          "JUMBO BAG RED RETROSPOT",
          "REGENCY CAKESTAND 3 TIER"
         ],
         "xaxis": "x",
         "y": {
          "bdata": "AAAAAAB4YEApXI/C9TqMQDMzMzOzAaZA",
          "dtype": "f8"
         },
         "yaxis": "y"
        },
        {
         "alignmentgroup": "True",
         "hovertemplate": "Country=Germany<br>Description=%{x}<br>Revenue=%{y}<extra></extra>",
         "legendgroup": "Germany",
         "marker": {
          "color": "#00cc96",
          "pattern": {
           "shape": ""
          }
         },
         "name": "Germany",
         "offsetgroup": "Germany",
         "orientation": "v",
         "showlegend": true,
         "textposition": "auto",
         "type": "bar",
         "x": [
          "CREAM HANGING HEART T-LIGHT HOLDER",
          "JUMBO BAG RED RETROSPOT",
          "REGENCY CAKESTAND 3 TIER"
         ],
         "xaxis": "x",
         "y": {
          "bdata": "NTMzMzOzQUDXo3A9CsOQQJmZmZn5ssFA",
          "dtype": "f8"
         },
         "yaxis": "y"
        },
        {
         "alignmentgroup": "True",
         "hovertemplate": "Country=Netherlands<br>Description=%{x}<br>Revenue=%{y}<extra></extra>",
         "legendgroup": "Netherlands",
         "marker": {
          "color": "#ab63fa",
          "pattern": {
           "shape": ""
          }
         },
         "name": "Netherlands",
         "offsetgroup": "Netherlands",
         "orientation": "v",
         "showlegend": true,
         "textposition": "auto",
         "type": "bar",
         "x": [
          "CREAM HANGING HEART T-LIGHT HOLDER",
          "JUMBO BAG RED RETROSPOT",
          "REGENCY CAKESTAND 3 TIER"
         ],
         "xaxis": "x",
         "y": {
          "bdata": "AAAAAAA8kkAAAAAAABirQDMzMzOzvKhA",
          "dtype": "f8"
         },
         "yaxis": "y"
        }
       ],
       "layout": {
        "barmode": "group",
        "legend": {
         "title": {
          "text": "Country"
         },
         "tracegroupgap": 0
        },
        "template": {
         "data": {
          "bar": [
           {
            "error_x": {
             "color": "#2a3f5f"
            },
            "error_y": {
             "color": "#2a3f5f"
            },
            "marker": {
             "line": {
              "color": "#E5ECF6",
              "width": 0.5
             },
             "pattern": {
              "fillmode": "overlay",
              "size": 10,
              "solidity": 0.2
             }
            },
            "type": "bar"
           }
          ],
          "barpolar": [
           {
            "marker": {
             "line": {
              "color": "#E5ECF6",
              "width": 0.5
             },
             "pattern": {
              "fillmode": "overlay",
              "size": 10,
              "solidity": 0.2
             }
            },
            "type": "barpolar"
           }
          ],
          "carpet": [
           {
            "aaxis": {
             "endlinecolor": "#2a3f5f",
             "gridcolor": "white",
             "linecolor": "white",
             "minorgridcolor": "white",
             "startlinecolor": "#2a3f5f"
            },
            "baxis": {
             "endlinecolor": "#2a3f5f",
             "gridcolor": "white",
             "linecolor": "white",
             "minorgridcolor": "white",
             "startlinecolor": "#2a3f5f"
            },
            "type": "carpet"
           }
          ],
          "choropleth": [
           {
            "colorbar": {
             "outlinewidth": 0,
             "ticks": ""
            },
            "type": "choropleth"
           }
          ],
          "contour": [
           {
            "colorbar": {
             "outlinewidth": 0,
             "ticks": ""
            },
            "colorscale": [
             [
              0,
              "#0d0887"
             ],
             [
              0.1111111111111111,
              "#46039f"
             ],
             [
              0.2222222222222222,
              "#7201a8"
             ],
             [
              0.3333333333333333,
              "#9c179e"
             ],
             [
              0.4444444444444444,
              "#bd3786"
             ],
             [
              0.5555555555555556,
              "#d8576b"
             ],
             [
              0.6666666666666666,
              "#ed7953"
             ],
             [
              0.7777777777777778,
              "#fb9f3a"
             ],
             [
              0.8888888888888888,
              "#fdca26"
             ],
             [
              1,
              "#f0f921"
             ]
            ],
            "type": "contour"
           }
          ],
          "contourcarpet": [
           {
            "colorbar": {
             "outlinewidth": 0,
             "ticks": ""
            },
            "type": "contourcarpet"
           }
          ],
          "heatmap": [
           {
            "colorbar": {
             "outlinewidth": 0,
             "ticks": ""
            },
            "colorscale": [
             [
              0,
              "#0d0887"
             ],
             [
              0.1111111111111111,
              "#46039f"
             ],
             [
              0.2222222222222222,
              "#7201a8"
             ],
             [
              0.3333333333333333,
              "#9c179e"
             ],
             [
              0.4444444444444444,
              "#bd3786"
             ],
             [
              0.5555555555555556,
              "#d8576b"
             ],
             [
              0.6666666666666666,
              "#ed7953"
             ],
             [
              0.7777777777777778,
              "#fb9f3a"
             ],
             [
              0.8888888888888888,
              "#fdca26"
             ],
             [
              1,
              "#f0f921"
             ]
            ],
            "type": "heatmap"
           }
          ],
          "histogram": [
           {
            "marker": {
             "pattern": {
              "fillmode": "overlay",
              "size": 10,
              "solidity": 0.2
             }
            },
            "type": "histogram"
           }
          ],
          "histogram2d": [
           {
            "colorbar": {
             "outlinewidth": 0,
             "ticks": ""
            },
            "colorscale": [
             [
              0,
              "#0d0887"
             ],
             [
              0.1111111111111111,
              "#46039f"
             ],
             [
              0.2222222222222222,
              "#7201a8"
             ],
             [
              0.3333333333333333,
              "#9c179e"
             ],
             [
              0.4444444444444444,
              "#bd3786"
             ],
             [
              0.5555555555555556,
              "#d8576b"
             ],
             [
              0.6666666666666666,
              "#ed7953"
             ],
             [
              0.7777777777777778,
              "#fb9f3a"
             ],
             [
              0.8888888888888888,
              "#fdca26"
             ],
             [
              1,
              "#f0f921"
             ]
            ],
            "type": "histogram2d"
           }
          ],
          "histogram2dcontour": [
           {
            "colorbar": {
             "outlinewidth": 0,
             "ticks": ""
            },
            "colorscale": [
             [
              0,
              "#0d0887"
             ],
             [
              0.1111111111111111,
              "#46039f"
             ],
             [
              0.2222222222222222,
              "#7201a8"
             ],
             [
              0.3333333333333333,
              "#9c179e"
             ],
             [
              0.4444444444444444,
              "#bd3786"
             ],
             [
              0.5555555555555556,
              "#d8576b"
             ],
             [
              0.6666666666666666,
              "#ed7953"
             ],
             [
              0.7777777777777778,
              "#fb9f3a"
             ],
             [
              0.8888888888888888,
              "#fdca26"
             ],
             [
              1,
              "#f0f921"
             ]
            ],
            "type": "histogram2dcontour"
           }
          ],
          "mesh3d": [
           {
            "colorbar": {
             "outlinewidth": 0,
             "ticks": ""
            },
            "type": "mesh3d"
           }
          ],
          "parcoords": [
           {
            "line": {
             "colorbar": {
              "outlinewidth": 0,
              "ticks": ""
             }
            },
            "type": "parcoords"
           }
          ],
          "pie": [
           {
            "automargin": true,
            "type": "pie"
           }
          ],
          "scatter": [
           {
            "fillpattern": {
             "fillmode": "overlay",
             "size": 10,
             "solidity": 0.2
            },
            "type": "scatter"
           }
          ],
          "scatter3d": [
           {
            "line": {
             "colorbar": {
              "outlinewidth": 0,
              "ticks": ""
             }
            },
            "marker": {
             "colorbar": {
              "outlinewidth": 0,
              "ticks": ""
             }
            },
            "type": "scatter3d"
           }
          ],
          "scattercarpet": [
           {
            "marker": {
             "colorbar": {
              "outlinewidth": 0,
              "ticks": ""
             }
            },
            "type": "scattercarpet"
           }
          ],
          "scattergeo": [
           {
            "marker": {
             "colorbar": {
              "outlinewidth": 0,
              "ticks": ""
             }
            },
            "type": "scattergeo"
           }
          ],
          "scattergl": [
           {
            "marker": {
             "colorbar": {
              "outlinewidth": 0,
              "ticks": ""
             }
            },
            "type": "scattergl"
           }
          ],
          "scattermap": [
           {
            "marker": {
             "colorbar": {
              "outlinewidth": 0,
              "ticks": ""
             }
            },
            "type": "scattermap"
           }
          ],
          "scattermapbox": [
           {
            "marker": {
             "colorbar": {
              "outlinewidth": 0,
              "ticks": ""
             }
            },
            "type": "scattermapbox"
           }
          ],
          "scatterpolar": [
           {
            "marker": {
             "colorbar": {
              "outlinewidth": 0,
              "ticks": ""
             }
            },
            "type": "scatterpolar"
           }
          ],
          "scatterpolargl": [
           {
            "marker": {
             "colorbar": {
              "outlinewidth": 0,
              "ticks": ""
             }
            },
            "type": "scatterpolargl"
           }
          ],
          "scatterternary": [
           {
            "marker": {
             "colorbar": {
              "outlinewidth": 0,
              "ticks": ""
             }
            },
            "type": "scatterternary"
           }
          ],
          "surface": [
           {
            "colorbar": {
             "outlinewidth": 0,
             "ticks": ""
            },
            "colorscale": [
             [
              0,
              "#0d0887"
             ],
             [
              0.1111111111111111,
              "#46039f"
             ],
             [
              0.2222222222222222,
              "#7201a8"
             ],
             [
              0.3333333333333333,
              "#9c179e"
             ],
             [
              0.4444444444444444,
              "#bd3786"
             ],
             [
              0.5555555555555556,
              "#d8576b"
             ],
             [
              0.6666666666666666,
              "#ed7953"
             ],
             [
              0.7777777777777778,
              "#fb9f3a"
             ],
             [
              0.8888888888888888,
              "#fdca26"
             ],
             [
              1,
              "#f0f921"
             ]
            ],
            "type": "surface"
           }
          ],
          "table": [
           {
            "cells": {
             "fill": {
              "color": "#EBF0F8"
             },
             "line": {
              "color": "white"
             }
            },
            "header": {
             "fill": {
              "color": "#C8D4E3"
             },
             "line": {
              "color": "white"
             }
            },
            "type": "table"
           }
          ]
         },
         "layout": {
          "annotationdefaults": {
           "arrowcolor": "#2a3f5f",
           "arrowhead": 0,
           "arrowwidth": 1
          },
          "autotypenumbers": "strict",
          "coloraxis": {
           "colorbar": {
            "outlinewidth": 0,
            "ticks": ""
           }
          },
          "colorscale": {
           "diverging": [
            [
             0,
             "#8e0152"
            ],
            [
             0.1,
             "#c51b7d"
            ],
            [
             0.2,
             "#de77ae"
            ],
            [
             0.3,
             "#f1b6da"
            ],
            [
             0.4,
             "#fde0ef"
            ],
            [
             0.5,
             "#f7f7f7"
            ],
            [
             0.6,
             "#e6f5d0"
            ],
            [
             0.7,
             "#b8e186"
            ],
            [
             0.8,
             "#7fbc41"
            ],
            [
             0.9,
             "#4d9221"
            ],
            [
             1,
             "#276419"
            ]
           ],
           "sequential": [
            [
             0,
             "#0d0887"
            ],
            [
             0.1111111111111111,
             "#46039f"
            ],
            [
             0.2222222222222222,
             "#7201a8"
            ],
            [
             0.3333333333333333,
             "#9c179e"
            ],
            [
             0.4444444444444444,
             "#bd3786"
            ],
            [
             0.5555555555555556,
             "#d8576b"
            ],
            [
             0.6666666666666666,
             "#ed7953"
            ],
            [
             0.7777777777777778,
             "#fb9f3a"
            ],
            [
             0.8888888888888888,
             "#fdca26"
            ],
            [
             1,
             "#f0f921"
            ]
           ],
           "sequentialminus": [
            [
             0,
             "#0d0887"
            ],
            [
             0.1111111111111111,
             "#46039f"
            ],
            [
             0.2222222222222222,
             "#7201a8"
            ],
            [
             0.3333333333333333,
             "#9c179e"
            ],
            [
             0.4444444444444444,
             "#bd3786"
            ],
            [
             0.5555555555555556,
             "#d8576b"
            ],
            [
             0.6666666666666666,
             "#ed7953"
            ],
            [
             0.7777777777777778,
             "#fb9f3a"
            ],
            [
             0.8888888888888888,
             "#fdca26"
            ],
            [
             1,
             "#f0f921"
            ]
           ]
          },
          "colorway": [
           "#636efa",
           "#EF553B",
           "#00cc96",
           "#ab63fa",
           "#FFA15A",
           "#19d3f3",
           "#FF6692",
           "#B6E880",
           "#FF97FF",
           "#FECB52"
          ],
          "font": {
           "color": "#2a3f5f"
          },
          "geo": {
           "bgcolor": "white",
           "lakecolor": "white",
           "landcolor": "#E5ECF6",
           "showlakes": true,
           "showland": true,
           "subunitcolor": "white"
          },
          "hoverlabel": {
           "align": "left"
          },
          "hovermode": "closest",
          "mapbox": {
           "style": "light"
          },
          "paper_bgcolor": "white",
          "plot_bgcolor": "#E5ECF6",
          "polar": {
           "angularaxis": {
            "gridcolor": "white",
            "linecolor": "white",
            "ticks": ""
           },
           "bgcolor": "#E5ECF6",
           "radialaxis": {
            "gridcolor": "white",
            "linecolor": "white",
            "ticks": ""
           }
          },
          "scene": {
           "xaxis": {
            "backgroundcolor": "#E5ECF6",
            "gridcolor": "white",
            "gridwidth": 2,
            "linecolor": "white",
            "showbackground": true,
            "ticks": "",
            "zerolinecolor": "white"
           },
           "yaxis": {
            "backgroundcolor": "#E5ECF6",
            "gridcolor": "white",
            "gridwidth": 2,
            "linecolor": "white",
            "showbackground": true,
            "ticks": "",
            "zerolinecolor": "white"
           },
           "zaxis": {
            "backgroundcolor": "#E5ECF6",
            "gridcolor": "white",
            "gridwidth": 2,
            "linecolor": "white",
            "showbackground": true,
            "ticks": "",
            "zerolinecolor": "white"
           }
          },
          "shapedefaults": {
           "line": {
            "color": "#2a3f5f"
           }
          },
          "ternary": {
           "aaxis": {
            "gridcolor": "white",
            "linecolor": "white",
            "ticks": ""
           },
           "baxis": {
            "gridcolor": "white",
            "linecolor": "white",
            "ticks": ""
           },
           "bgcolor": "#E5ECF6",
           "caxis": {
            "gridcolor": "white",
            "linecolor": "white",
            "ticks": ""
           }
          },
          "title": {
           "x": 0.05
          },
          "xaxis": {
           "automargin": true,
           "gridcolor": "white",
           "linecolor": "white",
           "ticks": "",
           "title": {
            "standoff": 15
           },
           "zerolinecolor": "white",
           "zerolinewidth": 2
          },
          "yaxis": {
           "automargin": true,
           "gridcolor": "white",
           "linecolor": "white",
           "ticks": "",
           "title": {
            "standoff": 15
           },
           "zerolinecolor": "white",
           "zerolinewidth": 2
          }
         }
        },
        "title": {
         "text": "Revenue by Country for Selected Products"
        },
        "xaxis": {
         "anchor": "y",
         "domain": [
          0,
          1
         ],
         "title": {
          "text": "Description"
         }
        },
        "yaxis": {
         "anchor": "x",
         "domain": [
          0,
          1
         ],
         "title": {
          "text": "Revenue"
         }
        }
       }
      },
      "text/html": [
       "<div>            <script src=\"https://cdnjs.cloudflare.com/ajax/libs/mathjax/2.7.5/MathJax.js?config=TeX-AMS-MML_SVG\"></script><script type=\"text/javascript\">if (window.MathJax && window.MathJax.Hub && window.MathJax.Hub.Config) {window.MathJax.Hub.Config({SVG: {font: \"STIX-Web\"}});}</script>                <script type=\"text/javascript\">window.PlotlyConfig = {MathJaxConfig: 'local'};</script>\n",
       "        <script charset=\"utf-8\" src=\"https://cdn.plot.ly/plotly-3.0.1.min.js\"></script>                <div id=\"4732bf35-4008-492a-ac37-609205a4bc74\" class=\"plotly-graph-div\" style=\"height:525px; width:100%;\"></div>            <script type=\"text/javascript\">                window.PLOTLYENV=window.PLOTLYENV || {};                                if (document.getElementById(\"4732bf35-4008-492a-ac37-609205a4bc74\")) {                    Plotly.newPlot(                        \"4732bf35-4008-492a-ac37-609205a4bc74\",                        [{\"alignmentgroup\":\"True\",\"hovertemplate\":\"Country=EIRE\\u003cbr\\u003eDescription=%{x}\\u003cbr\\u003eRevenue=%{y}\\u003cextra\\u003e\\u003c\\u002fextra\\u003e\",\"legendgroup\":\"EIRE\",\"marker\":{\"color\":\"#636efa\",\"pattern\":{\"shape\":\"\"}},\"name\":\"EIRE\",\"offsetgroup\":\"EIRE\",\"orientation\":\"v\",\"showlegend\":true,\"textposition\":\"auto\",\"x\":[\"CREAM HANGING HEART T-LIGHT HOLDER\",\"JUMBO BAG RED RETROSPOT\",\"REGENCY CAKESTAND 3 TIER\"],\"xaxis\":\"x\",\"y\":{\"dtype\":\"f8\",\"bdata\":\"mpmZmZlppUDsUbgehWtxQM3MzMyMqbxA\"},\"yaxis\":\"y\",\"type\":\"bar\"},{\"alignmentgroup\":\"True\",\"hovertemplate\":\"Country=France\\u003cbr\\u003eDescription=%{x}\\u003cbr\\u003eRevenue=%{y}\\u003cextra\\u003e\\u003c\\u002fextra\\u003e\",\"legendgroup\":\"France\",\"marker\":{\"color\":\"#EF553B\",\"pattern\":{\"shape\":\"\"}},\"name\":\"France\",\"offsetgroup\":\"France\",\"orientation\":\"v\",\"showlegend\":true,\"textposition\":\"auto\",\"x\":[\"CREAM HANGING HEART T-LIGHT HOLDER\",\"JUMBO BAG RED RETROSPOT\",\"REGENCY CAKESTAND 3 TIER\"],\"xaxis\":\"x\",\"y\":{\"dtype\":\"f8\",\"bdata\":\"AAAAAAB4YEApXI\\u002fC9TqMQDMzMzOzAaZA\"},\"yaxis\":\"y\",\"type\":\"bar\"},{\"alignmentgroup\":\"True\",\"hovertemplate\":\"Country=Germany\\u003cbr\\u003eDescription=%{x}\\u003cbr\\u003eRevenue=%{y}\\u003cextra\\u003e\\u003c\\u002fextra\\u003e\",\"legendgroup\":\"Germany\",\"marker\":{\"color\":\"#00cc96\",\"pattern\":{\"shape\":\"\"}},\"name\":\"Germany\",\"offsetgroup\":\"Germany\",\"orientation\":\"v\",\"showlegend\":true,\"textposition\":\"auto\",\"x\":[\"CREAM HANGING HEART T-LIGHT HOLDER\",\"JUMBO BAG RED RETROSPOT\",\"REGENCY CAKESTAND 3 TIER\"],\"xaxis\":\"x\",\"y\":{\"dtype\":\"f8\",\"bdata\":\"NTMzMzOzQUDXo3A9CsOQQJmZmZn5ssFA\"},\"yaxis\":\"y\",\"type\":\"bar\"},{\"alignmentgroup\":\"True\",\"hovertemplate\":\"Country=Netherlands\\u003cbr\\u003eDescription=%{x}\\u003cbr\\u003eRevenue=%{y}\\u003cextra\\u003e\\u003c\\u002fextra\\u003e\",\"legendgroup\":\"Netherlands\",\"marker\":{\"color\":\"#ab63fa\",\"pattern\":{\"shape\":\"\"}},\"name\":\"Netherlands\",\"offsetgroup\":\"Netherlands\",\"orientation\":\"v\",\"showlegend\":true,\"textposition\":\"auto\",\"x\":[\"CREAM HANGING HEART T-LIGHT HOLDER\",\"JUMBO BAG RED RETROSPOT\",\"REGENCY CAKESTAND 3 TIER\"],\"xaxis\":\"x\",\"y\":{\"dtype\":\"f8\",\"bdata\":\"AAAAAAA8kkAAAAAAABirQDMzMzOzvKhA\"},\"yaxis\":\"y\",\"type\":\"bar\"}],                        {\"template\":{\"data\":{\"histogram2dcontour\":[{\"type\":\"histogram2dcontour\",\"colorbar\":{\"outlinewidth\":0,\"ticks\":\"\"},\"colorscale\":[[0.0,\"#0d0887\"],[0.1111111111111111,\"#46039f\"],[0.2222222222222222,\"#7201a8\"],[0.3333333333333333,\"#9c179e\"],[0.4444444444444444,\"#bd3786\"],[0.5555555555555556,\"#d8576b\"],[0.6666666666666666,\"#ed7953\"],[0.7777777777777778,\"#fb9f3a\"],[0.8888888888888888,\"#fdca26\"],[1.0,\"#f0f921\"]]}],\"choropleth\":[{\"type\":\"choropleth\",\"colorbar\":{\"outlinewidth\":0,\"ticks\":\"\"}}],\"histogram2d\":[{\"type\":\"histogram2d\",\"colorbar\":{\"outlinewidth\":0,\"ticks\":\"\"},\"colorscale\":[[0.0,\"#0d0887\"],[0.1111111111111111,\"#46039f\"],[0.2222222222222222,\"#7201a8\"],[0.3333333333333333,\"#9c179e\"],[0.4444444444444444,\"#bd3786\"],[0.5555555555555556,\"#d8576b\"],[0.6666666666666666,\"#ed7953\"],[0.7777777777777778,\"#fb9f3a\"],[0.8888888888888888,\"#fdca26\"],[1.0,\"#f0f921\"]]}],\"heatmap\":[{\"type\":\"heatmap\",\"colorbar\":{\"outlinewidth\":0,\"ticks\":\"\"},\"colorscale\":[[0.0,\"#0d0887\"],[0.1111111111111111,\"#46039f\"],[0.2222222222222222,\"#7201a8\"],[0.3333333333333333,\"#9c179e\"],[0.4444444444444444,\"#bd3786\"],[0.5555555555555556,\"#d8576b\"],[0.6666666666666666,\"#ed7953\"],[0.7777777777777778,\"#fb9f3a\"],[0.8888888888888888,\"#fdca26\"],[1.0,\"#f0f921\"]]}],\"contourcarpet\":[{\"type\":\"contourcarpet\",\"colorbar\":{\"outlinewidth\":0,\"ticks\":\"\"}}],\"contour\":[{\"type\":\"contour\",\"colorbar\":{\"outlinewidth\":0,\"ticks\":\"\"},\"colorscale\":[[0.0,\"#0d0887\"],[0.1111111111111111,\"#46039f\"],[0.2222222222222222,\"#7201a8\"],[0.3333333333333333,\"#9c179e\"],[0.4444444444444444,\"#bd3786\"],[0.5555555555555556,\"#d8576b\"],[0.6666666666666666,\"#ed7953\"],[0.7777777777777778,\"#fb9f3a\"],[0.8888888888888888,\"#fdca26\"],[1.0,\"#f0f921\"]]}],\"surface\":[{\"type\":\"surface\",\"colorbar\":{\"outlinewidth\":0,\"ticks\":\"\"},\"colorscale\":[[0.0,\"#0d0887\"],[0.1111111111111111,\"#46039f\"],[0.2222222222222222,\"#7201a8\"],[0.3333333333333333,\"#9c179e\"],[0.4444444444444444,\"#bd3786\"],[0.5555555555555556,\"#d8576b\"],[0.6666666666666666,\"#ed7953\"],[0.7777777777777778,\"#fb9f3a\"],[0.8888888888888888,\"#fdca26\"],[1.0,\"#f0f921\"]]}],\"mesh3d\":[{\"type\":\"mesh3d\",\"colorbar\":{\"outlinewidth\":0,\"ticks\":\"\"}}],\"scatter\":[{\"fillpattern\":{\"fillmode\":\"overlay\",\"size\":10,\"solidity\":0.2},\"type\":\"scatter\"}],\"parcoords\":[{\"type\":\"parcoords\",\"line\":{\"colorbar\":{\"outlinewidth\":0,\"ticks\":\"\"}}}],\"scatterpolargl\":[{\"type\":\"scatterpolargl\",\"marker\":{\"colorbar\":{\"outlinewidth\":0,\"ticks\":\"\"}}}],\"bar\":[{\"error_x\":{\"color\":\"#2a3f5f\"},\"error_y\":{\"color\":\"#2a3f5f\"},\"marker\":{\"line\":{\"color\":\"#E5ECF6\",\"width\":0.5},\"pattern\":{\"fillmode\":\"overlay\",\"size\":10,\"solidity\":0.2}},\"type\":\"bar\"}],\"scattergeo\":[{\"type\":\"scattergeo\",\"marker\":{\"colorbar\":{\"outlinewidth\":0,\"ticks\":\"\"}}}],\"scatterpolar\":[{\"type\":\"scatterpolar\",\"marker\":{\"colorbar\":{\"outlinewidth\":0,\"ticks\":\"\"}}}],\"histogram\":[{\"marker\":{\"pattern\":{\"fillmode\":\"overlay\",\"size\":10,\"solidity\":0.2}},\"type\":\"histogram\"}],\"scattergl\":[{\"type\":\"scattergl\",\"marker\":{\"colorbar\":{\"outlinewidth\":0,\"ticks\":\"\"}}}],\"scatter3d\":[{\"type\":\"scatter3d\",\"line\":{\"colorbar\":{\"outlinewidth\":0,\"ticks\":\"\"}},\"marker\":{\"colorbar\":{\"outlinewidth\":0,\"ticks\":\"\"}}}],\"scattermap\":[{\"type\":\"scattermap\",\"marker\":{\"colorbar\":{\"outlinewidth\":0,\"ticks\":\"\"}}}],\"scattermapbox\":[{\"type\":\"scattermapbox\",\"marker\":{\"colorbar\":{\"outlinewidth\":0,\"ticks\":\"\"}}}],\"scatterternary\":[{\"type\":\"scatterternary\",\"marker\":{\"colorbar\":{\"outlinewidth\":0,\"ticks\":\"\"}}}],\"scattercarpet\":[{\"type\":\"scattercarpet\",\"marker\":{\"colorbar\":{\"outlinewidth\":0,\"ticks\":\"\"}}}],\"carpet\":[{\"aaxis\":{\"endlinecolor\":\"#2a3f5f\",\"gridcolor\":\"white\",\"linecolor\":\"white\",\"minorgridcolor\":\"white\",\"startlinecolor\":\"#2a3f5f\"},\"baxis\":{\"endlinecolor\":\"#2a3f5f\",\"gridcolor\":\"white\",\"linecolor\":\"white\",\"minorgridcolor\":\"white\",\"startlinecolor\":\"#2a3f5f\"},\"type\":\"carpet\"}],\"table\":[{\"cells\":{\"fill\":{\"color\":\"#EBF0F8\"},\"line\":{\"color\":\"white\"}},\"header\":{\"fill\":{\"color\":\"#C8D4E3\"},\"line\":{\"color\":\"white\"}},\"type\":\"table\"}],\"barpolar\":[{\"marker\":{\"line\":{\"color\":\"#E5ECF6\",\"width\":0.5},\"pattern\":{\"fillmode\":\"overlay\",\"size\":10,\"solidity\":0.2}},\"type\":\"barpolar\"}],\"pie\":[{\"automargin\":true,\"type\":\"pie\"}]},\"layout\":{\"autotypenumbers\":\"strict\",\"colorway\":[\"#636efa\",\"#EF553B\",\"#00cc96\",\"#ab63fa\",\"#FFA15A\",\"#19d3f3\",\"#FF6692\",\"#B6E880\",\"#FF97FF\",\"#FECB52\"],\"font\":{\"color\":\"#2a3f5f\"},\"hovermode\":\"closest\",\"hoverlabel\":{\"align\":\"left\"},\"paper_bgcolor\":\"white\",\"plot_bgcolor\":\"#E5ECF6\",\"polar\":{\"bgcolor\":\"#E5ECF6\",\"angularaxis\":{\"gridcolor\":\"white\",\"linecolor\":\"white\",\"ticks\":\"\"},\"radialaxis\":{\"gridcolor\":\"white\",\"linecolor\":\"white\",\"ticks\":\"\"}},\"ternary\":{\"bgcolor\":\"#E5ECF6\",\"aaxis\":{\"gridcolor\":\"white\",\"linecolor\":\"white\",\"ticks\":\"\"},\"baxis\":{\"gridcolor\":\"white\",\"linecolor\":\"white\",\"ticks\":\"\"},\"caxis\":{\"gridcolor\":\"white\",\"linecolor\":\"white\",\"ticks\":\"\"}},\"coloraxis\":{\"colorbar\":{\"outlinewidth\":0,\"ticks\":\"\"}},\"colorscale\":{\"sequential\":[[0.0,\"#0d0887\"],[0.1111111111111111,\"#46039f\"],[0.2222222222222222,\"#7201a8\"],[0.3333333333333333,\"#9c179e\"],[0.4444444444444444,\"#bd3786\"],[0.5555555555555556,\"#d8576b\"],[0.6666666666666666,\"#ed7953\"],[0.7777777777777778,\"#fb9f3a\"],[0.8888888888888888,\"#fdca26\"],[1.0,\"#f0f921\"]],\"sequentialminus\":[[0.0,\"#0d0887\"],[0.1111111111111111,\"#46039f\"],[0.2222222222222222,\"#7201a8\"],[0.3333333333333333,\"#9c179e\"],[0.4444444444444444,\"#bd3786\"],[0.5555555555555556,\"#d8576b\"],[0.6666666666666666,\"#ed7953\"],[0.7777777777777778,\"#fb9f3a\"],[0.8888888888888888,\"#fdca26\"],[1.0,\"#f0f921\"]],\"diverging\":[[0,\"#8e0152\"],[0.1,\"#c51b7d\"],[0.2,\"#de77ae\"],[0.3,\"#f1b6da\"],[0.4,\"#fde0ef\"],[0.5,\"#f7f7f7\"],[0.6,\"#e6f5d0\"],[0.7,\"#b8e186\"],[0.8,\"#7fbc41\"],[0.9,\"#4d9221\"],[1,\"#276419\"]]},\"xaxis\":{\"gridcolor\":\"white\",\"linecolor\":\"white\",\"ticks\":\"\",\"title\":{\"standoff\":15},\"zerolinecolor\":\"white\",\"automargin\":true,\"zerolinewidth\":2},\"yaxis\":{\"gridcolor\":\"white\",\"linecolor\":\"white\",\"ticks\":\"\",\"title\":{\"standoff\":15},\"zerolinecolor\":\"white\",\"automargin\":true,\"zerolinewidth\":2},\"scene\":{\"xaxis\":{\"backgroundcolor\":\"#E5ECF6\",\"gridcolor\":\"white\",\"linecolor\":\"white\",\"showbackground\":true,\"ticks\":\"\",\"zerolinecolor\":\"white\",\"gridwidth\":2},\"yaxis\":{\"backgroundcolor\":\"#E5ECF6\",\"gridcolor\":\"white\",\"linecolor\":\"white\",\"showbackground\":true,\"ticks\":\"\",\"zerolinecolor\":\"white\",\"gridwidth\":2},\"zaxis\":{\"backgroundcolor\":\"#E5ECF6\",\"gridcolor\":\"white\",\"linecolor\":\"white\",\"showbackground\":true,\"ticks\":\"\",\"zerolinecolor\":\"white\",\"gridwidth\":2}},\"shapedefaults\":{\"line\":{\"color\":\"#2a3f5f\"}},\"annotationdefaults\":{\"arrowcolor\":\"#2a3f5f\",\"arrowhead\":0,\"arrowwidth\":1},\"geo\":{\"bgcolor\":\"white\",\"landcolor\":\"#E5ECF6\",\"subunitcolor\":\"white\",\"showland\":true,\"showlakes\":true,\"lakecolor\":\"white\"},\"title\":{\"x\":0.05},\"mapbox\":{\"style\":\"light\"}}},\"xaxis\":{\"anchor\":\"y\",\"domain\":[0.0,1.0],\"title\":{\"text\":\"Description\"}},\"yaxis\":{\"anchor\":\"x\",\"domain\":[0.0,1.0],\"title\":{\"text\":\"Revenue\"}},\"legend\":{\"title\":{\"text\":\"Country\"},\"tracegroupgap\":0},\"title\":{\"text\":\"Revenue by Country for Selected Products\"},\"barmode\":\"group\"},                        {\"responsive\": true}                    ).then(function(){\n",
       "                            \n",
       "var gd = document.getElementById('4732bf35-4008-492a-ac37-609205a4bc74');\n",
       "var x = new MutationObserver(function (mutations, observer) {{\n",
       "        var display = window.getComputedStyle(gd).display;\n",
       "        if (!display || display === 'none') {{\n",
       "            console.log([gd, 'removed!']);\n",
       "            Plotly.purge(gd);\n",
       "            observer.disconnect();\n",
       "        }}\n",
       "}});\n",
       "\n",
       "// Listen for the removal of the full notebook cells\n",
       "var notebookContainer = gd.closest('#notebook-container');\n",
       "if (notebookContainer) {{\n",
       "    x.observe(notebookContainer, {childList: true});\n",
       "}}\n",
       "\n",
       "// Listen for the clearing of the current output cell\n",
       "var outputEl = gd.closest('.output');\n",
       "if (outputEl) {{\n",
       "    x.observe(outputEl, {childList: true});\n",
       "}}\n",
       "\n",
       "                        })                };            </script>        </div>"
      ]
     },
     "metadata": {},
     "output_type": "display_data"
    }
   ],
   "source": [
    "product_list = ['JUMBO BAG RED RETROSPOT', \n",
    "                'CREAM HANGING HEART T-LIGHT HOLDER',\n",
    "                'REGENCY CAKESTAND 3 TIER']\n",
    "\n",
    "country_list = ['EIRE', 'Germany', 'France', 'Netherlands']\n",
    "\n",
    "data_filtered = data[\n",
    "    data['Description'].isin(product_list) &\n",
    "    data['Country'].isin(country_list)\n",
    "]\n",
    "agg_data = data_filtered.groupby(['Description', 'Country'])['Revenue'].sum().reset_index()\n",
    "\n",
    "fig = px.bar(\n",
    "    agg_data,\n",
    "    x='Description',     \n",
    "    y='Revenue',       \n",
    "    color='Country',    \n",
    "    barmode='group',     \n",
    "    title='Revenue by Country for Selected Products'\n",
    ")\n",
    "\n",
    "fig.show()"
   ]
  },
  {
   "cell_type": "markdown",
   "metadata": {},
   "source": [
    "## 6. Create an interactive line chart showing quantity sold by day for the United Kingdom. Add drop-down boxes for Year and Month that allow you to filter the date range that appears in the chart."
   ]
  },
  {
   "cell_type": "code",
   "execution_count": 13,
   "metadata": {},
   "outputs": [],
   "source": [
    "data['Year'] = pd.DatetimeIndex(data['InvoiceDate']).year\n",
    "data['Month'] = pd.DatetimeIndex(data['InvoiceDate']).month\n",
    "data['Day'] = pd.DatetimeIndex(data['InvoiceDate']).day\n",
    "uk = data[data['Country']=='United Kingdom']"
   ]
  },
  {
   "cell_type": "code",
   "execution_count": 14,
   "metadata": {},
   "outputs": [
    {
     "data": {
      "text/html": [
       "\n",
       "        <iframe\n",
       "            width=\"100%\"\n",
       "            height=\"650\"\n",
       "            src=\"http://127.0.0.1:8050/\"\n",
       "            frameborder=\"0\"\n",
       "            allowfullscreen\n",
       "            \n",
       "        ></iframe>\n",
       "        "
      ],
      "text/plain": [
       "<IPython.lib.display.IFrame at 0x15c2e0460>"
      ]
     },
     "metadata": {},
     "output_type": "display_data"
    }
   ],
   "source": [
    "uk = data[data['Country'] == 'United Kingdom']\n",
    "\n",
    "# Initialize Dash app\n",
    "app = dash.Dash(__name__)\n",
    "\n",
    "# Layout\n",
    "app.layout = html.Div([\n",
    "    html.H1(\"UK Sales: Quantity Sold by Day\"),\n",
    "\n",
    "    html.Label(\"Select Year:\"),\n",
    "    dcc.Dropdown(\n",
    "        id='year-dropdown',\n",
    "        options=[{'label': str(y), 'value': y} for y in sorted(uk['Year'].unique())],\n",
    "        value=uk['Year'].min()\n",
    "    ),\n",
    "\n",
    "    html.Label(\"Select Month:\"),\n",
    "    dcc.Dropdown(id='month-dropdown'),\n",
    "\n",
    "    dcc.Graph(id='line-chart')\n",
    "])\n",
    "\n",
    "# Update month dropdown based on selected year\n",
    "@app.callback(\n",
    "    Output('month-dropdown', 'options'),\n",
    "    Output('month-dropdown', 'value'),\n",
    "    Input('year-dropdown', 'value')\n",
    ")\n",
    "def update_month_options(selected_year):\n",
    "    months = uk[uk['Year'] == selected_year]['Month'].unique()\n",
    "    options = [{'label': f'{m:02d}', 'value': m} for m in sorted(months)]\n",
    "    return options, options[0]['value'] if options else None\n",
    "\n",
    "# Update line chart based on year and month\n",
    "@app.callback(\n",
    "    Output('line-chart', 'figure'),\n",
    "    Input('year-dropdown', 'value'),\n",
    "    Input('month-dropdown', 'value')\n",
    ")\n",
    "def update_chart(year, month):\n",
    "    filtered = uk[(uk['Year'] == year) & (uk['Month'] == month)]\n",
    "    filtered['Date'] = pd.to_datetime(filtered[['Year', 'Month', 'Day']])\n",
    "    df_grouped = filtered.groupby('Date')['Quantity'].sum().reset_index()\n",
    "\n",
    "    fig = px.line(df_grouped, x='Date', y='Quantity',\n",
    "                  title=f'Quantity Sold in {year}-{month:02d}')\n",
    "    return fig\n",
    "\n",
    "# Run the app\n",
    "if __name__ == '__main__':\n",
    "    app.run(debug=True)"
   ]
  },
  {
   "cell_type": "markdown",
   "metadata": {},
   "source": [
    "## 7. Create an interactive scatter plot that plots number of invoices (x-axis) vs. number of customers (y-axis) and the plot points represent individual products. Add two sliders that control the x and y axis ranges."
   ]
  },
  {
   "cell_type": "code",
   "execution_count": 15,
   "metadata": {},
   "outputs": [],
   "source": [
    "agg_func = {'InvoiceNo':'nunique',\n",
    "            'Quantity':'sum',\n",
    "            'UnitPrice':'mean',\n",
    "            'Revenue':'sum',\n",
    "            'CustomerID':'nunique'}\n",
    "\n",
    "products = uk.groupby('Description').agg(agg_func).reset_index()"
   ]
  },
  {
   "cell_type": "code",
   "execution_count": null,
   "metadata": {},
   "outputs": [
    {
     "data": {
      "text/html": [
       "\n",
       "        <iframe\n",
       "            width=\"100%\"\n",
       "            height=\"650\"\n",
       "            src=\"http://127.0.0.1:8050/\"\n",
       "            frameborder=\"0\"\n",
       "            allowfullscreen\n",
       "            \n",
       "        ></iframe>\n",
       "        "
      ],
      "text/plain": [
       "<IPython.lib.display.IFrame at 0x15ef5de80>"
      ]
     },
     "metadata": {},
     "output_type": "display_data"
    }
   ],
   "source": [
    "app = dash.Dash(__name__)\n",
    "app.title = \"Product Analysis\"\n",
    "\n",
    "# Макет приложения\n",
    "app.layout = html.Div([\n",
    "    html.H1(\"Invoices vs Customers per Product\"),\n",
    "    \n",
    "    dcc.Graph(id='scatter-plot'),\n",
    "    \n",
    "    html.Label(\"InvoiceNo Range:\"),\n",
    "    dcc.RangeSlider(\n",
    "        id='x-slider',\n",
    "        min=products['InvoiceNo'].min(),\n",
    "        max=products['InvoiceNo'].max(),\n",
    "        value=[products['InvoiceNo'].min(), products['InvoiceNo'].max()],\n",
    "        marks=None,\n",
    "        tooltip={\"placement\": \"bottom\", \"always_visible\": True}\n",
    "    ),\n",
    "    \n",
    "    html.Label(\"CustomerID Range:\"),\n",
    "    dcc.RangeSlider(\n",
    "        id='y-slider',\n",
    "        min=products['CustomerID'].min(),\n",
    "        max=products['CustomerID'].max(),\n",
    "        value=[products['CustomerID'].min(), products['CustomerID'].max()],\n",
    "        marks=None,\n",
    "        tooltip={\"placement\": \"bottom\", \"always_visible\": True}\n",
    "    ),\n",
    "])\n",
    "\n",
    "# Колбэк для обновления графика\n",
    "@app.callback(\n",
    "    Output('scatter-plot', 'figure'),\n",
    "    Input('x-slider', 'value'),\n",
    "    Input('y-slider', 'value')\n",
    ")\n",
    "def update_plot(x_range, y_range):\n",
    "    filtered = products[\n",
    "        (products['InvoiceNo'] >= x_range[0]) & (products['InvoiceNo'] <= x_range[1]) &\n",
    "        (products['CustomerID'] >= y_range[0]) & (products['CustomerID'] <= y_range[1])\n",
    "    ]\n",
    "    \n",
    "    fig = px.scatter(\n",
    "        filtered,\n",
    "        x='InvoiceNo',\n",
    "        y='CustomerID',\n",
    "        hover_name='Description',\n",
    "        title='Products: Number of Invoices vs Number of Customers'\n",
    "    )\n",
    "    \n",
    "    fig.update_traces(marker=dict(size=10, color='royalblue'))\n",
    "    fig.update_layout(height=600)\n",
    "    \n",
    "    return fig\n",
    "\n",
    "# Запуск\n",
    "if __name__ == '__main__':\n",
    "    app.run(debug=True)"
   ]
  },
  {
   "cell_type": "markdown",
   "metadata": {},
   "source": [
    "## 8. Creat an interactive bar chart that shows revenue by product description. Add a text field widget that filters the results to show the product that contain the text entered in their description."
   ]
  },
  {
   "cell_type": "code",
   "execution_count": 19,
   "metadata": {},
   "outputs": [
    {
     "data": {
      "application/vnd.plotly.v1+json": {
       "config": {
        "plotlyServerURL": "https://plot.ly"
       },
       "data": [
        {
         "hovertemplate": "Product Description=%{x}<br>Revenue=%{y}<extra></extra>",
         "legendgroup": "",
         "marker": {
          "color": "#636efa",
          "pattern": {
           "shape": ""
          }
         },
         "name": "",
         "orientation": "v",
         "showlegend": false,
         "textposition": "auto",
         "type": "bar",
         "x": [
          " 4 PURPLE FLOCK DINNER CANDLES",
          " 50'S CHRISTMAS GIFT BAG LARGE",
          " DOLLY GIRL BEAKER",
          " I LOVE LONDON MINI BACKPACK",
          " NINE DRAWER OFFICE TIDY",
          " OVAL WALL MIRROR DIAMANTE ",
          " RED SPOT GIFT BAG LARGE",
          " SET 2 TEA TOWELS I LOVE LONDON ",
          " SPACEBOY BABY GIFT SET",
          " TOADSTOOL BEDSIDE LIGHT ",
          " TRELLIS COAT RACK",
          "10 COLOUR SPACEBOY PEN",
          "12 COLOURED PARTY BALLOONS",
          "12 DAISY PEGS IN WOOD BOX",
          "12 EGG HOUSE PAINTED WOOD",
          "12 HANGING EGGS HAND PAINTED",
          "12 IVORY ROSE PEG PLACE SETTINGS",
          "12 MESSAGE CARDS WITH ENVELOPES",
          "12 PENCIL SMALL TUBE WOODLAND",
          "12 PENCILS SMALL TUBE RED RETROSPOT",
          "12 PENCILS SMALL TUBE SKULL",
          "12 PENCILS TALL TUBE POSY",
          "12 PENCILS TALL TUBE RED RETROSPOT",
          "12 PENCILS TALL TUBE SKULLS",
          "12 PENCILS TALL TUBE WOODLAND",
          "12 PINK HEN+CHICKS IN BASKET",
          "12 PINK ROSE PEG PLACE SETTINGS",
          "12 RED ROSE PEG PLACE SETTINGS",
          "15 PINK FLUFFY CHICKS IN BOX",
          "15CM CHRISTMAS GLASS BALL 20 LIGHTS",
          "16 PC CUTLERY SET PANTRY DESIGN",
          "18PC WOODEN CUTLERY SET DISPOSABLE",
          "2 DAISIES HAIR COMB",
          "2 PICTURE BOOK EGGS EASTER BUNNY",
          "2 PICTURE BOOK EGGS EASTER CHICKS",
          "2 PICTURE BOOK EGGS EASTER DUCKS",
          "20 DOLLY PEGS RETROSPOT",
          "200 BENDY SKULL STRAWS",
          "200 RED + WHITE BENDY STRAWS",
          "3 BIRDS CANVAS SCREEN",
          "3 BLACK CATS W HEARTS BLANK CARD",
          "3 DRAWER ANTIQUE WHITE WOOD CABINET",
          "3 GARDENIA MORRIS BOXED CANDLES",
          "3 HEARTS HANGING DECORATION RUSTIC",
          "3 HOOK HANGER MAGIC GARDEN",
          "3 HOOK PHOTO SHELF ANTIQUE WHITE",
          "3 PIECE SPACEBOY COOKIE CUTTER SET",
          "3 PINK HEN+CHICKS IN BASKET",
          "3 RAFFIA RIBBONS 50'S CHRISTMAS ",
          "3 RAFFIA RIBBONS VINTAGE CHRISTMAS",
          "3 ROSE MORRIS BOXED CANDLES",
          "3 STRIPEY MICE FELTCRAFT",
          "3 TIER CAKE TIN GREEN AND CREAM",
          "3 TIER CAKE TIN RED AND CREAM",
          "3 TIER SWEETHEART GARDEN SHELF",
          "3 TRADITIONAL COOKIE CUTTERS  SET",
          "3 WHITE CHOC MORRIS BOXED CANDLES",
          "3 WICK CHRISTMAS BRIAR CANDLE ",
          "36 DOILIES DOLLY GIRL",
          "36 DOILIES VINTAGE CHRISTMAS",
          "36 FOIL HEART CAKE CASES",
          "36 FOIL STAR CAKE CASES ",
          "36 PENCILS TUBE POSY",
          "36 PENCILS TUBE RED RETROSPOT",
          "36 PENCILS TUBE SKULLS",
          "36 PENCILS TUBE WOODLAND",
          "3D CHRISTMAS STAMPS STICKERS ",
          "3D DOG PICTURE PLAYING CARDS",
          "3D HEARTS  HONEYCOMB PAPER GARLAND",
          "3D SHEET OF CAT STICKERS",
          "3D SHEET OF DOG STICKERS",
          "3D TRADITIONAL CHRISTMAS STICKERS",
          "3D VINTAGE CHRISTMAS STICKERS ",
          "4 BLUE DINNER CANDLES SILVER FLOCK",
          "4 BURGUNDY WINE DINNER CANDLES",
          "4 IVORY DINNER CANDLES SILVER FLOCK",
          "4 LAVENDER BOTANICAL DINNER CANDLES",
          "4 LILY  BOTANICAL DINNER CANDLES",
          "4 PEAR BOTANICAL DINNER CANDLES",
          "4 PINK DINNER CANDLE SILVER FLOCK",
          "4 PINK FLOCK CHRISTMAS BALLS",
          "4 ROSE PINK DINNER CANDLES",
          "4 SKY BLUE DINNER CANDLES",
          "4 TRADITIONAL SPINNING TOPS",
          "4 VANILLA BOTANICAL CANDLES",
          "4 WILDFLOWER BOTANICAL CANDLES",
          "5 HOOK HANGER MAGIC TOADSTOOL",
          "5 HOOK HANGER RED MAGIC TOADSTOOL",
          "5 STRAND GLASS NECKLACE AMBER",
          "5 STRAND GLASS NECKLACE AMETHYST",
          "5 STRAND GLASS NECKLACE BLACK",
          "5 STRAND GLASS NECKLACE CRYSTAL",
          "50'S CHRISTMAS PAPER GIFT BAG",
          "50CM METAL STRING WITH  7 CLIPS",
          "6 CHOCOLATE LOVE HEART T-LIGHTS",
          "6 EGG HOUSE PAINTED WOOD",
          "6 GIFT TAGS 50'S CHRISTMAS ",
          "6 GIFT TAGS VINTAGE CHRISTMAS ",
          "6 RIBBONS ELEGANT CHRISTMAS ",
          "6 RIBBONS EMPIRE  ",
          "6 RIBBONS RUSTIC CHARM",
          "6 RIBBONS SHIMMERING PINKS ",
          "6 ROCKET BALLOONS ",
          "60 CAKE CASES DOLLY GIRL DESIGN",
          "60 CAKE CASES VINTAGE CHRISTMAS",
          "60 GOLD AND SILVER FAIRY CAKE CASES",
          "60 TEATIME FAIRY CAKE CASES",
          "6PC WOOD PLATE SET DISPOSABLE",
          "70'S ALPHABET WALL ART",
          "72 SWEETHEART FAIRY CAKE CASES",
          "75 BLACK PETIT FOUR CASES",
          "75 GREEN FAIRY CAKE CASES",
          "75 GREEN PETIT FOUR CASES",
          "A PRETTY THANK YOU CARD",
          "A4 WALL TIDY BLUE OFFICE",
          "A4 WALL TIDY RED FLOWERS",
          "ABC TREASURE BOOK BOX ",
          "ABSTRACT CIRCLE JOURNAL ",
          "ABSTRACT CIRCLES POCKET BOOK",
          "ABSTRACT CIRCLES SKETCHBOOK ",
          "ACRYLIC GEOMETRIC LAMP",
          "ACRYLIC HANGING JEWEL,BLUE",
          "ACRYLIC HANGING JEWEL,PINK",
          "ACRYLIC JEWEL ANGEL,PINK",
          "ACRYLIC JEWEL ICICLE, BLUE",
          "ACRYLIC JEWEL ICICLE, PINK",
          "ACRYLIC JEWEL SNOWFLAKE, PINK",
          "ACRYLIC JEWEL SNOWFLAKE,PINK",
          "ADULT APRON APPLE DELIGHT",
          "ADVENT CALENDAR GINGHAM SACK",
          "AFGHAN SLIPPER SOCK PAIR",
          "AGED GLASS SILVER T-LIGHT HOLDER",
          "AIRLINE BAG VINTAGE JET SET BROWN",
          "AIRLINE BAG VINTAGE JET SET RED",
          "AIRLINE BAG VINTAGE JET SET WHITE",
          "AIRLINE BAG VINTAGE TOKYO 78",
          "AIRLINE BAG VINTAGE WORLD CHAMPION ",
          "AIRLINE LOUNGE,METAL SIGN",
          "ALARM CLOCK BAKELIKE CHOCOLATE",
          "ALARM CLOCK BAKELIKE GREEN",
          "ALARM CLOCK BAKELIKE IVORY",
          "ALARM CLOCK BAKELIKE ORANGE",
          "ALARM CLOCK BAKELIKE PINK",
          "ALARM CLOCK BAKELIKE RED ",
          "ALPHABET HEARTS STICKER SHEET",
          "ALPHABET STENCIL CRAFT",
          "ALUMINIUM HEART",
          "AMBER BERTIE GLASS BEAD BAG CHARM",
          "AMBER CHUNKY BEAD BRACELET W STRAP",
          "AMBER CHUNKY GLASS+BEAD NECKLACE",
          "AMBER DIAMANTE EXPANDABLE RING",
          "AMBER DROP EARRINGS W LONG BEADS",
          "AMBER FINE BEAD NECKLACE W TASSEL",
          "AMBER GLASS TASSLE BAG CHARM",
          "AMBER GLASS/SHELL/PEARL NECKLACE",
          "AMBER GLASS/SILVER BRACELET",
          "AMETHYST CHUNKY BEAD BRACELET W STR",
          "AMETHYST DIAMANTE EXPANDABLE RING",
          "AMETHYST HOOP EARRING FLORAL LEAF",
          "ANGEL DECORATION 3 BUTTONS ",
          "ANGEL DECORATION PAINTED ZINC ",
          "ANGEL DECORATION STARS ON DRESS",
          "ANGEL DECORATION WITH LACE PADDED",
          "ANIMAL STICKERS",
          "ANIMALS AND NATURE WALL ART",
          "ANT COPPER LIME BOUDICCA BRACELET",
          "ANT COPPER PINK BOUDICCA BRACELET",
          "ANT COPPER RED BOUDICCA BRACELET",
          "ANT COPPER TURQ BOUDICCA BRACELET",
          "ANT SILVER FUSCHIA BOUDICCA RING",
          "ANT SILVER LIME GREEN BOUDICCA RING",
          "ANT SILVER PURPLE BOUDICCA RING",
          "ANT SILVER TURQUOISE BOUDICCA RING",
          "ANT WHITE WIRE HEART SPIRAL",
          "ANTIQUE ALL GLASS CANDLESTICK",
          "ANTIQUE CREAM CUTLERY CUPBOARD",
          "ANTIQUE CREAM CUTLERY SHELF ",
          "ANTIQUE GLASS DRESSING TABLE POT",
          "ANTIQUE GLASS HEART DECORATION ",
          "ANTIQUE GLASS PEDESTAL BOWL",
          "ANTIQUE GLASS PLACE SETTING",
          "ANTIQUE HEART SHELF UNIT",
          "ANTIQUE IVORY WIRE BOWL SMALL",
          "ANTIQUE MID BLUE FLOWER EARRINGS",
          "ANTIQUE OLIVE GREEN FLOWER EARRINGS",
          "ANTIQUE OPAL WHITE FLOWER EARRINGS",
          "ANTIQUE RASPBERRY FLOWER EARRINGS",
          "ANTIQUE SILVER BAUBLE LAMP  ",
          "ANTIQUE SILVER T-LIGHT GLASS",
          "ANTIQUE SILVER TEA GLASS ENGRAVED",
          "ANTIQUE TALL SWIRLGLASS TRINKET POT",
          "APOTHECARY MEASURING JAR",
          "APPLE BATH SPONGE",
          "APRON MODERN VINTAGE COTTON",
          "AQUA BERTIE GLASS BEAD BAG CHARM",
          "AREA PATROLLED METAL SIGN",
          "ARMY CAMO BOOKCOVER TAPE",
          "ART LIGHTS,FUNK MONKEY",
          "ASS COL CIRCLE MOBILE ",
          "ASS COL LARGE SAND FROG P'WEIGHT",
          "ASS COL SMALL SAND GECKO P'WEIGHT",
          "ASS COLOUR GLOWING TIARAS",
          "ASS DES PHONE SPONGE CRAFT STICKER",
          "ASS FLORAL PRINT MULTI SCREWDRIVER",
          "ASS FLORAL PRINT SPIRIT LEVEL ",
          "ASSORTED BOTTLE TOP  MAGNETS ",
          "ASSORTED CAKES FRIDGE MAGNETS",
          "ASSORTED CHEESE FRIDGE MAGNETS",
          "ASSORTED CIRCULAR MOBILE",
          "ASSORTED COLOUR BIRD ORNAMENT",
          "ASSORTED COLOUR LIZARD SUCTION HOOK",
          "ASSORTED COLOUR METAL CAT ",
          "ASSORTED COLOUR MINI CASES",
          "ASSORTED COLOUR SILK GLASSES CASE",
          "ASSORTED COLOUR SUCTION CUP HOOK",
          "ASSORTED COLOUR T-LIGHT HOLDER",
          "ASSORTED COLOURS SILK FAN",
          "ASSORTED CREEPY CRAWLIES",
          "ASSORTED EASTER DECORATIONS  BELLS",
          "ASSORTED EASTER GIFT TAGS",
          "ASSORTED FARMYARD ANIMALS IN BUCKET",
          "ASSORTED FLOWER COLOUR \"LEIS\"",
          "ASSORTED INCENSE PACK",
          "ASSORTED LAQUERED INCENSE HOLDERS",
          "ASSORTED MINI MADRAS NOTEBOOK",
          "ASSORTED MONKEY SUCTION CUP HOOK",
          "ASSORTED SANSKRIT MINI NOTEBOOK",
          "ASSORTED SHAPES PHOTO CLIP SILVER ",
          "ASSORTED TUTTI FRUTTI  FOB NOTEBOOK",
          "ASSORTED TUTTI FRUTTI BRACELET",
          "ASSORTED TUTTI FRUTTI HEART BOX",
          "ASSORTED TUTTI FRUTTI KEYRING BALL",
          "ASSORTED TUTTI FRUTTI LARGE PURSE",
          "ASSORTED TUTTI FRUTTI MIRROR",
          "ASSORTED TUTTI FRUTTI NOTEBOOK",
          "ASSORTED TUTTI FRUTTI PEN",
          "ASSORTED TUTTI FRUTTI SMALL PURSE",
          "ASSTD COL BUTTERFLY/CRYSTAL W/CHIME",
          "ASSTD DESIGN 3D PAPER STICKERS",
          "ASSTD DESIGN RACING CAR PEN",
          "ASSTD FRUIT+FLOWERS FRIDGE MAGNETS",
          "ASSTD MULTICOLOUR CIRCLES MUG",
          "ASSTD RASTA KEY-CHAINS",
          "BABUSHKA LIGHTS STRING OF 10",
          "BABY BOOM RIBBONS ",
          "BABY MOUSE RED GINGHAM DRESS",
          "BAG 125g SWIRLY MARBLES",
          "BAG 250g SWIRLY MARBLES",
          "BAG 500g SWIRLY MARBLES",
          "BAG OF SILVER STONES",
          "BAKING MOULD CHOCOLATE CUP CAKES",
          "BAKING MOULD EASTER EGG MILK CHOC",
          "BAKING MOULD EASTER EGG WHITE CHOC",
          "BAKING MOULD HEART MILK CHOCOLATE",
          "BAKING MOULD HEART WHITE CHOCOLATE",
          "BAKING MOULD ROSE MILK CHOCOLATE",
          "BAKING MOULD ROSE WHITE CHOCOLATE",
          "BAKING MOULD TOFFEE CUP  CHOCOLATE",
          "BAKING SET 9 PIECE RETROSPOT ",
          "BAKING SET SPACEBOY DESIGN",
          "BALLOON ART MAKE YOUR OWN FLOWERS",
          "BALLOON PUMP WITH 10 BALLOONS",
          "BALLOON WATER BOMB PACK OF 35",
          "BALLOONS  WRITING SET ",
          "BANK ACCOUNT  GREETING  CARD ",
          "BANQUET BIRTHDAY  CARD  ",
          "BAROQUE BUTTERFLY EARRINGS BLACK",
          "BAROQUE BUTTERFLY EARRINGS CRYSTAL",
          "BASKET OF FLOWERS SEWING KIT",
          "BASKET OF TOADSTOOLS",
          "BATH BUILDING BLOCK WORD",
          "BATHROOM HOOK",
          "BATHROOM METAL SIGN",
          "BATHROOM METAL SIGN ",
          "BATHROOM SCALES FOOTPRINTS IN SAND",
          "BATHROOM SCALES RUBBER DUCKS",
          "BATHROOM SCALES, TROPICAL BEACH",
          "BATHROOM SET LOVE HEART DESIGN",
          "BEACH HUT DESIGN BLACKBOARD",
          "BEACH HUT KEY CABINET",
          "BEACH HUT MIRROR",
          "BEACH HUT SHELF W 3 DRAWERS",
          "BEADED CHANDELIER T-LIGHT HOLDER",
          "BEADED CRYSTAL HEART BLUE  LARGE",
          "BEADED CRYSTAL HEART BLUE ON STICK",
          "BEADED CRYSTAL HEART BLUE SMALL",
          "BEADED CRYSTAL HEART GREEN LARGE",
          "BEADED CRYSTAL HEART GREEN ON STICK",
          "BEADED CRYSTAL HEART GREEN SMALL",
          "BEADED CRYSTAL HEART PINK LARGE",
          "BEADED CRYSTAL HEART PINK ON STICK",
          "BEADED CRYSTAL HEART PINK SMALL",
          "BEADED LOVE HEART JEWELLERY SET",
          "BEADED PEARL HEART WHITE LARGE",
          "BEADED PEARL HEART WHITE ON STICK",
          "BELL HEART ANTIQUE GOLD",
          "BELL HEART DECORATION",
          "BELLE JARDINIERE CUSHION COVER",
          "BEST DAD CANDLE LETTERS",
          "BEWARE OF THE CAT METAL SIGN ",
          "BICYCLE PUNCTURE REPAIR KIT ",
          "BICYCLE SAFTEY WALL ART",
          "BIG DOUGHNUT FRIDGE MAGNETS",
          "BIG POLKADOT MUG",
          "BILI NUT AND WOOD NECKLACE",
          "BINGO SET",
          "BIRD BOX CHRISTMAS TREE DECORATION",
          "BIRD DECORATION GREEN POLKADOT",
          "BIRD DECORATION RED RETROSPOT",
          "BIRD HOUSE HOT WATER BOTTLE",
          "BIRD ON BRANCH CANVAS SCREEN",
          "BIRDCAGE DECORATION TEALIGHT HOLDER",
          "BIRDHOUSE DECORATION MAGIC GARDEN",
          "BIRDHOUSE GARDEN MARKER ",
          "BIRDS MOBILE VINTAGE DESIGN",
          "BIRTHDAY BANNER TAPE",
          "BIRTHDAY BANQUET GIFT WRAP",
          "BIRTHDAY CARD, RETRO SPOT",
          "BISCUIT TIN 50'S CHRISTMAS",
          "BISCUIT TIN VINTAGE CHRISTMAS",
          "BISCUIT TIN VINTAGE GREEN",
          "BISCUIT TIN VINTAGE LEAF",
          "BISCUIT TIN VINTAGE RED",
          "BISCUITS SMALL BOWL LIGHT BLUE",
          "BLACK 3 BEAD DROP EARRINGS",
          "BLACK AND WHITE CAT BOWL",
          "BLACK AND WHITE DOG BOWL",
          "BLACK BAROQUE CARRIAGE CLOCK",
          "BLACK BAROQUE WALL CLOCK ",
          "BLACK BIRD GARDEN DESIGN MUG",
          "BLACK CANDELABRA T-LIGHT HOLDER",
          "BLACK CHAMPAGNE GLASS",
          "BLACK CHERRY LIGHTS",
          "BLACK CHRISTMAS FLOCK DROPLET ",
          "BLACK CHRISTMAS TREE 120CM",
          "BLACK CHRISTMAS TREE 60CM",
          "BLACK CHUNKY BEAD BRACELET W STRAP",
          "BLACK CRYSTAL DROP EARRINGS",
          "BLACK DIAMANTE EXPANDABLE RING",
          "BLACK DIAMOND CLUSTER NECKLACE",
          "BLACK DINER WALL CLOCK",
          "BLACK DROP CRYSTAL NECKLACE",
          "BLACK DROP EARRINGS W LONG BEADS",
          "BLACK EAR MUFF HEADPHONES",
          "BLACK ENAMEL FLOWER RING",
          "BLACK ENCHANTED FOREST PLACEMAT",
          "BLACK FEATHER CHRISTMAS DECORATION",
          "BLACK FINE BEAD NECKLACE W TASSEL",
          "BLACK FLOWER CANDLE PLATE",
          "BLACK GEMSTONE BRACELET",
          "BLACK GEMSTONE NECKLACE 45CM",
          "BLACK GLASS BRACELET W HEART CHARMS",
          "BLACK GRAND BAROQUE PHOTO FRAME",
          "BLACK HEART CARD HOLDER",
          "BLACK KITCHEN SCALES",
          "BLACK LOVE BIRD CANDLE",
          "BLACK LOVE BIRD T-LIGHT HOLDER",
          "BLACK MEDIUM GLASS CAKE STAND",
          "BLACK MINI TAPE MEASURE ",
          "BLACK ORANGE SQUEEZER",
          "BLACK PHOTO ALBUM ",
          "BLACK PIRATE TREASURE CHEST",
          "BLACK RECORD COVER FRAME",
          "BLACK SIL'T SQU CANDLE PLATE ",
          "BLACK SILOUETTE CANDLE PLATE",
          "BLACK SMALL GLASS CAKE STAND",
          "BLACK SQUARE TABLE CLOCK",
          "BLACK STITCHED WALL CLOCK",
          "BLACK SWEETHEART BRACELET",
          "BLACK TEA TOWEL CLASSIC DESIGN",
          "BLACK TEA,COFFEE,SUGAR JARS",
          "BLACK VINT ART DEC CRYSTAL BRACELET",
          "BLACK VINT ART DEC CRYSTAL NECKLACE",
          "BLACK VINTAGE  CRYSTAL EARRINGS",
          "BLACK WINE GLASS",
          "BLACK+WHITE NECKLACE W TASSEL",
          "BLACK/BLUE POLKADOT UMBRELLA",
          "BLACK/WHITE GLASS/SILVER BRACELET",
          "BLACKCHRISTMAS TREE 30CM",
          "BLING KEY RING STAND",
          "BLOND DOLL DOORSTOP",
          "BLOSSOM  IMAGES NOTEBOOK SET",
          "BLOSSOM IMAGES GIFT WRAP SET",
          "BLOSSOM IMAGES SCRAP BOOK SET",
          "BLUE  DIAMANTE PEN IN GIFT BOX",
          "BLUE  TILE HOOK",
          "BLUE  VOILE LAMPSHADE",
          "BLUE & WHITE BREAKFAST TRAY",
          "BLUE 3 PIECE POLKADOT CUTLERY SET",
          "BLUE BIRDHOUSE DECORATION",
          "BLUE BLOSSOM HAIR CLIP",
          "BLUE BREAKFAST CUP AND SAUCER ",
          "BLUE BUNNY EASTER EGG BASKET",
          "BLUE CALCULATOR RULER",
          "BLUE CAT BISCUIT BARREL PINK HEART",
          "BLUE CHARLIE+LOLA PERSONAL DOORSIGN",
          "BLUE CHECK BAG W HANDLE 34X20CM",
          "BLUE CHENILLE SHAGGY CUSHION COVER ",
          "BLUE CIRCLES DESIGN MONKEY DOLL",
          "BLUE CIRCLES DESIGN TEDDY",
          "BLUE CLIMBING HYDRANGA ART FLOWER",
          "BLUE COAT RACK PARIS FASHION",
          "BLUE CRUSOE CHECK LAMPSHADE",
          "BLUE CUSHION COVER WITH FLOWER",
          "BLUE DAISY MOBILE",
          "BLUE DELPHINIUM ARTIFICIAL FLOWER",
          "BLUE DINER WALL CLOCK",
          "BLUE DISCO HANDBAG",
          "BLUE DRAGONFLY HELICOPTER",
          "BLUE DRAWER KNOB ACRYLIC EDWARDIAN",
          "BLUE EASTER EGG HUNT START POST",
          "BLUE EGG  SPOON",
          "BLUE FELT EASTER EGG BASKET",
          "BLUE FELT HANGING HEART WITH FLOWER",
          "BLUE FLOCK CUSHION COVER ",
          "BLUE FLOCK GLASS CANDLEHOLDER",
          "BLUE FLOWER DES PURSE",
          "BLUE FLY SWAT",
          "BLUE GEISHA GIRL ",
          "BLUE GIANT GARDEN THERMOMETER",
          "BLUE GINGHAM ROSE CUSHION COVER",
          "BLUE GLASS CHUNKY CHARM BRACELET",
          "BLUE GLASS GEMS IN BAG",
          "BLUE GREEN EMBROIDERY COSMETIC BAG",
          "BLUE HANGING GINGHAM EASTER HEN",
          "BLUE HAPPY BIRTHDAY BUNTING",
          "BLUE HARMONICA IN BOX ",
          "BLUE HEART COMPACT MIRROR",
          "BLUE HOLE PUNCH",
          "BLUE JUICY FRUIT PHOTO FRAME",
          "BLUE KNITTED EGG COSY",
          "BLUE KNITTED HEN ",
          "BLUE LEAVES AND BEADS PHONE CHARM",
          "BLUE MONTE CARLO HANDBAG",
          "BLUE MURANO TWIST BRACELET",
          "BLUE MURANO TWIST NECKLACE",
          "BLUE NETTING STORAGE HANGER",
          "BLUE NEW BAROQUE CANDLESTICK CANDLE",
          "BLUE NEW BAROQUE FLOCK CANDLESTICK",
          "BLUE ORGANDY ROUND LAMPSHADE W BEA",
          "BLUE OWL SOFT TOY",
          "BLUE PADDED SOFT MOBILE",
          "BLUE PAINTED KASHMIRI CHAIR",
          "BLUE PAISLEY JOURNAL ",
          "BLUE PAISLEY NOTEBOOK",
          "BLUE PAISLEY POCKET BOOK",
          "BLUE PAISLEY SKETCHBOOK",
          "BLUE PAISLEY TISSUE BOX",
          "BLUE PAPER PARASOL ",
          "BLUE PARTY BAGS ",
          "BLUE PATCH PURSE PINK HEART",
          "BLUE POLKADOT BEAKER ",
          "BLUE POLKADOT BOWL",
          "BLUE POLKADOT COFFEE MUG",
          "BLUE POLKADOT CUP",
          "BLUE POLKADOT EGG CUP ",
          "BLUE POLKADOT GARDEN PARASOL",
          "BLUE POLKADOT KIDS BAG",
          "BLUE POLKADOT LUGGAGE TAG ",
          "BLUE POLKADOT PASSPORT COVER",
          "BLUE POLKADOT PLATE ",
          "BLUE POLKADOT PUDDING BOWL",
          "BLUE POLKADOT PURSE ",
          "BLUE POLKADOT WASHING UP GLOVES",
          "BLUE POLKADOT WRAP",
          "BLUE POT PLANT CANDLE ",
          "BLUE PUDDING SPOON",
          "BLUE REFECTORY CLOCK ",
          "BLUE RETRO KITCHEN WALL CLOCK",
          "BLUE ROSE FABRIC MIRROR",
          "BLUE ROSE PATCH PURSE PINK BUTTERFL",
          "BLUE ROUND COMPACT MIRROR",
          "BLUE SAVANNAH PICNIC HAMPER FOR 2",
          "BLUE SCANDINAVIAN PAISLEY WRAP",
          "BLUE SCOTTIE DOG W FLOWER PATTERN",
          "BLUE SHARK HELICOPTER",
          "BLUE SPOT CERAMIC DRAWER KNOB",
          "BLUE SQUARE COMPACT MIRROR",
          "BLUE STONES ON WIRE FOR CANDLE",
          "BLUE STRIPE CERAMIC DRAWER KNOB",
          "BLUE STRIPES SHOULDER BAG",
          "BLUE SWEETHEART BRACELET",
          "BLUE TABLE RUN FLOWER",
          "BLUE TEA TOWEL CLASSIC DESIGN",
          "BLUE TEATIME PRINT BOWL ",
          "BLUE TILED TRAY",
          "BLUE TRAVEL FIRST AID KIT",
          "BLUE TV TRAY TABLE ",
          "BLUE VICTORIAN FABRIC OVAL BOX",
          "BLUE VINTAGE SPOT BEAKER",
          "BLUE WHITE PLASTIC RINGS LAMPSHADE",
          "BLUE WIRE SPIRAL CANDLE HOLDER",
          "BLUE/CREAM STRIPE CUSHION COVER ",
          "BLUE/GREEN SHELL NECKLACE W PENDANT",
          "BLUE/NAT SHELL NECKLACE W PENDANT",
          "BLUE/YELLOW CERAMIC CANDLE HOLDER",
          "BLUE/YELLOW FLOWER DESIGN BIG MUG",
          "BOHEMIAN COLLAGE STATIONERY SET",
          "BOOM BOX SPEAKER BOYS",
          "BOOM BOX SPEAKER GIRLS",
          "BOOZE & WOMEN GREETING CARD ",
          "BOTANICAL GARDENS WALL CLOCK ",
          "BOTANICAL LAVENDER BIRTHDAY CARD",
          "BOTANICAL LAVENDER GIFT WRAP ",
          "BOTANICAL LILY GIFT WRAP",
          "BOTANICAL LILY GREETING CARD",
          "BOTANICAL ROSE GIFT WRAP",
          "BOTANICAL ROSE GREETING CARD",
          "BOTTLE BAG RETROSPOT ",
          "BOUDOIR SQUARE TISSUE BOX",
          "BOX OF 24 COCKTAIL PARASOLS",
          "BOX OF 6 ASSORTED COLOUR TEASPOONS",
          "BOX OF 6 CHRISTMAS CAKE DECORATIONS",
          "BOX OF 6 MINI 50'S CRACKERS",
          "BOX OF 6 MINI VINTAGE CRACKERS",
          "BOX OF 9 PEBBLE CANDLES",
          "BOX OF VINTAGE ALPHABET BLOCKS",
          "BOX OF VINTAGE JIGSAW BLOCKS ",
          "BOX/12 CHICK & EGG IN BASKET",
          "BOYS ALPHABET IRON ON PATCHES",
          "BOYS VINTAGE TIN SEASIDE BUCKET",
          "BREAD BIN DINER STYLE IVORY",
          "BREAD BIN DINER STYLE MINT",
          "BREAD BIN DINER STYLE PINK",
          "BREAD BIN DINER STYLE RED ",
          "BRIGHT BLUES RIBBONS ",
          "BROCADE RING PURSE ",
          "BROCANTE COAT RACK",
          "BROCANTE SHELF WITH HOOKS",
          "BROWN  PIRATE TREASURE CHEST ",
          "BROWN CHECK CAT DOORSTOP ",
          "BROWN KUKUI COCONUT SEED NECKLACE",
          "BUBBLEGUM RING ASSORTED",
          "BUFFALO BILL TREASURE BOOK BOX",
          "BUFFALO BILL WALL ART ",
          "BULL DOG BOTTLE OPENER",
          "BULL DOG BOTTLE TOP WALL CLOCK",
          "BUNDLE OF 3 ALPHABET EXERCISE BOOKS",
          "BUNDLE OF 3 RETRO EXERCISE BOOKS",
          "BUNDLE OF 3 SCHOOL EXERCISE BOOKS  ",
          "BUNNY DECORATION MAGIC GARDEN",
          "BUNNY EGG BOX",
          "BUNNY EGG GARLAND",
          "BUNNY WOODEN PAINTED WITH BIRD ",
          "BUNNY WOODEN PAINTED WITH FLOWER ",
          "BUNTING , SPOTTY ",
          "BUTTERFLIES STICKERS",
          "BUTTERFLY CROCHET FOOD COVER",
          "BUTTERFLY CUSHION COVER",
          "BUTTERFLY HAIR BAND",
          "BUTTON BOX ",
          "BUTTONS AND STRIPES NOTEBOOK ",
          "CABIN BAG VINTAGE PAISLEY",
          "CABIN BAG VINTAGE RETROSPOT",
          "CACTI T-LIGHT CANDLES",
          "CAKE PLATE LOVEBIRD PINK",
          "CAKE PLATE LOVEBIRD WHITE",
          "CAKE SHOP  STICKER SHEET",
          "CAKE STAND 3 TIER MAGIC GARDEN",
          "CAKE STAND LACE WHITE",
          "CAKE STAND LOVEBIRD 2 TIER PINK",
          "CAKE STAND LOVEBIRD 2 TIER WHITE",
          "CAKE STAND VICTORIAN FILIGREE LARGE",
          "CAKE STAND VICTORIAN FILIGREE MED",
          "CAKE STAND VICTORIAN FILIGREE SMALL",
          "CAKE STAND WHITE TWO TIER LACE",
          "CAKES AND BOWS GIFT  TAPE",
          "CAKES AND RABBITS DESIGN FLANNEL ",
          "CAKESTAND, 3 TIER, LOVEHEART",
          "CALENDAR FAMILY FAVOURITES",
          "CALENDAR IN SEASON DESIGN",
          "CALENDAR PAPER CUT DESIGN",
          "CAMOUFLAGE DESIGN TEDDY",
          "CAMOUFLAGE EAR MUFF HEADPHONES",
          "CAMOUFLAGE LED TORCH",
          "CAMPHOR WOOD PORTOBELLO MUSHROOM",
          "CANDLE HOLDER SILVER MADELINE",
          "CANDLE PLATE LACE WHITE",
          "CANDLEHOLDER PINK HANGING HEART",
          "CANDY HEART HANGING DECORATION",
          "CANDY SHOP  STICKER SHEET",
          "CANDY SPOT BUNNY",
          "CANDY SPOT CUSHION COVER",
          "CANDY SPOT EGG WARMER HARE",
          "CANDY SPOT EGG WARMER RABBIT",
          "CANDY SPOT HAND BAG",
          "CANDY SPOT HEART DECORATION",
          "CANDY SPOT TEA COSY",
          "CANNABIS LEAF BEAD CURTAIN",
          "CANNISTER VINTAGE LEAF DESIGN",
          "CAPIZ CHANDELIER",
          "CARAVAN SQUARE TISSUE BOX",
          "CARD BILLBOARD FONT",
          "CARD BIRTHDAY COWBOY",
          "CARD CAT AND TREE ",
          "CARD CHRISTMAS VILLAGE",
          "CARD CIRCUS PARADE",
          "CARD DOG AND BALL ",
          "CARD DOLLY GIRL ",
          "CARD GINGHAM ROSE ",
          "CARD HOLDER GINGHAM HEART",
          "CARD HOLDER LOVE BIRD LARGE ",
          "CARD HOLDER LOVE BIRD SMALL",
          "CARD I LOVE LONDON ",
          "CARD MOTORBIKE SANTA",
          "CARD PARTY GAMES ",
          "CARD PSYCHEDELIC APPLES",
          "CARD SUKI BIRTHDAY",
          "CARD WEDDING DAY",
          "CARDHOLDER GINGHAM CHRISTMAS TREE",
          "CARDHOLDER GINGHAM STAR",
          "CARDHOLDER HOLLY WREATH METAL",
          "CARNIVAL BRACELET",
          "CAROUSEL DESIGN WASHBAG",
          "CAROUSEL PONIES BABY BIB",
          "CARROT CHARLIE+LOLA COASTER SET",
          "CARTOON  PENCIL SHARPENERS",
          "CAST IRON HOOK GARDEN FORK",
          "CAST IRON HOOK GARDEN TROWEL",
          "CAT AND BIRD WALL ART",
          "CAT BOWL VINTAGE CREAM",
          "CAT WITH SUNGLASSES BLANK CARD",
          "CD WALL TIDY BLUE OFFICE",
          "CD WALL TIDY RED FLOWERS",
          "CERAMIC BIRDHOUSE CRESTED TIT SMALL",
          "CERAMIC BOWL WITH LOVE HEART DESIGN",
          "CERAMIC BOWL WITH STRAWBERRY DESIGN",
          "CERAMIC CAKE BOWL + HANGING CAKES",
          "CERAMIC CAKE DESIGN SPOTTED MUG",
          "CERAMIC CAKE DESIGN SPOTTED PLATE",
          "CERAMIC CAKE STAND + HANGING CAKES",
          "CERAMIC CHERRY CAKE MONEY BANK",
          "CERAMIC HEART FAIRY CAKE MONEY BANK",
          "CERAMIC LOVE HEART MONEY BANK",
          "CERAMIC PIRATE CHEST MONEY BANK",
          "CERAMIC PLATE STRAWBERRY DESIGN",
          "CERAMIC STRAWBERRY CAKE MONEY BANK",
          "CERAMIC STRAWBERRY DESIGN MUG",
          "CERAMIC STRAWBERRY MONEY BOX",
          "CERAMIC STRAWBERRY TRINKET TRAY",
          "CHALKBOARD KITCHEN ORGANISER",
          "CHAMBRE HOOK",
          "CHAMPAGNE TRAY BLANK CARD",
          "CHARLIE & LOLA WASTEPAPER BIN BLUE",
          "CHARLIE & LOLA WASTEPAPER BIN FLORA",
          "CHARLIE + LOLA BISCUITS TINS",
          "CHARLIE + LOLA RED HOT WATER BOTTLE",
          "CHARLIE AND LOLA CHARLOTTE BAG",
          "CHARLIE AND LOLA FIGURES TINS",
          "CHARLIE AND LOLA TABLE TINS",
          "CHARLIE LOLA BLUE HOT WATER BOTTLE ",
          "CHARLIE+LOLA MY ROOM DOOR SIGN",
          "CHARLIE+LOLA PINK HOT WATER BOTTLE",
          "CHARLIE+LOLA RED HOT WATER BOTTLE ",
          "CHARLIE+LOLA\"EXTREMELY BUSY\" SIGN",
          "CHARLOTTE BAG ALPHABET  DESIGN",
          "CHARLOTTE BAG APPLES DESIGN",
          "CHARLOTTE BAG DOLLY GIRL DESIGN",
          "CHARLOTTE BAG PINK POLKADOT",
          "CHARLOTTE BAG SUKI DESIGN",
          "CHERRY BLOSSOM  DECORATIVE FLASK",
          "CHERRY BLOSSOM CANVAS ART PICTURE",
          "CHERRY BLOSSOM DECORATIVE FLASK",
          "CHERRY BLOSSOM LUGGAGE TAG",
          "CHERRY BLOSSOM PASSPORT COVER",
          "CHERRY BLOSSOM PURSE",
          "CHERRY BLOSSOM TABLE CLOCK ",
          "CHERRY CROCHET FOOD COVER",
          "CHERUB HEART DECORATION GOLD",
          "CHERUB HEART DECORATION SILVER ",
          "CHEST 7 DRAWER MA CAMPAGNE",
          "CHEST NATURAL WOOD 20 DRAWERS",
          "CHEST OF DRAWERS GINGHAM HEART ",
          "CHICK GREY HOT WATER BOTTLE",
          "CHILDREN'S APRON DOLLY GIRL ",
          "CHILDREN'S CIRCUS PARADE MUG",
          "CHILDREN'S SPACEBOY MUG",
          "CHILDRENS APRON APPLES DESIGN",
          "CHILDRENS APRON SPACEBOY DESIGN",
          "CHILDRENS CUTLERY CIRCUS PARADE",
          "CHILDRENS CUTLERY DOLLY GIRL ",
          "CHILDRENS CUTLERY POLKADOT GREEN ",
          "CHILDRENS CUTLERY POLKADOT PINK",
          "CHILDRENS CUTLERY RETROSPOT RED ",
          "CHILDRENS CUTLERY SPACEBOY ",
          "CHILDRENS DOLLY GIRL MUG",
          "CHILDRENS GARDEN GLOVES BLUE",
          "CHILDRENS GARDEN GLOVES PINK",
          "CHILDRENS TOY COOKING UTENSIL SET",
          "CHILDS BREAKFAST SET CIRCUS PARADE",
          "CHILDS BREAKFAST SET DOLLY GIRL ",
          "CHILDS BREAKFAST SET SPACEBOY ",
          "CHILDS GARDEN BRUSH BLUE",
          "CHILDS GARDEN BRUSH PINK",
          "CHILDS GARDEN FORK BLUE ",
          "CHILDS GARDEN FORK PINK",
          "CHILDS GARDEN RAKE BLUE",
          "CHILDS GARDEN RAKE PINK",
          "CHILDS GARDEN SPADE BLUE",
          "CHILDS GARDEN SPADE PINK",
          "CHILDS GARDEN TROWEL BLUE ",
          "CHILDS GARDEN TROWEL PINK",
          "CHILLI LIGHTS",
          "CHINESE DRAGON PAPER LANTERNS",
          "CHOC TRUFFLE GOLD TRINKET POT ",
          "CHOCOLATE 1 WICK MORRIS BOX CANDLE",
          "CHOCOLATE 3 WICK MORRIS BOX CANDLE",
          "CHOCOLATE BOX RIBBONS ",
          "CHOCOLATE CALCULATOR",
          "CHOCOLATE HOT WATER BOTTLE",
          "CHOCOLATE THIS WAY METAL SIGN",
          "CHRISTMAS CARD SCREEN PRINT ",
          "CHRISTMAS CARD SINGING ANGEL",
          "CHRISTMAS CARD STACK OF PRESENTS",
          "CHRISTMAS CRAFT HEART STOCKING ",
          "CHRISTMAS CRAFT LITTLE FRIENDS",
          "CHRISTMAS CRAFT TREE TOP ANGEL",
          "CHRISTMAS CRAFT WHITE FAIRY ",
          "CHRISTMAS DECOUPAGE CANDLE",
          "CHRISTMAS GARLAND STARS,TREES",
          "CHRISTMAS GINGHAM HEART",
          "CHRISTMAS GINGHAM STAR",
          "CHRISTMAS GINGHAM TREE",
          "CHRISTMAS HANGING HEART WITH BELL",
          "CHRISTMAS HANGING SNOWFLAKE",
          "CHRISTMAS HANGING STAR WITH BELL",
          "CHRISTMAS HANGING TREE WITH BELL",
          "CHRISTMAS LIGHTS 10 REINDEER",
          "CHRISTMAS LIGHTS 10 SANTAS ",
          "CHRISTMAS LIGHTS 10 VINTAGE BAUBLES",
          "CHRISTMAS METAL POSTCARD WITH BELLS",
          "CHRISTMAS METAL TAGS ASSORTED ",
          "CHRISTMAS MUSICAL ZINC HEART ",
          "CHRISTMAS MUSICAL ZINC STAR",
          "CHRISTMAS MUSICAL ZINC TREE",
          "CHRISTMAS PUDDING TRINKET POT ",
          "CHRISTMAS RETROSPOT ANGEL WOOD",
          "CHRISTMAS RETROSPOT HEART WOOD",
          "CHRISTMAS RETROSPOT STAR WOOD",
          "CHRISTMAS RETROSPOT TREE WOOD",
          "CHRISTMAS STAR WISH LIST CHALKBOARD",
          "CHRISTMAS TABLE CANDLE SILVER SPIKE",
          "CHRISTMAS TOILET ROLL",
          "CHRISTMAS TREE DECORATION WITH BELL",
          "CHRISTMAS TREE HANGING GOLD",
          "CHRISTMAS TREE HANGING SILVER ",
          "CHRISTMAS TREE HEART DECORATION",
          "CHRISTMAS TREE PAINTED ZINC ",
          "CHRISTMAS TREE STAR DECORATION",
          "CHRISTMAS TREE T-LIGHT HOLDER",
          "CHRYSANTHEMUM  JOURNAL",
          "CHRYSANTHEMUM NOTEBOOK",
          "CHRYSANTHEMUM POCKET BOOK ",
          "CHRYSANTHEMUM SKETCHBOOK ",
          "CHUNKY SILVER NECKLACE PASTEL FLOWE",
          "CINAMMON & ORANGE WREATH",
          "CINAMMON SET OF 9 T-LIGHTS",
          "CINDERELLA CHANDELIER ",
          "CINNAMON SCENTED VOTIVE CANDLE",
          "CIRCUS PARADE BABY GIFT SET",
          "CIRCUS PARADE CHILDRENS EGG CUP ",
          "CIRCUS PARADE LUNCH BOX ",
          "CITRONELLA CANDLE FLOWERPOT",
          "CITRONELLA CANDLE GARDEN POT",
          "CITRUS GARLAND FELT FLOWERS ",
          "CLAM SHELL LARGE",
          "CLAM SHELL SMALL ",
          "CLASSIC BICYCLE CLIPS ",
          "CLASSIC CAFE SUGAR DISPENSER",
          "CLASSIC CHROME BICYCLE BELL ",
          "CLASSIC DIAMANTE EARRINGS JET",
          "CLASSIC DIAMANTE NECKLACE JET",
          "CLASSIC FRENCH STYLE BASKET BROWN",
          "CLASSIC FRENCH STYLE BASKET GREEN ",
          "CLASSIC FRENCH STYLE BASKET NATURAL",
          "CLASSIC GLASS COOKIE JAR",
          "CLASSIC METAL BIRDCAGE PLANT HOLDER",
          "CLASSIC WHITE FRAME",
          "CLASSICAL ROSE CANDLESTAND",
          "CLASSICAL ROSE SMALL VASE",
          "CLASSICAL ROSE TABLE LAMP",
          "CLEAR ACRYLIC FACETED BANGLE",
          "CLEAR CRYSTAL STAR PHONE CHARM",
          "CLEAR DRAWER KNOB ACRYLIC EDWARDIAN",
          "CLEAR LOVE BIRD T-LIGHT HOLDER",
          "CLEAR MILKSHAKE GLASS",
          "CLEAR STATIONERY BOX SET ",
          "CLOCK MAGNET MUM'S KITCHEN",
          "CLOTHES PEGS RETROSPOT PACK 24 ",
          "COCKLE SHELL DISH",
          "COCKTAIL SWORDS 50 PIECES",
          "COFFEE MUG APPLES DESIGN",
          "COFFEE MUG BLUE PAISLEY DESIGN",
          "COFFEE MUG CAT + BIRD DESIGN",
          "COFFEE MUG DOG + BALL DESIGN",
          "COFFEE MUG PEARS  DESIGN",
          "COFFEE MUG PINK PAISLEY DESIGN",
          "COFFEE SCENT PILLAR CANDLE",
          "COLOUR GLASS T-LIGHT HOLDER HANGING",
          "COLOUR GLASS. STAR T-LIGHT HOLDER",
          "COLOURFUL FLOWER FRUIT BOWL",
          "COLOURING PENCILS BROWN TUBE",
          "COLUMBIAN  CUBE CANDLE ",
          "COLUMBIAN CANDLE RECTANGLE",
          "COLUMBIAN CANDLE ROUND",
          "COLUMBIAN CANDLE ROUND ",
          "COLUMBIAN CUBE CANDLE",
          "CONDIMENT TRAY 4 BOWLS AND 4 SPOONS",
          "CONGRATULATIONS BUNTING",
          "COOK WITH WINE METAL SIGN ",
          "COOKING SET RETROSPOT",
          "COPPER AND BRASS BAG CHARM",
          "COPPER/OLIVE GREEN FLOWER NECKLACE",
          "CORDIAL GLASS JUG",
          "CORONA MEXICAN TRAY",
          "COSMETIC BAG VINTAGE ROSE PAISLEY",
          "COSY HOUR CIGAR BOX MATCHES ",
          "COSY HOUR GIANT TUBE MATCHES",
          "COSY SLIPPER SHOES LARGE GREEN",
          "COSY SLIPPER SHOES SMALL  RED ",
          "COSY SLIPPER SHOES SMALL GREEN",
          "COTE D'AZURE NECKLACE",
          "COTTON APRON PANTRY DESIGN",
          "COWBOYS AND INDIANS BIRTHDAY CARD ",
          "CRACKED GLAZE EARRINGS BROWN",
          "CRACKED GLAZE EARRINGS RED",
          "CRACKED GLAZE NECKLACE IVORY",
          "CRACKED GLAZE NECKLACE RED",
          "CRAZY DAISY HEART DECORATION",
          "CREAM AND PINK FLOWERS PONY ",
          "CREAM BUNNY EASTER EGG BASKET",
          "CREAM CLIMBING HYDRANGA ART FLOWER",
          "CREAM CUPID HEARTS COAT HANGER",
          "CREAM DELPHINIUM ARTIFICIAL FLOWER",
          "CREAM FELT EASTER EGG BASKET",
          "CREAM HANGING HEART T-LIGHT HOLDER",
          "CREAM HEART CARD HOLDER",
          "CREAM SLICE FLANNEL CHOCOLATE SPOT ",
          "CREAM SLICE FLANNEL PINK SPOT ",
          "CREAM SWEETHEART EGG HOLDER",
          "CREAM SWEETHEART LETTER RACK",
          "CREAM SWEETHEART MINI CHEST",
          "CREAM SWEETHEART WALL CABINET",
          "CREAM WALL PLANTER HEART SHAPED",
          "CROCHET BEAR RED/BLUE  KEYRING",
          "CROCHET DOG KEYRING",
          "CROCHET LILAC/RED BEAR KEYRING",
          "CROCHET ROSE DES CLOTHES HANGER",
          "CROCHET ROSE PURSE WITH SUEDE BACK",
          "CROCHET WHITE RABBIT KEYRING ",
          "CRYSTAL CHANDELIER T-LIGHT HOLDER",
          "CRYSTAL CZECH CROSS PHONE CHARM",
          "CRYSTAL DIAMANTE EXPANDABLE RING",
          "CRYSTAL DIAMANTE STAR BROOCH",
          "CRYSTAL FROG PHONE CHARM",
          "CRYSTAL HOOP EARRING FLORAL LEAF",
          "CRYSTAL PAIR HEART HAIR SLIDES",
          "CRYSTAL SEA HORSE PHONE CHARM",
          "CRYSTAL STILETTO PHONE CHARM",
          "CRYSTAL STUD EARRINGS ASSORTED COL ",
          "CRYSTAL STUD EARRINGS CLEAR DISPLAY",
          "CUBIC MUG FLOCK BLUE ON BROWN",
          "CUBIC MUG FLOCK PINK ON BROWN",
          "CUBIC MUG PINK POLKADOT",
          "CUPBOARD 3 DRAWER MA CAMPAGNE",
          "CUPCAKE LACE PAPER SET 6",
          "CUPID DESIGN SCENTED CANDLES",
          "CUPID SCENTED CANDLE IN GLASS",
          "CURIO CABINET LINEN AND LACE ",
          "CURIOUS  IMAGES NOTEBOOK SET",
          "CURIOUS IMAGES GIFT WRAP SET",
          "CURIOUS IMAGES SCRAP BOOK SET",
          "CUSHION COVER PINK UNION JACK",
          "CUT GLASS HEXAGON T-LIGHT HOLDER",
          "CUT GLASS T-LIGHT HOLDER OCTAGON",
          "CUTE BIRD CEATURE SCREEN",
          "CUTE CATS TAPE",
          "CUTE RABBIT CEATURE SCREEN ",
          "DAIRY MAID  PUDDING BOWL",
          "DAIRY MAID LARGE MILK JUG",
          "DAIRY MAID STRIPE MUG",
          "DAIRY MAID TOASTRACK",
          "DAIRY MAID TRADITIONAL TEAPOT ",
          "DAISIES  HONEYCOMB GARLAND ",
          "DAISY FOLKART HEART DECORATION",
          "DAISY GARDEN MARKER",
          "DAISY HAIR BAND",
          "DAISY HAIR COMB",
          "DAISY JOURNAL ",
          "DAISY NOTEBOOK ",
          "DAISY SKETCHBOOK ",
          "DANISH ROSE BEDSIDE CABINET",
          "DANISH ROSE DECORATIVE PLATE",
          "DANISH ROSE DELUXE COASTER",
          "DANISH ROSE FOLDING CHAIR",
          "DANISH ROSE PHOTO FRAME",
          "DANISH ROSE ROUND SEWING BOX",
          "DANISH ROSE TRINKET TRAYS",
          "DANISH ROSE UMBRELLA STAND",
          "DARK BIRD HOUSE TREE DECORATION",
          "DECORATION  BUTTERFLY  MAGIC GARDEN",
          "DECORATION  PINK CHICK MAGIC GARDEN",
          "DECORATION , WOBBLY CHICKEN, METAL ",
          "DECORATION , WOBBLY RABBIT , METAL ",
          "DECORATION HEN ON NEST, HANGING",
          "DECORATION SITTING BUNNY",
          "DECORATION WHITE CHICK MAGIC GARDEN",
          "DECORATIVE CATS BATHROOM BOTTLE",
          "DECORATIVE FLORE BATHROOM BOTTLE",
          "DECORATIVE HANGING SHELVING UNIT",
          "DECORATIVE PLANT POT WITH FRIEZE",
          "DECORATIVE ROSE BATHROOM BOTTLE",
          "DECORATIVE VINTAGE COFFEE  BOX",
          "DECORATIVE WICKER HEART LARGE",
          "DECORATIVE WICKER HEART MEDIUM",
          "DECORATIVE WICKER HEART SMALL",
          "DECOUPAGE,GREETING CARD,",
          "DELUXE SEWING KIT ",
          "DENIM PATCH PURSE PINK BUTTERFLY",
          "DIAMANTE BOW BROOCH BLACK COLOUR",
          "DIAMANTE BOW BROOCH GREEN COLOUR",
          "DIAMANTE BOW BROOCH RED COLOUR",
          "DIAMANTE HAIR GRIP PACK/2 BLACK DIA",
          "DIAMANTE HAIR GRIP PACK/2 CRYSTAL",
          "DIAMANTE HAIR GRIP PACK/2 LT ROSE",
          "DIAMANTE HAIR GRIP PACK/2 MONTANA",
          "DIAMANTE HAIR GRIP PACK/2 PERIDOT",
          "DIAMANTE HAIR GRIP PACK/2 RUBY",
          "DIAMANTE HEART SHAPED WALL MIRROR, ",
          "DIAMANTE NECKLACE",
          "DIAMANTE NECKLACE BLACK ",
          "DIAMANTE NECKLACE GREEN",
          "DIAMANTE NECKLACE PURPLE",
          "DIAMANTE RING ASSORTED IN BOX.",
          "DIAMOND LAS VEGAS NECKLACE 45CM",
          "DINOSAUR HEIGHT CHART STICKER SET",
          "DINOSAUR KEYRINGS ASSORTED",
          "DINOSAUR LUNCH BOX WITH CUTLERY",
          "DINOSAUR PARTY BAG + STICKER SET",
          "DINOSAURS  WRITING SET ",
          "DISCO BALL CHRISTMAS DECORATION",
          "DISCO BALL ROTATOR BATTERY OPERATED",
          "DO NOT TOUCH MY STUFF DOOR HANGER ",
          "DOCTOR'S BAG SOFT TOY",
          "DOG AND BALL WALL ART",
          "DOG BOWL CHASING BALL DESIGN",
          "DOG BOWL VINTAGE CREAM",
          "DOG LICENCE WALL ART",
          "DOG TOY WITH PINK CROCHET SKIRT",
          "DOGGY RUBBER",
          "DOILEY BISCUIT TIN",
          "DOILY THANK YOU CARD",
          "DOLLCRAFT BOY JEAN-PAUL ",
          "DOLLCRAFT GIRL AMELIE",
          "DOLLCRAFT GIRL NICOLE",
          "DOLLY CABINET 2 DRAWERS ",
          "DOLLY CABINET 3 DRAWERS ",
          "DOLLY GIRL BABY GIFT SET",
          "DOLLY GIRL CHILDRENS BOWL",
          "DOLLY GIRL CHILDRENS CUP",
          "DOLLY GIRL CHILDRENS EGG CUP",
          "DOLLY GIRL LUNCH BOX",
          "DOLLY GIRL MINI BACKPACK",
          "DOLLY GIRL WALL ART",
          "DOLLY HONEYCOMB GARLAND",
          "DOLLY MIXTURE CHILDREN'S UMBRELLA",
          "DOLPHIN WINDMILL",
          "DONKEY TAIL GAME ",
          "DOOR HANGER  MUM + DADS ROOM",
          "DOORKNOB CERAMIC IVORY",
          "DOORKNOB CRACKED GLAZE BLUE",
          "DOORKNOB CRACKED GLAZE GREEN",
          "DOORKNOB CRACKED GLAZE IVORY",
          "DOORKNOB CRACKED GLAZE PINK",
          "DOORMAT 3 SMILEY CATS",
          "DOORMAT AIRMAIL ",
          "DOORMAT BLACK FLOCK ",
          "DOORMAT CHRISTMAS VILLAGE",
          "DOORMAT ENGLISH ROSE ",
          "DOORMAT FAIRY CAKE",
          "DOORMAT FANCY FONT HOME SWEET HOME",
          "DOORMAT HEARTS",
          "DOORMAT HOME SWEET HOME BLUE ",
          "DOORMAT I LOVE LONDON",
          "DOORMAT KEEP CALM AND COME IN",
          "DOORMAT MERRY CHRISTMAS RED ",
          "DOORMAT MULTICOLOUR STRIPE",
          "DOORMAT NEIGHBOURHOOD WITCH ",
          "DOORMAT NEW ENGLAND",
          "DOORMAT PEACE ON EARTH BLUE",
          "DOORMAT RED RETROSPOT",
          "DOORMAT RESPECTABLE HOUSE",
          "DOORMAT SPOTTY HOME SWEET HOME",
          "DOORMAT TOPIARY",
          "DOORMAT UNION FLAG",
          "DOORMAT UNION JACK GUNS AND ROSES",
          "DOORMAT VINTAGE LEAF",
          "DOORMAT WELCOME PUPPIES",
          "DOORMAT WELCOME SUNRISE",
          "DOORMAT WELCOME TO OUR HOME",
          "DOORSTOP FOOTBALL DESIGN",
          "DOORSTOP RACING CAR DESIGN",
          "DOORSTOP RETROSPOT HEART",
          "DOTCOMGIFTSHOP TEA TOWEL",
          "DOUBLE CERAMIC PARLOUR HOOK",
          "DOUGHNUT LIP GLOSS ",
          "DOVE DECORATION PAINTED ZINC ",
          "DRAGONS BLOOD INCENSE",
          "DRAWER KNOB CERAMIC BLACK",
          "DRAWER KNOB CERAMIC RED",
          "DRAWER KNOB VINTAGE GLASS BALL",
          "DRAWER KNOB VINTAGE GLASS HEXAGON",
          "DRAWER KNOB VINTAGE GLASS STAR",
          "DROP DIAMANTE EARRINGS BLACK DIAMON",
          "DROP DIAMANTE EARRINGS CRYSTAL",
          "DROP DIAMANTE EARRINGS GREEN",
          "DROP DIAMANTE EARRINGS PURPLE",
          "DROP EARRINGS W FLOWER & LEAF",
          "DUSTY PINK CHRISTMAS TREE 30CM",
          "DUSTY PINK CHRISTMAS TREE 60CM",
          "EASTER BUNNY GARLAND OF FLOWERS",
          "EASTER BUNNY HANGING GARLAND",
          "EASTER BUNNY WITH BASKET ON BACK",
          "EASTER BUNNY WREATH",
          "EASTER CRAFT 4 CHICKS ",
          "EASTER CRAFT IVY WREATH WITH CHICK",
          "EASTER DECORATION EGG BUNNY ",
          "EASTER DECORATION HANGING BUNNY",
          "EASTER DECORATION NATURAL CHICK",
          "EASTER TIN BUCKET",
          "EASTER TIN BUNNY BOUQUET",
          "EASTER TIN CHICKS IN GARDEN",
          "EASTER TIN CHICKS PINK DAISY",
          "EASTER TIN KEEPSAKE",
          "EASTER TREE YELLOW BIRDS",
          "EAU DE NIL LOVE BIRD CANDLE",
          "EAU DE NILE HEART SHAPE PHOTO FRAME",
          "EAU DE NILE JEWELLED PHOTOFRAME",
          "EAU DE NILE JEWELLED T-LIGHT HOLDER",
          "ECONOMY HOLIDAY PURSE",
          "ECONOMY LUGGAGE TAG",
          "EDWARDIAN DROP EARRINGS JET BLACK",
          "EDWARDIAN HEART PHOTO FRAME",
          "EDWARDIAN PARASOL BLACK",
          "EDWARDIAN PARASOL NATURAL",
          "EDWARDIAN PARASOL PINK",
          "EDWARDIAN PARASOL RED",
          "EDWARDIAN PHOTO FRAME",
          "EGG CUP HENRIETTA HEN CREAM ",
          "EGG CUP HENRIETTA HEN PINK",
          "EGG CUP MILKMAID HEIDI",
          "EGG CUP MILKMAID HELGA ",
          "EGG CUP MILKMAID INGRID",
          "EGG CUP NATURAL CHICKEN",
          "EGG FRYING PAN BLUE ",
          "EGG FRYING PAN IVORY ",
          "EGG FRYING PAN MINT ",
          "EGG FRYING PAN PINK ",
          "EGG FRYING PAN RED ",
          "EIGHT PIECE CREEPY CRAWLIE SET",
          "EIGHT PIECE DINOSAUR SET",
          "EIGHT PIECE SNAKE  SET",
          "ELEPHANT BIRTHDAY CARD ",
          "ELEPHANT CARNIVAL POUFFE",
          "ELEPHANT CLIP W SUCTION CUP",
          "ELVIS WALLHANGING / CURTAIN",
          "EMBOSSED GLASS TEALIGHT HOLDER",
          "EMBOSSED HEART TRINKET BOX",
          "EMBROIDERED RIBBON REEL CLAIRE",
          "EMBROIDERED RIBBON REEL DAISY ",
          "EMBROIDERED RIBBON REEL EMILY ",
          "EMBROIDERED RIBBON REEL RACHEL ",
          "EMBROIDERED RIBBON REEL REBECCA ",
          "EMBROIDERED RIBBON REEL ROSIE",
          "EMBROIDERED RIBBON REEL RUBY ",
          "EMBROIDERED RIBBON REEL SALLY ",
          "EMBROIDERED RIBBON REEL SOPHIE  ",
          "EMBROIDERED RIBBON REEL SUSIE ",
          "EMERGENCY FIRST AID TIN ",
          "EMPIRE BIRTHDAY CARD",
          "EMPIRE DESIGN ROSETTE",
          "EMPIRE GIFT WRAP",
          "EMPIRE TISSUE BOX",
          "EMPIRE UNION JACK TV DINNER TRAY",
          "ENAMEL BLUE RIM BISCUIT BIN",
          "ENAMEL BLUE RIM COFFEE CONTAINER",
          "ENAMEL BLUE RIM TEA CONTAINER",
          "ENAMEL BOWL PANTRY",
          "ENAMEL BREAD BIN CREAM",
          "ENAMEL COLANDER CREAM",
          "ENAMEL DINNER PLATE PANTRY",
          "ENAMEL FIRE BUCKET CREAM",
          "ENAMEL FLOWER JUG CREAM",
          "ENAMEL JUG PANTRY",
          "ENAMEL MEASURING JUG CREAM",
          "ENAMEL MUG PANTRY",
          "ENAMEL PINK COFFEE CONTAINER",
          "ENAMEL PINK TEA CONTAINER",
          "ENAMEL WASH BOWL CREAM",
          "ENAMEL WATERING CAN CREAM",
          "ENCHANTED BIRD COATHANGER 5 HOOK",
          "ENCHANTED BIRD PLANT CAGE",
          "ENGLISH ROSE GARDEN SECATEURS",
          "ENGLISH ROSE HOT WATER BOTTLE",
          "ENGLISH ROSE METAL WASTE BIN",
          "ENGLISH ROSE NOTEBOOK A6 SIZE",
          "ENGLISH ROSE NOTEBOOK A7 SIZE",
          "ENGLISH ROSE SCENTED HANGING FLOWER",
          "ENGLISH ROSE SCENTED HANGING HEART",
          "ENGLISH ROSE SMALL SCENTED FLOWER",
          "ENGLISH ROSE SPIRIT LEVEL ",
          "ENVELOPE 50 BLOSSOM IMAGES",
          "ENVELOPE 50 CURIOUS IMAGES",
          "ENVELOPE 50 ROMANTIC IMAGES",
          "ESSENTIAL BALM 3.5g TIN IN ENVELOPE",
          "ETCHED GLASS COASTER",
          "EUCALYPTUS & PINECONE  WREATH",
          "FAIRY CAKE BIRTHDAY CANDLE SET",
          "FAIRY CAKE DESIGN UMBRELLA",
          "FAIRY CAKE FLANNEL ASSORTED COLOUR",
          "FAIRY CAKE NOTEBOOK A5 SIZE",
          "FAIRY CAKES NOTEBOOK A6 SIZE",
          "FAIRY CAKES NOTEBOOK A7 SIZE",
          "FAIRY DREAMS INCENSE ",
          "FAIRY SOAP SOAP HOLDER",
          "FAIRY TALE COTTAGE NIGHT LIGHT",
          "FAMILY ALBUM WHITE PICTURE FRAME",
          "FAMILY PHOTO FRAME CORNICE",
          "FAN BLACK FRAME ",
          "FANCY FONT BIRTHDAY CARD, ",
          "FANCY FONTS BIRTHDAY WRAP",
          "FANNY'S REST STOPMETAL SIGN",
          "FAUX FUR CHOCOLATE THROW",
          "FAWN AND MUSHROOM GREETING CARD",
          "FAWN BLUE HOT WATER BOTTLE",
          "FEATHER PEN,COAL BLACK",
          "FEATHER PEN,HOT PINK",
          "FEATHER PEN,LIGHT PINK",
          "FELT EGG COSY BLUE RABBIT ",
          "FELT EGG COSY CHICKEN",
          "FELT EGG COSY LADYBIRD ",
          "FELT EGG COSY WHITE RABBIT ",
          "FELT FARM ANIMAL CHICKEN",
          "FELT FARM ANIMAL HEN",
          "FELT FARM ANIMAL RABBIT",
          "FELT FARM ANIMAL SHEEP",
          "FELT FARM ANIMAL WHITE BUNNY ",
          "FELT TOADSTOOL  SMALL",
          "FELT TOADSTOOL LARGE",
          "FELTCRAFT 6 FLOWER FRIENDS",
          "FELTCRAFT BUTTERFLY HEARTS",
          "FELTCRAFT CHRISTMAS FAIRY",
          "FELTCRAFT CUSHION BUTTERFLY",
          "FELTCRAFT CUSHION OWL",
          "FELTCRAFT CUSHION RABBIT",
          "FELTCRAFT DOLL EMILY",
          "FELTCRAFT DOLL MARIA",
          "FELTCRAFT DOLL MOLLY",
          "FELTCRAFT DOLL ROSIE",
          "FELTCRAFT HAIRBAND PINK AND BLUE",
          "FELTCRAFT HAIRBAND PINK AND PURPLE",
          "FELTCRAFT HAIRBAND RED AND BLUE",
          "FELTCRAFT HAIRBANDS PINK AND WHITE ",
          "FELTCRAFT PRINCESS CHARLOTTE DOLL",
          "FELTCRAFT PRINCESS LOLA DOLL",
          "FELTCRAFT PRINCESS OLIVIA DOLL",
          "FENG SHUI PILLAR CANDLE",
          "FILIGREE DIAMANTE EARRINGS",
          "FILIGREE HEART BIRD WHITE ",
          "FILIGREE HEART BUTTERFLY WHITE ",
          "FILIGREE HEART DAISY WHITE",
          "FILIGRIS HEART WITH BUTTERFLY",
          "FINE SILVER NECKLACE W PASTEL FLOWE",
          "FINE WICKER HEART ",
          "FIRE POLISHED GLASS BRACELET BLACK",
          "FIRE POLISHED GLASS BRACELET GREEN",
          "FIRE POLISHED GLASS BRACELET MONTAN",
          "FIRE POLISHED GLASS BRACELET RED",
          "FIRE POLISHED GLASS NECKL BRONZE",
          "FIRE POLISHED GLASS NECKL GOLD",
          "FIRST AID TIN",
          "FIRST CLASS HOLIDAY PURSE ",
          "FIRST CLASS LUGGAGE TAG ",
          "FIRST CLASS PASSPORT COVER ",
          "FIVE CATS HANGING DECORATION",
          "FIVE HEART HANGING DECORATION",
          "FLAG OF ST GEORGE ",
          "FLAG OF ST GEORGE CAR FLAG",
          "FLAG OF ST GEORGE CHAIR",
          "FLAMES SUNGLASSES PINK LENSES",
          "FLOOR CUSHION ELEPHANT CARNIVAL",
          "FLOOR LAMP SHADE WOOD BASE",
          "FLORAL BATHROOM SET",
          "FLORAL BLUE MONSTER",
          "FLORAL FOLK STATIONERY SET",
          "FLORAL PINK MONSTER",
          "FLORAL SOFT CAR TOY",
          "FLOWER BLUE CLOCK WITH SUCKER",
          "FLOWER BURST SILVER RING CRYSTAL",
          "FLOWER FAIRY 5 DRAWER LINERS",
          "FLOWER FAIRY INCENSE BOUQUET",
          "FLOWER GARLAND NECKLACE RED",
          "FLOWER GLASS GARLAND NECKL.36\"BLACK",
          "FLOWER GLASS GARLAND NECKL.36\"BLUE",
          "FLOWER GLASS GARLAND NECKL.36\"GREEN",
          "FLOWER GLASS GARLD NECKL36\"AMETHYST",
          "FLOWER GLASS GARLD NECKL36\"TURQUOIS",
          "FLOWER PURPLE CLOCK W/SUCKER",
          "FLOWER SHOP DESIGN MUG",
          "FLOWER VINE RAFFIA FOOD COVER",
          "FLOWERS  STICKERS",
          "FLOWERS HANDBAG blue and orange",
          "FLOWERS TILE COASTER",
          "FLOWERS TILE HOOK",
          "FLUTED ANTIQUE CANDLE HOLDER",
          "FLYING PIG WATERING CAN",
          "FOLDING BUTTERFLY MIRROR HOT PINK ",
          "FOLDING BUTTERFLY MIRROR IVORY ",
          "FOLDING BUTTERFLY MIRROR RED  ",
          "FOLDING CAMPING SCISSOR W/KNIF & S",
          "FOLDING SHOE TIDY",
          "FOLDING UMBRELLA BLACKBLUE POLKADOT",
          "FOLDING UMBRELLA CHOCOLATE POLKADOT",
          "FOLDING UMBRELLA CREAM POLKADOT",
          "FOLDING UMBRELLA PINKWHITE POLKADOT",
          "FOLDING UMBRELLA RED/WHITE POLKADOT",
          "FOLDING UMBRELLA WHITE/RED POLKADOT",
          "FOLK ART GREETING CARD,pack/12",
          "FOLK ART METAL HEART T-LIGHT HOLDER",
          "FOLK ART METAL STAR T-LIGHT HOLDER",
          "FOLK FELT HANGING MULTICOL GARLAND",
          "FOLKART CHRISTMAS TREE T-LIGHT HOLD",
          "FOLKART CLIP ON STARS",
          "FOLKART HEART NAPKIN RINGS",
          "FOLKART STAR CHRISTMAS DECORATIONS",
          "FOLKART ZINC HEART CHRISTMAS DEC",
          "FOLKART ZINC STAR CHRISTMAS DEC",
          "FOOD CONTAINER SET 3 LOVE HEART ",
          "FOOD COVER WITH BEADS , SET 2 SIZES",
          "FOOD/DRINK SPONGE STICKERS",
          "FOOT STOOL HOME SWEET HOME ",
          "FORKED CACTUS CANDLE",
          "FOUR HOOK  WHITE LOVEBIRDS",
          "FOUR RABBIT EASTER DECORATIONS",
          "FRAPPUCINO SCARF KNITTING KIT",
          "FREESTYLE CANVAS ART PICTURE",
          "FRENCH BATHROOM SIGN BLUE METAL",
          "FRENCH BLUE METAL DOOR SIGN 0",
          "FRENCH BLUE METAL DOOR SIGN 1",
          "FRENCH BLUE METAL DOOR SIGN 2",
          "FRENCH BLUE METAL DOOR SIGN 3",
          "FRENCH BLUE METAL DOOR SIGN 4",
          "FRENCH BLUE METAL DOOR SIGN 5",
          "FRENCH BLUE METAL DOOR SIGN 6",
          "FRENCH BLUE METAL DOOR SIGN 7",
          "FRENCH BLUE METAL DOOR SIGN 8",
          "FRENCH BLUE METAL DOOR SIGN 9",
          "FRENCH BLUE METAL DOOR SIGN No",
          "FRENCH CARRIAGE LANTERN",
          "FRENCH CHATEAU LARGE FRUIT BOWL ",
          "FRENCH CHATEAU LARGE PLATTER ",
          "FRENCH CHATEAU OVAL PLATTER",
          "FRENCH CHATEAU SMALL FRUITBOWL",
          "FRENCH ENAMEL CANDLEHOLDER",
          "FRENCH ENAMEL POT W LID",
          "FRENCH ENAMEL UTENSIL HOLDER",
          "FRENCH ENAMEL WATER BASIN",
          "FRENCH FLORAL CUSHION COVER ",
          "FRENCH GARDEN SIGN BLUE METAL",
          "FRENCH KITCHEN SIGN BLUE METAL",
          "FRENCH LATTICE CUSHION COVER ",
          "FRENCH LAUNDRY SIGN BLUE METAL",
          "FRENCH LAVENDER SCENT HEART",
          "FRENCH PAISLEY CUSHION COVER",
          "FRENCH PAISLEY CUSHION COVER ",
          "FRENCH STYLE EMBOSSED HEART CABINET",
          "FRENCH STYLE STORAGE JAR BONBONS",
          "FRENCH STYLE STORAGE JAR CAFE ",
          "FRENCH STYLE STORAGE JAR JAM",
          "FRENCH TOILET SIGN BLUE METAL",
          "FRENCH WC SIGN BLUE METAL",
          "FRESHWATER PEARL BRACELET GOLD",
          "FRIDGE MAGNETS LA VIE EN ROSE",
          "FRIDGE MAGNETS LES ENFANTS ASSORTED",
          "FRIDGE MAGNETS US DINER ASSORTED",
          "FROG CANDLE",
          "FROG KING WATERING CAN",
          "FROG SOCK PUPPET",
          "FROSTED WHITE BASE ",
          "FRUIT SALAD BAG CHARM",
          "FRUIT TREE AND BIRDS WALL PLAQUE",
          "FRYING PAN BLUE POLKADOT",
          "FRYING PAN PINK POLKADOT",
          "FRYING PAN RED POLKADOT ",
          "FRYING PAN UNION FLAG",
          "FULL ENGLISH BREAKFAST PLATE",
          "FUNKY DIVA PEN",
          "FUNKY FLOWER PICNIC BAG FOR 4",
          "FUNKY MONKEY CUSHION COVER",
          "FUNKY MONKEY GIFT BAG MEDIUM",
          "FUNKY MONKEY MUG",
          "FUNKY WASHING UP GLOVES ASSORTED",
          "FUSCHIA FLOWER PURSE WITH BEADS",
          "FUSCHIA RETRO BAR STOOL",
          "FUSCHIA TABLE RUN FLOWER ",
          "FUSCHIA VOILE POINTY SHOE DEC",
          "GAOLERS KEYS DECORATIVE GARDEN ",
          "GARAGE KEY FOB",
          "GARDEN METAL SIGN ",
          "GARDEN PATH JOURNAL",
          "GARDEN PATH NOTEBOOK ",
          "GARDEN PATH POCKET BOOK",
          "GARDEN PATH SKETCHBOOK",
          "GARDENERS KNEELING PAD CUP OF TEA ",
          "GARDENERS KNEELING PAD KEEP CALM ",
          "GARDENIA 1 WICK MORRIS BOXED CANDLE",
          "GARDENIA 3 WICK MORRIS BOXED CANDLE",
          "GARLAND WITH HEARTS AND BELLS",
          "GARLAND WITH STARS AND BELLS",
          "GARLAND WOODEN HAPPY EASTER",
          "GARLAND, MAGIC GARDEN 1.8M",
          "GARLAND, VINTAGE BELLS",
          "GENTLEMAN SHIRT REPAIR KIT ",
          "GEORGIAN TRINKET BOX",
          "GIANT 50'S CHRISTMAS CRACKER",
          "GIANT MEDINA STAMPED METAL BOWL ",
          "GIFT BAG BIRTHDAY",
          "GIFT BAG LARGE VINTAGE CHRISTMAS",
          "GIFT BAG PSYCHEDELIC APPLES",
          "GIN & TONIC DIET GREETING CARD ",
          "GIN + TONIC DIET METAL SIGN",
          "GIN AND TONIC MUG",
          "GINGERBREAD MAN COOKIE CUTTER",
          "GINGHAM BABUSHKA DOORSTOP",
          "GINGHAM HEART  DOORSTOP RED",
          "GINGHAM OVEN GLOVE RED HEART ",
          "GINGHAM RECIPE BOOK BOX",
          "GINGHAM ROSE WRAP",
          "GIRAFFE WOODEN RULER",
          "GIRLS ALPHABET IRON ON PATCHES ",
          "GIRLS VINTAGE TIN SEASIDE BUCKET",
          "GIRLY PINK TOOL SET",
          "GLAMOROUS  MUG",
          "GLASS  BEURRE DISH",
          "GLASS  SONGBIRD STORAGE JAR",
          "GLASS AND BEADS BRACELET IVORY",
          "GLASS AND PAINTED BEADS BRACELET OL",
          "GLASS AND PAINTED BEADS BRACELET TO",
          "GLASS APOTHECARY BOTTLE ELIXIR",
          "GLASS APOTHECARY BOTTLE PERFUME",
          "GLASS APOTHECARY BOTTLE TONIC",
          "GLASS BEAD HOOP EARRINGS AMETHYST",
          "GLASS BEAD HOOP EARRINGS BLACK",
          "GLASS BEAD HOOP NECKLACE AMETHYST",
          "GLASS BEAD HOOP NECKLACE BLACK",
          "GLASS BEAD HOOP NECKLACE GREEN",
          "GLASS BEAD HOOP NECKLACE MONTANA",
          "GLASS BELL JAR LARGE",
          "GLASS BELL JAR SMALL",
          "GLASS BON BON JAR",
          "GLASS BONNE JAM JAR",
          "GLASS CAKE COVER AND PLATE",
          "GLASS CHALICE BLUE SMALL ",
          "GLASS CHALICE GREEN  LARGE ",
          "GLASS CHALICE GREEN  SMALL ",
          "GLASS HEART T-LIGHT HOLDER ",
          "GLASS JAR DAISY FRESH COTTON WOOL",
          "GLASS JAR DIGESTIVE BISCUITS",
          "GLASS JAR ENGLISH CONFECTIONERY",
          "GLASS JAR KINGS CHOICE",
          "GLASS JAR MARMALADE ",
          "GLASS JAR PEACOCK BATH SALTS",
          "GLASS SPHERE CANDLE STAND MEDIUM",
          "GLASS STAR FROSTED T-LIGHT HOLDER",
          "GLASS TWIST BON BON JAR",
          "GLITTER BUTTERFLY CLIPS",
          "GLITTER CHRISTMAS HEART ",
          "GLITTER CHRISTMAS STAR ",
          "GLITTER CHRISTMAS TREE",
          "GLITTER CHRISTMAS TREE WITH BELLS",
          "GLITTER HANGING BUTTERFLY STRING",
          "GLITTER HEART GARLAND WITH BELLS ",
          "GLITTER SNOW PEAR TREE DECORATION",
          "GLITTER STAR GARLAND WITH BELLS ",
          "GLOW IN DARK DOLPHINS",
          "GOLD APERITIF GLASS",
          "GOLD COSMETIC BAG PINK STAR",
          "GOLD DIAMANTE STAR BROOCH",
          "GOLD EAR MUFF HEADPHONES",
          "GOLD FABRIC MIRROR",
          "GOLD FISHING GNOME",
          "GOLD FLOWER CUSHION COVER ",
          "GOLD M PEARL  ORBIT NECKLACE",
          "GOLD M.O.P ORBIT BRACELET",
          "GOLD M.O.P ORBIT DROP EARRINGS",
          "GOLD MINI TAPE MEASURE ",
          "GOLD MUG BONE CHINA TREE OF LIFE",
          "GOLD PHOTO FRAME",
          "GOLD PRINT PAPER BAG",
          "GOLD SCROLL GLASS T-LIGHT HOLDER",
          "GOLD STANDING GNOME",
          "GOLD TEDDY BEAR",
          "GOLD WASHBAG",
          "GOLD WINE GOBLET",
          "GOLD/AMBER DROP EARRINGS W LEAF",
          "GOLD/M.O.P PENDANT ORBIT NECKLACE",
          "GOLDIE LOOKING MIRROR",
          "GRAND CHOCOLATECANDLE",
          "GRASS HOPPER WOODEN WALL CLOCK ",
          "GREEN  DIAMANTE PEN IN GIFT BOX",
          "GREEN BIRDHOUSE DECORATION",
          "GREEN BITTY LIGHT CHAIN",
          "GREEN CAT FLORAL CUSHION COVER ",
          "GREEN CHRISTMAS TREE CARD HOLDER",
          "GREEN CHRISTMAS TREE STRING 20LIGHT",
          "GREEN DRAWER KNOB ACRYLIC EDWARDIAN",
          "GREEN DROP EARRINGS W BEAD CLUSTER",
          "GREEN EASTER EGG HUNT START POST",
          "GREEN ENAMEL FLOWER HAIR TIE",
          "GREEN ENAMEL FLOWER RING",
          "GREEN ENAMEL+GLASS HAIR COMB",
          "GREEN FERN JOURNAL ",
          "GREEN FERN NOTEBOOK",
          "GREEN FERN POCKET BOOK",
          "GREEN FERN SKETCHBOOK ",
          "GREEN GEISHA GIRL ",
          "GREEN GIANT GARDEN THERMOMETER",
          "GREEN GLASS TASSLE BAG CHARM",
          "GREEN GOOSE FEATHER CHRISTMAS TREE ",
          "GREEN GOOSE FEATHER TREE 60CM",
          "GREEN HEART COMPACT MIRROR",
          "GREEN HEART OF GLASS BRACELET",
          "GREEN JUICY FRUIT PHOTO FRAME",
          "GREEN METAL BOX ARMY SUPPLIES",
          "GREEN METAL SWINGING BUNNY",
          "GREEN MURANO TWIST BRACELET",
          "GREEN MURANO TWIST NECKLACE",
          "GREEN PAIR HEART HAIR SLIDES",
          "GREEN PENDANT TRIPLE SHELL NECKLACE",
          "GREEN PEONY CUSHION COVER",
          "GREEN POLKADOT BOWL",
          "GREEN POLKADOT PLATE ",
          "GREEN POP ART MAO CUSHION COVER ",
          "GREEN REGENCY TEACUP AND SAUCER",
          "GREEN ROSE WASHBAG",
          "GREEN ROUND COMPACT MIRROR",
          "GREEN SQUARE COMPACT MIRROR",
          "GREEN SWEETHEART BRACELET",
          "GREEN VINTAGE EARRINGS ",
          "GREEN VINTAGE SPOT BEAKER",
          "GREEN WIRE STANDING CANDLE HOLDER",
          "GREEN WITH METAL BAG CHARM",
          "GREEN/BLUE CERAMIC CANDLE HOLDER",
          "GREEN/BLUE FLOWER DESIGN BIG MUG",
          "GREETING CARD, OVERCROWDED POOL.",
          "GREETING CARD, STICKY GORDON",
          "GREETING CARD, TWO SISTERS.",
          "GREETING CARD,SQUARE, DOUGHNUTS",
          "GREY ACRYLIC FACETED BANGLE",
          "GREY FLORAL FELTCRAFT SHOULDER BAG",
          "GREY HEART HOT WATER BOTTLE",
          "GROOVY CACTUS INFLATABLE",
          "GROW A FLYTRAP OR SUNFLOWER IN TIN",
          "GROW YOUR OWN BASIL IN ENAMEL MUG",
          "GROW YOUR OWN FLOWERS SET OF 3",
          "GROW YOUR OWN HERBS SET OF 3",
          "GROW YOUR OWN PLANT IN A CAN ",
          "GUMBALL COAT RACK",
          "GUMBALL MAGAZINE RACK",
          "GUMBALL MONOCHROME COAT RACK",
          "GYMKHANA TREASURE BOOK BOX",
          "HAIRCLIPS FORTIES FABRIC ASSORTED",
          "HALL CABINET WITH 3 DRAWERS",
          "HAND OPEN SHAPE DECO.WHITE",
          "HAND OPEN SHAPE GOLD",
          "HAND OVER THE CHOCOLATE   SIGN ",
          "HAND PAINTED HANGING EASTER EGG",
          "HAND TOWEL PALE BLUE W FLOWERS",
          "HAND TOWEL PINK FLOWER AND DAISY",
          "HAND WARMER BABUSHKA DESIGN",
          "HAND WARMER BIRD DESIGN",
          "HAND WARMER OWL DESIGN",
          "HAND WARMER RED LOVE HEART",
          "HAND WARMER RED POLKA DOT",
          "HAND WARMER SCOTTY DOG DESIGN",
          "HAND WARMER UNION JACK",
          "HANGING  BUTTERFLY T-LIGHT HOLDER",
          "HANGING BAUBLE T-LIGHT HOLDER LARGE",
          "HANGING BAUBLE T-LIGHT HOLDER SMALL",
          "HANGING BUTTERFLY  EGG",
          "HANGING CHICK  YELLOW DECORATION",
          "HANGING CHICK CREAM DECORATION",
          "HANGING CHICK GREEN DECORATION",
          "HANGING CLEAR MINI BOTTLE",
          "HANGING ENGRAVED METAL HEART",
          "HANGING FAIRY CAKE DECORATION",
          "HANGING GLASS ETCHED TEALIGHT",
          "HANGING HEART BASKET",
          "HANGING HEART BONHEUR",
          "HANGING HEART JAR T-LIGHT HOLDER",
          "HANGING HEART MIRROR DECORATION ",
          "HANGING HEART ZINC T-LIGHT HOLDER",
          "HANGING JAM JAR T-LIGHT HOLDER",
          "HANGING MEDINA LANTERN SMALL",
          "HANGING METAL CHICKEN DECORATION",
          "HANGING METAL HEART LANTERN",
          "HANGING METAL RABBIT DECORATION",
          "HANGING METAL STAR LANTERN",
          "HANGING MINI COLOURED BOTTLES",
          "HANGING PHOTO CLIP ROPE LADDER",
          "HANGING QUILTED PATCHWORK APPLES",
          "HANGING RIDGE GLASS T-LIGHT HOLDER",
          "HANGING SPRING FLOWER EGG LARGE",
          "HANGING SPRING FLOWER EGG SMALL",
          "HANGING WOOD AND FELT BUTTERFLY ",
          "HANGING WOOD AND FELT FLOWER",
          "HANGING WOOD AND FELT HEART",
          "HAPPY BIRTHDAY CARD STRIPEY TEDDY",
          "HAPPY BIRTHDAY CARD TEDDY/CAKE",
          "HAPPY EASTER HANGING DECORATION",
          "HAPPY STENCIL CRAFT",
          "HARDMAN MUG 3 ASSORTED",
          "HAWAIIAN GRASS SKIRT ",
          "HEADS AND TAILS SPORTING FUN",
          "HEART BEADED TRELLIS DECORATION",
          "HEART BUTTONS JEWELLERY BOX",
          "HEART CALCULATOR",
          "HEART DECORATION PAINTED ZINC ",
          "HEART DECORATION RUSTIC HANGING ",
          "HEART DECORATION WITH PEARLS ",
          "HEART FILIGREE DOVE  SMALL",
          "HEART FILIGREE DOVE LARGE",
          "HEART GARLAND RUSTIC PADDED",
          "HEART IVORY TRELLIS LARGE",
          "HEART IVORY TRELLIS SMALL",
          "HEART MINI PORTRAIT FRAME",
          "HEART MIRROR ANTIQUE WHITE",
          "HEART OF WICKER LARGE",
          "HEART OF WICKER SMALL",
          "HEART SHAPE WIRELESS DOORBELL",
          "HEART SHAPED HOLLY WREATH",
          "HEART SHAPED MIRROR",
          "HEART STRING MEMO HOLDER HANGING",
          "HEART T-LIGHT HOLDER",
          "HEART T-LIGHT HOLDER ",
          "HEART T-LIGHT HOLDER WILLIE WINKIE",
          "HEART TRELLIS TRIPLE T-LIGHT HOLDER",
          "HEART WOODEN CHRISTMAS DECORATION",
          "HEART WREATH DECORATION WITH BELL",
          "HEARTS  STICKERS",
          "HEARTS GIFT TAPE",
          "HEARTS WRAPPING TAPE ",
          "HEAVENS SCENT FRAGRANCE OILS ASSTD",
          "HELLO SAILOR BATHROOM SET",
          "HELLO SAILOR BLUE SOAP HOLDER",
          "HEN HOUSE DECORATION",
          "HEN HOUSE W CHICK IN NEST",
          "HEN HOUSE W CHICK STANDING",
          "HEN HOUSE W FAMILY IN BARN & NEST",
          "HEN PARTY CORDON BARRIER TAPE",
          "HENRIETTA HEN MUG ",
          "HERB MARKER BASIL",
          "HERB MARKER CHIVES ",
          "HERB MARKER MINT",
          "HERB MARKER PARSLEY",
          "HERB MARKER ROSEMARY",
          "HERB MARKER THYME",
          "HI TEC ALPINE HAND WARMER",
          "HILDA CANDY SPOT RABBIT",
          "HIPPY CHIC DECORATIVE PARASOL",
          "HOLIDAY FUN LUDO",
          "HOLLY TOP CHRISTMAS STOCKING",
          "HOME BUILDING BLOCK WORD",
          "HOME GARLAND PAINTED ZINC ",
          "HOME SMALL WOOD LETTERS",
          "HOME SWEEET HOME 3 PEG HANGER ",
          "HOME SWEET HOME 2 DRAWER CABINET",
          "HOME SWEET HOME BLACKBOARD",
          "HOME SWEET HOME BOTTLE ",
          "HOME SWEET HOME CUSHION COVER ",
          "HOME SWEET HOME HANGING HEART",
          "HOME SWEET HOME HOOK",
          "HOME SWEET HOME KEY HOLDER",
          "HOME SWEET HOME METAL SIGN ",
          "HOME SWEET HOME MUG",
          "HOMEMADE JAM SCENTED CANDLES",
          "HOOK, 1 HANGER ,MAGIC GARDEN",
          "HORSE & PONY WALL ART",
          "HOT BATHS METAL SIGN",
          "HOT BATHS SOAP HOLDER",
          "HOT STUFF HOT WATER BOTTLE",
          "HOT WATER BOTTLE BABUSHKA ",
          "HOT WATER BOTTLE I AM SO POORLY",
          "HOT WATER BOTTLE KEEP CALM",
          "HOT WATER BOTTLE SEX BOMB",
          "HOT WATER BOTTLE TEA AND SYMPATHY",
          "HOUSE SHAPE PENCIL SHARPENER",
          "HOUSE WRECKING METAL SIGN ",
          "HYACINTH BULB T-LIGHT CANDLES",
          "High Resolution Image",
          "I CAN ONLY PLEASE ONE PERSON MUG",
          "I LOVE LONDON BABY GIFT SET",
          "I LOVE LONDON BEAKER",
          "I LOVE LONDON WALL ART",
          "I'M ON HOLIDAY METAL SIGN",
          "ICE CREAM BUBBLES",
          "ICE CREAM DESIGN GARDEN PARASOL",
          "ICE CREAM PEN LIP GLOSS ",
          "ICE CREAM SUNDAE LIP GLOSS",
          "ICON MUG REVOLUTIONARY",
          "ICON PLACEMAT POP ART ELVIS",
          "IF YOU CAN'T STAND THE HEAT MUG",
          "ILLUSTRATED CAT BOWL ",
          "INCENSE BAZAAR PEACH",
          "INFLATABLE POLITICAL GLOBE ",
          "IVORY CAFE HANGING LAMP ",
          "IVORY CHANDELIER T-LIGHT HOLDER",
          "IVORY DINER WALL CLOCK",
          "IVORY EMBROIDERED QUILT ",
          "IVORY ENCHANTED FOREST PLACEMAT",
          "IVORY GIANT GARDEN THERMOMETER",
          "IVORY GOLD METAL BAG CHARM",
          "IVORY HANGING DECORATION  BIRD",
          "IVORY HANGING DECORATION  EGG",
          "IVORY HANGING DECORATION  HEART",
          "IVORY KITCHEN SCALES",
          "IVORY KNITTED MUG COSY ",
          "IVORY LOVE BIRD CANDLE",
          "IVORY PAPER CUP CAKE CASES ",
          "IVORY PENDANT TRIPLE SHELL NECKLACE",
          "IVORY PILLAR CANDLE GOLD FLOCK",
          "IVORY PILLAR CANDLE SILVER FLOCK",
          "IVORY REFECTORY CLOCK",
          "IVORY RETRO KITCHEN WALL CLOCK",
          "IVORY SCULPTED RND CANDLE ",
          "IVORY SHELL HEART EARRINGS",
          "IVORY SHELL HEART NECKLACE",
          "IVORY STRING CURTAIN WITH POLE ",
          "IVORY SWEETHEART SOAP DISH",
          "IVORY SWEETHEART WIRE LETTER RACK ",
          "IVORY WICKER HEART LARGE",
          "IVORY WICKER HEART MEDIUM",
          "IVORY WICKER HEART SMALL",
          "IVORY WIRE KITCHEN ORGANISER",
          "IVORY WIRE SWEETHEART LETTER TRAY",
          "IVY HEART WREATH",
          "JADE CRYSTAL+GLASS BRACELET",
          "JADE DROP EARRINGS W FILIGREE",
          "JAM CLOCK MAGNET",
          "JAM JAR WITH BLUE LID",
          "JAM JAR WITH PINK LID",
          "JAM MAKING SET PRINTED",
          "JAM MAKING SET WITH JARS",
          "JARDIN ETCHED GLASS BUTTER DISH",
          "JARDIN ETCHED GLASS FRUITBOWL",
          "JARDIN ETCHED GLASS LARGE BELL JAR",
          "JARDIN ETCHED GLASS SMALL BELL JAR",
          "JASMINE VOTIVE CANDLE",
          "JAZZ HEARTS ADDRESS BOOK",
          "JAZZ HEARTS PURSE NOTEBOOK",
          "JET BLACK LAS VEGAS BRACELET ROUND",
          "JET BLACK LAS VEGAS NECKLACE 45CM",
          "JIGSAW RABBIT AND BIRDHOUSE",
          "JIGSAW TOADSTOOLS 3 PIECE",
          "JIGSAW TREE WITH BIRDHOUSE",
          "JIGSAW TREE WITH WATERING CAN",
          "JINGLE BELL HEART ANTIQUE SILVER",
          "JINGLE BELLS TREE DECORATION",
          "JOY LARGE WOOD LETTERS",
          "JOY WOODEN BLOCK LETTERS",
          "JUMBO  BAG BAROQUE BLACK WHITE",
          "JUMBO BAG 50'S CHRISTMAS ",
          "JUMBO BAG ALPHABET",
          "JUMBO BAG APPLES",
          "JUMBO BAG CHARLIE AND LOLA TOYS",
          "JUMBO BAG DOILEY PATTERNS",
          "JUMBO BAG DOLLY GIRL DESIGN",
          "JUMBO BAG OWLS",
          "JUMBO BAG PAISLEY PARK",
          "JUMBO BAG PEARS",
          "JUMBO BAG PINK POLKADOT",
          "JUMBO BAG PINK VINTAGE PAISLEY",
          "JUMBO BAG RED RETROSPOT",
          "JUMBO BAG SCANDINAVIAN BLUE PAISLEY",
          "JUMBO BAG SPACEBOY DESIGN",
          "JUMBO BAG STRAWBERRY",
          "JUMBO BAG TOYS ",
          "JUMBO BAG VINTAGE CHRISTMAS ",
          "JUMBO BAG VINTAGE LEAF",
          "JUMBO BAG WOODLAND ANIMALS",
          "JUMBO SHOPPER VINTAGE RED PAISLEY",
          "JUMBO STORAGE BAG SKULLS",
          "JUMBO STORAGE BAG SUKI",
          "JUNGLE POPSICLES ICE LOLLY HOLDERS",
          "KEEP CALM BIRTHDAY WRAP",
          "KEEP CALM WALL ART ",
          "KEEP OUT BOYS DOOR HANGER ",
          "KENSINGTON COFFEE SET",
          "KEY CABINET MA CAMPAGNE",
          "KEY FOB , BACK DOOR ",
          "KEY FOB , FRONT  DOOR ",
          "KEY FOB , SHED",
          "KEY RING BASEBALL BOOT ASSORTED ",
          "KEY RING BASEBALL BOOT UNION JACK",
          "KIDS RAIN MAC BLUE",
          "KIDS RAIN MAC PINK",
          "KINGS CHOICE BISCUIT TIN",
          "KINGS CHOICE GIANT TUBE MATCHES",
          "KINGS CHOICE MUG",
          "KINGS CHOICE TEA CADDY ",
          "KITCHEN FLOWER POTS WALL PLAQUE",
          "KITCHEN METAL SIGN",
          "KITTENS DESIGN FLANNEL",
          "KITTY PENCIL ERASERS",
          "KNEELING MAT HOUSEWORK  DESIGN",
          "KNICKERBOCKERGLORY MAGNET ASSORTED ",
          "KNITTED RABBIT DOLL ",
          "KNITTED UNION FLAG HOT WATER BOTTLE",
          "LA PALMIERA TILE COASTER",
          "LA PALMIERA TILE HOOK",
          "LA PALMIERA WALL THERMOMETER",
          "LADIES & GENTLEMEN METAL SIGN",
          "LADLE LOVE HEART PINK",
          "LADLE LOVE HEART RED ",
          "LADS ONLY TISSUE BOX",
          "LADYBIRD + BEE RAFFIA FOOD COVER",
          "LANDMARK FRAME BAKER STREET ",
          "LANDMARK FRAME CAMDEN TOWN ",
          "LANDMARK FRAME COVENT GARDEN ",
          "LANDMARK FRAME LONDON BRIDGE ",
          "LANDMARK FRAME NOTTING HILL ",
          "LANDMARK FRAME OXFORD STREET",
          "LANTERN CREAM GAZEBO ",
          "LARGE  TALL CAMPHOR WOOD TOADSTOOL ",
          "LARGE ANTIQUE WHITE PHOTO FRAME",
          "LARGE APOTHECARY MEASURING JAR ",
          "LARGE BLACK DIAMANTE HAIRSLIDE",
          "LARGE BLUE PROVENCAL CERAMIC BALL",
          "LARGE BONNE JAM JAR  T-LIGHT HOLDER",
          "LARGE CAKE STAND  HANGING STRAWBERY",
          "LARGE CAKE STAND HANGING HEARTS",
          "LARGE CAKE TOWEL CHOCOLATE SPOTS",
          "LARGE CAKE TOWEL PINK SPOTS",
          "LARGE CAMPHOR WOOD FIELD MUSHROOM ",
          "LARGE CERAMIC TOP STORAGE JAR",
          "LARGE CHINESE STYLE SCISSOR",
          "LARGE CIRCULAR MIRROR MOBILE",
          "LARGE CRYSTAL DIAMANTE HAIRSLIDE",
          "LARGE DECO JEWELLERY STAND",
          "LARGE HANGING IVORY & RED WOOD BIRD",
          "LARGE HEART MEASURING SPOONS",
          "LARGE IVORY HEART WALL ORGANISER",
          "LARGE MEDINA STAMPED METAL BOWL ",
          "LARGE MINT DIAMANTE HAIRSLIDE",
          "LARGE PARLOUR FRAME",
          "LARGE PINK GLASS SUNDAE DISH",
          "LARGE POPCORN HOLDER ",
          "LARGE PURPLE BABUSHKA NOTEBOOK  ",
          "LARGE RED BABUSHKA NOTEBOOK ",
          "LARGE RED RETROSPOT WINDMILL",
          "LARGE ROUND WICKER PLATTER ",
          "LARGE SKULL WINDMILL",
          "LARGE STRIPES CHOCOLATE GIFT BAG",
          "LARGE TORTILLA DESIGN RED BOWL",
          "LARGE WHITE HEART OF WICKER",
          "LARGE WHITE HONEYCOMB PAPER BELL  ",
          "LARGE WHITE/PINK ROSE ART FLOWER",
          "LARGE YELLOW BABUSHKA NOTEBOOK ",
          "LARGE ZINC GLASS CANDLEHOLDER",
          "LARGE ZINC HEART WALL ORGANISER",
          "LASER CUT MULTI STRAND NECKLACE",
          "LAUNDRY 15C METAL SIGN",
          "LAUREL HEART ANTIQUE GOLD",
          "LAUREL HEART ANTIQUE SILVER",
          "LAUREL STAR ANTIQUE GOLD",
          "LAUREL STAR ANTIQUE SILVER ",
          "LAVENDER INCENSE 40 CONES IN TIN",
          "LAVENDER INCENSE IN TIN",
          "LAVENDER SCENT CAKE CANDLE",
          "LAVENDER SCENTED FABRIC HEART",
          "LAVENDER TOILETTE BOTTLE",
          "LAZER CUT NECKLACE W PASTEL BEADS",
          "LE GRAND TRAY CHIC SET",
          "LEAVES MAGNETIC  SHOPPING LIST",
          "LED TEA LIGHTS",
          "LETS GO SHOPPING COTTON TOTE BAG",
          "LETTER \"A\" BLING KEY RING",
          "LETTER \"B\" BLING KEY RING",
          "LETTER \"C\" BLING KEY RING",
          "LETTER \"D\" BLING KEY RING",
          "LETTER \"E\" BLING KEY RING",
          "LETTER \"F\" BLING KEY RING",
          "LETTER \"G\" BLING KEY RING",
          "LETTER \"H\" BLING KEY RING",
          "LETTER \"I\" BLING KEY RING",
          "LETTER \"J\" BLING KEY RING",
          "LETTER \"K\" BLING KEY RING",
          "LETTER \"L\" BLING KEY RING",
          "LETTER \"M\" BLING KEY RING",
          "LETTER \"N\" BLING KEY RING",
          "LETTER \"O\" BLING KEY RING",
          "LETTER \"P\" BLING KEY RING",
          "LETTER \"R\" BLING KEY RING",
          "LETTER \"S\" BLING KEY RING",
          "LETTER \"T\" BLING KEY RING",
          "LETTER \"U\" BLING KEY RING",
          "LETTER \"V\" BLING KEY RING",
          "LETTER \"W\" BLING KEY RING",
          "LETTER \"Y\" BLING KEY RING",
          "LETTER \"Z\" BLING KEY RING",
          "LETTER HOLDER HOME SWEET HOME",
          "LETTER SHAPE PENCIL SHARPENER",
          "LIGHT DECORATION BATTERY OPERATED",
          "LIGHT GARLAND BUTTERFILES PINK",
          "LIGHT PINK FLOCK GLASS CANDLEHOLDER",
          "LIGHTHOUSE PRINTED METAL SIGN",
          "LILAC DIAMANTE PEN IN GIFT BOX",
          "LILAC FEATHERS CURTAIN",
          "LILAC GAUZE BUTTERFLY LAMPSHADE",
          "LILAC VOTIVE CANDLE",
          "LILY BROOCH AMETHYST COLOUR",
          "LILY BROOCH OLIVE COLOUR",
          "LIPSTICK PEN BABY PINK",
          "LIPSTICK PEN FUSCHIA",
          "LIPSTICK PEN RED",
          "LITTLE GREEN MONSTER SOFT TOY",
          "LITTLE PINK MONSTER SOFT TOY",
          "LOCAL CAFE MUG",
          "LOLITA  DESIGN  COTTON TOTE BAG",
          "LONDON BUS COFFEE MUG",
          "LONG SILVER NECKLACE PASTEL FLOWER",
          "LOVE BUILDING BLOCK WORD",
          "LOVE GARLAND PAINTED ZINC ",
          "LOVE HEART NAPKIN BOX ",
          "LOVE HEART POCKET WARMER",
          "LOVE HEART SOCK HANGER",
          "LOVE HEART TRINKET POT",
          "LOVE HOT WATER BOTTLE",
          "LOVE LARGE WOOD LETTERS ",
          "LOVE POTION MASALA INCENSE",
          "LOVE SEAT ANTIQUE WHITE METAL",
          "LOVEBIRD HANGING DECORATION WHITE ",
          "LOVELY BONBON STICKER SHEET",
          "LUNCH BAG  BLACK SKULL.",
          "LUNCH BAG ALPHABET DESIGN",
          "LUNCH BAG APPLE DESIGN",
          "LUNCH BAG CARS BLUE",
          "LUNCH BAG DOILEY PATTERN ",
          "LUNCH BAG DOLLY GIRL DESIGN",
          "LUNCH BAG PAISLEY PARK  ",
          "LUNCH BAG PINK POLKADOT",
          "LUNCH BAG RED RETROSPOT",
          "LUNCH BAG RED VINTAGE DOILY",
          "LUNCH BAG SPACEBOY DESIGN ",
          "LUNCH BAG SUKI  DESIGN ",
          "LUNCH BAG VINTAGE LEAF DESIGN",
          "LUNCH BAG WOODLAND",
          "LUNCH BOX I LOVE LONDON",
          "LUNCH BOX WITH CUTLERY FAIRY CAKES ",
          "LUNCH BOX WITH CUTLERY RETROSPOT ",
          "LUSH GREENS RIBBONS",
          "M/COLOUR POM-POM CURTAIN",
          "MA CAMPAGNE CUTLERY BOX",
          "MADRAS NOTEBOOK LARGE ",
          "MADRAS NOTEBOOK MEDIUM",
          "MAGAZINE RACK GEBRA ASSORTED ",
          "MAGIC DRAWING SLATE BAKE A CAKE ",
          "MAGIC DRAWING SLATE BUNNIES ",
          "MAGIC DRAWING SLATE CIRCUS PARADE  ",
          "MAGIC DRAWING SLATE DINOSAUR",
          "MAGIC DRAWING SLATE DOLLY GIRL ",
          "MAGIC DRAWING SLATE GO TO THE FAIR ",
          "MAGIC DRAWING SLATE LEAP FROG ",
          "MAGIC DRAWING SLATE PURDEY",
          "MAGIC DRAWING SLATE SPACEBOY ",
          "MAGIC SHEEP WOOL GROWING FROM PAPER",
          "MAGIC TREE -PAPER FLOWERS",
          "MAGNETS PACK OF 4 CHILDHOOD MEMORY",
          "MAGNETS PACK OF 4 HOME SWEET HOME",
          "MAGNETS PACK OF 4 RETRO PHOTO",
          "MAGNETS PACK OF 4 SWALLOWS",
          "MAGNETS PACK OF 4 VINTAGE COLLAGE",
          "MAGNETS PACK OF 4 VINTAGE LABELS ",
          "MAKE YOUR OWN FLOWERPOWER CARD KIT",
          "MAKE YOUR OWN MONSOON CARD KIT",
          "MAKE YOUR OWN PLAYTIME CARD KIT",
          "MAN FLU METAL SIGN",
          "MARIE ANTOIENETT TRINKET BOX GOLD",
          "MARIE ANTOINETTE TRINKET BOX SILVER",
          "MAXWELL 2 TONE BLUE 60 PAGE PHOTO A",
          "MEASURING TAPE BABUSHKA BLUE",
          "MEASURING TAPE BABUSHKA PINK",
          "MEASURING TAPE BABUSHKA RED",
          "MEDINA STAMPED METAL STOOL",
          "MEDIUM CERAMIC TOP STORAGE JAR",
          "MEDIUM CHINESE STYLE SCISSOR",
          "MEDIUM MEDINA STAMPED METAL BOWL ",
          "MEDIUM PARLOUR FRAME ",
          "MEDIUM PINK BUDDHA HEAD ",
          "MEDIUM WHITE/PINK ROSE ART FLOWER",
          "MEMO BOARD COTTAGE DESIGN",
          "MEMO BOARD RETROSPOT  DESIGN",
          "METAL 4 HOOK HANGER FRENCH CHATEAU",
          "METAL BASE FOR CANDLES",
          "METAL DECORATION NAUGHTY CHILDREN ",
          "METAL HERB GERDEN CONTAINER",
          "METAL MERRY CHRISTMAS WREATH",
          "METAL RABBIT LADDER EASTER ",
          "METAL SIGN CUPCAKE SINGLE HOOK",
          "METAL SIGN DROP YOUR PANTS",
          "METAL SIGN EMPIRE TEA",
          "METAL SIGN HER DINNER IS SERVED ",
          "METAL SIGN HIS DINNER IS SERVED",
          "METAL SIGN NEIGHBOURHOOD WITCH ",
          "METAL SIGN TAKE IT OR LEAVE IT ",
          "METAL SIGN,CUPCAKE SINGLE HOOK",
          "METAL TUBE CHIME ON BAMBOO",
          "METALIC LEAVES BAG CHARMS",
          "MIDNIGHT BLUE COPPER FLOWER NECKLAC",
          "MIDNIGHT BLUE CRYSTAL DROP EARRINGS",
          "MIDNIGHT BLUE DROP CRYSTAL NECKLACE",
          "MIDNIGHT BLUE GLASS/SILVER BRACELET",
          "MIDNIGHT BLUE PAIR HEART HAIR SLIDE",
          "MIDNIGHT BLUE VINTAGE EARRINGS",
          "MIDNIGHT GLAMOUR SCARF KNITTING KIT",
          "MILK BOTTLE WITH GLASS STOPPER ",
          "MILK MAIDS MUG ",
          "MILK PAN BLUE POLKADOT",
          "MILK PAN PINK POLKADOT",
          "MILK PAN RED RETROSPOT",
          "MINI  ZINC GARDEN DECORATIONS ",
          "MINI CAKE STAND  HANGING STRAWBERY",
          "MINI CAKE STAND T-LIGHT HOLDER",
          "MINI CAKE STAND WITH HANGING CAKES",
          "MINI FUNKY DESIGN TAPES",
          "MINI HIGHLIGHTER PENS",
          "MINI JIGSAW BAKE A CAKE ",
          "MINI JIGSAW BUNNIES",
          "MINI JIGSAW CIRCUS PARADE ",
          "MINI JIGSAW DINOSAUR ",
          "MINI JIGSAW DOLLY GIRL",
          "MINI JIGSAW GO TO THE FAIR",
          "MINI JIGSAW LEAP FROG",
          "MINI JIGSAW PURDEY",
          "MINI JIGSAW SPACEBOY",
          "MINI LIGHTS WOODLAND MUSHROOMS",
          "MINI PAINT SET VINTAGE ",
          "MINI PAINTED GARDEN DECORATION ",
          "MINI PLAYING CARDS BUFFALO BILL ",
          "MINI PLAYING CARDS DOLLY GIRL ",
          "MINI PLAYING CARDS FUN FAIR ",
          "MINI PLAYING CARDS GYMKHANA",
          "MINI PLAYING CARDS SPACEBOY ",
          "MINI WOODEN HAPPY BIRTHDAY GARLAND",
          "MINIATURE ANTIQUE ROSE HOOK IVORY",
          "MINT DINER CLOCK",
          "MINT GREEN ROSE TOWEL",
          "MINT KITCHEN SCALES",
          "MIRROR CORNICE",
          "MIRROR LOVE BIRD T-LIGHT HOLDER",
          "MIRROR MOSAIC CANDLE PLATE",
          "MIRROR MOSAIC GOBLET CANDLE HOLDER",
          "MIRROR MOSAIC HURRICANE LAMP ",
          "MIRROR MOSAIC T-LIGHT HOLDER ",
          "MIRROR MOSAIC T-LIGHT HOLDER ROUND",
          "MIRROR MOSAIC VOTIVE HOLDER",
          "MIRRORED DISCO BALL ",
          "MIRRORED DOVE WALL DECORATION",
          "MIRRORED WALL ART FOXY",
          "MIRRORED WALL ART GENTS",
          "MIRRORED WALL ART LADIES",
          "MIRRORED WALL ART PHOTO FRAMES",
          "MIRRORED WALL ART POPPIES",
          "MIRRORED WALL ART SKULLS",
          "MIRRORED WALL ART SNOWFLAKES",
          "MIRRORED WALL ART SPLODGES",
          "MIRRORED WALL ART STARS",
          "MIRRORED WALL ART TABLE LAMP",
          "MISELTOE HEART WREATH ",
          "MISELTOE HEART WREATH CREAM",
          "MIXED NUTS LIGHT GREEN BOWL",
          "MOBILE VINTAGE HEARTS ",
          "MOCK LOBSTER FRIDGE MAGNET",
          "MODERN FLORAL STATIONERY SET",
          "MODERN VINTAGE COTTON SHOPPING BAG",
          "MONEY BOX BISCUITS DESIGN",
          "MONEY BOX CONFECTIONERY DESIGN",
          "MONEY BOX FIRST ADE DESIGN",
          "MONEY BOX HOUSEKEEPING DESIGN",
          "MONEY BOX KINGS CHOICE DESIGN",
          "MONEY BOX POCKET MONEY DESIGN",
          "MONSTERS STENCIL CRAFT",
          "MONTANA DIAMOND CLUSTER EARRINGS",
          "MOODY BOY  DOOR HANGER ",
          "MOODY GIRL DOOR HANGER ",
          "MOP PENDANT SHELL NECKLACE",
          "MORE BUTTER METAL SIGN ",
          "MOROCCAN BEATEN METAL DISH",
          "MOROCCAN BEATEN METAL DISH LARGE",
          "MOROCCAN BEATEN METAL MIRROR",
          "MOROCCAN TEA GLASS",
          "MOTHER'S KITCHEN SPOON REST ",
          "MOTORING TISSUE BOX",
          "MOUSE TOY WITH PINK T-SHIRT",
          "MOUSEY LONG LEGS SOFT TOY",
          "MR ROBOT SOFT TOY",
          "MRS ROBOT SOFT TOY",
          "MULTI COLOUR SILVER T-LIGHT HOLDER",
          "MULTI HEARTS  STICKERS",
          "MULTICOLOUR  CONFETTI IN TUBE",
          "MULTICOLOUR 3D BALLS GARLAND",
          "MULTICOLOUR EASTER RABBIT ",
          "MULTICOLOUR HONEYCOMB FAN",
          "MULTICOLOUR HONEYCOMB PAPER GARLAND",
          "MULTICOLOUR POLKADOT PLATE",
          "MULTICOLOUR RABBIT EGG WARMER",
          "MULTICOLOUR SPRING FLOWER MUG",
          "MUM'S KITCHEN CLOCK",
          "MUMMY MOUSE RED GINGHAM RIBBON",
          "MURANO STYLE GLASS BRACELET BLACK",
          "MURANO STYLE GLASS BRACELET GOLD",
          "MURANO STYLE GLASS BRACELET RED",
          "N0 SINGING METAL SIGN",
          "NAMASTE SWAGAT INCENSE",
          "NATURAL HANGING QUILTED HEARTS ",
          "NATURAL SLATE CHALKBOARD LARGE ",
          "NATURAL SLATE HEART CHALKBOARD ",
          "NATURAL SLATE RECTANGLE CHALKBOARD",
          "NECKLACE+BRACELET PINK BUTTERFLY",
          "NECKLACE+BRACELET SET BLUE BLOSSOM",
          "NECKLACE+BRACELET SET BLUE HIBISCUS",
          "NECKLACE+BRACELET SET FRUIT SALAD ",
          "NECKLACE+BRACELET SET PINK DAISY",
          "NEW BAROQUE B'FLY NECKLACE CRYSTAL",
          "NEW BAROQUE B'FLY NECKLACE GREEN",
          "NEW BAROQUE B'FLY NECKLACE PINK",
          "NEW BAROQUE B'FLY NECKLACE RED",
          "NEW BAROQUE BLACK BOXES",
          "NEW BAROQUE BLACK PHOTO ALBUM",
          "NEW BAROQUE JEWELLERY BOX ",
          "NEW BAROQUE LARGE NECKLACE BLK/WHIT",
          "NEW BAROQUE SMALL NECKLACE BLACK",
          "NEW ENGLAND MUG W GIFT BOX",
          "NEWSPAPER STAND",
          "NINJA RABBIT BLACK",
          "NINJA RABBIT PINK",
          "NO JUNK MAIL METAL SIGN",
          "NOEL GARLAND PAINTED ZINC ",
          "NOEL WOODEN BLOCK LETTERS ",
          "NOVELTY BISCUITS CAKE STAND 3 TIER",
          "NUMBER TILE COTTAGE GARDEN 0 ",
          "NUMBER TILE COTTAGE GARDEN 1",
          "NUMBER TILE COTTAGE GARDEN 2",
          "NUMBER TILE COTTAGE GARDEN 3 ",
          "NUMBER TILE COTTAGE GARDEN 4",
          "NUMBER TILE COTTAGE GARDEN 5",
          "NUMBER TILE COTTAGE GARDEN 6",
          "NUMBER TILE COTTAGE GARDEN 7",
          "NUMBER TILE COTTAGE GARDEN 8",
          "NUMBER TILE COTTAGE GARDEN 9",
          "NUMBER TILE COTTAGE GARDEN No",
          "NUMBER TILE VINTAGE FONT 0",
          "NUMBER TILE VINTAGE FONT 1",
          "NUMBER TILE VINTAGE FONT 2",
          "NUMBER TILE VINTAGE FONT 3",
          "NUMBER TILE VINTAGE FONT 4",
          "NUMBER TILE VINTAGE FONT 5",
          "NUMBER TILE VINTAGE FONT 6 ",
          "NUMBER TILE VINTAGE FONT 7",
          "NUMBER TILE VINTAGE FONT 8",
          "NUMBER TILE VINTAGE FONT 9 ",
          "NUMBER TILE VINTAGE FONT No ",
          "NURSE'S BAG SOFT TOY",
          "NURSERY A,B,C PAINTED LETTERS",
          "Next Day Carriage",
          "OCEAN SCENT CANDLE IN JEWELLED BOX",
          "OCEAN STRIPE HAMMOCK ",
          "OFFICE MUG WARMER BLACK+SILVER ",
          "OFFICE MUG WARMER CHOC+BLUE",
          "OFFICE MUG WARMER PINK",
          "OFFICE MUG WARMER POLKADOT",
          "OLD DOC RUSSEL METAL SIGN",
          "OPEN CLOSED METAL SIGN",
          "OPIUM SCENTED VOTIVE CANDLE",
          "ORANGE FELT VASE + FLOWERS",
          "ORANGE FLOWER MUG ",
          "ORANGE PENDANT TRIPLE SHELL NECKLAC",
          "ORANGE SCENTED SET/9 T-LIGHTS",
          "ORANGE TV TRAY TABLE ",
          "ORANGE VOTIVE CANDLE",
          "ORANGE/WHT/FUSCHIA STONES NECKLACE",
          "ORGANISER WOOD ANTIQUE WHITE ",
          "ORIENTAL RED CUSHION COVER ",
          "ORIGAMI JASMINE INCENSE/CANDLE SET",
          "ORIGAMI LAVENDER INCENSE/CANDL SET ",
          "ORIGAMI OPIUM INCENSE/CANDLE SET ",
          "ORIGAMI ROSE INCENSE IN TUBE",
          "ORIGAMI ROSE INCENSE/CANDLE SET ",
          "ORIGAMI SANDLEWOOD INCENSE+FLOWER",
          "ORIGAMI SANDLEWOOD INCENSE/CAND SET",
          "ORIGAMI VANILLA INCENSE CONES",
          "ORIGAMI VANILLA INCENSE/CANDLE SET ",
          "OVAL  MINI PORTRAIT FRAME",
          "OVEN MITT APPLES DESIGN",
          "OVERNIGHT BAG VINTAGE ROSE PAISLEY",
          "OWL DOORSTOP",
          "OYSTER TRINKET BOX",
          "PACK 20 DOLLY PEGS",
          "PACK 20 ENGLISH ROSE PAPER NAPKINS",
          "PACK 3 BOXES BIRD PANETTONE ",
          "PACK 3 BOXES CHRISTMAS PANETTONE",
          "PACK 3 FIRE ENGINE/CAR PATCHES",
          "PACK 3 IRON ON DOG PATCHES",
          "PACK 4 FLOWER/BUTTERFLY PATCHES",
          "PACK 6 HEART/ICE-CREAM PATCHES",
          "PACK OF 12 50'S CHRISTMAS TISSUES",
          "PACK OF 12 BLUE PAISLEY TISSUES ",
          "PACK OF 12 CHRISTMAS FUN CARDS",
          "PACK OF 12 CIRCUS PARADE TISSUES ",
          "PACK OF 12 COLOURED PENCILS",
          "PACK OF 12 DOILEY TISSUES",
          "PACK OF 12 DOLLY GIRL TISSUES",
          "PACK OF 12 HEARTS DESIGN TISSUES ",
          "PACK OF 12 LONDON TISSUES ",
          "PACK OF 12 PAISLEY PARK TISSUES ",
          "PACK OF 12 PINK PAISLEY TISSUES ",
          "PACK OF 12 PINK POLKADOT TISSUES",
          "PACK OF 12 RED APPLE TISSUES",
          "PACK OF 12 RED RETROSPOT TISSUES ",
          "PACK OF 12 SKULL TISSUES",
          "PACK OF 12 SPACEBOY TISSUES",
          "PACK OF 12 STICKY BUNNIES",
          "PACK OF 12 SUKI TISSUES ",
          "PACK OF 12 TRADITIONAL CRAYONS",
          "PACK OF 12 VINTAGE CHRISTMAS TISSUE",
          "PACK OF 12 VINTAGE LEAF TISSUES ",
          "PACK OF 12 WOODLAND TISSUES ",
          "PACK OF 20 NAPKINS PANTRY DESIGN",
          "PACK OF 20 NAPKINS RED APPLES",
          "PACK OF 20 SKULL PAPER NAPKINS",
          "PACK OF 20 SPACEBOY NAPKINS",
          "PACK OF 6 BIRDY GIFT TAGS",
          "PACK OF 6 COCKTAIL PARASOL STRAWS",
          "PACK OF 6 HANDBAG GIFT BOXES",
          "PACK OF 6 LARGE FRUIT STRAWS ",
          "PACK OF 6 PANETTONE GIFT BOXES",
          "PACK OF 6 SANDCASTLE FLAGS ASSORTED",
          "PACK OF 6 SKULL PAPER CUPS",
          "PACK OF 6 SKULL PAPER PLATES",
          "PACK OF 6 SMALL FRUIT STRAWS",
          "PACK OF 6 SWEETIE GIFT BOXES",
          "PACK OF 60 DINOSAUR CAKE CASES",
          "PACK OF 60 MUSHROOM CAKE CASES",
          "PACK OF 60 PINK PAISLEY CAKE CASES",
          "PACK OF 60 SPACEBOY CAKE CASES",
          "PACK OF 72 RETROSPOT CAKE CASES",
          "PACK OF 72 SKULL CAKE CASES",
          "PACK/12 BLUE FOLKART CARDS",
          "PACKING CHARGE",
          "PAINT YOUR OWN CANVAS SET",
          "PAINT YOUR OWN EGGS IN CRATE",
          "PAINTED LIGHTBULB RAINBOW DESIGN",
          "PAINTED LIGHTBULB STAR+ MOON",
          "PAINTED METAL HEART WITH HOLLY BELL",
          "PAINTED METAL PEARS ASSORTED",
          "PAINTED METAL STAR WITH HOLLY BELLS",
          "PAINTED PINK RABBIT ",
          "PAINTED SEA SHELL METAL WINDCHIME",
          "PAINTED YELLOW WOODEN DAISY",
          "PAIR BUTTERFLY HAIR CLIPS",
          "PAIR OF ENAMEL BUTTERFLY HAIRCLIP",
          "PAIR OF PINK FLOWER CLUSTER SLIDE",
          "PAIR PADDED HANGERS PINK CHECK",
          "PAISLEY PARK CARD",
          "PAISLEY PATTERN  STICKERS",
          "PALE PINK/AMETHYST STONE NECKLACE",
          "PANDA AND BUNNIES STICKER SHEET",
          "PANTRY 3 HOOK ROLLING PIN HANGER",
          "PANTRY APPLE CORER",
          "PANTRY CHOPPING BOARD",
          "PANTRY HOOK BALLOON WHISK ",
          "PANTRY HOOK SPATULA",
          "PANTRY HOOK TEA STRAINER ",
          "PANTRY KITCHEN THERMOMETER ",
          "PANTRY MAGNETIC  SHOPPING LIST",
          "PANTRY PASTRY BRUSH",
          "PANTRY ROLLING PIN",
          "PANTRY SCRUBBING BRUSH",
          "PANTRY WASHING UP BRUSH",
          "PAPER BUNTING COLOURED LACE",
          "PAPER BUNTING PAISLEY PARK",
          "PAPER BUNTING RETROSPOT",
          "PAPER BUNTING VINTAGE PAISLEY",
          "PAPER BUNTING VINTAGE PARTY",
          "PAPER BUNTING WHITE LACE",
          "PAPER CHAIN KIT 50'S CHRISTMAS ",
          "PAPER CHAIN KIT EMPIRE",
          "PAPER CHAIN KIT LONDON",
          "PAPER CHAIN KIT RETROSPOT",
          "PAPER CHAIN KIT SKULLS ",
          "PAPER CHAIN KIT VINTAGE CHRISTMAS",
          "PAPER LANTERN 5 POINT SEQUIN STAR",
          "PAPER LANTERN 5 POINT STAR MOON ",
          "PAPER LANTERN 6 POINT SNOW STAR",
          "PAPER LANTERN 7 POINT SNOW STAR",
          "PAPER LANTERN 9 POINT DELUXE STAR",
          "PAPER LANTERN 9 POINT HOLLY STAR 23",
          "PAPER LANTERN 9 POINT HOLLY STAR 40",
          "PAPER LANTERN 9 POINT SNOW STAR",
          "PAPER POCKET TRAVELING FAN ",
          "PAPERWEIGHT CHILDHOOD MEMORIES",
          "PAPERWEIGHT HOME SWEET HOME",
          "PAPERWEIGHT KINGS CHOICE ",
          "PAPERWEIGHT SAVE THE PLANET",
          "PAPERWEIGHT VINTAGE COLLAGE",
          "PAPERWEIGHT VINTAGE PAISLEY",
          "PARISIENNE CURIO CABINET",
          "PARISIENNE JEWELLERY DRAWER ",
          "PARISIENNE KEY CABINET ",
          "PARISIENNE SEWING BOX",
          "PARTY BUNTING",
          "PARTY CHARMS 50 PIECES",
          "PARTY CONE CHRISTMAS DECORATION ",
          "PARTY CONES CANDY ASSORTED",
          "PARTY CONES CANDY DECORATION",
          "PARTY CONES CARNIVAL ASSORTED",
          "PARTY FOOD SHOPPER BAG",
          "PARTY INVITES BALLOON GIRL",
          "PARTY INVITES DINOSAURS",
          "PARTY INVITES FOOTBALL",
          "PARTY INVITES JAZZ HEARTS",
          "PARTY INVITES SPACEMAN",
          "PARTY INVITES WOODLAND",
          "PARTY METAL SIGN ",
          "PARTY PIZZA DISH BLUE POLKADOT",
          "PARTY PIZZA DISH GREEN POLKADOT",
          "PARTY PIZZA DISH PINK POLKADOT",
          "PARTY PIZZA DISH RED RETROSPOT",
          "PARTY TIME DESIGN FLANNEL",
          "PARTY TIME PENCIL ERASERS",
          "PASTEL BLUE PHOTO ALBUM ",
          "PASTEL COLOUR HONEYCOMB FAN",
          "PASTEL PINK PHOTO ALBUM ",
          "PEACE SMALL WOOD LETTERS",
          "PEACE WOODEN BLOCK LETTERS",
          "PEACH KNITTED HEN ",
          "PEARL & SHELL 42\"NECKL. GREEN",
          "PEARL & SHELL 42\"NECKL. IVORY",
          "PEARL AND CHERRY QUARTZ BRACLET",
          "PEARL CRYSTAL PUMPKIN T-LIGHT HLDR",
          "PEARLISED IVORY HEART LARGE ",
          "PEARLISED IVORY HEART SMALL ",
          "PEG BAG APPLE DESIGN",
          "PENCIL CASE LIFE IS BEAUTIFUL",
          "PENNY FARTHING BIRTHDAY CARD",
          "PENS ASSORTED FUNKY JEWELED ",
          "PENS ASSORTED FUNNY FACE",
          "PENS ASSORTED SPACEBALL",
          "PERIWINKLE T-LIGHT HOLDER",
          "PET MUG, GOLDFISH",
          "PETIT TRAY CHIC",
          "PHARMACIE FIRST AID TIN",
          "PHOTO CLIP LINE",
          "PHOTO CUBE",
          "PHOTO FRAME 3 CLASSIC HANGING",
          "PHOTO FRAME CORNICE",
          "PHOTO FRAME LINEN AND LACE LARGE",
          "PHOTO FRAME LINEN AND LACE SMALL",
          "PICNIC BASKET WICKER 60 PIECES",
          "PICNIC BASKET WICKER LARGE",
          "PICNIC BOXES SET OF 3 RETROSPOT ",
          "PICTURE DOMINOES",
          "PICTURE FRAME WOOD TRIPLE PORTRAIT",
          "PIECE OF CAMO STATIONERY SET",
          "PIG KEYRING WITH LIGHT & SOUND ",
          "PIG MUG IN TWO COLOUR DESIGNS",
          "PIGGY BANK RETROSPOT ",
          "PIN CUSHION BABUSHKA BLUE",
          "PIN CUSHION BABUSHKA PINK",
          "PIN CUSHION BABUSHKA RED",
          "PING MICROWAVE APRON",
          "PING! MICROWAVE PLATE",
          "PINK  HEART CONFETTI IN TUBE",
          "PINK  HEART SHAPE LOVE BUCKET ",
          "PINK  HONEYCOMB PAPER BALL ",
          "PINK  HONEYCOMB PAPER FAN",
          "PINK  POLKADOT CUP",
          "PINK  POLKADOT PLATE ",
          "PINK & WHITE BREAKFAST TRAY",
          "PINK & WHITE ROSEBUD RING",
          "PINK AND BLACK STRING CURTAIN",
          "PINK AND WHITE CHRISTMAS TREE 120CM",
          "PINK B'FLY C/COVER W BOBBLES",
          "PINK BABY BUNTING",
          "PINK BAROQUE FLOCK CANDLE HOLDER",
          "PINK BERTIE GLASS BEAD BAG CHARM",
          "PINK BITTY LIGHT CHAIN",
          "PINK BLUE FELT CRAFT TRINKET BOX",
          "PINK BOUDICCA LARGE BRACELET",
          "PINK BOUDOIR T-LIGHT HOLDER",
          "PINK BREAKFAST CUP AND SAUCER ",
          "PINK BUNNY EASTER EGG BASKET",
          "PINK BUTTERFLY CUSHION COVER ",
          "PINK BUTTERFLY WASHBAG",
          "PINK CANDYSTUFT ARTIFICIAL FLOWER",
          "PINK CAT BOWL",
          "PINK CAT FLORAL CUSHION COVER ",
          "PINK CHERRY BLOSSOM CUP & SAUCER",
          "PINK CHERRY LIGHTS",
          "PINK CHICK EGG WARMER + EGG CUP",
          "PINK CHRISTMAS FLOCK DROPLET ",
          "PINK CHRYSANTHEMUMS ART FLOWER",
          "PINK CLEAR GLASS CANDLE PLATE",
          "PINK CREAM FELT CRAFT TRINKET BOX ",
          "PINK CRYSTAL GUITAR PHONE CHARM",
          "PINK CRYSTAL SKULL PHONE CHARM",
          "PINK CRYSTAL+GLASS BRACELET",
          "PINK DAISY BAG CHARM",
          "PINK DIAMANTE PEN IN GIFT BOX",
          "PINK DINER WALL CLOCK",
          "PINK DISCO HANDBAG",
          "PINK DOG BOWL",
          "PINK DOG CANNISTER",
          "PINK DOUGHNUT TRINKET POT ",
          "PINK DRAWER KNOB ACRYLIC EDWARDIAN",
          "PINK EASTER HENS+FLOWER",
          "PINK ENAMEL FLOWER HAIR TIE",
          "PINK ENAMEL+GLASS HAIR COMB",
          "PINK FAIRY CAKE CHILDRENS APRON",
          "PINK FAIRY CAKE CUSHION COVER",
          "PINK FEATHERS CURTAIN",
          "PINK FELT EASTER EGG BASKET",
          "PINK FELT EASTER RABBIT GARLAND",
          "PINK FELT HANGING HEART W FLOWER",
          "PINK FLOCK GLASS CANDLEHOLDER",
          "PINK FLOCK PHOTO FRAME ",
          "PINK FLOCK SUEDE CUSHION COVER ",
          "PINK FLORAL FELTCRAFT SHOULDER BAG",
          "PINK FLOWER CROCHET FOOD COVER",
          "PINK FLOWER FABRIC PONY",
          "PINK FLOWERS RABBIT EASTER",
          "PINK FLUFFY CHRISTMAS DECORATION",
          "PINK FLY SWAT",
          "PINK FOXGLOVE ARTIIFCIAL FLOWER",
          "PINK GAUZE BUTTERFLY LAMPSHADE",
          "PINK GINGHAM CAT WITH SCARF",
          "PINK GLASS CANDLEHOLDER",
          "PINK GLASS TASSLE BAG CHARM ",
          "PINK GOOSE FEATHER TREE 60CM",
          "PINK GREEN EMBROIDERY COSMETIC BAG",
          "PINK HANGING GINGHAM EASTER HEN",
          "PINK HAPPY BIRTHDAY BUNTING",
          "PINK HAWAIIAN PICNIC HAMPER FOR 2",
          "PINK HEART DOTS HOT WATER BOTTLE",
          "PINK HEART OF GLASS BRACELET",
          "PINK HEART RED HANDBAG",
          "PINK HEART SHAPE EGG FRYING PAN",
          "PINK HEART SHAPE PHOTO FRAME",
          "PINK HEARTS LIGHT CHAIN ",
          "PINK HEARTS PAPER GARLAND",
          "PINK HORSE SOCK PUPPET",
          "PINK HYDRANGEA ART FLOWER",
          "PINK JEWELLED MIRROR TRINKET TRAY",
          "PINK JEWELLED PHOTO FRAME",
          "PINK JEWELLED PHOTO FRAME ",
          "PINK KNITTED EGG COSY",
          "PINK LOVE BIRD CANDLE",
          "PINK LOVE HEART SHAPE CUP",
          "PINK MARSHMALLOW SCARF KNITTING KIT",
          "PINK METAL CHICKEN HEART ",
          "PINK METAL SWINGING BUNNY",
          "PINK MONTE CARLO HANDBAG",
          "PINK MURANO TWIST NECKLACE",
          "PINK NEW BAROQUE FLOCK CANDLESTICK",
          "PINK NEW BAROQUECANDLESTICK CANDLE",
          "PINK OVAL JEWELLED MIRROR",
          "PINK OVAL SHAPE TRINKET BOX",
          "PINK OWL SOFT TOY",
          "PINK PADDED MOBILE",
          "PINK PAINTED KASHMIRI CHAIR",
          "PINK PAISLEY CUSHION COVER ",
          "PINK PAISLEY ROSE GIFT WRAP",
          "PINK PAISLEY SQUARE TISSUE BOX ",
          "PINK PAPER PARASOL ",
          "PINK PARTY BAGS",
          "PINK PARTY SUNGLASSES",
          "PINK PILLAR CANDLE SILVER FLOCK",
          "PINK POLKADOT BOWL",
          "PINK POLKADOT CHILDRENS UMBRELLA",
          "PINK POLKADOT GARDEN PARASOL",
          "PINK POLKADOT KIDS BAG",
          "PINK POLKADOT WRAP ",
          "PINK POT PLANT CANDLE",
          "PINK REGENCY TEACUP AND SAUCER",
          "PINK RETRO BIG FLOWER BAG",
          "PINK RIVIERA HANDBAG",
          "PINK ROSE FABRIC MIRROR",
          "PINK ROSE WASHBAG",
          "PINK ROSEBUD & PEARL NECKLACE",
          "PINK ROSEBUD PEARL BRACELET",
          "PINK ROUND COMPACT MIRROR",
          "PINK SCOTTIE DOG W FLOWER PATTERN",
          "PINK SMALL GLASS CAKE STAND",
          "PINK SMALL JEWELLED PHOTOFRAME",
          "PINK SPOTS CHOCOLATE NESTING BOXES ",
          "PINK SQUARE TABLE CLOCK",
          "PINK STITCHED WALL CLOCK",
          "PINK STOCKING CHRISTMAS DECORATION",
          "PINK STRAWBERRY HANDBAG ",
          "PINK STRING CURTAIN WITH POLE",
          "PINK SWEETHEART BRACELET",
          "PINK TALL PORCELAIN T-LIGHT HOLDER ",
          "PINK UNION JACK  LUGGAGE TAG",
          "PINK UNION JACK  PASSPORT COVER ",
          "PINK VINTAGE PAISLEY PICNIC BAG",
          "PINK VINTAGE SPOT BEAKER",
          "PINK VINTAGE VICTORIAN EARRINGS",
          "PINK YELLOW PATCH CUSHION COVER",
          "PINK/AMETHYST/GOLD NECKLACE",
          "PINK/BLUE DISC/MIRROR STRING",
          "PINK/BLUE STRING CURTAIN ",
          "PINK/FLOWER RABBIT EGG WARMER ",
          "PINK/GREEN FLOWER DESIGN BIG MUG",
          "PINK/PURPLE CIRCLE CURTAIN",
          "PINK/PURPLE RETRO RADIO",
          "PINK/WHITE \"KEEP CLEAN\" BULLET BIN",
          "PINK/WHITE CHRISTMAS TREE 30CM",
          "PINK/WHITE CHRISTMAS TREE 60CM",
          "PINK/WHITE GLASS DEMI CHOKER",
          "PINK/WHITE RIBBED MELAMINE JUG",
          "PINK/YELLOW FLOWERS HANDBAG",
          "PIZZA PLATE IN BOX",
          "PLACE SETTING WHITE HEART",
          "PLACE SETTING WHITE STAR",
          "PLASMATRONIC LAMP",
          "PLASTERS IN TIN CIRCUS PARADE ",
          "PLASTERS IN TIN SKULLS",
          "PLASTERS IN TIN SPACEBOY",
          "PLASTERS IN TIN STRONGMAN",
          "PLASTERS IN TIN VINTAGE PAISLEY ",
          "PLASTERS IN TIN WOODLAND ANIMALS",
          "PLAYING CARDS I LOVE LONDON ",
          "PLAYING CARDS JUBILEE UNION JACK",
          "PLAYING CARDS KEEP CALM & CARRY ON",
          "PLAYING CARDS VINTAGE DOILEY ",
          "PLEASE ONE PERSON METAL SIGN",
          "POCKET BAG BLUE PAISLEY RED SPOT",
          "POCKET BAG PINK PAISELY BROWN SPOT",
          "POCKET MIRROR \"GLAMOROUS\"",
          "POCKET MIRROR WOODLAND",
          "POLKA DOT RAFFIA FOOD COVER",
          "POLKADOT COFFEE CUP & SAUCER PINK",
          "POLKADOT MUG PINK ",
          "POLKADOT PEN",
          "POLKADOT RAIN HAT ",
          "POLYESTER FILLER PAD 30CMx30CM",
          "POLYESTER FILLER PAD 40x40cm",
          "POLYESTER FILLER PAD 45x30cm",
          "POLYESTER FILLER PAD 45x45cm",
          "POLYESTER FILLER PAD 60x40cm",
          "POLYESTER FILLER PAD 65CMx65CM",
          "POMPOM CURTAIN",
          "POP ART PUSH DOWN RUBBER ",
          "POPART RECT PENCIL SHARPENER ASST",
          "POPART WOODEN PENCILS ASST",
          "POPCORN HOLDER",
          "POPPY FIELDS CHOPPING BOARD",
          "POPPY'S PLAYHOUSE BATHROOM",
          "POPPY'S PLAYHOUSE BEDROOM ",
          "POPPY'S PLAYHOUSE KITCHEN",
          "POPPY'S PLAYHOUSE LIVINGROOM ",
          "PORCELAIN BUDAH INCENSE HOLDER",
          "PORCELAIN BUTTERFLY OIL BURNER",
          "PORCELAIN ROSE LARGE ",
          "PORCELAIN ROSE SMALL",
          "PORCELAIN T-LIGHT HOLDERS ASSORTED",
          "POSTE FRANCE CUSHION COVER",
          "POSY CANDY BAG",
          "POTTERING IN THE SHED METAL SIGN",
          "POTTERING MUG",
          "POTTING SHED CANDLE CITRONELLA",
          "POTTING SHED ROSE CANDLE",
          "POTTING SHED SEED ENVELOPES",
          "POTTING SHED SOW 'N' GROW SET",
          "POTTING SHED TEA MUG",
          "POTTING SHED TWINE",
          "PRETTY HANGING QUILTED HEARTS",
          "PSYCHEDELIC METAL SIGN CALENDAR",
          "PSYCHEDELIC TILE COASTER",
          "PSYCHEDELIC TILE HOOK",
          "PSYCHEDELIC WALL THERMOMETER",
          "PURPLE ACRYLIC FACETED BANGLE",
          "PURPLE AMETHYST NECKLACE W TASSEL",
          "PURPLE ANEMONE ARTIFICIAL FLOWER",
          "PURPLE BERTIE GLASS BEAD BAG CHARM",
          "PURPLE BOUDICCA LARGE BRACELET",
          "PURPLE CHUNKY GLASS+BEAD NECKLACE",
          "PURPLE DRAWERKNOB ACRYLIC EDWARDIAN",
          "PURPLE DRESS JEWELLERY STAND",
          "PURPLE ENAMEL FLOWER HAIR TIE",
          "PURPLE ENAMEL FLOWER RING",
          "PURPLE ENAMEL+GLASS HAIR COMB",
          "PURPLE FOXGLOVE ARTIIFCIAL FLOWER",
          "PURPLE FRANGIPANI HAIRCLIP",
          "PURPLE FRANGIPANI NECKLACE",
          "PURPLE GEMSTONE BRACELET",
          "PURPLE GEMSTONE NECKLACE 45CM",
          "PURPLE GLASS TASSLE BAG CHARM",
          "PURPLE LAS VEGAS BRACELET ROUND",
          "PURPLE PAPER PARASOL",
          "PURPLE SWEETHEART BRACELET",
          "PURPLE/BLUE CERAMIC CANDLE HOLDER",
          "PURPLE/COPPER HANGING LAMPSHADE",
          "PURPLE/TURQ FLOWERS HANDBAG",
          "QUEEN OF SKIES LUGGAGE TAG",
          "QUEEN OF THE SKIES HOLIDAY PURSE ",
          "QUEEN OF THE SKIES PASSPORT COVER ",
          "QUEENS GUARD COFFEE MUG",
          "RABBIT  DESIGN  COTTON TOTE BAG",
          "RABBIT EASTER DECORATION",
          "RABBIT NIGHT LIGHT",
          "RAIN PONCHO ",
          "RAIN PONCHO RETROSPOT",
          "RAINBOW PEGS PHOTO CLIP STRING",
          "RAINY LADIES BIRTHDAY CARD",
          "RASPBERRY ANT COPPER FLOWER NECKLAC",
          "RASTA IN BATH W SPLIFF ASHTRAY",
          "RATTLE SNAKE EGGS",
          "RECIPE BOX BLUE SKETCHBOOK DESIGN",
          "RECIPE BOX PANTRY YELLOW DESIGN",
          "RECIPE BOX RETROSPOT ",
          "RECIPE BOX WITH METAL HEART",
          "RECORD FRAME 7\" SINGLE SIZE ",
          "RECTANGULAR SHAPED MIRROR",
          "RECYCLED ACAPULCO MAT BLUE",
          "RECYCLED ACAPULCO MAT GREEN",
          "RECYCLED ACAPULCO MAT LAVENDER",
          "RECYCLED ACAPULCO MAT PINK",
          "RECYCLED ACAPULCO MAT RED",
          "RECYCLED ACAPULCO MAT TURQUOISE",
          "RECYCLED PENCIL WITH RABBIT ERASER",
          "RECYCLING BAG RETROSPOT ",
          "RED   ACRYLIC FACETED BANGLE",
          "RED  EGG  SPOON",
          "RED  HARMONICA IN BOX ",
          "RED APPLES CHOPPING BOARD   ",
          "RED BABY BUNTING ",
          "RED BOUDICCA LARGE BRACELET",
          "RED CHARLIE+LOLA PERSONAL DOORSIGN",
          "RED COAT RACK PARIS FASHION",
          "RED DAISY PAPER LAMPSHADE",
          "RED DAISY POCKET BOOK ",
          "RED DINER WALL CLOCK",
          "RED DRAGONFLY HELICOPTER",
          "RED DRAWER KNOB ACRYLIC EDWARDIAN",
          "RED ENAMEL FLOWER RING",
          "RED ENCHANTED FOREST PLACEMAT",
          "RED FLOCK LOVE HEART PHOTO FRAME",
          "RED FLORAL FELTCRAFT SHOULDER BAG",
          "RED FLOWER CROCHET FOOD COVER",
          "RED GINGHAM ROSE JEWELLERY BOX",
          "RED GINGHAM TEDDY BEAR ",
          "RED GLASS TASSLE BAG CHARM",
          "RED HANGING HEART T-LIGHT HOLDER",
          "RED HEART LUGGAGE TAG",
          "RED HEART SHAPE LOVE BUCKET ",
          "RED HEARTS LIGHT CHAIN ",
          "RED KITCHEN SCALES",
          "RED KUKUI COCONUT SEED NECKLACE",
          "RED LOVE HEART SHAPE CUP",
          "RED METAL BEACH SPADE ",
          "RED METAL BOX TOP SECRET",
          "RED PAPER PARASOL",
          "RED PEONY CUSHION COVER ",
          "RED PEONY TABLE CLOCK",
          "RED POLKADOT BEAKER ",
          "RED POLKADOT COFFEE  MUG",
          "RED POLKADOT PUDDING BOWL",
          "RED PUDDING SPOON",
          "RED PURSE WITH PINK HEART",
          "RED REFECTORY CLOCK ",
          "RED RETRO KITCHEN WALL CLOCK",
          "RED RETROSPOT APRON ",
          "RED RETROSPOT BIG BOWL",
          "RED RETROSPOT BOWL",
          "RED RETROSPOT BUTTER DISH",
          "RED RETROSPOT CAKE STAND",
          "RED RETROSPOT CHARLOTTE BAG",
          "RED RETROSPOT CHILDRENS UMBRELLA",
          "RED RETROSPOT CUP",
          "RED RETROSPOT LUGGAGE TAG",
          "RED RETROSPOT MINI CASES",
          "RED RETROSPOT MUG",
          "RED RETROSPOT OVEN GLOVE ",
          "RED RETROSPOT OVEN GLOVE DOUBLE",
          "RED RETROSPOT PEG BAG",
          "RED RETROSPOT PICNIC BAG",
          "RED RETROSPOT PLATE ",
          "RED RETROSPOT PUDDING BOWL",
          "RED RETROSPOT PURSE ",
          "RED RETROSPOT ROUND CAKE TINS",
          "RED RETROSPOT SHOPPER BAG",
          "RED RETROSPOT SHOPPING BAG",
          "RED RETROSPOT SMALL MILK JUG",
          "RED RETROSPOT STORAGE JAR",
          "RED RETROSPOT SUGAR JAM BOWL",
          "RED RETROSPOT TAPE",
          "RED RETROSPOT TEA CUP AND SAUCER ",
          "RED RETROSPOT TISSUE BOX",
          "RED RETROSPOT TRADITIONAL TEAPOT ",
          "RED RETROSPOT UMBRELLA",
          "RED RETROSPOT WASHBAG",
          "RED RETROSPOT WRAP ",
          "RED ROCKING HORSE HAND PAINTED",
          "RED ROSE AND LACE C/COVER",
          "RED SHARK HELICOPTER",
          "RED SPOT CERAMIC DRAWER KNOB",
          "RED SPOT PAPER GIFT BAG",
          "RED SPOTTY BISCUIT TIN",
          "RED STAR CARD HOLDER",
          "RED STRIPE CERAMIC DRAWER KNOB",
          "RED TEA TOWEL CLASSIC DESIGN",
          "RED TOADSTOOL LED NIGHT LIGHT",
          "RED VICTORIAN FABRIC OVAL BOX",
          "RED VINTAGE SPOT BEAKER",
          "RED WHITE SCARF  HOT WATER BOTTLE",
          "RED WOOLLY HOTTIE WHITE HEART.",
          "RED/CREAM STRIPE CUSHION COVER ",
          "REGENCY CAKE FORK",
          "REGENCY CAKE SLICE",
          "REGENCY CAKESTAND 3 TIER",
          "REGENCY MILK JUG PINK ",
          "REGENCY MIRROR WITH SHUTTERS",
          "REGENCY SUGAR BOWL GREEN",
          "REGENCY SUGAR TONGS",
          "REGENCY TEA PLATE GREEN ",
          "REGENCY TEA PLATE PINK",
          "REGENCY TEA PLATE ROSES ",
          "REGENCY TEA SPOON",
          "REGENCY TEA STRAINER",
          "REGENCY TEAPOT ROSES ",
          "REINDEER HEART DECORATION GOLD",
          "REINDEER HEART DECORATION SILVER",
          "RELAX LARGE WOOD LETTERS",
          "RESIN BRACELET W PASTEL BEADS",
          "RESIN NECKLACE W PASTEL BEADS",
          "RETRO \"TEA FOR ONE\" ",
          "RETRO BROWN BALL ASHTRAY ",
          "RETRO COFFEE MUGS ASSORTED",
          "RETRO LONGBOARD IRONING BOARD COVER",
          "RETRO MOD TRAY",
          "RETRO PILL BOX , REVOLUTIONARY",
          "RETRO PILL BOX KEY CHAIN,THE KING",
          "RETRO PINK BALL ASHTRAY ",
          "RETRO PLASTIC 70'S TRAY",
          "RETRO PLASTIC DAISY TRAY",
          "RETRO PLASTIC ELEPHANT TRAY",
          "RETRO PLASTIC POLKA TRAY",
          "RETRO TIN ASHTRAY,REVOLUTIONARY",
          "RETROSPOT BABUSHKA DOORSTOP",
          "RETROSPOT CANDLE  LARGE",
          "RETROSPOT CANDLE  MEDIUM",
          "RETROSPOT CANDLE  SMALL",
          "RETROSPOT CHILDRENS APRON",
          "RETROSPOT CIGAR BOX MATCHES ",
          "RETROSPOT GIANT TUBE MATCHES",
          "RETROSPOT HEART HOT WATER BOTTLE",
          "RETROSPOT LAMP",
          "RETROSPOT LARGE MILK JUG",
          "RETROSPOT PADDED SEAT CUSHION",
          "RETROSPOT PARTY BAG + STICKER SET",
          "RETROSPOT RED WASHING UP GLOVES",
          "RETROSPOT SMALL TUBE MATCHES",
          "RETROSPOT TEA SET CERAMIC 11 PC ",
          "REVOLVER WOODEN RULER ",
          "REX CASH+CARRY JUMBO SHOPPER",
          "RIBBON REEL CHRISTMAS PRESENT ",
          "RIBBON REEL CHRISTMAS SOCK BAUBLE",
          "RIBBON REEL FLORA + FAUNA ",
          "RIBBON REEL HEARTS DESIGN ",
          "RIBBON REEL LACE DESIGN ",
          "RIBBON REEL MAKING SNOWMEN ",
          "RIBBON REEL POLKADOTS ",
          "RIBBON REEL SNOWY VILLAGE",
          "RIBBON REEL SOCKS AND MITTENS",
          "RIBBON REEL STRIPES DESIGN ",
          "RIBBONS PURSE ",
          "RIDGED BONNE JAM JAR T-LIGHT HOLDER",
          "RIDGED GLASS FINGER BOWL",
          "RIDGED GLASS POSY VASE ",
          "RIDGED GLASS STORAGE JAR CREAM LID",
          "RIDGED GLASS T-LIGHT HOLDER",
          "RING OF ROSES BIRTHDAY CARD",
          "RIVIERA NECKLACE",
          "ROBIN CHRISTMAS CARD",
          "ROBOT BIRTHDAY CARD",
          "ROBOT MUG IN DISPLAY BOX",
          "ROCKING HORSE GREEN CHRISTMAS ",
          "ROCKING HORSE RED CHRISTMAS ",
          "ROCOCO WALL MIROR",
          "ROLL WRAP 50'S CHRISTMAS",
          "ROLL WRAP 50'S RED CHRISTMAS ",
          "ROLL WRAP VINTAGE CHRISTMAS",
          "ROLL WRAP VINTAGE SPOT ",
          "ROMANTIC IMAGES GIFT WRAP SET",
          "ROMANTIC IMAGES NOTEBOOK SET",
          "ROMANTIC IMAGES SCRAP BOOK SET",
          "ROMANTIC PINKS RIBBONS ",
          "ROSE 1 WICK MORRIS BOXED CANDLE",
          "ROSE 3 WICK MORRIS BOX CANDLE",
          "ROSE CARAVAN DOORSTOP",
          "ROSE COLOUR PAIR HEART HAIR SLIDES",
          "ROSE COTTAGE KEEPSAKE BOX ",
          "ROSE DU SUD COSMETICS BAG",
          "ROSE DU SUD CUSHION COVER",
          "ROSE DU SUD CUSHION COVER ",
          "ROSE DU SUD DRAWSTRING BAG",
          "ROSE DU SUD OVEN GLOVE",
          "ROSE DU SUD WASHBAG ",
          "ROSE FLOWER CANDLE+INCENSE 16X16CM",
          "ROSE FOLKART HEART DECORATIONS",
          "ROSE PENDANT TRIPLE SHELL NECKLACE",
          "ROSE SCENT CANDLE IN JEWELLED BOX",
          "ROSE SCENT CANDLE JEWELLED DRAWER",
          "ROSES REGENCY TEACUP AND SAUCER ",
          "ROTATING LEAVES T-LIGHT HOLDER",
          "ROTATING SILVER ANGELS T-LIGHT HLDR",
          "ROUND ARTICULATED PINK CLOCK W/SUCK",
          "ROUND BLUE CLOCK WITH SUCKER",
          "ROUND CACTUS CANDLE",
          "ROUND CAKE TIN VINTAGE GREEN",
          "ROUND CAKE TIN VINTAGE RED",
          "ROUND CONTAINER SET OF 5 RETROSPOT",
          "ROUND PINK HEART MIRROR",
          "ROUND PURPLE CLOCK WITH SUCKER",
          "ROUND SNACK BOXES SET OF 4 FRUITS ",
          "ROUND SNACK BOXES SET OF 4 SKULLS",
          "ROUND SNACK BOXES SET OF4 WOODLAND ",
          "ROUND WHITE CONFETTI IN TUBE",
          "RUBY DROP CHANDELIER EARRINGS",
          "RUBY GLASS CLUSTER BRACELET",
          "RUBY GLASS CLUSTER EARRINGS",
          "RUBY GLASS CLUSTER NECKLACE",
          "RUSTIC  SEVENTEEN DRAWER SIDEBOARD",
          "RUSTIC MIRROR WITH LACE HEART",
          "RUSTIC STRAWBERRY JAM POT LARGE ",
          "RUSTIC STRAWBERRY JAM POT SMALL",
          "RUSTIC WOODEN CABINET, GLASS DOORS",
          "S/12 MINI RABBIT EASTER",
          "S/12 VANILLA  BOTANICAL T-LIGHTS",
          "S/15 SILVER GLASS BAUBLES IN BAG",
          "S/2 BEACH HUT TREASURE CHESTS",
          "S/2 ZINC HEART DESIGN PLANTERS",
          "S/3 PINK SQUARE PLANTERS ROSES",
          "S/3 POT POURI CUSHIONS BLUE COLOURS",
          "S/4 BLACK MINI ROSE CANDLE IN BOWL",
          "S/4 CACTI CANDLES",
          "S/4 GROOVY CAT MAGNETS",
          "S/4 ICON COASTER,ELVIS LIVES",
          "S/4 IVORY MINI ROSE CANDLE IN BOWL",
          "S/4 PINK FLOWER CANDLES IN BOWL",
          "S/4 VALENTINE DECOUPAGE HEART BOX",
          "S/6 SEW ON CROCHET FLOWERS",
          "S/6 WOODEN SKITTLES IN COTTON BAG",
          "SALLE DE BAIN HOOK",
          "SANDALWOOD FAN",
          "SANDWICH BATH SPONGE",
          "SAVE THE PLANET COTTON TOTE BAG",
          "SAVE THE PLANET MUG",
          "SAVOY ART DECO CLOCK",
          "SCALLOP SHELL SOAP DISH",
          "SCANDINAVIAN 3 HEARTS NAPKIN RING",
          "SCANDINAVIAN PAISLEY PICNIC BAG",
          "SCANDINAVIAN REDS RIBBONS",
          "SCENTED CANDLE IN DIGITALIS TIN",
          "SCENTED VELVET LOUNGE CANDLE ",
          "SCHOOL DESK AND CHAIR ",
          "SCOTTIE DOG HOT WATER BOTTLE",
          "SCOTTIE DOGS BABY BIB",
          "SCOTTIES CHILDRENS APRON",
          "SCOTTIES DESIGN WASHBAG",
          "SEASIDE FLYING DISC",
          "SET 10 CARDS HANGING BAUBLES 17080",
          "SET 10 LIGHTS NIGHT OWL",
          "SET 12 COLOUR PENCILS DOILEY",
          "SET 12 COLOUR PENCILS DOLLY GIRL ",
          "SET 12 COLOUR PENCILS LOVE LONDON",
          "SET 12 COLOUR PENCILS SPACEBOY ",
          "SET 12 KIDS  WHITE CHALK STICKS",
          "SET 12 KIDS COLOUR  CHALK STICKS",
          "SET 12 LAVENDER  BOTANICAL T-LIGHTS",
          "SET 12 RETRO WHITE CHALK STICKS",
          "SET 12 VINTAGE DOILY CHALK ",
          "SET 2 PANTRY DESIGN TEA TOWELS",
          "SET 20 NAPKINS FAIRY CAKES DESIGN ",
          "SET 3 PAPER VINTAGE CHICK PAPER EGG",
          "SET 3 RETROSPOT TEA,COFFEE,SUGAR",
          "SET 3 SONG BIRD PAPER EGGS ASSORTED",
          "SET 3 WICKER OVAL BASKETS W LIDS",
          "SET 3 WICKER STORAGE BASKETS ",
          "SET 36 COLOUR PENCILS DOILEY",
          "SET 36 COLOUR PENCILS DOLLY GIRL",
          "SET 36 COLOUR PENCILS LOVE LONDON",
          "SET 36 COLOUR PENCILS SPACEBOY ",
          "SET 4 NURSERY DES ROUND BOXES",
          "SET 4 PICNIC CUTLERY BLUEBERRY",
          "SET 4 PICNIC CUTLERY CHERRY ",
          "SET 4 PICNIC CUTLERY FONDANT",
          "SET 40 HEART SHAPE PETIT FOUR CASES",
          "SET 6 FOOTBALL CELEBRATION CANDLES",
          "SET 6 PAPER TABLE LANTERN HEARTS ",
          "SET 6 PAPER TABLE LANTERN STARS ",
          "SET 6 SCHOOL MILK BOTTLES IN CRATE",
          "SET 7 BABUSHKA NESTING BOXES",
          "SET 8 CANDLES VINTAGE DOILEY",
          "SET OF 10 LANTERNS FAIRY LIGHT STAR",
          "SET OF 10 LED DOLLY LIGHTS",
          "SET OF 12  VINTAGE POSTCARD SET",
          "SET OF 12 FAIRY CAKE BAKING CASES",
          "SET OF 12 FORK CANDLES",
          "SET OF 12 MINI BUNNIES IN A BUCKET",
          "SET OF 12 MINI LOAF BAKING CASES",
          "SET OF 12 ROSE BOTANICAL T-LIGHTS",
          "SET OF 12 T-LIGHTS VINTAGE DOILEY",
          "SET OF 16 VINTAGE BLACK CUTLERY",
          "SET OF 16 VINTAGE IVORY CUTLERY",
          "SET OF 16 VINTAGE PISTACHIO CUTLERY",
          "SET OF 16 VINTAGE RED CUTLERY",
          "SET OF 16 VINTAGE ROSE CUTLERY",
          "SET OF 16 VINTAGE SKY BLUE CUTLERY",
          "SET OF 2 CERAMIC CHRISTMAS REINDEER",
          "SET OF 2 CERAMIC CHRISTMAS TREES",
          "SET OF 2 CERAMIC PAINTED HEARTS ",
          "SET OF 2 CHRISTMAS DECOUPAGE CANDLE",
          "SET OF 2 ROUND TINS CAMEMBERT ",
          "SET OF 2 ROUND TINS DUTCH CHEESE",
          "SET OF 2 TEA TOWELS APPLE AND PEARS",
          "SET OF 2 TEA TOWELS PING MICROWAVE",
          "SET OF 2 TINS JARDIN DE PROVENCE",
          "SET OF 2 TINS VINTAGE BATHROOM ",
          "SET OF 2 TRAYS HOME SWEET HOME",
          "SET OF 2 WOODEN MARKET CRATES",
          "SET OF 20 KIDS COOKIE CUTTERS",
          "SET OF 20 VINTAGE CHRISTMAS NAPKINS",
          "SET OF 3 BABUSHKA STACKING TINS",
          "SET OF 3 BIRD LIGHT PINK FEATHER ",
          "SET OF 3 BLACK FLYING DUCKS",
          "SET OF 3 BUTTERFLY COOKIE CUTTERS",
          "SET OF 3 CAKE TINS PANTRY DESIGN ",
          "SET OF 3 CAKE TINS SKETCHBOOK",
          "SET OF 3 COLOURED  FLYING DUCKS",
          "SET OF 3 CONEY ISLAND OVAL BOXES",
          "SET OF 3 GOLD FLYING DUCKS",
          "SET OF 3 HANGING OWLS OLLIE BEAK",
          "SET OF 3 HEART COOKIE CUTTERS",
          "SET OF 3 MINI HANGING PORTRAITS",
          "SET OF 3 NOTEBOOKS IN PARCEL",
          "SET OF 3 PANTRY WOODEN SPOONS",
          "SET OF 3 PINK FLYING DUCKS",
          "SET OF 3 REGENCY CAKE TINS",
          "SET OF 3 WOODEN HEART DECORATIONS",
          "SET OF 3 WOODEN SLEIGH DECORATIONS",
          "SET OF 3 WOODEN STOCKING DECORATION",
          "SET OF 3 WOODEN TREE DECORATIONS",
          "SET OF 36 DINOSAUR PAPER DOILIES",
          "SET OF 36 DOILIES PANTRY DESIGN",
          "SET OF 36 DOILIES SPACEBOY DESIGN ",
          "SET OF 36 MUSHROOM PAPER DOILIES",
          "SET OF 36 PAISLEY FLOWER DOILIES",
          "SET OF 36 TEATIME PAPER DOILIES",
          "SET OF 4 BLACK LOVEBIRD COASTERS",
          "SET OF 4 CAROUSEL PLACEMATS ",
          "SET OF 4 DIAMOND NAPKIN RINGS",
          "SET OF 4 ENGLISH ROSE COASTERS",
          "SET OF 4 ENGLISH ROSE PLACEMATS",
          "SET OF 4 FAIRY CAKE PLACEMATS",
          "SET OF 4 FAIRY CAKE PLACEMATS ",
          "SET OF 4 GREEN CAROUSEL COASTERS",
          "SET OF 4 JAM JAR MAGNETS",
          "SET OF 4 KNICK KNACK TINS  DOILEY ",
          "SET OF 4 KNICK KNACK TINS LEAF",
          "SET OF 4 KNICK KNACK TINS LONDON ",
          "SET OF 4 KNICK KNACK TINS POPPIES",
          "SET OF 4 NAPKIN CHARMS 3 KEYS ",
          "SET OF 4 NAPKIN CHARMS CROWNS ",
          "SET OF 4 NAPKIN CHARMS CUTLERY",
          "SET OF 4 NAPKIN CHARMS HEARTS",
          "SET OF 4 NAPKIN CHARMS INSTRUMENT",
          "SET OF 4 NAPKIN CHARMS LEAVES   ",
          "SET OF 4 NAPKIN CHARMS STARS   ",
          "SET OF 4 PANTRY JELLY MOULDS",
          "SET OF 4 PISTACHIO LOVEBIRD COASTER",
          "SET OF 4 POLKADOT COASTERS",
          "SET OF 4 POLKADOT PLACEMATS ",
          "SET OF 4 ROSE BOTANICAL CANDLES",
          "SET OF 4 SANTA PLACE SETTINGS",
          "SET OF 5 LUCKY CAT MAGNETS ",
          "SET OF 5 MINI GROCERY MAGNETS",
          "SET OF 5 PANCAKE DAY MAGNETS",
          "SET OF 6 3D KIT CARDS FOR KIDS",
          "SET OF 6 CAKE CHOPSTICKS",
          "SET OF 6 EASTER RAINBOW CHICKS",
          "SET OF 6 FUNKY BEAKERS",
          "SET OF 6 GIRLS CELEBRATION CANDLES",
          "SET OF 6 HALLOWEEN GHOST T-LIGHTS",
          "SET OF 6 HEART CHOPSTICKS",
          "SET OF 6 HERB TINS SKETCHBOOK",
          "SET OF 6 ICE CREAM SKITTLES",
          "SET OF 6 KASHMIR FOLKART BAUBLES",
          "SET OF 6 NATIVITY MAGNETS ",
          "SET OF 6 RIBBONS COUNTRY STYLE",
          "SET OF 6 RIBBONS PARTY",
          "SET OF 6 RIBBONS PERFECTLY PRETTY  ",
          "SET OF 6 RIBBONS VINTAGE CHRISTMAS",
          "SET OF 6 SNACK LOAF BAKING CASES",
          "SET OF 6 SOLDIER SKITTLES",
          "SET OF 6 SPICE TINS PANTRY DESIGN",
          "SET OF 6 STRAWBERRY CHOPSTICKS",
          "SET OF 6 T-LIGHTS CACTI ",
          "SET OF 6 T-LIGHTS EASTER CHICKS",
          "SET OF 6 T-LIGHTS SANTA",
          "SET OF 6 T-LIGHTS SNOWMEN",
          "SET OF 6 T-LIGHTS TOADSTOOLS",
          "SET OF 6 T-LIGHTS WEDDING CAKE ",
          "SET OF 6 TEA TIME BAKING CASES",
          "SET OF 6 VINTAGE NOTELETS KIT",
          "SET OF 60 I LOVE LONDON CAKE CASES ",
          "SET OF 60 PANTRY DESIGN CAKE CASES ",
          "SET OF 60 VINTAGE LEAF CAKE CASES ",
          "SET OF 72 GREEN PAPER DOILIES",
          "SET OF 72 PINK HEART PAPER DOILIES",
          "SET OF 72 RETROSPOT PAPER  DOILIES",
          "SET OF 72 SKULL PAPER  DOILIES",
          "SET OF 9 BLACK SKULL BALLOONS",
          "SET OF 9 HEART SHAPED BALLOONS",
          "SET OF PICTURE FRAME  STICKERS",
          "SET OF SALT AND PEPPER TOADSTOOLS",
          "SET OF SKULL WALL STICKERS",
          "SET OF TEA COFFEE SUGAR TINS PANTRY",
          "SET/10 BLUE POLKADOT PARTY CANDLES",
          "SET/10 IVORY POLKADOT PARTY CANDLES",
          "SET/10 PINK POLKADOT PARTY CANDLES",
          "SET/10 RED POLKADOT PARTY CANDLES",
          "SET/12 FUNKY FELT FLOWER PEG IN BAG",
          "SET/12 TAPER CANDLES",
          "SET/2 RED RETROSPOT TEA TOWELS ",
          "SET/20 RED RETROSPOT PAPER NAPKINS ",
          "SET/20 STRAWBERRY PAPER NAPKINS ",
          "SET/3 CHRISTMAS DECOUPAGE CANDLES",
          "SET/3 DECOUPAGE STACKING TINS",
          "SET/3 FLORAL GARDEN TOOLS IN BAG",
          "SET/3 OCEAN SCENT CANDLE JEWEL BOX",
          "SET/3 POLKADOT STACKING TINS",
          "SET/3 POT PLANT CANDLES",
          "SET/3 RABBITS FLOWER SKIPPPING ROPE",
          "SET/3 RED GINGHAM ROSE STORAGE BOX",
          "SET/3 ROSE CANDLE IN JEWELLED BOX",
          "SET/3 TALL GLASS CANDLE HOLDER PINK",
          "SET/3 VANILLA SCENTED CANDLE IN BOX",
          "SET/4 BADGES BALLOON GIRL",
          "SET/4 BADGES BEETLES",
          "SET/4 BADGES CUTE CREATURES",
          "SET/4 BADGES DOGS",
          "SET/4 BIRD MIRROR MAGNETS ",
          "SET/4 BLUE FLOWER CANDLES IN BOWL",
          "SET/4 BUTTERFLY MIRROR MAGNETS",
          "SET/4 COLOURFUL MIXING BOWLS",
          "SET/4 DAISY MIRROR MAGNETS",
          "SET/4 GARDEN ROSE DINNER CANDLE",
          "SET/4 MODERN VINTAGE COTTON NAPKINS",
          "SET/4 RED MINI ROSE CANDLE IN BOWL",
          "SET/4 SKULL BADGES",
          "SET/4 SPRING FLOWER DECORATION",
          "SET/4 WHITE RETRO STORAGE CUBES ",
          "SET/5 RED RETROSPOT LID GLASS BOWLS",
          "SET/6 BEAD COASTERS GAUZE BAG GOLD",
          "SET/6 BLACK BIRD T-LIGHT CANDLES",
          "SET/6 COLLAGE PAPER CUPS",
          "SET/6 COLLAGE PAPER PLATES",
          "SET/6 EAU DE NIL BIRD T-LIGHTS",
          "SET/6 FROG PRINCE T-LIGHT CANDLES",
          "SET/6 FRUIT SALAD  PAPER PLATES",
          "SET/6 FRUIT SALAD PAPER CUPS",
          "SET/6 GREEN SPRING PAPER CUPS",
          "SET/6 IVORY BIRD T-LIGHT CANDLES",
          "SET/6 PINK  BUTTERFLY T-LIGHTS",
          "SET/6 PINK BIRD T-LIGHT CANDLES",
          "SET/6 POSIES PAPER CUPS",
          "SET/6 POSIES PAPER PLATES",
          "SET/6 PURPLE BUTTERFLY T-LIGHTS",
          "SET/6 RED SPOTTY PAPER CUPS",
          "SET/6 RED SPOTTY PAPER PLATES",
          "SET/6 TURQUOISE BUTTERFLY T-LIGHTS",
          "SET/9 CHRISTMAS T-LIGHTS SCENTED ",
          "SET3 BOOK BOX GREEN GINGHAM FLOWER ",
          "SEWING BOX RETROSPOT DESIGN ",
          "SEWING SUSAN 21 NEEDLE SET",
          "SHELF WITH 4 HOOKS HOME SWEET HOME",
          "SHOE SHINE BOX ",
          "SILICON CUBE 25W, BLUE",
          "SILICON STAR BULB  BLUE",
          "SILK PURSE BABUSHKA BLUE",
          "SILK PURSE BABUSHKA PINK",
          "SILK PURSE BABUSHKA RED",
          "SILVER  CANDLEPOT JARDIN ",
          "SILVER 2 STRAND NECKLACE-LEAF CHARM",
          "SILVER AND BLACK ORBIT NECKLACE",
          "SILVER APERITIF GLASS",
          "SILVER BELLS TABLE DECORATION",
          "SILVER BLACK ORBIT BRACELET",
          "SILVER BLACK ORBIT DROP EARRINGS",
          "SILVER BOOK MARK WITH BEADS",
          "SILVER BRACELET W PASTEL FLOWER",
          "SILVER CHRISTMAS TREE BAUBLE STAND ",
          "SILVER DIAMANTE PEN IN GIFT BOX",
          "SILVER DISCO HANDBAG",
          "SILVER DROP EARRINGS WITH FLOWER",
          "SILVER FABRIC MIRROR",
          "SILVER FISHING GNOME ",
          "SILVER FLOWR PINK SHELL NECKLACE",
          "SILVER GLASS T-LIGHT SET",
          "SILVER GLITTER FLOWER VOTIVE HOLDER",
          "SILVER HANGING T-LIGHT HOLDER",
          "SILVER HEARTS TABLE DECORATION",
          "SILVER HOOP EARRINGS WITH FLOWER",
          "SILVER JEWELLED MIRROR TRINKET TRAY",
          "SILVER LARIAT 40CM",
          "SILVER LARIAT BLACK STONE EARRINGS",
          "SILVER LATTICE VANILLA CANDLE POT",
          "SILVER LOOKING MIRROR",
          "SILVER M.O.P ORBIT BRACELET",
          "SILVER M.O.P ORBIT DROP EARRINGS",
          "SILVER M.O.P. ORBIT NECKLACE",
          "SILVER MUG BONE CHINA TREE OF LIFE",
          "SILVER OVAL SHAPE TRINKET BOX",
          "SILVER PHOTO FRAME",
          "SILVER PLATE CANDLE BOWL SMALL",
          "SILVER RECORD COVER FRAME",
          "SILVER ROCCOCO CHANDELIER",
          "SILVER ROCOCO CANDLE STICK",
          "SILVER STANDING GNOME   ",
          "SILVER STARS TABLE DECORATION",
          "SILVER T-LIGHT SETTING",
          "SILVER TEDDY BEAR",
          "SILVER VANILLA  FLOWER CANDLE POT",
          "SILVER/AMETHYST DROP EARRINGS LEAF",
          "SILVER/CRYSTAL DROP EARRINGS W LEAF",
          "SILVER/M.O.P PENDANT ORBIT NECKLACE",
          "SILVER/NAT SHELL NECKLACE W PENDANT",
          "SILVER/NATURAL SHELL NECKLACE",
          "SINGLE ANTIQUE ROSE HOOK IVORY",
          "SINGLE HEART ZINC T-LIGHT HOLDER",
          "SINGLE WIRE HOOK IVORY HEART",
          "SINGLE WIRE HOOK PINK HEART",
          "SIX DRAWER OFFICE TIDY",
          "SKETCHBOOK MAGNETIC SHOPPING LIST",
          "SKULL AND CROSSBONES  GARLAND ",
          "SKULL DESIGN TV DINNER TRAY",
          "SKULL LUNCH BOX WITH CUTLERY ",
          "SKULL SHOULDER BAG",
          "SKULLS  DESIGN  COTTON TOTE BAG",
          "SKULLS  STICKERS",
          "SKULLS  WATER TRANSFER TATTOOS ",
          "SKULLS AND CROSSBONES WRAP",
          "SKULLS DESIGN FLANNEL",
          "SKULLS GREETING CARD",
          "SKULLS PARTY BAG + STICKER SET",
          "SKULLS SQUARE TISSUE BOX",
          "SKULLS STORAGE BOX LARGE",
          "SKULLS STORAGE BOX SMALL",
          "SKULLS TAPE",
          "SKULLS WRITING SET ",
          "SLATE TILE NATURAL HANGING",
          "SLEEPING CAT ERASERS",
          "SMALL APOTHECARY MEASURING JAR ",
          "SMALL BLUE PROVENCAL CERAMIC BALL",
          "SMALL BONNE JAM JAR  T-LIGHT HOLDER",
          "SMALL CAMPHOR WOOD FIELD  MUSHROOM",
          "SMALL CERAMIC TOP STORAGE JAR ",
          "SMALL CHINESE STYLE SCISSOR",
          "SMALL CHOCOLATES PINK BOWL",
          "SMALL CHUNKY GLASS ROMAN  BOWL",
          "SMALL DECO JEWELLERY STAND",
          "SMALL DOLLY MIX DESIGN ORANGE BOWL",
          "SMALL FOLDING SCISSOR(POINTED EDGE)",
          "SMALL FOLKART STAR CHRISTMAS DEC",
          "SMALL GLASS HEART TRINKET POT",
          "SMALL GLASS SUNDAE DISH CLEAR",
          "SMALL HAMMERED SILVER CANDLEPOT ",
          "SMALL HANGING GLASS+ZINC LANTERN",
          "SMALL HANGING IVORY/RED WOOD BIRD",
          "SMALL HEART FLOWERS HOOK ",
          "SMALL HEART MEASURING SPOONS",
          "SMALL IVORY HEART WALL ORGANISER",
          "SMALL KITCHEN FLOWER POTS PLAQUE",
          "SMALL LICORICE DES PINK BOWL",
          "SMALL MARSHMALLOWS PINK BOWL",
          "SMALL MEDINA STAMPED METAL BOWL ",
          "SMALL PARISIENNE HEART PHOTO FRAME ",
          "SMALL PARLOUR FRAME",
          "SMALL PINK GLASS SUNDAE DISH",
          "SMALL PINK MAGIC CHRISTMAS TREE",
          "SMALL POLKADOT CHOCOLATE GIFT BAG ",
          "SMALL POP BOX FUNKY MONKEY",
          "SMALL PURPLE BABUSHKA NOTEBOOK ",
          "SMALL RED BABUSHKA NOTEBOOK ",
          "SMALL RED RETROSPOT MUG IN BOX ",
          "SMALL RED RETROSPOT WINDMILL",
          "SMALL REGAL  SILVER CANDLEPOT ",
          "SMALL ROUND CUT GLASS CANDLESTICK",
          "SMALL SILVER FLOWER CANDLE POT",
          "SMALL SILVER TRELLIS CANDLEPOT",
          "SMALL SINGLE FLAME CANDLE HOLDER",
          "SMALL SKULL WINDMILL",
          "SMALL SQUARE CUT GLASS CANDLESTICK",
          "SMALL STRIPES CHOCOLATE GIFT BAG ",
          "SMALL TALL CAMPHOR WOOD TOADSTOOL",
          "SMALL WHITE HEART OF WICKER",
          "SMALL WHITE RETROSPOT MUG IN BOX ",
          "SMALL WHITE/PINK ROSE ART FLOWER",
          "SMALL YELLOW BABUSHKA NOTEBOOK ",
          "SMALL ZINC HEART WALL ORGANISER",
          "SMALL ZINC/GLASS CANDLEHOLDER",
          "SMALLFOLKART BAUBLE CHRISTMAS DEC",
          "SMOKEY GREY COLOUR D.O.F. GLASS",
          "SNACK TRAY HAPPY FOREST  ",
          "SNACK TRAY I LOVE LONDON",
          "SNACK TRAY PAISLEY PARK",
          "SNACK TRAY RED GINGHAM",
          "SNACK TRAY RED VINTAGE DOILY",
          "SNOWFLAKE PORTABLE TABLE LIGHT ",
          "SNOWSTORM PHOTO FRAME FRIDGE MAGNET",
          "SOAP DISH BROCANTE",
          "SOFT PINK ROSE TOWEL ",
          "SOLDIERS EGG CUP ",
          "SOMBRERO ",
          "SPACE BOY CHILDRENS CUP",
          "SPACE CADET BLACK",
          "SPACE CADET RED",
          "SPACE CADET WHITE",
          "SPACE FROG",
          "SPACE OWL",
          "SPACEBOY BEAKER",
          "SPACEBOY BIRTHDAY CARD",
          "SPACEBOY CHILDRENS BOWL",
          "SPACEBOY CHILDRENS EGG CUP",
          "SPACEBOY GIFT WRAP",
          "SPACEBOY LUNCH BOX ",
          "SPACEBOY MINI BACKPACK",
          "SPACEBOY ROCKET LOLLY MAKERS",
          "SPACEBOY TV DINNER TRAY",
          "SPACEBOY WALL ART",
          "SPOTS ON RED BOOKCOVER TAPE",
          "SPOTTED WHITE NATURAL SEED NECKLACE",
          "SPOTTY PINK DUCK DOORSTOP",
          "SPRIG LAVENDER ARTIFICIAL FLOWER",
          "SQUARE CHERRY BLOSSOM CABINET",
          "SQUARE FLOOR CUSHION VINTAGE RED",
          "SQUARE METAL CANDLEHOLDER BASE",
          "SQUARE MINI PORTRAIT FRAME",
          "SQUARECUSHION COVER PINK UNION FLAG",
          "ST GEORGE SET OF 10 PARTY LIGHTS",
          "ST TROPEZ NECKLACE",
          "STANDING FAIRY POLE SUPPORT ",
          "STAR  T-LIGHT HOLDER ",
          "STAR DECORATION PAINTED ZINC ",
          "STAR DECORATION RUSTIC",
          "STAR PORTABLE TABLE LIGHT ",
          "STAR T-LIGHT HOLDER WILLIE WINKIE",
          "STAR WOODEN CHRISTMAS DECORATION",
          "STAR WREATH DECORATION WITH BELL",
          "STARFISH SOAP DISH",
          "STARS GIFT TAPE ",
          "STEEL SWEETHEART ROUND TABLE CREAM",
          "STOOL HOME SWEET HOME ",
          "STOP FOR TEA WALL ART",
          "STORAGE TIN HOME SWEET HOME",
          "STRAWBERRIES  DESIGN FLANNEL ",
          "STRAWBERRY   PICNIC BAG",
          "STRAWBERRY BATH SPONGE ",
          "STRAWBERRY CERAMIC TRINKET BOX",
          "STRAWBERRY CHARLOTTE BAG",
          "STRAWBERRY DREAM CHILDS UMBRELLA",
          "STRAWBERRY FAIRY CAKE TEAPOT",
          "STRAWBERRY HONEYCOMB  GARLAND ",
          "STRAWBERRY LUNCH BOX WITH CUTLERY",
          "STRAWBERRY RAFFIA FOOD COVER",
          "STRAWBERRY SHOPPER BAG",
          "STRAWBRY SCENTED VOTIVE CANDLE",
          "STRING OF 8 BUTTERFLIES,PINK",
          "STRING OF STARS CARD HOLDER",
          "STRIPES DESIGN MONKEY DOLL",
          "STRIPES DESIGN TEDDY",
          "STRIPEY CHOCOLATE NESTING BOXES",
          "STRIPY DESIGN SHOWER CAP",
          "SUKI  SHOULDER BAG",
          "SUMMER DAISIES BAG CHARM",
          "SUMMER FUN DESIGN SHOWER CAP",
          "SUNFLOWER DECORATIVE PARASOL",
          "SUNSET CHECK HAMMOCK",
          "SUNSET COLOUR CHUNKY KNITTED THROW",
          "SWALLOW SQUARE TISSUE BOX",
          "SWALLOW WOODEN CHRISTMAS DECORATION",
          "SWALLOWS GREETING CARD",
          "SWEET HEART CAKE CARRIER",
          "SWEET PUDDING STICKER SHEET",
          "SWEETHEART BIRD HOUSE",
          "SWEETHEART CARRY-ALL BASKET",
          "SWEETHEART CERAMIC TRINKET BOX",
          "SWEETHEART CREAM STEEL TABLE RECT",
          "SWEETHEART RECIPE BOOK STAND",
          "SWEETHEART WALL TIDY ",
          "SWEETHEART WIRE FRUIT BOWL",
          "SWEETHEART WIRE MAGAZINE RACK",
          "SWEETHEART WIRE WALL TIDY",
          "SWEETIES  STICKERS",
          "SWIRLY CIRCULAR RUBBERS IN BAG",
          "SWISS CHALET TREE DECORATION ",
          "SWISS ROLL TOWEL PINK  SPOTS",
          "SWISS ROLL TOWEL, CHOCOLATE  SPOTS",
          "T-LIGHT GLASS FLUTED ANTIQUE",
          "T-LIGHT HOLDER HANGING LACE",
          "T-LIGHT HOLDER HANGING LOVE BIRD",
          "T-LIGHT HOLDER SILVER HEART HANDLE",
          "T-LIGHT HOLDER SILVER PETIT FOUR ",
          "T-LIGHT HOLDER SILVER SAUCER",
          "T-LIGHT HOLDER SWEETHEART HANGING",
          "T-LIGHT HOLDER WHITE LACE",
          "TABLE LAMP WHITE SHADE WOOD BASE",
          "TABLECLOTH RED APPLES DESIGN ",
          "TALL ROCOCO CANDLE HOLDER",
          "TEA BAG PLATE RED RETROSPOT",
          "TEA COSY BLUE STRIPE",
          "TEA COSY RED  STRIPE",
          "TEA FOR ONE POLKADOT",
          "TEA PARTY  WRAPPING PAPER ",
          "TEA PARTY BIRTHDAY CARD",
          "TEA TIME BREAKFAST BASKET",
          "TEA TIME DES TEA COSY",
          "TEA TIME KITCHEN APRON",
          "TEA TIME OVEN GLOVE",
          "TEA TIME PARTY BUNTING",
          "TEA TIME TABLE CLOTH",
          "TEA TIME TEA SET IN GIFT BOX",
          "TEA TIME TEA TOWELS ",
          "TEA TIME TEAPOT IN GIFT BOX",
          "TEAL/FUSCHIA COL BEAD NECKLACE",
          "TEATIME FUNKY FLOWER BACKPACK FOR 2",
          "TEATIME GEL PENS ASST",
          "TEATIME PEN CASE & PENS",
          "TEATIME PUSH DOWN RUBBER",
          "TEATIME ROUND PENCIL SHARPENER ",
          "THE KING GIFT BAG",
          "THE KING GIFT BAG 25x24x12cm",
          "THREE CANVAS LUGGAGE TAGS",
          "TIGRIS EYE CHUNKY CHARM BRACELET",
          "TINY CRYSTAL BRACELET GREEN",
          "TOADSTOOL MONEY BOX",
          "TOAST ITS - BEST MUM",
          "TOAST ITS - DINOSAUR",
          "TOAST ITS - FAIRY FLOWER",
          "TOAST ITS - HAPPY BIRTHDAY",
          "TOAST ITS - I LOVE YOU ",
          "TOILET METAL SIGN",
          "TOILET SIGN OCCUPIED OR VACANT",
          "TOMATO CHARLIE+LOLA COASTER SET",
          "TOOL BOX SOFT TOY ",
          "TOOTHPASTE TUBE PEN",
          "TOP SECRET PEN SET",
          "TOTE BAG I LOVE LONDON",
          "TOXIC AREA  DOOR HANGER ",
          "TOY TIDY DOLLY GIRL DESIGN",
          "TOY TIDY PINK POLKADOT",
          "TOY TIDY SPACEBOY  ",
          "TOYBOX  WRAP ",
          "TRADITIONAL CHRISTMAS RIBBONS",
          "TRADITIONAL KNITTING NANCY",
          "TRADITIONAL MODELLING CLAY",
          "TRADITIONAL NAUGHTS & CROSSES",
          "TRADITIONAL PICK UP STICKS GAME ",
          "TRADITIONAL WOODEN CATCH CUP GAME ",
          "TRADITIONAL WOODEN SKIPPING ROPE",
          "TRADTIONAL ALPHABET STAMP SET",
          "TRANQUILITY MASALA INCENSE",
          "TRANSPARENT ACRYLIC TAPE DISPENSER",
          "TRAVEL CARD WALLET FLOWER MEADOW",
          "TRAVEL CARD WALLET I LOVE LONDON",
          "TRAVEL CARD WALLET KEEP CALM",
          "TRAVEL CARD WALLET PANTRY",
          "TRAVEL CARD WALLET RETRO PETALS",
          "TRAVEL CARD WALLET RETROSPOT",
          "TRAVEL CARD WALLET SKULLS",
          "TRAVEL CARD WALLET SUKI",
          "TRAVEL CARD WALLET TRANSPORT",
          "TRAVEL CARD WALLET UNION JACK",
          "TRAVEL CARD WALLET VINTAGE ROSE ",
          "TRAVEL CARD WALLET VINTAGE TICKET",
          "TRAVEL SEWING KIT",
          "TRAY, BREAKFAST IN BED",
          "TREASURE AHOY WALL ART",
          "TREASURE ISLAND BOOK BOX",
          "TREASURE TIN BUFFALO BILL ",
          "TREASURE TIN GYMKHANA DESIGN",
          "TREE T-LIGHT HOLDER WILLIE WINKIE",
          "TRIANGULAR POUFFE VINTAGE ",
          "TRIPLE HOOK ANTIQUE IVORY ROSE",
          "TRIPLE PHOTO FRAME CORNICE ",
          "TRIPLE WIRE HOOK IVORY HEART",
          "TRIPLE WIRE HOOK PINK HEART",
          "TROPICAL  HONEYCOMB PAPER GARLAND ",
          "TROPICAL HOLIDAY PURSE ",
          "TROPICAL LUGGAGE TAG",
          "TROPICAL PASSPORT COVER ",
          "TUB 24 PINK FLOWER PEGS",
          "TUMBLER BAROQUE",
          "TUMBLER NEW ENGLAND",
          "TURQ ICE CREAM BUM BAG ",
          "TURQ PENDANT TRIPLE SHELL NECKLACE",
          "TURQ STONE/CRYSTAL EARRINGS",
          "TURQ+RED BOUDICCA LARGE BRACELET",
          "TURQUOISE BERTIE GLASS BEAD CHARM",
          "TURQUOISE CHRISTMAS TREE ",
          "TURQUOISE CRYSTAL+GLASS BRACELET",
          "TURQUOISE GLASS TASSLE BAG CHARM ",
          "TURQUOISE HEART OF GLASS BRACELET",
          "TUSCAN VILLA BIRD FEEDER",
          "TUSCAN VILLA BIRD TABLE ",
          "TUSCAN VILLA DOVECOTE",
          "TV DINNER TRAY AIR HOSTESS ",
          "TV DINNER TRAY DOLLY GIRL",
          "TV DINNER TRAY VINTAGE PAISLEY",
          "TWO DOOR CURIO CABINET",
          "UBO-LIGHT TRIOBASE BLUE",
          "UBO-LIGHT TRIOBASE PURPLE",
          "UNION FLAG WINDSOCK",
          "UNION JACK FLAG LUGGAGE TAG",
          "UNION JACK FLAG PASSPORT COVER ",
          "UNION JACK HOT WATER BOTTLE ",
          "UNION STRIPE CUSHION COVER ",
          "UNION STRIPE WITH FRINGE  HAMMOCK",
          "URBAN BLACK RIBBONS ",
          "UTILTY CABINET WITH HOOKS",
          "VANILLA INCENSE 40 CONES IN TIN",
          "VANILLA INCENSE IN TIN",
          "VANILLA SCENT CANDLE JEWELLED BOX",
          "VEGETABLE GARDEN CHOPPING BOARD",
          "VICTORIAN  METAL POSTCARD SPRING",
          "VICTORIAN GLASS HANGING T-LIGHT",
          "VICTORIAN SEWING BOX LARGE",
          "VICTORIAN SEWING BOX MEDIUM",
          "VICTORIAN SEWING BOX SMALL ",
          "VICTORIAN SEWING KIT",
          "VILLAGE SHOW WALL ART",
          "VINTAGE  2 METER FOLDING RULER",
          "VINTAGE BEAD COSMETIC BAG ",
          "VINTAGE BEAD NOTEBOOK",
          "VINTAGE BEAD PINK EVENING BAG",
          "VINTAGE BEAD PINK JEWEL BOX",
          "VINTAGE BEAD PINK JEWEL STAND",
          "VINTAGE BEAD PINK PURSE ",
          "VINTAGE BEAD PINK SCARF ",
          "VINTAGE BEAD PINK SHADE ",
          "VINTAGE BILLBOARD DRINK ME MUG",
          "VINTAGE BILLBOARD LOVE/HATE MUG",
          "VINTAGE BILLBOARD MUG ",
          "VINTAGE BILLBOARD TEA MUG",
          "VINTAGE BLUE KITCHEN CABINET",
          "VINTAGE BLUE TINSEL REEL",
          "VINTAGE CARAVAN GIFT WRAP",
          "VINTAGE CARAVAN GREETING CARD ",
          "VINTAGE CHRISTMAS BUNTING",
          "VINTAGE CHRISTMAS CAKE FRILL",
          "VINTAGE CHRISTMAS GIFT SACK",
          "VINTAGE CHRISTMAS PAPER GIFT BAG",
          "VINTAGE CHRISTMAS STOCKING ",
          "VINTAGE CHRISTMAS TABLECLOTH",
          "VINTAGE CREAM 3 BASKET CAKE STAND",
          "VINTAGE CREAM CAT FOOD CONTAINER",
          "VINTAGE CREAM DOG FOOD CONTAINER",
          "VINTAGE DOILY DELUXE SEWING KIT ",
          "VINTAGE DOILY JUMBO BAG RED ",
          "VINTAGE DOILY TRAVEL SEWING KIT",
          "VINTAGE EMBOSSED HEART",
          "VINTAGE ENAMEL & CRYSTAL EARRINGS",
          "VINTAGE ENAMEL & CRYSTAL NECKLACE",
          "VINTAGE GLASS COFFEE CADDY",
          "VINTAGE GLASS T-LIGHT HOLDER",
          "VINTAGE GLASS TEA CADDY",
          "VINTAGE HEADS AND TAILS CARD GAME ",
          "VINTAGE JINGLE BELLS HEART",
          "VINTAGE JINGLE BELLS WREATH",
          "VINTAGE KEEPSAKE BOX PARIS DAYS",
          "VINTAGE KEEPSAKE BOX PINK FLOWER",
          "VINTAGE KEEPSAKE BOX TRAVELOGUE",
          "VINTAGE KID DOLLY CARD ",
          "VINTAGE KITCHEN PRINT FRUITS",
          "VINTAGE KITCHEN PRINT PUDDINGS",
          "VINTAGE KITCHEN PRINT SEAFOOD",
          "VINTAGE KITCHEN PRINT VEGETABLES",
          "VINTAGE LEAF CHOPPING BOARD  ",
          "VINTAGE NOTEBOOK BEAUTY GIRL",
          "VINTAGE NOTEBOOK PARIS DAYS",
          "VINTAGE NOTEBOOK TRAVELOGUE",
          "VINTAGE PAISLEY STATIONERY SET",
          "VINTAGE PHOTO ALBUM PARIS DAYS",
          "VINTAGE PINK DECORATIVE PARASOL",
          "VINTAGE POST OFFICE CABINET",
          "VINTAGE RED KITCHEN CABINET",
          "VINTAGE RED MUG",
          "VINTAGE RED TEATIME MUG",
          "VINTAGE ROSE BEAD BRACELET BLACK",
          "VINTAGE ROSE BEAD BRACELET RASPBERR",
          "VINTAGE SEASIDE JIGSAW PUZZLES",
          "VINTAGE SHELLS PRINT",
          "VINTAGE SNAKES & LADDERS",
          "VINTAGE SNAP CARDS",
          "VINTAGE UNION JACK APRON",
          "VINTAGE UNION JACK BUNTING",
          "VINTAGE UNION JACK CUSHION COVER",
          "VINTAGE UNION JACK DOORSTOP",
          "VINTAGE UNION JACK MEMOBOARD",
          "VINTAGE UNION JACK PENNANT",
          "VINTAGE UNION JACK SHOPPING BAG",
          "VINTAGE WOODEN BAR STOOL",
          "VINTAGE ZINC PLANTER  ",
          "VINTAGE ZINC WATERING CAN",
          "VINTAGE ZINC WATERING CAN SMALL",
          "VIP HOLIDAY PURSE",
          "VIP PASSPORT COVER ",
          "WAKE UP COCKEREL CALENDAR SIGN ",
          "WAKE UP COCKEREL TILE COASTER",
          "WAKE UP COCKEREL TILE HOOK",
          "WALL ART , LOVES' SECRET ",
          "WALL ART , THE MAGIC FOREST ",
          "WALL ART ,PUDDINGS ",
          "WALL ART BIG LOVE ",
          "WALL ART GARDEN HAVEN ",
          "WALL ART MID CENTURY MODERN ",
          "WALL ART ONLY ONE PERSON ",
          "WALL ART VINTAGE HEART",
          "WALL ART WORK REST AND PLAY  ",
          "WALL MIRROR RECTANGLE DIAMANTE PINK",
          "WALL TIDY RETROSPOT ",
          "WASH BAG VINTAGE ROSE PAISLEY",
          "WASHROOM METAL SIGN",
          "WATERING CAN BLUE ELEPHANT",
          "WATERING CAN GARDEN MARKER",
          "WATERING CAN GREEN DINOSAUR",
          "WATERING CAN PINK BUNNY",
          "WAY OUT METAL SIGN ",
          "WEEKEND BAG VINTAGE ROSE PAISLEY",
          "WELCOME  WOODEN BLOCK LETTERS",
          "WHEELBARROW FOR CHILDREN ",
          "WHITE  ROSEBUD PEARL BRACELET",
          "WHITE 3 FRAME BIRDS AND TREE ",
          "WHITE ALLIUM  ARTIFICIAL FLOWER",
          "WHITE AND BLUE CERAMIC OIL BURNER",
          "WHITE ANEMONE ARTIFICIAL FLOWER",
          "WHITE BAMBOO RIBS LAMPSHADE",
          "WHITE BAROQUE WALL CLOCK ",
          "WHITE BEADED GARLAND STRING 20LIGHT",
          "WHITE BELL HONEYCOMB PAPER ",
          "WHITE BELL HONEYCOMB PAPER GARLAND ",
          "WHITE BROCANTE SOAP DISH",
          "WHITE CANDYSTUFT ARTIFICIAL FLOWER",
          "WHITE CHRISTMAS FLOCK DROPLET ",
          "WHITE CHRISTMAS GARLAND STARS TREES",
          "WHITE CHRISTMAS STAR DECORATION",
          "WHITE CHRISTMAS TREE 60CM",
          "WHITE CHRYSANTHEMUMS ART FLOWER",
          "WHITE ENAMEL FLOWER HAIR TIE",
          "WHITE FRANGIPANI HAIR CLIP",
          "WHITE FRANGIPANI NECKLACE",
          "WHITE GLASS CHUNKY CHARM BRACELET",
          "WHITE GOOSE FEATHER CHRISTMAS TREE ",
          "WHITE GOOSE FEATHER TREE 60CM ",
          "WHITE HAND TOWEL WITH BUTTERFLY",
          "WHITE HANGING BEADS CANDLE HOLDER",
          "WHITE HEART CONFETTI IN TUBE",
          "WHITE HEART OF GLASS BRACELET",
          "WHITE HEARTS WIRE PLANT POT HOLDER",
          "WHITE HONEYCOMB PAPER GARLAND ",
          "WHITE HYDRANGEA ART FLOWER",
          "WHITE JEWELLED HEART DECORATION",
          "WHITE LOVEBIRD LANTERN",
          "WHITE METAL LANTERN",
          "WHITE MURANO TWIST BRACELET",
          "WHITE ROCKING HORSE HAND PAINTED",
          "WHITE ROSEBUD  PEARL EARRINGS",
          "WHITE ROSEBUD & PEARL NECKLACE",
          "WHITE SAGE INCENSE",
          "WHITE SKULL HOT WATER BOTTLE ",
          "WHITE SOAP RACK WITH 2 BOTTLES",
          "WHITE SPOT BLUE CERAMIC DRAWER KNOB",
          "WHITE SPOT RED CERAMIC DRAWER KNOB",
          "WHITE SQUARE TABLE CLOCK",
          "WHITE STITCHED CUSHION COVER",
          "WHITE STITCHED WALL CLOCK",
          "WHITE STONE/CRYSTAL EARRINGS",
          "WHITE TALL PORCELAIN T-LIGHT HOLDER",
          "WHITE TEA,COFFEE,SUGAR JARS",
          "WHITE TISSUE REAM",
          "WHITE TRAVEL ALARM CLOCK",
          "WHITE VINT ART DECO CRYSTAL NECKLAC",
          "WHITE VINTAGE CRYSTAL BRACELET",
          "WHITE VINTAGE CRYSTAL EARRINGS",
          "WHITE WICKER STAR ",
          "WHITE WIRE EGG HOLDER",
          "WHITE WITH BLACK CATS PLATE",
          "WHITE WITH METAL BAG CHARM",
          "WHITE WOOD GARDEN PLANT LADDER",
          "WHITE/PINK CHICK DECORATION",
          "WHITE/PINK CHICK EASTER DECORATION",
          "WHITE/PINK MINI CRYSTALS NECKLACE",
          "WICKER STAR ",
          "WICKER WREATH LARGE",
          "WICKER WREATH SMALL",
          "WINE BOTTLE DRESSING DARK BLUE",
          "WINE BOTTLE DRESSING LT.BLUE",
          "WIRE EGG BASKET ",
          "WISE MAN STAR SHAPE EGG PAN",
          "WOOD 2 DRAWER CABINET WHITE FINISH",
          "WOOD AND GLASS MEDICINE CABINET",
          "WOOD BLACK BOARD ANT WHITE FINISH",
          "WOOD STAMP SET BEST WISHES",
          "WOOD STAMP SET FLOWERS",
          "WOOD STAMP SET HAPPY BIRTHDAY",
          "WOOD STAMP SET THANK YOU",
          "WOOD STOCKING CHRISTMAS SCANDISPOT",
          "WOODEN ADVENT CALENDAR CREAM",
          "WOODEN ADVENT CALENDAR RED",
          "WOODEN BOX ADVENT CALENDAR ",
          "WOODEN BOX OF DOMINOES",
          "WOODEN CROQUET GARDEN SET",
          "WOODEN FRAME ANTIQUE WHITE ",
          "WOODEN HAPPY BIRTHDAY GARLAND",
          "WOODEN HEART CHRISTMAS SCANDINAVIAN",
          "WOODEN OWLS LIGHT GARLAND ",
          "WOODEN PICTURE FRAME WHITE FINISH",
          "WOODEN REGATTA BUNTING",
          "WOODEN ROUNDERS GARDEN SET ",
          "WOODEN SCHOOL COLOURING SET",
          "WOODEN SKITTLES GARDEN SET",
          "WOODEN STAR CHRISTMAS SCANDINAVIAN",
          "WOODEN TREE CHRISTMAS SCANDINAVIAN",
          "WOODEN UNION JACK BUNTING",
          "WOODLAND  HEIGHT CHART STICKERS ",
          "WOODLAND  STICKERS",
          "WOODLAND BUNNIES LOLLY MAKERS",
          "WOODLAND CHARLOTTE BAG",
          "WOODLAND DESIGN  COTTON TOTE BAG",
          "WOODLAND LARGE BLUE FELT HEART",
          "WOODLAND LARGE PINK FELT HEART",
          "WOODLAND LARGE RED FELT HEART",
          "WOODLAND MINI BACKPACK",
          "WOODLAND PARTY BAG + STICKER SET",
          "WOODLAND SMALL BLUE FELT HEART",
          "WOODLAND SMALL PINK FELT HEART",
          "WOODLAND SMALL RED FELT HEART",
          "WOODLAND STORAGE BOX LARGE ",
          "WOODLAND STORAGE BOX SMALL",
          "WORLD WAR 2 GLIDERS ASSTD DESIGNS",
          "WOVEN BERRIES CUSHION COVER ",
          "WOVEN BUBBLE GUM CUSHION COVER",
          "WOVEN CANDY CUSHION COVER ",
          "WOVEN FROST CUSHION COVER",
          "WOVEN ROSE GARDEN CUSHION COVER ",
          "WOVEN SUNSET CUSHION COVER ",
          "WRAP  PINK FLOCK",
          "WRAP  VINTAGE DOILEY ",
          "WRAP 50'S  CHRISTMAS",
          "WRAP A PRETTY THANK YOU",
          "WRAP ALPHABET DESIGN",
          "WRAP ALPHABET POSTER  ",
          "WRAP BAD HAIR DAY",
          "WRAP BILLBOARD FONTS DESIGN",
          "WRAP BIRD GARDEN ",
          "WRAP BLUE RUSSIAN FOLKART",
          "WRAP CAROUSEL",
          "WRAP CHRISTMAS SCREEN PRINT",
          "WRAP CHRISTMAS VILLAGE",
          "WRAP CIRCUS PARADE",
          "WRAP COWBOYS  ",
          "WRAP DAISY CARPET ",
          "WRAP DOLLY GIRL",
          "WRAP ENGLISH ROSE ",
          "WRAP FLOWER SHOP  ",
          "WRAP FOLK ART",
          "WRAP GREEN PEARS ",
          "WRAP GREEN RUSSIAN FOLKART ",
          "WRAP I LOVE LONDON ",
          "WRAP MAGIC FOREST ",
          "WRAP MONSTER FUN ",
          "WRAP PAISLEY PARK ",
          "WRAP PINK FAIRY CAKES ",
          "WRAP POPPIES  DESIGN",
          "WRAP RED APPLES ",
          "WRAP RED DOILEY",
          "WRAP SUKI AND FRIENDS",
          "WRAP SUMMER ROSE DESIGN",
          "WRAP VINTAGE LEAF DESIGN",
          "WRAP WEDDING DAY",
          "YELLOW BREAKFAST CUP AND SAUCER",
          "YELLOW COAT RACK PARIS FASHION",
          "YELLOW DRAGONFLY HELICOPTER",
          "YELLOW EASTER EGG HUNT START POST",
          "YELLOW FELT HANGING HEART W FLOWER",
          "YELLOW FLOWERS FELT HANDBAG KIT",
          "YELLOW GIANT GARDEN THERMOMETER",
          "YELLOW METAL CHICKEN HEART ",
          "YELLOW PINK FLOWER DESIGN BIG BOWL",
          "YELLOW POT PLANT CANDLE",
          "YELLOW SHARK HELICOPTER",
          "YELLOW/BLUE RETRO RADIO",
          "YELLOW/ORANGE FLOWER DESIGN PLATE",
          "YELLOW/PINK FLOWER DESIGN BIG MUG",
          "YOU'RE CONFUSING ME METAL SIGN ",
          "YULETIDE IMAGES GIFT WRAP SET",
          "YULETIDE IMAGES S/6 PAPER BOXES",
          "ZINC  HEART T-LIGHT HOLDER",
          "ZINC  STAR T-LIGHT HOLDER ",
          "ZINC BOX SIGN HOME",
          "ZINC FINISH 15CM PLANTER POTS",
          "ZINC FOLKART SLEIGH BELLS",
          "ZINC HEART FLOWER T-LIGHT HOLDER",
          "ZINC HEART LATTICE 2 WALL PLANTER",
          "ZINC HEART LATTICE CHARGER LARGE",
          "ZINC HEART LATTICE CHARGER SMALL",
          "ZINC HEART LATTICE T-LIGHT HOLDER",
          "ZINC HEART LATTICE TRAY OVAL ",
          "ZINC HEARTS PLANT POT HOLDER",
          "ZINC METAL HEART DECORATION",
          "ZINC SWEETHEART SOAP DISH",
          "ZINC SWEETHEART WIRE LETTER RACK",
          "ZINC T-LIGHT HOLDER STAR LARGE",
          "ZINC T-LIGHT HOLDER STARS SMALL",
          "ZINC TOP  2 DOOR WOODEN SHELF ",
          "ZINC WILLIE WINKIE  CANDLE STICK",
          "ZINC WIRE KITCHEN ORGANISER",
          "ZINC WIRE SWEETHEART LETTER TRAY"
         ],
         "xaxis": "x",
         "y": {
          "bdata": "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",
          "dtype": "f8"
         },
         "yaxis": "y"
        }
       ],
       "layout": {
        "barmode": "relative",
        "legend": {
         "tracegroupgap": 0
        },
        "template": {
         "data": {
          "bar": [
           {
            "error_x": {
             "color": "#2a3f5f"
            },
            "error_y": {
             "color": "#2a3f5f"
            },
            "marker": {
             "line": {
              "color": "#E5ECF6",
              "width": 0.5
             },
             "pattern": {
              "fillmode": "overlay",
              "size": 10,
              "solidity": 0.2
             }
            },
            "type": "bar"
           }
          ],
          "barpolar": [
           {
            "marker": {
             "line": {
              "color": "#E5ECF6",
              "width": 0.5
             },
             "pattern": {
              "fillmode": "overlay",
              "size": 10,
              "solidity": 0.2
             }
            },
            "type": "barpolar"
           }
          ],
          "carpet": [
           {
            "aaxis": {
             "endlinecolor": "#2a3f5f",
             "gridcolor": "white",
             "linecolor": "white",
             "minorgridcolor": "white",
             "startlinecolor": "#2a3f5f"
            },
            "baxis": {
             "endlinecolor": "#2a3f5f",
             "gridcolor": "white",
             "linecolor": "white",
             "minorgridcolor": "white",
             "startlinecolor": "#2a3f5f"
            },
            "type": "carpet"
           }
          ],
          "choropleth": [
           {
            "colorbar": {
             "outlinewidth": 0,
             "ticks": ""
            },
            "type": "choropleth"
           }
          ],
          "contour": [
           {
            "colorbar": {
             "outlinewidth": 0,
             "ticks": ""
            },
            "colorscale": [
             [
              0,
              "#0d0887"
             ],
             [
              0.1111111111111111,
              "#46039f"
             ],
             [
              0.2222222222222222,
              "#7201a8"
             ],
             [
              0.3333333333333333,
              "#9c179e"
             ],
             [
              0.4444444444444444,
              "#bd3786"
             ],
             [
              0.5555555555555556,
              "#d8576b"
             ],
             [
              0.6666666666666666,
              "#ed7953"
             ],
             [
              0.7777777777777778,
              "#fb9f3a"
             ],
             [
              0.8888888888888888,
              "#fdca26"
             ],
             [
              1,
              "#f0f921"
             ]
            ],
            "type": "contour"
           }
          ],
          "contourcarpet": [
           {
            "colorbar": {
             "outlinewidth": 0,
             "ticks": ""
            },
            "type": "contourcarpet"
           }
          ],
          "heatmap": [
           {
            "colorbar": {
             "outlinewidth": 0,
             "ticks": ""
            },
            "colorscale": [
             [
              0,
              "#0d0887"
             ],
             [
              0.1111111111111111,
              "#46039f"
             ],
             [
              0.2222222222222222,
              "#7201a8"
             ],
             [
              0.3333333333333333,
              "#9c179e"
             ],
             [
              0.4444444444444444,
              "#bd3786"
             ],
             [
              0.5555555555555556,
              "#d8576b"
             ],
             [
              0.6666666666666666,
              "#ed7953"
             ],
             [
              0.7777777777777778,
              "#fb9f3a"
             ],
             [
              0.8888888888888888,
              "#fdca26"
             ],
             [
              1,
              "#f0f921"
             ]
            ],
            "type": "heatmap"
           }
          ],
          "histogram": [
           {
            "marker": {
             "pattern": {
              "fillmode": "overlay",
              "size": 10,
              "solidity": 0.2
             }
            },
            "type": "histogram"
           }
          ],
          "histogram2d": [
           {
            "colorbar": {
             "outlinewidth": 0,
             "ticks": ""
            },
            "colorscale": [
             [
              0,
              "#0d0887"
             ],
             [
              0.1111111111111111,
              "#46039f"
             ],
             [
              0.2222222222222222,
              "#7201a8"
             ],
             [
              0.3333333333333333,
              "#9c179e"
             ],
             [
              0.4444444444444444,
              "#bd3786"
             ],
             [
              0.5555555555555556,
              "#d8576b"
             ],
             [
              0.6666666666666666,
              "#ed7953"
             ],
             [
              0.7777777777777778,
              "#fb9f3a"
             ],
             [
              0.8888888888888888,
              "#fdca26"
             ],
             [
              1,
              "#f0f921"
             ]
            ],
            "type": "histogram2d"
           }
          ],
          "histogram2dcontour": [
           {
            "colorbar": {
             "outlinewidth": 0,
             "ticks": ""
            },
            "colorscale": [
             [
              0,
              "#0d0887"
             ],
             [
              0.1111111111111111,
              "#46039f"
             ],
             [
              0.2222222222222222,
              "#7201a8"
             ],
             [
              0.3333333333333333,
              "#9c179e"
             ],
             [
              0.4444444444444444,
              "#bd3786"
             ],
             [
              0.5555555555555556,
              "#d8576b"
             ],
             [
              0.6666666666666666,
              "#ed7953"
             ],
             [
              0.7777777777777778,
              "#fb9f3a"
             ],
             [
              0.8888888888888888,
              "#fdca26"
             ],
             [
              1,
              "#f0f921"
             ]
            ],
            "type": "histogram2dcontour"
           }
          ],
          "mesh3d": [
           {
            "colorbar": {
             "outlinewidth": 0,
             "ticks": ""
            },
            "type": "mesh3d"
           }
          ],
          "parcoords": [
           {
            "line": {
             "colorbar": {
              "outlinewidth": 0,
              "ticks": ""
             }
            },
            "type": "parcoords"
           }
          ],
          "pie": [
           {
            "automargin": true,
            "type": "pie"
           }
          ],
          "scatter": [
           {
            "fillpattern": {
             "fillmode": "overlay",
             "size": 10,
             "solidity": 0.2
            },
            "type": "scatter"
           }
          ],
          "scatter3d": [
           {
            "line": {
             "colorbar": {
              "outlinewidth": 0,
              "ticks": ""
             }
            },
            "marker": {
             "colorbar": {
              "outlinewidth": 0,
              "ticks": ""
             }
            },
            "type": "scatter3d"
           }
          ],
          "scattercarpet": [
           {
            "marker": {
             "colorbar": {
              "outlinewidth": 0,
              "ticks": ""
             }
            },
            "type": "scattercarpet"
           }
          ],
          "scattergeo": [
           {
            "marker": {
             "colorbar": {
              "outlinewidth": 0,
              "ticks": ""
             }
            },
            "type": "scattergeo"
           }
          ],
          "scattergl": [
           {
            "marker": {
             "colorbar": {
              "outlinewidth": 0,
              "ticks": ""
             }
            },
            "type": "scattergl"
           }
          ],
          "scattermap": [
           {
            "marker": {
             "colorbar": {
              "outlinewidth": 0,
              "ticks": ""
             }
            },
            "type": "scattermap"
           }
          ],
          "scattermapbox": [
           {
            "marker": {
             "colorbar": {
              "outlinewidth": 0,
              "ticks": ""
             }
            },
            "type": "scattermapbox"
           }
          ],
          "scatterpolar": [
           {
            "marker": {
             "colorbar": {
              "outlinewidth": 0,
              "ticks": ""
             }
            },
            "type": "scatterpolar"
           }
          ],
          "scatterpolargl": [
           {
            "marker": {
             "colorbar": {
              "outlinewidth": 0,
              "ticks": ""
             }
            },
            "type": "scatterpolargl"
           }
          ],
          "scatterternary": [
           {
            "marker": {
             "colorbar": {
              "outlinewidth": 0,
              "ticks": ""
             }
            },
            "type": "scatterternary"
           }
          ],
          "surface": [
           {
            "colorbar": {
             "outlinewidth": 0,
             "ticks": ""
            },
            "colorscale": [
             [
              0,
              "#0d0887"
             ],
             [
              0.1111111111111111,
              "#46039f"
             ],
             [
              0.2222222222222222,
              "#7201a8"
             ],
             [
              0.3333333333333333,
              "#9c179e"
             ],
             [
              0.4444444444444444,
              "#bd3786"
             ],
             [
              0.5555555555555556,
              "#d8576b"
             ],
             [
              0.6666666666666666,
              "#ed7953"
             ],
             [
              0.7777777777777778,
              "#fb9f3a"
             ],
             [
              0.8888888888888888,
              "#fdca26"
             ],
             [
              1,
              "#f0f921"
             ]
            ],
            "type": "surface"
           }
          ],
          "table": [
           {
            "cells": {
             "fill": {
              "color": "#EBF0F8"
             },
             "line": {
              "color": "white"
             }
            },
            "header": {
             "fill": {
              "color": "#C8D4E3"
             },
             "line": {
              "color": "white"
             }
            },
            "type": "table"
           }
          ]
         },
         "layout": {
          "annotationdefaults": {
           "arrowcolor": "#2a3f5f",
           "arrowhead": 0,
           "arrowwidth": 1
          },
          "autotypenumbers": "strict",
          "coloraxis": {
           "colorbar": {
            "outlinewidth": 0,
            "ticks": ""
           }
          },
          "colorscale": {
           "diverging": [
            [
             0,
             "#8e0152"
            ],
            [
             0.1,
             "#c51b7d"
            ],
            [
             0.2,
             "#de77ae"
            ],
            [
             0.3,
             "#f1b6da"
            ],
            [
             0.4,
             "#fde0ef"
            ],
            [
             0.5,
             "#f7f7f7"
            ],
            [
             0.6,
             "#e6f5d0"
            ],
            [
             0.7,
             "#b8e186"
            ],
            [
             0.8,
             "#7fbc41"
            ],
            [
             0.9,
             "#4d9221"
            ],
            [
             1,
             "#276419"
            ]
           ],
           "sequential": [
            [
             0,
             "#0d0887"
            ],
            [
             0.1111111111111111,
             "#46039f"
            ],
            [
             0.2222222222222222,
             "#7201a8"
            ],
            [
             0.3333333333333333,
             "#9c179e"
            ],
            [
             0.4444444444444444,
             "#bd3786"
            ],
            [
             0.5555555555555556,
             "#d8576b"
            ],
            [
             0.6666666666666666,
             "#ed7953"
            ],
            [
             0.7777777777777778,
             "#fb9f3a"
            ],
            [
             0.8888888888888888,
             "#fdca26"
            ],
            [
             1,
             "#f0f921"
            ]
           ],
           "sequentialminus": [
            [
             0,
             "#0d0887"
            ],
            [
             0.1111111111111111,
             "#46039f"
            ],
            [
             0.2222222222222222,
             "#7201a8"
            ],
            [
             0.3333333333333333,
             "#9c179e"
            ],
            [
             0.4444444444444444,
             "#bd3786"
            ],
            [
             0.5555555555555556,
             "#d8576b"
            ],
            [
             0.6666666666666666,
             "#ed7953"
            ],
            [
             0.7777777777777778,
             "#fb9f3a"
            ],
            [
             0.8888888888888888,
             "#fdca26"
            ],
            [
             1,
             "#f0f921"
            ]
           ]
          },
          "colorway": [
           "#636efa",
           "#EF553B",
           "#00cc96",
           "#ab63fa",
           "#FFA15A",
           "#19d3f3",
           "#FF6692",
           "#B6E880",
           "#FF97FF",
           "#FECB52"
          ],
          "font": {
           "color": "#2a3f5f"
          },
          "geo": {
           "bgcolor": "white",
           "lakecolor": "white",
           "landcolor": "#E5ECF6",
           "showlakes": true,
           "showland": true,
           "subunitcolor": "white"
          },
          "hoverlabel": {
           "align": "left"
          },
          "hovermode": "closest",
          "mapbox": {
           "style": "light"
          },
          "paper_bgcolor": "white",
          "plot_bgcolor": "#E5ECF6",
          "polar": {
           "angularaxis": {
            "gridcolor": "white",
            "linecolor": "white",
            "ticks": ""
           },
           "bgcolor": "#E5ECF6",
           "radialaxis": {
            "gridcolor": "white",
            "linecolor": "white",
            "ticks": ""
           }
          },
          "scene": {
           "xaxis": {
            "backgroundcolor": "#E5ECF6",
            "gridcolor": "white",
            "gridwidth": 2,
            "linecolor": "white",
            "showbackground": true,
            "ticks": "",
            "zerolinecolor": "white"
           },
           "yaxis": {
            "backgroundcolor": "#E5ECF6",
            "gridcolor": "white",
            "gridwidth": 2,
            "linecolor": "white",
            "showbackground": true,
            "ticks": "",
            "zerolinecolor": "white"
           },
           "zaxis": {
            "backgroundcolor": "#E5ECF6",
            "gridcolor": "white",
            "gridwidth": 2,
            "linecolor": "white",
            "showbackground": true,
            "ticks": "",
            "zerolinecolor": "white"
           }
          },
          "shapedefaults": {
           "line": {
            "color": "#2a3f5f"
           }
          },
          "ternary": {
           "aaxis": {
            "gridcolor": "white",
            "linecolor": "white",
            "ticks": ""
           },
           "baxis": {
            "gridcolor": "white",
            "linecolor": "white",
            "ticks": ""
           },
           "bgcolor": "#E5ECF6",
           "caxis": {
            "gridcolor": "white",
            "linecolor": "white",
            "ticks": ""
           }
          },
          "title": {
           "x": 0.05
          },
          "xaxis": {
           "automargin": true,
           "gridcolor": "white",
           "linecolor": "white",
           "ticks": "",
           "title": {
            "standoff": 15
           },
           "zerolinecolor": "white",
           "zerolinewidth": 2
          },
          "yaxis": {
           "automargin": true,
           "gridcolor": "white",
           "linecolor": "white",
           "ticks": "",
           "title": {
            "standoff": 15
           },
           "zerolinecolor": "white",
           "zerolinewidth": 2
          }
         }
        },
        "title": {
         "text": "Revenue by Product Description (filter: '')"
        },
        "xaxis": {
         "anchor": "y",
         "categoryorder": "total descending",
         "domain": [
          0,
          1
         ],
         "title": {
          "text": "Product Description"
         }
        },
        "yaxis": {
         "anchor": "x",
         "domain": [
          0,
          1
         ],
         "title": {
          "text": "Revenue"
         }
        }
       }
      },
      "text/html": [
       "<div>            <script src=\"https://cdnjs.cloudflare.com/ajax/libs/mathjax/2.7.5/MathJax.js?config=TeX-AMS-MML_SVG\"></script><script type=\"text/javascript\">if (window.MathJax && window.MathJax.Hub && window.MathJax.Hub.Config) {window.MathJax.Hub.Config({SVG: {font: \"STIX-Web\"}});}</script>                <script type=\"text/javascript\">window.PlotlyConfig = {MathJaxConfig: 'local'};</script>\n",
       "        <script charset=\"utf-8\" src=\"https://cdn.plot.ly/plotly-3.0.1.min.js\"></script>                <div id=\"0ff72fa8-cfc1-4922-824f-6d8970051f58\" class=\"plotly-graph-div\" style=\"height:525px; width:100%;\"></div>            <script type=\"text/javascript\">                window.PLOTLYENV=window.PLOTLYENV || {};                                if (document.getElementById(\"0ff72fa8-cfc1-4922-824f-6d8970051f58\")) {                    Plotly.newPlot(                        \"0ff72fa8-cfc1-4922-824f-6d8970051f58\",                        [{\"hovertemplate\":\"Product Description=%{x}\\u003cbr\\u003eRevenue=%{y}\\u003cextra\\u003e\\u003c\\u002fextra\\u003e\",\"legendgroup\":\"\",\"marker\":{\"color\":\"#636efa\",\"pattern\":{\"shape\":\"\"}},\"name\":\"\",\"orientation\":\"v\",\"showlegend\":false,\"textposition\":\"auto\",\"x\":[\" 4 PURPLE FLOCK DINNER CANDLES\",\" 50'S CHRISTMAS GIFT BAG LARGE\",\" DOLLY GIRL BEAKER\",\" I LOVE LONDON MINI BACKPACK\",\" NINE DRAWER OFFICE TIDY\",\" OVAL WALL MIRROR DIAMANTE \",\" RED SPOT GIFT BAG LARGE\",\" SET 2 TEA TOWELS I LOVE LONDON \",\" SPACEBOY BABY GIFT SET\",\" TOADSTOOL BEDSIDE LIGHT \",\" TRELLIS COAT RACK\",\"10 COLOUR SPACEBOY PEN\",\"12 COLOURED PARTY BALLOONS\",\"12 DAISY PEGS IN WOOD BOX\",\"12 EGG HOUSE PAINTED WOOD\",\"12 HANGING EGGS HAND PAINTED\",\"12 IVORY ROSE PEG PLACE SETTINGS\",\"12 MESSAGE CARDS WITH ENVELOPES\",\"12 PENCIL SMALL TUBE WOODLAND\",\"12 PENCILS SMALL TUBE RED RETROSPOT\",\"12 PENCILS SMALL TUBE SKULL\",\"12 PENCILS TALL TUBE POSY\",\"12 PENCILS TALL TUBE RED RETROSPOT\",\"12 PENCILS TALL TUBE SKULLS\",\"12 PENCILS TALL TUBE WOODLAND\",\"12 PINK HEN+CHICKS IN BASKET\",\"12 PINK ROSE PEG PLACE SETTINGS\",\"12 RED ROSE PEG PLACE SETTINGS\",\"15 PINK FLUFFY CHICKS IN BOX\",\"15CM CHRISTMAS GLASS BALL 20 LIGHTS\",\"16 PC CUTLERY SET PANTRY DESIGN\",\"18PC WOODEN CUTLERY SET DISPOSABLE\",\"2 DAISIES HAIR COMB\",\"2 PICTURE BOOK EGGS EASTER BUNNY\",\"2 PICTURE BOOK EGGS EASTER CHICKS\",\"2 PICTURE BOOK EGGS EASTER DUCKS\",\"20 DOLLY PEGS RETROSPOT\",\"200 BENDY SKULL STRAWS\",\"200 RED + WHITE BENDY STRAWS\",\"3 BIRDS CANVAS SCREEN\",\"3 BLACK CATS W HEARTS BLANK CARD\",\"3 DRAWER ANTIQUE WHITE WOOD CABINET\",\"3 GARDENIA MORRIS BOXED CANDLES\",\"3 HEARTS HANGING DECORATION RUSTIC\",\"3 HOOK HANGER MAGIC GARDEN\",\"3 HOOK PHOTO SHELF ANTIQUE WHITE\",\"3 PIECE SPACEBOY COOKIE CUTTER SET\",\"3 PINK HEN+CHICKS IN BASKET\",\"3 RAFFIA RIBBONS 50'S CHRISTMAS \",\"3 RAFFIA RIBBONS VINTAGE CHRISTMAS\",\"3 ROSE MORRIS BOXED CANDLES\",\"3 STRIPEY MICE FELTCRAFT\",\"3 TIER CAKE TIN GREEN AND CREAM\",\"3 TIER CAKE TIN RED AND CREAM\",\"3 TIER SWEETHEART GARDEN SHELF\",\"3 TRADITIONAL COOKIE CUTTERS  SET\",\"3 WHITE CHOC MORRIS BOXED CANDLES\",\"3 WICK CHRISTMAS BRIAR CANDLE \",\"36 DOILIES DOLLY GIRL\",\"36 DOILIES VINTAGE CHRISTMAS\",\"36 FOIL HEART CAKE CASES\",\"36 FOIL STAR CAKE CASES \",\"36 PENCILS TUBE POSY\",\"36 PENCILS TUBE RED RETROSPOT\",\"36 PENCILS TUBE SKULLS\",\"36 PENCILS TUBE WOODLAND\",\"3D CHRISTMAS STAMPS STICKERS \",\"3D DOG PICTURE PLAYING CARDS\",\"3D HEARTS  HONEYCOMB PAPER GARLAND\",\"3D SHEET OF CAT STICKERS\",\"3D SHEET OF DOG STICKERS\",\"3D TRADITIONAL CHRISTMAS STICKERS\",\"3D VINTAGE CHRISTMAS STICKERS \",\"4 BLUE DINNER CANDLES SILVER FLOCK\",\"4 BURGUNDY WINE DINNER CANDLES\",\"4 IVORY DINNER CANDLES SILVER FLOCK\",\"4 LAVENDER BOTANICAL DINNER CANDLES\",\"4 LILY  BOTANICAL DINNER CANDLES\",\"4 PEAR BOTANICAL DINNER CANDLES\",\"4 PINK DINNER CANDLE SILVER FLOCK\",\"4 PINK FLOCK CHRISTMAS BALLS\",\"4 ROSE PINK DINNER CANDLES\",\"4 SKY BLUE DINNER CANDLES\",\"4 TRADITIONAL SPINNING TOPS\",\"4 VANILLA BOTANICAL CANDLES\",\"4 WILDFLOWER BOTANICAL CANDLES\",\"5 HOOK HANGER MAGIC TOADSTOOL\",\"5 HOOK HANGER RED MAGIC TOADSTOOL\",\"5 STRAND GLASS NECKLACE AMBER\",\"5 STRAND GLASS NECKLACE AMETHYST\",\"5 STRAND GLASS NECKLACE BLACK\",\"5 STRAND GLASS NECKLACE CRYSTAL\",\"50'S CHRISTMAS PAPER GIFT BAG\",\"50CM METAL STRING WITH  7 CLIPS\",\"6 CHOCOLATE LOVE HEART T-LIGHTS\",\"6 EGG HOUSE PAINTED WOOD\",\"6 GIFT TAGS 50'S CHRISTMAS \",\"6 GIFT TAGS VINTAGE CHRISTMAS \",\"6 RIBBONS ELEGANT CHRISTMAS \",\"6 RIBBONS EMPIRE  \",\"6 RIBBONS RUSTIC CHARM\",\"6 RIBBONS SHIMMERING PINKS \",\"6 ROCKET BALLOONS \",\"60 CAKE CASES DOLLY GIRL DESIGN\",\"60 CAKE CASES VINTAGE CHRISTMAS\",\"60 GOLD AND SILVER FAIRY CAKE CASES\",\"60 TEATIME FAIRY CAKE CASES\",\"6PC WOOD PLATE SET DISPOSABLE\",\"70'S ALPHABET WALL ART\",\"72 SWEETHEART FAIRY CAKE CASES\",\"75 BLACK PETIT FOUR CASES\",\"75 GREEN FAIRY CAKE CASES\",\"75 GREEN PETIT FOUR CASES\",\"A PRETTY THANK YOU CARD\",\"A4 WALL TIDY BLUE OFFICE\",\"A4 WALL TIDY RED FLOWERS\",\"ABC TREASURE BOOK BOX \",\"ABSTRACT CIRCLE JOURNAL \",\"ABSTRACT CIRCLES POCKET BOOK\",\"ABSTRACT CIRCLES SKETCHBOOK \",\"ACRYLIC GEOMETRIC LAMP\",\"ACRYLIC HANGING JEWEL,BLUE\",\"ACRYLIC HANGING JEWEL,PINK\",\"ACRYLIC JEWEL ANGEL,PINK\",\"ACRYLIC JEWEL ICICLE, BLUE\",\"ACRYLIC JEWEL ICICLE, PINK\",\"ACRYLIC JEWEL SNOWFLAKE, PINK\",\"ACRYLIC JEWEL SNOWFLAKE,PINK\",\"ADULT APRON APPLE DELIGHT\",\"ADVENT CALENDAR GINGHAM SACK\",\"AFGHAN SLIPPER SOCK PAIR\",\"AGED GLASS SILVER T-LIGHT HOLDER\",\"AIRLINE BAG VINTAGE JET SET BROWN\",\"AIRLINE BAG VINTAGE JET SET RED\",\"AIRLINE BAG VINTAGE JET SET WHITE\",\"AIRLINE BAG VINTAGE TOKYO 78\",\"AIRLINE BAG VINTAGE WORLD CHAMPION \",\"AIRLINE LOUNGE,METAL SIGN\",\"ALARM CLOCK BAKELIKE CHOCOLATE\",\"ALARM CLOCK BAKELIKE GREEN\",\"ALARM CLOCK BAKELIKE IVORY\",\"ALARM CLOCK BAKELIKE ORANGE\",\"ALARM CLOCK BAKELIKE PINK\",\"ALARM CLOCK BAKELIKE RED \",\"ALPHABET HEARTS STICKER SHEET\",\"ALPHABET STENCIL CRAFT\",\"ALUMINIUM HEART\",\"AMBER BERTIE GLASS BEAD BAG CHARM\",\"AMBER CHUNKY BEAD BRACELET W STRAP\",\"AMBER CHUNKY GLASS+BEAD NECKLACE\",\"AMBER DIAMANTE EXPANDABLE RING\",\"AMBER DROP EARRINGS W LONG BEADS\",\"AMBER FINE BEAD NECKLACE W TASSEL\",\"AMBER GLASS TASSLE BAG CHARM\",\"AMBER GLASS\\u002fSHELL\\u002fPEARL NECKLACE\",\"AMBER GLASS\\u002fSILVER BRACELET\",\"AMETHYST CHUNKY BEAD BRACELET W STR\",\"AMETHYST DIAMANTE EXPANDABLE RING\",\"AMETHYST HOOP EARRING FLORAL LEAF\",\"ANGEL DECORATION 3 BUTTONS \",\"ANGEL DECORATION PAINTED ZINC \",\"ANGEL DECORATION STARS ON DRESS\",\"ANGEL DECORATION WITH LACE PADDED\",\"ANIMAL STICKERS\",\"ANIMALS AND NATURE WALL ART\",\"ANT COPPER LIME BOUDICCA BRACELET\",\"ANT COPPER PINK BOUDICCA BRACELET\",\"ANT COPPER RED BOUDICCA BRACELET\",\"ANT COPPER TURQ BOUDICCA BRACELET\",\"ANT SILVER FUSCHIA BOUDICCA RING\",\"ANT SILVER LIME GREEN BOUDICCA RING\",\"ANT SILVER PURPLE BOUDICCA RING\",\"ANT SILVER TURQUOISE BOUDICCA RING\",\"ANT WHITE WIRE HEART SPIRAL\",\"ANTIQUE ALL GLASS CANDLESTICK\",\"ANTIQUE CREAM CUTLERY CUPBOARD\",\"ANTIQUE CREAM CUTLERY SHELF \",\"ANTIQUE GLASS DRESSING TABLE POT\",\"ANTIQUE GLASS HEART DECORATION \",\"ANTIQUE GLASS PEDESTAL BOWL\",\"ANTIQUE GLASS PLACE SETTING\",\"ANTIQUE HEART SHELF UNIT\",\"ANTIQUE IVORY WIRE BOWL SMALL\",\"ANTIQUE MID BLUE FLOWER EARRINGS\",\"ANTIQUE OLIVE GREEN FLOWER EARRINGS\",\"ANTIQUE OPAL WHITE FLOWER EARRINGS\",\"ANTIQUE RASPBERRY FLOWER EARRINGS\",\"ANTIQUE SILVER BAUBLE LAMP  \",\"ANTIQUE SILVER T-LIGHT GLASS\",\"ANTIQUE SILVER TEA GLASS ENGRAVED\",\"ANTIQUE TALL SWIRLGLASS TRINKET POT\",\"APOTHECARY MEASURING JAR\",\"APPLE BATH SPONGE\",\"APRON MODERN VINTAGE COTTON\",\"AQUA BERTIE GLASS BEAD BAG CHARM\",\"AREA PATROLLED METAL SIGN\",\"ARMY CAMO BOOKCOVER TAPE\",\"ART LIGHTS,FUNK MONKEY\",\"ASS COL CIRCLE MOBILE \",\"ASS COL LARGE SAND FROG P'WEIGHT\",\"ASS COL SMALL SAND GECKO P'WEIGHT\",\"ASS COLOUR GLOWING TIARAS\",\"ASS DES PHONE SPONGE CRAFT STICKER\",\"ASS FLORAL PRINT MULTI SCREWDRIVER\",\"ASS FLORAL PRINT SPIRIT LEVEL \",\"ASSORTED BOTTLE TOP  MAGNETS \",\"ASSORTED CAKES FRIDGE MAGNETS\",\"ASSORTED CHEESE FRIDGE MAGNETS\",\"ASSORTED CIRCULAR MOBILE\",\"ASSORTED COLOUR BIRD ORNAMENT\",\"ASSORTED COLOUR LIZARD SUCTION HOOK\",\"ASSORTED COLOUR METAL CAT \",\"ASSORTED COLOUR MINI CASES\",\"ASSORTED COLOUR SILK GLASSES CASE\",\"ASSORTED COLOUR SUCTION CUP HOOK\",\"ASSORTED COLOUR T-LIGHT HOLDER\",\"ASSORTED COLOURS SILK FAN\",\"ASSORTED CREEPY CRAWLIES\",\"ASSORTED EASTER DECORATIONS  BELLS\",\"ASSORTED EASTER GIFT TAGS\",\"ASSORTED FARMYARD ANIMALS IN BUCKET\",\"ASSORTED FLOWER COLOUR \\\"LEIS\\\"\",\"ASSORTED INCENSE PACK\",\"ASSORTED LAQUERED INCENSE HOLDERS\",\"ASSORTED MINI MADRAS NOTEBOOK\",\"ASSORTED MONKEY SUCTION CUP HOOK\",\"ASSORTED SANSKRIT MINI NOTEBOOK\",\"ASSORTED SHAPES PHOTO CLIP SILVER \",\"ASSORTED TUTTI FRUTTI  FOB NOTEBOOK\",\"ASSORTED TUTTI FRUTTI BRACELET\",\"ASSORTED TUTTI FRUTTI HEART BOX\",\"ASSORTED TUTTI FRUTTI KEYRING BALL\",\"ASSORTED TUTTI FRUTTI LARGE PURSE\",\"ASSORTED TUTTI FRUTTI MIRROR\",\"ASSORTED TUTTI FRUTTI NOTEBOOK\",\"ASSORTED TUTTI FRUTTI PEN\",\"ASSORTED TUTTI FRUTTI SMALL PURSE\",\"ASSTD COL BUTTERFLY\\u002fCRYSTAL W\\u002fCHIME\",\"ASSTD DESIGN 3D PAPER STICKERS\",\"ASSTD DESIGN RACING CAR PEN\",\"ASSTD FRUIT+FLOWERS FRIDGE MAGNETS\",\"ASSTD MULTICOLOUR CIRCLES MUG\",\"ASSTD RASTA KEY-CHAINS\",\"BABUSHKA LIGHTS STRING OF 10\",\"BABY BOOM RIBBONS \",\"BABY MOUSE RED GINGHAM DRESS\",\"BAG 125g SWIRLY MARBLES\",\"BAG 250g SWIRLY MARBLES\",\"BAG 500g SWIRLY MARBLES\",\"BAG OF SILVER STONES\",\"BAKING MOULD CHOCOLATE CUP CAKES\",\"BAKING MOULD EASTER EGG MILK CHOC\",\"BAKING MOULD EASTER EGG WHITE CHOC\",\"BAKING MOULD HEART MILK CHOCOLATE\",\"BAKING MOULD HEART WHITE CHOCOLATE\",\"BAKING MOULD ROSE MILK CHOCOLATE\",\"BAKING MOULD ROSE WHITE CHOCOLATE\",\"BAKING MOULD TOFFEE CUP  CHOCOLATE\",\"BAKING SET 9 PIECE RETROSPOT \",\"BAKING SET SPACEBOY DESIGN\",\"BALLOON ART MAKE YOUR OWN FLOWERS\",\"BALLOON PUMP WITH 10 BALLOONS\",\"BALLOON WATER BOMB PACK OF 35\",\"BALLOONS  WRITING SET \",\"BANK ACCOUNT  GREETING  CARD \",\"BANQUET BIRTHDAY  CARD  \",\"BAROQUE BUTTERFLY EARRINGS BLACK\",\"BAROQUE BUTTERFLY EARRINGS CRYSTAL\",\"BASKET OF FLOWERS SEWING KIT\",\"BASKET OF TOADSTOOLS\",\"BATH BUILDING BLOCK WORD\",\"BATHROOM HOOK\",\"BATHROOM METAL SIGN\",\"BATHROOM METAL SIGN \",\"BATHROOM SCALES FOOTPRINTS IN SAND\",\"BATHROOM SCALES RUBBER DUCKS\",\"BATHROOM SCALES, TROPICAL BEACH\",\"BATHROOM SET LOVE HEART DESIGN\",\"BEACH HUT DESIGN BLACKBOARD\",\"BEACH HUT KEY CABINET\",\"BEACH HUT MIRROR\",\"BEACH HUT SHELF W 3 DRAWERS\",\"BEADED CHANDELIER T-LIGHT HOLDER\",\"BEADED CRYSTAL HEART BLUE  LARGE\",\"BEADED CRYSTAL HEART BLUE ON STICK\",\"BEADED CRYSTAL HEART BLUE SMALL\",\"BEADED CRYSTAL HEART GREEN LARGE\",\"BEADED CRYSTAL HEART GREEN ON STICK\",\"BEADED CRYSTAL HEART GREEN SMALL\",\"BEADED CRYSTAL HEART PINK LARGE\",\"BEADED CRYSTAL HEART PINK ON STICK\",\"BEADED CRYSTAL HEART PINK SMALL\",\"BEADED LOVE HEART JEWELLERY SET\",\"BEADED PEARL HEART WHITE LARGE\",\"BEADED PEARL HEART WHITE ON STICK\",\"BELL HEART ANTIQUE GOLD\",\"BELL HEART DECORATION\",\"BELLE JARDINIERE CUSHION COVER\",\"BEST DAD CANDLE LETTERS\",\"BEWARE OF THE CAT METAL SIGN \",\"BICYCLE PUNCTURE REPAIR KIT \",\"BICYCLE SAFTEY WALL ART\",\"BIG DOUGHNUT FRIDGE MAGNETS\",\"BIG POLKADOT MUG\",\"BILI NUT AND WOOD NECKLACE\",\"BINGO SET\",\"BIRD BOX CHRISTMAS TREE DECORATION\",\"BIRD DECORATION GREEN POLKADOT\",\"BIRD DECORATION RED RETROSPOT\",\"BIRD HOUSE HOT WATER BOTTLE\",\"BIRD ON BRANCH CANVAS SCREEN\",\"BIRDCAGE DECORATION TEALIGHT HOLDER\",\"BIRDHOUSE DECORATION MAGIC GARDEN\",\"BIRDHOUSE GARDEN MARKER \",\"BIRDS MOBILE VINTAGE DESIGN\",\"BIRTHDAY BANNER TAPE\",\"BIRTHDAY BANQUET GIFT WRAP\",\"BIRTHDAY CARD, RETRO SPOT\",\"BISCUIT TIN 50'S CHRISTMAS\",\"BISCUIT TIN VINTAGE CHRISTMAS\",\"BISCUIT TIN VINTAGE GREEN\",\"BISCUIT TIN VINTAGE LEAF\",\"BISCUIT TIN VINTAGE RED\",\"BISCUITS SMALL BOWL LIGHT BLUE\",\"BLACK 3 BEAD DROP EARRINGS\",\"BLACK AND WHITE CAT BOWL\",\"BLACK AND WHITE DOG BOWL\",\"BLACK BAROQUE CARRIAGE CLOCK\",\"BLACK BAROQUE WALL CLOCK \",\"BLACK BIRD GARDEN DESIGN MUG\",\"BLACK CANDELABRA T-LIGHT HOLDER\",\"BLACK CHAMPAGNE GLASS\",\"BLACK CHERRY LIGHTS\",\"BLACK CHRISTMAS FLOCK DROPLET \",\"BLACK CHRISTMAS TREE 120CM\",\"BLACK CHRISTMAS TREE 60CM\",\"BLACK CHUNKY BEAD BRACELET W STRAP\",\"BLACK CRYSTAL DROP EARRINGS\",\"BLACK DIAMANTE EXPANDABLE RING\",\"BLACK DIAMOND CLUSTER NECKLACE\",\"BLACK DINER WALL CLOCK\",\"BLACK DROP CRYSTAL NECKLACE\",\"BLACK DROP EARRINGS W LONG BEADS\",\"BLACK EAR MUFF HEADPHONES\",\"BLACK ENAMEL FLOWER RING\",\"BLACK ENCHANTED FOREST PLACEMAT\",\"BLACK FEATHER CHRISTMAS DECORATION\",\"BLACK FINE BEAD NECKLACE W TASSEL\",\"BLACK FLOWER CANDLE PLATE\",\"BLACK GEMSTONE BRACELET\",\"BLACK GEMSTONE NECKLACE 45CM\",\"BLACK GLASS BRACELET W HEART CHARMS\",\"BLACK GRAND BAROQUE PHOTO FRAME\",\"BLACK HEART CARD HOLDER\",\"BLACK KITCHEN SCALES\",\"BLACK LOVE BIRD CANDLE\",\"BLACK LOVE BIRD T-LIGHT HOLDER\",\"BLACK MEDIUM GLASS CAKE STAND\",\"BLACK MINI TAPE MEASURE \",\"BLACK ORANGE SQUEEZER\",\"BLACK PHOTO ALBUM \",\"BLACK PIRATE TREASURE CHEST\",\"BLACK RECORD COVER FRAME\",\"BLACK SIL'T SQU CANDLE PLATE \",\"BLACK SILOUETTE CANDLE PLATE\",\"BLACK SMALL GLASS CAKE STAND\",\"BLACK SQUARE TABLE CLOCK\",\"BLACK STITCHED WALL CLOCK\",\"BLACK SWEETHEART BRACELET\",\"BLACK TEA TOWEL CLASSIC DESIGN\",\"BLACK TEA,COFFEE,SUGAR JARS\",\"BLACK VINT ART DEC CRYSTAL BRACELET\",\"BLACK VINT ART DEC CRYSTAL NECKLACE\",\"BLACK VINTAGE  CRYSTAL EARRINGS\",\"BLACK WINE GLASS\",\"BLACK+WHITE NECKLACE W TASSEL\",\"BLACK\\u002fBLUE POLKADOT UMBRELLA\",\"BLACK\\u002fWHITE GLASS\\u002fSILVER BRACELET\",\"BLACKCHRISTMAS TREE 30CM\",\"BLING KEY RING STAND\",\"BLOND DOLL DOORSTOP\",\"BLOSSOM  IMAGES NOTEBOOK SET\",\"BLOSSOM IMAGES GIFT WRAP SET\",\"BLOSSOM IMAGES SCRAP BOOK SET\",\"BLUE  DIAMANTE PEN IN GIFT BOX\",\"BLUE  TILE HOOK\",\"BLUE  VOILE LAMPSHADE\",\"BLUE & WHITE BREAKFAST TRAY\",\"BLUE 3 PIECE POLKADOT CUTLERY SET\",\"BLUE BIRDHOUSE DECORATION\",\"BLUE BLOSSOM HAIR CLIP\",\"BLUE BREAKFAST CUP AND SAUCER \",\"BLUE BUNNY EASTER EGG BASKET\",\"BLUE CALCULATOR RULER\",\"BLUE CAT BISCUIT BARREL PINK HEART\",\"BLUE CHARLIE+LOLA PERSONAL DOORSIGN\",\"BLUE CHECK BAG W HANDLE 34X20CM\",\"BLUE CHENILLE SHAGGY CUSHION COVER \",\"BLUE CIRCLES DESIGN MONKEY DOLL\",\"BLUE CIRCLES DESIGN TEDDY\",\"BLUE CLIMBING HYDRANGA ART FLOWER\",\"BLUE COAT RACK PARIS FASHION\",\"BLUE CRUSOE CHECK LAMPSHADE\",\"BLUE CUSHION COVER WITH FLOWER\",\"BLUE DAISY MOBILE\",\"BLUE DELPHINIUM ARTIFICIAL FLOWER\",\"BLUE DINER WALL CLOCK\",\"BLUE DISCO HANDBAG\",\"BLUE DRAGONFLY HELICOPTER\",\"BLUE DRAWER KNOB ACRYLIC EDWARDIAN\",\"BLUE EASTER EGG HUNT START POST\",\"BLUE EGG  SPOON\",\"BLUE FELT EASTER EGG BASKET\",\"BLUE FELT HANGING HEART WITH FLOWER\",\"BLUE FLOCK CUSHION COVER \",\"BLUE FLOCK GLASS CANDLEHOLDER\",\"BLUE FLOWER DES PURSE\",\"BLUE FLY SWAT\",\"BLUE GEISHA GIRL \",\"BLUE GIANT GARDEN THERMOMETER\",\"BLUE GINGHAM ROSE CUSHION COVER\",\"BLUE GLASS CHUNKY CHARM BRACELET\",\"BLUE GLASS GEMS IN BAG\",\"BLUE GREEN EMBROIDERY COSMETIC BAG\",\"BLUE HANGING GINGHAM EASTER HEN\",\"BLUE HAPPY BIRTHDAY BUNTING\",\"BLUE HARMONICA IN BOX \",\"BLUE HEART COMPACT MIRROR\",\"BLUE HOLE PUNCH\",\"BLUE JUICY FRUIT PHOTO FRAME\",\"BLUE KNITTED EGG COSY\",\"BLUE KNITTED HEN \",\"BLUE LEAVES AND BEADS PHONE CHARM\",\"BLUE MONTE CARLO HANDBAG\",\"BLUE MURANO TWIST BRACELET\",\"BLUE MURANO TWIST NECKLACE\",\"BLUE NETTING STORAGE HANGER\",\"BLUE NEW BAROQUE CANDLESTICK CANDLE\",\"BLUE NEW BAROQUE FLOCK CANDLESTICK\",\"BLUE ORGANDY ROUND LAMPSHADE W BEA\",\"BLUE OWL SOFT TOY\",\"BLUE PADDED SOFT MOBILE\",\"BLUE PAINTED KASHMIRI CHAIR\",\"BLUE PAISLEY JOURNAL \",\"BLUE PAISLEY NOTEBOOK\",\"BLUE PAISLEY POCKET BOOK\",\"BLUE PAISLEY SKETCHBOOK\",\"BLUE PAISLEY TISSUE BOX\",\"BLUE PAPER PARASOL \",\"BLUE PARTY BAGS \",\"BLUE PATCH PURSE PINK HEART\",\"BLUE POLKADOT BEAKER \",\"BLUE POLKADOT BOWL\",\"BLUE POLKADOT COFFEE MUG\",\"BLUE POLKADOT CUP\",\"BLUE POLKADOT EGG CUP \",\"BLUE POLKADOT GARDEN PARASOL\",\"BLUE POLKADOT KIDS BAG\",\"BLUE POLKADOT LUGGAGE TAG \",\"BLUE POLKADOT PASSPORT COVER\",\"BLUE POLKADOT PLATE \",\"BLUE POLKADOT PUDDING BOWL\",\"BLUE POLKADOT PURSE \",\"BLUE POLKADOT WASHING UP GLOVES\",\"BLUE POLKADOT WRAP\",\"BLUE POT PLANT CANDLE \",\"BLUE PUDDING SPOON\",\"BLUE REFECTORY CLOCK \",\"BLUE RETRO KITCHEN WALL CLOCK\",\"BLUE ROSE FABRIC MIRROR\",\"BLUE ROSE PATCH PURSE PINK BUTTERFL\",\"BLUE ROUND COMPACT MIRROR\",\"BLUE SAVANNAH PICNIC HAMPER FOR 2\",\"BLUE SCANDINAVIAN PAISLEY WRAP\",\"BLUE SCOTTIE DOG W FLOWER PATTERN\",\"BLUE SHARK HELICOPTER\",\"BLUE SPOT CERAMIC DRAWER KNOB\",\"BLUE SQUARE COMPACT MIRROR\",\"BLUE STONES ON WIRE FOR CANDLE\",\"BLUE STRIPE CERAMIC DRAWER KNOB\",\"BLUE STRIPES SHOULDER BAG\",\"BLUE SWEETHEART BRACELET\",\"BLUE TABLE RUN FLOWER\",\"BLUE TEA TOWEL CLASSIC DESIGN\",\"BLUE TEATIME PRINT BOWL \",\"BLUE TILED TRAY\",\"BLUE TRAVEL FIRST AID KIT\",\"BLUE TV TRAY TABLE \",\"BLUE VICTORIAN FABRIC OVAL BOX\",\"BLUE VINTAGE SPOT BEAKER\",\"BLUE WHITE PLASTIC RINGS LAMPSHADE\",\"BLUE WIRE SPIRAL CANDLE HOLDER\",\"BLUE\\u002fCREAM STRIPE CUSHION COVER \",\"BLUE\\u002fGREEN SHELL NECKLACE W PENDANT\",\"BLUE\\u002fNAT SHELL NECKLACE W PENDANT\",\"BLUE\\u002fYELLOW CERAMIC CANDLE HOLDER\",\"BLUE\\u002fYELLOW FLOWER DESIGN BIG MUG\",\"BOHEMIAN COLLAGE STATIONERY SET\",\"BOOM BOX SPEAKER BOYS\",\"BOOM BOX SPEAKER GIRLS\",\"BOOZE & WOMEN GREETING CARD \",\"BOTANICAL GARDENS WALL CLOCK \",\"BOTANICAL LAVENDER BIRTHDAY CARD\",\"BOTANICAL LAVENDER GIFT WRAP \",\"BOTANICAL LILY GIFT WRAP\",\"BOTANICAL LILY GREETING CARD\",\"BOTANICAL ROSE GIFT WRAP\",\"BOTANICAL ROSE GREETING CARD\",\"BOTTLE BAG RETROSPOT \",\"BOUDOIR SQUARE TISSUE BOX\",\"BOX OF 24 COCKTAIL PARASOLS\",\"BOX OF 6 ASSORTED COLOUR TEASPOONS\",\"BOX OF 6 CHRISTMAS CAKE DECORATIONS\",\"BOX OF 6 MINI 50'S CRACKERS\",\"BOX OF 6 MINI VINTAGE CRACKERS\",\"BOX OF 9 PEBBLE CANDLES\",\"BOX OF VINTAGE ALPHABET BLOCKS\",\"BOX OF VINTAGE JIGSAW BLOCKS \",\"BOX\\u002f12 CHICK & EGG IN BASKET\",\"BOYS ALPHABET IRON ON PATCHES\",\"BOYS VINTAGE TIN SEASIDE BUCKET\",\"BREAD BIN DINER STYLE IVORY\",\"BREAD BIN DINER STYLE MINT\",\"BREAD BIN DINER STYLE PINK\",\"BREAD BIN DINER STYLE RED \",\"BRIGHT BLUES RIBBONS \",\"BROCADE RING PURSE \",\"BROCANTE COAT RACK\",\"BROCANTE SHELF WITH HOOKS\",\"BROWN  PIRATE TREASURE CHEST \",\"BROWN CHECK CAT DOORSTOP \",\"BROWN KUKUI COCONUT SEED NECKLACE\",\"BUBBLEGUM RING ASSORTED\",\"BUFFALO BILL TREASURE BOOK BOX\",\"BUFFALO BILL WALL ART \",\"BULL DOG BOTTLE OPENER\",\"BULL DOG BOTTLE TOP WALL CLOCK\",\"BUNDLE OF 3 ALPHABET EXERCISE BOOKS\",\"BUNDLE OF 3 RETRO EXERCISE BOOKS\",\"BUNDLE OF 3 SCHOOL EXERCISE BOOKS  \",\"BUNNY DECORATION MAGIC GARDEN\",\"BUNNY EGG BOX\",\"BUNNY EGG GARLAND\",\"BUNNY WOODEN PAINTED WITH BIRD \",\"BUNNY WOODEN PAINTED WITH FLOWER \",\"BUNTING , SPOTTY \",\"BUTTERFLIES STICKERS\",\"BUTTERFLY CROCHET FOOD COVER\",\"BUTTERFLY CUSHION COVER\",\"BUTTERFLY HAIR BAND\",\"BUTTON BOX \",\"BUTTONS AND STRIPES NOTEBOOK \",\"CABIN BAG VINTAGE PAISLEY\",\"CABIN BAG VINTAGE RETROSPOT\",\"CACTI T-LIGHT CANDLES\",\"CAKE PLATE LOVEBIRD PINK\",\"CAKE PLATE LOVEBIRD WHITE\",\"CAKE SHOP  STICKER SHEET\",\"CAKE STAND 3 TIER MAGIC GARDEN\",\"CAKE STAND LACE WHITE\",\"CAKE STAND LOVEBIRD 2 TIER PINK\",\"CAKE STAND LOVEBIRD 2 TIER WHITE\",\"CAKE STAND VICTORIAN FILIGREE LARGE\",\"CAKE STAND VICTORIAN FILIGREE MED\",\"CAKE STAND VICTORIAN FILIGREE SMALL\",\"CAKE STAND WHITE TWO TIER LACE\",\"CAKES AND BOWS GIFT  TAPE\",\"CAKES AND RABBITS DESIGN FLANNEL \",\"CAKESTAND, 3 TIER, LOVEHEART\",\"CALENDAR FAMILY FAVOURITES\",\"CALENDAR IN SEASON DESIGN\",\"CALENDAR PAPER CUT DESIGN\",\"CAMOUFLAGE DESIGN TEDDY\",\"CAMOUFLAGE EAR MUFF HEADPHONES\",\"CAMOUFLAGE LED TORCH\",\"CAMPHOR WOOD PORTOBELLO MUSHROOM\",\"CANDLE HOLDER SILVER MADELINE\",\"CANDLE PLATE LACE WHITE\",\"CANDLEHOLDER PINK HANGING HEART\",\"CANDY HEART HANGING DECORATION\",\"CANDY SHOP  STICKER SHEET\",\"CANDY SPOT BUNNY\",\"CANDY SPOT CUSHION COVER\",\"CANDY SPOT EGG WARMER HARE\",\"CANDY SPOT EGG WARMER RABBIT\",\"CANDY SPOT HAND BAG\",\"CANDY SPOT HEART DECORATION\",\"CANDY SPOT TEA COSY\",\"CANNABIS LEAF BEAD CURTAIN\",\"CANNISTER VINTAGE LEAF DESIGN\",\"CAPIZ CHANDELIER\",\"CARAVAN SQUARE TISSUE BOX\",\"CARD BILLBOARD FONT\",\"CARD BIRTHDAY COWBOY\",\"CARD CAT AND TREE \",\"CARD CHRISTMAS VILLAGE\",\"CARD CIRCUS PARADE\",\"CARD DOG AND BALL \",\"CARD DOLLY GIRL \",\"CARD GINGHAM ROSE \",\"CARD HOLDER GINGHAM HEART\",\"CARD HOLDER LOVE BIRD LARGE \",\"CARD HOLDER LOVE BIRD SMALL\",\"CARD I LOVE LONDON \",\"CARD MOTORBIKE SANTA\",\"CARD PARTY GAMES \",\"CARD PSYCHEDELIC APPLES\",\"CARD SUKI BIRTHDAY\",\"CARD WEDDING DAY\",\"CARDHOLDER GINGHAM CHRISTMAS TREE\",\"CARDHOLDER GINGHAM STAR\",\"CARDHOLDER HOLLY WREATH METAL\",\"CARNIVAL BRACELET\",\"CAROUSEL DESIGN WASHBAG\",\"CAROUSEL PONIES BABY BIB\",\"CARROT CHARLIE+LOLA COASTER SET\",\"CARTOON  PENCIL SHARPENERS\",\"CAST IRON HOOK GARDEN FORK\",\"CAST IRON HOOK GARDEN TROWEL\",\"CAT AND BIRD WALL ART\",\"CAT BOWL VINTAGE CREAM\",\"CAT WITH SUNGLASSES BLANK CARD\",\"CD WALL TIDY BLUE OFFICE\",\"CD WALL TIDY RED FLOWERS\",\"CERAMIC BIRDHOUSE CRESTED TIT SMALL\",\"CERAMIC BOWL WITH LOVE HEART DESIGN\",\"CERAMIC BOWL WITH STRAWBERRY DESIGN\",\"CERAMIC CAKE BOWL + HANGING CAKES\",\"CERAMIC CAKE DESIGN SPOTTED MUG\",\"CERAMIC CAKE DESIGN SPOTTED PLATE\",\"CERAMIC CAKE STAND + HANGING CAKES\",\"CERAMIC CHERRY CAKE MONEY BANK\",\"CERAMIC HEART FAIRY CAKE MONEY BANK\",\"CERAMIC LOVE HEART MONEY BANK\",\"CERAMIC PIRATE CHEST MONEY BANK\",\"CERAMIC PLATE STRAWBERRY DESIGN\",\"CERAMIC STRAWBERRY CAKE MONEY BANK\",\"CERAMIC STRAWBERRY DESIGN MUG\",\"CERAMIC STRAWBERRY MONEY BOX\",\"CERAMIC STRAWBERRY TRINKET TRAY\",\"CHALKBOARD KITCHEN ORGANISER\",\"CHAMBRE HOOK\",\"CHAMPAGNE TRAY BLANK CARD\",\"CHARLIE & LOLA WASTEPAPER BIN BLUE\",\"CHARLIE & LOLA WASTEPAPER BIN FLORA\",\"CHARLIE + LOLA BISCUITS TINS\",\"CHARLIE + LOLA RED HOT WATER BOTTLE\",\"CHARLIE AND LOLA CHARLOTTE BAG\",\"CHARLIE AND LOLA FIGURES TINS\",\"CHARLIE AND LOLA TABLE TINS\",\"CHARLIE LOLA BLUE HOT WATER BOTTLE \",\"CHARLIE+LOLA MY ROOM DOOR SIGN\",\"CHARLIE+LOLA PINK HOT WATER BOTTLE\",\"CHARLIE+LOLA RED HOT WATER BOTTLE \",\"CHARLIE+LOLA\\\"EXTREMELY BUSY\\\" SIGN\",\"CHARLOTTE BAG ALPHABET  DESIGN\",\"CHARLOTTE BAG APPLES DESIGN\",\"CHARLOTTE BAG DOLLY GIRL DESIGN\",\"CHARLOTTE BAG PINK POLKADOT\",\"CHARLOTTE BAG SUKI DESIGN\",\"CHERRY BLOSSOM  DECORATIVE FLASK\",\"CHERRY BLOSSOM CANVAS ART PICTURE\",\"CHERRY BLOSSOM DECORATIVE FLASK\",\"CHERRY BLOSSOM LUGGAGE TAG\",\"CHERRY BLOSSOM PASSPORT COVER\",\"CHERRY BLOSSOM PURSE\",\"CHERRY BLOSSOM TABLE CLOCK \",\"CHERRY CROCHET FOOD COVER\",\"CHERUB HEART DECORATION GOLD\",\"CHERUB HEART DECORATION SILVER \",\"CHEST 7 DRAWER MA CAMPAGNE\",\"CHEST NATURAL WOOD 20 DRAWERS\",\"CHEST OF DRAWERS GINGHAM HEART \",\"CHICK GREY HOT WATER BOTTLE\",\"CHILDREN'S APRON DOLLY GIRL \",\"CHILDREN'S CIRCUS PARADE MUG\",\"CHILDREN'S SPACEBOY MUG\",\"CHILDRENS APRON APPLES DESIGN\",\"CHILDRENS APRON SPACEBOY DESIGN\",\"CHILDRENS CUTLERY CIRCUS PARADE\",\"CHILDRENS CUTLERY DOLLY GIRL \",\"CHILDRENS CUTLERY POLKADOT GREEN \",\"CHILDRENS CUTLERY POLKADOT PINK\",\"CHILDRENS CUTLERY RETROSPOT RED \",\"CHILDRENS CUTLERY SPACEBOY \",\"CHILDRENS DOLLY GIRL MUG\",\"CHILDRENS GARDEN GLOVES BLUE\",\"CHILDRENS GARDEN GLOVES PINK\",\"CHILDRENS TOY COOKING UTENSIL SET\",\"CHILDS BREAKFAST SET CIRCUS PARADE\",\"CHILDS BREAKFAST SET DOLLY GIRL \",\"CHILDS BREAKFAST SET SPACEBOY \",\"CHILDS GARDEN BRUSH BLUE\",\"CHILDS GARDEN BRUSH PINK\",\"CHILDS GARDEN FORK BLUE \",\"CHILDS GARDEN FORK PINK\",\"CHILDS GARDEN RAKE BLUE\",\"CHILDS GARDEN RAKE PINK\",\"CHILDS GARDEN SPADE BLUE\",\"CHILDS GARDEN SPADE PINK\",\"CHILDS GARDEN TROWEL BLUE \",\"CHILDS GARDEN TROWEL PINK\",\"CHILLI LIGHTS\",\"CHINESE DRAGON PAPER LANTERNS\",\"CHOC TRUFFLE GOLD TRINKET POT \",\"CHOCOLATE 1 WICK MORRIS BOX CANDLE\",\"CHOCOLATE 3 WICK MORRIS BOX CANDLE\",\"CHOCOLATE BOX RIBBONS \",\"CHOCOLATE CALCULATOR\",\"CHOCOLATE HOT WATER BOTTLE\",\"CHOCOLATE THIS WAY METAL SIGN\",\"CHRISTMAS CARD SCREEN PRINT \",\"CHRISTMAS CARD SINGING ANGEL\",\"CHRISTMAS CARD STACK OF PRESENTS\",\"CHRISTMAS CRAFT HEART STOCKING \",\"CHRISTMAS CRAFT LITTLE FRIENDS\",\"CHRISTMAS CRAFT TREE TOP ANGEL\",\"CHRISTMAS CRAFT WHITE FAIRY \",\"CHRISTMAS DECOUPAGE CANDLE\",\"CHRISTMAS GARLAND STARS,TREES\",\"CHRISTMAS GINGHAM HEART\",\"CHRISTMAS GINGHAM STAR\",\"CHRISTMAS GINGHAM TREE\",\"CHRISTMAS HANGING HEART WITH BELL\",\"CHRISTMAS HANGING SNOWFLAKE\",\"CHRISTMAS HANGING STAR WITH BELL\",\"CHRISTMAS HANGING TREE WITH BELL\",\"CHRISTMAS LIGHTS 10 REINDEER\",\"CHRISTMAS LIGHTS 10 SANTAS \",\"CHRISTMAS LIGHTS 10 VINTAGE BAUBLES\",\"CHRISTMAS METAL POSTCARD WITH BELLS\",\"CHRISTMAS METAL TAGS ASSORTED \",\"CHRISTMAS MUSICAL ZINC HEART \",\"CHRISTMAS MUSICAL ZINC STAR\",\"CHRISTMAS MUSICAL ZINC TREE\",\"CHRISTMAS PUDDING TRINKET POT \",\"CHRISTMAS RETROSPOT ANGEL WOOD\",\"CHRISTMAS RETROSPOT HEART WOOD\",\"CHRISTMAS RETROSPOT STAR WOOD\",\"CHRISTMAS RETROSPOT TREE WOOD\",\"CHRISTMAS STAR WISH LIST CHALKBOARD\",\"CHRISTMAS TABLE CANDLE SILVER SPIKE\",\"CHRISTMAS TOILET ROLL\",\"CHRISTMAS TREE DECORATION WITH BELL\",\"CHRISTMAS TREE HANGING GOLD\",\"CHRISTMAS TREE HANGING SILVER \",\"CHRISTMAS TREE HEART DECORATION\",\"CHRISTMAS TREE PAINTED ZINC \",\"CHRISTMAS TREE STAR DECORATION\",\"CHRISTMAS TREE T-LIGHT HOLDER\",\"CHRYSANTHEMUM  JOURNAL\",\"CHRYSANTHEMUM NOTEBOOK\",\"CHRYSANTHEMUM POCKET BOOK \",\"CHRYSANTHEMUM SKETCHBOOK \",\"CHUNKY SILVER NECKLACE PASTEL FLOWE\",\"CINAMMON & ORANGE WREATH\",\"CINAMMON SET OF 9 T-LIGHTS\",\"CINDERELLA CHANDELIER \",\"CINNAMON SCENTED VOTIVE CANDLE\",\"CIRCUS PARADE BABY GIFT SET\",\"CIRCUS PARADE CHILDRENS EGG CUP \",\"CIRCUS PARADE LUNCH BOX \",\"CITRONELLA CANDLE FLOWERPOT\",\"CITRONELLA CANDLE GARDEN POT\",\"CITRUS GARLAND FELT FLOWERS \",\"CLAM SHELL LARGE\",\"CLAM SHELL SMALL \",\"CLASSIC BICYCLE CLIPS \",\"CLASSIC CAFE SUGAR DISPENSER\",\"CLASSIC CHROME BICYCLE BELL \",\"CLASSIC DIAMANTE EARRINGS JET\",\"CLASSIC DIAMANTE NECKLACE JET\",\"CLASSIC FRENCH STYLE BASKET BROWN\",\"CLASSIC FRENCH STYLE BASKET GREEN \",\"CLASSIC FRENCH STYLE BASKET NATURAL\",\"CLASSIC GLASS COOKIE JAR\",\"CLASSIC METAL BIRDCAGE PLANT HOLDER\",\"CLASSIC WHITE FRAME\",\"CLASSICAL ROSE CANDLESTAND\",\"CLASSICAL ROSE SMALL VASE\",\"CLASSICAL ROSE TABLE LAMP\",\"CLEAR ACRYLIC FACETED BANGLE\",\"CLEAR CRYSTAL STAR PHONE CHARM\",\"CLEAR DRAWER KNOB ACRYLIC EDWARDIAN\",\"CLEAR LOVE BIRD T-LIGHT HOLDER\",\"CLEAR MILKSHAKE GLASS\",\"CLEAR STATIONERY BOX SET \",\"CLOCK MAGNET MUM'S KITCHEN\",\"CLOTHES PEGS RETROSPOT PACK 24 \",\"COCKLE SHELL DISH\",\"COCKTAIL SWORDS 50 PIECES\",\"COFFEE MUG APPLES DESIGN\",\"COFFEE MUG BLUE PAISLEY DESIGN\",\"COFFEE MUG CAT + BIRD DESIGN\",\"COFFEE MUG DOG + BALL DESIGN\",\"COFFEE MUG PEARS  DESIGN\",\"COFFEE MUG PINK PAISLEY DESIGN\",\"COFFEE SCENT PILLAR CANDLE\",\"COLOUR GLASS T-LIGHT HOLDER HANGING\",\"COLOUR GLASS. STAR T-LIGHT HOLDER\",\"COLOURFUL FLOWER FRUIT BOWL\",\"COLOURING PENCILS BROWN TUBE\",\"COLUMBIAN  CUBE CANDLE \",\"COLUMBIAN CANDLE RECTANGLE\",\"COLUMBIAN CANDLE ROUND\",\"COLUMBIAN CANDLE ROUND \",\"COLUMBIAN CUBE CANDLE\",\"CONDIMENT TRAY 4 BOWLS AND 4 SPOONS\",\"CONGRATULATIONS BUNTING\",\"COOK WITH WINE METAL SIGN \",\"COOKING SET RETROSPOT\",\"COPPER AND BRASS BAG CHARM\",\"COPPER\\u002fOLIVE GREEN FLOWER NECKLACE\",\"CORDIAL GLASS JUG\",\"CORONA MEXICAN TRAY\",\"COSMETIC BAG VINTAGE ROSE PAISLEY\",\"COSY HOUR CIGAR BOX MATCHES \",\"COSY HOUR GIANT TUBE MATCHES\",\"COSY SLIPPER SHOES LARGE GREEN\",\"COSY SLIPPER SHOES SMALL  RED \",\"COSY SLIPPER SHOES SMALL GREEN\",\"COTE D'AZURE NECKLACE\",\"COTTON APRON PANTRY DESIGN\",\"COWBOYS AND INDIANS BIRTHDAY CARD \",\"CRACKED GLAZE EARRINGS BROWN\",\"CRACKED GLAZE EARRINGS RED\",\"CRACKED GLAZE NECKLACE IVORY\",\"CRACKED GLAZE NECKLACE RED\",\"CRAZY DAISY HEART DECORATION\",\"CREAM AND PINK FLOWERS PONY \",\"CREAM BUNNY EASTER EGG BASKET\",\"CREAM CLIMBING HYDRANGA ART FLOWER\",\"CREAM CUPID HEARTS COAT HANGER\",\"CREAM DELPHINIUM ARTIFICIAL FLOWER\",\"CREAM FELT EASTER EGG BASKET\",\"CREAM HANGING HEART T-LIGHT HOLDER\",\"CREAM HEART CARD HOLDER\",\"CREAM SLICE FLANNEL CHOCOLATE SPOT \",\"CREAM SLICE FLANNEL PINK SPOT \",\"CREAM SWEETHEART EGG HOLDER\",\"CREAM SWEETHEART LETTER RACK\",\"CREAM SWEETHEART MINI CHEST\",\"CREAM SWEETHEART WALL CABINET\",\"CREAM WALL PLANTER HEART SHAPED\",\"CROCHET BEAR RED\\u002fBLUE  KEYRING\",\"CROCHET DOG KEYRING\",\"CROCHET LILAC\\u002fRED BEAR KEYRING\",\"CROCHET ROSE DES CLOTHES HANGER\",\"CROCHET ROSE PURSE WITH SUEDE BACK\",\"CROCHET WHITE RABBIT KEYRING \",\"CRYSTAL CHANDELIER T-LIGHT HOLDER\",\"CRYSTAL CZECH CROSS PHONE CHARM\",\"CRYSTAL DIAMANTE EXPANDABLE RING\",\"CRYSTAL DIAMANTE STAR BROOCH\",\"CRYSTAL FROG PHONE CHARM\",\"CRYSTAL HOOP EARRING FLORAL LEAF\",\"CRYSTAL PAIR HEART HAIR SLIDES\",\"CRYSTAL SEA HORSE PHONE CHARM\",\"CRYSTAL STILETTO PHONE CHARM\",\"CRYSTAL STUD EARRINGS ASSORTED COL \",\"CRYSTAL STUD EARRINGS CLEAR DISPLAY\",\"CUBIC MUG FLOCK BLUE ON BROWN\",\"CUBIC MUG FLOCK PINK ON BROWN\",\"CUBIC MUG PINK POLKADOT\",\"CUPBOARD 3 DRAWER MA CAMPAGNE\",\"CUPCAKE LACE PAPER SET 6\",\"CUPID DESIGN SCENTED CANDLES\",\"CUPID SCENTED CANDLE IN GLASS\",\"CURIO CABINET LINEN AND LACE \",\"CURIOUS  IMAGES NOTEBOOK SET\",\"CURIOUS IMAGES GIFT WRAP SET\",\"CURIOUS IMAGES SCRAP BOOK SET\",\"CUSHION COVER PINK UNION JACK\",\"CUT GLASS HEXAGON T-LIGHT HOLDER\",\"CUT GLASS T-LIGHT HOLDER OCTAGON\",\"CUTE BIRD CEATURE SCREEN\",\"CUTE CATS TAPE\",\"CUTE RABBIT CEATURE SCREEN \",\"DAIRY MAID  PUDDING BOWL\",\"DAIRY MAID LARGE MILK JUG\",\"DAIRY MAID STRIPE MUG\",\"DAIRY MAID TOASTRACK\",\"DAIRY MAID TRADITIONAL TEAPOT \",\"DAISIES  HONEYCOMB GARLAND \",\"DAISY FOLKART HEART DECORATION\",\"DAISY GARDEN MARKER\",\"DAISY HAIR BAND\",\"DAISY HAIR COMB\",\"DAISY JOURNAL \",\"DAISY NOTEBOOK \",\"DAISY SKETCHBOOK \",\"DANISH ROSE BEDSIDE CABINET\",\"DANISH ROSE DECORATIVE PLATE\",\"DANISH ROSE DELUXE COASTER\",\"DANISH ROSE FOLDING CHAIR\",\"DANISH ROSE PHOTO FRAME\",\"DANISH ROSE ROUND SEWING BOX\",\"DANISH ROSE TRINKET TRAYS\",\"DANISH ROSE UMBRELLA STAND\",\"DARK BIRD HOUSE TREE DECORATION\",\"DECORATION  BUTTERFLY  MAGIC GARDEN\",\"DECORATION  PINK CHICK MAGIC GARDEN\",\"DECORATION , WOBBLY CHICKEN, METAL \",\"DECORATION , WOBBLY RABBIT , METAL \",\"DECORATION HEN ON NEST, HANGING\",\"DECORATION SITTING BUNNY\",\"DECORATION WHITE CHICK MAGIC GARDEN\",\"DECORATIVE CATS BATHROOM BOTTLE\",\"DECORATIVE FLORE BATHROOM BOTTLE\",\"DECORATIVE HANGING SHELVING UNIT\",\"DECORATIVE PLANT POT WITH FRIEZE\",\"DECORATIVE ROSE BATHROOM BOTTLE\",\"DECORATIVE VINTAGE COFFEE  BOX\",\"DECORATIVE WICKER HEART LARGE\",\"DECORATIVE WICKER HEART MEDIUM\",\"DECORATIVE WICKER HEART SMALL\",\"DECOUPAGE,GREETING CARD,\",\"DELUXE SEWING KIT \",\"DENIM PATCH PURSE PINK BUTTERFLY\",\"DIAMANTE BOW BROOCH BLACK COLOUR\",\"DIAMANTE BOW BROOCH GREEN COLOUR\",\"DIAMANTE BOW BROOCH RED COLOUR\",\"DIAMANTE HAIR GRIP PACK\\u002f2 BLACK DIA\",\"DIAMANTE HAIR GRIP PACK\\u002f2 CRYSTAL\",\"DIAMANTE HAIR GRIP PACK\\u002f2 LT ROSE\",\"DIAMANTE HAIR GRIP PACK\\u002f2 MONTANA\",\"DIAMANTE HAIR GRIP PACK\\u002f2 PERIDOT\",\"DIAMANTE HAIR GRIP PACK\\u002f2 RUBY\",\"DIAMANTE HEART SHAPED WALL MIRROR, \",\"DIAMANTE NECKLACE\",\"DIAMANTE NECKLACE BLACK \",\"DIAMANTE NECKLACE GREEN\",\"DIAMANTE NECKLACE PURPLE\",\"DIAMANTE RING ASSORTED IN BOX.\",\"DIAMOND LAS VEGAS NECKLACE 45CM\",\"DINOSAUR HEIGHT CHART STICKER SET\",\"DINOSAUR KEYRINGS ASSORTED\",\"DINOSAUR LUNCH BOX WITH CUTLERY\",\"DINOSAUR PARTY BAG + STICKER SET\",\"DINOSAURS  WRITING SET \",\"DISCO BALL CHRISTMAS DECORATION\",\"DISCO BALL ROTATOR BATTERY OPERATED\",\"DO NOT TOUCH MY STUFF DOOR HANGER \",\"DOCTOR'S BAG SOFT TOY\",\"DOG AND BALL WALL ART\",\"DOG BOWL CHASING BALL DESIGN\",\"DOG BOWL VINTAGE CREAM\",\"DOG LICENCE WALL ART\",\"DOG TOY WITH PINK CROCHET SKIRT\",\"DOGGY RUBBER\",\"DOILEY BISCUIT TIN\",\"DOILY THANK YOU CARD\",\"DOLLCRAFT BOY JEAN-PAUL \",\"DOLLCRAFT GIRL AMELIE\",\"DOLLCRAFT GIRL NICOLE\",\"DOLLY CABINET 2 DRAWERS \",\"DOLLY CABINET 3 DRAWERS \",\"DOLLY GIRL BABY GIFT SET\",\"DOLLY GIRL CHILDRENS BOWL\",\"DOLLY GIRL CHILDRENS CUP\",\"DOLLY GIRL CHILDRENS EGG CUP\",\"DOLLY GIRL LUNCH BOX\",\"DOLLY GIRL MINI BACKPACK\",\"DOLLY GIRL WALL ART\",\"DOLLY HONEYCOMB GARLAND\",\"DOLLY MIXTURE CHILDREN'S UMBRELLA\",\"DOLPHIN WINDMILL\",\"DONKEY TAIL GAME \",\"DOOR HANGER  MUM + DADS ROOM\",\"DOORKNOB CERAMIC IVORY\",\"DOORKNOB CRACKED GLAZE BLUE\",\"DOORKNOB CRACKED GLAZE GREEN\",\"DOORKNOB CRACKED GLAZE IVORY\",\"DOORKNOB CRACKED GLAZE PINK\",\"DOORMAT 3 SMILEY CATS\",\"DOORMAT AIRMAIL \",\"DOORMAT BLACK FLOCK \",\"DOORMAT CHRISTMAS VILLAGE\",\"DOORMAT ENGLISH ROSE \",\"DOORMAT FAIRY CAKE\",\"DOORMAT FANCY FONT HOME SWEET HOME\",\"DOORMAT HEARTS\",\"DOORMAT HOME SWEET HOME BLUE \",\"DOORMAT I LOVE LONDON\",\"DOORMAT KEEP CALM AND COME IN\",\"DOORMAT MERRY CHRISTMAS RED \",\"DOORMAT MULTICOLOUR STRIPE\",\"DOORMAT NEIGHBOURHOOD WITCH \",\"DOORMAT NEW ENGLAND\",\"DOORMAT PEACE ON EARTH BLUE\",\"DOORMAT RED RETROSPOT\",\"DOORMAT RESPECTABLE HOUSE\",\"DOORMAT SPOTTY HOME SWEET HOME\",\"DOORMAT TOPIARY\",\"DOORMAT UNION FLAG\",\"DOORMAT UNION JACK GUNS AND ROSES\",\"DOORMAT VINTAGE LEAF\",\"DOORMAT WELCOME PUPPIES\",\"DOORMAT WELCOME SUNRISE\",\"DOORMAT WELCOME TO OUR HOME\",\"DOORSTOP FOOTBALL DESIGN\",\"DOORSTOP RACING CAR DESIGN\",\"DOORSTOP RETROSPOT HEART\",\"DOTCOMGIFTSHOP TEA TOWEL\",\"DOUBLE CERAMIC PARLOUR HOOK\",\"DOUGHNUT LIP GLOSS \",\"DOVE DECORATION PAINTED ZINC \",\"DRAGONS BLOOD INCENSE\",\"DRAWER KNOB CERAMIC BLACK\",\"DRAWER KNOB CERAMIC RED\",\"DRAWER KNOB VINTAGE GLASS BALL\",\"DRAWER KNOB VINTAGE GLASS HEXAGON\",\"DRAWER KNOB VINTAGE GLASS STAR\",\"DROP DIAMANTE EARRINGS BLACK DIAMON\",\"DROP DIAMANTE EARRINGS CRYSTAL\",\"DROP DIAMANTE EARRINGS GREEN\",\"DROP DIAMANTE EARRINGS PURPLE\",\"DROP EARRINGS W FLOWER & LEAF\",\"DUSTY PINK CHRISTMAS TREE 30CM\",\"DUSTY PINK CHRISTMAS TREE 60CM\",\"EASTER BUNNY GARLAND OF FLOWERS\",\"EASTER BUNNY HANGING GARLAND\",\"EASTER BUNNY WITH BASKET ON BACK\",\"EASTER BUNNY WREATH\",\"EASTER CRAFT 4 CHICKS \",\"EASTER CRAFT IVY WREATH WITH CHICK\",\"EASTER DECORATION EGG BUNNY \",\"EASTER DECORATION HANGING BUNNY\",\"EASTER DECORATION NATURAL CHICK\",\"EASTER TIN BUCKET\",\"EASTER TIN BUNNY BOUQUET\",\"EASTER TIN CHICKS IN GARDEN\",\"EASTER TIN CHICKS PINK DAISY\",\"EASTER TIN KEEPSAKE\",\"EASTER TREE YELLOW BIRDS\",\"EAU DE NIL LOVE BIRD CANDLE\",\"EAU DE NILE HEART SHAPE PHOTO FRAME\",\"EAU DE NILE JEWELLED PHOTOFRAME\",\"EAU DE NILE JEWELLED T-LIGHT HOLDER\",\"ECONOMY HOLIDAY PURSE\",\"ECONOMY LUGGAGE TAG\",\"EDWARDIAN DROP EARRINGS JET BLACK\",\"EDWARDIAN HEART PHOTO FRAME\",\"EDWARDIAN PARASOL BLACK\",\"EDWARDIAN PARASOL NATURAL\",\"EDWARDIAN PARASOL PINK\",\"EDWARDIAN PARASOL RED\",\"EDWARDIAN PHOTO FRAME\",\"EGG CUP HENRIETTA HEN CREAM \",\"EGG CUP HENRIETTA HEN PINK\",\"EGG CUP MILKMAID HEIDI\",\"EGG CUP MILKMAID HELGA \",\"EGG CUP MILKMAID INGRID\",\"EGG CUP NATURAL CHICKEN\",\"EGG FRYING PAN BLUE \",\"EGG FRYING PAN IVORY \",\"EGG FRYING PAN MINT \",\"EGG FRYING PAN PINK \",\"EGG FRYING PAN RED \",\"EIGHT PIECE CREEPY CRAWLIE SET\",\"EIGHT PIECE DINOSAUR SET\",\"EIGHT PIECE SNAKE  SET\",\"ELEPHANT BIRTHDAY CARD \",\"ELEPHANT CARNIVAL POUFFE\",\"ELEPHANT CLIP W SUCTION CUP\",\"ELVIS WALLHANGING \\u002f CURTAIN\",\"EMBOSSED GLASS TEALIGHT HOLDER\",\"EMBOSSED HEART TRINKET BOX\",\"EMBROIDERED RIBBON REEL CLAIRE\",\"EMBROIDERED RIBBON REEL DAISY \",\"EMBROIDERED RIBBON REEL EMILY \",\"EMBROIDERED RIBBON REEL RACHEL \",\"EMBROIDERED RIBBON REEL REBECCA \",\"EMBROIDERED RIBBON REEL ROSIE\",\"EMBROIDERED RIBBON REEL RUBY \",\"EMBROIDERED RIBBON REEL SALLY \",\"EMBROIDERED RIBBON REEL SOPHIE  \",\"EMBROIDERED RIBBON REEL SUSIE \",\"EMERGENCY FIRST AID TIN \",\"EMPIRE BIRTHDAY CARD\",\"EMPIRE DESIGN ROSETTE\",\"EMPIRE GIFT WRAP\",\"EMPIRE TISSUE BOX\",\"EMPIRE UNION JACK TV DINNER TRAY\",\"ENAMEL BLUE RIM BISCUIT BIN\",\"ENAMEL BLUE RIM COFFEE CONTAINER\",\"ENAMEL BLUE RIM TEA CONTAINER\",\"ENAMEL BOWL PANTRY\",\"ENAMEL BREAD BIN CREAM\",\"ENAMEL COLANDER CREAM\",\"ENAMEL DINNER PLATE PANTRY\",\"ENAMEL FIRE BUCKET CREAM\",\"ENAMEL FLOWER JUG CREAM\",\"ENAMEL JUG PANTRY\",\"ENAMEL MEASURING JUG CREAM\",\"ENAMEL MUG PANTRY\",\"ENAMEL PINK COFFEE CONTAINER\",\"ENAMEL PINK TEA CONTAINER\",\"ENAMEL WASH BOWL CREAM\",\"ENAMEL WATERING CAN CREAM\",\"ENCHANTED BIRD COATHANGER 5 HOOK\",\"ENCHANTED BIRD PLANT CAGE\",\"ENGLISH ROSE GARDEN SECATEURS\",\"ENGLISH ROSE HOT WATER BOTTLE\",\"ENGLISH ROSE METAL WASTE BIN\",\"ENGLISH ROSE NOTEBOOK A6 SIZE\",\"ENGLISH ROSE NOTEBOOK A7 SIZE\",\"ENGLISH ROSE SCENTED HANGING FLOWER\",\"ENGLISH ROSE SCENTED HANGING HEART\",\"ENGLISH ROSE SMALL SCENTED FLOWER\",\"ENGLISH ROSE SPIRIT LEVEL \",\"ENVELOPE 50 BLOSSOM IMAGES\",\"ENVELOPE 50 CURIOUS IMAGES\",\"ENVELOPE 50 ROMANTIC IMAGES\",\"ESSENTIAL BALM 3.5g TIN IN ENVELOPE\",\"ETCHED GLASS COASTER\",\"EUCALYPTUS & PINECONE  WREATH\",\"FAIRY CAKE BIRTHDAY CANDLE SET\",\"FAIRY CAKE DESIGN UMBRELLA\",\"FAIRY CAKE FLANNEL ASSORTED COLOUR\",\"FAIRY CAKE NOTEBOOK A5 SIZE\",\"FAIRY CAKES NOTEBOOK A6 SIZE\",\"FAIRY CAKES NOTEBOOK A7 SIZE\",\"FAIRY DREAMS INCENSE \",\"FAIRY SOAP SOAP HOLDER\",\"FAIRY TALE COTTAGE NIGHT LIGHT\",\"FAMILY ALBUM WHITE PICTURE FRAME\",\"FAMILY PHOTO FRAME CORNICE\",\"FAN BLACK FRAME \",\"FANCY FONT BIRTHDAY CARD, \",\"FANCY FONTS BIRTHDAY WRAP\",\"FANNY'S REST STOPMETAL SIGN\",\"FAUX FUR CHOCOLATE THROW\",\"FAWN AND MUSHROOM GREETING CARD\",\"FAWN BLUE HOT WATER BOTTLE\",\"FEATHER PEN,COAL BLACK\",\"FEATHER PEN,HOT PINK\",\"FEATHER PEN,LIGHT PINK\",\"FELT EGG COSY BLUE RABBIT \",\"FELT EGG COSY CHICKEN\",\"FELT EGG COSY LADYBIRD \",\"FELT EGG COSY WHITE RABBIT \",\"FELT FARM ANIMAL CHICKEN\",\"FELT FARM ANIMAL HEN\",\"FELT FARM ANIMAL RABBIT\",\"FELT FARM ANIMAL SHEEP\",\"FELT FARM ANIMAL WHITE BUNNY \",\"FELT TOADSTOOL  SMALL\",\"FELT TOADSTOOL LARGE\",\"FELTCRAFT 6 FLOWER FRIENDS\",\"FELTCRAFT BUTTERFLY HEARTS\",\"FELTCRAFT CHRISTMAS FAIRY\",\"FELTCRAFT CUSHION BUTTERFLY\",\"FELTCRAFT CUSHION OWL\",\"FELTCRAFT CUSHION RABBIT\",\"FELTCRAFT DOLL EMILY\",\"FELTCRAFT DOLL MARIA\",\"FELTCRAFT DOLL MOLLY\",\"FELTCRAFT DOLL ROSIE\",\"FELTCRAFT HAIRBAND PINK AND BLUE\",\"FELTCRAFT HAIRBAND PINK AND PURPLE\",\"FELTCRAFT HAIRBAND RED AND BLUE\",\"FELTCRAFT HAIRBANDS PINK AND WHITE \",\"FELTCRAFT PRINCESS CHARLOTTE DOLL\",\"FELTCRAFT PRINCESS LOLA DOLL\",\"FELTCRAFT PRINCESS OLIVIA DOLL\",\"FENG SHUI PILLAR CANDLE\",\"FILIGREE DIAMANTE EARRINGS\",\"FILIGREE HEART BIRD WHITE \",\"FILIGREE HEART BUTTERFLY WHITE \",\"FILIGREE HEART DAISY WHITE\",\"FILIGRIS HEART WITH BUTTERFLY\",\"FINE SILVER NECKLACE W PASTEL FLOWE\",\"FINE WICKER HEART \",\"FIRE POLISHED GLASS BRACELET BLACK\",\"FIRE POLISHED GLASS BRACELET GREEN\",\"FIRE POLISHED GLASS BRACELET MONTAN\",\"FIRE POLISHED GLASS BRACELET RED\",\"FIRE POLISHED GLASS NECKL BRONZE\",\"FIRE POLISHED GLASS NECKL GOLD\",\"FIRST AID TIN\",\"FIRST CLASS HOLIDAY PURSE \",\"FIRST CLASS LUGGAGE TAG \",\"FIRST CLASS PASSPORT COVER \",\"FIVE CATS HANGING DECORATION\",\"FIVE HEART HANGING DECORATION\",\"FLAG OF ST GEORGE \",\"FLAG OF ST GEORGE CAR FLAG\",\"FLAG OF ST GEORGE CHAIR\",\"FLAMES SUNGLASSES PINK LENSES\",\"FLOOR CUSHION ELEPHANT CARNIVAL\",\"FLOOR LAMP SHADE WOOD BASE\",\"FLORAL BATHROOM SET\",\"FLORAL BLUE MONSTER\",\"FLORAL FOLK STATIONERY SET\",\"FLORAL PINK MONSTER\",\"FLORAL SOFT CAR TOY\",\"FLOWER BLUE CLOCK WITH SUCKER\",\"FLOWER BURST SILVER RING CRYSTAL\",\"FLOWER FAIRY 5 DRAWER LINERS\",\"FLOWER FAIRY INCENSE BOUQUET\",\"FLOWER GARLAND NECKLACE RED\",\"FLOWER GLASS GARLAND NECKL.36\\\"BLACK\",\"FLOWER GLASS GARLAND NECKL.36\\\"BLUE\",\"FLOWER GLASS GARLAND NECKL.36\\\"GREEN\",\"FLOWER GLASS GARLD NECKL36\\\"AMETHYST\",\"FLOWER GLASS GARLD NECKL36\\\"TURQUOIS\",\"FLOWER PURPLE CLOCK W\\u002fSUCKER\",\"FLOWER SHOP DESIGN MUG\",\"FLOWER VINE RAFFIA FOOD COVER\",\"FLOWERS  STICKERS\",\"FLOWERS HANDBAG blue and orange\",\"FLOWERS TILE COASTER\",\"FLOWERS TILE HOOK\",\"FLUTED ANTIQUE CANDLE HOLDER\",\"FLYING PIG WATERING CAN\",\"FOLDING BUTTERFLY MIRROR HOT PINK \",\"FOLDING BUTTERFLY MIRROR IVORY \",\"FOLDING BUTTERFLY MIRROR RED  \",\"FOLDING CAMPING SCISSOR W\\u002fKNIF & S\",\"FOLDING SHOE TIDY\",\"FOLDING UMBRELLA BLACKBLUE POLKADOT\",\"FOLDING UMBRELLA CHOCOLATE POLKADOT\",\"FOLDING UMBRELLA CREAM POLKADOT\",\"FOLDING UMBRELLA PINKWHITE POLKADOT\",\"FOLDING UMBRELLA RED\\u002fWHITE POLKADOT\",\"FOLDING UMBRELLA WHITE\\u002fRED POLKADOT\",\"FOLK ART GREETING CARD,pack\\u002f12\",\"FOLK ART METAL HEART T-LIGHT HOLDER\",\"FOLK ART METAL STAR T-LIGHT HOLDER\",\"FOLK FELT HANGING MULTICOL GARLAND\",\"FOLKART CHRISTMAS TREE T-LIGHT HOLD\",\"FOLKART CLIP ON STARS\",\"FOLKART HEART NAPKIN RINGS\",\"FOLKART STAR CHRISTMAS DECORATIONS\",\"FOLKART ZINC HEART CHRISTMAS DEC\",\"FOLKART ZINC STAR CHRISTMAS DEC\",\"FOOD CONTAINER SET 3 LOVE HEART \",\"FOOD COVER WITH BEADS , SET 2 SIZES\",\"FOOD\\u002fDRINK SPONGE STICKERS\",\"FOOT STOOL HOME SWEET HOME \",\"FORKED CACTUS CANDLE\",\"FOUR HOOK  WHITE LOVEBIRDS\",\"FOUR RABBIT EASTER DECORATIONS\",\"FRAPPUCINO SCARF KNITTING KIT\",\"FREESTYLE CANVAS ART PICTURE\",\"FRENCH BATHROOM SIGN BLUE METAL\",\"FRENCH BLUE METAL DOOR SIGN 0\",\"FRENCH BLUE METAL DOOR SIGN 1\",\"FRENCH BLUE METAL DOOR SIGN 2\",\"FRENCH BLUE METAL DOOR SIGN 3\",\"FRENCH BLUE METAL DOOR SIGN 4\",\"FRENCH BLUE METAL DOOR SIGN 5\",\"FRENCH BLUE METAL DOOR SIGN 6\",\"FRENCH BLUE METAL DOOR SIGN 7\",\"FRENCH BLUE METAL DOOR SIGN 8\",\"FRENCH BLUE METAL DOOR SIGN 9\",\"FRENCH BLUE METAL DOOR SIGN No\",\"FRENCH CARRIAGE LANTERN\",\"FRENCH CHATEAU LARGE FRUIT BOWL \",\"FRENCH CHATEAU LARGE PLATTER \",\"FRENCH CHATEAU OVAL PLATTER\",\"FRENCH CHATEAU SMALL FRUITBOWL\",\"FRENCH ENAMEL CANDLEHOLDER\",\"FRENCH ENAMEL POT W LID\",\"FRENCH ENAMEL UTENSIL HOLDER\",\"FRENCH ENAMEL WATER BASIN\",\"FRENCH FLORAL CUSHION COVER \",\"FRENCH GARDEN SIGN BLUE METAL\",\"FRENCH KITCHEN SIGN BLUE METAL\",\"FRENCH LATTICE CUSHION COVER \",\"FRENCH LAUNDRY SIGN BLUE METAL\",\"FRENCH LAVENDER SCENT HEART\",\"FRENCH PAISLEY CUSHION COVER\",\"FRENCH PAISLEY CUSHION COVER \",\"FRENCH STYLE EMBOSSED HEART CABINET\",\"FRENCH STYLE STORAGE JAR BONBONS\",\"FRENCH STYLE STORAGE JAR CAFE \",\"FRENCH STYLE STORAGE JAR JAM\",\"FRENCH TOILET SIGN BLUE METAL\",\"FRENCH WC SIGN BLUE METAL\",\"FRESHWATER PEARL BRACELET GOLD\",\"FRIDGE MAGNETS LA VIE EN ROSE\",\"FRIDGE MAGNETS LES ENFANTS ASSORTED\",\"FRIDGE MAGNETS US DINER ASSORTED\",\"FROG CANDLE\",\"FROG KING WATERING CAN\",\"FROG SOCK PUPPET\",\"FROSTED WHITE BASE \",\"FRUIT SALAD BAG CHARM\",\"FRUIT TREE AND BIRDS WALL PLAQUE\",\"FRYING PAN BLUE POLKADOT\",\"FRYING PAN PINK POLKADOT\",\"FRYING PAN RED POLKADOT \",\"FRYING PAN UNION FLAG\",\"FULL ENGLISH BREAKFAST PLATE\",\"FUNKY DIVA PEN\",\"FUNKY FLOWER PICNIC BAG FOR 4\",\"FUNKY MONKEY CUSHION COVER\",\"FUNKY MONKEY GIFT BAG MEDIUM\",\"FUNKY MONKEY MUG\",\"FUNKY WASHING UP GLOVES ASSORTED\",\"FUSCHIA FLOWER PURSE WITH BEADS\",\"FUSCHIA RETRO BAR STOOL\",\"FUSCHIA TABLE RUN FLOWER \",\"FUSCHIA VOILE POINTY SHOE DEC\",\"GAOLERS KEYS DECORATIVE GARDEN \",\"GARAGE KEY FOB\",\"GARDEN METAL SIGN \",\"GARDEN PATH JOURNAL\",\"GARDEN PATH NOTEBOOK \",\"GARDEN PATH POCKET BOOK\",\"GARDEN PATH SKETCHBOOK\",\"GARDENERS KNEELING PAD CUP OF TEA \",\"GARDENERS KNEELING PAD KEEP CALM \",\"GARDENIA 1 WICK MORRIS BOXED CANDLE\",\"GARDENIA 3 WICK MORRIS BOXED CANDLE\",\"GARLAND WITH HEARTS AND BELLS\",\"GARLAND WITH STARS AND BELLS\",\"GARLAND WOODEN HAPPY EASTER\",\"GARLAND, MAGIC GARDEN 1.8M\",\"GARLAND, VINTAGE BELLS\",\"GENTLEMAN SHIRT REPAIR KIT \",\"GEORGIAN TRINKET BOX\",\"GIANT 50'S CHRISTMAS CRACKER\",\"GIANT MEDINA STAMPED METAL BOWL \",\"GIFT BAG BIRTHDAY\",\"GIFT BAG LARGE VINTAGE CHRISTMAS\",\"GIFT BAG PSYCHEDELIC APPLES\",\"GIN & TONIC DIET GREETING CARD \",\"GIN + TONIC DIET METAL SIGN\",\"GIN AND TONIC MUG\",\"GINGERBREAD MAN COOKIE CUTTER\",\"GINGHAM BABUSHKA DOORSTOP\",\"GINGHAM HEART  DOORSTOP RED\",\"GINGHAM OVEN GLOVE RED HEART \",\"GINGHAM RECIPE BOOK BOX\",\"GINGHAM ROSE WRAP\",\"GIRAFFE WOODEN RULER\",\"GIRLS ALPHABET IRON ON PATCHES \",\"GIRLS VINTAGE TIN SEASIDE BUCKET\",\"GIRLY PINK TOOL SET\",\"GLAMOROUS  MUG\",\"GLASS  BEURRE DISH\",\"GLASS  SONGBIRD STORAGE JAR\",\"GLASS AND BEADS BRACELET IVORY\",\"GLASS AND PAINTED BEADS BRACELET OL\",\"GLASS AND PAINTED BEADS BRACELET TO\",\"GLASS APOTHECARY BOTTLE ELIXIR\",\"GLASS APOTHECARY BOTTLE PERFUME\",\"GLASS APOTHECARY BOTTLE TONIC\",\"GLASS BEAD HOOP EARRINGS AMETHYST\",\"GLASS BEAD HOOP EARRINGS BLACK\",\"GLASS BEAD HOOP NECKLACE AMETHYST\",\"GLASS BEAD HOOP NECKLACE BLACK\",\"GLASS BEAD HOOP NECKLACE GREEN\",\"GLASS BEAD HOOP NECKLACE MONTANA\",\"GLASS BELL JAR LARGE\",\"GLASS BELL JAR SMALL\",\"GLASS BON BON JAR\",\"GLASS BONNE JAM JAR\",\"GLASS CAKE COVER AND PLATE\",\"GLASS CHALICE BLUE SMALL \",\"GLASS CHALICE GREEN  LARGE \",\"GLASS CHALICE GREEN  SMALL \",\"GLASS HEART T-LIGHT HOLDER \",\"GLASS JAR DAISY FRESH COTTON WOOL\",\"GLASS JAR DIGESTIVE BISCUITS\",\"GLASS JAR ENGLISH CONFECTIONERY\",\"GLASS JAR KINGS CHOICE\",\"GLASS JAR MARMALADE \",\"GLASS JAR PEACOCK BATH SALTS\",\"GLASS SPHERE CANDLE STAND MEDIUM\",\"GLASS STAR FROSTED T-LIGHT HOLDER\",\"GLASS TWIST BON BON JAR\",\"GLITTER BUTTERFLY CLIPS\",\"GLITTER CHRISTMAS HEART \",\"GLITTER CHRISTMAS STAR \",\"GLITTER CHRISTMAS TREE\",\"GLITTER CHRISTMAS TREE WITH BELLS\",\"GLITTER HANGING BUTTERFLY STRING\",\"GLITTER HEART GARLAND WITH BELLS \",\"GLITTER SNOW PEAR TREE DECORATION\",\"GLITTER STAR GARLAND WITH BELLS \",\"GLOW IN DARK DOLPHINS\",\"GOLD APERITIF GLASS\",\"GOLD COSMETIC BAG PINK STAR\",\"GOLD DIAMANTE STAR BROOCH\",\"GOLD EAR MUFF HEADPHONES\",\"GOLD FABRIC MIRROR\",\"GOLD FISHING GNOME\",\"GOLD FLOWER CUSHION COVER \",\"GOLD M PEARL  ORBIT NECKLACE\",\"GOLD M.O.P ORBIT BRACELET\",\"GOLD M.O.P ORBIT DROP EARRINGS\",\"GOLD MINI TAPE MEASURE \",\"GOLD MUG BONE CHINA TREE OF LIFE\",\"GOLD PHOTO FRAME\",\"GOLD PRINT PAPER BAG\",\"GOLD SCROLL GLASS T-LIGHT HOLDER\",\"GOLD STANDING GNOME\",\"GOLD TEDDY BEAR\",\"GOLD WASHBAG\",\"GOLD WINE GOBLET\",\"GOLD\\u002fAMBER DROP EARRINGS W LEAF\",\"GOLD\\u002fM.O.P PENDANT ORBIT NECKLACE\",\"GOLDIE LOOKING MIRROR\",\"GRAND CHOCOLATECANDLE\",\"GRASS HOPPER WOODEN WALL CLOCK \",\"GREEN  DIAMANTE PEN IN GIFT BOX\",\"GREEN BIRDHOUSE DECORATION\",\"GREEN BITTY LIGHT CHAIN\",\"GREEN CAT FLORAL CUSHION COVER \",\"GREEN CHRISTMAS TREE CARD HOLDER\",\"GREEN CHRISTMAS TREE STRING 20LIGHT\",\"GREEN DRAWER KNOB ACRYLIC EDWARDIAN\",\"GREEN DROP EARRINGS W BEAD CLUSTER\",\"GREEN EASTER EGG HUNT START POST\",\"GREEN ENAMEL FLOWER HAIR TIE\",\"GREEN ENAMEL FLOWER RING\",\"GREEN ENAMEL+GLASS HAIR COMB\",\"GREEN FERN JOURNAL \",\"GREEN FERN NOTEBOOK\",\"GREEN FERN POCKET BOOK\",\"GREEN FERN SKETCHBOOK \",\"GREEN GEISHA GIRL \",\"GREEN GIANT GARDEN THERMOMETER\",\"GREEN GLASS TASSLE BAG CHARM\",\"GREEN GOOSE FEATHER CHRISTMAS TREE \",\"GREEN GOOSE FEATHER TREE 60CM\",\"GREEN HEART COMPACT MIRROR\",\"GREEN HEART OF GLASS BRACELET\",\"GREEN JUICY FRUIT PHOTO FRAME\",\"GREEN METAL BOX ARMY SUPPLIES\",\"GREEN METAL SWINGING BUNNY\",\"GREEN MURANO TWIST BRACELET\",\"GREEN MURANO TWIST NECKLACE\",\"GREEN PAIR HEART HAIR SLIDES\",\"GREEN PENDANT TRIPLE SHELL NECKLACE\",\"GREEN PEONY CUSHION COVER\",\"GREEN POLKADOT BOWL\",\"GREEN POLKADOT PLATE \",\"GREEN POP ART MAO CUSHION COVER \",\"GREEN REGENCY TEACUP AND SAUCER\",\"GREEN ROSE WASHBAG\",\"GREEN ROUND COMPACT MIRROR\",\"GREEN SQUARE COMPACT MIRROR\",\"GREEN SWEETHEART BRACELET\",\"GREEN VINTAGE EARRINGS \",\"GREEN VINTAGE SPOT BEAKER\",\"GREEN WIRE STANDING CANDLE HOLDER\",\"GREEN WITH METAL BAG CHARM\",\"GREEN\\u002fBLUE CERAMIC CANDLE HOLDER\",\"GREEN\\u002fBLUE FLOWER DESIGN BIG MUG\",\"GREETING CARD, OVERCROWDED POOL.\",\"GREETING CARD, STICKY GORDON\",\"GREETING CARD, TWO SISTERS.\",\"GREETING CARD,SQUARE, DOUGHNUTS\",\"GREY ACRYLIC FACETED BANGLE\",\"GREY FLORAL FELTCRAFT SHOULDER BAG\",\"GREY HEART HOT WATER BOTTLE\",\"GROOVY CACTUS INFLATABLE\",\"GROW A FLYTRAP OR SUNFLOWER IN TIN\",\"GROW YOUR OWN BASIL IN ENAMEL MUG\",\"GROW YOUR OWN FLOWERS SET OF 3\",\"GROW YOUR OWN HERBS SET OF 3\",\"GROW YOUR OWN PLANT IN A CAN \",\"GUMBALL COAT RACK\",\"GUMBALL MAGAZINE RACK\",\"GUMBALL MONOCHROME COAT RACK\",\"GYMKHANA TREASURE BOOK BOX\",\"HAIRCLIPS FORTIES FABRIC ASSORTED\",\"HALL CABINET WITH 3 DRAWERS\",\"HAND OPEN SHAPE DECO.WHITE\",\"HAND OPEN SHAPE GOLD\",\"HAND OVER THE CHOCOLATE   SIGN \",\"HAND PAINTED HANGING EASTER EGG\",\"HAND TOWEL PALE BLUE W FLOWERS\",\"HAND TOWEL PINK FLOWER AND DAISY\",\"HAND WARMER BABUSHKA DESIGN\",\"HAND WARMER BIRD DESIGN\",\"HAND WARMER OWL DESIGN\",\"HAND WARMER RED LOVE HEART\",\"HAND WARMER RED POLKA DOT\",\"HAND WARMER SCOTTY DOG DESIGN\",\"HAND WARMER UNION JACK\",\"HANGING  BUTTERFLY T-LIGHT HOLDER\",\"HANGING BAUBLE T-LIGHT HOLDER LARGE\",\"HANGING BAUBLE T-LIGHT HOLDER SMALL\",\"HANGING BUTTERFLY  EGG\",\"HANGING CHICK  YELLOW DECORATION\",\"HANGING CHICK CREAM DECORATION\",\"HANGING CHICK GREEN DECORATION\",\"HANGING CLEAR MINI BOTTLE\",\"HANGING ENGRAVED METAL HEART\",\"HANGING FAIRY CAKE DECORATION\",\"HANGING GLASS ETCHED TEALIGHT\",\"HANGING HEART BASKET\",\"HANGING HEART BONHEUR\",\"HANGING HEART JAR T-LIGHT HOLDER\",\"HANGING HEART MIRROR DECORATION \",\"HANGING HEART ZINC T-LIGHT HOLDER\",\"HANGING JAM JAR T-LIGHT HOLDER\",\"HANGING MEDINA LANTERN SMALL\",\"HANGING METAL CHICKEN DECORATION\",\"HANGING METAL HEART LANTERN\",\"HANGING METAL RABBIT DECORATION\",\"HANGING METAL STAR LANTERN\",\"HANGING MINI COLOURED BOTTLES\",\"HANGING PHOTO CLIP ROPE LADDER\",\"HANGING QUILTED PATCHWORK APPLES\",\"HANGING RIDGE GLASS T-LIGHT HOLDER\",\"HANGING SPRING FLOWER EGG LARGE\",\"HANGING SPRING FLOWER EGG SMALL\",\"HANGING WOOD AND FELT BUTTERFLY \",\"HANGING WOOD AND FELT FLOWER\",\"HANGING WOOD AND FELT HEART\",\"HAPPY BIRTHDAY CARD STRIPEY TEDDY\",\"HAPPY BIRTHDAY CARD TEDDY\\u002fCAKE\",\"HAPPY EASTER HANGING DECORATION\",\"HAPPY STENCIL CRAFT\",\"HARDMAN MUG 3 ASSORTED\",\"HAWAIIAN GRASS SKIRT \",\"HEADS AND TAILS SPORTING FUN\",\"HEART BEADED TRELLIS DECORATION\",\"HEART BUTTONS JEWELLERY BOX\",\"HEART CALCULATOR\",\"HEART DECORATION PAINTED ZINC \",\"HEART DECORATION RUSTIC HANGING \",\"HEART DECORATION WITH PEARLS \",\"HEART FILIGREE DOVE  SMALL\",\"HEART FILIGREE DOVE LARGE\",\"HEART GARLAND RUSTIC PADDED\",\"HEART IVORY TRELLIS LARGE\",\"HEART IVORY TRELLIS SMALL\",\"HEART MINI PORTRAIT FRAME\",\"HEART MIRROR ANTIQUE WHITE\",\"HEART OF WICKER LARGE\",\"HEART OF WICKER SMALL\",\"HEART SHAPE WIRELESS DOORBELL\",\"HEART SHAPED HOLLY WREATH\",\"HEART SHAPED MIRROR\",\"HEART STRING MEMO HOLDER HANGING\",\"HEART T-LIGHT HOLDER\",\"HEART T-LIGHT HOLDER \",\"HEART T-LIGHT HOLDER WILLIE WINKIE\",\"HEART TRELLIS TRIPLE T-LIGHT HOLDER\",\"HEART WOODEN CHRISTMAS DECORATION\",\"HEART WREATH DECORATION WITH BELL\",\"HEARTS  STICKERS\",\"HEARTS GIFT TAPE\",\"HEARTS WRAPPING TAPE \",\"HEAVENS SCENT FRAGRANCE OILS ASSTD\",\"HELLO SAILOR BATHROOM SET\",\"HELLO SAILOR BLUE SOAP HOLDER\",\"HEN HOUSE DECORATION\",\"HEN HOUSE W CHICK IN NEST\",\"HEN HOUSE W CHICK STANDING\",\"HEN HOUSE W FAMILY IN BARN & NEST\",\"HEN PARTY CORDON BARRIER TAPE\",\"HENRIETTA HEN MUG \",\"HERB MARKER BASIL\",\"HERB MARKER CHIVES \",\"HERB MARKER MINT\",\"HERB MARKER PARSLEY\",\"HERB MARKER ROSEMARY\",\"HERB MARKER THYME\",\"HI TEC ALPINE HAND WARMER\",\"HILDA CANDY SPOT RABBIT\",\"HIPPY CHIC DECORATIVE PARASOL\",\"HOLIDAY FUN LUDO\",\"HOLLY TOP CHRISTMAS STOCKING\",\"HOME BUILDING BLOCK WORD\",\"HOME GARLAND PAINTED ZINC \",\"HOME SMALL WOOD LETTERS\",\"HOME SWEEET HOME 3 PEG HANGER \",\"HOME SWEET HOME 2 DRAWER CABINET\",\"HOME SWEET HOME BLACKBOARD\",\"HOME SWEET HOME BOTTLE \",\"HOME SWEET HOME CUSHION COVER \",\"HOME SWEET HOME HANGING HEART\",\"HOME SWEET HOME HOOK\",\"HOME SWEET HOME KEY HOLDER\",\"HOME SWEET HOME METAL SIGN \",\"HOME SWEET HOME MUG\",\"HOMEMADE JAM SCENTED CANDLES\",\"HOOK, 1 HANGER ,MAGIC GARDEN\",\"HORSE & PONY WALL ART\",\"HOT BATHS METAL SIGN\",\"HOT BATHS SOAP HOLDER\",\"HOT STUFF HOT WATER BOTTLE\",\"HOT WATER BOTTLE BABUSHKA \",\"HOT WATER BOTTLE I AM SO POORLY\",\"HOT WATER BOTTLE KEEP CALM\",\"HOT WATER BOTTLE SEX BOMB\",\"HOT WATER BOTTLE TEA AND SYMPATHY\",\"HOUSE SHAPE PENCIL SHARPENER\",\"HOUSE WRECKING METAL SIGN \",\"HYACINTH BULB T-LIGHT CANDLES\",\"High Resolution Image\",\"I CAN ONLY PLEASE ONE PERSON MUG\",\"I LOVE LONDON BABY GIFT SET\",\"I LOVE LONDON BEAKER\",\"I LOVE LONDON WALL ART\",\"I'M ON HOLIDAY METAL SIGN\",\"ICE CREAM BUBBLES\",\"ICE CREAM DESIGN GARDEN PARASOL\",\"ICE CREAM PEN LIP GLOSS \",\"ICE CREAM SUNDAE LIP GLOSS\",\"ICON MUG REVOLUTIONARY\",\"ICON PLACEMAT POP ART ELVIS\",\"IF YOU CAN'T STAND THE HEAT MUG\",\"ILLUSTRATED CAT BOWL \",\"INCENSE BAZAAR PEACH\",\"INFLATABLE POLITICAL GLOBE \",\"IVORY CAFE HANGING LAMP \",\"IVORY CHANDELIER T-LIGHT HOLDER\",\"IVORY DINER WALL CLOCK\",\"IVORY EMBROIDERED QUILT \",\"IVORY ENCHANTED FOREST PLACEMAT\",\"IVORY GIANT GARDEN THERMOMETER\",\"IVORY GOLD METAL BAG CHARM\",\"IVORY HANGING DECORATION  BIRD\",\"IVORY HANGING DECORATION  EGG\",\"IVORY HANGING DECORATION  HEART\",\"IVORY KITCHEN SCALES\",\"IVORY KNITTED MUG COSY \",\"IVORY LOVE BIRD CANDLE\",\"IVORY PAPER CUP CAKE CASES \",\"IVORY PENDANT TRIPLE SHELL NECKLACE\",\"IVORY PILLAR CANDLE GOLD FLOCK\",\"IVORY PILLAR CANDLE SILVER FLOCK\",\"IVORY REFECTORY CLOCK\",\"IVORY RETRO KITCHEN WALL CLOCK\",\"IVORY SCULPTED RND CANDLE \",\"IVORY SHELL HEART EARRINGS\",\"IVORY SHELL HEART NECKLACE\",\"IVORY STRING CURTAIN WITH POLE \",\"IVORY SWEETHEART SOAP DISH\",\"IVORY SWEETHEART WIRE LETTER RACK \",\"IVORY WICKER HEART LARGE\",\"IVORY WICKER HEART MEDIUM\",\"IVORY WICKER HEART SMALL\",\"IVORY WIRE KITCHEN ORGANISER\",\"IVORY WIRE SWEETHEART LETTER TRAY\",\"IVY HEART WREATH\",\"JADE CRYSTAL+GLASS BRACELET\",\"JADE DROP EARRINGS W FILIGREE\",\"JAM CLOCK MAGNET\",\"JAM JAR WITH BLUE LID\",\"JAM JAR WITH PINK LID\",\"JAM MAKING SET PRINTED\",\"JAM MAKING SET WITH JARS\",\"JARDIN ETCHED GLASS BUTTER DISH\",\"JARDIN ETCHED GLASS FRUITBOWL\",\"JARDIN ETCHED GLASS LARGE BELL JAR\",\"JARDIN ETCHED GLASS SMALL BELL JAR\",\"JASMINE VOTIVE CANDLE\",\"JAZZ HEARTS ADDRESS BOOK\",\"JAZZ HEARTS PURSE NOTEBOOK\",\"JET BLACK LAS VEGAS BRACELET ROUND\",\"JET BLACK LAS VEGAS NECKLACE 45CM\",\"JIGSAW RABBIT AND BIRDHOUSE\",\"JIGSAW TOADSTOOLS 3 PIECE\",\"JIGSAW TREE WITH BIRDHOUSE\",\"JIGSAW TREE WITH WATERING CAN\",\"JINGLE BELL HEART ANTIQUE SILVER\",\"JINGLE BELLS TREE DECORATION\",\"JOY LARGE WOOD LETTERS\",\"JOY WOODEN BLOCK LETTERS\",\"JUMBO  BAG BAROQUE BLACK WHITE\",\"JUMBO BAG 50'S CHRISTMAS \",\"JUMBO BAG ALPHABET\",\"JUMBO BAG APPLES\",\"JUMBO BAG CHARLIE AND LOLA TOYS\",\"JUMBO BAG DOILEY PATTERNS\",\"JUMBO BAG DOLLY GIRL DESIGN\",\"JUMBO BAG OWLS\",\"JUMBO BAG PAISLEY PARK\",\"JUMBO BAG PEARS\",\"JUMBO BAG PINK POLKADOT\",\"JUMBO BAG PINK VINTAGE PAISLEY\",\"JUMBO BAG RED RETROSPOT\",\"JUMBO BAG SCANDINAVIAN BLUE PAISLEY\",\"JUMBO BAG SPACEBOY DESIGN\",\"JUMBO BAG STRAWBERRY\",\"JUMBO BAG TOYS \",\"JUMBO BAG VINTAGE CHRISTMAS \",\"JUMBO BAG VINTAGE LEAF\",\"JUMBO BAG WOODLAND ANIMALS\",\"JUMBO SHOPPER VINTAGE RED PAISLEY\",\"JUMBO STORAGE BAG SKULLS\",\"JUMBO STORAGE BAG SUKI\",\"JUNGLE POPSICLES ICE LOLLY HOLDERS\",\"KEEP CALM BIRTHDAY WRAP\",\"KEEP CALM WALL ART \",\"KEEP OUT BOYS DOOR HANGER \",\"KENSINGTON COFFEE SET\",\"KEY CABINET MA CAMPAGNE\",\"KEY FOB , BACK DOOR \",\"KEY FOB , FRONT  DOOR \",\"KEY FOB , SHED\",\"KEY RING BASEBALL BOOT ASSORTED \",\"KEY RING BASEBALL BOOT UNION JACK\",\"KIDS RAIN MAC BLUE\",\"KIDS RAIN MAC PINK\",\"KINGS CHOICE BISCUIT TIN\",\"KINGS CHOICE GIANT TUBE MATCHES\",\"KINGS CHOICE MUG\",\"KINGS CHOICE TEA CADDY \",\"KITCHEN FLOWER POTS WALL PLAQUE\",\"KITCHEN METAL SIGN\",\"KITTENS DESIGN FLANNEL\",\"KITTY PENCIL ERASERS\",\"KNEELING MAT HOUSEWORK  DESIGN\",\"KNICKERBOCKERGLORY MAGNET ASSORTED \",\"KNITTED RABBIT DOLL \",\"KNITTED UNION FLAG HOT WATER BOTTLE\",\"LA PALMIERA TILE COASTER\",\"LA PALMIERA TILE HOOK\",\"LA PALMIERA WALL THERMOMETER\",\"LADIES & GENTLEMEN METAL SIGN\",\"LADLE LOVE HEART PINK\",\"LADLE LOVE HEART RED \",\"LADS ONLY TISSUE BOX\",\"LADYBIRD + BEE RAFFIA FOOD COVER\",\"LANDMARK FRAME BAKER STREET \",\"LANDMARK FRAME CAMDEN TOWN \",\"LANDMARK FRAME COVENT GARDEN \",\"LANDMARK FRAME LONDON BRIDGE \",\"LANDMARK FRAME NOTTING HILL \",\"LANDMARK FRAME OXFORD STREET\",\"LANTERN CREAM GAZEBO \",\"LARGE  TALL CAMPHOR WOOD TOADSTOOL \",\"LARGE ANTIQUE WHITE PHOTO FRAME\",\"LARGE APOTHECARY MEASURING JAR \",\"LARGE BLACK DIAMANTE HAIRSLIDE\",\"LARGE BLUE PROVENCAL CERAMIC BALL\",\"LARGE BONNE JAM JAR  T-LIGHT HOLDER\",\"LARGE CAKE STAND  HANGING STRAWBERY\",\"LARGE CAKE STAND HANGING HEARTS\",\"LARGE CAKE TOWEL CHOCOLATE SPOTS\",\"LARGE CAKE TOWEL PINK SPOTS\",\"LARGE CAMPHOR WOOD FIELD MUSHROOM \",\"LARGE CERAMIC TOP STORAGE JAR\",\"LARGE CHINESE STYLE SCISSOR\",\"LARGE CIRCULAR MIRROR MOBILE\",\"LARGE CRYSTAL DIAMANTE HAIRSLIDE\",\"LARGE DECO JEWELLERY STAND\",\"LARGE HANGING IVORY & RED WOOD BIRD\",\"LARGE HEART MEASURING SPOONS\",\"LARGE IVORY HEART WALL ORGANISER\",\"LARGE MEDINA STAMPED METAL BOWL \",\"LARGE MINT DIAMANTE HAIRSLIDE\",\"LARGE PARLOUR FRAME\",\"LARGE PINK GLASS SUNDAE DISH\",\"LARGE POPCORN HOLDER \",\"LARGE PURPLE BABUSHKA NOTEBOOK  \",\"LARGE RED BABUSHKA NOTEBOOK \",\"LARGE RED RETROSPOT WINDMILL\",\"LARGE ROUND WICKER PLATTER \",\"LARGE SKULL WINDMILL\",\"LARGE STRIPES CHOCOLATE GIFT BAG\",\"LARGE TORTILLA DESIGN RED BOWL\",\"LARGE WHITE HEART OF WICKER\",\"LARGE WHITE HONEYCOMB PAPER BELL  \",\"LARGE WHITE\\u002fPINK ROSE ART FLOWER\",\"LARGE YELLOW BABUSHKA NOTEBOOK \",\"LARGE ZINC GLASS CANDLEHOLDER\",\"LARGE ZINC HEART WALL ORGANISER\",\"LASER CUT MULTI STRAND NECKLACE\",\"LAUNDRY 15C METAL SIGN\",\"LAUREL HEART ANTIQUE GOLD\",\"LAUREL HEART ANTIQUE SILVER\",\"LAUREL STAR ANTIQUE GOLD\",\"LAUREL STAR ANTIQUE SILVER \",\"LAVENDER INCENSE 40 CONES IN TIN\",\"LAVENDER INCENSE IN TIN\",\"LAVENDER SCENT CAKE CANDLE\",\"LAVENDER SCENTED FABRIC HEART\",\"LAVENDER TOILETTE BOTTLE\",\"LAZER CUT NECKLACE W PASTEL BEADS\",\"LE GRAND TRAY CHIC SET\",\"LEAVES MAGNETIC  SHOPPING LIST\",\"LED TEA LIGHTS\",\"LETS GO SHOPPING COTTON TOTE BAG\",\"LETTER \\\"A\\\" BLING KEY RING\",\"LETTER \\\"B\\\" BLING KEY RING\",\"LETTER \\\"C\\\" BLING KEY RING\",\"LETTER \\\"D\\\" BLING KEY RING\",\"LETTER \\\"E\\\" BLING KEY RING\",\"LETTER \\\"F\\\" BLING KEY RING\",\"LETTER \\\"G\\\" BLING KEY RING\",\"LETTER \\\"H\\\" BLING KEY RING\",\"LETTER \\\"I\\\" BLING KEY RING\",\"LETTER \\\"J\\\" BLING KEY RING\",\"LETTER \\\"K\\\" BLING KEY RING\",\"LETTER \\\"L\\\" BLING KEY RING\",\"LETTER \\\"M\\\" BLING KEY RING\",\"LETTER \\\"N\\\" BLING KEY RING\",\"LETTER \\\"O\\\" BLING KEY RING\",\"LETTER \\\"P\\\" BLING KEY RING\",\"LETTER \\\"R\\\" BLING KEY RING\",\"LETTER \\\"S\\\" BLING KEY RING\",\"LETTER \\\"T\\\" BLING KEY RING\",\"LETTER \\\"U\\\" BLING KEY RING\",\"LETTER \\\"V\\\" BLING KEY RING\",\"LETTER \\\"W\\\" BLING KEY RING\",\"LETTER \\\"Y\\\" BLING KEY RING\",\"LETTER \\\"Z\\\" BLING KEY RING\",\"LETTER HOLDER HOME SWEET HOME\",\"LETTER SHAPE PENCIL SHARPENER\",\"LIGHT DECORATION BATTERY OPERATED\",\"LIGHT GARLAND BUTTERFILES PINK\",\"LIGHT PINK FLOCK GLASS CANDLEHOLDER\",\"LIGHTHOUSE PRINTED METAL SIGN\",\"LILAC DIAMANTE PEN IN GIFT BOX\",\"LILAC FEATHERS CURTAIN\",\"LILAC GAUZE BUTTERFLY LAMPSHADE\",\"LILAC VOTIVE CANDLE\",\"LILY BROOCH AMETHYST COLOUR\",\"LILY BROOCH OLIVE COLOUR\",\"LIPSTICK PEN BABY PINK\",\"LIPSTICK PEN FUSCHIA\",\"LIPSTICK PEN RED\",\"LITTLE GREEN MONSTER SOFT TOY\",\"LITTLE PINK MONSTER SOFT TOY\",\"LOCAL CAFE MUG\",\"LOLITA  DESIGN  COTTON TOTE BAG\",\"LONDON BUS COFFEE MUG\",\"LONG SILVER NECKLACE PASTEL FLOWER\",\"LOVE BUILDING BLOCK WORD\",\"LOVE GARLAND PAINTED ZINC \",\"LOVE HEART NAPKIN BOX \",\"LOVE HEART POCKET WARMER\",\"LOVE HEART SOCK HANGER\",\"LOVE HEART TRINKET POT\",\"LOVE HOT WATER BOTTLE\",\"LOVE LARGE WOOD LETTERS \",\"LOVE POTION MASALA INCENSE\",\"LOVE SEAT ANTIQUE WHITE METAL\",\"LOVEBIRD HANGING DECORATION WHITE \",\"LOVELY BONBON STICKER SHEET\",\"LUNCH BAG  BLACK SKULL.\",\"LUNCH BAG ALPHABET DESIGN\",\"LUNCH BAG APPLE DESIGN\",\"LUNCH BAG CARS BLUE\",\"LUNCH BAG DOILEY PATTERN \",\"LUNCH BAG DOLLY GIRL DESIGN\",\"LUNCH BAG PAISLEY PARK  \",\"LUNCH BAG PINK POLKADOT\",\"LUNCH BAG RED RETROSPOT\",\"LUNCH BAG RED VINTAGE DOILY\",\"LUNCH BAG SPACEBOY DESIGN \",\"LUNCH BAG SUKI  DESIGN \",\"LUNCH BAG VINTAGE LEAF DESIGN\",\"LUNCH BAG WOODLAND\",\"LUNCH BOX I LOVE LONDON\",\"LUNCH BOX WITH CUTLERY FAIRY CAKES \",\"LUNCH BOX WITH CUTLERY RETROSPOT \",\"LUSH GREENS RIBBONS\",\"M\\u002fCOLOUR POM-POM CURTAIN\",\"MA CAMPAGNE CUTLERY BOX\",\"MADRAS NOTEBOOK LARGE \",\"MADRAS NOTEBOOK MEDIUM\",\"MAGAZINE RACK GEBRA ASSORTED \",\"MAGIC DRAWING SLATE BAKE A CAKE \",\"MAGIC DRAWING SLATE BUNNIES \",\"MAGIC DRAWING SLATE CIRCUS PARADE  \",\"MAGIC DRAWING SLATE DINOSAUR\",\"MAGIC DRAWING SLATE DOLLY GIRL \",\"MAGIC DRAWING SLATE GO TO THE FAIR \",\"MAGIC DRAWING SLATE LEAP FROG \",\"MAGIC DRAWING SLATE PURDEY\",\"MAGIC DRAWING SLATE SPACEBOY \",\"MAGIC SHEEP WOOL GROWING FROM PAPER\",\"MAGIC TREE -PAPER FLOWERS\",\"MAGNETS PACK OF 4 CHILDHOOD MEMORY\",\"MAGNETS PACK OF 4 HOME SWEET HOME\",\"MAGNETS PACK OF 4 RETRO PHOTO\",\"MAGNETS PACK OF 4 SWALLOWS\",\"MAGNETS PACK OF 4 VINTAGE COLLAGE\",\"MAGNETS PACK OF 4 VINTAGE LABELS \",\"MAKE YOUR OWN FLOWERPOWER CARD KIT\",\"MAKE YOUR OWN MONSOON CARD KIT\",\"MAKE YOUR OWN PLAYTIME CARD KIT\",\"MAN FLU METAL SIGN\",\"MARIE ANTOIENETT TRINKET BOX GOLD\",\"MARIE ANTOINETTE TRINKET BOX SILVER\",\"MAXWELL 2 TONE BLUE 60 PAGE PHOTO A\",\"MEASURING TAPE BABUSHKA BLUE\",\"MEASURING TAPE BABUSHKA PINK\",\"MEASURING TAPE BABUSHKA RED\",\"MEDINA STAMPED METAL STOOL\",\"MEDIUM CERAMIC TOP STORAGE JAR\",\"MEDIUM CHINESE STYLE SCISSOR\",\"MEDIUM MEDINA STAMPED METAL BOWL \",\"MEDIUM PARLOUR FRAME \",\"MEDIUM PINK BUDDHA HEAD \",\"MEDIUM WHITE\\u002fPINK ROSE ART FLOWER\",\"MEMO BOARD COTTAGE DESIGN\",\"MEMO BOARD RETROSPOT  DESIGN\",\"METAL 4 HOOK HANGER FRENCH CHATEAU\",\"METAL BASE FOR CANDLES\",\"METAL DECORATION NAUGHTY CHILDREN \",\"METAL HERB GERDEN CONTAINER\",\"METAL MERRY CHRISTMAS WREATH\",\"METAL RABBIT LADDER EASTER \",\"METAL SIGN CUPCAKE SINGLE HOOK\",\"METAL SIGN DROP YOUR PANTS\",\"METAL SIGN EMPIRE TEA\",\"METAL SIGN HER DINNER IS SERVED \",\"METAL SIGN HIS DINNER IS SERVED\",\"METAL SIGN NEIGHBOURHOOD WITCH \",\"METAL SIGN TAKE IT OR LEAVE IT \",\"METAL SIGN,CUPCAKE SINGLE HOOK\",\"METAL TUBE CHIME ON BAMBOO\",\"METALIC LEAVES BAG CHARMS\",\"MIDNIGHT BLUE COPPER FLOWER NECKLAC\",\"MIDNIGHT BLUE CRYSTAL DROP EARRINGS\",\"MIDNIGHT BLUE DROP CRYSTAL NECKLACE\",\"MIDNIGHT BLUE GLASS\\u002fSILVER BRACELET\",\"MIDNIGHT BLUE PAIR HEART HAIR SLIDE\",\"MIDNIGHT BLUE VINTAGE EARRINGS\",\"MIDNIGHT GLAMOUR SCARF KNITTING KIT\",\"MILK BOTTLE WITH GLASS STOPPER \",\"MILK MAIDS MUG \",\"MILK PAN BLUE POLKADOT\",\"MILK PAN PINK POLKADOT\",\"MILK PAN RED RETROSPOT\",\"MINI  ZINC GARDEN DECORATIONS \",\"MINI CAKE STAND  HANGING STRAWBERY\",\"MINI CAKE STAND T-LIGHT HOLDER\",\"MINI CAKE STAND WITH HANGING CAKES\",\"MINI FUNKY DESIGN TAPES\",\"MINI HIGHLIGHTER PENS\",\"MINI JIGSAW BAKE A CAKE \",\"MINI JIGSAW BUNNIES\",\"MINI JIGSAW CIRCUS PARADE \",\"MINI JIGSAW DINOSAUR \",\"MINI JIGSAW DOLLY GIRL\",\"MINI JIGSAW GO TO THE FAIR\",\"MINI JIGSAW LEAP FROG\",\"MINI JIGSAW PURDEY\",\"MINI JIGSAW SPACEBOY\",\"MINI LIGHTS WOODLAND MUSHROOMS\",\"MINI PAINT SET VINTAGE \",\"MINI PAINTED GARDEN DECORATION \",\"MINI PLAYING CARDS BUFFALO BILL \",\"MINI PLAYING CARDS DOLLY GIRL \",\"MINI PLAYING CARDS FUN FAIR \",\"MINI PLAYING CARDS GYMKHANA\",\"MINI PLAYING CARDS SPACEBOY \",\"MINI WOODEN HAPPY BIRTHDAY GARLAND\",\"MINIATURE ANTIQUE ROSE HOOK IVORY\",\"MINT DINER CLOCK\",\"MINT GREEN ROSE TOWEL\",\"MINT KITCHEN SCALES\",\"MIRROR CORNICE\",\"MIRROR LOVE BIRD T-LIGHT HOLDER\",\"MIRROR MOSAIC CANDLE PLATE\",\"MIRROR MOSAIC GOBLET CANDLE HOLDER\",\"MIRROR MOSAIC HURRICANE LAMP \",\"MIRROR MOSAIC T-LIGHT HOLDER \",\"MIRROR MOSAIC T-LIGHT HOLDER ROUND\",\"MIRROR MOSAIC VOTIVE HOLDER\",\"MIRRORED DISCO BALL \",\"MIRRORED DOVE WALL DECORATION\",\"MIRRORED WALL ART FOXY\",\"MIRRORED WALL ART GENTS\",\"MIRRORED WALL ART LADIES\",\"MIRRORED WALL ART PHOTO FRAMES\",\"MIRRORED WALL ART POPPIES\",\"MIRRORED WALL ART SKULLS\",\"MIRRORED WALL ART SNOWFLAKES\",\"MIRRORED WALL ART SPLODGES\",\"MIRRORED WALL ART STARS\",\"MIRRORED WALL ART TABLE LAMP\",\"MISELTOE HEART WREATH \",\"MISELTOE HEART WREATH CREAM\",\"MIXED NUTS LIGHT GREEN BOWL\",\"MOBILE VINTAGE HEARTS \",\"MOCK LOBSTER FRIDGE MAGNET\",\"MODERN FLORAL STATIONERY SET\",\"MODERN VINTAGE COTTON SHOPPING BAG\",\"MONEY BOX BISCUITS DESIGN\",\"MONEY BOX CONFECTIONERY DESIGN\",\"MONEY BOX FIRST ADE DESIGN\",\"MONEY BOX HOUSEKEEPING DESIGN\",\"MONEY BOX KINGS CHOICE DESIGN\",\"MONEY BOX POCKET MONEY DESIGN\",\"MONSTERS STENCIL CRAFT\",\"MONTANA DIAMOND CLUSTER EARRINGS\",\"MOODY BOY  DOOR HANGER \",\"MOODY GIRL DOOR HANGER \",\"MOP PENDANT SHELL NECKLACE\",\"MORE BUTTER METAL SIGN \",\"MOROCCAN BEATEN METAL DISH\",\"MOROCCAN BEATEN METAL DISH LARGE\",\"MOROCCAN BEATEN METAL MIRROR\",\"MOROCCAN TEA GLASS\",\"MOTHER'S KITCHEN SPOON REST \",\"MOTORING TISSUE BOX\",\"MOUSE TOY WITH PINK T-SHIRT\",\"MOUSEY LONG LEGS SOFT TOY\",\"MR ROBOT SOFT TOY\",\"MRS ROBOT SOFT TOY\",\"MULTI COLOUR SILVER T-LIGHT HOLDER\",\"MULTI HEARTS  STICKERS\",\"MULTICOLOUR  CONFETTI IN TUBE\",\"MULTICOLOUR 3D BALLS GARLAND\",\"MULTICOLOUR EASTER RABBIT \",\"MULTICOLOUR HONEYCOMB FAN\",\"MULTICOLOUR HONEYCOMB PAPER GARLAND\",\"MULTICOLOUR POLKADOT PLATE\",\"MULTICOLOUR RABBIT EGG WARMER\",\"MULTICOLOUR SPRING FLOWER MUG\",\"MUM'S KITCHEN CLOCK\",\"MUMMY MOUSE RED GINGHAM RIBBON\",\"MURANO STYLE GLASS BRACELET BLACK\",\"MURANO STYLE GLASS BRACELET GOLD\",\"MURANO STYLE GLASS BRACELET RED\",\"N0 SINGING METAL SIGN\",\"NAMASTE SWAGAT INCENSE\",\"NATURAL HANGING QUILTED HEARTS \",\"NATURAL SLATE CHALKBOARD LARGE \",\"NATURAL SLATE HEART CHALKBOARD \",\"NATURAL SLATE RECTANGLE CHALKBOARD\",\"NECKLACE+BRACELET PINK BUTTERFLY\",\"NECKLACE+BRACELET SET BLUE BLOSSOM\",\"NECKLACE+BRACELET SET BLUE HIBISCUS\",\"NECKLACE+BRACELET SET FRUIT SALAD \",\"NECKLACE+BRACELET SET PINK DAISY\",\"NEW BAROQUE B'FLY NECKLACE CRYSTAL\",\"NEW BAROQUE B'FLY NECKLACE GREEN\",\"NEW BAROQUE B'FLY NECKLACE PINK\",\"NEW BAROQUE B'FLY NECKLACE RED\",\"NEW BAROQUE BLACK BOXES\",\"NEW BAROQUE BLACK PHOTO ALBUM\",\"NEW BAROQUE JEWELLERY BOX \",\"NEW BAROQUE LARGE NECKLACE BLK\\u002fWHIT\",\"NEW BAROQUE SMALL NECKLACE BLACK\",\"NEW ENGLAND MUG W GIFT BOX\",\"NEWSPAPER STAND\",\"NINJA RABBIT BLACK\",\"NINJA RABBIT PINK\",\"NO JUNK MAIL METAL SIGN\",\"NOEL GARLAND PAINTED ZINC \",\"NOEL WOODEN BLOCK LETTERS \",\"NOVELTY BISCUITS CAKE STAND 3 TIER\",\"NUMBER TILE COTTAGE GARDEN 0 \",\"NUMBER TILE COTTAGE GARDEN 1\",\"NUMBER TILE COTTAGE GARDEN 2\",\"NUMBER TILE COTTAGE GARDEN 3 \",\"NUMBER TILE COTTAGE GARDEN 4\",\"NUMBER TILE COTTAGE GARDEN 5\",\"NUMBER TILE COTTAGE GARDEN 6\",\"NUMBER TILE COTTAGE GARDEN 7\",\"NUMBER TILE COTTAGE GARDEN 8\",\"NUMBER TILE COTTAGE GARDEN 9\",\"NUMBER TILE COTTAGE GARDEN No\",\"NUMBER TILE VINTAGE FONT 0\",\"NUMBER TILE VINTAGE FONT 1\",\"NUMBER TILE VINTAGE FONT 2\",\"NUMBER TILE VINTAGE FONT 3\",\"NUMBER TILE VINTAGE FONT 4\",\"NUMBER TILE VINTAGE FONT 5\",\"NUMBER TILE VINTAGE FONT 6 \",\"NUMBER TILE VINTAGE FONT 7\",\"NUMBER TILE VINTAGE FONT 8\",\"NUMBER TILE VINTAGE FONT 9 \",\"NUMBER TILE VINTAGE FONT No \",\"NURSE'S BAG SOFT TOY\",\"NURSERY A,B,C PAINTED LETTERS\",\"Next Day Carriage\",\"OCEAN SCENT CANDLE IN JEWELLED BOX\",\"OCEAN STRIPE HAMMOCK \",\"OFFICE MUG WARMER BLACK+SILVER \",\"OFFICE MUG WARMER CHOC+BLUE\",\"OFFICE MUG WARMER PINK\",\"OFFICE MUG WARMER POLKADOT\",\"OLD DOC RUSSEL METAL SIGN\",\"OPEN CLOSED METAL SIGN\",\"OPIUM SCENTED VOTIVE CANDLE\",\"ORANGE FELT VASE + FLOWERS\",\"ORANGE FLOWER MUG \",\"ORANGE PENDANT TRIPLE SHELL NECKLAC\",\"ORANGE SCENTED SET\\u002f9 T-LIGHTS\",\"ORANGE TV TRAY TABLE \",\"ORANGE VOTIVE CANDLE\",\"ORANGE\\u002fWHT\\u002fFUSCHIA STONES NECKLACE\",\"ORGANISER WOOD ANTIQUE WHITE \",\"ORIENTAL RED CUSHION COVER \",\"ORIGAMI JASMINE INCENSE\\u002fCANDLE SET\",\"ORIGAMI LAVENDER INCENSE\\u002fCANDL SET \",\"ORIGAMI OPIUM INCENSE\\u002fCANDLE SET \",\"ORIGAMI ROSE INCENSE IN TUBE\",\"ORIGAMI ROSE INCENSE\\u002fCANDLE SET \",\"ORIGAMI SANDLEWOOD INCENSE+FLOWER\",\"ORIGAMI SANDLEWOOD INCENSE\\u002fCAND SET\",\"ORIGAMI VANILLA INCENSE CONES\",\"ORIGAMI VANILLA INCENSE\\u002fCANDLE SET \",\"OVAL  MINI PORTRAIT FRAME\",\"OVEN MITT APPLES DESIGN\",\"OVERNIGHT BAG VINTAGE ROSE PAISLEY\",\"OWL DOORSTOP\",\"OYSTER TRINKET BOX\",\"PACK 20 DOLLY PEGS\",\"PACK 20 ENGLISH ROSE PAPER NAPKINS\",\"PACK 3 BOXES BIRD PANETTONE \",\"PACK 3 BOXES CHRISTMAS PANETTONE\",\"PACK 3 FIRE ENGINE\\u002fCAR PATCHES\",\"PACK 3 IRON ON DOG PATCHES\",\"PACK 4 FLOWER\\u002fBUTTERFLY PATCHES\",\"PACK 6 HEART\\u002fICE-CREAM PATCHES\",\"PACK OF 12 50'S CHRISTMAS TISSUES\",\"PACK OF 12 BLUE PAISLEY TISSUES \",\"PACK OF 12 CHRISTMAS FUN CARDS\",\"PACK OF 12 CIRCUS PARADE TISSUES \",\"PACK OF 12 COLOURED PENCILS\",\"PACK OF 12 DOILEY TISSUES\",\"PACK OF 12 DOLLY GIRL TISSUES\",\"PACK OF 12 HEARTS DESIGN TISSUES \",\"PACK OF 12 LONDON TISSUES \",\"PACK OF 12 PAISLEY PARK TISSUES \",\"PACK OF 12 PINK PAISLEY TISSUES \",\"PACK OF 12 PINK POLKADOT TISSUES\",\"PACK OF 12 RED APPLE TISSUES\",\"PACK OF 12 RED RETROSPOT TISSUES \",\"PACK OF 12 SKULL TISSUES\",\"PACK OF 12 SPACEBOY TISSUES\",\"PACK OF 12 STICKY BUNNIES\",\"PACK OF 12 SUKI TISSUES \",\"PACK OF 12 TRADITIONAL CRAYONS\",\"PACK OF 12 VINTAGE CHRISTMAS TISSUE\",\"PACK OF 12 VINTAGE LEAF TISSUES \",\"PACK OF 12 WOODLAND TISSUES \",\"PACK OF 20 NAPKINS PANTRY DESIGN\",\"PACK OF 20 NAPKINS RED APPLES\",\"PACK OF 20 SKULL PAPER NAPKINS\",\"PACK OF 20 SPACEBOY NAPKINS\",\"PACK OF 6 BIRDY GIFT TAGS\",\"PACK OF 6 COCKTAIL PARASOL STRAWS\",\"PACK OF 6 HANDBAG GIFT BOXES\",\"PACK OF 6 LARGE FRUIT STRAWS \",\"PACK OF 6 PANETTONE GIFT BOXES\",\"PACK OF 6 SANDCASTLE FLAGS ASSORTED\",\"PACK OF 6 SKULL PAPER CUPS\",\"PACK OF 6 SKULL PAPER PLATES\",\"PACK OF 6 SMALL FRUIT STRAWS\",\"PACK OF 6 SWEETIE GIFT BOXES\",\"PACK OF 60 DINOSAUR CAKE CASES\",\"PACK OF 60 MUSHROOM CAKE CASES\",\"PACK OF 60 PINK PAISLEY CAKE CASES\",\"PACK OF 60 SPACEBOY CAKE CASES\",\"PACK OF 72 RETROSPOT CAKE CASES\",\"PACK OF 72 SKULL CAKE CASES\",\"PACK\\u002f12 BLUE FOLKART CARDS\",\"PACKING CHARGE\",\"PAINT YOUR OWN CANVAS SET\",\"PAINT YOUR OWN EGGS IN CRATE\",\"PAINTED LIGHTBULB RAINBOW DESIGN\",\"PAINTED LIGHTBULB STAR+ MOON\",\"PAINTED METAL HEART WITH HOLLY BELL\",\"PAINTED METAL PEARS ASSORTED\",\"PAINTED METAL STAR WITH HOLLY BELLS\",\"PAINTED PINK RABBIT \",\"PAINTED SEA SHELL METAL WINDCHIME\",\"PAINTED YELLOW WOODEN DAISY\",\"PAIR BUTTERFLY HAIR CLIPS\",\"PAIR OF ENAMEL BUTTERFLY HAIRCLIP\",\"PAIR OF PINK FLOWER CLUSTER SLIDE\",\"PAIR PADDED HANGERS PINK CHECK\",\"PAISLEY PARK CARD\",\"PAISLEY PATTERN  STICKERS\",\"PALE PINK\\u002fAMETHYST STONE NECKLACE\",\"PANDA AND BUNNIES STICKER SHEET\",\"PANTRY 3 HOOK ROLLING PIN HANGER\",\"PANTRY APPLE CORER\",\"PANTRY CHOPPING BOARD\",\"PANTRY HOOK BALLOON WHISK \",\"PANTRY HOOK SPATULA\",\"PANTRY HOOK TEA STRAINER \",\"PANTRY KITCHEN THERMOMETER \",\"PANTRY MAGNETIC  SHOPPING LIST\",\"PANTRY PASTRY BRUSH\",\"PANTRY ROLLING PIN\",\"PANTRY SCRUBBING BRUSH\",\"PANTRY WASHING UP BRUSH\",\"PAPER BUNTING COLOURED LACE\",\"PAPER BUNTING PAISLEY PARK\",\"PAPER BUNTING RETROSPOT\",\"PAPER BUNTING VINTAGE PAISLEY\",\"PAPER BUNTING VINTAGE PARTY\",\"PAPER BUNTING WHITE LACE\",\"PAPER CHAIN KIT 50'S CHRISTMAS \",\"PAPER CHAIN KIT EMPIRE\",\"PAPER CHAIN KIT LONDON\",\"PAPER CHAIN KIT RETROSPOT\",\"PAPER CHAIN KIT SKULLS \",\"PAPER CHAIN KIT VINTAGE CHRISTMAS\",\"PAPER LANTERN 5 POINT SEQUIN STAR\",\"PAPER LANTERN 5 POINT STAR MOON \",\"PAPER LANTERN 6 POINT SNOW STAR\",\"PAPER LANTERN 7 POINT SNOW STAR\",\"PAPER LANTERN 9 POINT DELUXE STAR\",\"PAPER LANTERN 9 POINT HOLLY STAR 23\",\"PAPER LANTERN 9 POINT HOLLY STAR 40\",\"PAPER LANTERN 9 POINT SNOW STAR\",\"PAPER POCKET TRAVELING FAN \",\"PAPERWEIGHT CHILDHOOD MEMORIES\",\"PAPERWEIGHT HOME SWEET HOME\",\"PAPERWEIGHT KINGS CHOICE \",\"PAPERWEIGHT SAVE THE PLANET\",\"PAPERWEIGHT VINTAGE COLLAGE\",\"PAPERWEIGHT VINTAGE PAISLEY\",\"PARISIENNE CURIO CABINET\",\"PARISIENNE JEWELLERY DRAWER \",\"PARISIENNE KEY CABINET \",\"PARISIENNE SEWING BOX\",\"PARTY BUNTING\",\"PARTY CHARMS 50 PIECES\",\"PARTY CONE CHRISTMAS DECORATION \",\"PARTY CONES CANDY ASSORTED\",\"PARTY CONES CANDY DECORATION\",\"PARTY CONES CARNIVAL ASSORTED\",\"PARTY FOOD SHOPPER BAG\",\"PARTY INVITES BALLOON GIRL\",\"PARTY INVITES DINOSAURS\",\"PARTY INVITES FOOTBALL\",\"PARTY INVITES JAZZ HEARTS\",\"PARTY INVITES SPACEMAN\",\"PARTY INVITES WOODLAND\",\"PARTY METAL SIGN \",\"PARTY PIZZA DISH BLUE POLKADOT\",\"PARTY PIZZA DISH GREEN POLKADOT\",\"PARTY PIZZA DISH PINK POLKADOT\",\"PARTY PIZZA DISH RED RETROSPOT\",\"PARTY TIME DESIGN FLANNEL\",\"PARTY TIME PENCIL ERASERS\",\"PASTEL BLUE PHOTO ALBUM \",\"PASTEL COLOUR HONEYCOMB FAN\",\"PASTEL PINK PHOTO ALBUM \",\"PEACE SMALL WOOD LETTERS\",\"PEACE WOODEN BLOCK LETTERS\",\"PEACH KNITTED HEN \",\"PEARL & SHELL 42\\\"NECKL. GREEN\",\"PEARL & SHELL 42\\\"NECKL. IVORY\",\"PEARL AND CHERRY QUARTZ BRACLET\",\"PEARL CRYSTAL PUMPKIN T-LIGHT HLDR\",\"PEARLISED IVORY HEART LARGE \",\"PEARLISED IVORY HEART SMALL \",\"PEG BAG APPLE DESIGN\",\"PENCIL CASE LIFE IS BEAUTIFUL\",\"PENNY FARTHING BIRTHDAY CARD\",\"PENS ASSORTED FUNKY JEWELED \",\"PENS ASSORTED FUNNY FACE\",\"PENS ASSORTED SPACEBALL\",\"PERIWINKLE T-LIGHT HOLDER\",\"PET MUG, GOLDFISH\",\"PETIT TRAY CHIC\",\"PHARMACIE FIRST AID TIN\",\"PHOTO CLIP LINE\",\"PHOTO CUBE\",\"PHOTO FRAME 3 CLASSIC HANGING\",\"PHOTO FRAME CORNICE\",\"PHOTO FRAME LINEN AND LACE LARGE\",\"PHOTO FRAME LINEN AND LACE SMALL\",\"PICNIC BASKET WICKER 60 PIECES\",\"PICNIC BASKET WICKER LARGE\",\"PICNIC BOXES SET OF 3 RETROSPOT \",\"PICTURE DOMINOES\",\"PICTURE FRAME WOOD TRIPLE PORTRAIT\",\"PIECE OF CAMO STATIONERY SET\",\"PIG KEYRING WITH LIGHT & SOUND \",\"PIG MUG IN TWO COLOUR DESIGNS\",\"PIGGY BANK RETROSPOT \",\"PIN CUSHION BABUSHKA BLUE\",\"PIN CUSHION BABUSHKA PINK\",\"PIN CUSHION BABUSHKA RED\",\"PING MICROWAVE APRON\",\"PING! MICROWAVE PLATE\",\"PINK  HEART CONFETTI IN TUBE\",\"PINK  HEART SHAPE LOVE BUCKET \",\"PINK  HONEYCOMB PAPER BALL \",\"PINK  HONEYCOMB PAPER FAN\",\"PINK  POLKADOT CUP\",\"PINK  POLKADOT PLATE \",\"PINK & WHITE BREAKFAST TRAY\",\"PINK & WHITE ROSEBUD RING\",\"PINK AND BLACK STRING CURTAIN\",\"PINK AND WHITE CHRISTMAS TREE 120CM\",\"PINK B'FLY C\\u002fCOVER W BOBBLES\",\"PINK BABY BUNTING\",\"PINK BAROQUE FLOCK CANDLE HOLDER\",\"PINK BERTIE GLASS BEAD BAG CHARM\",\"PINK BITTY LIGHT CHAIN\",\"PINK BLUE FELT CRAFT TRINKET BOX\",\"PINK BOUDICCA LARGE BRACELET\",\"PINK BOUDOIR T-LIGHT HOLDER\",\"PINK BREAKFAST CUP AND SAUCER \",\"PINK BUNNY EASTER EGG BASKET\",\"PINK BUTTERFLY CUSHION COVER \",\"PINK BUTTERFLY WASHBAG\",\"PINK CANDYSTUFT ARTIFICIAL FLOWER\",\"PINK CAT BOWL\",\"PINK CAT FLORAL CUSHION COVER \",\"PINK CHERRY BLOSSOM CUP & SAUCER\",\"PINK CHERRY LIGHTS\",\"PINK CHICK EGG WARMER + EGG CUP\",\"PINK CHRISTMAS FLOCK DROPLET \",\"PINK CHRYSANTHEMUMS ART FLOWER\",\"PINK CLEAR GLASS CANDLE PLATE\",\"PINK CREAM FELT CRAFT TRINKET BOX \",\"PINK CRYSTAL GUITAR PHONE CHARM\",\"PINK CRYSTAL SKULL PHONE CHARM\",\"PINK CRYSTAL+GLASS BRACELET\",\"PINK DAISY BAG CHARM\",\"PINK DIAMANTE PEN IN GIFT BOX\",\"PINK DINER WALL CLOCK\",\"PINK DISCO HANDBAG\",\"PINK DOG BOWL\",\"PINK DOG CANNISTER\",\"PINK DOUGHNUT TRINKET POT \",\"PINK DRAWER KNOB ACRYLIC EDWARDIAN\",\"PINK EASTER HENS+FLOWER\",\"PINK ENAMEL FLOWER HAIR TIE\",\"PINK ENAMEL+GLASS HAIR COMB\",\"PINK FAIRY CAKE CHILDRENS APRON\",\"PINK FAIRY CAKE CUSHION COVER\",\"PINK FEATHERS CURTAIN\",\"PINK FELT EASTER EGG BASKET\",\"PINK FELT EASTER RABBIT GARLAND\",\"PINK FELT HANGING HEART W FLOWER\",\"PINK FLOCK GLASS CANDLEHOLDER\",\"PINK FLOCK PHOTO FRAME \",\"PINK FLOCK SUEDE CUSHION COVER \",\"PINK FLORAL FELTCRAFT SHOULDER BAG\",\"PINK FLOWER CROCHET FOOD COVER\",\"PINK FLOWER FABRIC PONY\",\"PINK FLOWERS RABBIT EASTER\",\"PINK FLUFFY CHRISTMAS DECORATION\",\"PINK FLY SWAT\",\"PINK FOXGLOVE ARTIIFCIAL FLOWER\",\"PINK GAUZE BUTTERFLY LAMPSHADE\",\"PINK GINGHAM CAT WITH SCARF\",\"PINK GLASS CANDLEHOLDER\",\"PINK GLASS TASSLE BAG CHARM \",\"PINK GOOSE FEATHER TREE 60CM\",\"PINK GREEN EMBROIDERY COSMETIC BAG\",\"PINK HANGING GINGHAM EASTER HEN\",\"PINK HAPPY BIRTHDAY BUNTING\",\"PINK HAWAIIAN PICNIC HAMPER FOR 2\",\"PINK HEART DOTS HOT WATER BOTTLE\",\"PINK HEART OF GLASS BRACELET\",\"PINK HEART RED HANDBAG\",\"PINK HEART SHAPE EGG FRYING PAN\",\"PINK HEART SHAPE PHOTO FRAME\",\"PINK HEARTS LIGHT CHAIN \",\"PINK HEARTS PAPER GARLAND\",\"PINK HORSE SOCK PUPPET\",\"PINK HYDRANGEA ART FLOWER\",\"PINK JEWELLED MIRROR TRINKET TRAY\",\"PINK JEWELLED PHOTO FRAME\",\"PINK JEWELLED PHOTO FRAME \",\"PINK KNITTED EGG COSY\",\"PINK LOVE BIRD CANDLE\",\"PINK LOVE HEART SHAPE CUP\",\"PINK MARSHMALLOW SCARF KNITTING KIT\",\"PINK METAL CHICKEN HEART \",\"PINK METAL SWINGING BUNNY\",\"PINK MONTE CARLO HANDBAG\",\"PINK MURANO TWIST NECKLACE\",\"PINK NEW BAROQUE FLOCK CANDLESTICK\",\"PINK NEW BAROQUECANDLESTICK CANDLE\",\"PINK OVAL JEWELLED MIRROR\",\"PINK OVAL SHAPE TRINKET BOX\",\"PINK OWL SOFT TOY\",\"PINK PADDED MOBILE\",\"PINK PAINTED KASHMIRI CHAIR\",\"PINK PAISLEY CUSHION COVER \",\"PINK PAISLEY ROSE GIFT WRAP\",\"PINK PAISLEY SQUARE TISSUE BOX \",\"PINK PAPER PARASOL \",\"PINK PARTY BAGS\",\"PINK PARTY SUNGLASSES\",\"PINK PILLAR CANDLE SILVER FLOCK\",\"PINK POLKADOT BOWL\",\"PINK POLKADOT CHILDRENS UMBRELLA\",\"PINK POLKADOT GARDEN PARASOL\",\"PINK POLKADOT KIDS BAG\",\"PINK POLKADOT WRAP \",\"PINK POT PLANT CANDLE\",\"PINK REGENCY TEACUP AND SAUCER\",\"PINK RETRO BIG FLOWER BAG\",\"PINK RIVIERA HANDBAG\",\"PINK ROSE FABRIC MIRROR\",\"PINK ROSE WASHBAG\",\"PINK ROSEBUD & PEARL NECKLACE\",\"PINK ROSEBUD PEARL BRACELET\",\"PINK ROUND COMPACT MIRROR\",\"PINK SCOTTIE DOG W FLOWER PATTERN\",\"PINK SMALL GLASS CAKE STAND\",\"PINK SMALL JEWELLED PHOTOFRAME\",\"PINK SPOTS CHOCOLATE NESTING BOXES \",\"PINK SQUARE TABLE CLOCK\",\"PINK STITCHED WALL CLOCK\",\"PINK STOCKING CHRISTMAS DECORATION\",\"PINK STRAWBERRY HANDBAG \",\"PINK STRING CURTAIN WITH POLE\",\"PINK SWEETHEART BRACELET\",\"PINK TALL PORCELAIN T-LIGHT HOLDER \",\"PINK UNION JACK  LUGGAGE TAG\",\"PINK UNION JACK  PASSPORT COVER \",\"PINK VINTAGE PAISLEY PICNIC BAG\",\"PINK VINTAGE SPOT BEAKER\",\"PINK VINTAGE VICTORIAN EARRINGS\",\"PINK YELLOW PATCH CUSHION COVER\",\"PINK\\u002fAMETHYST\\u002fGOLD NECKLACE\",\"PINK\\u002fBLUE DISC\\u002fMIRROR STRING\",\"PINK\\u002fBLUE STRING CURTAIN \",\"PINK\\u002fFLOWER RABBIT EGG WARMER \",\"PINK\\u002fGREEN FLOWER DESIGN BIG MUG\",\"PINK\\u002fPURPLE CIRCLE CURTAIN\",\"PINK\\u002fPURPLE RETRO RADIO\",\"PINK\\u002fWHITE \\\"KEEP CLEAN\\\" BULLET BIN\",\"PINK\\u002fWHITE CHRISTMAS TREE 30CM\",\"PINK\\u002fWHITE CHRISTMAS TREE 60CM\",\"PINK\\u002fWHITE GLASS DEMI CHOKER\",\"PINK\\u002fWHITE RIBBED MELAMINE JUG\",\"PINK\\u002fYELLOW FLOWERS HANDBAG\",\"PIZZA PLATE IN BOX\",\"PLACE SETTING WHITE HEART\",\"PLACE SETTING WHITE STAR\",\"PLASMATRONIC LAMP\",\"PLASTERS IN TIN CIRCUS PARADE \",\"PLASTERS IN TIN SKULLS\",\"PLASTERS IN TIN SPACEBOY\",\"PLASTERS IN TIN STRONGMAN\",\"PLASTERS IN TIN VINTAGE PAISLEY \",\"PLASTERS IN TIN WOODLAND ANIMALS\",\"PLAYING CARDS I LOVE LONDON \",\"PLAYING CARDS JUBILEE UNION JACK\",\"PLAYING CARDS KEEP CALM & CARRY ON\",\"PLAYING CARDS VINTAGE DOILEY \",\"PLEASE ONE PERSON METAL SIGN\",\"POCKET BAG BLUE PAISLEY RED SPOT\",\"POCKET BAG PINK PAISELY BROWN SPOT\",\"POCKET MIRROR \\\"GLAMOROUS\\\"\",\"POCKET MIRROR WOODLAND\",\"POLKA DOT RAFFIA FOOD COVER\",\"POLKADOT COFFEE CUP & SAUCER PINK\",\"POLKADOT MUG PINK \",\"POLKADOT PEN\",\"POLKADOT RAIN HAT \",\"POLYESTER FILLER PAD 30CMx30CM\",\"POLYESTER FILLER PAD 40x40cm\",\"POLYESTER FILLER PAD 45x30cm\",\"POLYESTER FILLER PAD 45x45cm\",\"POLYESTER FILLER PAD 60x40cm\",\"POLYESTER FILLER PAD 65CMx65CM\",\"POMPOM CURTAIN\",\"POP ART PUSH DOWN RUBBER \",\"POPART RECT PENCIL SHARPENER ASST\",\"POPART WOODEN PENCILS ASST\",\"POPCORN HOLDER\",\"POPPY FIELDS CHOPPING BOARD\",\"POPPY'S PLAYHOUSE BATHROOM\",\"POPPY'S PLAYHOUSE BEDROOM \",\"POPPY'S PLAYHOUSE KITCHEN\",\"POPPY'S PLAYHOUSE LIVINGROOM \",\"PORCELAIN BUDAH INCENSE HOLDER\",\"PORCELAIN BUTTERFLY OIL BURNER\",\"PORCELAIN ROSE LARGE \",\"PORCELAIN ROSE SMALL\",\"PORCELAIN T-LIGHT HOLDERS ASSORTED\",\"POSTE FRANCE CUSHION COVER\",\"POSY CANDY BAG\",\"POTTERING IN THE SHED METAL SIGN\",\"POTTERING MUG\",\"POTTING SHED CANDLE CITRONELLA\",\"POTTING SHED ROSE CANDLE\",\"POTTING SHED SEED ENVELOPES\",\"POTTING SHED SOW 'N' GROW SET\",\"POTTING SHED TEA MUG\",\"POTTING SHED TWINE\",\"PRETTY HANGING QUILTED HEARTS\",\"PSYCHEDELIC METAL SIGN CALENDAR\",\"PSYCHEDELIC TILE COASTER\",\"PSYCHEDELIC TILE HOOK\",\"PSYCHEDELIC WALL THERMOMETER\",\"PURPLE ACRYLIC FACETED BANGLE\",\"PURPLE AMETHYST NECKLACE W TASSEL\",\"PURPLE ANEMONE ARTIFICIAL FLOWER\",\"PURPLE BERTIE GLASS BEAD BAG CHARM\",\"PURPLE BOUDICCA LARGE BRACELET\",\"PURPLE CHUNKY GLASS+BEAD NECKLACE\",\"PURPLE DRAWERKNOB ACRYLIC EDWARDIAN\",\"PURPLE DRESS JEWELLERY STAND\",\"PURPLE ENAMEL FLOWER HAIR TIE\",\"PURPLE ENAMEL FLOWER RING\",\"PURPLE ENAMEL+GLASS HAIR COMB\",\"PURPLE FOXGLOVE ARTIIFCIAL FLOWER\",\"PURPLE FRANGIPANI HAIRCLIP\",\"PURPLE FRANGIPANI NECKLACE\",\"PURPLE GEMSTONE BRACELET\",\"PURPLE GEMSTONE NECKLACE 45CM\",\"PURPLE GLASS TASSLE BAG CHARM\",\"PURPLE LAS VEGAS BRACELET ROUND\",\"PURPLE PAPER PARASOL\",\"PURPLE SWEETHEART BRACELET\",\"PURPLE\\u002fBLUE CERAMIC CANDLE HOLDER\",\"PURPLE\\u002fCOPPER HANGING LAMPSHADE\",\"PURPLE\\u002fTURQ FLOWERS HANDBAG\",\"QUEEN OF SKIES LUGGAGE TAG\",\"QUEEN OF THE SKIES HOLIDAY PURSE \",\"QUEEN OF THE SKIES PASSPORT COVER \",\"QUEENS GUARD COFFEE MUG\",\"RABBIT  DESIGN  COTTON TOTE BAG\",\"RABBIT EASTER DECORATION\",\"RABBIT NIGHT LIGHT\",\"RAIN PONCHO \",\"RAIN PONCHO RETROSPOT\",\"RAINBOW PEGS PHOTO CLIP STRING\",\"RAINY LADIES BIRTHDAY CARD\",\"RASPBERRY ANT COPPER FLOWER NECKLAC\",\"RASTA IN BATH W SPLIFF ASHTRAY\",\"RATTLE SNAKE EGGS\",\"RECIPE BOX BLUE SKETCHBOOK DESIGN\",\"RECIPE BOX PANTRY YELLOW DESIGN\",\"RECIPE BOX RETROSPOT \",\"RECIPE BOX WITH METAL HEART\",\"RECORD FRAME 7\\\" SINGLE SIZE \",\"RECTANGULAR SHAPED MIRROR\",\"RECYCLED ACAPULCO MAT BLUE\",\"RECYCLED ACAPULCO MAT GREEN\",\"RECYCLED ACAPULCO MAT LAVENDER\",\"RECYCLED ACAPULCO MAT PINK\",\"RECYCLED ACAPULCO MAT RED\",\"RECYCLED ACAPULCO MAT TURQUOISE\",\"RECYCLED PENCIL WITH RABBIT ERASER\",\"RECYCLING BAG RETROSPOT \",\"RED   ACRYLIC FACETED BANGLE\",\"RED  EGG  SPOON\",\"RED  HARMONICA IN BOX \",\"RED APPLES CHOPPING BOARD   \",\"RED BABY BUNTING \",\"RED BOUDICCA LARGE BRACELET\",\"RED CHARLIE+LOLA PERSONAL DOORSIGN\",\"RED COAT RACK PARIS FASHION\",\"RED DAISY PAPER LAMPSHADE\",\"RED DAISY POCKET BOOK \",\"RED DINER WALL CLOCK\",\"RED DRAGONFLY HELICOPTER\",\"RED DRAWER KNOB ACRYLIC EDWARDIAN\",\"RED ENAMEL FLOWER RING\",\"RED ENCHANTED FOREST PLACEMAT\",\"RED FLOCK LOVE HEART PHOTO FRAME\",\"RED FLORAL FELTCRAFT SHOULDER BAG\",\"RED FLOWER CROCHET FOOD COVER\",\"RED GINGHAM ROSE JEWELLERY BOX\",\"RED GINGHAM TEDDY BEAR \",\"RED GLASS TASSLE BAG CHARM\",\"RED HANGING HEART T-LIGHT HOLDER\",\"RED HEART LUGGAGE TAG\",\"RED HEART SHAPE LOVE BUCKET \",\"RED HEARTS LIGHT CHAIN \",\"RED KITCHEN SCALES\",\"RED KUKUI COCONUT SEED NECKLACE\",\"RED LOVE HEART SHAPE CUP\",\"RED METAL BEACH SPADE \",\"RED METAL BOX TOP SECRET\",\"RED PAPER PARASOL\",\"RED PEONY CUSHION COVER \",\"RED PEONY TABLE CLOCK\",\"RED POLKADOT BEAKER \",\"RED POLKADOT COFFEE  MUG\",\"RED POLKADOT PUDDING BOWL\",\"RED PUDDING SPOON\",\"RED PURSE WITH PINK HEART\",\"RED REFECTORY CLOCK \",\"RED RETRO KITCHEN WALL CLOCK\",\"RED RETROSPOT APRON \",\"RED RETROSPOT BIG BOWL\",\"RED RETROSPOT BOWL\",\"RED RETROSPOT BUTTER DISH\",\"RED RETROSPOT CAKE STAND\",\"RED RETROSPOT CHARLOTTE BAG\",\"RED RETROSPOT CHILDRENS UMBRELLA\",\"RED RETROSPOT CUP\",\"RED RETROSPOT LUGGAGE TAG\",\"RED RETROSPOT MINI CASES\",\"RED RETROSPOT MUG\",\"RED RETROSPOT OVEN GLOVE \",\"RED RETROSPOT OVEN GLOVE DOUBLE\",\"RED RETROSPOT PEG BAG\",\"RED RETROSPOT PICNIC BAG\",\"RED RETROSPOT PLATE \",\"RED RETROSPOT PUDDING BOWL\",\"RED RETROSPOT PURSE \",\"RED RETROSPOT ROUND CAKE TINS\",\"RED RETROSPOT SHOPPER BAG\",\"RED RETROSPOT SHOPPING BAG\",\"RED RETROSPOT SMALL MILK JUG\",\"RED RETROSPOT STORAGE JAR\",\"RED RETROSPOT SUGAR JAM BOWL\",\"RED RETROSPOT TAPE\",\"RED RETROSPOT TEA CUP AND SAUCER \",\"RED RETROSPOT TISSUE BOX\",\"RED RETROSPOT TRADITIONAL TEAPOT \",\"RED RETROSPOT UMBRELLA\",\"RED RETROSPOT WASHBAG\",\"RED RETROSPOT WRAP \",\"RED ROCKING HORSE HAND PAINTED\",\"RED ROSE AND LACE C\\u002fCOVER\",\"RED SHARK HELICOPTER\",\"RED SPOT CERAMIC DRAWER KNOB\",\"RED SPOT PAPER GIFT BAG\",\"RED SPOTTY BISCUIT TIN\",\"RED STAR CARD HOLDER\",\"RED STRIPE CERAMIC DRAWER KNOB\",\"RED TEA TOWEL CLASSIC DESIGN\",\"RED TOADSTOOL LED NIGHT LIGHT\",\"RED VICTORIAN FABRIC OVAL BOX\",\"RED VINTAGE SPOT BEAKER\",\"RED WHITE SCARF  HOT WATER BOTTLE\",\"RED WOOLLY HOTTIE WHITE HEART.\",\"RED\\u002fCREAM STRIPE CUSHION COVER \",\"REGENCY CAKE FORK\",\"REGENCY CAKE SLICE\",\"REGENCY CAKESTAND 3 TIER\",\"REGENCY MILK JUG PINK \",\"REGENCY MIRROR WITH SHUTTERS\",\"REGENCY SUGAR BOWL GREEN\",\"REGENCY SUGAR TONGS\",\"REGENCY TEA PLATE GREEN \",\"REGENCY TEA PLATE PINK\",\"REGENCY TEA PLATE ROSES \",\"REGENCY TEA SPOON\",\"REGENCY TEA STRAINER\",\"REGENCY TEAPOT ROSES \",\"REINDEER HEART DECORATION GOLD\",\"REINDEER HEART DECORATION SILVER\",\"RELAX LARGE WOOD LETTERS\",\"RESIN BRACELET W PASTEL BEADS\",\"RESIN NECKLACE W PASTEL BEADS\",\"RETRO \\\"TEA FOR ONE\\\" \",\"RETRO BROWN BALL ASHTRAY \",\"RETRO COFFEE MUGS ASSORTED\",\"RETRO LONGBOARD IRONING BOARD COVER\",\"RETRO MOD TRAY\",\"RETRO PILL BOX , REVOLUTIONARY\",\"RETRO PILL BOX KEY CHAIN,THE KING\",\"RETRO PINK BALL ASHTRAY \",\"RETRO PLASTIC 70'S TRAY\",\"RETRO PLASTIC DAISY TRAY\",\"RETRO PLASTIC ELEPHANT TRAY\",\"RETRO PLASTIC POLKA TRAY\",\"RETRO TIN ASHTRAY,REVOLUTIONARY\",\"RETROSPOT BABUSHKA DOORSTOP\",\"RETROSPOT CANDLE  LARGE\",\"RETROSPOT CANDLE  MEDIUM\",\"RETROSPOT CANDLE  SMALL\",\"RETROSPOT CHILDRENS APRON\",\"RETROSPOT CIGAR BOX MATCHES \",\"RETROSPOT GIANT TUBE MATCHES\",\"RETROSPOT HEART HOT WATER BOTTLE\",\"RETROSPOT LAMP\",\"RETROSPOT LARGE MILK JUG\",\"RETROSPOT PADDED SEAT CUSHION\",\"RETROSPOT PARTY BAG + STICKER SET\",\"RETROSPOT RED WASHING UP GLOVES\",\"RETROSPOT SMALL TUBE MATCHES\",\"RETROSPOT TEA SET CERAMIC 11 PC \",\"REVOLVER WOODEN RULER \",\"REX CASH+CARRY JUMBO SHOPPER\",\"RIBBON REEL CHRISTMAS PRESENT \",\"RIBBON REEL CHRISTMAS SOCK BAUBLE\",\"RIBBON REEL FLORA + FAUNA \",\"RIBBON REEL HEARTS DESIGN \",\"RIBBON REEL LACE DESIGN \",\"RIBBON REEL MAKING SNOWMEN \",\"RIBBON REEL POLKADOTS \",\"RIBBON REEL SNOWY VILLAGE\",\"RIBBON REEL SOCKS AND MITTENS\",\"RIBBON REEL STRIPES DESIGN \",\"RIBBONS PURSE \",\"RIDGED BONNE JAM JAR T-LIGHT HOLDER\",\"RIDGED GLASS FINGER BOWL\",\"RIDGED GLASS POSY VASE \",\"RIDGED GLASS STORAGE JAR CREAM LID\",\"RIDGED GLASS T-LIGHT HOLDER\",\"RING OF ROSES BIRTHDAY CARD\",\"RIVIERA NECKLACE\",\"ROBIN CHRISTMAS CARD\",\"ROBOT BIRTHDAY CARD\",\"ROBOT MUG IN DISPLAY BOX\",\"ROCKING HORSE GREEN CHRISTMAS \",\"ROCKING HORSE RED CHRISTMAS \",\"ROCOCO WALL MIROR\",\"ROLL WRAP 50'S CHRISTMAS\",\"ROLL WRAP 50'S RED CHRISTMAS \",\"ROLL WRAP VINTAGE CHRISTMAS\",\"ROLL WRAP VINTAGE SPOT \",\"ROMANTIC IMAGES GIFT WRAP SET\",\"ROMANTIC IMAGES NOTEBOOK SET\",\"ROMANTIC IMAGES SCRAP BOOK SET\",\"ROMANTIC PINKS RIBBONS \",\"ROSE 1 WICK MORRIS BOXED CANDLE\",\"ROSE 3 WICK MORRIS BOX CANDLE\",\"ROSE CARAVAN DOORSTOP\",\"ROSE COLOUR PAIR HEART HAIR SLIDES\",\"ROSE COTTAGE KEEPSAKE BOX \",\"ROSE DU SUD COSMETICS BAG\",\"ROSE DU SUD CUSHION COVER\",\"ROSE DU SUD CUSHION COVER \",\"ROSE DU SUD DRAWSTRING BAG\",\"ROSE DU SUD OVEN GLOVE\",\"ROSE DU SUD WASHBAG \",\"ROSE FLOWER CANDLE+INCENSE 16X16CM\",\"ROSE FOLKART HEART DECORATIONS\",\"ROSE PENDANT TRIPLE SHELL NECKLACE\",\"ROSE SCENT CANDLE IN JEWELLED BOX\",\"ROSE SCENT CANDLE JEWELLED DRAWER\",\"ROSES REGENCY TEACUP AND SAUCER \",\"ROTATING LEAVES T-LIGHT HOLDER\",\"ROTATING SILVER ANGELS T-LIGHT HLDR\",\"ROUND ARTICULATED PINK CLOCK W\\u002fSUCK\",\"ROUND BLUE CLOCK WITH SUCKER\",\"ROUND CACTUS CANDLE\",\"ROUND CAKE TIN VINTAGE GREEN\",\"ROUND CAKE TIN VINTAGE RED\",\"ROUND CONTAINER SET OF 5 RETROSPOT\",\"ROUND PINK HEART MIRROR\",\"ROUND PURPLE CLOCK WITH SUCKER\",\"ROUND SNACK BOXES SET OF 4 FRUITS \",\"ROUND SNACK BOXES SET OF 4 SKULLS\",\"ROUND SNACK BOXES SET OF4 WOODLAND \",\"ROUND WHITE CONFETTI IN TUBE\",\"RUBY DROP CHANDELIER EARRINGS\",\"RUBY GLASS CLUSTER BRACELET\",\"RUBY GLASS CLUSTER EARRINGS\",\"RUBY GLASS CLUSTER NECKLACE\",\"RUSTIC  SEVENTEEN DRAWER SIDEBOARD\",\"RUSTIC MIRROR WITH LACE HEART\",\"RUSTIC STRAWBERRY JAM POT LARGE \",\"RUSTIC STRAWBERRY JAM POT SMALL\",\"RUSTIC WOODEN CABINET, GLASS DOORS\",\"S\\u002f12 MINI RABBIT EASTER\",\"S\\u002f12 VANILLA  BOTANICAL T-LIGHTS\",\"S\\u002f15 SILVER GLASS BAUBLES IN BAG\",\"S\\u002f2 BEACH HUT TREASURE CHESTS\",\"S\\u002f2 ZINC HEART DESIGN PLANTERS\",\"S\\u002f3 PINK SQUARE PLANTERS ROSES\",\"S\\u002f3 POT POURI CUSHIONS BLUE COLOURS\",\"S\\u002f4 BLACK MINI ROSE CANDLE IN BOWL\",\"S\\u002f4 CACTI CANDLES\",\"S\\u002f4 GROOVY CAT MAGNETS\",\"S\\u002f4 ICON COASTER,ELVIS LIVES\",\"S\\u002f4 IVORY MINI ROSE CANDLE IN BOWL\",\"S\\u002f4 PINK FLOWER CANDLES IN BOWL\",\"S\\u002f4 VALENTINE DECOUPAGE HEART BOX\",\"S\\u002f6 SEW ON CROCHET FLOWERS\",\"S\\u002f6 WOODEN SKITTLES IN COTTON BAG\",\"SALLE DE BAIN HOOK\",\"SANDALWOOD FAN\",\"SANDWICH BATH SPONGE\",\"SAVE THE PLANET COTTON TOTE BAG\",\"SAVE THE PLANET MUG\",\"SAVOY ART DECO CLOCK\",\"SCALLOP SHELL SOAP DISH\",\"SCANDINAVIAN 3 HEARTS NAPKIN RING\",\"SCANDINAVIAN PAISLEY PICNIC BAG\",\"SCANDINAVIAN REDS RIBBONS\",\"SCENTED CANDLE IN DIGITALIS TIN\",\"SCENTED VELVET LOUNGE CANDLE \",\"SCHOOL DESK AND CHAIR \",\"SCOTTIE DOG HOT WATER BOTTLE\",\"SCOTTIE DOGS BABY BIB\",\"SCOTTIES CHILDRENS APRON\",\"SCOTTIES DESIGN WASHBAG\",\"SEASIDE FLYING DISC\",\"SET 10 CARDS HANGING BAUBLES 17080\",\"SET 10 LIGHTS NIGHT OWL\",\"SET 12 COLOUR PENCILS DOILEY\",\"SET 12 COLOUR PENCILS DOLLY GIRL \",\"SET 12 COLOUR PENCILS LOVE LONDON\",\"SET 12 COLOUR PENCILS SPACEBOY \",\"SET 12 KIDS  WHITE CHALK STICKS\",\"SET 12 KIDS COLOUR  CHALK STICKS\",\"SET 12 LAVENDER  BOTANICAL T-LIGHTS\",\"SET 12 RETRO WHITE CHALK STICKS\",\"SET 12 VINTAGE DOILY CHALK \",\"SET 2 PANTRY DESIGN TEA TOWELS\",\"SET 20 NAPKINS FAIRY CAKES DESIGN \",\"SET 3 PAPER VINTAGE CHICK PAPER EGG\",\"SET 3 RETROSPOT TEA,COFFEE,SUGAR\",\"SET 3 SONG BIRD PAPER EGGS ASSORTED\",\"SET 3 WICKER OVAL BASKETS W LIDS\",\"SET 3 WICKER STORAGE BASKETS \",\"SET 36 COLOUR PENCILS DOILEY\",\"SET 36 COLOUR PENCILS DOLLY GIRL\",\"SET 36 COLOUR PENCILS LOVE LONDON\",\"SET 36 COLOUR PENCILS SPACEBOY \",\"SET 4 NURSERY DES ROUND BOXES\",\"SET 4 PICNIC CUTLERY BLUEBERRY\",\"SET 4 PICNIC CUTLERY CHERRY \",\"SET 4 PICNIC CUTLERY FONDANT\",\"SET 40 HEART SHAPE PETIT FOUR CASES\",\"SET 6 FOOTBALL CELEBRATION CANDLES\",\"SET 6 PAPER TABLE LANTERN HEARTS \",\"SET 6 PAPER TABLE LANTERN STARS \",\"SET 6 SCHOOL MILK BOTTLES IN CRATE\",\"SET 7 BABUSHKA NESTING BOXES\",\"SET 8 CANDLES VINTAGE DOILEY\",\"SET OF 10 LANTERNS FAIRY LIGHT STAR\",\"SET OF 10 LED DOLLY LIGHTS\",\"SET OF 12  VINTAGE POSTCARD SET\",\"SET OF 12 FAIRY CAKE BAKING CASES\",\"SET OF 12 FORK CANDLES\",\"SET OF 12 MINI BUNNIES IN A BUCKET\",\"SET OF 12 MINI LOAF BAKING CASES\",\"SET OF 12 ROSE BOTANICAL T-LIGHTS\",\"SET OF 12 T-LIGHTS VINTAGE DOILEY\",\"SET OF 16 VINTAGE BLACK CUTLERY\",\"SET OF 16 VINTAGE IVORY CUTLERY\",\"SET OF 16 VINTAGE PISTACHIO CUTLERY\",\"SET OF 16 VINTAGE RED CUTLERY\",\"SET OF 16 VINTAGE ROSE CUTLERY\",\"SET OF 16 VINTAGE SKY BLUE CUTLERY\",\"SET OF 2 CERAMIC CHRISTMAS REINDEER\",\"SET OF 2 CERAMIC CHRISTMAS TREES\",\"SET OF 2 CERAMIC PAINTED HEARTS \",\"SET OF 2 CHRISTMAS DECOUPAGE CANDLE\",\"SET OF 2 ROUND TINS CAMEMBERT \",\"SET OF 2 ROUND TINS DUTCH CHEESE\",\"SET OF 2 TEA TOWELS APPLE AND PEARS\",\"SET OF 2 TEA TOWELS PING MICROWAVE\",\"SET OF 2 TINS JARDIN DE PROVENCE\",\"SET OF 2 TINS VINTAGE BATHROOM \",\"SET OF 2 TRAYS HOME SWEET HOME\",\"SET OF 2 WOODEN MARKET CRATES\",\"SET OF 20 KIDS COOKIE CUTTERS\",\"SET OF 20 VINTAGE CHRISTMAS NAPKINS\",\"SET OF 3 BABUSHKA STACKING TINS\",\"SET OF 3 BIRD LIGHT PINK FEATHER \",\"SET OF 3 BLACK FLYING DUCKS\",\"SET OF 3 BUTTERFLY COOKIE CUTTERS\",\"SET OF 3 CAKE TINS PANTRY DESIGN \",\"SET OF 3 CAKE TINS SKETCHBOOK\",\"SET OF 3 COLOURED  FLYING DUCKS\",\"SET OF 3 CONEY ISLAND OVAL BOXES\",\"SET OF 3 GOLD FLYING DUCKS\",\"SET OF 3 HANGING OWLS OLLIE BEAK\",\"SET OF 3 HEART COOKIE CUTTERS\",\"SET OF 3 MINI HANGING PORTRAITS\",\"SET OF 3 NOTEBOOKS IN PARCEL\",\"SET OF 3 PANTRY WOODEN SPOONS\",\"SET OF 3 PINK FLYING DUCKS\",\"SET OF 3 REGENCY CAKE TINS\",\"SET OF 3 WOODEN HEART DECORATIONS\",\"SET OF 3 WOODEN SLEIGH DECORATIONS\",\"SET OF 3 WOODEN STOCKING DECORATION\",\"SET OF 3 WOODEN TREE DECORATIONS\",\"SET OF 36 DINOSAUR PAPER DOILIES\",\"SET OF 36 DOILIES PANTRY DESIGN\",\"SET OF 36 DOILIES SPACEBOY DESIGN \",\"SET OF 36 MUSHROOM PAPER DOILIES\",\"SET OF 36 PAISLEY FLOWER DOILIES\",\"SET OF 36 TEATIME PAPER DOILIES\",\"SET OF 4 BLACK LOVEBIRD COASTERS\",\"SET OF 4 CAROUSEL PLACEMATS \",\"SET OF 4 DIAMOND NAPKIN RINGS\",\"SET OF 4 ENGLISH ROSE COASTERS\",\"SET OF 4 ENGLISH ROSE PLACEMATS\",\"SET OF 4 FAIRY CAKE PLACEMATS\",\"SET OF 4 FAIRY CAKE PLACEMATS \",\"SET OF 4 GREEN CAROUSEL COASTERS\",\"SET OF 4 JAM JAR MAGNETS\",\"SET OF 4 KNICK KNACK TINS  DOILEY \",\"SET OF 4 KNICK KNACK TINS LEAF\",\"SET OF 4 KNICK KNACK TINS LONDON \",\"SET OF 4 KNICK KNACK TINS POPPIES\",\"SET OF 4 NAPKIN CHARMS 3 KEYS \",\"SET OF 4 NAPKIN CHARMS CROWNS \",\"SET OF 4 NAPKIN CHARMS CUTLERY\",\"SET OF 4 NAPKIN CHARMS HEARTS\",\"SET OF 4 NAPKIN CHARMS INSTRUMENT\",\"SET OF 4 NAPKIN CHARMS LEAVES   \",\"SET OF 4 NAPKIN CHARMS STARS   \",\"SET OF 4 PANTRY JELLY MOULDS\",\"SET OF 4 PISTACHIO LOVEBIRD COASTER\",\"SET OF 4 POLKADOT COASTERS\",\"SET OF 4 POLKADOT PLACEMATS \",\"SET OF 4 ROSE BOTANICAL CANDLES\",\"SET OF 4 SANTA PLACE SETTINGS\",\"SET OF 5 LUCKY CAT MAGNETS \",\"SET OF 5 MINI GROCERY MAGNETS\",\"SET OF 5 PANCAKE DAY MAGNETS\",\"SET OF 6 3D KIT CARDS FOR KIDS\",\"SET OF 6 CAKE CHOPSTICKS\",\"SET OF 6 EASTER RAINBOW CHICKS\",\"SET OF 6 FUNKY BEAKERS\",\"SET OF 6 GIRLS CELEBRATION CANDLES\",\"SET OF 6 HALLOWEEN GHOST T-LIGHTS\",\"SET OF 6 HEART CHOPSTICKS\",\"SET OF 6 HERB TINS SKETCHBOOK\",\"SET OF 6 ICE CREAM SKITTLES\",\"SET OF 6 KASHMIR FOLKART BAUBLES\",\"SET OF 6 NATIVITY MAGNETS \",\"SET OF 6 RIBBONS COUNTRY STYLE\",\"SET OF 6 RIBBONS PARTY\",\"SET OF 6 RIBBONS PERFECTLY PRETTY  \",\"SET OF 6 RIBBONS VINTAGE CHRISTMAS\",\"SET OF 6 SNACK LOAF BAKING CASES\",\"SET OF 6 SOLDIER SKITTLES\",\"SET OF 6 SPICE TINS PANTRY DESIGN\",\"SET OF 6 STRAWBERRY CHOPSTICKS\",\"SET OF 6 T-LIGHTS CACTI \",\"SET OF 6 T-LIGHTS EASTER CHICKS\",\"SET OF 6 T-LIGHTS SANTA\",\"SET OF 6 T-LIGHTS SNOWMEN\",\"SET OF 6 T-LIGHTS TOADSTOOLS\",\"SET OF 6 T-LIGHTS WEDDING CAKE \",\"SET OF 6 TEA TIME BAKING CASES\",\"SET OF 6 VINTAGE NOTELETS KIT\",\"SET OF 60 I LOVE LONDON CAKE CASES \",\"SET OF 60 PANTRY DESIGN CAKE CASES \",\"SET OF 60 VINTAGE LEAF CAKE CASES \",\"SET OF 72 GREEN PAPER DOILIES\",\"SET OF 72 PINK HEART PAPER DOILIES\",\"SET OF 72 RETROSPOT PAPER  DOILIES\",\"SET OF 72 SKULL PAPER  DOILIES\",\"SET OF 9 BLACK SKULL BALLOONS\",\"SET OF 9 HEART SHAPED BALLOONS\",\"SET OF PICTURE FRAME  STICKERS\",\"SET OF SALT AND PEPPER TOADSTOOLS\",\"SET OF SKULL WALL STICKERS\",\"SET OF TEA COFFEE SUGAR TINS PANTRY\",\"SET\\u002f10 BLUE POLKADOT PARTY CANDLES\",\"SET\\u002f10 IVORY POLKADOT PARTY CANDLES\",\"SET\\u002f10 PINK POLKADOT PARTY CANDLES\",\"SET\\u002f10 RED POLKADOT PARTY CANDLES\",\"SET\\u002f12 FUNKY FELT FLOWER PEG IN BAG\",\"SET\\u002f12 TAPER CANDLES\",\"SET\\u002f2 RED RETROSPOT TEA TOWELS \",\"SET\\u002f20 RED RETROSPOT PAPER NAPKINS \",\"SET\\u002f20 STRAWBERRY PAPER NAPKINS \",\"SET\\u002f3 CHRISTMAS DECOUPAGE CANDLES\",\"SET\\u002f3 DECOUPAGE STACKING TINS\",\"SET\\u002f3 FLORAL GARDEN TOOLS IN BAG\",\"SET\\u002f3 OCEAN SCENT CANDLE JEWEL BOX\",\"SET\\u002f3 POLKADOT STACKING TINS\",\"SET\\u002f3 POT PLANT CANDLES\",\"SET\\u002f3 RABBITS FLOWER SKIPPPING ROPE\",\"SET\\u002f3 RED GINGHAM ROSE STORAGE BOX\",\"SET\\u002f3 ROSE CANDLE IN JEWELLED BOX\",\"SET\\u002f3 TALL GLASS CANDLE HOLDER PINK\",\"SET\\u002f3 VANILLA SCENTED CANDLE IN BOX\",\"SET\\u002f4 BADGES BALLOON GIRL\",\"SET\\u002f4 BADGES BEETLES\",\"SET\\u002f4 BADGES CUTE CREATURES\",\"SET\\u002f4 BADGES DOGS\",\"SET\\u002f4 BIRD MIRROR MAGNETS \",\"SET\\u002f4 BLUE FLOWER CANDLES IN BOWL\",\"SET\\u002f4 BUTTERFLY MIRROR MAGNETS\",\"SET\\u002f4 COLOURFUL MIXING BOWLS\",\"SET\\u002f4 DAISY MIRROR MAGNETS\",\"SET\\u002f4 GARDEN ROSE DINNER CANDLE\",\"SET\\u002f4 MODERN VINTAGE COTTON NAPKINS\",\"SET\\u002f4 RED MINI ROSE CANDLE IN BOWL\",\"SET\\u002f4 SKULL BADGES\",\"SET\\u002f4 SPRING FLOWER DECORATION\",\"SET\\u002f4 WHITE RETRO STORAGE CUBES \",\"SET\\u002f5 RED RETROSPOT LID GLASS BOWLS\",\"SET\\u002f6 BEAD COASTERS GAUZE BAG GOLD\",\"SET\\u002f6 BLACK BIRD T-LIGHT CANDLES\",\"SET\\u002f6 COLLAGE PAPER CUPS\",\"SET\\u002f6 COLLAGE PAPER PLATES\",\"SET\\u002f6 EAU DE NIL BIRD T-LIGHTS\",\"SET\\u002f6 FROG PRINCE T-LIGHT CANDLES\",\"SET\\u002f6 FRUIT SALAD  PAPER PLATES\",\"SET\\u002f6 FRUIT SALAD PAPER CUPS\",\"SET\\u002f6 GREEN SPRING PAPER CUPS\",\"SET\\u002f6 IVORY BIRD T-LIGHT CANDLES\",\"SET\\u002f6 PINK  BUTTERFLY T-LIGHTS\",\"SET\\u002f6 PINK BIRD T-LIGHT CANDLES\",\"SET\\u002f6 POSIES PAPER CUPS\",\"SET\\u002f6 POSIES PAPER PLATES\",\"SET\\u002f6 PURPLE BUTTERFLY T-LIGHTS\",\"SET\\u002f6 RED SPOTTY PAPER CUPS\",\"SET\\u002f6 RED SPOTTY PAPER PLATES\",\"SET\\u002f6 TURQUOISE BUTTERFLY T-LIGHTS\",\"SET\\u002f9 CHRISTMAS T-LIGHTS SCENTED \",\"SET3 BOOK BOX GREEN GINGHAM FLOWER \",\"SEWING BOX RETROSPOT DESIGN \",\"SEWING SUSAN 21 NEEDLE SET\",\"SHELF WITH 4 HOOKS HOME SWEET HOME\",\"SHOE SHINE BOX \",\"SILICON CUBE 25W, BLUE\",\"SILICON STAR BULB  BLUE\",\"SILK PURSE BABUSHKA BLUE\",\"SILK PURSE BABUSHKA PINK\",\"SILK PURSE BABUSHKA RED\",\"SILVER  CANDLEPOT JARDIN \",\"SILVER 2 STRAND NECKLACE-LEAF CHARM\",\"SILVER AND BLACK ORBIT NECKLACE\",\"SILVER APERITIF GLASS\",\"SILVER BELLS TABLE DECORATION\",\"SILVER BLACK ORBIT BRACELET\",\"SILVER BLACK ORBIT DROP EARRINGS\",\"SILVER BOOK MARK WITH BEADS\",\"SILVER BRACELET W PASTEL FLOWER\",\"SILVER CHRISTMAS TREE BAUBLE STAND \",\"SILVER DIAMANTE PEN IN GIFT BOX\",\"SILVER DISCO HANDBAG\",\"SILVER DROP EARRINGS WITH FLOWER\",\"SILVER FABRIC MIRROR\",\"SILVER FISHING GNOME \",\"SILVER FLOWR PINK SHELL NECKLACE\",\"SILVER GLASS T-LIGHT SET\",\"SILVER GLITTER FLOWER VOTIVE HOLDER\",\"SILVER HANGING T-LIGHT HOLDER\",\"SILVER HEARTS TABLE DECORATION\",\"SILVER HOOP EARRINGS WITH FLOWER\",\"SILVER JEWELLED MIRROR TRINKET TRAY\",\"SILVER LARIAT 40CM\",\"SILVER LARIAT BLACK STONE EARRINGS\",\"SILVER LATTICE VANILLA CANDLE POT\",\"SILVER LOOKING MIRROR\",\"SILVER M.O.P ORBIT BRACELET\",\"SILVER M.O.P ORBIT DROP EARRINGS\",\"SILVER M.O.P. ORBIT NECKLACE\",\"SILVER MUG BONE CHINA TREE OF LIFE\",\"SILVER OVAL SHAPE TRINKET BOX\",\"SILVER PHOTO FRAME\",\"SILVER PLATE CANDLE BOWL SMALL\",\"SILVER RECORD COVER FRAME\",\"SILVER ROCCOCO CHANDELIER\",\"SILVER ROCOCO CANDLE STICK\",\"SILVER STANDING GNOME   \",\"SILVER STARS TABLE DECORATION\",\"SILVER T-LIGHT SETTING\",\"SILVER TEDDY BEAR\",\"SILVER VANILLA  FLOWER CANDLE POT\",\"SILVER\\u002fAMETHYST DROP EARRINGS LEAF\",\"SILVER\\u002fCRYSTAL DROP EARRINGS W LEAF\",\"SILVER\\u002fM.O.P PENDANT ORBIT NECKLACE\",\"SILVER\\u002fNAT SHELL NECKLACE W PENDANT\",\"SILVER\\u002fNATURAL SHELL NECKLACE\",\"SINGLE ANTIQUE ROSE HOOK IVORY\",\"SINGLE HEART ZINC T-LIGHT HOLDER\",\"SINGLE WIRE HOOK IVORY HEART\",\"SINGLE WIRE HOOK PINK HEART\",\"SIX DRAWER OFFICE TIDY\",\"SKETCHBOOK MAGNETIC SHOPPING LIST\",\"SKULL AND CROSSBONES  GARLAND \",\"SKULL DESIGN TV DINNER TRAY\",\"SKULL LUNCH BOX WITH CUTLERY \",\"SKULL SHOULDER BAG\",\"SKULLS  DESIGN  COTTON TOTE BAG\",\"SKULLS  STICKERS\",\"SKULLS  WATER TRANSFER TATTOOS \",\"SKULLS AND CROSSBONES WRAP\",\"SKULLS DESIGN FLANNEL\",\"SKULLS GREETING CARD\",\"SKULLS PARTY BAG + STICKER SET\",\"SKULLS SQUARE TISSUE BOX\",\"SKULLS STORAGE BOX LARGE\",\"SKULLS STORAGE BOX SMALL\",\"SKULLS TAPE\",\"SKULLS WRITING SET \",\"SLATE TILE NATURAL HANGING\",\"SLEEPING CAT ERASERS\",\"SMALL APOTHECARY MEASURING JAR \",\"SMALL BLUE PROVENCAL CERAMIC BALL\",\"SMALL BONNE JAM JAR  T-LIGHT HOLDER\",\"SMALL CAMPHOR WOOD FIELD  MUSHROOM\",\"SMALL CERAMIC TOP STORAGE JAR \",\"SMALL CHINESE STYLE SCISSOR\",\"SMALL CHOCOLATES PINK BOWL\",\"SMALL CHUNKY GLASS ROMAN  BOWL\",\"SMALL DECO JEWELLERY STAND\",\"SMALL DOLLY MIX DESIGN ORANGE BOWL\",\"SMALL FOLDING SCISSOR(POINTED EDGE)\",\"SMALL FOLKART STAR CHRISTMAS DEC\",\"SMALL GLASS HEART TRINKET POT\",\"SMALL GLASS SUNDAE DISH CLEAR\",\"SMALL HAMMERED SILVER CANDLEPOT \",\"SMALL HANGING GLASS+ZINC LANTERN\",\"SMALL HANGING IVORY\\u002fRED WOOD BIRD\",\"SMALL HEART FLOWERS HOOK \",\"SMALL HEART MEASURING SPOONS\",\"SMALL IVORY HEART WALL ORGANISER\",\"SMALL KITCHEN FLOWER POTS PLAQUE\",\"SMALL LICORICE DES PINK BOWL\",\"SMALL MARSHMALLOWS PINK BOWL\",\"SMALL MEDINA STAMPED METAL BOWL \",\"SMALL PARISIENNE HEART PHOTO FRAME \",\"SMALL PARLOUR FRAME\",\"SMALL PINK GLASS SUNDAE DISH\",\"SMALL PINK MAGIC CHRISTMAS TREE\",\"SMALL POLKADOT CHOCOLATE GIFT BAG \",\"SMALL POP BOX FUNKY MONKEY\",\"SMALL PURPLE BABUSHKA NOTEBOOK \",\"SMALL RED BABUSHKA NOTEBOOK \",\"SMALL RED RETROSPOT MUG IN BOX \",\"SMALL RED RETROSPOT WINDMILL\",\"SMALL REGAL  SILVER CANDLEPOT \",\"SMALL ROUND CUT GLASS CANDLESTICK\",\"SMALL SILVER FLOWER CANDLE POT\",\"SMALL SILVER TRELLIS CANDLEPOT\",\"SMALL SINGLE FLAME CANDLE HOLDER\",\"SMALL SKULL WINDMILL\",\"SMALL SQUARE CUT GLASS CANDLESTICK\",\"SMALL STRIPES CHOCOLATE GIFT BAG \",\"SMALL TALL CAMPHOR WOOD TOADSTOOL\",\"SMALL WHITE HEART OF WICKER\",\"SMALL WHITE RETROSPOT MUG IN BOX \",\"SMALL WHITE\\u002fPINK ROSE ART FLOWER\",\"SMALL YELLOW BABUSHKA NOTEBOOK \",\"SMALL ZINC HEART WALL ORGANISER\",\"SMALL ZINC\\u002fGLASS CANDLEHOLDER\",\"SMALLFOLKART BAUBLE CHRISTMAS DEC\",\"SMOKEY GREY COLOUR D.O.F. GLASS\",\"SNACK TRAY HAPPY FOREST  \",\"SNACK TRAY I LOVE LONDON\",\"SNACK TRAY PAISLEY PARK\",\"SNACK TRAY RED GINGHAM\",\"SNACK TRAY RED VINTAGE DOILY\",\"SNOWFLAKE PORTABLE TABLE LIGHT \",\"SNOWSTORM PHOTO FRAME FRIDGE MAGNET\",\"SOAP DISH BROCANTE\",\"SOFT PINK ROSE TOWEL \",\"SOLDIERS EGG CUP \",\"SOMBRERO \",\"SPACE BOY CHILDRENS CUP\",\"SPACE CADET BLACK\",\"SPACE CADET RED\",\"SPACE CADET WHITE\",\"SPACE FROG\",\"SPACE OWL\",\"SPACEBOY BEAKER\",\"SPACEBOY BIRTHDAY CARD\",\"SPACEBOY CHILDRENS BOWL\",\"SPACEBOY CHILDRENS EGG CUP\",\"SPACEBOY GIFT WRAP\",\"SPACEBOY LUNCH BOX \",\"SPACEBOY MINI BACKPACK\",\"SPACEBOY ROCKET LOLLY MAKERS\",\"SPACEBOY TV DINNER TRAY\",\"SPACEBOY WALL ART\",\"SPOTS ON RED BOOKCOVER TAPE\",\"SPOTTED WHITE NATURAL SEED NECKLACE\",\"SPOTTY PINK DUCK DOORSTOP\",\"SPRIG LAVENDER ARTIFICIAL FLOWER\",\"SQUARE CHERRY BLOSSOM CABINET\",\"SQUARE FLOOR CUSHION VINTAGE RED\",\"SQUARE METAL CANDLEHOLDER BASE\",\"SQUARE MINI PORTRAIT FRAME\",\"SQUARECUSHION COVER PINK UNION FLAG\",\"ST GEORGE SET OF 10 PARTY LIGHTS\",\"ST TROPEZ NECKLACE\",\"STANDING FAIRY POLE SUPPORT \",\"STAR  T-LIGHT HOLDER \",\"STAR DECORATION PAINTED ZINC \",\"STAR DECORATION RUSTIC\",\"STAR PORTABLE TABLE LIGHT \",\"STAR T-LIGHT HOLDER WILLIE WINKIE\",\"STAR WOODEN CHRISTMAS DECORATION\",\"STAR WREATH DECORATION WITH BELL\",\"STARFISH SOAP DISH\",\"STARS GIFT TAPE \",\"STEEL SWEETHEART ROUND TABLE CREAM\",\"STOOL HOME SWEET HOME \",\"STOP FOR TEA WALL ART\",\"STORAGE TIN HOME SWEET HOME\",\"STRAWBERRIES  DESIGN FLANNEL \",\"STRAWBERRY   PICNIC BAG\",\"STRAWBERRY BATH SPONGE \",\"STRAWBERRY CERAMIC TRINKET BOX\",\"STRAWBERRY CHARLOTTE BAG\",\"STRAWBERRY DREAM CHILDS UMBRELLA\",\"STRAWBERRY FAIRY CAKE TEAPOT\",\"STRAWBERRY HONEYCOMB  GARLAND \",\"STRAWBERRY LUNCH BOX WITH CUTLERY\",\"STRAWBERRY RAFFIA FOOD COVER\",\"STRAWBERRY SHOPPER BAG\",\"STRAWBRY SCENTED VOTIVE CANDLE\",\"STRING OF 8 BUTTERFLIES,PINK\",\"STRING OF STARS CARD HOLDER\",\"STRIPES DESIGN MONKEY DOLL\",\"STRIPES DESIGN TEDDY\",\"STRIPEY CHOCOLATE NESTING BOXES\",\"STRIPY DESIGN SHOWER CAP\",\"SUKI  SHOULDER BAG\",\"SUMMER DAISIES BAG CHARM\",\"SUMMER FUN DESIGN SHOWER CAP\",\"SUNFLOWER DECORATIVE PARASOL\",\"SUNSET CHECK HAMMOCK\",\"SUNSET COLOUR CHUNKY KNITTED THROW\",\"SWALLOW SQUARE TISSUE BOX\",\"SWALLOW WOODEN CHRISTMAS DECORATION\",\"SWALLOWS GREETING CARD\",\"SWEET HEART CAKE CARRIER\",\"SWEET PUDDING STICKER SHEET\",\"SWEETHEART BIRD HOUSE\",\"SWEETHEART CARRY-ALL BASKET\",\"SWEETHEART CERAMIC TRINKET BOX\",\"SWEETHEART CREAM STEEL TABLE RECT\",\"SWEETHEART RECIPE BOOK STAND\",\"SWEETHEART WALL TIDY \",\"SWEETHEART WIRE FRUIT BOWL\",\"SWEETHEART WIRE MAGAZINE RACK\",\"SWEETHEART WIRE WALL TIDY\",\"SWEETIES  STICKERS\",\"SWIRLY CIRCULAR RUBBERS IN BAG\",\"SWISS CHALET TREE DECORATION \",\"SWISS ROLL TOWEL PINK  SPOTS\",\"SWISS ROLL TOWEL, CHOCOLATE  SPOTS\",\"T-LIGHT GLASS FLUTED ANTIQUE\",\"T-LIGHT HOLDER HANGING LACE\",\"T-LIGHT HOLDER HANGING LOVE BIRD\",\"T-LIGHT HOLDER SILVER HEART HANDLE\",\"T-LIGHT HOLDER SILVER PETIT FOUR \",\"T-LIGHT HOLDER SILVER SAUCER\",\"T-LIGHT HOLDER SWEETHEART HANGING\",\"T-LIGHT HOLDER WHITE LACE\",\"TABLE LAMP WHITE SHADE WOOD BASE\",\"TABLECLOTH RED APPLES DESIGN \",\"TALL ROCOCO CANDLE HOLDER\",\"TEA BAG PLATE RED RETROSPOT\",\"TEA COSY BLUE STRIPE\",\"TEA COSY RED  STRIPE\",\"TEA FOR ONE POLKADOT\",\"TEA PARTY  WRAPPING PAPER \",\"TEA PARTY BIRTHDAY CARD\",\"TEA TIME BREAKFAST BASKET\",\"TEA TIME DES TEA COSY\",\"TEA TIME KITCHEN APRON\",\"TEA TIME OVEN GLOVE\",\"TEA TIME PARTY BUNTING\",\"TEA TIME TABLE CLOTH\",\"TEA TIME TEA SET IN GIFT BOX\",\"TEA TIME TEA TOWELS \",\"TEA TIME TEAPOT IN GIFT BOX\",\"TEAL\\u002fFUSCHIA COL BEAD NECKLACE\",\"TEATIME FUNKY FLOWER BACKPACK FOR 2\",\"TEATIME GEL PENS ASST\",\"TEATIME PEN CASE & PENS\",\"TEATIME PUSH DOWN RUBBER\",\"TEATIME ROUND PENCIL SHARPENER \",\"THE KING GIFT BAG\",\"THE KING GIFT BAG 25x24x12cm\",\"THREE CANVAS LUGGAGE TAGS\",\"TIGRIS EYE CHUNKY CHARM BRACELET\",\"TINY CRYSTAL BRACELET GREEN\",\"TOADSTOOL MONEY BOX\",\"TOAST ITS - BEST MUM\",\"TOAST ITS - DINOSAUR\",\"TOAST ITS - FAIRY FLOWER\",\"TOAST ITS - HAPPY BIRTHDAY\",\"TOAST ITS - I LOVE YOU \",\"TOILET METAL SIGN\",\"TOILET SIGN OCCUPIED OR VACANT\",\"TOMATO CHARLIE+LOLA COASTER SET\",\"TOOL BOX SOFT TOY \",\"TOOTHPASTE TUBE PEN\",\"TOP SECRET PEN SET\",\"TOTE BAG I LOVE LONDON\",\"TOXIC AREA  DOOR HANGER \",\"TOY TIDY DOLLY GIRL DESIGN\",\"TOY TIDY PINK POLKADOT\",\"TOY TIDY SPACEBOY  \",\"TOYBOX  WRAP \",\"TRADITIONAL CHRISTMAS RIBBONS\",\"TRADITIONAL KNITTING NANCY\",\"TRADITIONAL MODELLING CLAY\",\"TRADITIONAL NAUGHTS & CROSSES\",\"TRADITIONAL PICK UP STICKS GAME \",\"TRADITIONAL WOODEN CATCH CUP GAME \",\"TRADITIONAL WOODEN SKIPPING ROPE\",\"TRADTIONAL ALPHABET STAMP SET\",\"TRANQUILITY MASALA INCENSE\",\"TRANSPARENT ACRYLIC TAPE DISPENSER\",\"TRAVEL CARD WALLET FLOWER MEADOW\",\"TRAVEL CARD WALLET I LOVE LONDON\",\"TRAVEL CARD WALLET KEEP CALM\",\"TRAVEL CARD WALLET PANTRY\",\"TRAVEL CARD WALLET RETRO PETALS\",\"TRAVEL CARD WALLET RETROSPOT\",\"TRAVEL CARD WALLET SKULLS\",\"TRAVEL CARD WALLET SUKI\",\"TRAVEL CARD WALLET TRANSPORT\",\"TRAVEL CARD WALLET UNION JACK\",\"TRAVEL CARD WALLET VINTAGE ROSE \",\"TRAVEL CARD WALLET VINTAGE TICKET\",\"TRAVEL SEWING KIT\",\"TRAY, BREAKFAST IN BED\",\"TREASURE AHOY WALL ART\",\"TREASURE ISLAND BOOK BOX\",\"TREASURE TIN BUFFALO BILL \",\"TREASURE TIN GYMKHANA DESIGN\",\"TREE T-LIGHT HOLDER WILLIE WINKIE\",\"TRIANGULAR POUFFE VINTAGE \",\"TRIPLE HOOK ANTIQUE IVORY ROSE\",\"TRIPLE PHOTO FRAME CORNICE \",\"TRIPLE WIRE HOOK IVORY HEART\",\"TRIPLE WIRE HOOK PINK HEART\",\"TROPICAL  HONEYCOMB PAPER GARLAND \",\"TROPICAL HOLIDAY PURSE \",\"TROPICAL LUGGAGE TAG\",\"TROPICAL PASSPORT COVER \",\"TUB 24 PINK FLOWER PEGS\",\"TUMBLER BAROQUE\",\"TUMBLER NEW ENGLAND\",\"TURQ ICE CREAM BUM BAG \",\"TURQ PENDANT TRIPLE SHELL NECKLACE\",\"TURQ STONE\\u002fCRYSTAL EARRINGS\",\"TURQ+RED BOUDICCA LARGE BRACELET\",\"TURQUOISE BERTIE GLASS BEAD CHARM\",\"TURQUOISE CHRISTMAS TREE \",\"TURQUOISE CRYSTAL+GLASS BRACELET\",\"TURQUOISE GLASS TASSLE BAG CHARM \",\"TURQUOISE HEART OF GLASS BRACELET\",\"TUSCAN VILLA BIRD FEEDER\",\"TUSCAN VILLA BIRD TABLE \",\"TUSCAN VILLA DOVECOTE\",\"TV DINNER TRAY AIR HOSTESS \",\"TV DINNER TRAY DOLLY GIRL\",\"TV DINNER TRAY VINTAGE PAISLEY\",\"TWO DOOR CURIO CABINET\",\"UBO-LIGHT TRIOBASE BLUE\",\"UBO-LIGHT TRIOBASE PURPLE\",\"UNION FLAG WINDSOCK\",\"UNION JACK FLAG LUGGAGE TAG\",\"UNION JACK FLAG PASSPORT COVER \",\"UNION JACK HOT WATER BOTTLE \",\"UNION STRIPE CUSHION COVER \",\"UNION STRIPE WITH FRINGE  HAMMOCK\",\"URBAN BLACK RIBBONS \",\"UTILTY CABINET WITH HOOKS\",\"VANILLA INCENSE 40 CONES IN TIN\",\"VANILLA INCENSE IN TIN\",\"VANILLA SCENT CANDLE JEWELLED BOX\",\"VEGETABLE GARDEN CHOPPING BOARD\",\"VICTORIAN  METAL POSTCARD SPRING\",\"VICTORIAN GLASS HANGING T-LIGHT\",\"VICTORIAN SEWING BOX LARGE\",\"VICTORIAN SEWING BOX MEDIUM\",\"VICTORIAN SEWING BOX SMALL \",\"VICTORIAN SEWING KIT\",\"VILLAGE SHOW WALL ART\",\"VINTAGE  2 METER FOLDING RULER\",\"VINTAGE BEAD COSMETIC BAG \",\"VINTAGE BEAD NOTEBOOK\",\"VINTAGE BEAD PINK EVENING BAG\",\"VINTAGE BEAD PINK JEWEL BOX\",\"VINTAGE BEAD PINK JEWEL STAND\",\"VINTAGE BEAD PINK PURSE \",\"VINTAGE BEAD PINK SCARF \",\"VINTAGE BEAD PINK SHADE \",\"VINTAGE BILLBOARD DRINK ME MUG\",\"VINTAGE BILLBOARD LOVE\\u002fHATE MUG\",\"VINTAGE BILLBOARD MUG \",\"VINTAGE BILLBOARD TEA MUG\",\"VINTAGE BLUE KITCHEN CABINET\",\"VINTAGE BLUE TINSEL REEL\",\"VINTAGE CARAVAN GIFT WRAP\",\"VINTAGE CARAVAN GREETING CARD \",\"VINTAGE CHRISTMAS BUNTING\",\"VINTAGE CHRISTMAS CAKE FRILL\",\"VINTAGE CHRISTMAS GIFT SACK\",\"VINTAGE CHRISTMAS PAPER GIFT BAG\",\"VINTAGE CHRISTMAS STOCKING \",\"VINTAGE CHRISTMAS TABLECLOTH\",\"VINTAGE CREAM 3 BASKET CAKE STAND\",\"VINTAGE CREAM CAT FOOD CONTAINER\",\"VINTAGE CREAM DOG FOOD CONTAINER\",\"VINTAGE DOILY DELUXE SEWING KIT \",\"VINTAGE DOILY JUMBO BAG RED \",\"VINTAGE DOILY TRAVEL SEWING KIT\",\"VINTAGE EMBOSSED HEART\",\"VINTAGE ENAMEL & CRYSTAL EARRINGS\",\"VINTAGE ENAMEL & CRYSTAL NECKLACE\",\"VINTAGE GLASS COFFEE CADDY\",\"VINTAGE GLASS T-LIGHT HOLDER\",\"VINTAGE GLASS TEA CADDY\",\"VINTAGE HEADS AND TAILS CARD GAME \",\"VINTAGE JINGLE BELLS HEART\",\"VINTAGE JINGLE BELLS WREATH\",\"VINTAGE KEEPSAKE BOX PARIS DAYS\",\"VINTAGE KEEPSAKE BOX PINK FLOWER\",\"VINTAGE KEEPSAKE BOX TRAVELOGUE\",\"VINTAGE KID DOLLY CARD \",\"VINTAGE KITCHEN PRINT FRUITS\",\"VINTAGE KITCHEN PRINT PUDDINGS\",\"VINTAGE KITCHEN PRINT SEAFOOD\",\"VINTAGE KITCHEN PRINT VEGETABLES\",\"VINTAGE LEAF CHOPPING BOARD  \",\"VINTAGE NOTEBOOK BEAUTY GIRL\",\"VINTAGE NOTEBOOK PARIS DAYS\",\"VINTAGE NOTEBOOK TRAVELOGUE\",\"VINTAGE PAISLEY STATIONERY SET\",\"VINTAGE PHOTO ALBUM PARIS DAYS\",\"VINTAGE PINK DECORATIVE PARASOL\",\"VINTAGE POST OFFICE CABINET\",\"VINTAGE RED KITCHEN CABINET\",\"VINTAGE RED MUG\",\"VINTAGE RED TEATIME MUG\",\"VINTAGE ROSE BEAD BRACELET BLACK\",\"VINTAGE ROSE BEAD BRACELET RASPBERR\",\"VINTAGE SEASIDE JIGSAW PUZZLES\",\"VINTAGE SHELLS PRINT\",\"VINTAGE SNAKES & LADDERS\",\"VINTAGE SNAP CARDS\",\"VINTAGE UNION JACK APRON\",\"VINTAGE UNION JACK BUNTING\",\"VINTAGE UNION JACK CUSHION COVER\",\"VINTAGE UNION JACK DOORSTOP\",\"VINTAGE UNION JACK MEMOBOARD\",\"VINTAGE UNION JACK PENNANT\",\"VINTAGE UNION JACK SHOPPING BAG\",\"VINTAGE WOODEN BAR STOOL\",\"VINTAGE ZINC PLANTER  \",\"VINTAGE ZINC WATERING CAN\",\"VINTAGE ZINC WATERING CAN SMALL\",\"VIP HOLIDAY PURSE\",\"VIP PASSPORT COVER \",\"WAKE UP COCKEREL CALENDAR SIGN \",\"WAKE UP COCKEREL TILE COASTER\",\"WAKE UP COCKEREL TILE HOOK\",\"WALL ART , LOVES' SECRET \",\"WALL ART , THE MAGIC FOREST \",\"WALL ART ,PUDDINGS \",\"WALL ART BIG LOVE \",\"WALL ART GARDEN HAVEN \",\"WALL ART MID CENTURY MODERN \",\"WALL ART ONLY ONE PERSON \",\"WALL ART VINTAGE HEART\",\"WALL ART WORK REST AND PLAY  \",\"WALL MIRROR RECTANGLE DIAMANTE PINK\",\"WALL TIDY RETROSPOT \",\"WASH BAG VINTAGE ROSE PAISLEY\",\"WASHROOM METAL SIGN\",\"WATERING CAN BLUE ELEPHANT\",\"WATERING CAN GARDEN MARKER\",\"WATERING CAN GREEN DINOSAUR\",\"WATERING CAN PINK BUNNY\",\"WAY OUT METAL SIGN \",\"WEEKEND BAG VINTAGE ROSE PAISLEY\",\"WELCOME  WOODEN BLOCK LETTERS\",\"WHEELBARROW FOR CHILDREN \",\"WHITE  ROSEBUD PEARL BRACELET\",\"WHITE 3 FRAME BIRDS AND TREE \",\"WHITE ALLIUM  ARTIFICIAL FLOWER\",\"WHITE AND BLUE CERAMIC OIL BURNER\",\"WHITE ANEMONE ARTIFICIAL FLOWER\",\"WHITE BAMBOO RIBS LAMPSHADE\",\"WHITE BAROQUE WALL CLOCK \",\"WHITE BEADED GARLAND STRING 20LIGHT\",\"WHITE BELL HONEYCOMB PAPER \",\"WHITE BELL HONEYCOMB PAPER GARLAND \",\"WHITE BROCANTE SOAP DISH\",\"WHITE CANDYSTUFT ARTIFICIAL FLOWER\",\"WHITE CHRISTMAS FLOCK DROPLET \",\"WHITE CHRISTMAS GARLAND STARS TREES\",\"WHITE CHRISTMAS STAR DECORATION\",\"WHITE CHRISTMAS TREE 60CM\",\"WHITE CHRYSANTHEMUMS ART FLOWER\",\"WHITE ENAMEL FLOWER HAIR TIE\",\"WHITE FRANGIPANI HAIR CLIP\",\"WHITE FRANGIPANI NECKLACE\",\"WHITE GLASS CHUNKY CHARM BRACELET\",\"WHITE GOOSE FEATHER CHRISTMAS TREE \",\"WHITE GOOSE FEATHER TREE 60CM \",\"WHITE HAND TOWEL WITH BUTTERFLY\",\"WHITE HANGING BEADS CANDLE HOLDER\",\"WHITE HEART CONFETTI IN TUBE\",\"WHITE HEART OF GLASS BRACELET\",\"WHITE HEARTS WIRE PLANT POT HOLDER\",\"WHITE HONEYCOMB PAPER GARLAND \",\"WHITE HYDRANGEA ART FLOWER\",\"WHITE JEWELLED HEART DECORATION\",\"WHITE LOVEBIRD LANTERN\",\"WHITE METAL LANTERN\",\"WHITE MURANO TWIST BRACELET\",\"WHITE ROCKING HORSE HAND PAINTED\",\"WHITE ROSEBUD  PEARL EARRINGS\",\"WHITE ROSEBUD & PEARL NECKLACE\",\"WHITE SAGE INCENSE\",\"WHITE SKULL HOT WATER BOTTLE \",\"WHITE SOAP RACK WITH 2 BOTTLES\",\"WHITE SPOT BLUE CERAMIC DRAWER KNOB\",\"WHITE SPOT RED CERAMIC DRAWER KNOB\",\"WHITE SQUARE TABLE CLOCK\",\"WHITE STITCHED CUSHION COVER\",\"WHITE STITCHED WALL CLOCK\",\"WHITE STONE\\u002fCRYSTAL EARRINGS\",\"WHITE TALL PORCELAIN T-LIGHT HOLDER\",\"WHITE TEA,COFFEE,SUGAR JARS\",\"WHITE TISSUE REAM\",\"WHITE TRAVEL ALARM CLOCK\",\"WHITE VINT ART DECO CRYSTAL NECKLAC\",\"WHITE VINTAGE CRYSTAL BRACELET\",\"WHITE VINTAGE CRYSTAL EARRINGS\",\"WHITE WICKER STAR \",\"WHITE WIRE EGG HOLDER\",\"WHITE WITH BLACK CATS PLATE\",\"WHITE WITH METAL BAG CHARM\",\"WHITE WOOD GARDEN PLANT LADDER\",\"WHITE\\u002fPINK CHICK DECORATION\",\"WHITE\\u002fPINK CHICK EASTER DECORATION\",\"WHITE\\u002fPINK MINI CRYSTALS NECKLACE\",\"WICKER STAR \",\"WICKER WREATH LARGE\",\"WICKER WREATH SMALL\",\"WINE BOTTLE DRESSING DARK BLUE\",\"WINE BOTTLE DRESSING LT.BLUE\",\"WIRE EGG BASKET \",\"WISE MAN STAR SHAPE EGG PAN\",\"WOOD 2 DRAWER CABINET WHITE FINISH\",\"WOOD AND GLASS MEDICINE CABINET\",\"WOOD BLACK BOARD ANT WHITE FINISH\",\"WOOD STAMP SET BEST WISHES\",\"WOOD STAMP SET FLOWERS\",\"WOOD STAMP SET HAPPY BIRTHDAY\",\"WOOD STAMP SET THANK YOU\",\"WOOD STOCKING CHRISTMAS SCANDISPOT\",\"WOODEN ADVENT CALENDAR CREAM\",\"WOODEN ADVENT CALENDAR RED\",\"WOODEN BOX ADVENT CALENDAR \",\"WOODEN BOX OF DOMINOES\",\"WOODEN CROQUET GARDEN SET\",\"WOODEN FRAME ANTIQUE WHITE \",\"WOODEN HAPPY BIRTHDAY GARLAND\",\"WOODEN HEART CHRISTMAS SCANDINAVIAN\",\"WOODEN OWLS LIGHT GARLAND \",\"WOODEN PICTURE FRAME WHITE FINISH\",\"WOODEN REGATTA BUNTING\",\"WOODEN ROUNDERS GARDEN SET \",\"WOODEN SCHOOL COLOURING SET\",\"WOODEN SKITTLES GARDEN SET\",\"WOODEN STAR CHRISTMAS SCANDINAVIAN\",\"WOODEN TREE CHRISTMAS SCANDINAVIAN\",\"WOODEN UNION JACK BUNTING\",\"WOODLAND  HEIGHT CHART STICKERS \",\"WOODLAND  STICKERS\",\"WOODLAND BUNNIES LOLLY MAKERS\",\"WOODLAND CHARLOTTE BAG\",\"WOODLAND DESIGN  COTTON TOTE BAG\",\"WOODLAND LARGE BLUE FELT HEART\",\"WOODLAND LARGE PINK FELT HEART\",\"WOODLAND LARGE RED FELT HEART\",\"WOODLAND MINI BACKPACK\",\"WOODLAND PARTY BAG + STICKER SET\",\"WOODLAND SMALL BLUE FELT HEART\",\"WOODLAND SMALL PINK FELT HEART\",\"WOODLAND SMALL RED FELT HEART\",\"WOODLAND STORAGE BOX LARGE \",\"WOODLAND STORAGE BOX SMALL\",\"WORLD WAR 2 GLIDERS ASSTD DESIGNS\",\"WOVEN BERRIES CUSHION COVER \",\"WOVEN BUBBLE GUM CUSHION COVER\",\"WOVEN CANDY CUSHION COVER \",\"WOVEN FROST CUSHION COVER\",\"WOVEN ROSE GARDEN CUSHION COVER \",\"WOVEN SUNSET CUSHION COVER \",\"WRAP  PINK FLOCK\",\"WRAP  VINTAGE DOILEY \",\"WRAP 50'S  CHRISTMAS\",\"WRAP A PRETTY THANK YOU\",\"WRAP ALPHABET DESIGN\",\"WRAP ALPHABET POSTER  \",\"WRAP BAD HAIR DAY\",\"WRAP BILLBOARD FONTS DESIGN\",\"WRAP BIRD GARDEN \",\"WRAP BLUE RUSSIAN FOLKART\",\"WRAP CAROUSEL\",\"WRAP CHRISTMAS SCREEN PRINT\",\"WRAP CHRISTMAS VILLAGE\",\"WRAP CIRCUS PARADE\",\"WRAP COWBOYS  \",\"WRAP DAISY CARPET \",\"WRAP DOLLY GIRL\",\"WRAP ENGLISH ROSE \",\"WRAP FLOWER SHOP  \",\"WRAP FOLK ART\",\"WRAP GREEN PEARS \",\"WRAP GREEN RUSSIAN FOLKART \",\"WRAP I LOVE LONDON \",\"WRAP MAGIC FOREST \",\"WRAP MONSTER FUN \",\"WRAP PAISLEY PARK \",\"WRAP PINK FAIRY CAKES \",\"WRAP POPPIES  DESIGN\",\"WRAP RED APPLES \",\"WRAP RED DOILEY\",\"WRAP SUKI AND FRIENDS\",\"WRAP SUMMER ROSE DESIGN\",\"WRAP VINTAGE LEAF DESIGN\",\"WRAP WEDDING DAY\",\"YELLOW BREAKFAST CUP AND SAUCER\",\"YELLOW COAT RACK PARIS FASHION\",\"YELLOW DRAGONFLY HELICOPTER\",\"YELLOW EASTER EGG HUNT START POST\",\"YELLOW FELT HANGING HEART W FLOWER\",\"YELLOW FLOWERS FELT HANDBAG KIT\",\"YELLOW GIANT GARDEN THERMOMETER\",\"YELLOW METAL CHICKEN HEART \",\"YELLOW PINK FLOWER DESIGN BIG BOWL\",\"YELLOW POT PLANT CANDLE\",\"YELLOW SHARK HELICOPTER\",\"YELLOW\\u002fBLUE RETRO RADIO\",\"YELLOW\\u002fORANGE FLOWER DESIGN PLATE\",\"YELLOW\\u002fPINK FLOWER DESIGN BIG MUG\",\"YOU'RE CONFUSING ME METAL SIGN \",\"YULETIDE IMAGES GIFT WRAP SET\",\"YULETIDE IMAGES S\\u002f6 PAPER BOXES\",\"ZINC  HEART T-LIGHT HOLDER\",\"ZINC  STAR T-LIGHT HOLDER \",\"ZINC BOX SIGN HOME\",\"ZINC FINISH 15CM PLANTER POTS\",\"ZINC FOLKART SLEIGH BELLS\",\"ZINC HEART FLOWER T-LIGHT HOLDER\",\"ZINC HEART LATTICE 2 WALL PLANTER\",\"ZINC HEART LATTICE CHARGER LARGE\",\"ZINC HEART LATTICE CHARGER SMALL\",\"ZINC HEART LATTICE T-LIGHT HOLDER\",\"ZINC HEART LATTICE TRAY OVAL \",\"ZINC HEARTS PLANT POT HOLDER\",\"ZINC METAL HEART DECORATION\",\"ZINC SWEETHEART SOAP DISH\",\"ZINC SWEETHEART WIRE LETTER RACK\",\"ZINC T-LIGHT HOLDER STAR LARGE\",\"ZINC T-LIGHT HOLDER STARS SMALL\",\"ZINC TOP  2 DOOR WOODEN SHELF \",\"ZINC WILLIE WINKIE  CANDLE STICK\",\"ZINC WIRE KITCHEN ORGANISER\",\"ZINC WIRE SWEETHEART LETTER TRAY\"],\"xaxis\":\"x\",\"y\":{\"dtype\":\"f8\",\"bdata\":\"wvUoXI+acEAAAAAAgPyhQAAAAAAAhaVAAAAAAAC4lkAzMzMzM0+IQAAAAAAAaJBAAAAAAAC\\u002foECamZmZuXHJQJmZmZmZd7tAZmZmZmYJoUBmZmZmZsSPQFK4HoUrWbRAmpmZmZk+lUBmZmZmZpqAQK5H4XoURZZAzczMzMzMVEAAAAAAAEKNQGZmZmZmG6RAmpmZmZnio0BmZmZmpgCwQM3MzMyMhrBAHoXrUbgkkkCF61G4noChQHA9CtejpppAmZmZmZmOmEAzMzMzMyNaQAAAAAAAuHBAAAAAAACgfkAAAAAAAIA9QJqZmZlZT8JAMzMzMzMUqEAzMzMzM4+CQDMzMzMzszFAAAAAAACwaEAAAAAAAChpQAAAAAAA+GFAAAAAAACTp0BnZmZmZgiGQFyPwvUoeIxAUrgehetRAEA9CtejcD0SQOxRuB7VDtFAuB6F61FCikApXI\\u002fCtU2\\u002fQM3MzMxMv6ZA16NwPQrAx0AK16NwPaKzQAAAAAAAAC5AAAAAAABimUAK16NwPfKCQMP1KFyPTphAmZmZmdlGtUD2KFyPwh6zQKRwPQp3+sBAAQAAAABJnkA9CtejcESlQPYoXI\\u002fCNZVAAAAAAAAAHkAAAAAAAC+VQM3MzMyMcrtACtejcL3MrUCQwvUoXOGdQAAAAAAA4EBA9ihcj0KDsEAfhetRuGWfQB+F61G4xZ5AzczMzMxHlUABAAAAALyKQAIAAAAANIpAAAAAAADYZkApXI\\u002fC9chsQArXo3A9X51A7FG4HoUknkAAAAAAABhrQAAAAAAA4EpAUrgeheuNjEAAAAAAAKeSQAAAAAAAgIpAAAAAAAAXkUAfhetRuL5sQAAAAAAAgEZAXI\\u002fC9ShsZEAAAAAAACBSQEfhehRuL7dAAAAAAAB+k0AAAAAAAHR9QMzMzMzMIo5AmZmZmRnzsUBmZmZmZmYpQGZmZmZmZilAZmZmZmZmSUBmZmZmZmZZQPUoXI\\u002fCj5BApHA9CtdrZEA+CtejcAefQFyPwvUo7J9Aj8L1KNx9pUBwPQrXo\\u002fmnQEfhehSuU59ArkfhehRHlEBSuB6F6zzNQOtRuB6FJ4hAmpmZmZlTkkAehetROC+tQJmZmZmZ5rxAmpmZmZmZ8T8pXI\\u002fCtcfAQAAAAAAAtHtAj8L1KFzlqkBmZmZmJl+4QHE9Ctej8DdAMzMzMzOzLUAzMzMzMwNgQBWuR+F6dGZAr0fhehTuTkB7FK5H4XodQPYoXI9CFbFAZmZmZmYKcECZmZmZmclgQK5H4XoUOn5AzMzMzMysa0CF61G4HkVZQDMzMzMzo1BApHA9CtejPUCQwvUoXI8nQOtRuB6Fy1hApHA9CtejT0Bcj8L1KNwzQFyPwvUoBaFArkfhetShskDNzMzMzPuZQAAAAAAApLdAMzMzMzNNkECQwvUoXDidQOxRuB6FYYlA9ihcj0IZq0BxPQrXozqNQEjhehSueY9A9ihcj0KfuUCamZmZyVnUQEjhehSuCcRAexSuR2Ewv0ApXI\\u002fCxRrSQM3MzMxMQtlAMzMzMzN\\u002fc0B7FK5HYW6nQF2PwvUo9Z1AzczMzMzMAEBmZmZmZuZRQMzMzMzM7FFAAAAAAABgV0AAAAAAAIBNQJqZmZmZ2TFAmpmZmZmZN0BmZmZmZuYhQAAAAAAAYFZAZmZmZmZ+Z0AAAAAAAKBLQJqZmZmZmSdAj8L1KFy\\u002flkAzMzMzM\\u002f93QJDC9Shc245AZmZmZmaGZkBxPQrXo\\u002fR2QHsUrkfhy5VAAAAAAADYa0BmZmZmZi5jQGZmZmZmRkZAAAAAAADYa0BnZmZmZqZEQJqZmZmZ6VNAAQAAAACAPUAzMzMzM7MxQHE9Ctej0pBAZmZmZmakkUAAAAAAAFBmQAAAAAAAwG1Aw\\u002fUoXA9MskAAAAAAAPqBQDMzMzMzGKlAAAAAAAAQY0DNzMzMTE6uQClcj8L1MG5AAAAAAAAAMUAAAAAAAEA1QAAAAAAAACFAAAAAAAAAIUBnZmZmZtuqQBWuR+FKvtJAUrgehesbwkD2KFyPwvqlQDQzMzMze4dAKVyPwvXXlUCZmZmZmf+MQGZmZmZm5jhAXI\\u002fC9WilwECPwvUoXI8cQAAAAAAAnI1A4noUrkcBaUCamZmZmVk8QK5H4XoUriZAZmZmZmZ+akB7FK5H4SJjQD0K16NwjpNAuB6F61GIVkA9CtejcEGRQAAAAAAA4EFAzMzMzMx8WkD\\u002f\\u002f\\u002f\\u002f\\u002f\\u002f\\u002f9dQDMzMzP7hutAH4XrUbjud0AAAAAAAFhhQHsUrkfBpcdANDMzMzMzGUAfhetRuJ5CQEjhehSu\\u002fJ5AH4XrUThWz0B7FK5H4cWQQArXo3A9UoRArkfhehQqjUCkcD0K1wNRQDMzMzNzB7NAwvUoXI\\u002fCh0Bcj8L1KLx7QJmZmZmZ6XxAcT0K16OgaUAAAAAAAHBcQLgehetRkGRAHoXrUbhSe0AK16NwPY57QAAAAAAAzHBASOF6FK7\\u002fdkAzMzMzM9NrQK5H4XoUkoJAzczMzMyUfkCZmZmZmQeJQIXrUbgeYYhArkfhehRGakDhehSuRy14QAAAAAAAhJ5A4XoUrkcJgUCkcD0K1x+BQD4K16NwPQ5A4XoUrsewp0AAAAAAADh9QAAAAAAAIHNAhetRuJ7EqkCPwvUoXAyuQHA9Ctej\\u002fZNAZmZmZmbmMkBI4XoULuiiQGZmZmZmwKFAzczMzMzcl0AK16NwPaKjQNejcD0KRp1AAAAAAACxnkDXo3A9CveHQJmZmZmZe55AZmZmZkZq1kC4HoXrcfHDQJqZmZmZC4lAUrgeheudl0CF61G4HoihQM3MzMzMl5NAH4XrUbi+WkBSuB6F6xGEQAAAAAAAAB5AAAAAAAAADkCuR+F6FL6CQFK4HoXrm5hA4noUrockskC4HoXrUThhQGdmZmbmkadAZmZmZma2gUCamZmZmYFlQDMzMzMza2FAAAAAAAAATkAAAAAAAOBnQAAAAAAAEGJAAAAAAACwU0ApXI\\u002fC9ZhQQAAAAAAAiHdAw\\u002fUoXI+4mUApXI\\u002fC9YB6QD0K16NwrVNAuB6F61H4WECamZmZmR2GQLgehetRGF5A16NwPQoHX0DXo3A9CnOAQPYoXI\\u002fCRVxAXI\\u002fC9SgEbkAAAAAAAAAhQDEzMzMzw19AH4XrUbjifEC4HoXrUWOZQDIzMzPzKrlAKVyPwnX3o0CZmZmZmVk6QEjhehTuAblAPgrXo3ARqkCPwvUonAq3QGZmZmZm0JBAuB6F61G4AkAAAAAAAABIQClcj8I1OLZAMzMzMzOzMkAAAAAAALh0QMzMzMzMjINACtejcD1omEAzMzMzM3M1QMP1KFyPzIdA7FG4HoUXhEBmZmZmZiWeQNejcD0KGZFA16NwPQolgUAAAAAAAPB3QNejcD0Kt4dA7FG4HoWAtkDsUbgeBZKxQPYoXI9CjqRAcT0K16OenUCamZmZmcerQNejcD0Kj3tAMzMzMzOzMUDMzMzMzMukQFyPwvWoH6RAPQrXo3C1YkCamZmZmdl0QK5H4XoUDkdAZ2ZmZmb2hUApXI\\u002fC9W6DQAAAAAAAAEtAAAAAAAAAPkCamZmZmX1\\u002fQDMzMzMzG3tAzMzMzMycWEBmZmZmZqY0QAAAAAAAUFZAZmZmZmbmMUAAAAAAACh8QDMzMzMzs0FAmpmZmZmZB0DsUbgehRtoQJqZmZmZmWdAAAAAAADqi0A9CtejcD0yQM3MzMzMzBdAzMzMzMzMF0CZmZmZmdk0QAAAAAAAgElAMzMzMzOzLUAAAAAAAEBXQJqZmZn58MdA4XoUrgcmsEBI4XoUru9nQB+F61G47m5ArkfhehSOQkAzMzMzM1NeQHsUrkfh+kxAAAAAAAAAHkCtR+F6FGZ\\u002fQJqZmZm5EONAzczMzMzMQEDMzMzMzBxdQB+F61G4fktASOF6FK4vbEAzMzMzM2WFQAAAAAAAzHFAUrgehev9gkCZmZmZmVuIQAAAAAAAABtAAAAAAAAAUUAAAAAAAKBEQClcj8L1zIVAZmZmZmbWVUAL16Nw\\u002fdm4QDIzMzMzU09AAAAAAAAA9D8AAAAAAAAZQAAAAAAAuGFAAAAAAAAEhEBnZmZmZn6EQM3MzMzMzBNAzczMzMz8cEDMzMzMzKRqQAAAAAAAUG1AmpmZmZkxakBSuB6FS2zLQJmZmZmZ6WtAzczMzMzMUECamZmZmZknQAAAAAAAyGxArkfhehT4gECZmZmZmclbQGZmZmZmBoBAtx6F61E4LEAzMzMzM5NFQMzMzMzMFGRAmpmZmZlBYEAAAAAAAEBKQPYoXI\\u002fC2p5APQrXo3A9DkCamZmZmTFpQLgehetRWGFApXA9CteLZ0BI4XoU7mi9QNejcD0KV05AZ2ZmZmZad0AfhetRuMqdQDMzMzMzMy9A61G4HoUrcED\\u002f\\u002f\\u002f\\u002f\\u002f\\u002fwuCQGZmZmZmZhRAAAAAAAAAKUCPwvUoXD9wQBSuR+F61EVAPQrXo3CNXEAAAAAAAMBSQD4K16Nwn6NAzczMzMzMJ0AzMzMzMyNUQAAAAAAANHJA4noUrkdhJ0DhehSuR+EqQMP1KFxPuMNAPQrXo3ABwkAAAAAAAHBnQAAAAAAAQDBAMzMzMzMjakBwPQrXo2BUQMzMzMzMxGJAAAAAAAAA9D9mZmZmZmZHQAAAAAAAQFVAZmZmZmbmQ0AzMzMzMzMvQGZmZmZm4n1AmpmZmZmZEkBmZmZmZmYkQJqZmZmZMZZAAAAAAAAAEUAzMzMzM7tiQMP1KFyPsoBAmZmZmZkZV0AzMzMzM+tuQB+F61G4inlAKVyPwvV4c0AzMzMzMw2LQEjhehSuTaVAmpmZmZmZb0CPwvUoXBmRQM3MzMxM1ahAhetRuB7RiUDD9ShcD2mjQFyPwvUo1HtAZmZmZmZCkUD1KFyPwoV8QLgehetR4GdAexSuR+EqbUA9Ctej8D6qQPYoXI\\u002fCVUNAKVyPwvWIQUAAAAAAAKCHQAAAAAAAx6VAm5mZmZnTiECZmZmZmYlgQM3MzMzML5hAAAAAAADUcUA9CtejcHV+QGZmZmZmZkpAAAAAAABQXkDNzMzMzMqIQAAAAAAA8HhAzczMzMzgdEDNzMzMzMwvQB+F61E4a7NAAAAAAADgT0DXo3A9Cpc9QGZmZmZmX7hA4HoUrkfhHUAAAAAAAEBVQAAAAAAAIExAXI\\u002fC9ShcgEAAAAAAAAApQAAAAAAAAEtAzczMzMwMTECamZmZmfllQIXrUbgeXXJA16NwPUqwsUDMzMzMzMwnQGZmZmZmdlFAMzMzMzMPiEDNzMzMzMwXQM3MzMzMzBdAZmZmZmZmGkCF61G4HsUwQArXo3A9HIVAmpmZmZnxhkAAAAAAAHqJQKRwPQrXc2dAAAAAAABXtkDsUbgehdNjQAAAAAAA8GhAAAAAAABAWkCkcD0K1\\u002fNiQAAAAAAACHNApHA9CtejYUDD9Shcj5uXQHE9CtejcIxAcT0K1yPxpUApXI\\u002fC9c+TQNejcD0KC7hAFa5H4Xrpv0BmZmZmxj3AQJmZmZmZi4pArkfhetR1yUBSuB6Fq5uzQJqZmZmZyWtA4XoUrkdhcECkcD0K14GmQB6F61HYw8lAKVyPwnVAskBmZmZmZuWxQEfhehQutsJAAAAAAAD6hECPwvUonFG3QDMzMzMzGJtAzczMzMy1mUCPwvUoXK9tQAAAAAAAKI5AAAAAAACAUkCuR+F61B6zQHE9CtcjTa1AwvUoXI\\u002fHm0AAAAAAAEutQAAAAAAAMZdAUrgehStNtEAzMzMzs0irQOF6FK5HBqVACtejcD1meUAAAAAAAJhsQB+F61G4rmVAFK5H4XqqgkC4HoXrUeR0QM3MzMwspOFAXI\\u002fC9SgIe0AfhetRuEp9QClcj8J1zKFAZmZmZmZmRECkcD0K10SfQAAAAAAAYEhAzczMzMz8k0DNzMzMzIinQAAAAAAAFaBAzMzMzMw2jEBmZmZmZk6kQJmZmZmZOUhANDMzMzNRrEAAAAAAAAARQDMzMzMzI45AMzMzMzNGl0AAAAAAAABRQDMzMzMzL31AZ2ZmZmZOhkAAAAAAAJ2hQClcj8L17HNAmZmZmZk5SEAzMzMzU6DEQHsUrkfhtnpAXI\\u002fC9Sgak0BxPQrXI7OzQAAAAAAA66pApHA9Ctf7akCkcD0K16GwQOxRuB6Fc2NAcT0K16O0c0BnZmZmZtZuQClcj8J1L7xASOF6FK69g0AAAAAAAJhiQM3MzMzMLENA2KNwPQrXXUBH4XoUrm9sQAAAAAAAsF5AuR6F61EUeEAAAAAAACBDQGZmZmZmBkRAmZmZmZmZPkBwPQrXo3OaQDMzMzMz8z1AwvUoXI\\u002f8hUAAAAAAgCegQMP1KFyPs5RApHA9Ctfjg0DhehSuR3WUQFK4HoXrzJNA4XoUrkdxfkCkcD0K15SaQHE9CtejnpBASOF6FK7xmkCamZmZma2UQNejcD0Kn5NASOF6FK4blEC4HoXrUfSVQFK4HoXrpYNA4XoUrkcJh0BxPQrXo9iHQFK4HoXrOYNAj8L1KFyLk0BSuB6F62ONQLgehetReJ1AAAAAAADgb0CZmZmZmVlZQD0K16NwvSxAUrgehesPgUBmZmZmZqZvQB6F61G4bZVApHA9CtcVjkApXI\\u002fC9USEQM3MzMzMhZVAZmZmZmZm7j9I4XoUrkdBQEjhehSuR01AzczMzMyMakBSuB6F672CQDMzMzMzSpFAmpmZmZmgnEAzMzMzM86fQML1KFyPQ5FArkfhetTSs0ApXI\\u002fCdReiQHsUrkfhh6FAmZmZmZndekDNzMzMzIuRQD0K16NwQYRAwvUoXE+JskB7FK5H4aGeQJqZmZmZDZ1AAAAAAACIYUBmZmZmZjZhQArXo3A9YmNAUrgehetR+D8AAAAAAC6JQAAAAAAAMZNAzMzMzMwajkCamZmZmdSUQM3MzMzMvFFAzczMzMzUpUBmZmZmZmGQQD0K16NwIXVAj8L1KFy\\u002faUDXo3A9CkyRQBSuR+F6KH9AFK5H4Xqcc0DrUbgeBQmwQGZmZmYmALZAexSuR2FWr0CkcD0KF862QJqZmZnZyrtAexSuR+Fqk0DNzMzMzHxYQD0K16Nw14RA9ihcj8LVRUBSuB6F67FeQJqZmZmZmQdAMzMzMzOzOUCPwvUoXG2JQJmZmZmZY4NAZmZmZmYGkUBmZmZmZqqJQAAAAAAAcqVArkfhehQ2o0DsUbgeRYq2QMP1KFyPIa9AuB6F61HqnUDrUbgehcOlQDMzMzNzAbBA16NwPcqguUB7FK5H4RiuQDQzMzPzErpA7FG4HiXJwkDNzMzMrFvSQOF6FK5nm81AFa5H4Xqzv0DhehSuRxajQAAAAAAAiIZAAAAAAABMgUBxPQrXo0yVQM3MzMxMMLJAzczMzAylt0AAAAAAAPy5QGdmZmZmuoRAAAAAAAAoh0CF61G4Hq+HQGZmZmZmZIZAAAAAAADAdUBmZmZmZu52QAAAAAAAyIBAMzMzMzOLfkAAAAAAALqCQMzMzMzMxH9AUrgehSOX5kDNzMzMzDqdQArXo3A9lIFA4XoUrkdpf0AAAAAAAIKJQLgehetR9p1AuB6F61FDlED2KFyPcgTXQIXrUbgeC7xAhetRuB61cUBmZmZmZuZiQK5H4XoUjmhAAAAAAACAT0AzMzMzM8W7QK5H4XoUl7NAPQrXo\\u002fDusEBcj8L1KHaIQAAAAAAA5HZAwvUoXM+TtECuR+F6FB2bQArXo3A9IJdAXI\\u002fC9SgBoUC5HoXrUVB6QArXo3A9xKJA4XoUrkcNj0AAAAAAgLLHQAAAAABABLBA4noUrkczt0D2KFyPwpeRQI\\u002fC9Sjct6JAhetRuB5rjkBH4XoUroGAQB6F61G4InJAexSuR+GGpkAUrkfheoOcQHsUrkfhtplAj8L1KFxXlEDrUbgehQCRQGZmZmZmnqtAuB6F61GJlECamZmZGYSsQK5H4XoU\\u002fmdAhetRuB6VhUB7FK5H4fCEQKRwPQrXK3pAuB6F61HKgUAehetRuOZ8QMzMzMzM7EdAhetRuB6dZkAAAAAAAJhjQDMzMzMzM0tAPQrXo3D1dkBmZmZmZh5qQGZmZmZmdIRAFK5H4XoAhUAzMzMzM0OsQKNwPQrXY3RAAAAAAMBcsUCPwvUoXAmUQK5H4XrU4rdAzczMzMxUlkAAAAAAABOVQAAAAAAAQF1AAAAAAADAMkBI4XoUrnt3QM3MzMxMMKFApHA9CteoqUAAAAAAgGmrQDMzMzMzszFAAAAAAAAALkD2KFyPwmGTQJqZmZmZspVAPgrXo\\u002fAgoEBmZmZmpsW2QK5H4XqUxcNAAQAAAABIZEAzMzMzM2tiQDMzMzMzY2xAmpmZmZnZS0DNzMzMzExNQKRwPQrXYzRAUrgehSuTukAfhetRuEZiQGZmZmZm5lJAZmZmZmZmFEDXo3A9Ci+KQBSuR+GadshArkfhehROekAAAAAAAAqGQJqZmZnZ3LdA16NwPQqTk0CkcD0KV36xQOF6FK5Hh6dAzczMzExds0D2KFyPwl2YQDMzMzMzR3FAexSuR0GvwkBI4XoUTpLTQAAAAAAAIElAj8L1KFzWpkDXo3A9CpdHQGZmZmZm0nFAhetRuB4FcUAzMzMzMwNqQMzMzMzMTEtAFK5H4XoMZEBmZmZmZrZRQB+F61EIwtNA4XoUrkdtg0CQwvUoXM84QJqZmZmZ2UFAAAAAAACQckAAAAAAAAR\\u002fQClcj8L1xIZAwvUoXI+jlkBmZmZmZrp9QDQzMzMzJ3hAZ2ZmZma2X0BxPQrXo7h5QDQzMzMzsy1ArkfhehTdpEAAAAAAAJOWQGZmZmZmZgRAZmZmZmZmBECamZmZmdlEQJqZmZmZ2URAcT0K16NwaEAAAAAAAKBEQAAAAAAAoERAAAAAAABASkAVrkfhOtG7QMT1KFyPkmZAmZmZmZmblkAzMzMzN4z4QBWuR+H6J9ZAmpmZmZmXgEBmZmZm5kOhQJqZmZmZtqtAZmZmZmYQi0AUrkfhCvjTQJiZmZmZqV9AUrgehWu5okAAAAAAAMA4QGZmZmZmZvo\\u002fZmZmZmZm+j8BAAAAAIAtQAAAAAAA0GlAmZmZmZlZRkC4HoXrUculQOF6FK5HYStAAAAAAAAAYUAzMzMzM7NNQNejcD0K90hAMzMzMzOzQUAAAAAAAOBQQBSuR+F61EBAZmZmZmZmNEBSuB6F6xFtQEjhehSux15ACtejcD0qTkAAAAAAAEBKQHA9CtejCGtAZmZmZuYtoECuR+F6VAOxQGdmZmZmRntAZmZmZmYmMkCamZmZmSFyQAAAAAAAZHBAzczMzMyogUAzMzMzM7MtQIXrUbgeBYJAR+F6FK6HjECamZmZmfV\\u002fQClcj8L1KCFAzczMzMy4c0ApXI\\u002fC9SgRQAAAAAAAwDJAAAAAAABvmEA0MzMzM+GaQClcj8L1kIVAzczMzMzkkkDNzMzMzJqFQAAAAAAAAF5AZmZmZmakl0CamZmZmflSQJqZmZmZmS5ApHA9CtejZUDMzMzMzPxZQB+F61G4vmdAzczMzMw6gECF61G4HjWGQMzMzMzMZHlANDMzMzPTi0AK16NwPdOWQLgehetRvo1AzczMzMwwfkBmZmZmZuY\\u002fQOF6FK5HlXdAcD0K16N8d0BwPQrXowh0QOF6FK5HtYNAKVyPwvXCiUDMzMzMzHmVQFK4HoXrxYRAUrgeheuTgEAK16NwPTiEQMP1KFyPnnNANDMzMzN7dkAAAAAAAASBQFyPwvUorIVAMzMzMzM7h0DNzMzMTNWlQHsUrkdhCqFACtejcD0ijUCkcD0K16NhQFK4HoWrULdAAAAAAADgbECZmZmZmTlGQDMzMzMzq2BAAAAAAADYY0AzMzMzM7MtQMzMzMzMzCNAMzMzMzOzLUBmZmZmZmYqQMzMzMzMzCNA\\u002f\\u002f\\u002f\\u002f\\u002f\\u002f9\\u002fMECamZmZmUqXQAAAAAAAAC5AAAAAAAAALkAAAAAAAIA2QAAAAAAAQEpAPgrXo3B9lEAAAAAAAMA9QAEAAAAAbH5AAAAAAAB5lEDD9Shcj2mmQPYoXI\\u002fCNZFAzMzMzMx4jkBcj8L1KNSVQAAAAAAAKJBAuB6F61G+gkAehetRuKCZQI\\u002fC9ShcYYRAR+F6FG5ktEBI4XoUro+XQLgehevR+rBArkfhehQ+g0ApXI\\u002fC9ShEQClcj8K1OLpAUrgehevpcUD2KFyPQkqgQBWuR+F6hLRASOF6FC49q0AAAAAAAMh5QJmZmZmZ04dAmZmZmRl1uUBmZmZmZvucQML1KFyPYJ1ApHA9CteskUApXI\\u002fCBaLTQM3MzMxMcKZACtejcD2BnkAzMzMzMzN5QNejcD0Ks4lA9ihcj8L1AEBI4XoUbsC4QGZmZmZm8nBAR+F6FC7HpkBcj8L1KBmfQGZmZmZmQKBAzMzMzMwtrEAyMzMzMw+fQM3MzMzMIrpAuB6F69EXs0AAAAAA4CLDQGZmZmZmX6dAzczMzIxDykD2KFyP8qzUQK5H4XpEs9JA16NwPSp100CF61G4\\u002fsnCQFyPwvWo2qBAzczMzByE4UA9CtejcPSwQIXrUbheXb9ASOF6FK62mUAzMzMz8z\\u002fWQK5H4XoU5KpAzczMzDzB2EA9CtejMAGzQFyPwvWoi8dAKVyPwnUMtkD2KFyPohHXQFyPwvVo27lA7FG4HkXIuUAAAAAAIIjGQK5H4XqUiaFA16NwPcp1wkBI4XoUrk95QAAAAAAACG1AKVyPwnUft0DNzMzMzMwzQDMzMzMz2p1AmpmZmdmvxkBI4XoUrt2EQMP1KFyPUlJAzczMzMyLlEAAAAAAAH6NQHsUrkfh7IRASOF6FK6ngkD2KFyPwsePQGZmZmZmpjRAzMzMzMwsQ0AzMzMzM7MxQDMzMzMzE0lAZmZmZmZmFEAAAAAAAAD0P83MzMzMjDpAexSuR+EKaUAAAAAAAOBQQAAAAAAAEFFAMzMzMzNTYUAzMzMzszaqQDMzMzMzM\\u002f8\\u002fmpmZmZl1hECamZmZmZWBQAAAAAAAuHRAmpmZmZkfjUAyMzMzM3ucQMzMzMzMHH5A\\u002f\\u002f\\u002f\\u002f\\u002f\\u002f\\u002ffjECZmZmZmceaQM3MzMzMFIRA7FG4HoUbdkBmZmZmZnJ9QJqZmZmZU4BAAAAAAADgT0CamZmZmZknQFK4HoXrcWFAAAAAAAAAPkBnZmZmZhCDQClcj8JVuc1A16NwPTow1ED2KFyPQpKwQJDC9Sj8qcFAAAAAAAD+gEBcj8L1KMSEQAAAAAAAOG1AXI\\u002fC9Si8jEAAAAAAADB7QK5H4XoU\\u002fIVApHA9CtdDgEA+CtejcD1zQKRwPQrXg4ZAuR6F61H4dUAL16NwPd55QFK4HoXrkYlAAAAAAAAAHkAAAAAAAMBcQAAAAAAATHhApHA9CtdzlEDMzMzMzMCBQOF6FK5H4RpAAAAAAAAATkBI4XoULk+mQLkehetRwHtArkfhehSYh0DrUbgehc2QQEjhehSuWZBAPQrXo3DXjUDXo3A9CueKQEjhehSuy4xA16NwPQpNgkCF61G4HmmMQNejcD0KBJBApHA9CtfDkEDD9ShcjzqRQAAAAAAAxH1ApHA9CtcYrEAAAAAAACKVQI\\u002fC9ShcvYxAcD0K16PDoEAzMzMzM995QClcj8L1YGNAXI\\u002fC9ShcIkCPwvUoXDqVQAAAAABgkMBAH4XrUThMoEDNzMzMzOqTQFK4HoXr4pdAPgrXo5BOxkBI4XoUrtKgQNejcD0KNLNAzczMzMyNnkDXo3A9CguBQPYoXI\\u002fCYXdAmpmZmRlooUAzMzMzs3ukQK5H4XoUHatAZ2ZmZmaegkApXI\\u002fC9YecQFyPwvWoYbZAAAAAAACATUAzMzMzMyNnQAAAAAAA7JFAAAAAAADMdkAAAAAAAAAxQGZmZmZmZmRA16NwPQrnikDNzMzMzLh+QOxRuB6FKzpAZmZmZmZmFEBcj8L1KPx3QNejcD0Kl4ZAmpmZmZl6kUCamZmZmS2YQBSuR+F6K5dAexSuR0Hi0EDNzMzMzIxDQFK4HoXr14dAH4XrUbh6hEAAAAAAAJhqQOF6FK5HgXhAAAAAAADOs0C4HoXrEWzAQHA9Ctfj1L1AXI\\u002fC9Si8REDXo3A9Cp+dQAAAAAAAjapAPgrXo3B5i0AAAAAAAC+QQK5H4XoUrkZAZmZmZgb2wUCZmZmZmUuSQML1KFyPe5tAHoXrUbhqjUBSuB6F6\\u002fl1QClcj8L1iIhAhetRuB41X0D1KFyPwqV7QAAAAAAAFHRAH4XrUbgebkDrUbgehf+AQBSuR+F6TGhAwvUoXI8ogEAzMzMzM8t8QFyPwvUoEIZAuB6F6zGCxkAAAAAAYDrAQEjhehTu6r1ACtejcH3QwkBmZmZmZvbGQOF6FK4n2MRAAAAAAAD\\u002frEDNzMzMzEiBQIXrUbge8sZAhetRuB5eskDMzMzMzCSFQArXo3A9YoZAmZmZmZldhkB6FK5H4TyGQPYoXI\\u002fCVr9APQrXo\\u002fCzu0CamZmZ2Tq1QKRwPQrXsYNAAAAAAAAAQUAzMzMzM\\u002fmaQArXo3A9bJ5Aj8L1KFwal0B7FK5HYbyxQAAAAAAA4E9A16NwPQpMp0AAAAAAAAAOQAAAAAAAQEpAAAAAAACANkAAAAAAAIA2QJqZmZmZ2TFAzczMzMzMF0AzMzMzM46rQFyPwvUofERAXI\\u002fC9SisX0BI4XoUrjdhQFK4HoXrdX9AAAAAAAAkkkCamZmZmflCQAAAAAAAACVAMzMzMzNrZkDMzMzMzBxVQM3MzMzM1HxApHA9Ctf7cUAAAAAAAMBSQAAAAAAAQDVAZmZmZmYdnkAAAAAAAOBgQAAAAAAAAF5AUrgehevRQEAAAAAAAMBCQAAAAAAAGHtAzMzMzMwsQECamZmZmdlHQM3MzMzM3FVAmpmZmZnZR0DNzMzMzMw\\u002fQDQzMzMz00tAzczMzMzMP0AzMzMzMzMhQGZmZmZmZvo\\u002f7FG4HoXck0AzMzMzM5tmQAAAAAAAoE5ArkfhehQudEAUrkfhevRRQHA9CtejL51AzczMzMykekC4HoXrUSiYQPYoXI\\u002fCJYNA9ihcj8KBjkDMzMzMzMwMQDQzMzMzsyFA9ihcj8LJgkApXI\\u002fC9eB6QAAAAAAALIVAw\\u002fUoXI\\u002fGeUDsUbgehaaRQJmZmZmZQXpAmpmZmZk5UECuR+F6FG5JQOF6FK5H0WJAAAAAAACAVkCF61G4HoUkQOtRuB6Fs25ApHA9Cte7ZkBwPQrXowSUQOF6FK7HnqBAZmZmZmZmJEA9CtejcD2qQKRwPQrXyKtAhetRuB5lb0DMzMzMzMuvQEjhehSuD3FACtejcL2xpkAAAAAAAPBUQOF6FK5H3XlAMzMzMzPTQ0AK16NwPWehQDMzMzMzMYVAw\\u002fUoXI9UlEDXo3A9ChKRQD0K16NwX41Aw\\u002fUoXI9KiUD2KFyPwg+NQMP1KFyPjIhAexSuR+EoiEDD9Shcj4SGQDMzMzMzB4JAmpmZmZkpj0A0MzMzM9eKQAAAAAAAgDNAAAAAAAAQZEAAAAAAAEA9QMzMzMzMzElA16NwPQofqEBxPQrXoy2TQAAAAAAAsF5ASOF6FK4ZiEAAAAAAAO6AQHE9Ctej5o1Aw\\u002fUoXI8wlkDrUbgehRt1QHA9Ctej3pZAzczMzMx0ikAzMzMzM6NhQD0K16NwvXlAZmZmZmZefkAUrkfheriFQEfhehSum4lAZmZmZma2XECkcD0K1+6XQBSuR+F6IaFAmZmZmZmZHkD\\u002f\\u002f\\u002f\\u002f\\u002f\\u002f5+NQGZmZmZmH5BAmZmZmZkpk0AAAAAAABBTQM3MzMzMjDpAAAAAAAAgRkDMzMzMzJxaQArXo3A9CjtAzczMzMzMX0AAAAAAAOB2QFyPwvUo5pJAAAAAAAC9lECPwvUoHHeyQM3MzMyMebNAPQrXo\\u002fBiu0AzMzMzM\\u002fNAQJmZmZmZgWRA9ihcj8JFYUAAAAAAAAD0PwvXo3A99J1AexSuR+EKYkBnZmZmZlqAQAAAAAAAYENA9ihcj8L1SEB7FK5H4ZGqQOF6FK5Hd5lAAAAAAACoZUBI4XoUrrOAQAAAAAAAwDhAMzMzMzNTTUDhehSuR+l5QB6F61HYZsNACtejcP1NyEAK16NwPbiDQLgehetRKIVAmpmZmZkgkEBnZmZmZoySQML1KFyPx6BAPQrXo3BZgUB7FK5H4aCjQHsUrkfhCplAAAAAAABGmkDsUbgehfu6QGZmZmZm5jNA4XoUrkftfkDNzMzMTJehQOJ6FK5HtYBAmpmZmZmjlEApXI\\u002fC1XPZQB6F61E4B61APQrXo5DTwEBSuB6F6w15QOtRuB6FhqJAAAAAAACAJkDNzMzMzLueQEjhehSuj5pApHA9CtegukAAAAAAAFCgQAAAAACAYaVAAAAAAADAOEBSuB6F61aVQD4K16NwXKZAAAAAAAA\\u002foEAAAAAAAIA2QAAAAAAAgDZAAAAAAACANkBdj8L1qAenQHwUrkdhX61ASeF6FC4WqUCamZmZmZknQJqZmZmZmSdAAAAAAACAOUAAAAAAAAAxQAAAAAAAgDlAAAAAAAAAMUBnZmZm5kykQAAAAACAb6VA16NwPYpOq0A0MzMzM799QGZmZmZm5j1A\\u002f\\u002f\\u002f\\u002f\\u002f\\u002f8Pd0DD9Shcj1pzQLgehetRMGBAUrgehWtjoEBnZmZmZo2XQBWuR+F6NJZAZ2ZmZmYMo0BxPQrXo9x9QClcj8L1H5NApHA9CtfZjkAAAAAAAOx\\u002fQHsUrkdhHqJAzczMzMwGgEAzMzMzM3KjQFyPwvUo\\u002fJNApHA9Ctd1kEAK16NwPVJ5QDMzMzMzfYBA4XoUrsfAo0CPwvUoXLKQQJmZmZmZGTpAmpmZmZnLiUDhehSuR+E6QClcj8L1KEFAzczMzMzMEEAzMzMzM7M9QFyPwvUoBGNAexSuR+EaS0DD9Shcj8JxQDMzMzMzMy9AAAAAAABgVUDNzMzMzMwjQAAAAAAAAEFAmpmZmZl5hUB7FK5H4RyKQD4K16NwBXFA4noUrkfhDEDXo3A9CidhQAAAAAAAJHJAAAAAAAAANECamZmZmZk3QJqZmZmZmV9AMzMzMzOzMUAAAAAAACBTQM3MzMzMzFNAMzMzM\\u002fNOvkBxPQrXo0B0QGZmZmZmRkZAHoXrUbiubECF61G4HvVmQAAAAAAAwEJA16NwPYoEpEDNzMzMzERnQNejcD0KZ6FAzczMzMzMKkCZmZmZmVlJQGZmZmZmpjRAZmZmZmb2YEAAAAAAAKBnQI\\u002fC9Shc23NAMzMzMzNzVUBmZmZmZsZKQI\\u002fC9Shc53dAAAAAAADAUkAAAAAAgMyhQDQzMzMzE0lAMzMzMzNFgEAzMzMzM59zQAAAAAAAaG9AZmZmZmZWU0BmZmZmZsZqQOF6FK7HC6xAMzMzMzMLcEAAAAAAAHhgQJqZmZmZaVFAAAAAAAAAPkDNzMzMzMwzQGZmZmZmFlZACtejcD2DmUCF61G4HkiZQD0K16NwPQJA9ihcj+JR0UAAAAAAADqBQAAAAAAAsGNAAAAAAAAYZUAAAAAAAHBzQAAAAAAAoERAcD0K1+OlsEAAAAAAAOBfQDMzMzMzsy1AZmZmZmZmKkDNzMzMzEwrQJmZmZmZGUFAFK5H4XrUPUA9CtejcD0SQPYoXI\\u002fCNVFAMzMzMzPzQUAAAAAAAACOQDMzMzNzusdACtejcD2aXEDNzMzMjNLQQAAAAAAAGqBAMzMzMzNnkkCamZmZmeGSQK5H4XoUMo1AMzMzMyMU0UDiehSuR4quQIXrUbgewX9ApHA9Cle\\u002frEBI4XoUrqOBQML1KFwPj6NAuB6F61HgcEDhehSuR6l\\u002fQHsUrkdBPs5AexSuR+F6IkBmZmZmZnZ5QDMzMzMzn3FAFK5H4Trit0A+CtejUJDHQArXo3DdeM9AmpmZmRmWvUD2KFyPQhHBQK5H4XpU1sdAFa5H4XqWwkAUrkfhetqXQAAAAAAAcFJAZ2ZmZma0gUCZmZmZmZkeQJmZmZmZrpdAMzMzMzOBm0CZmZmZmYKSQFyPwvUooI9AZ2ZmZmbEkUBnZmZmZriTQDMzMzMz+2dAmpmZmZkZN0DhehSuR\\u002f1+QI\\u002fC9Sh8tchAZmZmZmbzk0AK16NwfZi6QGZmZmaGjcNAmpmZmZlxaUAAAAAAAMBiQClcj8K1tbJAAAAAAABigUBcj8L1KBimQI\\u002fC9ShcPp9AuB6F61EGkUCPwvUoXFmPQOxRuB6Fa05ACtejcD1Sh0AAAAAAAPx7QOF6FK5HsW1AW4\\u002fC9Sgcb0AVrkfhehRfQML1KFyPwgNAZmZmZmZm7j\\u002f2KFyPwhGIQDMzMzMzWalAUrgeheuROECamZmZmQV3QFK4HoXrXqBAuR6F61G4f0BnZmZmZsZKQOxRuB6FD5JAMzMzMzN5k0CPwvUoXL+KQKRwPQrXyZhAuB6F69GuuUAehetReCaxQDMzMzMzi3NAR+F6FG5is0DhehSuR2KyQDMzMzMz945A4XoUrke6oUCamZmZ6c\\u002fbQClcj8JFjttAuR6F61HEiECQwvUoXLquQGZmZmZm5iBA7FG4HoUngkBI4XoUrvdgQM3MzMzMvFlAj8L1KFz3l0DD9Shcjzp+QClcj8L175xA9ihcj0IFpEBmZmZmZiaEQHsUrkfh3nJAAAAAAAAACkDhehSuR+E0QAAAAAAAQEpAMzMzMzNfcEBmZmZmZoiWQOF6FK5H4do\\u002fUrgehetRXEDiehSuR0FBQAAAAAAAAGlAMzMzMzM3fkABAAAAADefQM3MzMzMf5BAAAAAAAC5kECamZmZmXyRQJqZmZmZnJJAmpmZmZlBkkCuR+F6FMaDQAAAAAAAwFJAzszMzMzOh0BSuB6Fa8WtQGZmZmZm5ixAexSuR0FIzkAzMzMzMw2IQJqZmZmZApBASOF6FK4PkEAzMzMzM6CRQK5H4XqUDLBAuR6F61H4i0AAAAAAgFqmQOtRuB6FDphAmZmZmZlZeUCuR+F6FMmgQB+F61G47LJAw\\u002fUoXI8qukDNzMzMDBjRQK5H4XoUKo5AUrgeheuHlkBSuB6Fq93IQK5H4XoUTIlAmpmZmZlYmkDNzMzMjHqxQD4K16OQuspAAAAAALC210AAAAAAAKCcQFyPwvUIDc5AZmZmZmZec0AAAAAAAEBaQM3MzMzMzIBAAAAAAAAAO0DD9Shcj+uZQJmZmZkZfalAAAAAAAA+j0AzMzMzM+t7QGZmZmYmfLJA7FG4HgWmoEDNzMzMzPKLQMP1KFxPb79ArkfhehTTwkCPwvUoXLtxQClcj8L1aFxAj8L1KFxSm0BwPQrXowSsQClcj8L1KARAZmZmZmbchUAAAAAAAC6VQHsUrkfhAZRAmpmZmdmDxkCamZmZmc+aQJmZmZmZg4NAZ2ZmZma\\u002fqUDD9Shcj2JBQAAAAAAA9opAuB6F61Ggb0CuR+F6FBGnQArXo3Bdl8xAuB6F61FOikDsUbgehQt\\u002fQDMzMzMzy3xAMzMzMzOzPUDOzMzMzNB2QOxRuB6FqYZAzczMzMyanUAAAAAAAHyBQDIzMzMzs0JAZmZmZmZmFEB7FK5H4apWQDMzMzMzu3ZA9ihcj8KhdUDXo3A9CjqfQAAAAACAb6lAzczMzEyFo0AAAAAAAAaVQJqZmZmZxpFAzczMzMwwfUAAAAAAAEBUQM3MzMzMzBNAZ2ZmZmZ2XED2KFyPwjOKQLgehetRJqNAPQrXo\\u002fAGp0CZmZmZiaLUQEjhehQOwt9AmpmZmZk1gkAzMzMzMx2DQAAAAAAAeGRANDMzMzN7YkD1KFyPwpVWQClcj8L1QIRAFK5H4XrXnEAAAAAAAIAmQM3MzMzMzDdAmZmZmZkVgEB6FK5H4aZ\\u002fQNejcD0KqYlAHoXrUbhCdkDNzMzMzCu7QK5H4XoUHmlAzczMzMxEaEDXo3A9CjWHQOxRuB6lE9dA9ihcjwI50UCQwvUoHJjXQDMzMzOTztlAj8L1KFwqnkBI4XoUvh7iQK5H4XpUdrdAexSuR8GZ0kDsUbgeBZnAQClcj8J1dclAUrgehcsw4kCamZmZ+f7RQD4K16MIw\\u002fRAhetRuF6h0UAAAAAAYOzNQK5H4XpU2t1A4XoUrkcJvkD2KFyPAgbDQEjhehTebdRA9ihcj8JKzkAzMzMzk6TTQNejcD3qOMVAPgrXo7BF1UBxPQrXo42SQAAAAAAAGH5AHoXrUXjVukAAAAAAAJBnQAAAAAAAHoVAzMzMzMz+nEDXo3A9CtGRQIXrUbgeQZJA61G4HoWcnkAzMzMzMyOeQJqZmZmZbqBACtejcD0sjUBwPQrXowSFQGZmZmZm0pRAzczMzMximkCF61G4HpOhQOxRuB6F3ZRAmpmZmZmRZUCkcD0K1\\u002f2QQFyPwvUoPGZAKVyPwvWocECkcD0K1\\u002fKeQOxRuB6FFZpAZmZmZmZmOkApXI\\u002fClTDCQArXo3A9qnBAUrgeheuxQ0AAAAAAACBDQNejcD1K\\u002fMBAw\\u002fUoXI+iXEC4HoXrUdhvQI\\u002fC9ShcTpZAAAAAAADke0AzMzMzszeuQJqZmZnZZLhAzczMzAwws0AzMzMzM\\u002fyxQGZmZmamerJAZmZmZqZ6skCF61G43iy2QM3MzMzMtGJA7FG4HoXgq0CamZmZmVmCQGZmZmZmZhpAmpmZmZkZV0AVrkfherCEQI\\u002fC9ShcHa5AMzMzMzNckUDNzMzMzKKgQJmZmZmZ4KFANDMzMzPTWkBmZmZm5gmyQM3MzMzMdZBAzMzMzAzMt0DMzMzMzMwjQJqZmZmZPahAKVyPwvWygkCjcD0K1ymmQFyPwvXoFrRA4noUrkeJi0BmZmZmZmY6QJqZmZmZKX9A4XoUrkchhkDMzMzMzGmVQFyPwvUo5IxASOF6FK6pjUAAAAAAAHqsQJqZmZmZ2ZFAZ2ZmZmY2ZEAAAAAAAE6BQDMzMzMzc1tAAQAAAIDJv0C4HoXrUaCIQHsUrkfh+oNA16NwPQoXgUA9CtejcP1IQBSuR+F6DrlAZmZmZmbmJ0AehetRuIWwQK5H4XoULINAAAAAAAB8mEApXI\\u002fC9Rx9QJqZmZmZiX9AzczMzMzcWkAK16NwPbpYQBSuR+F61GNAhetRuB4omkDsUbgehauQQAAAAAAAXHpAAAAAAAC2nEAAAAAAAF6jQGZmZmbmVLlAH4XrUbg6eUB7FK5H4dpLQOxRuB6F6xJAhetRuB4FRED2KFyPwrU5QAAAAAAAQDtAKVyPwvUoDkAAAAAAAIAyQArXo3A9Ci5AhetRuB7FMkB7FK5H4ToxQAAAAAAAYEFAcD0K16MwPUB7FK5H4To2QArXo3A9CiRA16NwPQrXC0AAAAAAAAAmQBSuR+F6FBlAAAAAAAAAOkDXo3A9CtcLQNejcD0K1wtA7FG4HoXrF0DXo3A9CtcLQGZmZmZmpjJA16NwPQrXC0AK16NwPfGeQBSuR+F6ZGxAzczMzMzMEECkcD0K15qzQFyPwvUoXCtANDMzMzOzPUDXo3A9CldhQPYoXI\\u002fC9SJAKVyPwvUoJEA+CtejcD0uQAAAAAAAkFJAmpmZmZk5S0DC9Shcjz5\\u002fQArXo3A91ohAj8L1KFxBk0DMzMzMzKxFQGZmZmZmZkRA16NwPQqJiEAAAAAAAGB1QDMzMzMTt8JAAAAAAABQVkAVrkfhWkPGQDMzMzMzBYVAAAAAAAB2gkAzMzMzM+CZQAAAAAAAkoBAwvUoXI8UkEAAAAAAYE3JQGZmZmZmn5FAAAAAAACgR0AAAAAAAEK4QArXo3C9\\u002fKVAMzMzMzP7b0AzMzMzk4fRQK5H4Xo0bcdAAAAAACDL0UC4HoXroc\\u002fQQArXo3CNTNRAhetRuH4txEAAAAAAQIO0QGZmZmam189AMzMzM7N\\u002f20CamZmZGQGjQDMzMzMT5s5AZmZmZuY60kCamZmZWW7DQHsUrkfBUMxAFK5H4Qrd0kAAAAAAACBjQNejcD0KMbpAAAAAAADgUEAAAAAAAAAhQDMzMzMzNp9AAAAAAAD4dkCamZmZmduFQAAAAAAA0G5AXI\\u002fC9SjsgkA+CtejcLGDQHE9CtejDpVA9ihcj8LVh0DNzMzMzFqWQB+F61G4jnRAKVyPwvWAdkBI4XoUrtObQAAAAAAAHptAmpmZmZmDkkDNzMzMzBKGQJqZmZmZd5RAKVyPwvU+hkApXI\\u002fC9cKBQFyPwvUo4ZdA9Shcj8Jtj0B7FK5H4cqBQArXo3A9i59Aw\\u002fUoXI+QnUApXI\\u002fC9VCTQPYoXI\\u002fCaKJAZmZmZmZwkkAAAAAAACyRQGZmZmZmZh9AzczMzMyKjECamZmZmY2QQAAAAAAA+INAZ2ZmZmbRk0B7FK5HIYmwQEjhehSuH3JANDMzMzNhi0DNzMzMzNCDQGZmZmZm9mBAUrgehevJZUBxPQrXY464QPYoXI+CPchAcT0K12N7uEB7FK5H4XoSQD0K16NwE5RAAAAAAAC3qkAAAAAAAAmSQDMzMzMzc09AmpmZmZntcEDD9Shcj+WoQAvXo3A9q5pAAAAAAAC1rUAK16NwPdZ+QJqZmZmZyZtAAAAAAGC+xEBmZmZmZkKCQBWuR+F6VIBAcT0K16M4YkCamZmZmdkxQJqZmZmZmQdAmpmZmZmZN0AyMzMzM1NPQAAAAAAAgEZAAAAAAAAATkC4HoXrURh4QDQzMzMzU2hAmpmZmZkJdUAAAAAAAOhyQAAAAAAASGJA16NwPQohj0DC9Shcj2ZyQIXrUbge95lAH4XrUbh+gkCZmZmZmZObQJqZmZmZC41AMjMzMzMzWUBcj8L1KB6AQNejcD0Ka3hACtejcD2ejEBcj8L1KHhxQJmZmZmZZJBAwvUoXI\\u002fiYkCkcD0K15NmQOF6FK5H+4dAXI\\u002fC9ShsmUCkcD0Kl+a3QIXrUbieU89AUrgehevXhUAfhetRuKCRQLkehetRqI9AMzMzMzMTe0BSuB6F6y2MQIXrUbgeSZFAhetRuJ5MpUBmZmZmZmGbQAAAAAAA16dAAAAAAABYdEDXo3A9Sp25QAAAAAAAHZNAAAAAAAAgbEAUrkfhegReQAAAAAAAtIFAMzMzMzNHgkBmZmZmZliGQLgehetRsoVAKVyPwvW8g0DNzMzMzIKqQF2PwvUoxGpAzczMzMwMVkC4HoXrUfBjQM3MzMzMDGBAAAAAAACAWUBmZmZmZipxQAAAAAAAAHlAAAAAAADEd0AAAAAAANBhQAAAAAAAgHZAH4XrUbjuUkCkcD0K10itQPYoXI9CYaxAKVyPwvWoaUDNzMzMzEqHQEfhehSuJ11AZmZmZmYam0AzMzMzM7M9QAAAAAAA4HBAAAAAAACIYUAUrkfhejRYQFyPwvUonGpACtejcD0OdUDXo3A9Cst1QEjhehSuuZpAmpmZmZmZLkB7FK5H4fKAQEfhehSuZ4VAZmZmZmZGRkAVrkfhegqGQJmZmZmZaWFAAAAAAACIYUCamZmZmelhQGZmZmZmaqVASOF6FK53hUAUrkfheiaJQDMzMzMzoZNAzczMzMx8UkCamZmZmZODQJqZmZmZzXpAAAAAAKAhwEAzMzMzM4toQI\\u002fC9ShcK3RAmpmZmZmngEAAAAAAAIBDQClcj8L16IRAmpmZmZnjk0BmZmZmZmYkQMzMzMzMRGhAUrgehesdiUBnZmZmZn59QM3MzMzMzBVAAAAAAAAALEAAAAAAAIA4QAAAAAAAADVApHA9Cpeex0AfhetRuMKDQOtRuB6FZJFAZmZmZmadukBI4XoU3oHXQPYoXI9CG7JAmZmZmZnZUUBmZmZmZmY0QP\\u002f\\u002f\\u002f\\u002f\\u002f\\u002ff0lAMzMzMzOTQEBmZmZmZmYEQAAAAAAAADFAAAAAAAAAMUAAAAAAAAAhQAAAAAAAAEFAAAAAAAAgQ0CamZmZmWlbQJqZmZmZ+XZAAAAAAAAAMUAAAAAAAIA5QGZmZmZmZhRAUrgehesVcEDhehSuR4liQM3MzMzM\\u002fF1AHoXrUbjcj0DC9Shcj5J6QPYoXI\\u002fCE55Ao3A9CtfqqkBmZmZmZtZZQJmZmZmZ0WBAZmZmZmYWYECZmZmZmVlZQAAAAAAA0FpAmZmZmZnpVkAzMzMzM1NaQM3MzMzM3FhAmZmZmZlZWUDNzMzMzExbQM3MzMzMTFtA9ihcj8JVUUBcj8L1KDxVQI\\u002fC9Shcn1lAwvUoXI+SW0DC9ShcjyJZQFyPwvUorFdAj8L1KFyfWUCPwvUoXC9XQClcj8L1SFNAwvUoXI\\u002fSUUD2KFyPwoVjQM3MzMzMBINAmpmZmZnZikAAAAAAAMCSQPYoXI\\u002fCV5tAzczMzMzML0CamZmZGZqmQF2PwvUoiJVAw\\u002fUoXI8rl0Bdj8L1KP+VQGZmZmZmZj1Aw\\u002fUoXI97vEAoXI\\u002fC9WhpQAAAAAAAAPQ\\u002f9ihcj8L1+D8zMzMzM7MtQDMzMzMzd31AMzMzMzNhjEBwPQrXoxBwQDMzMzMzsz1AMzMzMzNNkkCamZmZmTlOQMzMzMzMaHpAzczMzMxcdUBmZmZmZgZEQK5H4XoUHnBAMzMzMzOvdkAzMzMzMxNPQM3MzMzMkHRAhetRuB71UEDNzMzMzJxuQM3MzMzMHoNA16NwPQrfnEBmZmZmZsuSQHsUrkdhRqJASOF6FK73VED\\u002f\\u002f\\u002f\\u002f\\u002f\\u002f89lQNejcD0KS3hArkfhelRrsEBwPQrXoyWnQAAAAAAAcFdAH4XrUbj+bUAAAAAAAAD0Px+F61G4FnVAj8L1KFzak0CjcD0K10WGQAIAAAAAgG1AHoXrUbhOg0DhehSuR2GoQFyPwvUoXolAAAAAAABAfUCkcD0KV9yjQOtRuB7FXbxAR+F6FK6rg0DMzMzMzDyPQFyPwvUop5FAXI\\u002fC9SjAekBRuB6F60qfQFK4HoXrg5dAehSuR+EEjkAAAAAAABR\\u002fQDMzMzMzLJ9APgrXo\\u002fBUrUBH4XoUrhuPQClcj8L1BIFAFK5H4XqTl0BSuB6Fa1qzQOF6FK7H\\u002fKlA9Shcj8IimkDrUbgehfmRQDMzMzOzz7tAw\\u002fUoXI\\u002fyjUCamZmZmQmVQMP1KFyPlZNApHA9CldStUCZmZmZmdOeQClcj8L1mpNAMzMzMzP9mUBxPQrXoySEQOtRuB6FgaNA4XoUrkcft0D2KFyPwmWjQGZmZmbmpsZAcD0K12MgsECkcD0KV\\u002fjPQPUoXI9CurpAmpmZmZk5UEAAAAAAAEBaQML1KFyPMq1A9ihcj8K1ckCPwvUoXA84QIXrUbgeRUVAHoXrUbh8hUAfhetROB69QHsUrkfhzIVAMzMzMzPXcECkcD0K11NVQDMzMzMzy2xAAAAAAAAATkCamZmZmXlMQAAAAAAAgDlAmpmZmZlRaEB7FK5H4bphQJmZmZmZGVZAmZmZmZnZPUAzMzMzM8NzQAAAAAAArIdAmZmZmZnPgkCQwvUo3D+2QHsUrkfhenlAw\\u002fUoXI\\u002fCc0DsUbgehat0QAAAAAAAgFtAPQrXozD1sEAzMzMzM2yUQHE9CtdD7sFAexSuR+GRrEApXI\\u002fCtZm2QJqZmZkZS7JAmpmZmZmthEDD9Shcf1jSQJqZmZkZh6pAAAAAAABckkAzMzMzswHEQJDC9SgEy+RAZ2ZmZsYxykApXI\\u002fC9W+TQOJ6FK6nT8dAmpmZmZkelkB7FK5H8QnZQAAAAAAA2HRAzczMzMwMfUAAAAAAANyQQM3MzMzMkoRAAAAAAIA8oEAAAAAAAPB5QAAAAAAATH1AAAAAAACalEAVrkfhesiFQFK4HoXrWXlAUrgehetBZ0CZmZmZmdlnQOF6FK5Hp4JACtejcD0ig0C4HoXrUUhgQJqZmZmZ2qpA7FG4HgUXtUBmZmZmZrOsQJqZmZmZ36pA4XoUrhPL8ED2KFyPwhqYQIXrUbgespNA9ihcj8Lqn0BI4XoUrouIQDMzMzMz+31AAAAAAABYd0CZmZmZmelyQMzMzMzMcH5AMzMzMzPjdUD1KFyPwsF5QAAAAAAAkHpA9Shcj8KpikDrUbgeBV2yQML1KFyP3nNAUrgehetRc0CjcD0K10t3QB+F61G4QodAMzMzMzNzTUA9CtejcJFwQAAAAAAAAC1A61G4HoWdgEAAAAAAAAAMQAAAAAAAGGVAcT0K16OOmkBmZmZmZjZUQAAAAAAAgEVAAAAAAACANUAAAAAAAAAcQArXo3C9TaFAMzMzMzNZhECPwvUoXKNwQArXo3C9tKtAZ2ZmZmY9lUDNzMzMzLmSQIXrUbgej45AFa5H4XoTokDNzMzMzNiSQAAAAAAAgEZAXI\\u002fC9ShcFkBSuB6F6xqZQIXrUbieKalAj8L1KFwDcEC4HoXr0TuvQMzMzMyM7bRAcT0K16MewkD2KFyPwh2IQGdmZmZmJoRAMzMzM4se50AAAAAAgBfFQJqZmZmZLqxApHA9CpeLsEBnZmZmJuq4QClcj8L1aHRAj8L1KFw9k0CF61G4HgVOQIXrUbhemrhANDMzMzN7aUAL16NwPc55QEjhehSuYYFAzMzMzMzMiEApXI\\u002fC9dBuQBSuR+F69IdArkfhehRamkB7FK5H4f6CQJqZmZmZyXZAZmZmZmYDoECZmZmZGQKqQJqZmZmZwWhANDMzMzNzTUBmZmZmZoZUQK5H4XoUFn1AZmZmZmamWEBcj8L1qCe1QM3MzMzMzCdAmZmZmZl5V0AAAAAAAEBVQLgeheuxscZAzczMzMzMa0BmZmZmZmYkQDMzMzMzcz5AzczMzMz8bEA0MzMzM7NNQAAAAAAAAEFAKFyPwvU4WEAK16NwPepuQAAAAAAAgDZAAAAAAAAAHkAAAAAAAAA7QAAAAAAASGRAAAAAAAAAJEBmZmZmZuZCQAAAAAAAgEFAhetRuB7NwEAzMzMzMzPrP8L1KFyPwgNAzczMzMzMQ0CamZmZmZkuQFK4HoXr2XZAMzMzMzMaokAUrkfhegxmQLgehetREoNAZmZmZmamQ0BmZmZmZqmgQD0K16Nw761AAAAAAACAJkAzMzMzM7NBQDMzMzMz23lAwvUoXI+3tkDNzMzMzEB7QKRwPQrXI0lAmZmZmZkZN0DMzMzMzHxyQDMzMzMz80ZArUfhehSuPUAAAAAAAAAuQAAAAAAAAC5A9ihcj8IXr0BI4XoUrruGQAAAAAAApHBAmZmZmZl5SEA9CtejcD0SQJqZmZmZeURAmpmZmZnZQUAzMzMzMzMZQM3MzMzMdGpAZmZmZmb6e0BnZmZmZqY0QDIzMzMzM29AmpmZmZmZN0DhehSuR+EqQM3MzMwsycZAAAAAAABQZkAAAAAAAAA+QDMzMzMz01RAH4XrUbieJkB7FK5HIRGxQJqZmZmZxX1AmpmZmZmFd0BnZmZmZqZuQJqZmZmZZYlAZmZmZmYmWEBSuB6F61FmQKRwPQrXe2JAAAAAAAAMcEBwPQrXo\\u002fBRQJDC9Shcj21ACtejcD1OgkAzMzMzM\\u002fNWQOF6FK5HOYxA\\u002f\\u002f\\u002f\\u002f\\u002f\\u002f\\u002ffT0AzMzMzM8toQJmZmZmZ2U1AZmZmZmbmO0AAAAAAAGx9QAAAAAAAwF1AAAAAAACoYkCamZmZGZaiQAAAAAAA3oBAmpmZmZl5ZUAAAAAAAMBNQAAAAAAAgH5AAAAAAACOgUC4HoXrUTqTQOxRuB6Ff7FAZmZmZmZmN0DsUbgeheteQFyPwvUocKxAAAAAAABkeUAAAAAAABKLQDMzMzMzM\\u002f8\\u002fAAAAAAAtpEABAAAAACKAQOxRuB6lo8xAZmZmZmb2ZECamZmZmUFvQNejcD0K72xAAAAAAAAkeEAAAAAAAAA+QGZmZmZmllFAAAAAAAAALkAzMzMzMyNqQGZmZmZmZkdAzMzMzMzMM0BnZmZmZjp2QGdmZmZmhlFAw\\u002fUoXI90gkDXo3A9ChdVQM3MzMzMLENAzczMzMxMT0AAAAAAAEh5QAAAAAAAgClAuB6F61GgdEDhehSuR5F8QPYoXI9CwbBArkfhetQgsUAAAAAAAIA9QAAAAAAAIENAzczMzMzMO0CE61G4Ho1rQM3MzMzMTFtAmpmZmZnZQUApXI\\u002fC9SgxQMP1KFyPQkxANDMzMzMTeUA1MzMzM4tjQHsUrkfhejFA7FG4HoUTe0AAAAAAAAAuQM3MzMzMzC9AAAAAAACQYECkcD0K1xOOQD4K16MwGLdA16NwPQo5jkDXo3A9Cg9yQOF6FK6HucJA\\u002f\\u002f\\u002f\\u002f\\u002fz89uUDMzMzMTLXHQLgehesRcsJAo3A9CtejvECkcD0Kd7LGQAAAAAAAWpNAKVyPwnUzoEApXI\\u002fC9ZKwQKRwPQrXN4pArkfhenRO10DhehSuR\\u002fWBQFyPwvUo9GtAAAAAAAAAGUAAAAAAAAAkQEjhehSuaY1AXI\\u002fC9SjZkUDMzMzMzGxWQAAAAABAY7VAhetRuB6vg0AAAAAAALhgQDMzMzOzXaFAZmZmZmZOYkAAAAAAAPqXQGZmZmZmZhRAAAAAAAAQUkCamZmZmYiYQITrUbgehSdAcT0K16OQYUAAAAAAAMB3QI\\u002fC9SjcKuJAAAAAAABMekBmZmZmZgqcQM3MzMxMsqxAuB6F69GZrkAK16NwPUmlQDMzMzMzQ2FAZ2ZmZmbkgEAK16NwPZJ1QD0K16NwCZNA16NwPQqNjEAAAAAAAPiWQAAAAAAAIFdAuR6F61FWwEAfhetROKOvQOF6FK5Hi5NAhutRuB48lkCkcD0K1+OCQAAAAAAAABFAKVyPwvXYpkBmZmZmZtCgQM3MzMzMVJBAmpmZmZmZH0AAAAAAAEBmQDMzMzMzy2RA7FG4HoV7W0AAAAAAAEBfQJmZmZmZ2T1ACtejcD0KG0CZmZmZmVlQQGZmZmZm7mpAZmZmZmbmJ0AK16NwvZKnQLgehetRGEhAMzMzMzOzMUDNzMzMzFRhQJqZmZmZeWRAmpmZmZnZMUAzMzMzMzPrP2ZmZmZmZjRAzMzMzMzMV0AAAAAAAIBZQDMzMzMzszFAAAAAAACANkCamZmZmVuIQAAAAAAAyGVAZmZmZmZmCkCZmZmZmZkuQAAAAAAAAARA16NwPQpHW0DiehSuR2EnQFyPwvUoPGFAuR6F65HjtUAAAAAAAFBpQJmZmZmZmTdA4XoUrmcG6UCamZmZmbFwQK5H4XoUMrtAXI\\u002fC9SicYkDhehSuR7eMQM3MzMzMXFBAzMzMzMzMF0AfhetRuKaCQIXrUbgevKpA4XoUrqdZ1ECamZmZ2di+QDMzMzMz00tAXI\\u002fC9WiBwEB7FK5H4Up6QDMzMzOzaqVAmpmZmRlnrUBmZmZmZhuhQM3MzMzMO6RAAAAAAIDpq0AAAAAAwFayQOtRuB6FMYBAcT0K14NEx0CamZmZmflcQM3MzMzMbGNAUrgehRsz10AAAAAAAGCFQM3MzMxMM6dAZmZmZmY+YkDNzMzMzFKDQPYoXI\\u002fCHpdAAAAAAABAT0ApXI\\u002fC9ZBgQLgehevxi8VAzczMzMxgg0DXo3A9iuihQM3MzMzMLGNAZmZmZmbQhkA9CtejcC2AQMP1KFzPRrpAUrgeheuzjkBmZmZmZsqmQFK4HoXrt59AmpmZmZmZR0DD9ShcDxDWQAAAAAAAeG5A16NwPQo+pEC4HoXrURiKQArXo3BdEcdAmpmZmZl5YEDhehSuRyeIQEjhehSuMZlA4XoUrkfgvkBcj8L1KBObQDMzMzMzw1NAmpmZmZmZR0AUrkfhegqYQAAAAAAAFoRAcD0K16MQQ0CPwvUoXG9bQAAAAAAAgCFAAAAAAIBIoUCamZmZmWl2QJqZmZmZE5xAmpmZmZmLikAVrkfhunSzQM3MzMzMPrFAZmZmZvZ80UCamZmZOcXDQLgehetRW6xAuB6F69EMpkAAAAAAAIx5QM3MzMxs2MdAZmZmZiZps0D2KFyPwkytQDQzMzMzOppAMzMzM\\u002fPytkB7FK5H4T7EQFyPwvXo97JAAAAAAADmlECamZmZmTGPQGZmZmYm7cFAw\\u002fUoXI\\u002fys0BxPQrXoxKUQDMzMzOzrLZAZmZmZmaskEBnZmZm5vGqQOxRuB6F54RAexSuR2Guo0C4HoXrURCNQJqZmZmZaatAkML1KNz0w0A0MzMzMzNZQArXo3A91rBAAAAAAIBQpEA0MzMzM7MhQAAAAAAAZHFAZmZmZqaas0C4HoXrUWCeQDMzMzMzn7tAXI\\u002fC9SjvmkDhehSuhyG4QFyPwvUoxIZACtejcO1d00DXo3A9CldxQAAAAAAAlpZANDMzMzOzJ0B7FK5Hof\\u002fJQGdmZmZm3n9AZmZmZmainUBSuB6FayakQAAAAAD6XAFBAAAAAICRwUAAAAAAAOiXQIXrUbiel8ZAZ2ZmZmbbrkAzMzMzc\\u002fDBQOF6FK5HobZAhetRuH7dw0AzMzMzM8+ZQArXo3A9tbJAexSuR2F+1kA9CtejcDOIQI\\u002fC9ShcZpNAmpmZmZk9h0A0MzMzM7MtQAAAAAAAgEZAZmZmZmYmS0AAAAAAAKBJQMP1KFyPGqZAAAAAAAAYb0DXo3A9ClGDQFyPwvUoXEFAexSuR+G6RUAAAAAAAMBMQJqZmZmZUWJA9Shcj8IlXUAK16NwPWSJQAAAAAAAgHdAZmZmZmZmM0BSuB6F6318QFK4HoXrdXFAUrgehetZdkA+CtejcH1zQFK4HoXr0bVAcT0K1yOnoEBmZmZm5t+qQKRwPQqX6c5AMzMzM7PVpkBmZmZmpkm4QHE9CtejjaNAR+F6FO5ZukD2KFyPwtikQGZmZmZmPZtA7FG4HhXw00AehetROHjBQJmZmZmZMZtAFK5H4XozoEDhehSux+ikQClcj8L1ko5A4XoUrsfxpUCamZmZmTGkQArXo3A9PZxAMzMzMzNWnUDD9ShcD\\u002fKoQOxRuB6FJ5FArkfhelQ6sEDD9Shcj5psQNajcD0Kt3lA9Shcj8K9ekDMzMzMzDRlQOxRuB6Fa3VANDMzMzMzb0AAAAAAAPCFQDMzMzMzU0FAKVyPwvUo9D+kcD0K10OYQAAAAAAAAA5AHoXrUbjWj0DNzMzMzOybQJmZmZmZKJdA16NwPQrcrEDXo3A9CqSeQOF6FK7H9KpAzczMzMykqEAzMzMzMzmFQAAAAAAAGoFAMzMzMzPzRkBmZmZmZvOWQFyPwvUorI9AzczMzMxamEAfhetROA+kQAAAAAAAgDZAAAAAAACluUAAAAAAAOhnQDIzMzMzo1RAAAAAAACQUkAAAAAAAGBHQAAAAAAAxHVAmpmZmZnZYUAAAAAAAAAuQArXo3A9in9AMzMzMzOzLUBI4XoUrt6TQAAAAAAAUIZAAAAAANA+2EBSuB6F60SZQEjhehTuI9FASOF6FK5HFUDsUbgehQtEQDQzMzMzszFAXI\\u002fC9aj\\u002frUAVrkfhOnm5QJqZmZmZCqFAmpmZmZl5ZEBmZmZmZlZRQClcj8JlKNFAZ2ZmZuYrokB7FK5HcZXVQDMzMzMzW2JAAAAAAADAQkDNzMzMzMxHQAAAAAAAAPQ\\u002fAAAAAAAALkAAAAAAACe1QOxRuB4F16BANDMzMzMTiEAzMzMzM+uFQGZmZmZmtlJAMzMzMzMbgEABAAAAAMaDQEjhehSuU4JAZmZmZmbmI0DMzMzMzEB4QGZmZmZm5jVAMzMzMzMzSUCuR+F6FD5gQBSuR+F6t55APQrXo3D9YkC4HoXrUTglQOF6FK5H74RAwvUoXI8DlUD2KFyPQkWjQAAAAAAA4GBAuB6F61E3qUDC9Shcj26EQDMzMzMzsZFAAAAAAADShUAAAAAAAE2TQHsUrkchBrhAAAAAAACNk0DNzMzMzMwAQAAAAAAAiHdAw\\u002fUoXA8FsUBmZmZmZkirQM7MzMzMTFtA16NwPQqZh0AAAAAAAL+SQJqZmZl5lNNAhetRuB4jhUCZmZmZmVlPQGZmZmZmLmZAuB6F61GMfUDsUbgehesHQArXo3D977NAzczMzMzjkkCamZmZmdGVQJqZmZmZ+45AMzMzMzMtnEDD9Shcj8yZQMP1KFyP\\u002fKVAZ2ZmZmYqoEAVrkfheqybQKRwPQrXU4BAKVyPwlUxwECPwvUo3LqgQM3MzMxMCLNAw\\u002fUoXA9FwEDNzMzMTDGpQIXrUbgeIrdAZmZmZuaPqkA+CtejcK+ZQHsUrkfhwJdAXI\\u002fC9Sh1kEB7FK5H4bybQAAAAAAAoExAzczMzMz8Y0BmZmZmZk5hQAAAAAAAsF9AAAAAAAAVukAAAAAAAD6HQEfhehQup79AexSuR2FIukDXo3A9Ske9QOxRuB6lmshAmZmZmZnIoEDiehSuR5ChQArXo3CdQ8lAFa5H4XrYmEAAAAAAADm5QDMzMzOz7qlAzczMzMzMUEB7FK5HoT6yQDUzMzMzs2FAMzMzMzOrnEAK16NwPSyQQAAAAAAAgDlAAAAAAAC6kkCPwvUoXHeJQGZmZmZm75tAZmZmZma6jUC4HoXrUaWeQJmZmZmZpZBAzMzMzMztmEAzMzMzMwuOQKRwPQrXAYBACtejcD2ifUCkcD0Kl8+2QHsUrkfh2l9AZ2ZmZmbUiUAAAAAAAGCHQD0K16Nw9aJAZmZmZubhtUD2KFyPIvLAQFyPwvXoeLlAmZmZmZmmlEAAAAAAAJCFQM3MzMxMlqFAAAAAAAA3ukAzMzMzkz7gQD0K16Pwr65AmZmZmZlqnUCamZmZmflLQMzMzMzMBHxAUrgehSvDsECkcD0KVye+QGdmZmZmlIRAAAAAAKAlwEAAAAAAAABuQM3MzMzMzBVAhetRuJ7s2UCuR+F6lLeyQGZmZmZmm6JA4XoUrkfDo0BSuB6Fa7WgQGZmZmZmdnpAehSuR+HXrUCZmZmZmVuSQM3MzMzMpGpAHoXrUTjapkDC9Shcj9evQNejcD0K53NApHA9CtdDWUB7FK5H4biRQI\\u002fC9ShcJZRA4XoUrkcloUAAAAAAAEiCQAAAAAAAwopAzczMzMwMOkD2KFyPAjqzQAAAAAAA+c9AZmZmZiZXsEBmZmZmpsy7QDMzMzMzKahAH4XrUbhadUAfhetRuKZ4QLgehetRkaRA4XoUrkcLm0A9CtejcD1sQHE9CtejtHRAZmZmZmYmgEApXI\\u002fCNZzLQLgehetRpHNAexSuR+GaXkDNzMzMzNhwQAAAAAAAk5JAj8L1KFxNlkAK16NwPfuzQD4K16NwwqlA7FG4HsW5sUBSuB6F6yaRQMP1KFyP7oBAAAAAAAAALkC4HoXrUbCKQOxRuB6F4YJA4XoUrkdhcECkcD0K1yuHQOJ6FK5HzKxAmpmZmZmZR0AAAAAAALaPQM3MzMyMp7NAhetRuB7xe0CuR+F6FKp8QFyPwvUoMoVA7FG4HkVov0B7FK5H4RGqQAAAAAAgtsBANDMzM7P800BSuB6F66uGQB+F61G4D59AZ2ZmZmYejEAfhetRuCirQClcj8L1oKVA9ihcj8Lom0AzMzMzM52CQGdmZmamNLZAAAAAAACwfEBmZmZmZuOsQD0K16MwSbdAuB6F69EMqECZmZmZmblNQBSuR+E6vbVAhetRuJ71vkDMzMzMzJeRQM3MzMxMmqFArkfhepRbqUB8FK5H4bJnQDMzMzOzcKdAAAAAAAAQcEC4HoXrUZLVQKRwPQpXm7JACtejcD19kkCuR+F6FKy4QEjhehQuVL5AC9ejcD2KckAzMzMzM892QPYoXI8Cl7pAhetRuP7YwkBSuB6F69KeQBSuR+F6TIpAmpmZmZndiUDNzMzMzMwfQAAAAAAAbJZAAAAAAADYdUDNzMzMzGRyQJmZmZmZSVlAXI\\u002fC9ehcwkCF61G4HuiVQAAAAAAAgClAPQrXo\\u002fDppEA9CtejcIl5QPYoXI\\u002fChW9ACtejcD1icEApXI\\u002fC9bhyQI\\u002fC9Shcx2NA\\u002f\\u002f\\u002f\\u002f\\u002f\\u002f\\u002fXa0CZmZmZmZlDQOF6FK5HUYBAKVyPwvXIZECZmZmZmRknQAAAAAAAsFVAAAAAAAA6gkCamZmZmY2MQDMzMzMz\\u002f5FANDMzM5NnyUC4HoXr4d3QQMzMzMzMzGxAzczMzMx8aECZmZmZmf18QK5H4XoUAoZASOF6FK7jdkD2KFyPwqODQAAAAAAA9H1AH4XrUbiWdUA9CtejcN1GQM3MzMzMzABArkfhehQgrkCPwvUoXBN\\u002fQI\\u002fC9ShcD09AAAAAAAAwVECF61G4HouUQEjhehQuPq9A4XoUrod4tUDsUbgehaGiQAAAAAAAAD5AzczMzEyjsEBmZmZmZg+eQFK4HoXr8YBAH4XrUbiOoUAyMzMzM7d\\u002fQHsUrkfhehJAPQrXo3A9HkBnZmZmZvqCQOxRuB6Fm5JANDMzMzNxhEAAAAAAAKBUQAAAAAAAAC5AZmZmZmZmQEDNzMzMzAxgQDMzMzMzBKRAzczMzMzMM0AAAAAAAIA5QAAAAAAAACFAAAAAAADgYEDNzMzMzPqAQHsUrkfhWm9AHoXrUbgGb0AAAAAAAEA6QLgehetR6GNAzczMzMzEdEAUrkfhevR0QEfhehSuZ39AhetRuB4BekAzMzMzcwW8QHA9CtejGo9AzczMzMw8X0CjcD0K14t7QJqZmZmZeVxAAAAAAACASUAAAAAAAOBPQAAAAAAAwDhAZ2ZmZmZGVkAAAAAAABBSQMzMzMzMzFlA4XoUrkcqlECZmZmZmWlhQAAAAAAAsGNAmpmZmZkhjUCuR+F6FG+0QDMzMzMzl3RAMzMzMzNLdUAAAAAAANhhQBSuR+F6hphAmpmZmZkLgUAfhetRuPZmQAAAAAAAkHVAAAAAAACALUAzMzMzM7MxQAAAAAAAMFRAmpmZmZnZMUAAAAAAAABRQGZmZmbm26RA4XoUrocftkCZmZmZmceSQK5H4XoUZn9AAAAAAACggkApXI\\u002fC9XqeQAAAAAAA8ZdAZ2ZmZmbskkAAAAAAgAGyQGZmZmZmQqBAAAAAAAA0d0D1KFyPwtmLQGZmZmZmv5dAAAAAAABookCZmZmZmdFgQClcj8L1iIdAMzMzMzNkmEAehetRuAJzQJqZmZmZgWdAZmZmZmY2ZECPwvUoXL9nQJmZmZmZvYtAzczMzMzYnkCamZmZmauLQGdmZmZmqINAmZmZmZkpWUA+CtejcN2IQDwK16NwzV5AR+F6FC5YsED2KFyPwu+wQD0K16NwMYhAFa5H4Xo0Y0CamZmZma6eQPYoXI\\u002fC4J9Aj8L1KFyLdkCQwvUoXIduQClcj8L157xA61G4HoXThkCamZmZmeWPQMzMzMzMLE9A16NwPQp5jUAAAAAAAFaVQOtRuB6FYp9ArkfhehR9s0CamZmZmYFgQFyPwvUolG9AAAAAAABFmEBI4XoUrqmBQKRwPQpXlaBAuR6F61G0gUDC9Shcj\\u002f53QI\\u002fC9Shch29AAAAAAABwiEBI4XoUrmt0QKRwPQrXkY9AXI\\u002fC9SgakUAfhetRuLqfQGZmZmZmg6tAZ2ZmZmaIiUAAAAAAAPaBQDQzMzMziYlAAQAAAABIhECamZmZmRknQArXo3A9fIBAAAAAAADAeEAAAAAAAHqCQJmZmZmZ4WVAmZmZmRmOukBcj8L1KDyUQBSuR+F6BF5ACtejcD0ug0DNzMzMzAK1QAAAAAAA0FBA4XoUrkdBYkCuR+F6FFpwQAAAAAAA0GpAZmZmZmZCcUBmZmZmZhZzQM3MzMzMTFtAmZmZmZmldUD2KFyPwoiRQOtRuB6F331AzczMzMxZnkCamZmZmYFlQI\\u002fC9Sgcq8NAAAAAAIA7tkAK16NwvWyjQHsUrkfh+khAPQrXo3ClYUC4HoXrUehUQAAAAAAA0F9ApHA9CtezZUAAAAAAgDWnQOF6FK5HYKhAzczMzEyKpUB7FK5H4feVQEjhehSuuKRAXI\\u002fC9UgY2EAzMzMzc1ywQIXrUbgeNZJAuB6F61GIj0DsUbgehZWVQOF6FK5H4RpAAAAAAAAAUkCuR+F6FISHQI\\u002fC9Shcb2NAZ2ZmZmZ8hkA0MzMzM7d4QML1KFyPQkJAAAAAAAA4gEDsUbgeheuIQJqZmZmZmRdAMzMzMzNTUUAAAAAAAGhxQGZmZmZmvmdAmZmZmZnnjECPwvUoXOOMQJqZmZmZdYdAPQrXo3A4nUAK16NwPdKfQPYoXI\\u002fCy51AAAAAAADQXEAVrkfheiiCQDIzMzMz93xAzczMzMyXpEB7FK5H4bC4QHsUrkfhNntA4XoUrkfZZ0AAAAAAgE6xQD0K16NwV5RA4XoUrofRx0AzMzMzs4y1QAAAAAAASG9AzczMzMxtrEBmZmZmZpqWQLgehevxCMFAmpmZmZl8mkD2KFyPwiqjQDMzMzMzt3BA\\u002f\\u002f\\u002f\\u002f\\u002f\\u002f+fREBnZmZmZi5qQDMzMzMzw1NAmZmZmZnZYUCamZmZmR+GQBSuR+F6pFFACtejcL0QpkCZmZmZmQllQIXrUbgeFV1AmpmZmZmDgECamZmZmYaTQMzMzMzMbHlAZmZmZmZshUCF61G4HgeTQJqZmZkZkaBAAAAAAACQh0D\\u002f\\u002f\\u002f\\u002f\\u002f\\u002f59LQJqZmZkZuaZAAAAAAACAOUCQwvUonNC6QGZmZmZmbntAZ2ZmZualu0BwPQrXo3iPQDMzMzMzRZdAAAAAAACKokBmZmZmZvufQMzMzMzMHG1AKVyPwvWQY0CF61G4Hnl8QFyPwvWo76NAMzMzMzMplEC4HoXrcTDAQK5H4XoUMoRA7FG4HoW2nkDMzMzMzCx3QAAAAAAAcGxAo3A9CtcDQ0DC9Shcj5qYQFK4HoXryWZAzczMzMxEeEBmZmZm5gumQAAAAAAAgIZArkfhepQrqUAK16NwPU52QHE9CtejFoZA16NwPQp4l0AAAAAAALSMQKRwPQrXcppAzczMzMzMAEB7FK5H4WyJQHE9CtcjYKlApHA9ClfXokAzMzMzM1\\u002fEQB+F61G4qplANDMzMzMnhkAAAAAAAJ23QKRwPQrX0Z5AZmZmZmZGRkDMzMzMzGxJQIXrUbgehVRAMzMzMzMzS0DC9Shcj1JaQNejcD0KV2dAmpmZmZkZJkDXo3A9CtclQLgehetRCGBAmZmZmZnZOkCamZmZmZkuQM3MzMxMuKBAmpmZmZmvi0AAAAAAAMA3QGZmZmZmnnZAAAAAAACMeUAzMzMzM9uNQOxRuB6FNJ9AexSuR2HvpUDsUbgehRmHQClcj8L1GJVAmpmZmZnJeEAAAAAAAMBMQI\\u002fC9Shc36FApHA9Cte5hUAfhetRuGiSQHsUrkdhUbhAMzMzM7O0oUAfhetRuGZxQJmZmZkZI6xA9ihcj2IdwkCPwvUovCDCQM3MzMzMyalAAAAAAADuoUAAAAAAgIesQClcj8J1fsNAzczMzEyRsUAAAAAAAABFQClcj8L16DtAKVyPwvUshkB7FK5H4Z6bQLgehetRIbJAMzMzMzNfiECPwvUoXGmSQFK4HoXrkYtAMzMzMzPjikDXo3A9CieNQNejcD0K65NAmpmZmZk7kEApXI\\u002fC9ThsQBSuR+F6TJ1Aj8L1KJxSvkAzMzMzsyOoQB+F61G4\\u002fZFAzczMzMyls0Bcj8L1KIymQAAAAAAAuK9AUrgehetVgEBmZmZmZvyBQNejcD0KvKNArkfhetQUu0C4HoXrUZSEQAAAAAAA4GpAAAAAAIDgpEA0MzMzM7MxQClcj8L1GFNAj8L1KFzHaUBmZmZmZj5lQBSuR+F69GpAUrgehev9gkA0MzMzM5NAQM3MzMzMzDNAzMzMzMyMOkA0MzMzM89xQGZmZmZmpk9AAAAAAAAAGUCamZmZmQlVQJqZmZmZ+U5AzczMzMzMR0AAAAAAAOBsQAAAAAAAmGNAAAAAAADkeEBSuB6F6xKRQEjhehSuIJNAwvUoXI9dk0BmZmZm5u+jQDMzMzMzMwtAAAAAAAAAEUDrUbgehV96QEjhehSu1YRAj8L1KFyZkkDNzMzMzMw3QAAAAAAAfH9AcT0K1yMqtkD2KFyPwjmAQK5H4XqUZKRAAAAAAAAgQkAfhetRuGKLQArXo3A92qNAMzMzMzPbc0CamZmZGTunQKRwPQrXD9xAFK5H4TqWs0B7FK5H4R6tQJDC9ShcArlAexSuR+GhpEDC9ShcD5SpQPYoXI+C6rNAKVyPwvXoSUDNzMzMzFRhQNejcD0K3YRAAAAAAAAAMUDNzMzMzMwTQK5H4XoUNohAzczMzMxogUAAAAAAAEAwQKRwPQrX549ApHA9CteWmUBcj8L1KIqQQDQzMzMz\\u002f59AAAAAAADKrEDhehSuR+HqPwrXo3A9+m1AXI\\u002fC9SjIgUApXI\\u002fCNUHJQGZmZmbmTq5AAAAAAACTtUBwPQrXo2aTQAAAAABAvLVA7FG4HoUeskApXI\\u002fCdaasQKRwPQpXULBAmpmZmdlQukBnZmZm5mKwQJDC9SgcnsBAMzMzMzNQukCkcD0K12WSQGZmZmZmFlBAAAAAAADAOEDNzMzMzAR6QFyPwvUo65pAmpmZmZnZMUCuR+F6FJrAQAAAAAAAIp1AAAAAAAAUg0AzMzMzM8tnQMzMzMzMDDNAAAAAAADAX0DD9ShcjzCOQAAAAAAAuGRAMzMzMzPDU0D\\u002f\\u002f\\u002f\\u002f\\u002f\\u002f09WQAAAAAAAuGRAAAAAAABghUA0MzMzM7MhQDQzMzMzy2xAAQAAAABwUkBcj8L1KKGZQGZmZmZmZklAAgAAAACgbUA0MzMzM\\u002f2CQAAAAAAAvb9AKVyPwvWChEBcj8L1KNxuQAAAAAAA4F9AAAAAAAAQYkCF61G4HtqRQM3MzMzMTGlA4XoUroeEtUCPwvUovGTEQOF6FK7HgKBA16NwPUp01EAzMzMzM22bQGdmZmZmg5JAuB6F69El1kDNzMzMzJOWQM3MzMzMxo9AAAAAAAA4ZUB6FK5H4epSQJmZmZmZ2V1AzczMzMzMU0BI4XoUrkc9QMP1KFyPwm1ArkfhehSScUB6FK5H4cJoQM3MzMzM7EpApHA9CtemkUC4HoXrUdSLQD0K16OwCrhAj8L1KFzHtEAfhetRuEKNQArXo3A9vo9AAAAAAECRsEBI4XoUrueTQPcoXI\\u002fCq4pAZmZmZmaefkCF61G4HkSgQDMzMzMzKYRAuB6F65FosUD\\u002f\\u002f\\u002f\\u002f\\u002ff8WsQGZmZmZmlptAwvUoXA9vo0DC9ShcjymoQDMzMzMzs01AzczMzMx+gEBSuB6Fq9qyQJqZmZmZ+ZVAzczMzMxsUEAAAAAAAMBiQJqZmZmZWTlAMzMzMzMjY0AK16NwPQoLQK5H4XoUIoZANDMzMzPfdUDMzMzMzAwzQM3MzMzMuJVAAAAAAABQgEDNzMzMzKCeQML1KFyPonhAAAAAAAAAPkCamZmZmYWEQFyPwvUovGVAmpmZmZmZF0AzMzMzM\\u002fNTQGZmZmZmpjRAAAAAAAAAIUAAAAAAACBDQDMzMzMzI1RAAAAAAABuiEDMzMzMzPR+QAAAAAAACHlAAAAAAABek0DhehSuRw+NQJqZmZmZ2TFAZ2ZmZma+jEAAAAAAAARxQJqZmZmZGUdAAAAAAADqmECamZmZmcqeQDMzMzNzBbdAAAAAAAAAIUAAAAAAAJ6pQGZmZmZmZgRAAAAAAAAALkCamZmZmYlwQI\\u002fC9Si888NAzczMzMwCi0AzMzMz80GzQHE9CtcjyrVASOF6FK6fYEBI4XoUrkdzQDMzMzMzz4dAmpmZmZmZB0CamZmZmdSWQAAAAAAAupFAmpmZmZnhYkApXI\\u002fC9aRzQAAAAAAAYFdAAAAAAABAREAAAAAAAEA6QGZmZmZmFadAmpmZmZlknUDXo3A9CpdAQDMzMzMzsy1Aj8L1KNxwukAK16NwPb5xQGZmZmZm5jxAzczMzMzMM0CamZmZmQGqQKNwPQrXXZRAKVyPwvWWikAAAAAAAAAWQFK4HoXrUQhAMzMzMzOdiUBH4XoUrkcqQJDC9SjcdsxAAAAAAAC4ckCF61G41s3gQOF6FK5Hp4lAo3A9Ctc1iUCPwvUoXPWIQBSuR+F6NJNAXI\\u002fC9SgAhkDNzMzMDMu0QJqZmZmZt7NAAAAAAABgVkAzMzMz8yC8QArXo3D9qcJAexSuR\\u002fEr0UDNzMzMTA23QMzMzMzMr6pAmpmZmZmItkCamZmZiXbTQGdmZmZmMpVAUrgehauUxkDC9ShcT7TBQJmZmZnZ0LBAW4\\u002fC9Si4qEBcj8L1KAGaQNejcD1qZMNAmpmZmZlJnUAzMzMzM1uFQIXrUbgepZFAPQrXo\\u002fBdvEAAAAAAAH+UQAAAAAAAkFpAexSuR+Eyc0AAAAAAAPBuQDQzMzOzpKhAUrgehet9pUC4HoXrUdBuQMzMzMzMDG1AcD0K16OWgEBnZmZmZiCDQM7MzMzMtHlArkfhejR7ykAAAAAAAJBSQDMzMzMzU1FAMzMzMzNTUUCamZmZmTlLQDMzMzMzg1dAMzMzMzOzTUAAAAAAAAAlQAAAAAAAQKdApHA9CteRnUAAAAAAAAA1QAAAAAAA+ahAAAAAAADIh0AAAAAAAIBRQAAAAAAAEpdAAAAAAAAQgUAAAAAAAAAlQAAAAAAA8GhAAAAAAADocEBI4XoUrk+fQI\\u002fC9ShcI5JAAAAAAABoikAzMzMzM1NxQAAAAAAA9pFApHA9Ctczp0AAAAAAAKyEQAAAAAAAAFVAAAAAAACciEAAAAAAAAA1QAAAAAAAOptAAAAAAAA4fEAAAAAAABSAQAAAAAAAKpVAAAAAAAA2okAAAAAAAF6gQAAAAAAA2qBAAAAAAAD8j0AAAAAAADSaQAAAAAAAAEVApHA9CtfEqkAAAAAAADCAQOJ6FK5HIT9AKVyPwvUak0AAAAAAANBdQAAAAAAASGJAAAAAAAAAMUAAAAAAAKBXQOF6FK5H\\u002fpdAKVyPwvVQjUDXo3A9CtclQDMzMzMzw1FAAAAAAADYeECamZmZmZlHQLgehetRuDNAXI\\u002fC9SjcLEAVrkfh+le6QAAAAAAAOH1AmpmZmZmZPkA+CtejcCmPQFyPwvUoX5VA16NwPQoQlUCuR+F6FDiFQMP1KFxPz71APQrXo3CZjUCYmZmZmSleQAAAAAAAkGVAmpmZmZn5TkD2KFyPwoGIQGdmZmZmxkpAXI\\u002fC9SgKiEBI4XoUbrm7QArXo3A9GlpA16NwPQrdjECQwvUoXP2dQClcj8L1T65AAAAAAAAwZUAzMzMzMwChQJqZmZmZmWNASOF6FK6nb0A=\"},\"yaxis\":\"y\",\"type\":\"bar\"}],                        {\"template\":{\"data\":{\"histogram2dcontour\":[{\"type\":\"histogram2dcontour\",\"colorbar\":{\"outlinewidth\":0,\"ticks\":\"\"},\"colorscale\":[[0.0,\"#0d0887\"],[0.1111111111111111,\"#46039f\"],[0.2222222222222222,\"#7201a8\"],[0.3333333333333333,\"#9c179e\"],[0.4444444444444444,\"#bd3786\"],[0.5555555555555556,\"#d8576b\"],[0.6666666666666666,\"#ed7953\"],[0.7777777777777778,\"#fb9f3a\"],[0.8888888888888888,\"#fdca26\"],[1.0,\"#f0f921\"]]}],\"choropleth\":[{\"type\":\"choropleth\",\"colorbar\":{\"outlinewidth\":0,\"ticks\":\"\"}}],\"histogram2d\":[{\"type\":\"histogram2d\",\"colorbar\":{\"outlinewidth\":0,\"ticks\":\"\"},\"colorscale\":[[0.0,\"#0d0887\"],[0.1111111111111111,\"#46039f\"],[0.2222222222222222,\"#7201a8\"],[0.3333333333333333,\"#9c179e\"],[0.4444444444444444,\"#bd3786\"],[0.5555555555555556,\"#d8576b\"],[0.6666666666666666,\"#ed7953\"],[0.7777777777777778,\"#fb9f3a\"],[0.8888888888888888,\"#fdca26\"],[1.0,\"#f0f921\"]]}],\"heatmap\":[{\"type\":\"heatmap\",\"colorbar\":{\"outlinewidth\":0,\"ticks\":\"\"},\"colorscale\":[[0.0,\"#0d0887\"],[0.1111111111111111,\"#46039f\"],[0.2222222222222222,\"#7201a8\"],[0.3333333333333333,\"#9c179e\"],[0.4444444444444444,\"#bd3786\"],[0.5555555555555556,\"#d8576b\"],[0.6666666666666666,\"#ed7953\"],[0.7777777777777778,\"#fb9f3a\"],[0.8888888888888888,\"#fdca26\"],[1.0,\"#f0f921\"]]}],\"contourcarpet\":[{\"type\":\"contourcarpet\",\"colorbar\":{\"outlinewidth\":0,\"ticks\":\"\"}}],\"contour\":[{\"type\":\"contour\",\"colorbar\":{\"outlinewidth\":0,\"ticks\":\"\"},\"colorscale\":[[0.0,\"#0d0887\"],[0.1111111111111111,\"#46039f\"],[0.2222222222222222,\"#7201a8\"],[0.3333333333333333,\"#9c179e\"],[0.4444444444444444,\"#bd3786\"],[0.5555555555555556,\"#d8576b\"],[0.6666666666666666,\"#ed7953\"],[0.7777777777777778,\"#fb9f3a\"],[0.8888888888888888,\"#fdca26\"],[1.0,\"#f0f921\"]]}],\"surface\":[{\"type\":\"surface\",\"colorbar\":{\"outlinewidth\":0,\"ticks\":\"\"},\"colorscale\":[[0.0,\"#0d0887\"],[0.1111111111111111,\"#46039f\"],[0.2222222222222222,\"#7201a8\"],[0.3333333333333333,\"#9c179e\"],[0.4444444444444444,\"#bd3786\"],[0.5555555555555556,\"#d8576b\"],[0.6666666666666666,\"#ed7953\"],[0.7777777777777778,\"#fb9f3a\"],[0.8888888888888888,\"#fdca26\"],[1.0,\"#f0f921\"]]}],\"mesh3d\":[{\"type\":\"mesh3d\",\"colorbar\":{\"outlinewidth\":0,\"ticks\":\"\"}}],\"scatter\":[{\"fillpattern\":{\"fillmode\":\"overlay\",\"size\":10,\"solidity\":0.2},\"type\":\"scatter\"}],\"parcoords\":[{\"type\":\"parcoords\",\"line\":{\"colorbar\":{\"outlinewidth\":0,\"ticks\":\"\"}}}],\"scatterpolargl\":[{\"type\":\"scatterpolargl\",\"marker\":{\"colorbar\":{\"outlinewidth\":0,\"ticks\":\"\"}}}],\"bar\":[{\"error_x\":{\"color\":\"#2a3f5f\"},\"error_y\":{\"color\":\"#2a3f5f\"},\"marker\":{\"line\":{\"color\":\"#E5ECF6\",\"width\":0.5},\"pattern\":{\"fillmode\":\"overlay\",\"size\":10,\"solidity\":0.2}},\"type\":\"bar\"}],\"scattergeo\":[{\"type\":\"scattergeo\",\"marker\":{\"colorbar\":{\"outlinewidth\":0,\"ticks\":\"\"}}}],\"scatterpolar\":[{\"type\":\"scatterpolar\",\"marker\":{\"colorbar\":{\"outlinewidth\":0,\"ticks\":\"\"}}}],\"histogram\":[{\"marker\":{\"pattern\":{\"fillmode\":\"overlay\",\"size\":10,\"solidity\":0.2}},\"type\":\"histogram\"}],\"scattergl\":[{\"type\":\"scattergl\",\"marker\":{\"colorbar\":{\"outlinewidth\":0,\"ticks\":\"\"}}}],\"scatter3d\":[{\"type\":\"scatter3d\",\"line\":{\"colorbar\":{\"outlinewidth\":0,\"ticks\":\"\"}},\"marker\":{\"colorbar\":{\"outlinewidth\":0,\"ticks\":\"\"}}}],\"scattermap\":[{\"type\":\"scattermap\",\"marker\":{\"colorbar\":{\"outlinewidth\":0,\"ticks\":\"\"}}}],\"scattermapbox\":[{\"type\":\"scattermapbox\",\"marker\":{\"colorbar\":{\"outlinewidth\":0,\"ticks\":\"\"}}}],\"scatterternary\":[{\"type\":\"scatterternary\",\"marker\":{\"colorbar\":{\"outlinewidth\":0,\"ticks\":\"\"}}}],\"scattercarpet\":[{\"type\":\"scattercarpet\",\"marker\":{\"colorbar\":{\"outlinewidth\":0,\"ticks\":\"\"}}}],\"carpet\":[{\"aaxis\":{\"endlinecolor\":\"#2a3f5f\",\"gridcolor\":\"white\",\"linecolor\":\"white\",\"minorgridcolor\":\"white\",\"startlinecolor\":\"#2a3f5f\"},\"baxis\":{\"endlinecolor\":\"#2a3f5f\",\"gridcolor\":\"white\",\"linecolor\":\"white\",\"minorgridcolor\":\"white\",\"startlinecolor\":\"#2a3f5f\"},\"type\":\"carpet\"}],\"table\":[{\"cells\":{\"fill\":{\"color\":\"#EBF0F8\"},\"line\":{\"color\":\"white\"}},\"header\":{\"fill\":{\"color\":\"#C8D4E3\"},\"line\":{\"color\":\"white\"}},\"type\":\"table\"}],\"barpolar\":[{\"marker\":{\"line\":{\"color\":\"#E5ECF6\",\"width\":0.5},\"pattern\":{\"fillmode\":\"overlay\",\"size\":10,\"solidity\":0.2}},\"type\":\"barpolar\"}],\"pie\":[{\"automargin\":true,\"type\":\"pie\"}]},\"layout\":{\"autotypenumbers\":\"strict\",\"colorway\":[\"#636efa\",\"#EF553B\",\"#00cc96\",\"#ab63fa\",\"#FFA15A\",\"#19d3f3\",\"#FF6692\",\"#B6E880\",\"#FF97FF\",\"#FECB52\"],\"font\":{\"color\":\"#2a3f5f\"},\"hovermode\":\"closest\",\"hoverlabel\":{\"align\":\"left\"},\"paper_bgcolor\":\"white\",\"plot_bgcolor\":\"#E5ECF6\",\"polar\":{\"bgcolor\":\"#E5ECF6\",\"angularaxis\":{\"gridcolor\":\"white\",\"linecolor\":\"white\",\"ticks\":\"\"},\"radialaxis\":{\"gridcolor\":\"white\",\"linecolor\":\"white\",\"ticks\":\"\"}},\"ternary\":{\"bgcolor\":\"#E5ECF6\",\"aaxis\":{\"gridcolor\":\"white\",\"linecolor\":\"white\",\"ticks\":\"\"},\"baxis\":{\"gridcolor\":\"white\",\"linecolor\":\"white\",\"ticks\":\"\"},\"caxis\":{\"gridcolor\":\"white\",\"linecolor\":\"white\",\"ticks\":\"\"}},\"coloraxis\":{\"colorbar\":{\"outlinewidth\":0,\"ticks\":\"\"}},\"colorscale\":{\"sequential\":[[0.0,\"#0d0887\"],[0.1111111111111111,\"#46039f\"],[0.2222222222222222,\"#7201a8\"],[0.3333333333333333,\"#9c179e\"],[0.4444444444444444,\"#bd3786\"],[0.5555555555555556,\"#d8576b\"],[0.6666666666666666,\"#ed7953\"],[0.7777777777777778,\"#fb9f3a\"],[0.8888888888888888,\"#fdca26\"],[1.0,\"#f0f921\"]],\"sequentialminus\":[[0.0,\"#0d0887\"],[0.1111111111111111,\"#46039f\"],[0.2222222222222222,\"#7201a8\"],[0.3333333333333333,\"#9c179e\"],[0.4444444444444444,\"#bd3786\"],[0.5555555555555556,\"#d8576b\"],[0.6666666666666666,\"#ed7953\"],[0.7777777777777778,\"#fb9f3a\"],[0.8888888888888888,\"#fdca26\"],[1.0,\"#f0f921\"]],\"diverging\":[[0,\"#8e0152\"],[0.1,\"#c51b7d\"],[0.2,\"#de77ae\"],[0.3,\"#f1b6da\"],[0.4,\"#fde0ef\"],[0.5,\"#f7f7f7\"],[0.6,\"#e6f5d0\"],[0.7,\"#b8e186\"],[0.8,\"#7fbc41\"],[0.9,\"#4d9221\"],[1,\"#276419\"]]},\"xaxis\":{\"gridcolor\":\"white\",\"linecolor\":\"white\",\"ticks\":\"\",\"title\":{\"standoff\":15},\"zerolinecolor\":\"white\",\"automargin\":true,\"zerolinewidth\":2},\"yaxis\":{\"gridcolor\":\"white\",\"linecolor\":\"white\",\"ticks\":\"\",\"title\":{\"standoff\":15},\"zerolinecolor\":\"white\",\"automargin\":true,\"zerolinewidth\":2},\"scene\":{\"xaxis\":{\"backgroundcolor\":\"#E5ECF6\",\"gridcolor\":\"white\",\"linecolor\":\"white\",\"showbackground\":true,\"ticks\":\"\",\"zerolinecolor\":\"white\",\"gridwidth\":2},\"yaxis\":{\"backgroundcolor\":\"#E5ECF6\",\"gridcolor\":\"white\",\"linecolor\":\"white\",\"showbackground\":true,\"ticks\":\"\",\"zerolinecolor\":\"white\",\"gridwidth\":2},\"zaxis\":{\"backgroundcolor\":\"#E5ECF6\",\"gridcolor\":\"white\",\"linecolor\":\"white\",\"showbackground\":true,\"ticks\":\"\",\"zerolinecolor\":\"white\",\"gridwidth\":2}},\"shapedefaults\":{\"line\":{\"color\":\"#2a3f5f\"}},\"annotationdefaults\":{\"arrowcolor\":\"#2a3f5f\",\"arrowhead\":0,\"arrowwidth\":1},\"geo\":{\"bgcolor\":\"white\",\"landcolor\":\"#E5ECF6\",\"subunitcolor\":\"white\",\"showland\":true,\"showlakes\":true,\"lakecolor\":\"white\"},\"title\":{\"x\":0.05},\"mapbox\":{\"style\":\"light\"}}},\"xaxis\":{\"anchor\":\"y\",\"domain\":[0.0,1.0],\"title\":{\"text\":\"Product Description\"},\"categoryorder\":\"total descending\"},\"yaxis\":{\"anchor\":\"x\",\"domain\":[0.0,1.0],\"title\":{\"text\":\"Revenue\"}},\"legend\":{\"tracegroupgap\":0},\"title\":{\"text\":\"Revenue by Product Description (filter: '')\"},\"barmode\":\"relative\"},                        {\"responsive\": true}                    ).then(function(){\n",
       "                            \n",
       "var gd = document.getElementById('0ff72fa8-cfc1-4922-824f-6d8970051f58');\n",
       "var x = new MutationObserver(function (mutations, observer) {{\n",
       "        var display = window.getComputedStyle(gd).display;\n",
       "        if (!display || display === 'none') {{\n",
       "            console.log([gd, 'removed!']);\n",
       "            Plotly.purge(gd);\n",
       "            observer.disconnect();\n",
       "        }}\n",
       "}});\n",
       "\n",
       "// Listen for the removal of the full notebook cells\n",
       "var notebookContainer = gd.closest('#notebook-container');\n",
       "if (notebookContainer) {{\n",
       "    x.observe(notebookContainer, {childList: true});\n",
       "}}\n",
       "\n",
       "// Listen for the clearing of the current output cell\n",
       "var outputEl = gd.closest('.output');\n",
       "if (outputEl) {{\n",
       "    x.observe(outputEl, {childList: true});\n",
       "}}\n",
       "\n",
       "                        })                };            </script>        </div>"
      ]
     },
     "metadata": {},
     "output_type": "display_data"
    },
    {
     "data": {
      "application/vnd.jupyter.widget-view+json": {
       "model_id": "f6498c7a3ccb445e9c9bbf2c6d25a797",
       "version_major": 2,
       "version_minor": 0
      },
      "text/plain": [
       "interactive(children=(Text(value='', description='Filter:'), Output()), _dom_classes=('widget-interact',))"
      ]
     },
     "metadata": {},
     "output_type": "display_data"
    },
    {
     "data": {
      "application/vnd.plotly.v1+json": {
       "config": {
        "plotlyServerURL": "https://plot.ly"
       },
       "data": [
        {
         "hovertemplate": "Product Description=%{x}<br>Revenue=%{y}<extra></extra>",
         "legendgroup": "",
         "marker": {
          "color": "#636efa",
          "pattern": {
           "shape": ""
          }
         },
         "name": "",
         "orientation": "v",
         "showlegend": false,
         "textposition": "auto",
         "type": "bar",
         "x": [
          "18PC WOODEN CUTLERY SET DISPOSABLE",
          "BUNNY WOODEN PAINTED WITH BIRD ",
          "BUNNY WOODEN PAINTED WITH FLOWER ",
          "GARLAND WOODEN HAPPY EASTER",
          "GIRAFFE WOODEN RULER",
          "GRASS HOPPER WOODEN WALL CLOCK ",
          "HEART WOODEN CHRISTMAS DECORATION",
          "JOY WOODEN BLOCK LETTERS",
          "MINI WOODEN HAPPY BIRTHDAY GARLAND",
          "NOEL WOODEN BLOCK LETTERS ",
          "PAINTED YELLOW WOODEN DAISY",
          "PEACE WOODEN BLOCK LETTERS",
          "POPART WOODEN PENCILS ASST",
          "REVOLVER WOODEN RULER ",
          "RUSTIC WOODEN CABINET, GLASS DOORS",
          "S/6 WOODEN SKITTLES IN COTTON BAG",
          "SET OF 2 WOODEN MARKET CRATES",
          "SET OF 3 PANTRY WOODEN SPOONS",
          "SET OF 3 WOODEN HEART DECORATIONS",
          "SET OF 3 WOODEN SLEIGH DECORATIONS",
          "SET OF 3 WOODEN STOCKING DECORATION",
          "SET OF 3 WOODEN TREE DECORATIONS",
          "STAR WOODEN CHRISTMAS DECORATION",
          "SWALLOW WOODEN CHRISTMAS DECORATION",
          "TRADITIONAL WOODEN CATCH CUP GAME ",
          "TRADITIONAL WOODEN SKIPPING ROPE",
          "VINTAGE WOODEN BAR STOOL",
          "WELCOME  WOODEN BLOCK LETTERS",
          "WOODEN ADVENT CALENDAR CREAM",
          "WOODEN ADVENT CALENDAR RED",
          "WOODEN BOX ADVENT CALENDAR ",
          "WOODEN BOX OF DOMINOES",
          "WOODEN CROQUET GARDEN SET",
          "WOODEN FRAME ANTIQUE WHITE ",
          "WOODEN HAPPY BIRTHDAY GARLAND",
          "WOODEN HEART CHRISTMAS SCANDINAVIAN",
          "WOODEN OWLS LIGHT GARLAND ",
          "WOODEN PICTURE FRAME WHITE FINISH",
          "WOODEN REGATTA BUNTING",
          "WOODEN ROUNDERS GARDEN SET ",
          "WOODEN SCHOOL COLOURING SET",
          "WOODEN SKITTLES GARDEN SET",
          "WOODEN STAR CHRISTMAS SCANDINAVIAN",
          "WOODEN TREE CHRISTMAS SCANDINAVIAN",
          "WOODEN UNION JACK BUNTING",
          "ZINC TOP  2 DOOR WOODEN SHELF "
         ],
         "xaxis": "x",
         "y": {
          "bdata": "MzMzMzOPgkAUrkfheqqCQLgehetR5HRAwvUoXI/HoECkcD0K16C6QHE9CtejQHRAKVyPwvXvnEDXo3A9CjWHQIXrUbieTKVA9ihcj8ITnkAzMzMzM8tsQHE9CtejjppAAAAAAADAd0AehetROHjBQGZmZmZmtlJAuB6F61E3qUBmZmZm5uG1QAAAAAAAAG5ArkfhepS3skBmZmZmZpuiQOF6FK5Hw6NAUrgehWu1oEAK16NwPdKfQIXrUbgeB5NAAAAAAICHrEApXI/CdX7DQAAAAAAAOGVAUrgehavaskDNzMzMDMu0QJqZmZmZt7NAAAAAAABgVkAzMzMz8yC8QArXo3D9qcJAexSuR/Er0UDNzMzMTA23QMzMzMzMr6pAmpmZmZmItkCamZmZiXbTQGdmZmZmMpVAUrgehauUxkDC9ShcT7TBQJmZmZnZ0LBAW4/C9Si4qEBcj8L1KAGaQNejcD1qZMNAAAAAAAAwZUA=",
          "dtype": "f8"
         },
         "yaxis": "y"
        }
       ],
       "layout": {
        "barmode": "relative",
        "legend": {
         "tracegroupgap": 0
        },
        "template": {
         "data": {
          "bar": [
           {
            "error_x": {
             "color": "#2a3f5f"
            },
            "error_y": {
             "color": "#2a3f5f"
            },
            "marker": {
             "line": {
              "color": "#E5ECF6",
              "width": 0.5
             },
             "pattern": {
              "fillmode": "overlay",
              "size": 10,
              "solidity": 0.2
             }
            },
            "type": "bar"
           }
          ],
          "barpolar": [
           {
            "marker": {
             "line": {
              "color": "#E5ECF6",
              "width": 0.5
             },
             "pattern": {
              "fillmode": "overlay",
              "size": 10,
              "solidity": 0.2
             }
            },
            "type": "barpolar"
           }
          ],
          "carpet": [
           {
            "aaxis": {
             "endlinecolor": "#2a3f5f",
             "gridcolor": "white",
             "linecolor": "white",
             "minorgridcolor": "white",
             "startlinecolor": "#2a3f5f"
            },
            "baxis": {
             "endlinecolor": "#2a3f5f",
             "gridcolor": "white",
             "linecolor": "white",
             "minorgridcolor": "white",
             "startlinecolor": "#2a3f5f"
            },
            "type": "carpet"
           }
          ],
          "choropleth": [
           {
            "colorbar": {
             "outlinewidth": 0,
             "ticks": ""
            },
            "type": "choropleth"
           }
          ],
          "contour": [
           {
            "colorbar": {
             "outlinewidth": 0,
             "ticks": ""
            },
            "colorscale": [
             [
              0,
              "#0d0887"
             ],
             [
              0.1111111111111111,
              "#46039f"
             ],
             [
              0.2222222222222222,
              "#7201a8"
             ],
             [
              0.3333333333333333,
              "#9c179e"
             ],
             [
              0.4444444444444444,
              "#bd3786"
             ],
             [
              0.5555555555555556,
              "#d8576b"
             ],
             [
              0.6666666666666666,
              "#ed7953"
             ],
             [
              0.7777777777777778,
              "#fb9f3a"
             ],
             [
              0.8888888888888888,
              "#fdca26"
             ],
             [
              1,
              "#f0f921"
             ]
            ],
            "type": "contour"
           }
          ],
          "contourcarpet": [
           {
            "colorbar": {
             "outlinewidth": 0,
             "ticks": ""
            },
            "type": "contourcarpet"
           }
          ],
          "heatmap": [
           {
            "colorbar": {
             "outlinewidth": 0,
             "ticks": ""
            },
            "colorscale": [
             [
              0,
              "#0d0887"
             ],
             [
              0.1111111111111111,
              "#46039f"
             ],
             [
              0.2222222222222222,
              "#7201a8"
             ],
             [
              0.3333333333333333,
              "#9c179e"
             ],
             [
              0.4444444444444444,
              "#bd3786"
             ],
             [
              0.5555555555555556,
              "#d8576b"
             ],
             [
              0.6666666666666666,
              "#ed7953"
             ],
             [
              0.7777777777777778,
              "#fb9f3a"
             ],
             [
              0.8888888888888888,
              "#fdca26"
             ],
             [
              1,
              "#f0f921"
             ]
            ],
            "type": "heatmap"
           }
          ],
          "histogram": [
           {
            "marker": {
             "pattern": {
              "fillmode": "overlay",
              "size": 10,
              "solidity": 0.2
             }
            },
            "type": "histogram"
           }
          ],
          "histogram2d": [
           {
            "colorbar": {
             "outlinewidth": 0,
             "ticks": ""
            },
            "colorscale": [
             [
              0,
              "#0d0887"
             ],
             [
              0.1111111111111111,
              "#46039f"
             ],
             [
              0.2222222222222222,
              "#7201a8"
             ],
             [
              0.3333333333333333,
              "#9c179e"
             ],
             [
              0.4444444444444444,
              "#bd3786"
             ],
             [
              0.5555555555555556,
              "#d8576b"
             ],
             [
              0.6666666666666666,
              "#ed7953"
             ],
             [
              0.7777777777777778,
              "#fb9f3a"
             ],
             [
              0.8888888888888888,
              "#fdca26"
             ],
             [
              1,
              "#f0f921"
             ]
            ],
            "type": "histogram2d"
           }
          ],
          "histogram2dcontour": [
           {
            "colorbar": {
             "outlinewidth": 0,
             "ticks": ""
            },
            "colorscale": [
             [
              0,
              "#0d0887"
             ],
             [
              0.1111111111111111,
              "#46039f"
             ],
             [
              0.2222222222222222,
              "#7201a8"
             ],
             [
              0.3333333333333333,
              "#9c179e"
             ],
             [
              0.4444444444444444,
              "#bd3786"
             ],
             [
              0.5555555555555556,
              "#d8576b"
             ],
             [
              0.6666666666666666,
              "#ed7953"
             ],
             [
              0.7777777777777778,
              "#fb9f3a"
             ],
             [
              0.8888888888888888,
              "#fdca26"
             ],
             [
              1,
              "#f0f921"
             ]
            ],
            "type": "histogram2dcontour"
           }
          ],
          "mesh3d": [
           {
            "colorbar": {
             "outlinewidth": 0,
             "ticks": ""
            },
            "type": "mesh3d"
           }
          ],
          "parcoords": [
           {
            "line": {
             "colorbar": {
              "outlinewidth": 0,
              "ticks": ""
             }
            },
            "type": "parcoords"
           }
          ],
          "pie": [
           {
            "automargin": true,
            "type": "pie"
           }
          ],
          "scatter": [
           {
            "fillpattern": {
             "fillmode": "overlay",
             "size": 10,
             "solidity": 0.2
            },
            "type": "scatter"
           }
          ],
          "scatter3d": [
           {
            "line": {
             "colorbar": {
              "outlinewidth": 0,
              "ticks": ""
             }
            },
            "marker": {
             "colorbar": {
              "outlinewidth": 0,
              "ticks": ""
             }
            },
            "type": "scatter3d"
           }
          ],
          "scattercarpet": [
           {
            "marker": {
             "colorbar": {
              "outlinewidth": 0,
              "ticks": ""
             }
            },
            "type": "scattercarpet"
           }
          ],
          "scattergeo": [
           {
            "marker": {
             "colorbar": {
              "outlinewidth": 0,
              "ticks": ""
             }
            },
            "type": "scattergeo"
           }
          ],
          "scattergl": [
           {
            "marker": {
             "colorbar": {
              "outlinewidth": 0,
              "ticks": ""
             }
            },
            "type": "scattergl"
           }
          ],
          "scattermap": [
           {
            "marker": {
             "colorbar": {
              "outlinewidth": 0,
              "ticks": ""
             }
            },
            "type": "scattermap"
           }
          ],
          "scattermapbox": [
           {
            "marker": {
             "colorbar": {
              "outlinewidth": 0,
              "ticks": ""
             }
            },
            "type": "scattermapbox"
           }
          ],
          "scatterpolar": [
           {
            "marker": {
             "colorbar": {
              "outlinewidth": 0,
              "ticks": ""
             }
            },
            "type": "scatterpolar"
           }
          ],
          "scatterpolargl": [
           {
            "marker": {
             "colorbar": {
              "outlinewidth": 0,
              "ticks": ""
             }
            },
            "type": "scatterpolargl"
           }
          ],
          "scatterternary": [
           {
            "marker": {
             "colorbar": {
              "outlinewidth": 0,
              "ticks": ""
             }
            },
            "type": "scatterternary"
           }
          ],
          "surface": [
           {
            "colorbar": {
             "outlinewidth": 0,
             "ticks": ""
            },
            "colorscale": [
             [
              0,
              "#0d0887"
             ],
             [
              0.1111111111111111,
              "#46039f"
             ],
             [
              0.2222222222222222,
              "#7201a8"
             ],
             [
              0.3333333333333333,
              "#9c179e"
             ],
             [
              0.4444444444444444,
              "#bd3786"
             ],
             [
              0.5555555555555556,
              "#d8576b"
             ],
             [
              0.6666666666666666,
              "#ed7953"
             ],
             [
              0.7777777777777778,
              "#fb9f3a"
             ],
             [
              0.8888888888888888,
              "#fdca26"
             ],
             [
              1,
              "#f0f921"
             ]
            ],
            "type": "surface"
           }
          ],
          "table": [
           {
            "cells": {
             "fill": {
              "color": "#EBF0F8"
             },
             "line": {
              "color": "white"
             }
            },
            "header": {
             "fill": {
              "color": "#C8D4E3"
             },
             "line": {
              "color": "white"
             }
            },
            "type": "table"
           }
          ]
         },
         "layout": {
          "annotationdefaults": {
           "arrowcolor": "#2a3f5f",
           "arrowhead": 0,
           "arrowwidth": 1
          },
          "autotypenumbers": "strict",
          "coloraxis": {
           "colorbar": {
            "outlinewidth": 0,
            "ticks": ""
           }
          },
          "colorscale": {
           "diverging": [
            [
             0,
             "#8e0152"
            ],
            [
             0.1,
             "#c51b7d"
            ],
            [
             0.2,
             "#de77ae"
            ],
            [
             0.3,
             "#f1b6da"
            ],
            [
             0.4,
             "#fde0ef"
            ],
            [
             0.5,
             "#f7f7f7"
            ],
            [
             0.6,
             "#e6f5d0"
            ],
            [
             0.7,
             "#b8e186"
            ],
            [
             0.8,
             "#7fbc41"
            ],
            [
             0.9,
             "#4d9221"
            ],
            [
             1,
             "#276419"
            ]
           ],
           "sequential": [
            [
             0,
             "#0d0887"
            ],
            [
             0.1111111111111111,
             "#46039f"
            ],
            [
             0.2222222222222222,
             "#7201a8"
            ],
            [
             0.3333333333333333,
             "#9c179e"
            ],
            [
             0.4444444444444444,
             "#bd3786"
            ],
            [
             0.5555555555555556,
             "#d8576b"
            ],
            [
             0.6666666666666666,
             "#ed7953"
            ],
            [
             0.7777777777777778,
             "#fb9f3a"
            ],
            [
             0.8888888888888888,
             "#fdca26"
            ],
            [
             1,
             "#f0f921"
            ]
           ],
           "sequentialminus": [
            [
             0,
             "#0d0887"
            ],
            [
             0.1111111111111111,
             "#46039f"
            ],
            [
             0.2222222222222222,
             "#7201a8"
            ],
            [
             0.3333333333333333,
             "#9c179e"
            ],
            [
             0.4444444444444444,
             "#bd3786"
            ],
            [
             0.5555555555555556,
             "#d8576b"
            ],
            [
             0.6666666666666666,
             "#ed7953"
            ],
            [
             0.7777777777777778,
             "#fb9f3a"
            ],
            [
             0.8888888888888888,
             "#fdca26"
            ],
            [
             1,
             "#f0f921"
            ]
           ]
          },
          "colorway": [
           "#636efa",
           "#EF553B",
           "#00cc96",
           "#ab63fa",
           "#FFA15A",
           "#19d3f3",
           "#FF6692",
           "#B6E880",
           "#FF97FF",
           "#FECB52"
          ],
          "font": {
           "color": "#2a3f5f"
          },
          "geo": {
           "bgcolor": "white",
           "lakecolor": "white",
           "landcolor": "#E5ECF6",
           "showlakes": true,
           "showland": true,
           "subunitcolor": "white"
          },
          "hoverlabel": {
           "align": "left"
          },
          "hovermode": "closest",
          "mapbox": {
           "style": "light"
          },
          "paper_bgcolor": "white",
          "plot_bgcolor": "#E5ECF6",
          "polar": {
           "angularaxis": {
            "gridcolor": "white",
            "linecolor": "white",
            "ticks": ""
           },
           "bgcolor": "#E5ECF6",
           "radialaxis": {
            "gridcolor": "white",
            "linecolor": "white",
            "ticks": ""
           }
          },
          "scene": {
           "xaxis": {
            "backgroundcolor": "#E5ECF6",
            "gridcolor": "white",
            "gridwidth": 2,
            "linecolor": "white",
            "showbackground": true,
            "ticks": "",
            "zerolinecolor": "white"
           },
           "yaxis": {
            "backgroundcolor": "#E5ECF6",
            "gridcolor": "white",
            "gridwidth": 2,
            "linecolor": "white",
            "showbackground": true,
            "ticks": "",
            "zerolinecolor": "white"
           },
           "zaxis": {
            "backgroundcolor": "#E5ECF6",
            "gridcolor": "white",
            "gridwidth": 2,
            "linecolor": "white",
            "showbackground": true,
            "ticks": "",
            "zerolinecolor": "white"
           }
          },
          "shapedefaults": {
           "line": {
            "color": "#2a3f5f"
           }
          },
          "ternary": {
           "aaxis": {
            "gridcolor": "white",
            "linecolor": "white",
            "ticks": ""
           },
           "baxis": {
            "gridcolor": "white",
            "linecolor": "white",
            "ticks": ""
           },
           "bgcolor": "#E5ECF6",
           "caxis": {
            "gridcolor": "white",
            "linecolor": "white",
            "ticks": ""
           }
          },
          "title": {
           "x": 0.05
          },
          "xaxis": {
           "automargin": true,
           "gridcolor": "white",
           "linecolor": "white",
           "ticks": "",
           "title": {
            "standoff": 15
           },
           "zerolinecolor": "white",
           "zerolinewidth": 2
          },
          "yaxis": {
           "automargin": true,
           "gridcolor": "white",
           "linecolor": "white",
           "ticks": "",
           "title": {
            "standoff": 15
           },
           "zerolinecolor": "white",
           "zerolinewidth": 2
          }
         }
        },
        "title": {
         "text": "Revenue by Product Description (filter: 'wooden ')"
        },
        "xaxis": {
         "anchor": "y",
         "categoryorder": "total descending",
         "domain": [
          0,
          1
         ],
         "title": {
          "text": "Product Description"
         }
        },
        "yaxis": {
         "anchor": "x",
         "domain": [
          0,
          1
         ],
         "title": {
          "text": "Revenue"
         }
        }
       }
      },
      "text/html": [
       "<div>            <script src=\"https://cdnjs.cloudflare.com/ajax/libs/mathjax/2.7.5/MathJax.js?config=TeX-AMS-MML_SVG\"></script><script type=\"text/javascript\">if (window.MathJax && window.MathJax.Hub && window.MathJax.Hub.Config) {window.MathJax.Hub.Config({SVG: {font: \"STIX-Web\"}});}</script>                <script type=\"text/javascript\">window.PlotlyConfig = {MathJaxConfig: 'local'};</script>\n",
       "        <script charset=\"utf-8\" src=\"https://cdn.plot.ly/plotly-3.0.1.min.js\"></script>                <div id=\"b1feb7ac-c367-4299-b607-31f13593cfd7\" class=\"plotly-graph-div\" style=\"height:525px; width:100%;\"></div>            <script type=\"text/javascript\">                window.PLOTLYENV=window.PLOTLYENV || {};                                if (document.getElementById(\"b1feb7ac-c367-4299-b607-31f13593cfd7\")) {                    Plotly.newPlot(                        \"b1feb7ac-c367-4299-b607-31f13593cfd7\",                        [{\"hovertemplate\":\"Product Description=%{x}\\u003cbr\\u003eRevenue=%{y}\\u003cextra\\u003e\\u003c\\u002fextra\\u003e\",\"legendgroup\":\"\",\"marker\":{\"color\":\"#636efa\",\"pattern\":{\"shape\":\"\"}},\"name\":\"\",\"orientation\":\"v\",\"showlegend\":false,\"textposition\":\"auto\",\"x\":[\"18PC WOODEN CUTLERY SET DISPOSABLE\",\"BUNNY WOODEN PAINTED WITH BIRD \",\"BUNNY WOODEN PAINTED WITH FLOWER \",\"GARLAND WOODEN HAPPY EASTER\",\"GIRAFFE WOODEN RULER\",\"GRASS HOPPER WOODEN WALL CLOCK \",\"HEART WOODEN CHRISTMAS DECORATION\",\"JOY WOODEN BLOCK LETTERS\",\"MINI WOODEN HAPPY BIRTHDAY GARLAND\",\"NOEL WOODEN BLOCK LETTERS \",\"PAINTED YELLOW WOODEN DAISY\",\"PEACE WOODEN BLOCK LETTERS\",\"POPART WOODEN PENCILS ASST\",\"REVOLVER WOODEN RULER \",\"RUSTIC WOODEN CABINET, GLASS DOORS\",\"S\\u002f6 WOODEN SKITTLES IN COTTON BAG\",\"SET OF 2 WOODEN MARKET CRATES\",\"SET OF 3 PANTRY WOODEN SPOONS\",\"SET OF 3 WOODEN HEART DECORATIONS\",\"SET OF 3 WOODEN SLEIGH DECORATIONS\",\"SET OF 3 WOODEN STOCKING DECORATION\",\"SET OF 3 WOODEN TREE DECORATIONS\",\"STAR WOODEN CHRISTMAS DECORATION\",\"SWALLOW WOODEN CHRISTMAS DECORATION\",\"TRADITIONAL WOODEN CATCH CUP GAME \",\"TRADITIONAL WOODEN SKIPPING ROPE\",\"VINTAGE WOODEN BAR STOOL\",\"WELCOME  WOODEN BLOCK LETTERS\",\"WOODEN ADVENT CALENDAR CREAM\",\"WOODEN ADVENT CALENDAR RED\",\"WOODEN BOX ADVENT CALENDAR \",\"WOODEN BOX OF DOMINOES\",\"WOODEN CROQUET GARDEN SET\",\"WOODEN FRAME ANTIQUE WHITE \",\"WOODEN HAPPY BIRTHDAY GARLAND\",\"WOODEN HEART CHRISTMAS SCANDINAVIAN\",\"WOODEN OWLS LIGHT GARLAND \",\"WOODEN PICTURE FRAME WHITE FINISH\",\"WOODEN REGATTA BUNTING\",\"WOODEN ROUNDERS GARDEN SET \",\"WOODEN SCHOOL COLOURING SET\",\"WOODEN SKITTLES GARDEN SET\",\"WOODEN STAR CHRISTMAS SCANDINAVIAN\",\"WOODEN TREE CHRISTMAS SCANDINAVIAN\",\"WOODEN UNION JACK BUNTING\",\"ZINC TOP  2 DOOR WOODEN SHELF \"],\"xaxis\":\"x\",\"y\":{\"dtype\":\"f8\",\"bdata\":\"MzMzMzOPgkAUrkfheqqCQLgehetR5HRAwvUoXI\\u002fHoECkcD0K16C6QHE9CtejQHRAKVyPwvXvnEDXo3A9CjWHQIXrUbieTKVA9ihcj8ITnkAzMzMzM8tsQHE9CtejjppAAAAAAADAd0AehetROHjBQGZmZmZmtlJAuB6F61E3qUBmZmZm5uG1QAAAAAAAAG5ArkfhepS3skBmZmZmZpuiQOF6FK5Hw6NAUrgehWu1oEAK16NwPdKfQIXrUbgeB5NAAAAAAICHrEApXI\\u002fCdX7DQAAAAAAAOGVAUrgehavaskDNzMzMDMu0QJqZmZmZt7NAAAAAAABgVkAzMzMz8yC8QArXo3D9qcJAexSuR\\u002fEr0UDNzMzMTA23QMzMzMzMr6pAmpmZmZmItkCamZmZiXbTQGdmZmZmMpVAUrgehauUxkDC9ShcT7TBQJmZmZnZ0LBAW4\\u002fC9Si4qEBcj8L1KAGaQNejcD1qZMNAAAAAAAAwZUA=\"},\"yaxis\":\"y\",\"type\":\"bar\"}],                        {\"template\":{\"data\":{\"histogram2dcontour\":[{\"type\":\"histogram2dcontour\",\"colorbar\":{\"outlinewidth\":0,\"ticks\":\"\"},\"colorscale\":[[0.0,\"#0d0887\"],[0.1111111111111111,\"#46039f\"],[0.2222222222222222,\"#7201a8\"],[0.3333333333333333,\"#9c179e\"],[0.4444444444444444,\"#bd3786\"],[0.5555555555555556,\"#d8576b\"],[0.6666666666666666,\"#ed7953\"],[0.7777777777777778,\"#fb9f3a\"],[0.8888888888888888,\"#fdca26\"],[1.0,\"#f0f921\"]]}],\"choropleth\":[{\"type\":\"choropleth\",\"colorbar\":{\"outlinewidth\":0,\"ticks\":\"\"}}],\"histogram2d\":[{\"type\":\"histogram2d\",\"colorbar\":{\"outlinewidth\":0,\"ticks\":\"\"},\"colorscale\":[[0.0,\"#0d0887\"],[0.1111111111111111,\"#46039f\"],[0.2222222222222222,\"#7201a8\"],[0.3333333333333333,\"#9c179e\"],[0.4444444444444444,\"#bd3786\"],[0.5555555555555556,\"#d8576b\"],[0.6666666666666666,\"#ed7953\"],[0.7777777777777778,\"#fb9f3a\"],[0.8888888888888888,\"#fdca26\"],[1.0,\"#f0f921\"]]}],\"heatmap\":[{\"type\":\"heatmap\",\"colorbar\":{\"outlinewidth\":0,\"ticks\":\"\"},\"colorscale\":[[0.0,\"#0d0887\"],[0.1111111111111111,\"#46039f\"],[0.2222222222222222,\"#7201a8\"],[0.3333333333333333,\"#9c179e\"],[0.4444444444444444,\"#bd3786\"],[0.5555555555555556,\"#d8576b\"],[0.6666666666666666,\"#ed7953\"],[0.7777777777777778,\"#fb9f3a\"],[0.8888888888888888,\"#fdca26\"],[1.0,\"#f0f921\"]]}],\"contourcarpet\":[{\"type\":\"contourcarpet\",\"colorbar\":{\"outlinewidth\":0,\"ticks\":\"\"}}],\"contour\":[{\"type\":\"contour\",\"colorbar\":{\"outlinewidth\":0,\"ticks\":\"\"},\"colorscale\":[[0.0,\"#0d0887\"],[0.1111111111111111,\"#46039f\"],[0.2222222222222222,\"#7201a8\"],[0.3333333333333333,\"#9c179e\"],[0.4444444444444444,\"#bd3786\"],[0.5555555555555556,\"#d8576b\"],[0.6666666666666666,\"#ed7953\"],[0.7777777777777778,\"#fb9f3a\"],[0.8888888888888888,\"#fdca26\"],[1.0,\"#f0f921\"]]}],\"surface\":[{\"type\":\"surface\",\"colorbar\":{\"outlinewidth\":0,\"ticks\":\"\"},\"colorscale\":[[0.0,\"#0d0887\"],[0.1111111111111111,\"#46039f\"],[0.2222222222222222,\"#7201a8\"],[0.3333333333333333,\"#9c179e\"],[0.4444444444444444,\"#bd3786\"],[0.5555555555555556,\"#d8576b\"],[0.6666666666666666,\"#ed7953\"],[0.7777777777777778,\"#fb9f3a\"],[0.8888888888888888,\"#fdca26\"],[1.0,\"#f0f921\"]]}],\"mesh3d\":[{\"type\":\"mesh3d\",\"colorbar\":{\"outlinewidth\":0,\"ticks\":\"\"}}],\"scatter\":[{\"fillpattern\":{\"fillmode\":\"overlay\",\"size\":10,\"solidity\":0.2},\"type\":\"scatter\"}],\"parcoords\":[{\"type\":\"parcoords\",\"line\":{\"colorbar\":{\"outlinewidth\":0,\"ticks\":\"\"}}}],\"scatterpolargl\":[{\"type\":\"scatterpolargl\",\"marker\":{\"colorbar\":{\"outlinewidth\":0,\"ticks\":\"\"}}}],\"bar\":[{\"error_x\":{\"color\":\"#2a3f5f\"},\"error_y\":{\"color\":\"#2a3f5f\"},\"marker\":{\"line\":{\"color\":\"#E5ECF6\",\"width\":0.5},\"pattern\":{\"fillmode\":\"overlay\",\"size\":10,\"solidity\":0.2}},\"type\":\"bar\"}],\"scattergeo\":[{\"type\":\"scattergeo\",\"marker\":{\"colorbar\":{\"outlinewidth\":0,\"ticks\":\"\"}}}],\"scatterpolar\":[{\"type\":\"scatterpolar\",\"marker\":{\"colorbar\":{\"outlinewidth\":0,\"ticks\":\"\"}}}],\"histogram\":[{\"marker\":{\"pattern\":{\"fillmode\":\"overlay\",\"size\":10,\"solidity\":0.2}},\"type\":\"histogram\"}],\"scattergl\":[{\"type\":\"scattergl\",\"marker\":{\"colorbar\":{\"outlinewidth\":0,\"ticks\":\"\"}}}],\"scatter3d\":[{\"type\":\"scatter3d\",\"line\":{\"colorbar\":{\"outlinewidth\":0,\"ticks\":\"\"}},\"marker\":{\"colorbar\":{\"outlinewidth\":0,\"ticks\":\"\"}}}],\"scattermap\":[{\"type\":\"scattermap\",\"marker\":{\"colorbar\":{\"outlinewidth\":0,\"ticks\":\"\"}}}],\"scattermapbox\":[{\"type\":\"scattermapbox\",\"marker\":{\"colorbar\":{\"outlinewidth\":0,\"ticks\":\"\"}}}],\"scatterternary\":[{\"type\":\"scatterternary\",\"marker\":{\"colorbar\":{\"outlinewidth\":0,\"ticks\":\"\"}}}],\"scattercarpet\":[{\"type\":\"scattercarpet\",\"marker\":{\"colorbar\":{\"outlinewidth\":0,\"ticks\":\"\"}}}],\"carpet\":[{\"aaxis\":{\"endlinecolor\":\"#2a3f5f\",\"gridcolor\":\"white\",\"linecolor\":\"white\",\"minorgridcolor\":\"white\",\"startlinecolor\":\"#2a3f5f\"},\"baxis\":{\"endlinecolor\":\"#2a3f5f\",\"gridcolor\":\"white\",\"linecolor\":\"white\",\"minorgridcolor\":\"white\",\"startlinecolor\":\"#2a3f5f\"},\"type\":\"carpet\"}],\"table\":[{\"cells\":{\"fill\":{\"color\":\"#EBF0F8\"},\"line\":{\"color\":\"white\"}},\"header\":{\"fill\":{\"color\":\"#C8D4E3\"},\"line\":{\"color\":\"white\"}},\"type\":\"table\"}],\"barpolar\":[{\"marker\":{\"line\":{\"color\":\"#E5ECF6\",\"width\":0.5},\"pattern\":{\"fillmode\":\"overlay\",\"size\":10,\"solidity\":0.2}},\"type\":\"barpolar\"}],\"pie\":[{\"automargin\":true,\"type\":\"pie\"}]},\"layout\":{\"autotypenumbers\":\"strict\",\"colorway\":[\"#636efa\",\"#EF553B\",\"#00cc96\",\"#ab63fa\",\"#FFA15A\",\"#19d3f3\",\"#FF6692\",\"#B6E880\",\"#FF97FF\",\"#FECB52\"],\"font\":{\"color\":\"#2a3f5f\"},\"hovermode\":\"closest\",\"hoverlabel\":{\"align\":\"left\"},\"paper_bgcolor\":\"white\",\"plot_bgcolor\":\"#E5ECF6\",\"polar\":{\"bgcolor\":\"#E5ECF6\",\"angularaxis\":{\"gridcolor\":\"white\",\"linecolor\":\"white\",\"ticks\":\"\"},\"radialaxis\":{\"gridcolor\":\"white\",\"linecolor\":\"white\",\"ticks\":\"\"}},\"ternary\":{\"bgcolor\":\"#E5ECF6\",\"aaxis\":{\"gridcolor\":\"white\",\"linecolor\":\"white\",\"ticks\":\"\"},\"baxis\":{\"gridcolor\":\"white\",\"linecolor\":\"white\",\"ticks\":\"\"},\"caxis\":{\"gridcolor\":\"white\",\"linecolor\":\"white\",\"ticks\":\"\"}},\"coloraxis\":{\"colorbar\":{\"outlinewidth\":0,\"ticks\":\"\"}},\"colorscale\":{\"sequential\":[[0.0,\"#0d0887\"],[0.1111111111111111,\"#46039f\"],[0.2222222222222222,\"#7201a8\"],[0.3333333333333333,\"#9c179e\"],[0.4444444444444444,\"#bd3786\"],[0.5555555555555556,\"#d8576b\"],[0.6666666666666666,\"#ed7953\"],[0.7777777777777778,\"#fb9f3a\"],[0.8888888888888888,\"#fdca26\"],[1.0,\"#f0f921\"]],\"sequentialminus\":[[0.0,\"#0d0887\"],[0.1111111111111111,\"#46039f\"],[0.2222222222222222,\"#7201a8\"],[0.3333333333333333,\"#9c179e\"],[0.4444444444444444,\"#bd3786\"],[0.5555555555555556,\"#d8576b\"],[0.6666666666666666,\"#ed7953\"],[0.7777777777777778,\"#fb9f3a\"],[0.8888888888888888,\"#fdca26\"],[1.0,\"#f0f921\"]],\"diverging\":[[0,\"#8e0152\"],[0.1,\"#c51b7d\"],[0.2,\"#de77ae\"],[0.3,\"#f1b6da\"],[0.4,\"#fde0ef\"],[0.5,\"#f7f7f7\"],[0.6,\"#e6f5d0\"],[0.7,\"#b8e186\"],[0.8,\"#7fbc41\"],[0.9,\"#4d9221\"],[1,\"#276419\"]]},\"xaxis\":{\"gridcolor\":\"white\",\"linecolor\":\"white\",\"ticks\":\"\",\"title\":{\"standoff\":15},\"zerolinecolor\":\"white\",\"automargin\":true,\"zerolinewidth\":2},\"yaxis\":{\"gridcolor\":\"white\",\"linecolor\":\"white\",\"ticks\":\"\",\"title\":{\"standoff\":15},\"zerolinecolor\":\"white\",\"automargin\":true,\"zerolinewidth\":2},\"scene\":{\"xaxis\":{\"backgroundcolor\":\"#E5ECF6\",\"gridcolor\":\"white\",\"linecolor\":\"white\",\"showbackground\":true,\"ticks\":\"\",\"zerolinecolor\":\"white\",\"gridwidth\":2},\"yaxis\":{\"backgroundcolor\":\"#E5ECF6\",\"gridcolor\":\"white\",\"linecolor\":\"white\",\"showbackground\":true,\"ticks\":\"\",\"zerolinecolor\":\"white\",\"gridwidth\":2},\"zaxis\":{\"backgroundcolor\":\"#E5ECF6\",\"gridcolor\":\"white\",\"linecolor\":\"white\",\"showbackground\":true,\"ticks\":\"\",\"zerolinecolor\":\"white\",\"gridwidth\":2}},\"shapedefaults\":{\"line\":{\"color\":\"#2a3f5f\"}},\"annotationdefaults\":{\"arrowcolor\":\"#2a3f5f\",\"arrowhead\":0,\"arrowwidth\":1},\"geo\":{\"bgcolor\":\"white\",\"landcolor\":\"#E5ECF6\",\"subunitcolor\":\"white\",\"showland\":true,\"showlakes\":true,\"lakecolor\":\"white\"},\"title\":{\"x\":0.05},\"mapbox\":{\"style\":\"light\"}}},\"xaxis\":{\"anchor\":\"y\",\"domain\":[0.0,1.0],\"title\":{\"text\":\"Product Description\"},\"categoryorder\":\"total descending\"},\"yaxis\":{\"anchor\":\"x\",\"domain\":[0.0,1.0],\"title\":{\"text\":\"Revenue\"}},\"legend\":{\"tracegroupgap\":0},\"title\":{\"text\":\"Revenue by Product Description (filter: 'wooden ')\"},\"barmode\":\"relative\"},                        {\"responsive\": true}                    ).then(function(){\n",
       "                            \n",
       "var gd = document.getElementById('b1feb7ac-c367-4299-b607-31f13593cfd7');\n",
       "var x = new MutationObserver(function (mutations, observer) {{\n",
       "        var display = window.getComputedStyle(gd).display;\n",
       "        if (!display || display === 'none') {{\n",
       "            console.log([gd, 'removed!']);\n",
       "            Plotly.purge(gd);\n",
       "            observer.disconnect();\n",
       "        }}\n",
       "}});\n",
       "\n",
       "// Listen for the removal of the full notebook cells\n",
       "var notebookContainer = gd.closest('#notebook-container');\n",
       "if (notebookContainer) {{\n",
       "    x.observe(notebookContainer, {childList: true});\n",
       "}}\n",
       "\n",
       "// Listen for the clearing of the current output cell\n",
       "var outputEl = gd.closest('.output');\n",
       "if (outputEl) {{\n",
       "    x.observe(outputEl, {childList: true});\n",
       "}}\n",
       "\n",
       "                        })                };            </script>        </div>"
      ]
     },
     "metadata": {},
     "output_type": "display_data"
    },
    {
     "data": {
      "text/plain": [
       "<function __main__.plot_revenue_by_product(filter_text='')>"
      ]
     },
     "execution_count": 19,
     "metadata": {},
     "output_type": "execute_result"
    }
   ],
   "source": [
    "\n",
    "agg_data = data.groupby('Description')['Revenue'].sum().reset_index()\n",
    "\n",
    "def plot_revenue_by_product(filter_text=\"\"):\n",
    "    # Filter the aggregated DataFrame: if filter_text is provided, filter case-insensitively;\n",
    "    # otherwise, show all products.\n",
    "    filtered = agg_data[agg_data['Description'].str.contains(filter_text, case=False, na=False)]\n",
    "    \n",
    "    # Create the bar chart: show revenue by product description.\n",
    "    fig = px.bar(\n",
    "        filtered, \n",
    "        x='Description', \n",
    "        y='Revenue',\n",
    "        title=f\"Revenue by Product Description (filter: '{filter_text}')\",\n",
    "        labels={'Revenue': 'Revenue', 'Description': 'Product Description'}\n",
    "    )\n",
    "    # Optionally, order categories by revenue.\n",
    "    fig.update_layout(xaxis={'categoryorder': 'total descending'})\n",
    "    fig.show()\n",
    "\n",
    "# Create an interactive widget with a text field.\n",
    "interact(plot_revenue_by_product, filter_text=widgets.Text(value=\"\", description=\"Filter:\"))\n"
   ]
  }
 ],
 "metadata": {
  "kernelspec": {
   "display_name": "Python 3",
   "language": "python",
   "name": "python3"
  },
  "language_info": {
   "codemirror_mode": {
    "name": "ipython",
    "version": 3
   },
   "file_extension": ".py",
   "mimetype": "text/x-python",
   "name": "python",
   "nbconvert_exporter": "python",
   "pygments_lexer": "ipython3",
   "version": "3.9.6"
  }
 },
 "nbformat": 4,
 "nbformat_minor": 2
}
